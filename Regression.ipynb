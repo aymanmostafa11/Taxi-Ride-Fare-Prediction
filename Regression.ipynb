{
 "cells": [
  {
   "cell_type": "code",
   "execution_count": 4,
   "source": [
    "# import gdown\n",
    "# gdown.download_folder('https://drive.google.com/drive/folders/1r9BARaPl-5odlOwCPE8LZJ1cFWRZGsYO?usp=sharing')"
   ],
   "outputs": [],
   "metadata": {
    "colab": {
     "base_uri": "https://localhost:8080/"
    },
    "id": "arWAAuiomMkG",
    "outputId": "d10553e7-bf41-4fc6-fb22-fe8bc1d302e5",
    "pycharm": {
     "name": "#%%\n"
    }
   }
  },
  {
   "cell_type": "code",
   "execution_count": 5,
   "source": [
    "import numpy as np\n",
    "import pandas as pd\n",
    "import matplotlib.pyplot as plt\n",
    "import seaborn as sns\n",
    "from sklearn import linear_model\n",
    "from sklearn import metrics\n",
    "from helpers import Model , PreProcessing"
   ],
   "outputs": [],
   "metadata": {
    "id": "0Z-TorJZgEvf",
    "pycharm": {
     "name": "#%%\n"
    }
   }
  },
  {
   "cell_type": "code",
   "execution_count": 6,
   "source": [
    "taxiRides = pd.read_csv('taxi/taxi-rides-Regression.csv')\n",
    "weather = pd.read_csv('taxi/weather.csv')\n",
    "\n",
    "# taxiRides = pd.read_csv('/content/taxi/taxi-rides.csv')\n",
    "# weather = pd.read_csv('/content/taxi/weather.csv')"
   ],
   "outputs": [],
   "metadata": {
    "id": "JFAJcYPpgEv5",
    "pycharm": {
     "name": "#%%\n"
    }
   }
  },
  {
   "cell_type": "code",
   "execution_count": 7,
   "source": [
    "print(f\"Taxi Rides has {taxiRides.shape[0]} Rows and {taxiRides.shape[1]} Columns\")\n",
    "taxiRides.head()"
   ],
   "outputs": [
    {
     "name": "stdout",
     "output_type": "stream",
     "text": [
      "Taxi Rides has 554456 Rows and 10 Columns\n"
     ]
    },
    {
     "data": {
      "text/plain": "   distance cab_type    time_stamp         destination  \\\n0      0.62     Uber  1.544770e+12            West End   \n1      2.27     Uber  1.543400e+12   Boston University   \n2      2.00     Lyft  1.544920e+12            Back Bay   \n3      3.98     Lyft  1.543620e+12  Financial District   \n4      1.49     Lyft  1.543580e+12            Back Bay   \n\n                    source  surge_multiplier  \\\n0         Haymarket Square               1.0   \n1              Beacon Hill               1.0   \n2         Haymarket Square               1.0   \n3  Northeastern University               1.0   \n4  Northeastern University               1.0   \n\n                                     id                            product_id  \\\n0  c1b4a572-24b2-484d-aac5-b4f97b790480  8cf7e821-f0d3-49c6-8eba-e679c0ebcf6a   \n1  f9e7e7e6-b309-479b-9f90-bf26a1870c81  997acbb5-e102-41e1-b155-9df7de0a73f2   \n2  154e8438-46f5-4e5f-9872-15cc95e85eed                                  lyft   \n3  6bdc30a6-9a80-487b-914e-8d9b82ee4acb                             lyft_plus   \n4  0cb12fe9-cd72-4feb-b341-4a566b2e6643                                  lyft   \n\n       name  price  \n0      Taxi    NaN  \n1  UberPool    8.0  \n2      Lyft   10.5  \n3   Lyft XL   22.5  \n4      Lyft    7.0  ",
      "text/html": "<div>\n<style scoped>\n    .dataframe tbody tr th:only-of-type {\n        vertical-align: middle;\n    }\n\n    .dataframe tbody tr th {\n        vertical-align: top;\n    }\n\n    .dataframe thead th {\n        text-align: right;\n    }\n</style>\n<table border=\"1\" class=\"dataframe\">\n  <thead>\n    <tr style=\"text-align: right;\">\n      <th></th>\n      <th>distance</th>\n      <th>cab_type</th>\n      <th>time_stamp</th>\n      <th>destination</th>\n      <th>source</th>\n      <th>surge_multiplier</th>\n      <th>id</th>\n      <th>product_id</th>\n      <th>name</th>\n      <th>price</th>\n    </tr>\n  </thead>\n  <tbody>\n    <tr>\n      <td>0</td>\n      <td>0.62</td>\n      <td>Uber</td>\n      <td>1.544770e+12</td>\n      <td>West End</td>\n      <td>Haymarket Square</td>\n      <td>1.0</td>\n      <td>c1b4a572-24b2-484d-aac5-b4f97b790480</td>\n      <td>8cf7e821-f0d3-49c6-8eba-e679c0ebcf6a</td>\n      <td>Taxi</td>\n      <td>NaN</td>\n    </tr>\n    <tr>\n      <td>1</td>\n      <td>2.27</td>\n      <td>Uber</td>\n      <td>1.543400e+12</td>\n      <td>Boston University</td>\n      <td>Beacon Hill</td>\n      <td>1.0</td>\n      <td>f9e7e7e6-b309-479b-9f90-bf26a1870c81</td>\n      <td>997acbb5-e102-41e1-b155-9df7de0a73f2</td>\n      <td>UberPool</td>\n      <td>8.0</td>\n    </tr>\n    <tr>\n      <td>2</td>\n      <td>2.00</td>\n      <td>Lyft</td>\n      <td>1.544920e+12</td>\n      <td>Back Bay</td>\n      <td>Haymarket Square</td>\n      <td>1.0</td>\n      <td>154e8438-46f5-4e5f-9872-15cc95e85eed</td>\n      <td>lyft</td>\n      <td>Lyft</td>\n      <td>10.5</td>\n    </tr>\n    <tr>\n      <td>3</td>\n      <td>3.98</td>\n      <td>Lyft</td>\n      <td>1.543620e+12</td>\n      <td>Financial District</td>\n      <td>Northeastern University</td>\n      <td>1.0</td>\n      <td>6bdc30a6-9a80-487b-914e-8d9b82ee4acb</td>\n      <td>lyft_plus</td>\n      <td>Lyft XL</td>\n      <td>22.5</td>\n    </tr>\n    <tr>\n      <td>4</td>\n      <td>1.49</td>\n      <td>Lyft</td>\n      <td>1.543580e+12</td>\n      <td>Back Bay</td>\n      <td>Northeastern University</td>\n      <td>1.0</td>\n      <td>0cb12fe9-cd72-4feb-b341-4a566b2e6643</td>\n      <td>lyft</td>\n      <td>Lyft</td>\n      <td>7.0</td>\n    </tr>\n  </tbody>\n</table>\n</div>"
     },
     "execution_count": 7,
     "metadata": {},
     "output_type": "execute_result"
    }
   ],
   "metadata": {
    "colab": {
     "base_uri": "https://localhost:8080/",
     "height": 354
    },
    "id": "3vvtqdwOgEv_",
    "outputId": "7daaf31e-5c65-462a-c1b3-aa70c5d85d3e",
    "pycharm": {
     "name": "#%%\n"
    }
   }
  },
  {
   "cell_type": "code",
   "execution_count": 8,
   "source": [
    "print(f\"Weather has {weather.shape[0]} Rows and {weather.shape[1]} Columns\")\n",
    "weather.head()"
   ],
   "outputs": [
    {
     "name": "stdout",
     "output_type": "stream",
     "text": [
      "Weather has 6276 Rows and 8 Columns\n"
     ]
    },
    {
     "data": {
      "text/plain": "    temp            location  clouds  pressure    rain  time_stamp  humidity  \\\n0  42.42            Back Bay     1.0   1012.14  0.1228  1545003901      0.77   \n1  42.43         Beacon Hill     1.0   1012.15  0.1846  1545003901      0.76   \n2  42.50   Boston University     1.0   1012.15  0.1089  1545003901      0.76   \n3  42.11              Fenway     1.0   1012.13  0.0969  1545003901      0.77   \n4  43.13  Financial District     1.0   1012.14  0.1786  1545003901      0.75   \n\n    wind  \n0  11.25  \n1  11.32  \n2  11.07  \n3  11.09  \n4  11.49  ",
      "text/html": "<div>\n<style scoped>\n    .dataframe tbody tr th:only-of-type {\n        vertical-align: middle;\n    }\n\n    .dataframe tbody tr th {\n        vertical-align: top;\n    }\n\n    .dataframe thead th {\n        text-align: right;\n    }\n</style>\n<table border=\"1\" class=\"dataframe\">\n  <thead>\n    <tr style=\"text-align: right;\">\n      <th></th>\n      <th>temp</th>\n      <th>location</th>\n      <th>clouds</th>\n      <th>pressure</th>\n      <th>rain</th>\n      <th>time_stamp</th>\n      <th>humidity</th>\n      <th>wind</th>\n    </tr>\n  </thead>\n  <tbody>\n    <tr>\n      <td>0</td>\n      <td>42.42</td>\n      <td>Back Bay</td>\n      <td>1.0</td>\n      <td>1012.14</td>\n      <td>0.1228</td>\n      <td>1545003901</td>\n      <td>0.77</td>\n      <td>11.25</td>\n    </tr>\n    <tr>\n      <td>1</td>\n      <td>42.43</td>\n      <td>Beacon Hill</td>\n      <td>1.0</td>\n      <td>1012.15</td>\n      <td>0.1846</td>\n      <td>1545003901</td>\n      <td>0.76</td>\n      <td>11.32</td>\n    </tr>\n    <tr>\n      <td>2</td>\n      <td>42.50</td>\n      <td>Boston University</td>\n      <td>1.0</td>\n      <td>1012.15</td>\n      <td>0.1089</td>\n      <td>1545003901</td>\n      <td>0.76</td>\n      <td>11.07</td>\n    </tr>\n    <tr>\n      <td>3</td>\n      <td>42.11</td>\n      <td>Fenway</td>\n      <td>1.0</td>\n      <td>1012.13</td>\n      <td>0.0969</td>\n      <td>1545003901</td>\n      <td>0.77</td>\n      <td>11.09</td>\n    </tr>\n    <tr>\n      <td>4</td>\n      <td>43.13</td>\n      <td>Financial District</td>\n      <td>1.0</td>\n      <td>1012.14</td>\n      <td>0.1786</td>\n      <td>1545003901</td>\n      <td>0.75</td>\n      <td>11.49</td>\n    </tr>\n  </tbody>\n</table>\n</div>"
     },
     "execution_count": 8,
     "metadata": {},
     "output_type": "execute_result"
    }
   ],
   "metadata": {
    "colab": {
     "base_uri": "https://localhost:8080/",
     "height": 223
    },
    "id": "iYKr_Fp5gEwF",
    "outputId": "8c58d291-71ad-45d9-efe9-98dd712c00a8",
    "scrolled": false,
    "pycharm": {
     "name": "#%%\n"
    }
   }
  },
  {
   "cell_type": "markdown",
   "source": [
    "# Data Cleaning"
   ],
   "metadata": {
    "id": "g9hWHOakgEwJ",
    "pycharm": {
     "name": "#%% md\n"
    }
   }
  },
  {
   "cell_type": "markdown",
   "source": [
    "## Taxi Rides"
   ],
   "metadata": {
    "id": "FxAg-M9rgEwS",
    "pycharm": {
     "name": "#%% md\n"
    }
   }
  },
  {
   "cell_type": "code",
   "execution_count": 9,
   "source": [
    "taxiRides.info()"
   ],
   "outputs": [
    {
     "name": "stdout",
     "output_type": "stream",
     "text": [
      "<class 'pandas.core.frame.DataFrame'>\n",
      "RangeIndex: 554456 entries, 0 to 554455\n",
      "Data columns (total 10 columns):\n",
      "distance            554456 non-null float64\n",
      "cab_type            554456 non-null object\n",
      "time_stamp          554456 non-null float64\n",
      "destination         554456 non-null object\n",
      "source              554456 non-null object\n",
      "surge_multiplier    554456 non-null float64\n",
      "id                  554456 non-null object\n",
      "product_id          554456 non-null object\n",
      "name                554456 non-null object\n",
      "price               510321 non-null float64\n",
      "dtypes: float64(4), object(6)\n",
      "memory usage: 42.3+ MB\n"
     ]
    }
   ],
   "metadata": {
    "colab": {
     "base_uri": "https://localhost:8080/"
    },
    "id": "D8L2oFhegEwY",
    "outputId": "eba90cce-7be4-4f61-a0c2-e9305bd2f9ab",
    "scrolled": true,
    "pycharm": {
     "name": "#%%\n"
    }
   }
  },
  {
   "cell_type": "markdown",
   "source": [
    "## Null"
   ],
   "metadata": {
    "id": "b5cZp83vgEwh",
    "pycharm": {
     "name": "#%% md\n"
    }
   }
  },
  {
   "cell_type": "code",
   "execution_count": 10,
   "source": [
    "print(\"Null Values in columns\")\n",
    "taxiRides.isnull().sum()"
   ],
   "outputs": [
    {
     "name": "stdout",
     "output_type": "stream",
     "text": [
      "Null Values in columns\n"
     ]
    },
    {
     "data": {
      "text/plain": "distance                0\ncab_type                0\ntime_stamp              0\ndestination             0\nsource                  0\nsurge_multiplier        0\nid                      0\nproduct_id              0\nname                    0\nprice               44135\ndtype: int64"
     },
     "execution_count": 10,
     "metadata": {},
     "output_type": "execute_result"
    }
   ],
   "metadata": {
    "colab": {
     "base_uri": "https://localhost:8080/"
    },
    "id": "yeQWF9iLgEwk",
    "outputId": "b4856c72-764b-420a-d9a4-2e9db4d93fa8",
    "scrolled": true,
    "pycharm": {
     "name": "#%%\n"
    }
   }
  },
  {
   "cell_type": "markdown",
   "source": [
    "## product_id and name"
   ],
   "metadata": {
    "id": "BCkljrZhgEwm",
    "pycharm": {
     "name": "#%% md\n"
    }
   }
  },
  {
   "cell_type": "code",
   "execution_count": 11,
   "source": [
    "print(f\"Value counts of 'product_id' feature\\n\")\n",
    "taxiRides['product_id'].value_counts()"
   ],
   "outputs": [
    {
     "name": "stdout",
     "output_type": "stream",
     "text": [
      "Value counts of 'product_id' feature\n",
      "\n"
     ]
    },
    {
     "data": {
      "text/plain": "55c66225-fbe7-4fd5-9072-eab1ece5e23e    44204\n8cf7e821-f0d3-49c6-8eba-e679c0ebcf6a    44135\n997acbb5-e102-41e1-b155-9df7de0a73f2    44108\n6d318bcc-22a3-4af6-bddd-b409bfce1546    44038\n9a0e7b09-b92b-4c41-9779-2ad22b4d779d    44024\n6f72dfc5-27f1-42e8-84db-ccc7a75f6969    43983\n6c84fd89-3f11-4782-9b50-97c468b19529    43977\nlyft_plus                               41142\nlyft_lux                                41041\nlyft                                    41015\nlyft_luxsuv                             40979\nlyft_premier                            40969\nlyft_line                               40841\nName: product_id, dtype: int64"
     },
     "execution_count": 11,
     "metadata": {},
     "output_type": "execute_result"
    }
   ],
   "metadata": {
    "colab": {
     "base_uri": "https://localhost:8080/"
    },
    "id": "TVOrLS2qgEwo",
    "outputId": "eaf1edcb-7a82-4922-947a-235eecc210ed",
    "scrolled": true,
    "pycharm": {
     "name": "#%%\n"
    }
   }
  },
  {
   "cell_type": "code",
   "execution_count": 12,
   "source": [
    "print(f\"Value counts of 'name' feature\\n\")\n",
    "taxiRides['name'].value_counts()"
   ],
   "outputs": [
    {
     "name": "stdout",
     "output_type": "stream",
     "text": [
      "Value counts of 'name' feature\n",
      "\n"
     ]
    },
    {
     "data": {
      "text/plain": "UberX           44204\nTaxi            44135\nUberPool        44108\nBlack SUV       44038\nWAV             44024\nUberXL          43983\nBlack           43977\nLyft XL         41142\nLux Black       41041\nLyft            41015\nLux Black XL    40979\nLux             40969\nShared          40841\nName: name, dtype: int64"
     },
     "execution_count": 12,
     "metadata": {},
     "output_type": "execute_result"
    }
   ],
   "metadata": {
    "colab": {
     "base_uri": "https://localhost:8080/"
    },
    "id": "P_AEN5VigEws",
    "outputId": "a955d16c-e05e-437c-c284-00cc36fcf1cb",
    "pycharm": {
     "name": "#%%\n"
    }
   }
  },
  {
   "cell_type": "markdown",
   "source": [
    "product_id and name represent the same feature so we can drop one of them"
   ],
   "metadata": {
    "id": "EOcX1qLUgEwu",
    "pycharm": {
     "name": "#%% md\n"
    }
   }
  },
  {
   "cell_type": "markdown",
   "source": [
    "## Encoding Timestamps to date"
   ],
   "metadata": {
    "id": "b1_DvW9dgEwv",
    "pycharm": {
     "name": "#%% md\n"
    }
   }
  },
  {
   "cell_type": "code",
   "execution_count": 13,
   "source": [
    "weatherDate = pd.to_datetime(weather['time_stamp'], unit='s').apply(lambda x: x.strftime(('%Y-%m-%d')))\n",
    "taxiRidesDate = pd.to_datetime(taxiRides['time_stamp'], unit='ms').apply(lambda x: x.strftime(('%Y-%m-%d')))\n",
    "weather['date'] = weatherDate\n",
    "taxiRides['date'] = taxiRidesDate"
   ],
   "outputs": [],
   "metadata": {
    "id": "1YHUXXUcgEwx",
    "pycharm": {
     "name": "#%%\n"
    }
   }
  },
  {
   "cell_type": "code",
   "execution_count": 14,
   "source": [
    "taxiRides.head()"
   ],
   "outputs": [
    {
     "data": {
      "text/plain": "   distance cab_type    time_stamp         destination  \\\n0      0.62     Uber  1.544770e+12            West End   \n1      2.27     Uber  1.543400e+12   Boston University   \n2      2.00     Lyft  1.544920e+12            Back Bay   \n3      3.98     Lyft  1.543620e+12  Financial District   \n4      1.49     Lyft  1.543580e+12            Back Bay   \n\n                    source  surge_multiplier  \\\n0         Haymarket Square               1.0   \n1              Beacon Hill               1.0   \n2         Haymarket Square               1.0   \n3  Northeastern University               1.0   \n4  Northeastern University               1.0   \n\n                                     id                            product_id  \\\n0  c1b4a572-24b2-484d-aac5-b4f97b790480  8cf7e821-f0d3-49c6-8eba-e679c0ebcf6a   \n1  f9e7e7e6-b309-479b-9f90-bf26a1870c81  997acbb5-e102-41e1-b155-9df7de0a73f2   \n2  154e8438-46f5-4e5f-9872-15cc95e85eed                                  lyft   \n3  6bdc30a6-9a80-487b-914e-8d9b82ee4acb                             lyft_plus   \n4  0cb12fe9-cd72-4feb-b341-4a566b2e6643                                  lyft   \n\n       name  price        date  \n0      Taxi    NaN  2018-12-14  \n1  UberPool    8.0  2018-11-28  \n2      Lyft   10.5  2018-12-16  \n3   Lyft XL   22.5  2018-11-30  \n4      Lyft    7.0  2018-11-30  ",
      "text/html": "<div>\n<style scoped>\n    .dataframe tbody tr th:only-of-type {\n        vertical-align: middle;\n    }\n\n    .dataframe tbody tr th {\n        vertical-align: top;\n    }\n\n    .dataframe thead th {\n        text-align: right;\n    }\n</style>\n<table border=\"1\" class=\"dataframe\">\n  <thead>\n    <tr style=\"text-align: right;\">\n      <th></th>\n      <th>distance</th>\n      <th>cab_type</th>\n      <th>time_stamp</th>\n      <th>destination</th>\n      <th>source</th>\n      <th>surge_multiplier</th>\n      <th>id</th>\n      <th>product_id</th>\n      <th>name</th>\n      <th>price</th>\n      <th>date</th>\n    </tr>\n  </thead>\n  <tbody>\n    <tr>\n      <td>0</td>\n      <td>0.62</td>\n      <td>Uber</td>\n      <td>1.544770e+12</td>\n      <td>West End</td>\n      <td>Haymarket Square</td>\n      <td>1.0</td>\n      <td>c1b4a572-24b2-484d-aac5-b4f97b790480</td>\n      <td>8cf7e821-f0d3-49c6-8eba-e679c0ebcf6a</td>\n      <td>Taxi</td>\n      <td>NaN</td>\n      <td>2018-12-14</td>\n    </tr>\n    <tr>\n      <td>1</td>\n      <td>2.27</td>\n      <td>Uber</td>\n      <td>1.543400e+12</td>\n      <td>Boston University</td>\n      <td>Beacon Hill</td>\n      <td>1.0</td>\n      <td>f9e7e7e6-b309-479b-9f90-bf26a1870c81</td>\n      <td>997acbb5-e102-41e1-b155-9df7de0a73f2</td>\n      <td>UberPool</td>\n      <td>8.0</td>\n      <td>2018-11-28</td>\n    </tr>\n    <tr>\n      <td>2</td>\n      <td>2.00</td>\n      <td>Lyft</td>\n      <td>1.544920e+12</td>\n      <td>Back Bay</td>\n      <td>Haymarket Square</td>\n      <td>1.0</td>\n      <td>154e8438-46f5-4e5f-9872-15cc95e85eed</td>\n      <td>lyft</td>\n      <td>Lyft</td>\n      <td>10.5</td>\n      <td>2018-12-16</td>\n    </tr>\n    <tr>\n      <td>3</td>\n      <td>3.98</td>\n      <td>Lyft</td>\n      <td>1.543620e+12</td>\n      <td>Financial District</td>\n      <td>Northeastern University</td>\n      <td>1.0</td>\n      <td>6bdc30a6-9a80-487b-914e-8d9b82ee4acb</td>\n      <td>lyft_plus</td>\n      <td>Lyft XL</td>\n      <td>22.5</td>\n      <td>2018-11-30</td>\n    </tr>\n    <tr>\n      <td>4</td>\n      <td>1.49</td>\n      <td>Lyft</td>\n      <td>1.543580e+12</td>\n      <td>Back Bay</td>\n      <td>Northeastern University</td>\n      <td>1.0</td>\n      <td>0cb12fe9-cd72-4feb-b341-4a566b2e6643</td>\n      <td>lyft</td>\n      <td>Lyft</td>\n      <td>7.0</td>\n      <td>2018-11-30</td>\n    </tr>\n  </tbody>\n</table>\n</div>"
     },
     "execution_count": 14,
     "metadata": {},
     "output_type": "execute_result"
    }
   ],
   "metadata": {
    "colab": {
     "base_uri": "https://localhost:8080/",
     "height": 0
    },
    "id": "7ZzmOFpugEw9",
    "outputId": "c63d0ef8-e85c-4b07-d6ef-462e21ca5cd8",
    "pycharm": {
     "name": "#%%\n"
    }
   }
  },
  {
   "cell_type": "code",
   "execution_count": 15,
   "source": [
    "weather.head()"
   ],
   "outputs": [
    {
     "data": {
      "text/plain": "    temp            location  clouds  pressure    rain  time_stamp  humidity  \\\n0  42.42            Back Bay     1.0   1012.14  0.1228  1545003901      0.77   \n1  42.43         Beacon Hill     1.0   1012.15  0.1846  1545003901      0.76   \n2  42.50   Boston University     1.0   1012.15  0.1089  1545003901      0.76   \n3  42.11              Fenway     1.0   1012.13  0.0969  1545003901      0.77   \n4  43.13  Financial District     1.0   1012.14  0.1786  1545003901      0.75   \n\n    wind        date  \n0  11.25  2018-12-16  \n1  11.32  2018-12-16  \n2  11.07  2018-12-16  \n3  11.09  2018-12-16  \n4  11.49  2018-12-16  ",
      "text/html": "<div>\n<style scoped>\n    .dataframe tbody tr th:only-of-type {\n        vertical-align: middle;\n    }\n\n    .dataframe tbody tr th {\n        vertical-align: top;\n    }\n\n    .dataframe thead th {\n        text-align: right;\n    }\n</style>\n<table border=\"1\" class=\"dataframe\">\n  <thead>\n    <tr style=\"text-align: right;\">\n      <th></th>\n      <th>temp</th>\n      <th>location</th>\n      <th>clouds</th>\n      <th>pressure</th>\n      <th>rain</th>\n      <th>time_stamp</th>\n      <th>humidity</th>\n      <th>wind</th>\n      <th>date</th>\n    </tr>\n  </thead>\n  <tbody>\n    <tr>\n      <td>0</td>\n      <td>42.42</td>\n      <td>Back Bay</td>\n      <td>1.0</td>\n      <td>1012.14</td>\n      <td>0.1228</td>\n      <td>1545003901</td>\n      <td>0.77</td>\n      <td>11.25</td>\n      <td>2018-12-16</td>\n    </tr>\n    <tr>\n      <td>1</td>\n      <td>42.43</td>\n      <td>Beacon Hill</td>\n      <td>1.0</td>\n      <td>1012.15</td>\n      <td>0.1846</td>\n      <td>1545003901</td>\n      <td>0.76</td>\n      <td>11.32</td>\n      <td>2018-12-16</td>\n    </tr>\n    <tr>\n      <td>2</td>\n      <td>42.50</td>\n      <td>Boston University</td>\n      <td>1.0</td>\n      <td>1012.15</td>\n      <td>0.1089</td>\n      <td>1545003901</td>\n      <td>0.76</td>\n      <td>11.07</td>\n      <td>2018-12-16</td>\n    </tr>\n    <tr>\n      <td>3</td>\n      <td>42.11</td>\n      <td>Fenway</td>\n      <td>1.0</td>\n      <td>1012.13</td>\n      <td>0.0969</td>\n      <td>1545003901</td>\n      <td>0.77</td>\n      <td>11.09</td>\n      <td>2018-12-16</td>\n    </tr>\n    <tr>\n      <td>4</td>\n      <td>43.13</td>\n      <td>Financial District</td>\n      <td>1.0</td>\n      <td>1012.14</td>\n      <td>0.1786</td>\n      <td>1545003901</td>\n      <td>0.75</td>\n      <td>11.49</td>\n      <td>2018-12-16</td>\n    </tr>\n  </tbody>\n</table>\n</div>"
     },
     "execution_count": 15,
     "metadata": {},
     "output_type": "execute_result"
    }
   ],
   "metadata": {
    "colab": {
     "base_uri": "https://localhost:8080/",
     "height": 0
    },
    "id": "yMObXFdqgEw-",
    "outputId": "6409d5ea-1dac-4734-e578-8535e89d1db4",
    "scrolled": false,
    "pycharm": {
     "name": "#%%\n"
    }
   }
  },
  {
   "cell_type": "code",
   "execution_count": 16,
   "source": [
    "taxiRides.drop(['time_stamp'],axis = 1, inplace = True)\n",
    "weather.drop(['time_stamp'],axis = 1, inplace = True)"
   ],
   "outputs": [],
   "metadata": {
    "id": "hOZECS-kgExA",
    "pycharm": {
     "name": "#%%\n"
    }
   }
  },
  {
   "cell_type": "markdown",
   "source": [
    "## Joining Dataframes based on date"
   ],
   "metadata": {
    "id": "vXWmLCUdgExD",
    "pycharm": {
     "name": "#%% md\n"
    }
   }
  },
  {
   "cell_type": "code",
   "execution_count": 17,
   "source": [
    "mergedData = pd.merge(taxiRides,weather.drop_duplicates(subset=['date', 'location']), how = 'left', left_on=['date', 'source'], right_on=['date', 'location'])"
   ],
   "outputs": [],
   "metadata": {
    "id": "kDsWyOw1gExE",
    "pycharm": {
     "name": "#%%\n"
    }
   }
  },
  {
   "cell_type": "code",
   "execution_count": 18,
   "source": [
    "mergedData.head()"
   ],
   "outputs": [
    {
     "data": {
      "text/plain": "   distance cab_type         destination                   source  \\\n0      0.62     Uber            West End         Haymarket Square   \n1      2.27     Uber   Boston University              Beacon Hill   \n2      2.00     Lyft            Back Bay         Haymarket Square   \n3      3.98     Lyft  Financial District  Northeastern University   \n4      1.49     Lyft            Back Bay  Northeastern University   \n\n   surge_multiplier                                    id  \\\n0               1.0  c1b4a572-24b2-484d-aac5-b4f97b790480   \n1               1.0  f9e7e7e6-b309-479b-9f90-bf26a1870c81   \n2               1.0  154e8438-46f5-4e5f-9872-15cc95e85eed   \n3               1.0  6bdc30a6-9a80-487b-914e-8d9b82ee4acb   \n4               1.0  0cb12fe9-cd72-4feb-b341-4a566b2e6643   \n\n                             product_id      name  price        date   temp  \\\n0  8cf7e821-f0d3-49c6-8eba-e679c0ebcf6a      Taxi    NaN  2018-12-14  27.34   \n1  997acbb5-e102-41e1-b155-9df7de0a73f2  UberPool    8.0  2018-11-28  33.67   \n2                                  lyft      Lyft   10.5  2018-12-16  42.34   \n3                             lyft_plus   Lyft XL   22.5  2018-11-30  38.46   \n4                                  lyft      Lyft    7.0  2018-11-30  38.46   \n\n                  location  clouds  pressure    rain  humidity   wind  \n0         Haymarket Square    0.15   1033.40     NaN      0.81   3.04  \n1              Beacon Hill    0.12    991.20     NaN      0.82   5.37  \n2         Haymarket Square    1.00   1012.15  0.2068      0.77  11.49  \n3  Northeastern University    0.96   1017.24     NaN      0.66   3.31  \n4  Northeastern University    0.96   1017.24     NaN      0.66   3.31  ",
      "text/html": "<div>\n<style scoped>\n    .dataframe tbody tr th:only-of-type {\n        vertical-align: middle;\n    }\n\n    .dataframe tbody tr th {\n        vertical-align: top;\n    }\n\n    .dataframe thead th {\n        text-align: right;\n    }\n</style>\n<table border=\"1\" class=\"dataframe\">\n  <thead>\n    <tr style=\"text-align: right;\">\n      <th></th>\n      <th>distance</th>\n      <th>cab_type</th>\n      <th>destination</th>\n      <th>source</th>\n      <th>surge_multiplier</th>\n      <th>id</th>\n      <th>product_id</th>\n      <th>name</th>\n      <th>price</th>\n      <th>date</th>\n      <th>temp</th>\n      <th>location</th>\n      <th>clouds</th>\n      <th>pressure</th>\n      <th>rain</th>\n      <th>humidity</th>\n      <th>wind</th>\n    </tr>\n  </thead>\n  <tbody>\n    <tr>\n      <td>0</td>\n      <td>0.62</td>\n      <td>Uber</td>\n      <td>West End</td>\n      <td>Haymarket Square</td>\n      <td>1.0</td>\n      <td>c1b4a572-24b2-484d-aac5-b4f97b790480</td>\n      <td>8cf7e821-f0d3-49c6-8eba-e679c0ebcf6a</td>\n      <td>Taxi</td>\n      <td>NaN</td>\n      <td>2018-12-14</td>\n      <td>27.34</td>\n      <td>Haymarket Square</td>\n      <td>0.15</td>\n      <td>1033.40</td>\n      <td>NaN</td>\n      <td>0.81</td>\n      <td>3.04</td>\n    </tr>\n    <tr>\n      <td>1</td>\n      <td>2.27</td>\n      <td>Uber</td>\n      <td>Boston University</td>\n      <td>Beacon Hill</td>\n      <td>1.0</td>\n      <td>f9e7e7e6-b309-479b-9f90-bf26a1870c81</td>\n      <td>997acbb5-e102-41e1-b155-9df7de0a73f2</td>\n      <td>UberPool</td>\n      <td>8.0</td>\n      <td>2018-11-28</td>\n      <td>33.67</td>\n      <td>Beacon Hill</td>\n      <td>0.12</td>\n      <td>991.20</td>\n      <td>NaN</td>\n      <td>0.82</td>\n      <td>5.37</td>\n    </tr>\n    <tr>\n      <td>2</td>\n      <td>2.00</td>\n      <td>Lyft</td>\n      <td>Back Bay</td>\n      <td>Haymarket Square</td>\n      <td>1.0</td>\n      <td>154e8438-46f5-4e5f-9872-15cc95e85eed</td>\n      <td>lyft</td>\n      <td>Lyft</td>\n      <td>10.5</td>\n      <td>2018-12-16</td>\n      <td>42.34</td>\n      <td>Haymarket Square</td>\n      <td>1.00</td>\n      <td>1012.15</td>\n      <td>0.2068</td>\n      <td>0.77</td>\n      <td>11.49</td>\n    </tr>\n    <tr>\n      <td>3</td>\n      <td>3.98</td>\n      <td>Lyft</td>\n      <td>Financial District</td>\n      <td>Northeastern University</td>\n      <td>1.0</td>\n      <td>6bdc30a6-9a80-487b-914e-8d9b82ee4acb</td>\n      <td>lyft_plus</td>\n      <td>Lyft XL</td>\n      <td>22.5</td>\n      <td>2018-11-30</td>\n      <td>38.46</td>\n      <td>Northeastern University</td>\n      <td>0.96</td>\n      <td>1017.24</td>\n      <td>NaN</td>\n      <td>0.66</td>\n      <td>3.31</td>\n    </tr>\n    <tr>\n      <td>4</td>\n      <td>1.49</td>\n      <td>Lyft</td>\n      <td>Back Bay</td>\n      <td>Northeastern University</td>\n      <td>1.0</td>\n      <td>0cb12fe9-cd72-4feb-b341-4a566b2e6643</td>\n      <td>lyft</td>\n      <td>Lyft</td>\n      <td>7.0</td>\n      <td>2018-11-30</td>\n      <td>38.46</td>\n      <td>Northeastern University</td>\n      <td>0.96</td>\n      <td>1017.24</td>\n      <td>NaN</td>\n      <td>0.66</td>\n      <td>3.31</td>\n    </tr>\n  </tbody>\n</table>\n</div>"
     },
     "execution_count": 18,
     "metadata": {},
     "output_type": "execute_result"
    }
   ],
   "metadata": {
    "colab": {
     "base_uri": "https://localhost:8080/",
     "height": 0
    },
    "id": "a6uxoHApgExG",
    "outputId": "4f11238a-37f4-4572-c421-b51329cbf185",
    "scrolled": true,
    "pycharm": {
     "name": "#%%\n"
    }
   }
  },
  {
   "cell_type": "markdown",
   "source": [
    "## Rain Feature"
   ],
   "metadata": {
    "id": "bX0qzKlkgExH",
    "pycharm": {
     "name": "#%% md\n"
    }
   }
  },
  {
   "cell_type": "code",
   "execution_count": 19,
   "source": [
    "weather['rain'].isnull().sum() / weather['rain'].shape[0]"
   ],
   "outputs": [
    {
     "data": {
      "text/plain": "0.8575525812619503"
     },
     "execution_count": 19,
     "metadata": {},
     "output_type": "execute_result"
    }
   ],
   "metadata": {
    "id": "VwHJPyByNV6b",
    "outputId": "f29b5f04-4bed-4cbf-dbcd-346c6116490a",
    "colab": {
     "base_uri": "https://localhost:8080/"
    },
    "pycharm": {
     "name": "#%%\n"
    }
   }
  },
  {
   "cell_type": "code",
   "execution_count": 20,
   "source": [
    "weather['rain'].hist()"
   ],
   "outputs": [
    {
     "data": {
      "text/plain": "<matplotlib.axes._subplots.AxesSubplot at 0x1a54a2682c8>"
     },
     "execution_count": 20,
     "metadata": {},
     "output_type": "execute_result"
    },
    {
     "data": {
      "text/plain": "<Figure size 432x288 with 1 Axes>",
      "image/png": "[encoded data removed]"
     },
     "metadata": {
      "needs_background": "light"
     },
     "output_type": "display_data"
    }
   ],
   "metadata": {
    "colab": {
     "base_uri": "https://localhost:8080/",
     "height": 0
    },
    "id": "8bwt4tLfgExJ",
    "outputId": "d30cb1d0-f25c-49d7-f01a-ffa6c90a145a",
    "pycharm": {
     "name": "#%%\n"
    }
   }
  },
  {
   "cell_type": "markdown",
   "source": [
    "Does null values of rain revolve around certain values?"
   ],
   "metadata": {
    "id": "EOePkSJ0sI6t",
    "pycharm": {
     "name": "#%% md\n"
    }
   }
  },
  {
   "cell_type": "code",
   "execution_count": 21,
   "source": [
    "print(\"Rows with null rain value statistics\")\n",
    "weather[weather['rain'].isnull()].describe()"
   ],
   "outputs": [
    {
     "name": "stdout",
     "output_type": "stream",
     "text": [
      "Rows with null rain value statistics\n"
     ]
    },
    {
     "data": {
      "text/plain": "              temp       clouds    pressure  rain     humidity         wind\ncount  5382.000000  5382.000000  5382.00000   0.0  5382.000000  5382.000000\nmean     38.461557     0.633618  1008.92490   NaN     0.747293     6.375199\nstd       6.169892     0.312919    13.46695   NaN     0.124451     3.542713\nmin      19.620000     0.000000   988.25000   NaN     0.450000     0.290000\n25%      35.022500     0.400000   997.39000   NaN     0.660000     3.190000\n50%      39.360000     0.680000  1009.56000   NaN     0.730000     6.210000\n75%      41.470000     0.930000  1020.95000   NaN     0.850000     9.627500\nmax      55.410000     1.000000  1035.12000   NaN     0.990000    18.180000",
      "text/html": "<div>\n<style scoped>\n    .dataframe tbody tr th:only-of-type {\n        vertical-align: middle;\n    }\n\n    .dataframe tbody tr th {\n        vertical-align: top;\n    }\n\n    .dataframe thead th {\n        text-align: right;\n    }\n</style>\n<table border=\"1\" class=\"dataframe\">\n  <thead>\n    <tr style=\"text-align: right;\">\n      <th></th>\n      <th>temp</th>\n      <th>clouds</th>\n      <th>pressure</th>\n      <th>rain</th>\n      <th>humidity</th>\n      <th>wind</th>\n    </tr>\n  </thead>\n  <tbody>\n    <tr>\n      <td>count</td>\n      <td>5382.000000</td>\n      <td>5382.000000</td>\n      <td>5382.00000</td>\n      <td>0.0</td>\n      <td>5382.000000</td>\n      <td>5382.000000</td>\n    </tr>\n    <tr>\n      <td>mean</td>\n      <td>38.461557</td>\n      <td>0.633618</td>\n      <td>1008.92490</td>\n      <td>NaN</td>\n      <td>0.747293</td>\n      <td>6.375199</td>\n    </tr>\n    <tr>\n      <td>std</td>\n      <td>6.169892</td>\n      <td>0.312919</td>\n      <td>13.46695</td>\n      <td>NaN</td>\n      <td>0.124451</td>\n      <td>3.542713</td>\n    </tr>\n    <tr>\n      <td>min</td>\n      <td>19.620000</td>\n      <td>0.000000</td>\n      <td>988.25000</td>\n      <td>NaN</td>\n      <td>0.450000</td>\n      <td>0.290000</td>\n    </tr>\n    <tr>\n      <td>25%</td>\n      <td>35.022500</td>\n      <td>0.400000</td>\n      <td>997.39000</td>\n      <td>NaN</td>\n      <td>0.660000</td>\n      <td>3.190000</td>\n    </tr>\n    <tr>\n      <td>50%</td>\n      <td>39.360000</td>\n      <td>0.680000</td>\n      <td>1009.56000</td>\n      <td>NaN</td>\n      <td>0.730000</td>\n      <td>6.210000</td>\n    </tr>\n    <tr>\n      <td>75%</td>\n      <td>41.470000</td>\n      <td>0.930000</td>\n      <td>1020.95000</td>\n      <td>NaN</td>\n      <td>0.850000</td>\n      <td>9.627500</td>\n    </tr>\n    <tr>\n      <td>max</td>\n      <td>55.410000</td>\n      <td>1.000000</td>\n      <td>1035.12000</td>\n      <td>NaN</td>\n      <td>0.990000</td>\n      <td>18.180000</td>\n    </tr>\n  </tbody>\n</table>\n</div>"
     },
     "execution_count": 21,
     "metadata": {},
     "output_type": "execute_result"
    }
   ],
   "metadata": {
    "colab": {
     "base_uri": "https://localhost:8080/",
     "height": 0
    },
    "id": "qH-cx29TgExL",
    "outputId": "2385e2df-b938-45c4-f7d0-a6ce293d510d",
    "pycharm": {
     "name": "#%%\n"
    }
   }
  },
  {
   "cell_type": "code",
   "execution_count": 22,
   "source": [
    "print(\"Rows with non-null rain value statistics\")\n",
    "weather[weather['rain'].notna()].describe()"
   ],
   "outputs": [
    {
     "name": "stdout",
     "output_type": "stream",
     "text": [
      "Rows with non-null rain value statistics\n"
     ]
    },
    {
     "data": {
      "text/plain": "             temp      clouds     pressure        rain    humidity        wind\ncount  894.000000  894.000000   894.000000  894.000000  894.000000  894.000000\nmean    42.876644    0.943624  1005.557405    0.057652    0.864474    9.377103\nstd      2.951239    0.146752     7.841618    0.100758    0.093957    3.066719\nmin     34.100000    0.100000   988.910000    0.000200    0.520000    1.740000\n25%     41.482500    0.970000   999.750000    0.004900    0.860000    7.660000\n50%     43.820000    1.000000  1005.945000    0.014850    0.900000    9.890000\n75%     44.510000    1.000000  1011.237500    0.060925    0.920000   11.187500\nmax     51.240000    1.000000  1021.790000    0.780700    0.980000   17.160000",
      "text/html": "<div>\n<style scoped>\n    .dataframe tbody tr th:only-of-type {\n        vertical-align: middle;\n    }\n\n    .dataframe tbody tr th {\n        vertical-align: top;\n    }\n\n    .dataframe thead th {\n        text-align: right;\n    }\n</style>\n<table border=\"1\" class=\"dataframe\">\n  <thead>\n    <tr style=\"text-align: right;\">\n      <th></th>\n      <th>temp</th>\n      <th>clouds</th>\n      <th>pressure</th>\n      <th>rain</th>\n      <th>humidity</th>\n      <th>wind</th>\n    </tr>\n  </thead>\n  <tbody>\n    <tr>\n      <td>count</td>\n      <td>894.000000</td>\n      <td>894.000000</td>\n      <td>894.000000</td>\n      <td>894.000000</td>\n      <td>894.000000</td>\n      <td>894.000000</td>\n    </tr>\n    <tr>\n      <td>mean</td>\n      <td>42.876644</td>\n      <td>0.943624</td>\n      <td>1005.557405</td>\n      <td>0.057652</td>\n      <td>0.864474</td>\n      <td>9.377103</td>\n    </tr>\n    <tr>\n      <td>std</td>\n      <td>2.951239</td>\n      <td>0.146752</td>\n      <td>7.841618</td>\n      <td>0.100758</td>\n      <td>0.093957</td>\n      <td>3.066719</td>\n    </tr>\n    <tr>\n      <td>min</td>\n      <td>34.100000</td>\n      <td>0.100000</td>\n      <td>988.910000</td>\n      <td>0.000200</td>\n      <td>0.520000</td>\n      <td>1.740000</td>\n    </tr>\n    <tr>\n      <td>25%</td>\n      <td>41.482500</td>\n      <td>0.970000</td>\n      <td>999.750000</td>\n      <td>0.004900</td>\n      <td>0.860000</td>\n      <td>7.660000</td>\n    </tr>\n    <tr>\n      <td>50%</td>\n      <td>43.820000</td>\n      <td>1.000000</td>\n      <td>1005.945000</td>\n      <td>0.014850</td>\n      <td>0.900000</td>\n      <td>9.890000</td>\n    </tr>\n    <tr>\n      <td>75%</td>\n      <td>44.510000</td>\n      <td>1.000000</td>\n      <td>1011.237500</td>\n      <td>0.060925</td>\n      <td>0.920000</td>\n      <td>11.187500</td>\n    </tr>\n    <tr>\n      <td>max</td>\n      <td>51.240000</td>\n      <td>1.000000</td>\n      <td>1021.790000</td>\n      <td>0.780700</td>\n      <td>0.980000</td>\n      <td>17.160000</td>\n    </tr>\n  </tbody>\n</table>\n</div>"
     },
     "execution_count": 22,
     "metadata": {},
     "output_type": "execute_result"
    }
   ],
   "metadata": {
    "colab": {
     "base_uri": "https://localhost:8080/",
     "height": 0
    },
    "id": "wTUDgw0RgExM",
    "outputId": "145e3cb4-33cf-4c4f-f2f3-a33ab3c61dc3",
    "pycharm": {
     "name": "#%%\n"
    }
   }
  },
  {
   "cell_type": "code",
   "execution_count": 23,
   "source": [
    "weather['rain'].value_counts()"
   ],
   "outputs": [
    {
     "data": {
      "text/plain": "0.0030    85\n0.0020    51\n0.0040    23\n0.0060    17\n0.0050    15\n          ..\n0.1370     1\n0.0664     1\n0.7222     1\n0.0223     1\n0.1561     1\nName: rain, Length: 437, dtype: int64"
     },
     "execution_count": 23,
     "metadata": {},
     "output_type": "execute_result"
    }
   ],
   "metadata": {
    "colab": {
     "base_uri": "https://localhost:8080/"
    },
    "id": "Lhc1TbDkgExO",
    "outputId": "cbc07987-e764-44b5-8b24-78f88325e50a",
    "scrolled": true,
    "pycharm": {
     "name": "#%%\n"
    }
   }
  },
  {
   "cell_type": "code",
   "execution_count": 24,
   "source": [
    "print(f\"Values of 0 in the rain feature {(weather['rain'] == 0).sum()}\")"
   ],
   "outputs": [
    {
     "name": "stdout",
     "output_type": "stream",
     "text": [
      "Values of 0 in the rain feature 0\n"
     ]
    }
   ],
   "metadata": {
    "id": "PF0vzeThQ7SU",
    "outputId": "85a7dae5-0ce4-48f6-83aa-abb5f849f7a1",
    "colab": {
     "base_uri": "https://localhost:8080/"
    },
    "pycharm": {
     "name": "#%%\n"
    }
   }
  },
  {
   "cell_type": "markdown",
   "source": [
    "Rain feature nulls could indicate no rain"
   ],
   "metadata": {
    "id": "8zrw4OIKgExP",
    "pycharm": {
     "name": "#%% md\n"
    }
   }
  },
  {
   "cell_type": "code",
   "execution_count": 25,
   "source": [
    "mergedData.isnull().sum()"
   ],
   "outputs": [
    {
     "data": {
      "text/plain": "distance                 0\ncab_type                 0\ndestination              0\nsource                   0\nsurge_multiplier         0\nid                       0\nproduct_id               0\nname                     0\nprice                44135\ndate                     0\ntemp                     0\nlocation                 0\nclouds                   0\npressure                 0\nrain                480515\nhumidity                 0\nwind                     0\ndtype: int64"
     },
     "execution_count": 25,
     "metadata": {},
     "output_type": "execute_result"
    }
   ],
   "metadata": {
    "colab": {
     "base_uri": "https://localhost:8080/"
    },
    "id": "kSHPRE5ngExR",
    "outputId": "fe4040fc-3f71-433b-e58c-a16aecdd72a6",
    "pycharm": {
     "name": "#%%\n"
    }
   }
  },
  {
   "cell_type": "markdown",
   "source": [
    "# Data Visualization"
   ],
   "metadata": {
    "id": "E-HNbEFTgExX",
    "pycharm": {
     "name": "#%% md\n"
    }
   }
  },
  {
   "cell_type": "code",
   "execution_count": 26,
   "source": [
    "# to make the bars sorted\n",
    "mergedData.sort_values('price', inplace=True)\n",
    "\n",
    "plt.figure(figsize =(16,6))\n",
    "sns.barplot(data=mergedData,x='name',y='price',hue='cab_type')\n",
    "plt.show()"
   ],
   "outputs": [
    {
     "data": {
      "text/plain": "<Figure size 1152x432 with 1 Axes>",
      "image/png": "[encoded data removed]"
     },
     "metadata": {
      "needs_background": "light"
     },
     "output_type": "display_data"
    }
   ],
   "metadata": {
    "colab": {
     "base_uri": "https://localhost:8080/",
     "height": 388
    },
    "id": "qoIxn6orgExY",
    "outputId": "3d2dfc64-a2d9-4351-c3d7-09167d307720",
    "pycharm": {
     "name": "#%%\n"
    }
   }
  },
  {
   "cell_type": "markdown",
   "source": [
    "Apparently all *price* values of *Taxi* are missing, could all the missing values from *price* be from the *taxi* cab type? we need to verify this"
   ],
   "metadata": {
    "id": "NuMQ3wOhu2XE",
    "pycharm": {
     "name": "#%% md\n"
    }
   }
  },
  {
   "cell_type": "code",
   "execution_count": 27,
   "source": [
    "taxiNullValues = mergedData[mergedData['price'].isnull()]['name'].value_counts()['Taxi']\n",
    "totalNullValues = mergedData.isnull().sum()['price']\n",
    "print(f\"There are {taxiNullValues} price null values with Taxi as subtype from a total of {totalNullValues} \\\n",
    ": {taxiNullValues / totalNullValues * 100}%\")"
   ],
   "outputs": [
    {
     "name": "stdout",
     "output_type": "stream",
     "text": [
      "There are 44135 price null values with Taxi as subtype from a total of 44135 : 100.0%\n"
     ]
    }
   ],
   "metadata": {
    "colab": {
     "base_uri": "https://localhost:8080/"
    },
    "id": "FCm6ZcVRvy_G",
    "outputId": "971d358b-b4b8-4c5c-d39b-0b751b95c67c",
    "pycharm": {
     "name": "#%%\n"
    }
   }
  },
  {
   "cell_type": "code",
   "execution_count": 28,
   "source": [
    "plt.figure(figsize =(16,6))\n",
    "sns.lineplot(data=mergedData,x='distance',y='price')\n",
    "plt.show()"
   ],
   "outputs": [
    {
     "data": {
      "text/plain": "<Figure size 1152x432 with 1 Axes>",
      "image/png": "[encoded data removed]"
     },
     "metadata": {
      "needs_background": "light"
     },
     "output_type": "display_data"
    }
   ],
   "metadata": {
    "id": "0CUjxInRgExZ",
    "colab": {
     "base_uri": "https://localhost:8080/",
     "height": 388
    },
    "outputId": "f7bc8197-213c-4c45-ec4c-bb40ecd9d4fa",
    "pycharm": {
     "name": "#%%\n"
    }
   }
  },
  {
   "cell_type": "markdown",
   "source": [
    "Price as expected increases with distance, however there are some spikes that must have other factors contributing in"
   ],
   "metadata": {
    "id": "diSWAs9gyhJn",
    "pycharm": {
     "name": "#%% md\n"
    }
   }
  },
  {
   "cell_type": "code",
   "execution_count": 29,
   "source": [
    "plt.figure(figsize = (13, 13))\n",
    "plt.xticks(rotation = 60)\n",
    "plt.yticks(rotation = 60)\n",
    "plt.title('Correlation of data features')\n",
    "sns.heatmap(mergedData.corr(), annot = True)\n",
    "plt.show()"
   ],
   "outputs": [
    {
     "data": {
      "text/plain": "<Figure size 936x936 with 2 Axes>",
      "image/png": "[encoded data removed]"
     },
     "metadata": {
      "needs_background": "light"
     },
     "output_type": "display_data"
    }
   ],
   "metadata": {
    "id": "cMz-JSTxu0GO",
    "outputId": "a6429b74-d616-4662-a4b3-4b1219532afc",
    "colab": {
     "base_uri": "https://localhost:8080/",
     "height": 836
    },
    "pycharm": {
     "name": "#%%\n"
    }
   }
  },
  {
   "cell_type": "markdown",
   "source": [
    "## Weather Graphs"
   ],
   "metadata": {
    "id": "76GX5AA0ziDe",
    "pycharm": {
     "name": "#%% md\n"
    }
   }
  },
  {
   "cell_type": "code",
   "execution_count": 30,
   "source": [
    "plt.figure(figsize =(16,6))\n",
    "sns.relplot(data=mergedData,x='temp',y='clouds')\n",
    "plt.show()"
   ],
   "outputs": [
    {
     "data": {
      "text/plain": "<Figure size 1152x432 with 0 Axes>"
     },
     "metadata": {},
     "output_type": "display_data"
    },
    {
     "data": {
      "text/plain": "<Figure size 360x360 with 1 Axes>",
      "image/png": "[encoded data removed]"
     },
     "metadata": {
      "needs_background": "light"
     },
     "output_type": "display_data"
    }
   ],
   "metadata": {
    "colab": {
     "base_uri": "https://localhost:8080/",
     "height": 387
    },
    "id": "yKVURUOMgExi",
    "outputId": "c8e3bc90-6bbd-45a7-9359-c484038b11f0",
    "pycharm": {
     "name": "#%%\n"
    }
   }
  },
  {
   "cell_type": "code",
   "execution_count": 31,
   "source": [
    "plt.figure(figsize =(16,6))\n",
    "sns.relplot(data=mergedData,x='temp',y='humidity')\n",
    "plt.show()"
   ],
   "outputs": [
    {
     "data": {
      "text/plain": "<Figure size 1152x432 with 0 Axes>"
     },
     "metadata": {},
     "output_type": "display_data"
    },
    {
     "data": {
      "text/plain": "<Figure size 360x360 with 1 Axes>",
      "image/png": "[encoded data removed]"
     },
     "metadata": {
      "needs_background": "light"
     },
     "output_type": "display_data"
    }
   ],
   "metadata": {
    "colab": {
     "base_uri": "https://localhost:8080/",
     "height": 387
    },
    "id": "OupfXsoigExk",
    "outputId": "827f37b1-9091-40d6-85c7-da03481b65f0",
    "pycharm": {
     "name": "#%%\n"
    }
   }
  },
  {
   "cell_type": "code",
   "execution_count": 32,
   "source": [
    "plt.figure(figsize =(16,6))\n",
    "sns.lineplot(data=mergedData,x='pressure',y='wind')\n",
    "plt.show()"
   ],
   "outputs": [
    {
     "data": {
      "text/plain": "<Figure size 1152x432 with 1 Axes>",
      "image/png": "[encoded data removed]"
     },
     "metadata": {
      "needs_background": "light"
     },
     "output_type": "display_data"
    }
   ],
   "metadata": {
    "colab": {
     "base_uri": "https://localhost:8080/",
     "height": 388
    },
    "id": "iRgiUwM7gExl",
    "outputId": "0b3104ba-b825-4dc4-d91f-e9a5e8600ab5",
    "pycharm": {
     "name": "#%%\n"
    }
   }
  },
  {
   "cell_type": "code",
   "execution_count": 33,
   "source": [
    "mergedData['cab_type'].hist()\n",
    "plt.show()"
   ],
   "outputs": [
    {
     "data": {
      "text/plain": "<Figure size 432x288 with 1 Axes>",
      "image/png": "[encoded data removed]"
     },
     "metadata": {
      "needs_background": "light"
     },
     "output_type": "display_data"
    }
   ],
   "metadata": {
    "colab": {
     "base_uri": "https://localhost:8080/",
     "height": 265
    },
    "id": "3aQdxYxjgExn",
    "outputId": "ab94b9c9-991f-41d3-e9eb-729924dc3341",
    "pycharm": {
     "name": "#%%\n"
    }
   }
  },
  {
   "cell_type": "code",
   "execution_count": 34,
   "source": [
    "mergedData['surge_multiplier'].hist()"
   ],
   "outputs": [
    {
     "data": {
      "text/plain": "<matplotlib.axes._subplots.AxesSubplot at 0x1a554b89648>"
     },
     "execution_count": 34,
     "metadata": {},
     "output_type": "execute_result"
    },
    {
     "data": {
      "text/plain": "<Figure size 432x288 with 1 Axes>",
      "image/png": "[encoded data removed]"
     },
     "metadata": {
      "needs_background": "light"
     },
     "output_type": "display_data"
    }
   ],
   "metadata": {
    "colab": {
     "base_uri": "https://localhost:8080/",
     "height": 283
    },
    "id": "k90TNYI_gExp",
    "outputId": "ef0d3751-7de5-4743-aa95-008fc5e5428d",
    "pycharm": {
     "name": "#%%\n"
    }
   }
  },
  {
   "cell_type": "markdown",
   "source": [
    "# Preprocessing"
   ],
   "metadata": {
    "id": "9je9fxUDgTiZ",
    "pycharm": {
     "name": "#%% md\n"
    }
   }
  },
  {
   "cell_type": "markdown",
   "source": [
    "## Encoding"
   ],
   "metadata": {
    "id": "hBXyEWfDBZau",
    "pycharm": {
     "name": "#%% md\n"
    }
   }
  },
  {
   "cell_type": "markdown",
   "source": [
    "###  <i>name</i> Feature"
   ],
   "metadata": {
    "id": "dt9elEh8BtMQ",
    "pycharm": {
     "name": "#%% md\n"
    }
   }
  },
  {
   "cell_type": "code",
   "execution_count": 35,
   "source": [
    "preProcessing = PreProcessing()\n",
    "preProcessing.encode_name(mergedData['name'])"
   ],
   "outputs": [],
   "metadata": {
    "id": "aK2AMfoWyao5",
    "pycharm": {
     "name": "#%%\n"
    }
   }
  },
  {
   "cell_type": "code",
   "execution_count": 36,
   "source": [
    "preProcessing.drop_adjust(mergedData)"
   ],
   "outputs": [],
   "metadata": {
    "id": "bqfV_FBH1StT",
    "pycharm": {
     "name": "#%%\n"
    }
   }
  },
  {
   "cell_type": "markdown",
   "source": [
    "### Other Features"
   ],
   "metadata": {
    "id": "-zGtznqLBu4O",
    "pycharm": {
     "name": "#%% md\n"
    }
   }
  },
  {
   "cell_type": "code",
   "execution_count": 37,
   "source": [
    "nonIntegerColumns = [col for col in mergedData.columns if mergedData[col].dtypes == object]\n",
    "print(f\"Non Integer Columns : {nonIntegerColumns}\")"
   ],
   "outputs": [
    {
     "name": "stdout",
     "output_type": "stream",
     "text": [
      "Non Integer Columns : ['cab_type', 'destination', 'source']\n"
     ]
    }
   ],
   "metadata": {
    "id": "3ptzS3nbyao5",
    "outputId": "e53833e0-07ce-42d2-b219-5b9e88abc781",
    "colab": {
     "base_uri": "https://localhost:8080/"
    },
    "pycharm": {
     "name": "#%%\n"
    }
   }
  },
  {
   "cell_type": "code",
   "execution_count": 38,
   "source": [
    "preProcessing.encode(mergedData,nonIntegerColumns)"
   ],
   "outputs": [],
   "metadata": {
    "id": "OAnwv46Ryao6",
    "pycharm": {
     "name": "#%%\n"
    }
   }
  },
  {
   "cell_type": "code",
   "execution_count": 39,
   "source": [
    "mergedData.dropna(axis=0, subset=['price'], inplace=True)"
   ],
   "outputs": [],
   "metadata": {
    "id": "e1OdBKnF6goN",
    "pycharm": {
     "name": "#%%\n"
    }
   }
  },
  {
   "cell_type": "code",
   "execution_count": 40,
   "source": [
    "mergedData.isnull().sum()\n"
   ],
   "outputs": [
    {
     "data": {
      "text/plain": "distance                 0\ncab_type                 0\ndestination              0\nsource                   0\nsurge_multiplier         0\nride_class               0\nprice                    0\ntemp                     0\nclouds                   0\npressure                 0\nrain                442311\nhumidity                 0\nwind                     0\ndtype: int64"
     },
     "execution_count": 40,
     "metadata": {},
     "output_type": "execute_result"
    }
   ],
   "metadata": {
    "id": "PTanbtUayao6",
    "outputId": "f7e9bb09-78f6-46df-b5b9-a952e7bd55d2",
    "colab": {
     "base_uri": "https://localhost:8080/"
    },
    "pycharm": {
     "name": "#%%\n"
    }
   }
  },
  {
   "cell_type": "markdown",
   "source": [
    "## Rain feature\n"
   ],
   "metadata": {
    "id": "sCROD0uU0DFy",
    "pycharm": {
     "name": "#%% md\n"
    }
   }
  },
  {
   "cell_type": "code",
   "execution_count": 41,
   "source": [
    "mergedData['rain'].fillna(0,inplace=True)"
   ],
   "outputs": [],
   "metadata": {
    "id": "f27SNTSR1StU",
    "pycharm": {
     "name": "#%%\n"
    }
   }
  },
  {
   "cell_type": "code",
   "execution_count": 42,
   "source": [
    "mergedData['rain'].describe()"
   ],
   "outputs": [
    {
     "data": {
      "text/plain": "count    510321.000000\nmean          0.011510\nstd           0.039019\nmin           0.000000\n25%           0.000000\n50%           0.000000\n75%           0.000000\nmax           0.208800\nName: rain, dtype: float64"
     },
     "execution_count": 42,
     "metadata": {},
     "output_type": "execute_result"
    }
   ],
   "metadata": {
    "id": "j63FTsE2zj6l",
    "outputId": "924181b5-45ba-4548-a786-d6487a3a9137",
    "colab": {
     "base_uri": "https://localhost:8080/"
    },
    "pycharm": {
     "name": "#%%\n"
    }
   }
  },
  {
   "cell_type": "markdown",
   "source": [
    "Referring to google:\n",
    "<blockquote>Light rainfall is considered <b>less than 0.10 inches</b> of rain per hour. Moderate rainfall measures <b>0.10 to 0.30 inches</b> of rain per hour. Heavy rainfall is more than <b>0.30 inches</b>\n",
    " of rain per hour.</blockquote>\n",
    "0 : no rain <br>\n",
    "1 : light rain <br>\n",
    "2 : mid rain <br>\n",
    "3 : heavy rain (doesn't exist in the data)"
   ],
   "metadata": {
    "id": "Z1-UzpEh2sNn",
    "pycharm": {
     "name": "#%% md\n"
    }
   }
  },
  {
   "cell_type": "code",
   "execution_count": 43,
   "source": [
    "mergedData['rainType'] = 0"
   ],
   "outputs": [],
   "metadata": {
    "id": "xrPk3kw33JmM",
    "pycharm": {
     "name": "#%%\n"
    }
   }
  },
  {
   "cell_type": "code",
   "execution_count": 44,
   "source": [
    "mergedData['rainType'][(mergedData['rain'] > 0) & (mergedData['rain'] < 0.1)] = 1"
   ],
   "outputs": [
    {
     "name": "stderr",
     "output_type": "stream",
     "text": [
      "C:\\Users\\Ayman\\Anaconda3\\lib\\site-packages\\ipykernel_launcher.py:1: SettingWithCopyWarning: \n",
      "A value is trying to be set on a copy of a slice from a DataFrame\n",
      "\n",
      "See the caveats in the documentation: http://pandas.pydata.org/pandas-docs/stable/user_guide/indexing.html#returning-a-view-versus-a-copy\n",
      "  \"\"\"Entry point for launching an IPython kernel.\n"
     ]
    }
   ],
   "metadata": {
    "id": "2RSlb3I149b8",
    "outputId": "d125f48d-5c2e-4d69-cfc3-622c4d1b3be4",
    "colab": {
     "base_uri": "https://localhost:8080/"
    },
    "pycharm": {
     "name": "#%%\n"
    }
   }
  },
  {
   "cell_type": "code",
   "execution_count": 45,
   "source": [
    "mergedData['rainType'][(mergedData['rain'] > 0.1) & (mergedData['rain'] < 0.3)] = 2"
   ],
   "outputs": [
    {
     "name": "stderr",
     "output_type": "stream",
     "text": [
      "C:\\Users\\Ayman\\Anaconda3\\lib\\site-packages\\ipykernel_launcher.py:1: SettingWithCopyWarning: \n",
      "A value is trying to be set on a copy of a slice from a DataFrame\n",
      "\n",
      "See the caveats in the documentation: http://pandas.pydata.org/pandas-docs/stable/user_guide/indexing.html#returning-a-view-versus-a-copy\n",
      "  \"\"\"Entry point for launching an IPython kernel.\n"
     ]
    }
   ],
   "metadata": {
    "id": "us71sL9z3ZRE",
    "outputId": "9c0706d2-7e10-4c4d-d05e-968b852f79b2",
    "colab": {
     "base_uri": "https://localhost:8080/"
    },
    "pycharm": {
     "name": "#%%\n"
    }
   }
  },
  {
   "cell_type": "code",
   "execution_count": 46,
   "source": [
    "mergedData['rainType'].value_counts()"
   ],
   "outputs": [
    {
     "data": {
      "text/plain": "0    442311\n1     39496\n2     28514\nName: rainType, dtype: int64"
     },
     "execution_count": 46,
     "metadata": {},
     "output_type": "execute_result"
    }
   ],
   "metadata": {
    "id": "5AtkvMSaAvNe",
    "outputId": "600a01f8-fad7-436e-a643-491dfba44bac",
    "colab": {
     "base_uri": "https://localhost:8080/"
    },
    "pycharm": {
     "name": "#%%\n"
    }
   }
  },
  {
   "cell_type": "markdown",
   "source": [
    "## Clouds engineering\n",
    "making the assumption that clouds are on normalized [Okta Scale](https://polarpedia.eu/en/okta-scale/) that means values less than 0.1 are sunny days"
   ],
   "metadata": {
    "id": "XZAlWZSK6_4s",
    "pycharm": {
     "name": "#%% md\n"
    }
   }
  },
  {
   "cell_type": "code",
   "execution_count": 47,
   "source": [
    "mergedData['sunnyDay'] = 0"
   ],
   "outputs": [],
   "metadata": {
    "id": "_Tihpd4K7DJs",
    "pycharm": {
     "name": "#%%\n"
    }
   }
  },
  {
   "cell_type": "code",
   "execution_count": 48,
   "source": [
    "mergedData['sunnyDay'][mergedData['clouds'] <= 0.1] = 1"
   ],
   "outputs": [
    {
     "name": "stderr",
     "output_type": "stream",
     "text": [
      "C:\\Users\\Ayman\\Anaconda3\\lib\\site-packages\\ipykernel_launcher.py:1: SettingWithCopyWarning: \n",
      "A value is trying to be set on a copy of a slice from a DataFrame\n",
      "\n",
      "See the caveats in the documentation: http://pandas.pydata.org/pandas-docs/stable/user_guide/indexing.html#returning-a-view-versus-a-copy\n",
      "  \"\"\"Entry point for launching an IPython kernel.\n"
     ]
    }
   ],
   "metadata": {
    "id": "Lh3Vo-qb7eUx",
    "outputId": "6b95cec6-3a23-48f2-8cba-8245fce38077",
    "colab": {
     "base_uri": "https://localhost:8080/"
    },
    "pycharm": {
     "name": "#%%\n"
    }
   }
  },
  {
   "cell_type": "code",
   "execution_count": 49,
   "source": [
    "mergedData['sunnyDay'].value_counts()"
   ],
   "outputs": [
    {
     "data": {
      "text/plain": "0    502981\n1      7340\nName: sunnyDay, dtype: int64"
     },
     "execution_count": 49,
     "metadata": {},
     "output_type": "execute_result"
    }
   ],
   "metadata": {
    "id": "AysyRJRpAqu-",
    "outputId": "d79eaa7c-d74d-43f1-8c66-8314f8e2c3a3",
    "colab": {
     "base_uri": "https://localhost:8080/"
    },
    "pycharm": {
     "name": "#%%\n"
    }
   }
  },
  {
   "cell_type": "markdown",
   "source": [
    "## Outliers"
   ],
   "metadata": {
    "id": "4FzmczpC-yYv",
    "pycharm": {
     "name": "#%% md\n"
    }
   }
  },
  {
   "cell_type": "code",
   "execution_count": 50,
   "source": [
    "standardPrice = (mergedData['price'] - mergedData['price'].mean()) / mergedData['price'].std()"
   ],
   "outputs": [],
   "metadata": {
    "id": "l8iYRVBP-zxJ",
    "pycharm": {
     "name": "#%%\n"
    }
   }
  },
  {
   "cell_type": "code",
   "execution_count": 51,
   "source": [
    "priceOutliers = mergedData[((standardPrice > 3.5) | (standardPrice < -3.5))]\n",
    "print(len(priceOutliers))"
   ],
   "outputs": [
    {
     "name": "stdout",
     "output_type": "stream",
     "text": [
      "1670\n"
     ]
    }
   ],
   "metadata": {
    "id": "kDH_EJvm_Fct",
    "outputId": "41f819cc-a760-4375-9129-e9e9f2ed222d",
    "colab": {
     "base_uri": "https://localhost:8080/"
    },
    "pycharm": {
     "name": "#%%\n"
    }
   }
  },
  {
   "cell_type": "code",
   "execution_count": 52,
   "source": [
    "print(\"Value counts of surge_multipliers for outlier prices\\n\")\n",
    "priceOutliers['surge_multiplier'].value_counts()"
   ],
   "outputs": [
    {
     "name": "stdout",
     "output_type": "stream",
     "text": [
      "Value counts of surge_multipliers for outlier prices\n",
      "\n"
     ]
    },
    {
     "data": {
      "text/plain": "2.00    548\n1.50    345\n1.75    306\n1.00    300\n1.25    157\n2.50     12\n3.00      2\nName: surge_multiplier, dtype: int64"
     },
     "execution_count": 52,
     "metadata": {},
     "output_type": "execute_result"
    }
   ],
   "metadata": {
    "id": "T8Oi1Tn8pqic",
    "outputId": "397d53f8-1507-4c26-a5fe-55c55df117fe",
    "colab": {
     "base_uri": "https://localhost:8080/"
    },
    "pycharm": {
     "name": "#%%\n"
    }
   }
  },
  {
   "cell_type": "code",
   "execution_count": 53,
   "source": [
    "print(\"Value counts of cab_class for outlier prices with normal surge_multipliers\\n\")\n",
    "priceOutliers[priceOutliers['surge_multiplier'] == 1.0]['ride_class'].value_counts()"
   ],
   "outputs": [
    {
     "name": "stdout",
     "output_type": "stream",
     "text": [
      "Value counts of cab_class for outlier prices with normal surge_multipliers\n",
      "\n"
     ]
    },
    {
     "data": {
      "text/plain": "4    276\n2     14\n3     10\nName: ride_class, dtype: int64"
     },
     "execution_count": 53,
     "metadata": {},
     "output_type": "execute_result"
    }
   ],
   "metadata": {
    "id": "aR7KKzkRqAd9",
    "outputId": "13151149-cf7a-4fcc-faeb-cc0a02057a23",
    "colab": {
     "base_uri": "https://localhost:8080/"
    },
    "pycharm": {
     "name": "#%%\n"
    }
   }
  },
  {
   "cell_type": "markdown",
   "source": [
    "## Dimentionality Reduction"
   ],
   "metadata": {
    "id": "Yf90ixWd1nGm",
    "pycharm": {
     "name": "#%% md\n"
    }
   }
  },
  {
   "cell_type": "code",
   "execution_count": 54,
   "source": [
    "subsetOfData = mergedData[['temp','sunnyDay','rainType','wind','pressure','humidity']]\n",
    "mergedData.drop(['temp','clouds','sunnyDay','rain','rainType','wind','pressure','humidity'],axis=1,inplace=True)"
   ],
   "outputs": [],
   "metadata": {
    "id": "pFL_kY-l1nGm",
    "pycharm": {
     "name": "#%%\n"
    }
   }
  },
  {
   "cell_type": "code",
   "execution_count": 55,
   "source": [
    "lowerDimensionWeatherData =preProcessing.reduceDimentionsOf(subsetOfData)\n",
    "mergedData['weatherState'] = lowerDimensionWeatherData"
   ],
   "outputs": [],
   "metadata": {
    "id": "enVJUbEC1nGm",
    "pycharm": {
     "name": "#%%\n"
    }
   }
  },
  {
   "cell_type": "code",
   "execution_count": 56,
   "source": [
    "plt.figure(figsize = (13, 13))\n",
    "plt.xticks(rotation = 60)\n",
    "plt.yticks(rotation = 60)\n",
    "sns.heatmap(mergedData.corr(), annot = True)\n",
    "plt.show()"
   ],
   "outputs": [
    {
     "data": {
      "text/plain": "<Figure size 936x936 with 2 Axes>",
      "image/png": "[encoded data removed]"
     },
     "metadata": {
      "needs_background": "light"
     },
     "output_type": "display_data"
    }
   ],
   "metadata": {
    "id": "be7RJmiPl_JM",
    "outputId": "939c14cb-4047-4f6b-bc6a-64007a6d3619",
    "colab": {
     "base_uri": "https://localhost:8080/",
     "height": 824
    },
    "pycharm": {
     "name": "#%%\n"
    }
   }
  },
  {
   "cell_type": "markdown",
   "source": [
    "# Model"
   ],
   "metadata": {
    "id": "GXsfljQJ1StU",
    "pycharm": {
     "name": "#%% md\n"
    }
   }
  },
  {
   "cell_type": "code",
   "execution_count": 57,
   "source": [
    "dataFeatures = mergedData.drop(['price'],axis=1)\n",
    "dataLabel = mergedData['price']"
   ],
   "outputs": [],
   "metadata": {
    "id": "J0QCwmna1StV",
    "pycharm": {
     "name": "#%%\n"
    }
   }
  },
  {
   "cell_type": "code",
   "execution_count": 58,
   "source": [
    "dataFeatures.head()"
   ],
   "outputs": [
    {
     "data": {
      "text/plain": "        distance  cab_type  destination  source  surge_multiplier  ride_class  \\\n538883      2.33         0            2       1               1.0           1   \n346062      0.98         0            7       6               1.0           1   \n270683      1.73         0            5      10               1.0           1   \n171673      1.52         0            2       0               1.0           1   \n401607      0.73         0            5       7               1.0           1   \n\n        weatherState  \n538883     -7.069296  \n346062    -13.164757  \n270683     26.184353  \n171673      2.104307  \n401607     -2.179213  ",
      "text/html": "<div>\n<style scoped>\n    .dataframe tbody tr th:only-of-type {\n        vertical-align: middle;\n    }\n\n    .dataframe tbody tr th {\n        vertical-align: top;\n    }\n\n    .dataframe thead th {\n        text-align: right;\n    }\n</style>\n<table border=\"1\" class=\"dataframe\">\n  <thead>\n    <tr style=\"text-align: right;\">\n      <th></th>\n      <th>distance</th>\n      <th>cab_type</th>\n      <th>destination</th>\n      <th>source</th>\n      <th>surge_multiplier</th>\n      <th>ride_class</th>\n      <th>weatherState</th>\n    </tr>\n  </thead>\n  <tbody>\n    <tr>\n      <td>538883</td>\n      <td>2.33</td>\n      <td>0</td>\n      <td>2</td>\n      <td>1</td>\n      <td>1.0</td>\n      <td>1</td>\n      <td>-7.069296</td>\n    </tr>\n    <tr>\n      <td>346062</td>\n      <td>0.98</td>\n      <td>0</td>\n      <td>7</td>\n      <td>6</td>\n      <td>1.0</td>\n      <td>1</td>\n      <td>-13.164757</td>\n    </tr>\n    <tr>\n      <td>270683</td>\n      <td>1.73</td>\n      <td>0</td>\n      <td>5</td>\n      <td>10</td>\n      <td>1.0</td>\n      <td>1</td>\n      <td>26.184353</td>\n    </tr>\n    <tr>\n      <td>171673</td>\n      <td>1.52</td>\n      <td>0</td>\n      <td>2</td>\n      <td>0</td>\n      <td>1.0</td>\n      <td>1</td>\n      <td>2.104307</td>\n    </tr>\n    <tr>\n      <td>401607</td>\n      <td>0.73</td>\n      <td>0</td>\n      <td>5</td>\n      <td>7</td>\n      <td>1.0</td>\n      <td>1</td>\n      <td>-2.179213</td>\n    </tr>\n  </tbody>\n</table>\n</div>"
     },
     "execution_count": 58,
     "metadata": {},
     "output_type": "execute_result"
    }
   ],
   "metadata": {
    "id": "TFEdJEQ6AmeG",
    "outputId": "dac5373e-c6e1-47bd-fd45-58376d2d075f",
    "colab": {
     "base_uri": "https://localhost:8080/",
     "height": 206
    },
    "pycharm": {
     "name": "#%%\n"
    }
   }
  },
  {
   "cell_type": "code",
   "execution_count": 59,
   "source": [
    "model = Model()"
   ],
   "outputs": [],
   "metadata": {
    "id": "3BW0W_UOMVmT",
    "pycharm": {
     "name": "#%%\n"
    }
   }
  },
  {
   "cell_type": "markdown",
   "source": [
    "### First Model"
   ],
   "metadata": {
    "id": "t-WWeYw61StV",
    "pycharm": {
     "name": "#%% md\n"
    }
   }
  },
  {
   "cell_type": "code",
   "execution_count": 60,
   "source": [
    "splitData = model.splitData(dataFeatures,dataLabel)"
   ],
   "outputs": [],
   "metadata": {
    "id": "G4udYlgCNMC1",
    "pycharm": {
     "name": "#%%\n"
    }
   }
  },
  {
   "cell_type": "code",
   "execution_count": 61,
   "source": [
    "linearModel = model.fitLinearModel(splitData[\"trainFeatures\"],\n",
    "                     splitData[\"trainLabel\"],\n",
    "                     metrics.r2_score,\n",
    "                     splitData[\"testFeatures\"],\n",
    "                     splitData[\"testLabel\"])"
   ],
   "outputs": [
    {
     "name": "stdout",
     "output_type": "stream",
     "text": [
      "Final model r2_score on train: 0.9075096116056622\n",
      "Final model r2_score on validation: 0.9088324075475914\n"
     ]
    }
   ],
   "metadata": {
    "colab": {
     "base_uri": "https://localhost:8080/"
    },
    "id": "NxMftNFEMa-b",
    "outputId": "7c7e0ee2-0034-4859-a99a-f8e0f1e8a6b3",
    "pycharm": {
     "name": "#%%\n"
    }
   }
  },
  {
   "cell_type": "markdown",
   "source": [
    "### Second Model"
   ],
   "metadata": {
    "id": "6-BqiZIn1StW",
    "pycharm": {
     "name": "#%% md\n"
    }
   }
  },
  {
   "cell_type": "code",
   "execution_count": 62,
   "source": [
    "polyDegree = 4\n",
    "polyModel = model.fitPolyModel(splitData[\"trainFeatures\"],\n",
    "                    splitData[\"trainLabel\"],\n",
    "                    polyDegree,\n",
    "                    metrics.r2_score,\n",
    "                    splitData[\"testFeatures\"],\n",
    "                    splitData[\"testLabel\"])"
   ],
   "outputs": [
    {
     "name": "stdout",
     "output_type": "stream",
     "text": [
      "Final model r2_score on train: 0.9542222587762771\n",
      "Final model r2_score on validation: 0.9548525246505678\n"
     ]
    }
   ],
   "metadata": {
    "colab": {
     "base_uri": "https://localhost:8080/"
    },
    "id": "AdRQg_mJNTU7",
    "outputId": "ec8a68b1-3b7f-4369-e224-4b0f301a37f7",
    "pycharm": {
     "name": "#%%\n"
    }
   }
  },
  {
   "cell_type": "code",
   "execution_count": 63,
   "source": [
    "model.crossValidateOn(linear_model.LinearRegression(),\n",
    "                      dataFeatures,\n",
    "                      dataLabel,\n",
    "                      polyDegree,\n",
    "                      metric = metrics.r2_score, k = 3)"
   ],
   "outputs": [
    {
     "name": "stdout",
     "output_type": "stream",
     "text": [
      "Average Score : -14.41053227791962\n"
     ]
    }
   ],
   "metadata": {
    "id": "OfyLbfUffX-R",
    "outputId": "4679829e-d5b2-448c-f2e8-75f6cad58ee1",
    "colab": {
     "base_uri": "https://localhost:8080/"
    },
    "pycharm": {
     "name": "#%%\n"
    }
   }
  },
  {
   "cell_type": "code",
   "execution_count": 64,
   "source": [
    "models = {\n",
    "    'polyModel': polyModel,\n",
    "    'linearModel': linearModel\n",
    "}"
   ],
   "outputs": [],
   "metadata": {
    "collapsed": false,
    "pycharm": {
     "name": "#%%\n"
    }
   }
  },
  {
   "cell_type": "code",
   "execution_count": 65,
   "source": [
    "imputers = {}\n",
    "for feature in taxiRides.columns:\n",
    "    if taxiRides[feature].dtype == object:\n",
    "        imputers[feature]=taxiRides[feature].mode()[0]\n",
    "    else:\n",
    "        imputers[feature]=taxiRides[feature].mean()"
   ],
   "outputs": [],
   "metadata": {
    "collapsed": false,
    "pycharm": {
     "name": "#%%\n"
    }
   }
  },
  {
   "cell_type": "code",
   "execution_count": 66,
   "source": [
    "regression_cache ={\n",
    "    'models': models,\n",
    "    'encoders': preProcessing.encoders,\n",
    "    'imputers': imputers,\n",
    "    'categoricalFeaturesValues': preProcessing.featuresUniqueValues\n",
    "}"
   ],
   "outputs": [],
   "metadata": {
    "collapsed": false,
    "pycharm": {
     "name": "#%%\n"
    }
   }
  },
  {
   "cell_type": "code",
   "execution_count": 67,
   "source": [
    "from pickle import dump\n",
    "filename = 'regression_cache'\n",
    "dump(regression_cache, open('regression_cache', 'wb'))"
   ],
   "outputs": [],
   "metadata": {
    "collapsed": false,
    "pycharm": {
     "name": "#%%\n"
    }
   }
  }
 ],
 "metadata": {
  "colab": {
   "collapsed_sections": [
    "FxAg-M9rgEwS",
    "b5cZp83vgEwh",
    "BCkljrZhgEwm",
    "b1_DvW9dgEwv",
    "vXWmLCUdgExD",
    "bX0qzKlkgExH"
   ],
   "name": "ML Project.ipynb",
   "provenance": []
  },
  "interpreter": {
   "hash": "916dbcbb3f70747c44a77c7bcd40155683ae19c65e1c03b4aa3499c5328201f1"
  },
  "kernelspec": {
   "name": "python3",
   "display_name": "Python 3.9.5 64-bit"
  },
  "language_info": {
   "codemirror_mode": {
    "name": "ipython",
    "version": 3
   },
   "file_extension": ".py",
   "mimetype": "text/x-python",
   "name": "python",
   "nbconvert_exporter": "python",
   "pygments_lexer": "ipython3",
   "version": "3.9.5"
  }
 },
 "nbformat": 4,
 "nbformat_minor": 2
}