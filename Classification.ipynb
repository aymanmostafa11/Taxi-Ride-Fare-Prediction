{
 "cells": [
  {
   "cell_type": "code",
   "execution_count": 1,
   "source": [
    "# import gdown\n",
    "# gdown.download_folder('https://drive.google.com/drive/folders/1fBs3klrABIbNxvReGZ96lLdOnLTRYEZ5?usp=sharing')"
   ],
   "outputs": [],
   "metadata": {
    "collapsed": false,
    "pycharm": {
     "name": "#%%\n"
    }
   }
  },
  {
   "cell_type": "code",
   "execution_count": 2,
   "source": [
    "# !curl --remote-name https://raw.githubusercontent.com/aymanmostafa11/Taxi-Ride-Fare-Prediction/main/helpers.py"
   ],
   "outputs": [],
   "metadata": {
    "collapsed": false,
    "pycharm": {
     "name": "#%%\n"
    }
   }
  },
  {
   "cell_type": "code",
   "execution_count": 3,
   "source": [
    "import sys\n",
    "\n",
    "import numpy as np\n",
    "import pandas as pd\n",
    "import matplotlib.pyplot as plt\n",
    "import seaborn as sns\n",
    "\n",
    "from sklearn import linear_model\n",
    "from sklearn import metrics\n",
    "from sklearn.tree import DecisionTreeClassifier\n",
    "from sklearn.ensemble import RandomForestClassifier\n",
    "from sklearn.svm import SVC\n",
    "\n",
    "from helpers import Model , PreProcessing\n",
    "\n",
    "import warnings\n",
    "warnings.filterwarnings(\"ignore\")"
   ],
   "outputs": [],
   "metadata": {
    "collapsed": false,
    "pycharm": {
     "name": "#%%\n"
    }
   }
  },
  {
   "cell_type": "code",
   "execution_count": 4,
   "source": [
    "RANDOM_STATE = 42"
   ],
   "outputs": [],
   "metadata": {
    "collapsed": false,
    "pycharm": {
     "name": "#%%\n"
    }
   }
  },
  {
   "cell_type": "code",
   "execution_count": 5,
   "source": [
    "dataPath = 'E:/Edu/Academic/Year 3/Second Term/ML/Project/taxi-rides-classification'"
   ],
   "outputs": [],
   "metadata": {
    "collapsed": false,
    "pycharm": {
     "name": "#%%\n"
    }
   }
  },
  {
   "cell_type": "code",
   "execution_count": 6,
   "source": [
    "#taxiRides = pd.read_csv(dataPath + '/taxi-rides-classification.csv')\n",
    "#weather = pd.read_csv(dataPath + '/weather.csv')\n",
    "\n",
    "taxiRides = pd.read_csv(dataPath+'/taxi-rides-classification.csv')\n",
    "weather = pd.read_csv(dataPath + '/weather.csv')\n",
    "\n",
    "# taxiRides = pd.read_csv('‪classification‬‏/taxi-rides-classification.csv')\n",
    "# weather = pd.read_csv('‪classification‬‏/weather.csv')"
   ],
   "outputs": [],
   "metadata": {
    "collapsed": false,
    "pycharm": {
     "name": "#%%\n"
    }
   }
  },
  {
   "cell_type": "code",
   "execution_count": 7,
   "source": [
    "print(f\"Taxi Rides has {taxiRides.shape[0]} Rows and {taxiRides.shape[1]} Columns\")\n",
    "taxiRides.head()"
   ],
   "outputs": [
    {
     "name": "stdout",
     "output_type": "stream",
     "text": [
      "Taxi Rides has 554456 Rows and 10 Columns\n"
     ]
    },
    {
     "data": {
      "text/plain": "   distance cab_type    time_stamp         destination  \\\n0      0.62     Uber  1.544770e+12            West End   \n1      2.27     Uber  1.543400e+12   Boston University   \n2      2.00     Lyft  1.544920e+12            Back Bay   \n3      3.98     Lyft  1.543620e+12  Financial District   \n4      1.49     Lyft  1.543580e+12            Back Bay   \n\n                    source  surge_multiplier  \\\n0         Haymarket Square               1.0   \n1              Beacon Hill               1.0   \n2         Haymarket Square               1.0   \n3  Northeastern University               1.0   \n4  Northeastern University               1.0   \n\n                                     id                            product_id  \\\n0  c1b4a572-24b2-484d-aac5-b4f97b790480  8cf7e821-f0d3-49c6-8eba-e679c0ebcf6a   \n1  f9e7e7e6-b309-479b-9f90-bf26a1870c81  997acbb5-e102-41e1-b155-9df7de0a73f2   \n2  154e8438-46f5-4e5f-9872-15cc95e85eed                                  lyft   \n3  6bdc30a6-9a80-487b-914e-8d9b82ee4acb                             lyft_plus   \n4  0cb12fe9-cd72-4feb-b341-4a566b2e6643                                  lyft   \n\n       name RideCategory  \n0      Taxi      unknown  \n1  UberPool        cheap  \n2      Lyft     moderate  \n3   Lyft XL    expensive  \n4      Lyft        cheap  ",
      "text/html": "<div>\n<style scoped>\n    .dataframe tbody tr th:only-of-type {\n        vertical-align: middle;\n    }\n\n    .dataframe tbody tr th {\n        vertical-align: top;\n    }\n\n    .dataframe thead th {\n        text-align: right;\n    }\n</style>\n<table border=\"1\" class=\"dataframe\">\n  <thead>\n    <tr style=\"text-align: right;\">\n      <th></th>\n      <th>distance</th>\n      <th>cab_type</th>\n      <th>time_stamp</th>\n      <th>destination</th>\n      <th>source</th>\n      <th>surge_multiplier</th>\n      <th>id</th>\n      <th>product_id</th>\n      <th>name</th>\n      <th>RideCategory</th>\n    </tr>\n  </thead>\n  <tbody>\n    <tr>\n      <td>0</td>\n      <td>0.62</td>\n      <td>Uber</td>\n      <td>1.544770e+12</td>\n      <td>West End</td>\n      <td>Haymarket Square</td>\n      <td>1.0</td>\n      <td>c1b4a572-24b2-484d-aac5-b4f97b790480</td>\n      <td>8cf7e821-f0d3-49c6-8eba-e679c0ebcf6a</td>\n      <td>Taxi</td>\n      <td>unknown</td>\n    </tr>\n    <tr>\n      <td>1</td>\n      <td>2.27</td>\n      <td>Uber</td>\n      <td>1.543400e+12</td>\n      <td>Boston University</td>\n      <td>Beacon Hill</td>\n      <td>1.0</td>\n      <td>f9e7e7e6-b309-479b-9f90-bf26a1870c81</td>\n      <td>997acbb5-e102-41e1-b155-9df7de0a73f2</td>\n      <td>UberPool</td>\n      <td>cheap</td>\n    </tr>\n    <tr>\n      <td>2</td>\n      <td>2.00</td>\n      <td>Lyft</td>\n      <td>1.544920e+12</td>\n      <td>Back Bay</td>\n      <td>Haymarket Square</td>\n      <td>1.0</td>\n      <td>154e8438-46f5-4e5f-9872-15cc95e85eed</td>\n      <td>lyft</td>\n      <td>Lyft</td>\n      <td>moderate</td>\n    </tr>\n    <tr>\n      <td>3</td>\n      <td>3.98</td>\n      <td>Lyft</td>\n      <td>1.543620e+12</td>\n      <td>Financial District</td>\n      <td>Northeastern University</td>\n      <td>1.0</td>\n      <td>6bdc30a6-9a80-487b-914e-8d9b82ee4acb</td>\n      <td>lyft_plus</td>\n      <td>Lyft XL</td>\n      <td>expensive</td>\n    </tr>\n    <tr>\n      <td>4</td>\n      <td>1.49</td>\n      <td>Lyft</td>\n      <td>1.543580e+12</td>\n      <td>Back Bay</td>\n      <td>Northeastern University</td>\n      <td>1.0</td>\n      <td>0cb12fe9-cd72-4feb-b341-4a566b2e6643</td>\n      <td>lyft</td>\n      <td>Lyft</td>\n      <td>cheap</td>\n    </tr>\n  </tbody>\n</table>\n</div>"
     },
     "execution_count": 7,
     "metadata": {},
     "output_type": "execute_result"
    }
   ],
   "metadata": {
    "collapsed": false,
    "pycharm": {
     "name": "#%%\n"
    }
   }
  },
  {
   "cell_type": "code",
   "execution_count": 8,
   "source": [
    "print(f\"Weather has {weather.shape[0]} Rows and {weather.shape[1]} Columns\")\n",
    "weather.head()"
   ],
   "outputs": [
    {
     "name": "stdout",
     "output_type": "stream",
     "text": [
      "Weather has 6276 Rows and 8 Columns\n"
     ]
    },
    {
     "data": {
      "text/plain": "    temp            location  clouds  pressure    rain  time_stamp  humidity  \\\n0  42.42            Back Bay     1.0   1012.14  0.1228  1545003901      0.77   \n1  42.43         Beacon Hill     1.0   1012.15  0.1846  1545003901      0.76   \n2  42.50   Boston University     1.0   1012.15  0.1089  1545003901      0.76   \n3  42.11              Fenway     1.0   1012.13  0.0969  1545003901      0.77   \n4  43.13  Financial District     1.0   1012.14  0.1786  1545003901      0.75   \n\n    wind  \n0  11.25  \n1  11.32  \n2  11.07  \n3  11.09  \n4  11.49  ",
      "text/html": "<div>\n<style scoped>\n    .dataframe tbody tr th:only-of-type {\n        vertical-align: middle;\n    }\n\n    .dataframe tbody tr th {\n        vertical-align: top;\n    }\n\n    .dataframe thead th {\n        text-align: right;\n    }\n</style>\n<table border=\"1\" class=\"dataframe\">\n  <thead>\n    <tr style=\"text-align: right;\">\n      <th></th>\n      <th>temp</th>\n      <th>location</th>\n      <th>clouds</th>\n      <th>pressure</th>\n      <th>rain</th>\n      <th>time_stamp</th>\n      <th>humidity</th>\n      <th>wind</th>\n    </tr>\n  </thead>\n  <tbody>\n    <tr>\n      <td>0</td>\n      <td>42.42</td>\n      <td>Back Bay</td>\n      <td>1.0</td>\n      <td>1012.14</td>\n      <td>0.1228</td>\n      <td>1545003901</td>\n      <td>0.77</td>\n      <td>11.25</td>\n    </tr>\n    <tr>\n      <td>1</td>\n      <td>42.43</td>\n      <td>Beacon Hill</td>\n      <td>1.0</td>\n      <td>1012.15</td>\n      <td>0.1846</td>\n      <td>1545003901</td>\n      <td>0.76</td>\n      <td>11.32</td>\n    </tr>\n    <tr>\n      <td>2</td>\n      <td>42.50</td>\n      <td>Boston University</td>\n      <td>1.0</td>\n      <td>1012.15</td>\n      <td>0.1089</td>\n      <td>1545003901</td>\n      <td>0.76</td>\n      <td>11.07</td>\n    </tr>\n    <tr>\n      <td>3</td>\n      <td>42.11</td>\n      <td>Fenway</td>\n      <td>1.0</td>\n      <td>1012.13</td>\n      <td>0.0969</td>\n      <td>1545003901</td>\n      <td>0.77</td>\n      <td>11.09</td>\n    </tr>\n    <tr>\n      <td>4</td>\n      <td>43.13</td>\n      <td>Financial District</td>\n      <td>1.0</td>\n      <td>1012.14</td>\n      <td>0.1786</td>\n      <td>1545003901</td>\n      <td>0.75</td>\n      <td>11.49</td>\n    </tr>\n  </tbody>\n</table>\n</div>"
     },
     "execution_count": 8,
     "metadata": {},
     "output_type": "execute_result"
    }
   ],
   "metadata": {
    "collapsed": false,
    "pycharm": {
     "name": "#%%\n"
    }
   }
  },
  {
   "cell_type": "markdown",
   "source": [
    "# Data Cleaning"
   ],
   "metadata": {
    "collapsed": false,
    "pycharm": {
     "name": "#%% md\n"
    }
   }
  },
  {
   "cell_type": "markdown",
   "source": [
    "## Taxi Rides"
   ],
   "metadata": {
    "collapsed": false,
    "pycharm": {
     "name": "#%% md\n"
    }
   }
  },
  {
   "cell_type": "code",
   "execution_count": 9,
   "source": [
    "taxiRides.info()"
   ],
   "outputs": [
    {
     "name": "stdout",
     "output_type": "stream",
     "text": [
      "<class 'pandas.core.frame.DataFrame'>\n",
      "RangeIndex: 554456 entries, 0 to 554455\n",
      "Data columns (total 10 columns):\n",
      "distance            554456 non-null float64\n",
      "cab_type            554456 non-null object\n",
      "time_stamp          554456 non-null float64\n",
      "destination         554456 non-null object\n",
      "source              554456 non-null object\n",
      "surge_multiplier    554456 non-null float64\n",
      "id                  554456 non-null object\n",
      "product_id          554456 non-null object\n",
      "name                554456 non-null object\n",
      "RideCategory        554456 non-null object\n",
      "dtypes: float64(3), object(7)\n",
      "memory usage: 42.3+ MB\n"
     ]
    }
   ],
   "metadata": {
    "collapsed": false,
    "pycharm": {
     "name": "#%%\n"
    }
   }
  },
  {
   "cell_type": "markdown",
   "source": [
    "## Null"
   ],
   "metadata": {
    "collapsed": false,
    "pycharm": {
     "name": "#%% md\n"
    }
   }
  },
  {
   "cell_type": "code",
   "execution_count": 10,
   "source": [
    "print(\"Null Values in columns\")\n",
    "taxiRides.isnull().sum()"
   ],
   "outputs": [
    {
     "name": "stdout",
     "output_type": "stream",
     "text": [
      "Null Values in columns\n"
     ]
    },
    {
     "data": {
      "text/plain": "distance            0\ncab_type            0\ntime_stamp          0\ndestination         0\nsource              0\nsurge_multiplier    0\nid                  0\nproduct_id          0\nname                0\nRideCategory        0\ndtype: int64"
     },
     "execution_count": 10,
     "metadata": {},
     "output_type": "execute_result"
    }
   ],
   "metadata": {
    "collapsed": false,
    "pycharm": {
     "name": "#%%\n"
    }
   }
  },
  {
   "cell_type": "code",
   "execution_count": 11,
   "source": [
    "weather['rain'].fillna(0,inplace=True)"
   ],
   "outputs": [],
   "metadata": {
    "collapsed": false,
    "pycharm": {
     "name": "#%%\n"
    }
   }
  },
  {
   "cell_type": "markdown",
   "source": [
    "## product_id and name"
   ],
   "metadata": {
    "collapsed": false,
    "pycharm": {
     "name": "#%% md\n"
    }
   }
  },
  {
   "cell_type": "code",
   "execution_count": 12,
   "source": [
    "print(f\"Value counts of 'product_id' feature\\n\")\n",
    "taxiRides['product_id'].value_counts()"
   ],
   "outputs": [
    {
     "name": "stdout",
     "output_type": "stream",
     "text": [
      "Value counts of 'product_id' feature\n",
      "\n"
     ]
    },
    {
     "data": {
      "text/plain": "55c66225-fbe7-4fd5-9072-eab1ece5e23e    44204\n8cf7e821-f0d3-49c6-8eba-e679c0ebcf6a    44135\n997acbb5-e102-41e1-b155-9df7de0a73f2    44108\n6d318bcc-22a3-4af6-bddd-b409bfce1546    44038\n9a0e7b09-b92b-4c41-9779-2ad22b4d779d    44024\n6f72dfc5-27f1-42e8-84db-ccc7a75f6969    43983\n6c84fd89-3f11-4782-9b50-97c468b19529    43977\nlyft_plus                               41142\nlyft_lux                                41041\nlyft                                    41015\nlyft_luxsuv                             40979\nlyft_premier                            40969\nlyft_line                               40841\nName: product_id, dtype: int64"
     },
     "execution_count": 12,
     "metadata": {},
     "output_type": "execute_result"
    }
   ],
   "metadata": {
    "collapsed": false,
    "pycharm": {
     "name": "#%%\n"
    }
   }
  },
  {
   "cell_type": "code",
   "execution_count": 13,
   "source": [
    "print(f\"Value counts of 'name' feature\\n\")\n",
    "taxiRides['name'].value_counts()"
   ],
   "outputs": [
    {
     "name": "stdout",
     "output_type": "stream",
     "text": [
      "Value counts of 'name' feature\n",
      "\n"
     ]
    },
    {
     "data": {
      "text/plain": "UberX           44204\nTaxi            44135\nUberPool        44108\nBlack SUV       44038\nWAV             44024\nUberXL          43983\nBlack           43977\nLyft XL         41142\nLux Black       41041\nLyft            41015\nLux Black XL    40979\nLux             40969\nShared          40841\nName: name, dtype: int64"
     },
     "execution_count": 13,
     "metadata": {},
     "output_type": "execute_result"
    }
   ],
   "metadata": {
    "collapsed": false,
    "pycharm": {
     "name": "#%%\n"
    }
   }
  },
  {
   "cell_type": "markdown",
   "source": [
    "product_id and name represent the same feature so we can drop one of them"
   ],
   "metadata": {
    "collapsed": false,
    "pycharm": {
     "name": "#%% md\n"
    }
   }
  },
  {
   "cell_type": "markdown",
   "source": [
    "## Encoding Timestamps to date"
   ],
   "metadata": {
    "collapsed": false,
    "pycharm": {
     "name": "#%% md\n"
    }
   }
  },
  {
   "cell_type": "code",
   "execution_count": 14,
   "source": [
    "weatherDate = pd.to_datetime(weather['time_stamp'], unit='s').apply(lambda x: x.strftime(('%Y-%m-%d')))\n",
    "taxiRidesDate = pd.to_datetime(taxiRides['time_stamp'], unit='ms').apply(lambda x: x.strftime(('%Y-%m-%d')))\n",
    "weather['date'] = weatherDate\n",
    "taxiRides['date'] = taxiRidesDate"
   ],
   "outputs": [],
   "metadata": {
    "collapsed": false,
    "pycharm": {
     "name": "#%%\n"
    }
   }
  },
  {
   "cell_type": "code",
   "execution_count": 15,
   "source": [
    "taxiRides.head()"
   ],
   "outputs": [
    {
     "data": {
      "text/plain": "   distance cab_type    time_stamp         destination  \\\n0      0.62     Uber  1.544770e+12            West End   \n1      2.27     Uber  1.543400e+12   Boston University   \n2      2.00     Lyft  1.544920e+12            Back Bay   \n3      3.98     Lyft  1.543620e+12  Financial District   \n4      1.49     Lyft  1.543580e+12            Back Bay   \n\n                    source  surge_multiplier  \\\n0         Haymarket Square               1.0   \n1              Beacon Hill               1.0   \n2         Haymarket Square               1.0   \n3  Northeastern University               1.0   \n4  Northeastern University               1.0   \n\n                                     id                            product_id  \\\n0  c1b4a572-24b2-484d-aac5-b4f97b790480  8cf7e821-f0d3-49c6-8eba-e679c0ebcf6a   \n1  f9e7e7e6-b309-479b-9f90-bf26a1870c81  997acbb5-e102-41e1-b155-9df7de0a73f2   \n2  154e8438-46f5-4e5f-9872-15cc95e85eed                                  lyft   \n3  6bdc30a6-9a80-487b-914e-8d9b82ee4acb                             lyft_plus   \n4  0cb12fe9-cd72-4feb-b341-4a566b2e6643                                  lyft   \n\n       name RideCategory        date  \n0      Taxi      unknown  2018-12-14  \n1  UberPool        cheap  2018-11-28  \n2      Lyft     moderate  2018-12-16  \n3   Lyft XL    expensive  2018-11-30  \n4      Lyft        cheap  2018-11-30  ",
      "text/html": "<div>\n<style scoped>\n    .dataframe tbody tr th:only-of-type {\n        vertical-align: middle;\n    }\n\n    .dataframe tbody tr th {\n        vertical-align: top;\n    }\n\n    .dataframe thead th {\n        text-align: right;\n    }\n</style>\n<table border=\"1\" class=\"dataframe\">\n  <thead>\n    <tr style=\"text-align: right;\">\n      <th></th>\n      <th>distance</th>\n      <th>cab_type</th>\n      <th>time_stamp</th>\n      <th>destination</th>\n      <th>source</th>\n      <th>surge_multiplier</th>\n      <th>id</th>\n      <th>product_id</th>\n      <th>name</th>\n      <th>RideCategory</th>\n      <th>date</th>\n    </tr>\n  </thead>\n  <tbody>\n    <tr>\n      <td>0</td>\n      <td>0.62</td>\n      <td>Uber</td>\n      <td>1.544770e+12</td>\n      <td>West End</td>\n      <td>Haymarket Square</td>\n      <td>1.0</td>\n      <td>c1b4a572-24b2-484d-aac5-b4f97b790480</td>\n      <td>8cf7e821-f0d3-49c6-8eba-e679c0ebcf6a</td>\n      <td>Taxi</td>\n      <td>unknown</td>\n      <td>2018-12-14</td>\n    </tr>\n    <tr>\n      <td>1</td>\n      <td>2.27</td>\n      <td>Uber</td>\n      <td>1.543400e+12</td>\n      <td>Boston University</td>\n      <td>Beacon Hill</td>\n      <td>1.0</td>\n      <td>f9e7e7e6-b309-479b-9f90-bf26a1870c81</td>\n      <td>997acbb5-e102-41e1-b155-9df7de0a73f2</td>\n      <td>UberPool</td>\n      <td>cheap</td>\n      <td>2018-11-28</td>\n    </tr>\n    <tr>\n      <td>2</td>\n      <td>2.00</td>\n      <td>Lyft</td>\n      <td>1.544920e+12</td>\n      <td>Back Bay</td>\n      <td>Haymarket Square</td>\n      <td>1.0</td>\n      <td>154e8438-46f5-4e5f-9872-15cc95e85eed</td>\n      <td>lyft</td>\n      <td>Lyft</td>\n      <td>moderate</td>\n      <td>2018-12-16</td>\n    </tr>\n    <tr>\n      <td>3</td>\n      <td>3.98</td>\n      <td>Lyft</td>\n      <td>1.543620e+12</td>\n      <td>Financial District</td>\n      <td>Northeastern University</td>\n      <td>1.0</td>\n      <td>6bdc30a6-9a80-487b-914e-8d9b82ee4acb</td>\n      <td>lyft_plus</td>\n      <td>Lyft XL</td>\n      <td>expensive</td>\n      <td>2018-11-30</td>\n    </tr>\n    <tr>\n      <td>4</td>\n      <td>1.49</td>\n      <td>Lyft</td>\n      <td>1.543580e+12</td>\n      <td>Back Bay</td>\n      <td>Northeastern University</td>\n      <td>1.0</td>\n      <td>0cb12fe9-cd72-4feb-b341-4a566b2e6643</td>\n      <td>lyft</td>\n      <td>Lyft</td>\n      <td>cheap</td>\n      <td>2018-11-30</td>\n    </tr>\n  </tbody>\n</table>\n</div>"
     },
     "execution_count": 15,
     "metadata": {},
     "output_type": "execute_result"
    }
   ],
   "metadata": {
    "collapsed": false,
    "pycharm": {
     "name": "#%%\n"
    }
   }
  },
  {
   "cell_type": "code",
   "execution_count": 16,
   "source": [
    "weather.head()"
   ],
   "outputs": [
    {
     "data": {
      "text/plain": "    temp            location  clouds  pressure    rain  time_stamp  humidity  \\\n0  42.42            Back Bay     1.0   1012.14  0.1228  1545003901      0.77   \n1  42.43         Beacon Hill     1.0   1012.15  0.1846  1545003901      0.76   \n2  42.50   Boston University     1.0   1012.15  0.1089  1545003901      0.76   \n3  42.11              Fenway     1.0   1012.13  0.0969  1545003901      0.77   \n4  43.13  Financial District     1.0   1012.14  0.1786  1545003901      0.75   \n\n    wind        date  \n0  11.25  2018-12-16  \n1  11.32  2018-12-16  \n2  11.07  2018-12-16  \n3  11.09  2018-12-16  \n4  11.49  2018-12-16  ",
      "text/html": "<div>\n<style scoped>\n    .dataframe tbody tr th:only-of-type {\n        vertical-align: middle;\n    }\n\n    .dataframe tbody tr th {\n        vertical-align: top;\n    }\n\n    .dataframe thead th {\n        text-align: right;\n    }\n</style>\n<table border=\"1\" class=\"dataframe\">\n  <thead>\n    <tr style=\"text-align: right;\">\n      <th></th>\n      <th>temp</th>\n      <th>location</th>\n      <th>clouds</th>\n      <th>pressure</th>\n      <th>rain</th>\n      <th>time_stamp</th>\n      <th>humidity</th>\n      <th>wind</th>\n      <th>date</th>\n    </tr>\n  </thead>\n  <tbody>\n    <tr>\n      <td>0</td>\n      <td>42.42</td>\n      <td>Back Bay</td>\n      <td>1.0</td>\n      <td>1012.14</td>\n      <td>0.1228</td>\n      <td>1545003901</td>\n      <td>0.77</td>\n      <td>11.25</td>\n      <td>2018-12-16</td>\n    </tr>\n    <tr>\n      <td>1</td>\n      <td>42.43</td>\n      <td>Beacon Hill</td>\n      <td>1.0</td>\n      <td>1012.15</td>\n      <td>0.1846</td>\n      <td>1545003901</td>\n      <td>0.76</td>\n      <td>11.32</td>\n      <td>2018-12-16</td>\n    </tr>\n    <tr>\n      <td>2</td>\n      <td>42.50</td>\n      <td>Boston University</td>\n      <td>1.0</td>\n      <td>1012.15</td>\n      <td>0.1089</td>\n      <td>1545003901</td>\n      <td>0.76</td>\n      <td>11.07</td>\n      <td>2018-12-16</td>\n    </tr>\n    <tr>\n      <td>3</td>\n      <td>42.11</td>\n      <td>Fenway</td>\n      <td>1.0</td>\n      <td>1012.13</td>\n      <td>0.0969</td>\n      <td>1545003901</td>\n      <td>0.77</td>\n      <td>11.09</td>\n      <td>2018-12-16</td>\n    </tr>\n    <tr>\n      <td>4</td>\n      <td>43.13</td>\n      <td>Financial District</td>\n      <td>1.0</td>\n      <td>1012.14</td>\n      <td>0.1786</td>\n      <td>1545003901</td>\n      <td>0.75</td>\n      <td>11.49</td>\n      <td>2018-12-16</td>\n    </tr>\n  </tbody>\n</table>\n</div>"
     },
     "execution_count": 16,
     "metadata": {},
     "output_type": "execute_result"
    }
   ],
   "metadata": {
    "collapsed": false,
    "pycharm": {
     "name": "#%%\n"
    }
   }
  },
  {
   "cell_type": "code",
   "execution_count": 17,
   "source": [
    "taxiRides['date'].value_counts()"
   ],
   "outputs": [
    {
     "data": {
      "text/plain": "2018-11-27    63256\n2018-11-29    53128\n2018-11-28    52087\n2018-11-30    37608\n2018-12-14    37608\n2018-12-02    37547\n2018-12-17    37540\n2018-12-16    37423\n2018-12-03    37409\n2018-12-01    33387\n2018-12-15    33255\n2018-12-13    30590\n2018-12-18    27281\n2018-11-26    24021\n2018-12-04     8750\n2018-12-10     3566\nName: date, dtype: int64"
     },
     "execution_count": 17,
     "metadata": {},
     "output_type": "execute_result"
    }
   ],
   "metadata": {
    "collapsed": false,
    "pycharm": {
     "name": "#%%\n"
    }
   }
  },
  {
   "cell_type": "code",
   "execution_count": 18,
   "source": [
    "weather['date'].value_counts()"
   ],
   "outputs": [
    {
     "data": {
      "text/plain": "2018-11-28    948\n2018-11-26    852\n2018-11-29    768\n2018-11-27    684\n2018-12-01    324\n2018-11-30    300\n2018-12-14    288\n2018-12-02    288\n2018-12-03    288\n2018-12-17    288\n2018-12-15    288\n2018-12-16    288\n2018-12-13    276\n2018-12-18    228\n2018-12-04     72\n2018-12-10     72\n2018-12-09     24\nName: date, dtype: int64"
     },
     "execution_count": 18,
     "metadata": {},
     "output_type": "execute_result"
    }
   ],
   "metadata": {
    "collapsed": false,
    "pycharm": {
     "name": "#%%\n"
    }
   }
  },
  {
   "cell_type": "markdown",
   "source": [
    "## Joining Dataframes based on date"
   ],
   "metadata": {
    "collapsed": false,
    "pycharm": {
     "name": "#%% md\n"
    }
   }
  },
  {
   "cell_type": "code",
   "execution_count": 19,
   "source": [
    "taxiRides.drop(['time_stamp'],axis = 1, inplace = True)\n",
    "weather.drop(['time_stamp'],axis = 1, inplace = True)\n",
    "\n",
    "mergedData = pd.merge(taxiRides,weather.drop_duplicates(subset=['date', 'location']), how = 'left', left_on=['date', 'source'], right_on=['date', 'location'])"
   ],
   "outputs": [],
   "metadata": {
    "collapsed": false,
    "pycharm": {
     "name": "#%%\n"
    }
   }
  },
  {
   "cell_type": "code",
   "execution_count": 20,
   "source": [
    "mergedData.isnull().sum()"
   ],
   "outputs": [
    {
     "data": {
      "text/plain": "distance            0\ncab_type            0\ndestination         0\nsource              0\nsurge_multiplier    0\nid                  0\nproduct_id          0\nname                0\nRideCategory        0\ndate                0\ntemp                0\nlocation            0\nclouds              0\npressure            0\nrain                0\nhumidity            0\nwind                0\ndtype: int64"
     },
     "execution_count": 20,
     "metadata": {},
     "output_type": "execute_result"
    }
   ],
   "metadata": {
    "collapsed": false,
    "pycharm": {
     "name": "#%%\n"
    }
   }
  },
  {
   "cell_type": "markdown",
   "source": [
    "## Rain Feature"
   ],
   "metadata": {
    "collapsed": false,
    "pycharm": {
     "name": "#%% md\n"
    }
   }
  },
  {
   "cell_type": "code",
   "execution_count": 21,
   "source": [
    "weather['rain'].isnull().sum() / weather['rain'].shape[0]\n",
    "weather['rain'].hist()\n",
    "#Does null values of rain revolve around certain values?\n",
    "print(\"Rows with null rain value statistics\")\n",
    "weather[weather['rain'].isnull()].describe()\n",
    "\n",
    "print(\"Rows with non-null rain value statistics\")\n",
    "weather[weather['rain'].notna()].describe()\n",
    "\n",
    "weather['rain'].value_counts()\n",
    "\n",
    "print(f\"Values of 0 in the rain feature {(weather['rain'] == 0).sum()}\")\n",
    "#Rain feature nulls could indicate no rain\n"
   ],
   "outputs": [
    {
     "name": "stdout",
     "output_type": "stream",
     "text": [
      "Rows with null rain value statistics\n",
      "Rows with non-null rain value statistics\n",
      "Values of 0 in the rain feature 5382\n"
     ]
    },
    {
     "data": {
      "text/plain": "<Figure size 432x288 with 1 Axes>",
      "image/png": "[encoded data removed]"
     },
     "metadata": {
      "needs_background": "light"
     },
     "output_type": "display_data"
    }
   ],
   "metadata": {
    "collapsed": false,
    "pycharm": {
     "name": "#%%\n"
    }
   }
  },
  {
   "cell_type": "markdown",
   "source": [
    "# Data Visualization"
   ],
   "metadata": {
    "collapsed": false,
    "pycharm": {
     "name": "#%% md\n"
    }
   }
  },
  {
   "cell_type": "code",
   "execution_count": 22,
   "source": [
    "# plt.figure(figsize = (8, 8))\n",
    "# plt.xticks(rotation = 60)\n",
    "# plt.yticks(rotation = 60)\n",
    "# plt.title('Correlation of data features')\n",
    "# sns.heatmap(taxiRides.corr(), annot = True)\n",
    "# plt.show()"
   ],
   "outputs": [],
   "metadata": {
    "collapsed": false,
    "pycharm": {
     "name": "#%%\n"
    }
   }
  },
  {
   "cell_type": "code",
   "execution_count": 23,
   "source": [
    "taxiRides['cab_type'].hist()\n",
    "plt.show()"
   ],
   "outputs": [
    {
     "data": {
      "text/plain": "<Figure size 432x288 with 1 Axes>",
      "image/png": "[encoded data removed]"
     },
     "metadata": {
      "needs_background": "light"
     },
     "output_type": "display_data"
    }
   ],
   "metadata": {
    "collapsed": false,
    "pycharm": {
     "name": "#%%\n"
    }
   }
  },
  {
   "cell_type": "code",
   "execution_count": 24,
   "source": [
    "taxiRides['surge_multiplier'].hist()"
   ],
   "outputs": [
    {
     "data": {
      "text/plain": "<matplotlib.axes._subplots.AxesSubplot at 0x1ff4b3ee048>"
     },
     "execution_count": 24,
     "metadata": {},
     "output_type": "execute_result"
    },
    {
     "data": {
      "text/plain": "<Figure size 432x288 with 1 Axes>",
      "image/png": "[encoded data removed]"
     },
     "metadata": {
      "needs_background": "light"
     },
     "output_type": "display_data"
    }
   ],
   "metadata": {
    "collapsed": false,
    "pycharm": {
     "name": "#%%\n"
    }
   }
  },
  {
   "cell_type": "markdown",
   "source": [
    "# Preprocessing"
   ],
   "metadata": {
    "collapsed": false,
    "pycharm": {
     "name": "#%% md\n"
    }
   }
  },
  {
   "cell_type": "code",
   "execution_count": 25,
   "source": [
    "mergedData.head()"
   ],
   "outputs": [
    {
     "data": {
      "text/plain": "   distance cab_type         destination                   source  \\\n0      0.62     Uber            West End         Haymarket Square   \n1      2.27     Uber   Boston University              Beacon Hill   \n2      2.00     Lyft            Back Bay         Haymarket Square   \n3      3.98     Lyft  Financial District  Northeastern University   \n4      1.49     Lyft            Back Bay  Northeastern University   \n\n   surge_multiplier                                    id  \\\n0               1.0  c1b4a572-24b2-484d-aac5-b4f97b790480   \n1               1.0  f9e7e7e6-b309-479b-9f90-bf26a1870c81   \n2               1.0  154e8438-46f5-4e5f-9872-15cc95e85eed   \n3               1.0  6bdc30a6-9a80-487b-914e-8d9b82ee4acb   \n4               1.0  0cb12fe9-cd72-4feb-b341-4a566b2e6643   \n\n                             product_id      name RideCategory        date  \\\n0  8cf7e821-f0d3-49c6-8eba-e679c0ebcf6a      Taxi      unknown  2018-12-14   \n1  997acbb5-e102-41e1-b155-9df7de0a73f2  UberPool        cheap  2018-11-28   \n2                                  lyft      Lyft     moderate  2018-12-16   \n3                             lyft_plus   Lyft XL    expensive  2018-11-30   \n4                                  lyft      Lyft        cheap  2018-11-30   \n\n    temp                 location  clouds  pressure    rain  humidity   wind  \n0  27.34         Haymarket Square    0.15   1033.40  0.0000      0.81   3.04  \n1  33.67              Beacon Hill    0.12    991.20  0.0000      0.82   5.37  \n2  42.34         Haymarket Square    1.00   1012.15  0.2068      0.77  11.49  \n3  38.46  Northeastern University    0.96   1017.24  0.0000      0.66   3.31  \n4  38.46  Northeastern University    0.96   1017.24  0.0000      0.66   3.31  ",
      "text/html": "<div>\n<style scoped>\n    .dataframe tbody tr th:only-of-type {\n        vertical-align: middle;\n    }\n\n    .dataframe tbody tr th {\n        vertical-align: top;\n    }\n\n    .dataframe thead th {\n        text-align: right;\n    }\n</style>\n<table border=\"1\" class=\"dataframe\">\n  <thead>\n    <tr style=\"text-align: right;\">\n      <th></th>\n      <th>distance</th>\n      <th>cab_type</th>\n      <th>destination</th>\n      <th>source</th>\n      <th>surge_multiplier</th>\n      <th>id</th>\n      <th>product_id</th>\n      <th>name</th>\n      <th>RideCategory</th>\n      <th>date</th>\n      <th>temp</th>\n      <th>location</th>\n      <th>clouds</th>\n      <th>pressure</th>\n      <th>rain</th>\n      <th>humidity</th>\n      <th>wind</th>\n    </tr>\n  </thead>\n  <tbody>\n    <tr>\n      <td>0</td>\n      <td>0.62</td>\n      <td>Uber</td>\n      <td>West End</td>\n      <td>Haymarket Square</td>\n      <td>1.0</td>\n      <td>c1b4a572-24b2-484d-aac5-b4f97b790480</td>\n      <td>8cf7e821-f0d3-49c6-8eba-e679c0ebcf6a</td>\n      <td>Taxi</td>\n      <td>unknown</td>\n      <td>2018-12-14</td>\n      <td>27.34</td>\n      <td>Haymarket Square</td>\n      <td>0.15</td>\n      <td>1033.40</td>\n      <td>0.0000</td>\n      <td>0.81</td>\n      <td>3.04</td>\n    </tr>\n    <tr>\n      <td>1</td>\n      <td>2.27</td>\n      <td>Uber</td>\n      <td>Boston University</td>\n      <td>Beacon Hill</td>\n      <td>1.0</td>\n      <td>f9e7e7e6-b309-479b-9f90-bf26a1870c81</td>\n      <td>997acbb5-e102-41e1-b155-9df7de0a73f2</td>\n      <td>UberPool</td>\n      <td>cheap</td>\n      <td>2018-11-28</td>\n      <td>33.67</td>\n      <td>Beacon Hill</td>\n      <td>0.12</td>\n      <td>991.20</td>\n      <td>0.0000</td>\n      <td>0.82</td>\n      <td>5.37</td>\n    </tr>\n    <tr>\n      <td>2</td>\n      <td>2.00</td>\n      <td>Lyft</td>\n      <td>Back Bay</td>\n      <td>Haymarket Square</td>\n      <td>1.0</td>\n      <td>154e8438-46f5-4e5f-9872-15cc95e85eed</td>\n      <td>lyft</td>\n      <td>Lyft</td>\n      <td>moderate</td>\n      <td>2018-12-16</td>\n      <td>42.34</td>\n      <td>Haymarket Square</td>\n      <td>1.00</td>\n      <td>1012.15</td>\n      <td>0.2068</td>\n      <td>0.77</td>\n      <td>11.49</td>\n    </tr>\n    <tr>\n      <td>3</td>\n      <td>3.98</td>\n      <td>Lyft</td>\n      <td>Financial District</td>\n      <td>Northeastern University</td>\n      <td>1.0</td>\n      <td>6bdc30a6-9a80-487b-914e-8d9b82ee4acb</td>\n      <td>lyft_plus</td>\n      <td>Lyft XL</td>\n      <td>expensive</td>\n      <td>2018-11-30</td>\n      <td>38.46</td>\n      <td>Northeastern University</td>\n      <td>0.96</td>\n      <td>1017.24</td>\n      <td>0.0000</td>\n      <td>0.66</td>\n      <td>3.31</td>\n    </tr>\n    <tr>\n      <td>4</td>\n      <td>1.49</td>\n      <td>Lyft</td>\n      <td>Back Bay</td>\n      <td>Northeastern University</td>\n      <td>1.0</td>\n      <td>0cb12fe9-cd72-4feb-b341-4a566b2e6643</td>\n      <td>lyft</td>\n      <td>Lyft</td>\n      <td>cheap</td>\n      <td>2018-11-30</td>\n      <td>38.46</td>\n      <td>Northeastern University</td>\n      <td>0.96</td>\n      <td>1017.24</td>\n      <td>0.0000</td>\n      <td>0.66</td>\n      <td>3.31</td>\n    </tr>\n  </tbody>\n</table>\n</div>"
     },
     "execution_count": 25,
     "metadata": {},
     "output_type": "execute_result"
    }
   ],
   "metadata": {
    "collapsed": false,
    "pycharm": {
     "name": "#%%\n"
    }
   }
  },
  {
   "cell_type": "code",
   "execution_count": 26,
   "source": [
    "preProcessing = PreProcessing()"
   ],
   "outputs": [],
   "metadata": {
    "collapsed": false,
    "pycharm": {
     "name": "#%%\n"
    }
   }
  },
  {
   "cell_type": "code",
   "execution_count": 27,
   "source": [
    "columnsToDrop = ['id', 'date', 'product_id', 'location']"
   ],
   "outputs": [],
   "metadata": {
    "collapsed": false,
    "pycharm": {
     "name": "#%%\n"
    }
   }
  },
  {
   "cell_type": "code",
   "execution_count": 28,
   "source": [
    "mergedData.drop(columnsToDrop,axis = 1,inplace=True)"
   ],
   "outputs": [],
   "metadata": {
    "collapsed": false,
    "pycharm": {
     "name": "#%%\n"
    }
   }
  },
  {
   "cell_type": "code",
   "execution_count": 29,
   "source": [
    "mergedData.head()"
   ],
   "outputs": [
    {
     "data": {
      "text/plain": "   distance cab_type         destination                   source  \\\n0      0.62     Uber            West End         Haymarket Square   \n1      2.27     Uber   Boston University              Beacon Hill   \n2      2.00     Lyft            Back Bay         Haymarket Square   \n3      3.98     Lyft  Financial District  Northeastern University   \n4      1.49     Lyft            Back Bay  Northeastern University   \n\n   surge_multiplier      name RideCategory   temp  clouds  pressure    rain  \\\n0               1.0      Taxi      unknown  27.34    0.15   1033.40  0.0000   \n1               1.0  UberPool        cheap  33.67    0.12    991.20  0.0000   \n2               1.0      Lyft     moderate  42.34    1.00   1012.15  0.2068   \n3               1.0   Lyft XL    expensive  38.46    0.96   1017.24  0.0000   \n4               1.0      Lyft        cheap  38.46    0.96   1017.24  0.0000   \n\n   humidity   wind  \n0      0.81   3.04  \n1      0.82   5.37  \n2      0.77  11.49  \n3      0.66   3.31  \n4      0.66   3.31  ",
      "text/html": "<div>\n<style scoped>\n    .dataframe tbody tr th:only-of-type {\n        vertical-align: middle;\n    }\n\n    .dataframe tbody tr th {\n        vertical-align: top;\n    }\n\n    .dataframe thead th {\n        text-align: right;\n    }\n</style>\n<table border=\"1\" class=\"dataframe\">\n  <thead>\n    <tr style=\"text-align: right;\">\n      <th></th>\n      <th>distance</th>\n      <th>cab_type</th>\n      <th>destination</th>\n      <th>source</th>\n      <th>surge_multiplier</th>\n      <th>name</th>\n      <th>RideCategory</th>\n      <th>temp</th>\n      <th>clouds</th>\n      <th>pressure</th>\n      <th>rain</th>\n      <th>humidity</th>\n      <th>wind</th>\n    </tr>\n  </thead>\n  <tbody>\n    <tr>\n      <td>0</td>\n      <td>0.62</td>\n      <td>Uber</td>\n      <td>West End</td>\n      <td>Haymarket Square</td>\n      <td>1.0</td>\n      <td>Taxi</td>\n      <td>unknown</td>\n      <td>27.34</td>\n      <td>0.15</td>\n      <td>1033.40</td>\n      <td>0.0000</td>\n      <td>0.81</td>\n      <td>3.04</td>\n    </tr>\n    <tr>\n      <td>1</td>\n      <td>2.27</td>\n      <td>Uber</td>\n      <td>Boston University</td>\n      <td>Beacon Hill</td>\n      <td>1.0</td>\n      <td>UberPool</td>\n      <td>cheap</td>\n      <td>33.67</td>\n      <td>0.12</td>\n      <td>991.20</td>\n      <td>0.0000</td>\n      <td>0.82</td>\n      <td>5.37</td>\n    </tr>\n    <tr>\n      <td>2</td>\n      <td>2.00</td>\n      <td>Lyft</td>\n      <td>Back Bay</td>\n      <td>Haymarket Square</td>\n      <td>1.0</td>\n      <td>Lyft</td>\n      <td>moderate</td>\n      <td>42.34</td>\n      <td>1.00</td>\n      <td>1012.15</td>\n      <td>0.2068</td>\n      <td>0.77</td>\n      <td>11.49</td>\n    </tr>\n    <tr>\n      <td>3</td>\n      <td>3.98</td>\n      <td>Lyft</td>\n      <td>Financial District</td>\n      <td>Northeastern University</td>\n      <td>1.0</td>\n      <td>Lyft XL</td>\n      <td>expensive</td>\n      <td>38.46</td>\n      <td>0.96</td>\n      <td>1017.24</td>\n      <td>0.0000</td>\n      <td>0.66</td>\n      <td>3.31</td>\n    </tr>\n    <tr>\n      <td>4</td>\n      <td>1.49</td>\n      <td>Lyft</td>\n      <td>Back Bay</td>\n      <td>Northeastern University</td>\n      <td>1.0</td>\n      <td>Lyft</td>\n      <td>cheap</td>\n      <td>38.46</td>\n      <td>0.96</td>\n      <td>1017.24</td>\n      <td>0.0000</td>\n      <td>0.66</td>\n      <td>3.31</td>\n    </tr>\n  </tbody>\n</table>\n</div>"
     },
     "execution_count": 29,
     "metadata": {},
     "output_type": "execute_result"
    }
   ],
   "metadata": {
    "collapsed": false,
    "pycharm": {
     "name": "#%%\n"
    }
   }
  },
  {
   "cell_type": "code",
   "execution_count": 30,
   "source": [
    "mergedData.isnull().sum()"
   ],
   "outputs": [
    {
     "data": {
      "text/plain": "distance            0\ncab_type            0\ndestination         0\nsource              0\nsurge_multiplier    0\nname                0\nRideCategory        0\ntemp                0\nclouds              0\npressure            0\nrain                0\nhumidity            0\nwind                0\ndtype: int64"
     },
     "execution_count": 30,
     "metadata": {},
     "output_type": "execute_result"
    }
   ],
   "metadata": {
    "collapsed": false,
    "pycharm": {
     "name": "#%%\n"
    }
   }
  },
  {
   "cell_type": "markdown",
   "source": [
    "## Encoding"
   ],
   "metadata": {
    "collapsed": false,
    "pycharm": {
     "name": "#%% md\n"
    }
   }
  },
  {
   "cell_type": "markdown",
   "source": [
    "###  <i>name</i> Feature"
   ],
   "metadata": {
    "collapsed": false,
    "pycharm": {
     "name": "#%% md\n"
    }
   }
  },
  {
   "cell_type": "code",
   "execution_count": 31,
   "source": [
    "preProcessing.encode_name(mergedData['name'])"
   ],
   "outputs": [],
   "metadata": {
    "collapsed": false,
    "pycharm": {
     "name": "#%%\n"
    }
   }
  },
  {
   "cell_type": "markdown",
   "source": [
    "### Other Features"
   ],
   "metadata": {
    "collapsed": false,
    "pycharm": {
     "name": "#%% md\n"
    }
   }
  },
  {
   "cell_type": "code",
   "execution_count": 32,
   "source": [
    "nonIntegerColumns = [col for col in mergedData.columns if mergedData[col].dtypes == object]\n",
    "print(f\"Non Integer Columns : {nonIntegerColumns}\")"
   ],
   "outputs": [
    {
     "name": "stdout",
     "output_type": "stream",
     "text": [
      "Non Integer Columns : ['cab_type', 'destination', 'source', 'RideCategory']\n"
     ]
    }
   ],
   "metadata": {
    "collapsed": false,
    "pycharm": {
     "name": "#%%\n"
    }
   }
  },
  {
   "cell_type": "code",
   "execution_count": 33,
   "source": [
    "preProcessing.encode(mergedData,nonIntegerColumns)"
   ],
   "outputs": [],
   "metadata": {
    "collapsed": false,
    "pycharm": {
     "name": "#%%\n"
    }
   }
  },
  {
   "cell_type": "code",
   "execution_count": 34,
   "source": [
    "mergedData.head()"
   ],
   "outputs": [
    {
     "data": {
      "text/plain": "   distance  cab_type  destination  source  surge_multiplier  name  \\\n0      0.62         1           11       5               1.0     0   \n1      2.27         1            2       1               1.0     1   \n2      2.00         0            0       5               1.0     1   \n3      3.98         0            4       8               1.0     2   \n4      1.49         0            0       8               1.0     1   \n\n   RideCategory   temp  clouds  pressure    rain  humidity   wind  \n0             3  27.34    0.15   1033.40  0.0000      0.81   3.04  \n1             0  33.67    0.12    991.20  0.0000      0.82   5.37  \n2             2  42.34    1.00   1012.15  0.2068      0.77  11.49  \n3             1  38.46    0.96   1017.24  0.0000      0.66   3.31  \n4             0  38.46    0.96   1017.24  0.0000      0.66   3.31  ",
      "text/html": "<div>\n<style scoped>\n    .dataframe tbody tr th:only-of-type {\n        vertical-align: middle;\n    }\n\n    .dataframe tbody tr th {\n        vertical-align: top;\n    }\n\n    .dataframe thead th {\n        text-align: right;\n    }\n</style>\n<table border=\"1\" class=\"dataframe\">\n  <thead>\n    <tr style=\"text-align: right;\">\n      <th></th>\n      <th>distance</th>\n      <th>cab_type</th>\n      <th>destination</th>\n      <th>source</th>\n      <th>surge_multiplier</th>\n      <th>name</th>\n      <th>RideCategory</th>\n      <th>temp</th>\n      <th>clouds</th>\n      <th>pressure</th>\n      <th>rain</th>\n      <th>humidity</th>\n      <th>wind</th>\n    </tr>\n  </thead>\n  <tbody>\n    <tr>\n      <td>0</td>\n      <td>0.62</td>\n      <td>1</td>\n      <td>11</td>\n      <td>5</td>\n      <td>1.0</td>\n      <td>0</td>\n      <td>3</td>\n      <td>27.34</td>\n      <td>0.15</td>\n      <td>1033.40</td>\n      <td>0.0000</td>\n      <td>0.81</td>\n      <td>3.04</td>\n    </tr>\n    <tr>\n      <td>1</td>\n      <td>2.27</td>\n      <td>1</td>\n      <td>2</td>\n      <td>1</td>\n      <td>1.0</td>\n      <td>1</td>\n      <td>0</td>\n      <td>33.67</td>\n      <td>0.12</td>\n      <td>991.20</td>\n      <td>0.0000</td>\n      <td>0.82</td>\n      <td>5.37</td>\n    </tr>\n    <tr>\n      <td>2</td>\n      <td>2.00</td>\n      <td>0</td>\n      <td>0</td>\n      <td>5</td>\n      <td>1.0</td>\n      <td>1</td>\n      <td>2</td>\n      <td>42.34</td>\n      <td>1.00</td>\n      <td>1012.15</td>\n      <td>0.2068</td>\n      <td>0.77</td>\n      <td>11.49</td>\n    </tr>\n    <tr>\n      <td>3</td>\n      <td>3.98</td>\n      <td>0</td>\n      <td>4</td>\n      <td>8</td>\n      <td>1.0</td>\n      <td>2</td>\n      <td>1</td>\n      <td>38.46</td>\n      <td>0.96</td>\n      <td>1017.24</td>\n      <td>0.0000</td>\n      <td>0.66</td>\n      <td>3.31</td>\n    </tr>\n    <tr>\n      <td>4</td>\n      <td>1.49</td>\n      <td>0</td>\n      <td>0</td>\n      <td>8</td>\n      <td>1.0</td>\n      <td>1</td>\n      <td>0</td>\n      <td>38.46</td>\n      <td>0.96</td>\n      <td>1017.24</td>\n      <td>0.0000</td>\n      <td>0.66</td>\n      <td>3.31</td>\n    </tr>\n  </tbody>\n</table>\n</div>"
     },
     "execution_count": 34,
     "metadata": {},
     "output_type": "execute_result"
    }
   ],
   "metadata": {
    "collapsed": false,
    "pycharm": {
     "name": "#%%\n"
    }
   }
  },
  {
   "cell_type": "markdown",
   "source": [
    "### Rain Feature Engineering"
   ],
   "metadata": {
    "collapsed": false,
    "pycharm": {
     "name": "#%% md\n"
    }
   }
  },
  {
   "cell_type": "code",
   "execution_count": 35,
   "source": [
    "mergedData['rain'].describe()"
   ],
   "outputs": [
    {
     "data": {
      "text/plain": "count    554456.000000\nmean          0.011511\nstd           0.039021\nmin           0.000000\n25%           0.000000\n50%           0.000000\n75%           0.000000\nmax           0.208800\nName: rain, dtype: float64"
     },
     "execution_count": 35,
     "metadata": {},
     "output_type": "execute_result"
    }
   ],
   "metadata": {
    "collapsed": false,
    "pycharm": {
     "name": "#%%\n"
    }
   }
  },
  {
   "cell_type": "markdown",
   "source": [
    "Referring to google:\n",
    "<blockquote>Light rainfall is considered <b>less than 0.10 inches</b> of rain per hour. Moderate rainfall measures <b>0.10 to 0.30 inches</b> of rain per hour. Heavy rainfall is more than <b>0.30 inches</b>\n",
    " of rain per hour.</blockquote>\n",
    "0 : no rain <br>\n",
    "1 : light rain <br>\n",
    "2 : mid rain <br>\n",
    "3 : heavy rain (doesn't exist in the data)"
   ],
   "metadata": {
    "collapsed": false,
    "pycharm": {
     "name": "#%% md\n"
    }
   }
  },
  {
   "cell_type": "code",
   "execution_count": 36,
   "source": [
    "mergedData['rainType'] = 0"
   ],
   "outputs": [],
   "metadata": {
    "collapsed": false,
    "pycharm": {
     "name": "#%%\n"
    }
   }
  },
  {
   "cell_type": "code",
   "execution_count": 37,
   "source": [
    "mergedData['rainType'][(mergedData['rain'] > 0) & (mergedData['rain'] < 0.1)] = 1"
   ],
   "outputs": [],
   "metadata": {
    "collapsed": false,
    "pycharm": {
     "name": "#%%\n"
    }
   }
  },
  {
   "cell_type": "code",
   "execution_count": 38,
   "source": [
    "mergedData['rainType'][(mergedData['rain'] > 0.1) & (mergedData['rain'] < 0.3)] = 2"
   ],
   "outputs": [],
   "metadata": {
    "collapsed": false,
    "pycharm": {
     "name": "#%%\n"
    }
   }
  },
  {
   "cell_type": "code",
   "execution_count": 39,
   "source": [
    "mergedData['rainType'].value_counts()"
   ],
   "outputs": [
    {
     "data": {
      "text/plain": "0    480515\n1     42966\n2     30975\nName: rainType, dtype: int64"
     },
     "execution_count": 39,
     "metadata": {},
     "output_type": "execute_result"
    }
   ],
   "metadata": {
    "collapsed": false,
    "pycharm": {
     "name": "#%%\n"
    }
   }
  },
  {
   "cell_type": "markdown",
   "source": [
    "## Clouds engineering\n",
    "making the assumption that clouds are on normalized [Okta Scale](https://polarpedia.eu/en/okta-scale/) that means values less than 0.1 are sunny days"
   ],
   "metadata": {
    "collapsed": false,
    "pycharm": {
     "name": "#%% md\n"
    }
   }
  },
  {
   "cell_type": "code",
   "execution_count": 40,
   "source": [
    "mergedData['sunnyDay'] = 0"
   ],
   "outputs": [],
   "metadata": {
    "collapsed": false,
    "pycharm": {
     "name": "#%%\n"
    }
   }
  },
  {
   "cell_type": "code",
   "execution_count": 41,
   "source": [
    "mergedData['sunnyDay'][mergedData['clouds'] <= 0.1] = 1"
   ],
   "outputs": [],
   "metadata": {
    "collapsed": false,
    "pycharm": {
     "name": "#%%\n"
    }
   }
  },
  {
   "cell_type": "code",
   "execution_count": 42,
   "source": [
    "mergedData['sunnyDay'].value_counts()"
   ],
   "outputs": [
    {
     "data": {
      "text/plain": "0    546501\n1      7955\nName: sunnyDay, dtype: int64"
     },
     "execution_count": 42,
     "metadata": {},
     "output_type": "execute_result"
    }
   ],
   "metadata": {
    "collapsed": false,
    "pycharm": {
     "name": "#%%\n"
    }
   }
  },
  {
   "cell_type": "markdown",
   "source": [
    "### Correlation Before PCA"
   ],
   "metadata": {
    "collapsed": false,
    "pycharm": {
     "name": "#%% md\n"
    }
   }
  },
  {
   "cell_type": "code",
   "execution_count": 43,
   "source": [
    "plt.figure(figsize = (16, 10))\n",
    "\n",
    "ax = sns.heatmap(mergedData.corr(), annot = True)\n",
    "ax.tick_params(axis = 'x', rotation = 60)\n",
    "ax.tick_params(axis = 'y', rotation = 0)\n",
    "# these two lines are meant to fix a bug in matplotlib's current version\n",
    "# where the graph top and bot rows are cut in half (I copied them from stackoverflow)\n",
    "bottom, top = ax.get_ylim()\n",
    "ax.set_ylim(bottom + 0.5, top - 0.5)\n",
    "\n",
    "plt.show()"
   ],
   "outputs": [
    {
     "data": {
      "text/plain": "<Figure size 1152x720 with 2 Axes>",
      "image/png": "[encoded data removed]"
     },
     "metadata": {
      "needs_background": "light"
     },
     "output_type": "display_data"
    }
   ],
   "metadata": {
    "collapsed": false,
    "pycharm": {
     "name": "#%%\n"
    }
   }
  },
  {
   "cell_type": "markdown",
   "source": [
    "### Dimentionality Reduction"
   ],
   "metadata": {
    "collapsed": false,
    "pycharm": {
     "name": "#%% md\n"
    }
   }
  },
  {
   "cell_type": "code",
   "execution_count": 44,
   "source": [
    "subsetOfData = mergedData[['temp','sunnyDay','rainType','wind','pressure','humidity']]\n",
    "mergedData.drop(['temp','clouds','sunnyDay','rainType','rain','wind','pressure','humidity'],axis=1,inplace=True)"
   ],
   "outputs": [],
   "metadata": {
    "collapsed": false,
    "pycharm": {
     "name": "#%%\n"
    }
   }
  },
  {
   "cell_type": "code",
   "execution_count": 45,
   "source": [
    "lowerDimensionWeatherData =preProcessing.reduceDimentionsOf(subsetOfData)\n",
    "mergedData['weatherState'] = lowerDimensionWeatherData"
   ],
   "outputs": [],
   "metadata": {
    "collapsed": false,
    "pycharm": {
     "name": "#%%\n"
    }
   }
  },
  {
   "cell_type": "markdown",
   "source": [
    "### Correlation Before PCA"
   ],
   "metadata": {
    "collapsed": false,
    "pycharm": {
     "name": "#%% md\n"
    }
   }
  },
  {
   "cell_type": "code",
   "execution_count": 46,
   "source": [
    "plt.figure(figsize = (10, 10))\n",
    "\n",
    "ax = sns.heatmap(mergedData.corr(), annot = True)\n",
    "ax.tick_params(axis = 'x', rotation = 60)\n",
    "ax.tick_params(axis = 'y', rotation = 0)\n",
    "# these two lines are meant to fix a bug in matplotlib's current version\n",
    "# where the graph top and bot rows are cut in half (I copied them from stackoverflow)\n",
    "bottom, top = ax.get_ylim()\n",
    "ax.set_ylim(bottom + 0.5, top - 0.5)\n",
    "\n",
    "plt.show()"
   ],
   "outputs": [
    {
     "data": {
      "text/plain": "<Figure size 720x720 with 2 Axes>",
      "image/png": "[encoded data removed]"
     },
     "metadata": {
      "needs_background": "light"
     },
     "output_type": "display_data"
    }
   ],
   "metadata": {
    "collapsed": false,
    "pycharm": {
     "name": "#%%\n"
    }
   }
  },
  {
   "cell_type": "markdown",
   "source": [
    "# Model"
   ],
   "metadata": {
    "collapsed": false,
    "pycharm": {
     "name": "#%% md\n"
    }
   }
  },
  {
   "cell_type": "code",
   "execution_count": 47,
   "source": [
    "dataFeatures = mergedData.drop(['RideCategory'],axis=1)\n",
    "dataLabel = mergedData['RideCategory']"
   ],
   "outputs": [],
   "metadata": {
    "collapsed": false,
    "pycharm": {
     "name": "#%%\n"
    }
   }
  },
  {
   "cell_type": "code",
   "execution_count": 48,
   "source": [
    "dataFeatures.head()"
   ],
   "outputs": [
    {
     "data": {
      "text/plain": "   distance  cab_type  destination  source  surge_multiplier  name  \\\n0      0.62         1           11       5               1.0     0   \n1      2.27         1            2       1               1.0     1   \n2      2.00         0            0       5               1.0     1   \n3      3.98         0            4       8               1.0     2   \n4      1.49         0            0       8               1.0     1   \n\n   weatherState  \n0     26.134730  \n1    -16.492402  \n2      2.092880  \n3      8.657758  \n4      8.657758  ",
      "text/html": "<div>\n<style scoped>\n    .dataframe tbody tr th:only-of-type {\n        vertical-align: middle;\n    }\n\n    .dataframe tbody tr th {\n        vertical-align: top;\n    }\n\n    .dataframe thead th {\n        text-align: right;\n    }\n</style>\n<table border=\"1\" class=\"dataframe\">\n  <thead>\n    <tr style=\"text-align: right;\">\n      <th></th>\n      <th>distance</th>\n      <th>cab_type</th>\n      <th>destination</th>\n      <th>source</th>\n      <th>surge_multiplier</th>\n      <th>name</th>\n      <th>weatherState</th>\n    </tr>\n  </thead>\n  <tbody>\n    <tr>\n      <td>0</td>\n      <td>0.62</td>\n      <td>1</td>\n      <td>11</td>\n      <td>5</td>\n      <td>1.0</td>\n      <td>0</td>\n      <td>26.134730</td>\n    </tr>\n    <tr>\n      <td>1</td>\n      <td>2.27</td>\n      <td>1</td>\n      <td>2</td>\n      <td>1</td>\n      <td>1.0</td>\n      <td>1</td>\n      <td>-16.492402</td>\n    </tr>\n    <tr>\n      <td>2</td>\n      <td>2.00</td>\n      <td>0</td>\n      <td>0</td>\n      <td>5</td>\n      <td>1.0</td>\n      <td>1</td>\n      <td>2.092880</td>\n    </tr>\n    <tr>\n      <td>3</td>\n      <td>3.98</td>\n      <td>0</td>\n      <td>4</td>\n      <td>8</td>\n      <td>1.0</td>\n      <td>2</td>\n      <td>8.657758</td>\n    </tr>\n    <tr>\n      <td>4</td>\n      <td>1.49</td>\n      <td>0</td>\n      <td>0</td>\n      <td>8</td>\n      <td>1.0</td>\n      <td>1</td>\n      <td>8.657758</td>\n    </tr>\n  </tbody>\n</table>\n</div>"
     },
     "execution_count": 48,
     "metadata": {},
     "output_type": "execute_result"
    }
   ],
   "metadata": {
    "collapsed": false,
    "pycharm": {
     "name": "#%%\n"
    }
   }
  },
  {
   "cell_type": "code",
   "execution_count": 49,
   "source": [
    "model = Model()"
   ],
   "outputs": [],
   "metadata": {
    "collapsed": false,
    "pycharm": {
     "name": "#%%\n"
    }
   }
  },
  {
   "cell_type": "code",
   "execution_count": 50,
   "source": [
    "preProcessing.scale(dataFeatures)\n",
    "splitScaledData = model.splitData(dataFeatures,dataLabel)"
   ],
   "outputs": [],
   "metadata": {}
  },
  {
   "cell_type": "markdown",
   "source": [
    "### Linear Logistic"
   ],
   "metadata": {
    "collapsed": false,
    "pycharm": {
     "name": "#%% md\n"
    }
   }
  },
  {
   "cell_type": "code",
   "execution_count": 51,
   "source": [
    "params = {'solver' : 'lbfgs', 'multi_class' : 'multinomial', 'random_state':RANDOM_STATE}\n",
    "logisticRegression = model.fitClassificationModel(linear_model.LogisticRegression,\n",
    "                                                 params,\n",
    "                                                 evaluationFunction= metrics.f1_score,\n",
    "                                                 dataDictionary= splitScaledData)"
   ],
   "outputs": [
    {
     "name": "stdout",
     "output_type": "stream",
     "text": [
      "Training Accuracy : 0.835067769250886\n",
      "Training f1_score : 0.835067769250886\n",
      "\n",
      "Test Accuracy : 0.833919489232767\n",
      "Test f1_score : 0.833919489232767\n"
     ]
    }
   ],
   "metadata": {
    "collapsed": false,
    "pycharm": {
     "name": "#%%\n"
    }
   }
  },
  {
   "cell_type": "markdown",
   "source": [
    "### Polynomial Logistic"
   ],
   "metadata": {
    "collapsed": false,
    "pycharm": {
     "name": "#%% md\n"
    }
   }
  },
  {
   "cell_type": "code",
   "execution_count": 52,
   "source": [
    "polyDegree = 3"
   ],
   "outputs": [],
   "metadata": {
    "collapsed": false,
    "pycharm": {
     "name": "#%%\n"
    }
   }
  },
  {
   "cell_type": "code",
   "execution_count": 53,
   "source": [
    "polyFeaturesTrain  = model.changeDegreeOf(splitScaledData['trainFeatures'], polyDegree)\n",
    "polyFeaturesValidation = model.changeDegreeOf(splitScaledData['testFeatures'], polyDegree)\n",
    "\n",
    "polyData = splitScaledData.copy()\n",
    "polyData['trainFeatures'] = polyFeaturesTrain\n",
    "polyData['testFeatures']  = polyFeaturesValidation"
   ],
   "outputs": [],
   "metadata": {
    "collapsed": false,
    "pycharm": {
     "name": "#%%\n"
    }
   }
  },
  {
   "cell_type": "code",
   "execution_count": 54,
   "source": [
    "params = {'solver': 'lbfgs', 'multi_class' : 'multinomial', 'random_state' : RANDOM_STATE}\n",
    "polyModel = model.fitClassificationModel(linear_model.LogisticRegression,\n",
    "                                         params,\n",
    "                                         evaluationFunction= metrics.f1_score,\n",
    "                                         dataDictionary=polyData)"
   ],
   "outputs": [
    {
     "name": "stdout",
     "output_type": "stream",
     "text": [
      "Training Accuracy : 0.8508693221271338\n",
      "Training f1_score : 0.8508693221271338\n",
      "\n",
      "Test Accuracy : 0.8504851567290698\n",
      "Test f1_score : 0.8504851567290698\n"
     ]
    }
   ],
   "metadata": {
    "collapsed": false,
    "pycharm": {
     "name": "#%%\n"
    }
   }
  },
  {
   "cell_type": "markdown",
   "source": [
    "### Decision Tree"
   ],
   "metadata": {
    "collapsed": false,
    "pycharm": {
     "name": "#%% md\n"
    }
   }
  },
  {
   "cell_type": "code",
   "execution_count": 55,
   "outputs": [
    {
     "name": "stdout",
     "output_type": "stream",
     "text": [
      "Training Accuracy : 0.8964794257423957\n",
      "Training f1_score : 0.8964794257423957\n",
      "\n",
      "Test Accuracy : 0.8498448941312268\n",
      "Test f1_score : 0.8498448941312268\n"
     ]
    }
   ],
   "source": [
    "params = {'criterion' : 'entropy', 'random_state' : RANDOM_STATE}\n",
    "tree = model.fitClassificationModel(DecisionTreeClassifier,\n",
    "                                     params,\n",
    "                                     evaluationFunction= metrics.f1_score,\n",
    "                                     dataDictionary=splitScaledData)"
   ],
   "metadata": {
    "collapsed": false,
    "pycharm": {
     "name": "#%%\n"
    }
   }
  },
  {
   "cell_type": "markdown",
   "source": [
    "### Random Forest"
   ],
   "metadata": {
    "collapsed": false,
    "pycharm": {
     "name": "#%% md\n"
    }
   }
  },
  {
   "cell_type": "code",
   "execution_count": 56,
   "outputs": [
    {
     "name": "stdout",
     "output_type": "stream",
     "text": [
      "Training Accuracy : 0.8964726623441037\n",
      "Training f1_score : 0.8964726623441037\n",
      "\n",
      "Test Accuracy : 0.8526133535331674\n",
      "Test f1_score : 0.8526133535331674\n"
     ]
    }
   ],
   "source": [
    "params = {'n_estimators' : 100, 'random_state' : RANDOM_STATE}\n",
    "forest = model.fitClassificationModel(RandomForestClassifier,\n",
    "                                     params,\n",
    "                                     evaluationFunction= metrics.f1_score,\n",
    "                                     dataDictionary=splitScaledData)"
   ],
   "metadata": {
    "collapsed": false,
    "pycharm": {
     "name": "#%%\n"
    }
   }
  },
  {
   "cell_type": "markdown",
   "source": [
    "### SVM"
   ],
   "metadata": {
    "collapsed": false,
    "pycharm": {
     "name": "#%% md\n"
    }
   }
  },
  {
   "cell_type": "code",
   "execution_count": 57,
   "source": [
    "# params = {'C' : 10, 'random_state' : RANDOM_STATE}\n",
    "# svm = model.fitClassificationModel(SVC,\n",
    "#                                     params,\n",
    "#                                     evaluationFunction= metrics.f1_score,\n",
    "#                                     dataDictionary=splitScaledData)"
   ],
   "outputs": [],
   "metadata": {
    "collapsed": false,
    "pycharm": {
     "name": "#%%\n"
    }
   }
  },
  {
   "cell_type": "markdown",
   "source": [
    "### Saving Encoders and Models"
   ],
   "metadata": {
    "collapsed": false,
    "pycharm": {
     "name": "#%% md\n"
    }
   }
  },
  {
   "cell_type": "code",
   "execution_count": 58,
   "source": [
    "from pickle import dump\n",
    "\n",
    "filename = 'saved_classificationEncoders'\n",
    "dump(preProcessing.encoders, open(filename, 'wb'))"
   ],
   "outputs": [],
   "metadata": {
    "collapsed": false,
    "pycharm": {
     "name": "#%%\n"
    }
   }
  },
  {
   "cell_type": "code",
   "execution_count": 59,
   "source": [
    "models = {\n",
    "    'LogisticRegression':logisticRegression,\n",
    "    'DecisionTree': tree,\n",
    "    'RandomForest': forest\n",
    "}\n",
    "\n",
    "filename = 'saved_classificationModels'\n",
    "dump(models, open(filename, 'wb'))"
   ],
   "outputs": [],
   "metadata": {
    "collapsed": false,
    "pycharm": {
     "name": "#%%\n"
    }
   }
  },
  {
   "cell_type": "code",
   "execution_count": 60,
   "source": [
    "filename = 'saved_classificationScalers'\n",
    "dump(preProcessing.scalingCache, open(filename, 'wb'))"
   ],
   "outputs": [],
   "metadata": {}
  },
  {
   "cell_type": "code",
   "execution_count": 60,
   "source": [],
   "outputs": [],
   "metadata": {}
  }
 ],
 "metadata": {
  "colab": {
   "collapsed_sections": [],
   "name": "Classification.ipynb",
   "provenance": []
  },
  "interpreter": {
   "hash": "916dbcbb3f70747c44a77c7bcd40155683ae19c65e1c03b4aa3499c5328201f1"
  },
  "kernelspec": {
   "name": "python3",
   "display_name": "Python 3.9.5 64-bit"
  },
  "language_info": {
   "codemirror_mode": {
    "name": "ipython",
    "version": 3
   },
   "file_extension": ".py",
   "mimetype": "text/x-python",
   "name": "python",
   "nbconvert_exporter": "python",
   "pygments_lexer": "ipython3",
   "version": "3.9.5"
  }
 },
 "nbformat": 4,
 "nbformat_minor": 2
}