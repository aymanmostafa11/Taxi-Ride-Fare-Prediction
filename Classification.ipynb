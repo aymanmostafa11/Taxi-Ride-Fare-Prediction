{
 "cells": [
  {
   "cell_type": "code",
   "execution_count": 1,
   "metadata": {
    "colab": {
     "base_uri": "https://localhost:8080/"
    },
    "id": "arWAAuiomMkG",
    "outputId": "d10553e7-bf41-4fc6-fb22-fe8bc1d302e5",
    "pycharm": {
     "name": "#%%\n"
    },
    "scrolled": true
   },
   "outputs": [],
   "source": [
    "#import gdown\n",
    "#gdown.download_folder('https://drive.google.com/drive/folders/1r9BARaPl-5odlOwCPE8LZJ1cFWRZGsYO?usp=sharing')"
   ]
  },
  {
   "cell_type": "code",
   "execution_count": 2,
   "outputs": [],
   "source": [
    "#!curl --remote-name https://raw.githubusercontent.com/aymanmostafa11/Taxi-Ride-Fare-Prediction/main/helpers.py"
   ],
   "metadata": {
    "collapsed": false,
    "pycharm": {
     "name": "#%%\n"
    }
   }
  },
  {
   "cell_type": "code",
   "execution_count": 3,
   "outputs": [],
   "source": [
    "import numpy as np\n",
    "import pandas as pd\n",
    "import matplotlib.pyplot as plt\n",
    "import seaborn as sns\n",
    "from sklearn import linear_model\n",
    "from sklearn import metrics\n",
    "from sklearn.tree import DecisionTreeClassifier\n",
    "from sklearn.ensemble import RandomForestClassifier\n",
    "from sklearn.svm import SVC\n",
    "\n",
    "from helpers import Model , PreProcessing"
   ],
   "metadata": {
    "collapsed": false,
    "pycharm": {
     "name": "#%%\n"
    }
   }
  },
  {
   "cell_type": "code",
   "execution_count": 4,
   "outputs": [],
   "source": [
    "RANDOM_STATE = 42"
   ],
   "metadata": {
    "collapsed": false,
    "pycharm": {
     "name": "#%%\n"
    }
   }
  },
  {
   "cell_type": "code",
   "execution_count": 5,
   "metadata": {
    "pycharm": {
     "name": "#%%\n"
    }
   },
   "outputs": [],
   "source": [
    "dataPath = 'E:\\\\Edu\\Academic\\\\Year 3\\\\Second Term\\\\ML\\\\Project\\\\taxi-rides-classification'"
   ]
  },
  {
   "cell_type": "code",
   "execution_count": 6,
   "metadata": {
    "id": "JFAJcYPpgEv5",
    "pycharm": {
     "name": "#%%\n"
    },
    "scrolled": true
   },
   "outputs": [],
   "source": [
    "taxiRides = pd.read_csv(dataPath + '\\\\taxi-rides-classification.csv')\n",
    "weather = pd.read_csv(dataPath + '\\\\weather.csv')"
   ]
  },
  {
   "cell_type": "code",
   "execution_count": 7,
   "metadata": {
    "colab": {
     "base_uri": "https://localhost:8080/",
     "height": 354
    },
    "id": "3vvtqdwOgEv_",
    "outputId": "7daaf31e-5c65-462a-c1b3-aa70c5d85d3e",
    "pycharm": {
     "name": "#%%\n"
    }
   },
   "outputs": [
    {
     "name": "stdout",
     "output_type": "stream",
     "text": [
      "Taxi Rides has 554456 Rows and 10 Columns\n"
     ]
    },
    {
     "data": {
      "text/plain": "   distance cab_type    time_stamp         destination  \\\n0      0.62     Uber  1.544770e+12            West End   \n1      2.27     Uber  1.543400e+12   Boston University   \n2      2.00     Lyft  1.544920e+12            Back Bay   \n3      3.98     Lyft  1.543620e+12  Financial District   \n4      1.49     Lyft  1.543580e+12            Back Bay   \n\n                    source  surge_multiplier  \\\n0         Haymarket Square               1.0   \n1              Beacon Hill               1.0   \n2         Haymarket Square               1.0   \n3  Northeastern University               1.0   \n4  Northeastern University               1.0   \n\n                                     id                            product_id  \\\n0  c1b4a572-24b2-484d-aac5-b4f97b790480  8cf7e821-f0d3-49c6-8eba-e679c0ebcf6a   \n1  f9e7e7e6-b309-479b-9f90-bf26a1870c81  997acbb5-e102-41e1-b155-9df7de0a73f2   \n2  154e8438-46f5-4e5f-9872-15cc95e85eed                                  lyft   \n3  6bdc30a6-9a80-487b-914e-8d9b82ee4acb                             lyft_plus   \n4  0cb12fe9-cd72-4feb-b341-4a566b2e6643                                  lyft   \n\n       name RideCategory  \n0      Taxi      unknown  \n1  UberPool        cheap  \n2      Lyft     moderate  \n3   Lyft XL    expensive  \n4      Lyft        cheap  ",
      "text/html": "<div>\n<style scoped>\n    .dataframe tbody tr th:only-of-type {\n        vertical-align: middle;\n    }\n\n    .dataframe tbody tr th {\n        vertical-align: top;\n    }\n\n    .dataframe thead th {\n        text-align: right;\n    }\n</style>\n<table border=\"1\" class=\"dataframe\">\n  <thead>\n    <tr style=\"text-align: right;\">\n      <th></th>\n      <th>distance</th>\n      <th>cab_type</th>\n      <th>time_stamp</th>\n      <th>destination</th>\n      <th>source</th>\n      <th>surge_multiplier</th>\n      <th>id</th>\n      <th>product_id</th>\n      <th>name</th>\n      <th>RideCategory</th>\n    </tr>\n  </thead>\n  <tbody>\n    <tr>\n      <td>0</td>\n      <td>0.62</td>\n      <td>Uber</td>\n      <td>1.544770e+12</td>\n      <td>West End</td>\n      <td>Haymarket Square</td>\n      <td>1.0</td>\n      <td>c1b4a572-24b2-484d-aac5-b4f97b790480</td>\n      <td>8cf7e821-f0d3-49c6-8eba-e679c0ebcf6a</td>\n      <td>Taxi</td>\n      <td>unknown</td>\n    </tr>\n    <tr>\n      <td>1</td>\n      <td>2.27</td>\n      <td>Uber</td>\n      <td>1.543400e+12</td>\n      <td>Boston University</td>\n      <td>Beacon Hill</td>\n      <td>1.0</td>\n      <td>f9e7e7e6-b309-479b-9f90-bf26a1870c81</td>\n      <td>997acbb5-e102-41e1-b155-9df7de0a73f2</td>\n      <td>UberPool</td>\n      <td>cheap</td>\n    </tr>\n    <tr>\n      <td>2</td>\n      <td>2.00</td>\n      <td>Lyft</td>\n      <td>1.544920e+12</td>\n      <td>Back Bay</td>\n      <td>Haymarket Square</td>\n      <td>1.0</td>\n      <td>154e8438-46f5-4e5f-9872-15cc95e85eed</td>\n      <td>lyft</td>\n      <td>Lyft</td>\n      <td>moderate</td>\n    </tr>\n    <tr>\n      <td>3</td>\n      <td>3.98</td>\n      <td>Lyft</td>\n      <td>1.543620e+12</td>\n      <td>Financial District</td>\n      <td>Northeastern University</td>\n      <td>1.0</td>\n      <td>6bdc30a6-9a80-487b-914e-8d9b82ee4acb</td>\n      <td>lyft_plus</td>\n      <td>Lyft XL</td>\n      <td>expensive</td>\n    </tr>\n    <tr>\n      <td>4</td>\n      <td>1.49</td>\n      <td>Lyft</td>\n      <td>1.543580e+12</td>\n      <td>Back Bay</td>\n      <td>Northeastern University</td>\n      <td>1.0</td>\n      <td>0cb12fe9-cd72-4feb-b341-4a566b2e6643</td>\n      <td>lyft</td>\n      <td>Lyft</td>\n      <td>cheap</td>\n    </tr>\n  </tbody>\n</table>\n</div>"
     },
     "execution_count": 7,
     "metadata": {},
     "output_type": "execute_result"
    }
   ],
   "source": [
    "print(f\"Taxi Rides has {taxiRides.shape[0]} Rows and {taxiRides.shape[1]} Columns\")\n",
    "taxiRides.head()"
   ]
  },
  {
   "cell_type": "code",
   "execution_count": 8,
   "metadata": {
    "colab": {
     "base_uri": "https://localhost:8080/",
     "height": 223
    },
    "id": "iYKr_Fp5gEwF",
    "outputId": "8c58d291-71ad-45d9-efe9-98dd712c00a8",
    "pycharm": {
     "name": "#%%\n"
    },
    "scrolled": false
   },
   "outputs": [
    {
     "name": "stdout",
     "output_type": "stream",
     "text": [
      "Weather has 6276 Rows and 8 Columns\n"
     ]
    },
    {
     "data": {
      "text/plain": "    temp            location  clouds  pressure    rain  time_stamp  humidity  \\\n0  42.42            Back Bay     1.0   1012.14  0.1228  1545003901      0.77   \n1  42.43         Beacon Hill     1.0   1012.15  0.1846  1545003901      0.76   \n2  42.50   Boston University     1.0   1012.15  0.1089  1545003901      0.76   \n3  42.11              Fenway     1.0   1012.13  0.0969  1545003901      0.77   \n4  43.13  Financial District     1.0   1012.14  0.1786  1545003901      0.75   \n\n    wind  \n0  11.25  \n1  11.32  \n2  11.07  \n3  11.09  \n4  11.49  ",
      "text/html": "<div>\n<style scoped>\n    .dataframe tbody tr th:only-of-type {\n        vertical-align: middle;\n    }\n\n    .dataframe tbody tr th {\n        vertical-align: top;\n    }\n\n    .dataframe thead th {\n        text-align: right;\n    }\n</style>\n<table border=\"1\" class=\"dataframe\">\n  <thead>\n    <tr style=\"text-align: right;\">\n      <th></th>\n      <th>temp</th>\n      <th>location</th>\n      <th>clouds</th>\n      <th>pressure</th>\n      <th>rain</th>\n      <th>time_stamp</th>\n      <th>humidity</th>\n      <th>wind</th>\n    </tr>\n  </thead>\n  <tbody>\n    <tr>\n      <td>0</td>\n      <td>42.42</td>\n      <td>Back Bay</td>\n      <td>1.0</td>\n      <td>1012.14</td>\n      <td>0.1228</td>\n      <td>1545003901</td>\n      <td>0.77</td>\n      <td>11.25</td>\n    </tr>\n    <tr>\n      <td>1</td>\n      <td>42.43</td>\n      <td>Beacon Hill</td>\n      <td>1.0</td>\n      <td>1012.15</td>\n      <td>0.1846</td>\n      <td>1545003901</td>\n      <td>0.76</td>\n      <td>11.32</td>\n    </tr>\n    <tr>\n      <td>2</td>\n      <td>42.50</td>\n      <td>Boston University</td>\n      <td>1.0</td>\n      <td>1012.15</td>\n      <td>0.1089</td>\n      <td>1545003901</td>\n      <td>0.76</td>\n      <td>11.07</td>\n    </tr>\n    <tr>\n      <td>3</td>\n      <td>42.11</td>\n      <td>Fenway</td>\n      <td>1.0</td>\n      <td>1012.13</td>\n      <td>0.0969</td>\n      <td>1545003901</td>\n      <td>0.77</td>\n      <td>11.09</td>\n    </tr>\n    <tr>\n      <td>4</td>\n      <td>43.13</td>\n      <td>Financial District</td>\n      <td>1.0</td>\n      <td>1012.14</td>\n      <td>0.1786</td>\n      <td>1545003901</td>\n      <td>0.75</td>\n      <td>11.49</td>\n    </tr>\n  </tbody>\n</table>\n</div>"
     },
     "execution_count": 8,
     "metadata": {},
     "output_type": "execute_result"
    }
   ],
   "source": [
    "print(f\"Weather has {weather.shape[0]} Rows and {weather.shape[1]} Columns\")\n",
    "weather.head()"
   ]
  },
  {
   "cell_type": "markdown",
   "metadata": {
    "id": "g9hWHOakgEwJ",
    "pycharm": {
     "name": "#%% md\n"
    }
   },
   "source": [
    "# Data Cleaning"
   ]
  },
  {
   "cell_type": "markdown",
   "metadata": {
    "id": "FxAg-M9rgEwS",
    "pycharm": {
     "name": "#%% md\n"
    }
   },
   "source": [
    "## Taxi Rides"
   ]
  },
  {
   "cell_type": "code",
   "execution_count": 9,
   "metadata": {
    "colab": {
     "base_uri": "https://localhost:8080/"
    },
    "id": "D8L2oFhegEwY",
    "outputId": "eba90cce-7be4-4f61-a0c2-e9305bd2f9ab",
    "pycharm": {
     "name": "#%%\n"
    },
    "scrolled": true
   },
   "outputs": [
    {
     "name": "stdout",
     "output_type": "stream",
     "text": [
      "<class 'pandas.core.frame.DataFrame'>\n",
      "RangeIndex: 554456 entries, 0 to 554455\n",
      "Data columns (total 10 columns):\n",
      "distance            554456 non-null float64\n",
      "cab_type            554456 non-null object\n",
      "time_stamp          554456 non-null float64\n",
      "destination         554456 non-null object\n",
      "source              554456 non-null object\n",
      "surge_multiplier    554456 non-null float64\n",
      "id                  554456 non-null object\n",
      "product_id          554456 non-null object\n",
      "name                554456 non-null object\n",
      "RideCategory        554456 non-null object\n",
      "dtypes: float64(3), object(7)\n",
      "memory usage: 42.3+ MB\n"
     ]
    }
   ],
   "source": [
    "taxiRides.info()"
   ]
  },
  {
   "cell_type": "markdown",
   "metadata": {
    "id": "b5cZp83vgEwh",
    "pycharm": {
     "name": "#%% md\n"
    }
   },
   "source": [
    "## Null"
   ]
  },
  {
   "cell_type": "code",
   "execution_count": 10,
   "metadata": {
    "colab": {
     "base_uri": "https://localhost:8080/"
    },
    "id": "yeQWF9iLgEwk",
    "outputId": "b4856c72-764b-420a-d9a4-2e9db4d93fa8",
    "pycharm": {
     "name": "#%%\n"
    },
    "scrolled": true
   },
   "outputs": [
    {
     "name": "stdout",
     "output_type": "stream",
     "text": [
      "Null Values in columns\n"
     ]
    },
    {
     "data": {
      "text/plain": "distance            0\ncab_type            0\ntime_stamp          0\ndestination         0\nsource              0\nsurge_multiplier    0\nid                  0\nproduct_id          0\nname                0\nRideCategory        0\ndtype: int64"
     },
     "execution_count": 10,
     "metadata": {},
     "output_type": "execute_result"
    }
   ],
   "source": [
    "print(\"Null Values in columns\")\n",
    "taxiRides.isnull().sum()"
   ]
  },
  {
   "cell_type": "markdown",
   "metadata": {
    "id": "BCkljrZhgEwm",
    "pycharm": {
     "name": "#%% md\n"
    }
   },
   "source": [
    "## product_id and name"
   ]
  },
  {
   "cell_type": "code",
   "execution_count": 11,
   "metadata": {
    "colab": {
     "base_uri": "https://localhost:8080/"
    },
    "id": "TVOrLS2qgEwo",
    "outputId": "eaf1edcb-7a82-4922-947a-235eecc210ed",
    "pycharm": {
     "name": "#%%\n"
    },
    "scrolled": true
   },
   "outputs": [
    {
     "name": "stdout",
     "output_type": "stream",
     "text": [
      "Value counts of 'product_id' feature\n",
      "\n"
     ]
    },
    {
     "data": {
      "text/plain": "55c66225-fbe7-4fd5-9072-eab1ece5e23e    44204\n8cf7e821-f0d3-49c6-8eba-e679c0ebcf6a    44135\n997acbb5-e102-41e1-b155-9df7de0a73f2    44108\n6d318bcc-22a3-4af6-bddd-b409bfce1546    44038\n9a0e7b09-b92b-4c41-9779-2ad22b4d779d    44024\n6f72dfc5-27f1-42e8-84db-ccc7a75f6969    43983\n6c84fd89-3f11-4782-9b50-97c468b19529    43977\nlyft_plus                               41142\nlyft_lux                                41041\nlyft                                    41015\nlyft_luxsuv                             40979\nlyft_premier                            40969\nlyft_line                               40841\nName: product_id, dtype: int64"
     },
     "execution_count": 11,
     "metadata": {},
     "output_type": "execute_result"
    }
   ],
   "source": [
    "print(f\"Value counts of 'product_id' feature\\n\")\n",
    "taxiRides['product_id'].value_counts()"
   ]
  },
  {
   "cell_type": "code",
   "execution_count": 12,
   "metadata": {
    "colab": {
     "base_uri": "https://localhost:8080/"
    },
    "id": "P_AEN5VigEws",
    "outputId": "a955d16c-e05e-437c-c284-00cc36fcf1cb",
    "pycharm": {
     "name": "#%%\n"
    }
   },
   "outputs": [
    {
     "name": "stdout",
     "output_type": "stream",
     "text": [
      "Value counts of 'name' feature\n",
      "\n"
     ]
    },
    {
     "data": {
      "text/plain": "UberX           44204\nTaxi            44135\nUberPool        44108\nBlack SUV       44038\nWAV             44024\nUberXL          43983\nBlack           43977\nLyft XL         41142\nLux Black       41041\nLyft            41015\nLux Black XL    40979\nLux             40969\nShared          40841\nName: name, dtype: int64"
     },
     "execution_count": 12,
     "metadata": {},
     "output_type": "execute_result"
    }
   ],
   "source": [
    "print(f\"Value counts of 'name' feature\\n\")\n",
    "taxiRides['name'].value_counts()"
   ]
  },
  {
   "cell_type": "markdown",
   "metadata": {
    "id": "EOcX1qLUgEwu",
    "pycharm": {
     "name": "#%% md\n"
    }
   },
   "source": [
    "product_id and name represent the same feature so we can drop one of them"
   ]
  },
  {
   "cell_type": "markdown",
   "metadata": {
    "id": "b1_DvW9dgEwv",
    "pycharm": {
     "name": "#%% md\n"
    }
   },
   "source": [
    "## Encoding Timestamps to date"
   ]
  },
  {
   "cell_type": "code",
   "execution_count": 13,
   "metadata": {
    "id": "1YHUXXUcgEwx",
    "pycharm": {
     "name": "#%%\n"
    }
   },
   "outputs": [],
   "source": [
    "weatherDate = pd.to_datetime(weather['time_stamp'], unit='s').apply(lambda x: x.strftime(('%Y-%m-%d')))\n",
    "taxiRidesDate = pd.to_datetime(taxiRides['time_stamp'], unit='ms').apply(lambda x: x.strftime(('%Y-%m-%d')))\n",
    "weather['date'] = weatherDate\n",
    "taxiRides['date'] = taxiRidesDate"
   ]
  },
  {
   "cell_type": "code",
   "execution_count": 14,
   "metadata": {
    "colab": {
     "base_uri": "https://localhost:8080/",
     "height": 0
    },
    "id": "7ZzmOFpugEw9",
    "outputId": "c63d0ef8-e85c-4b07-d6ef-462e21ca5cd8",
    "pycharm": {
     "name": "#%%\n"
    },
    "scrolled": false
   },
   "outputs": [
    {
     "data": {
      "text/plain": "   distance cab_type    time_stamp         destination  \\\n0      0.62     Uber  1.544770e+12            West End   \n1      2.27     Uber  1.543400e+12   Boston University   \n2      2.00     Lyft  1.544920e+12            Back Bay   \n3      3.98     Lyft  1.543620e+12  Financial District   \n4      1.49     Lyft  1.543580e+12            Back Bay   \n\n                    source  surge_multiplier  \\\n0         Haymarket Square               1.0   \n1              Beacon Hill               1.0   \n2         Haymarket Square               1.0   \n3  Northeastern University               1.0   \n4  Northeastern University               1.0   \n\n                                     id                            product_id  \\\n0  c1b4a572-24b2-484d-aac5-b4f97b790480  8cf7e821-f0d3-49c6-8eba-e679c0ebcf6a   \n1  f9e7e7e6-b309-479b-9f90-bf26a1870c81  997acbb5-e102-41e1-b155-9df7de0a73f2   \n2  154e8438-46f5-4e5f-9872-15cc95e85eed                                  lyft   \n3  6bdc30a6-9a80-487b-914e-8d9b82ee4acb                             lyft_plus   \n4  0cb12fe9-cd72-4feb-b341-4a566b2e6643                                  lyft   \n\n       name RideCategory        date  \n0      Taxi      unknown  2018-12-14  \n1  UberPool        cheap  2018-11-28  \n2      Lyft     moderate  2018-12-16  \n3   Lyft XL    expensive  2018-11-30  \n4      Lyft        cheap  2018-11-30  ",
      "text/html": "<div>\n<style scoped>\n    .dataframe tbody tr th:only-of-type {\n        vertical-align: middle;\n    }\n\n    .dataframe tbody tr th {\n        vertical-align: top;\n    }\n\n    .dataframe thead th {\n        text-align: right;\n    }\n</style>\n<table border=\"1\" class=\"dataframe\">\n  <thead>\n    <tr style=\"text-align: right;\">\n      <th></th>\n      <th>distance</th>\n      <th>cab_type</th>\n      <th>time_stamp</th>\n      <th>destination</th>\n      <th>source</th>\n      <th>surge_multiplier</th>\n      <th>id</th>\n      <th>product_id</th>\n      <th>name</th>\n      <th>RideCategory</th>\n      <th>date</th>\n    </tr>\n  </thead>\n  <tbody>\n    <tr>\n      <td>0</td>\n      <td>0.62</td>\n      <td>Uber</td>\n      <td>1.544770e+12</td>\n      <td>West End</td>\n      <td>Haymarket Square</td>\n      <td>1.0</td>\n      <td>c1b4a572-24b2-484d-aac5-b4f97b790480</td>\n      <td>8cf7e821-f0d3-49c6-8eba-e679c0ebcf6a</td>\n      <td>Taxi</td>\n      <td>unknown</td>\n      <td>2018-12-14</td>\n    </tr>\n    <tr>\n      <td>1</td>\n      <td>2.27</td>\n      <td>Uber</td>\n      <td>1.543400e+12</td>\n      <td>Boston University</td>\n      <td>Beacon Hill</td>\n      <td>1.0</td>\n      <td>f9e7e7e6-b309-479b-9f90-bf26a1870c81</td>\n      <td>997acbb5-e102-41e1-b155-9df7de0a73f2</td>\n      <td>UberPool</td>\n      <td>cheap</td>\n      <td>2018-11-28</td>\n    </tr>\n    <tr>\n      <td>2</td>\n      <td>2.00</td>\n      <td>Lyft</td>\n      <td>1.544920e+12</td>\n      <td>Back Bay</td>\n      <td>Haymarket Square</td>\n      <td>1.0</td>\n      <td>154e8438-46f5-4e5f-9872-15cc95e85eed</td>\n      <td>lyft</td>\n      <td>Lyft</td>\n      <td>moderate</td>\n      <td>2018-12-16</td>\n    </tr>\n    <tr>\n      <td>3</td>\n      <td>3.98</td>\n      <td>Lyft</td>\n      <td>1.543620e+12</td>\n      <td>Financial District</td>\n      <td>Northeastern University</td>\n      <td>1.0</td>\n      <td>6bdc30a6-9a80-487b-914e-8d9b82ee4acb</td>\n      <td>lyft_plus</td>\n      <td>Lyft XL</td>\n      <td>expensive</td>\n      <td>2018-11-30</td>\n    </tr>\n    <tr>\n      <td>4</td>\n      <td>1.49</td>\n      <td>Lyft</td>\n      <td>1.543580e+12</td>\n      <td>Back Bay</td>\n      <td>Northeastern University</td>\n      <td>1.0</td>\n      <td>0cb12fe9-cd72-4feb-b341-4a566b2e6643</td>\n      <td>lyft</td>\n      <td>Lyft</td>\n      <td>cheap</td>\n      <td>2018-11-30</td>\n    </tr>\n  </tbody>\n</table>\n</div>"
     },
     "execution_count": 14,
     "metadata": {},
     "output_type": "execute_result"
    }
   ],
   "source": [
    "taxiRides.head()"
   ]
  },
  {
   "cell_type": "code",
   "execution_count": 15,
   "metadata": {
    "pycharm": {
     "name": "#%%\n"
    }
   },
   "outputs": [
    {
     "data": {
      "text/plain": "    temp            location  clouds  pressure    rain  time_stamp  humidity  \\\n0  42.42            Back Bay     1.0   1012.14  0.1228  1545003901      0.77   \n1  42.43         Beacon Hill     1.0   1012.15  0.1846  1545003901      0.76   \n2  42.50   Boston University     1.0   1012.15  0.1089  1545003901      0.76   \n3  42.11              Fenway     1.0   1012.13  0.0969  1545003901      0.77   \n4  43.13  Financial District     1.0   1012.14  0.1786  1545003901      0.75   \n\n    wind        date  \n0  11.25  2018-12-16  \n1  11.32  2018-12-16  \n2  11.07  2018-12-16  \n3  11.09  2018-12-16  \n4  11.49  2018-12-16  ",
      "text/html": "<div>\n<style scoped>\n    .dataframe tbody tr th:only-of-type {\n        vertical-align: middle;\n    }\n\n    .dataframe tbody tr th {\n        vertical-align: top;\n    }\n\n    .dataframe thead th {\n        text-align: right;\n    }\n</style>\n<table border=\"1\" class=\"dataframe\">\n  <thead>\n    <tr style=\"text-align: right;\">\n      <th></th>\n      <th>temp</th>\n      <th>location</th>\n      <th>clouds</th>\n      <th>pressure</th>\n      <th>rain</th>\n      <th>time_stamp</th>\n      <th>humidity</th>\n      <th>wind</th>\n      <th>date</th>\n    </tr>\n  </thead>\n  <tbody>\n    <tr>\n      <td>0</td>\n      <td>42.42</td>\n      <td>Back Bay</td>\n      <td>1.0</td>\n      <td>1012.14</td>\n      <td>0.1228</td>\n      <td>1545003901</td>\n      <td>0.77</td>\n      <td>11.25</td>\n      <td>2018-12-16</td>\n    </tr>\n    <tr>\n      <td>1</td>\n      <td>42.43</td>\n      <td>Beacon Hill</td>\n      <td>1.0</td>\n      <td>1012.15</td>\n      <td>0.1846</td>\n      <td>1545003901</td>\n      <td>0.76</td>\n      <td>11.32</td>\n      <td>2018-12-16</td>\n    </tr>\n    <tr>\n      <td>2</td>\n      <td>42.50</td>\n      <td>Boston University</td>\n      <td>1.0</td>\n      <td>1012.15</td>\n      <td>0.1089</td>\n      <td>1545003901</td>\n      <td>0.76</td>\n      <td>11.07</td>\n      <td>2018-12-16</td>\n    </tr>\n    <tr>\n      <td>3</td>\n      <td>42.11</td>\n      <td>Fenway</td>\n      <td>1.0</td>\n      <td>1012.13</td>\n      <td>0.0969</td>\n      <td>1545003901</td>\n      <td>0.77</td>\n      <td>11.09</td>\n      <td>2018-12-16</td>\n    </tr>\n    <tr>\n      <td>4</td>\n      <td>43.13</td>\n      <td>Financial District</td>\n      <td>1.0</td>\n      <td>1012.14</td>\n      <td>0.1786</td>\n      <td>1545003901</td>\n      <td>0.75</td>\n      <td>11.49</td>\n      <td>2018-12-16</td>\n    </tr>\n  </tbody>\n</table>\n</div>"
     },
     "execution_count": 15,
     "metadata": {},
     "output_type": "execute_result"
    }
   ],
   "source": [
    "weather.head()"
   ]
  },
  {
   "cell_type": "code",
   "execution_count": 16,
   "metadata": {
    "pycharm": {
     "name": "#%%\n"
    },
    "scrolled": true
   },
   "outputs": [
    {
     "data": {
      "text/plain": "2018-11-27    63256\n2018-11-29    53128\n2018-11-28    52087\n2018-12-14    37608\n2018-11-30    37608\n2018-12-02    37547\n2018-12-17    37540\n2018-12-16    37423\n2018-12-03    37409\n2018-12-01    33387\n2018-12-15    33255\n2018-12-13    30590\n2018-12-18    27281\n2018-11-26    24021\n2018-12-04     8750\n2018-12-10     3566\nName: date, dtype: int64"
     },
     "execution_count": 16,
     "metadata": {},
     "output_type": "execute_result"
    }
   ],
   "source": [
    "taxiRides['date'].value_counts()"
   ]
  },
  {
   "cell_type": "code",
   "execution_count": 17,
   "metadata": {
    "pycharm": {
     "name": "#%%\n"
    },
    "scrolled": true
   },
   "outputs": [
    {
     "data": {
      "text/plain": "2018-11-28    948\n2018-11-26    852\n2018-11-29    768\n2018-11-27    684\n2018-12-01    324\n2018-11-30    300\n2018-12-17    288\n2018-12-03    288\n2018-12-02    288\n2018-12-16    288\n2018-12-14    288\n2018-12-15    288\n2018-12-13    276\n2018-12-18    228\n2018-12-10     72\n2018-12-04     72\n2018-12-09     24\nName: date, dtype: int64"
     },
     "execution_count": 17,
     "metadata": {},
     "output_type": "execute_result"
    }
   ],
   "source": [
    "weather['date'].value_counts()"
   ]
  },
  {
   "cell_type": "code",
   "execution_count": 18,
   "metadata": {
    "id": "hOZECS-kgExA",
    "pycharm": {
     "name": "#%%\n"
    }
   },
   "outputs": [],
   "source": [
    "## Joining Dataframes based on date\n",
    "\n",
    "# taxiRides.drop(['time_stamp'],axis = 1, inplace = True)\n",
    "# weather.drop(['time_stamp'],axis = 1, inplace = True)\n",
    "#\n",
    "# mergedData = pd.merge(taxiRides,weather.drop_duplicates(subset=['date', 'location']), how = 'left', left_on=['date', 'source'], right_on=['date', 'location'])"
   ]
  },
  {
   "cell_type": "code",
   "execution_count": 19,
   "metadata": {
    "pycharm": {
     "name": "#%%\n"
    }
   },
   "outputs": [],
   "source": [
    "# mergedData.isnull().sum()"
   ]
  },
  {
   "cell_type": "markdown",
   "metadata": {
    "id": "bX0qzKlkgExH",
    "pycharm": {
     "name": "#%% md\n"
    }
   },
   "source": [
    "## Rain Feature"
   ]
  },
  {
   "cell_type": "code",
   "execution_count": 20,
   "metadata": {
    "colab": {
     "base_uri": "https://localhost:8080/"
    },
    "id": "VwHJPyByNV6b",
    "outputId": "f29b5f04-4bed-4cbf-dbcd-346c6116490a",
    "pycharm": {
     "name": "#%%\n"
    }
   },
   "outputs": [
    {
     "name": "stdout",
     "output_type": "stream",
     "text": [
      "Rows with null rain value statistics\n",
      "Rows with non-null rain value statistics\n",
      "Values of 0 in the rain feature 0\n"
     ]
    },
    {
     "data": {
      "text/plain": "<Figure size 432x288 with 1 Axes>",
      "image/png": "[encoded data removed]"
     },
     "metadata": {
      "needs_background": "light"
     },
     "output_type": "display_data"
    }
   ],
   "source": [
    "weather['rain'].isnull().sum() / weather['rain'].shape[0]\n",
    "weather['rain'].hist()\n",
    "#Does null values of rain revolve around certain values?\n",
    "print(\"Rows with null rain value statistics\")\n",
    "weather[weather['rain'].isnull()].describe()\n",
    "\n",
    "print(\"Rows with non-null rain value statistics\")\n",
    "weather[weather['rain'].notna()].describe()\n",
    "\n",
    "weather['rain'].value_counts()\n",
    "\n",
    "print(f\"Values of 0 in the rain feature {(weather['rain'] == 0).sum()}\")\n",
    "#Rain feature nulls could indicate no rain\n"
   ]
  },
  {
   "cell_type": "markdown",
   "metadata": {
    "id": "E-HNbEFTgExX",
    "pycharm": {
     "name": "#%% md\n"
    }
   },
   "source": [
    "# Data Visualization"
   ]
  },
  {
   "cell_type": "code",
   "execution_count": 21,
   "metadata": {
    "colab": {
     "base_uri": "https://localhost:8080/",
     "height": 836
    },
    "id": "cMz-JSTxu0GO",
    "outputId": "a6429b74-d616-4662-a4b3-4b1219532afc",
    "pycharm": {
     "name": "#%%\n"
    }
   },
   "outputs": [],
   "source": [
    "# plt.figure(figsize = (8, 8))\n",
    "# plt.xticks(rotation = 60)\n",
    "# plt.yticks(rotation = 60)\n",
    "# plt.title('Correlation of data features')\n",
    "# sns.heatmap(taxiRides.corr(), annot = True)\n",
    "# plt.show()"
   ]
  },
  {
   "cell_type": "code",
   "execution_count": 22,
   "metadata": {
    "colab": {
     "base_uri": "https://localhost:8080/",
     "height": 265
    },
    "id": "3aQdxYxjgExn",
    "outputId": "ab94b9c9-991f-41d3-e9eb-729924dc3341",
    "pycharm": {
     "name": "#%%\n"
    }
   },
   "outputs": [
    {
     "data": {
      "text/plain": "<Figure size 432x288 with 1 Axes>",
      "image/png": "[encoded data removed]"
     },
     "metadata": {
      "needs_background": "light"
     },
     "output_type": "display_data"
    }
   ],
   "source": [
    "taxiRides['cab_type'].hist()\n",
    "plt.show()"
   ]
  },
  {
   "cell_type": "code",
   "execution_count": 23,
   "metadata": {
    "colab": {
     "base_uri": "https://localhost:8080/",
     "height": 283
    },
    "id": "k90TNYI_gExp",
    "outputId": "ef0d3751-7de5-4743-aa95-008fc5e5428d",
    "pycharm": {
     "name": "#%%\n"
    }
   },
   "outputs": [
    {
     "data": {
      "text/plain": "<matplotlib.axes._subplots.AxesSubplot at 0x2a1b6d3b488>"
     },
     "execution_count": 23,
     "metadata": {},
     "output_type": "execute_result"
    },
    {
     "data": {
      "text/plain": "<Figure size 432x288 with 1 Axes>",
      "image/png": "[encoded data removed]"
     },
     "metadata": {
      "needs_background": "light"
     },
     "output_type": "display_data"
    }
   ],
   "source": [
    "taxiRides['surge_multiplier'].hist()"
   ]
  },
  {
   "cell_type": "markdown",
   "metadata": {
    "id": "9je9fxUDgTiZ",
    "pycharm": {
     "name": "#%% md\n"
    }
   },
   "source": [
    "# Preprocessing"
   ]
  },
  {
   "cell_type": "code",
   "execution_count": 24,
   "outputs": [
    {
     "data": {
      "text/plain": "   distance cab_type    time_stamp         destination  \\\n0      0.62     Uber  1.544770e+12            West End   \n1      2.27     Uber  1.543400e+12   Boston University   \n2      2.00     Lyft  1.544920e+12            Back Bay   \n3      3.98     Lyft  1.543620e+12  Financial District   \n4      1.49     Lyft  1.543580e+12            Back Bay   \n\n                    source  surge_multiplier  \\\n0         Haymarket Square               1.0   \n1              Beacon Hill               1.0   \n2         Haymarket Square               1.0   \n3  Northeastern University               1.0   \n4  Northeastern University               1.0   \n\n                                     id                            product_id  \\\n0  c1b4a572-24b2-484d-aac5-b4f97b790480  8cf7e821-f0d3-49c6-8eba-e679c0ebcf6a   \n1  f9e7e7e6-b309-479b-9f90-bf26a1870c81  997acbb5-e102-41e1-b155-9df7de0a73f2   \n2  154e8438-46f5-4e5f-9872-15cc95e85eed                                  lyft   \n3  6bdc30a6-9a80-487b-914e-8d9b82ee4acb                             lyft_plus   \n4  0cb12fe9-cd72-4feb-b341-4a566b2e6643                                  lyft   \n\n       name RideCategory        date  \n0      Taxi      unknown  2018-12-14  \n1  UberPool        cheap  2018-11-28  \n2      Lyft     moderate  2018-12-16  \n3   Lyft XL    expensive  2018-11-30  \n4      Lyft        cheap  2018-11-30  ",
      "text/html": "<div>\n<style scoped>\n    .dataframe tbody tr th:only-of-type {\n        vertical-align: middle;\n    }\n\n    .dataframe tbody tr th {\n        vertical-align: top;\n    }\n\n    .dataframe thead th {\n        text-align: right;\n    }\n</style>\n<table border=\"1\" class=\"dataframe\">\n  <thead>\n    <tr style=\"text-align: right;\">\n      <th></th>\n      <th>distance</th>\n      <th>cab_type</th>\n      <th>time_stamp</th>\n      <th>destination</th>\n      <th>source</th>\n      <th>surge_multiplier</th>\n      <th>id</th>\n      <th>product_id</th>\n      <th>name</th>\n      <th>RideCategory</th>\n      <th>date</th>\n    </tr>\n  </thead>\n  <tbody>\n    <tr>\n      <td>0</td>\n      <td>0.62</td>\n      <td>Uber</td>\n      <td>1.544770e+12</td>\n      <td>West End</td>\n      <td>Haymarket Square</td>\n      <td>1.0</td>\n      <td>c1b4a572-24b2-484d-aac5-b4f97b790480</td>\n      <td>8cf7e821-f0d3-49c6-8eba-e679c0ebcf6a</td>\n      <td>Taxi</td>\n      <td>unknown</td>\n      <td>2018-12-14</td>\n    </tr>\n    <tr>\n      <td>1</td>\n      <td>2.27</td>\n      <td>Uber</td>\n      <td>1.543400e+12</td>\n      <td>Boston University</td>\n      <td>Beacon Hill</td>\n      <td>1.0</td>\n      <td>f9e7e7e6-b309-479b-9f90-bf26a1870c81</td>\n      <td>997acbb5-e102-41e1-b155-9df7de0a73f2</td>\n      <td>UberPool</td>\n      <td>cheap</td>\n      <td>2018-11-28</td>\n    </tr>\n    <tr>\n      <td>2</td>\n      <td>2.00</td>\n      <td>Lyft</td>\n      <td>1.544920e+12</td>\n      <td>Back Bay</td>\n      <td>Haymarket Square</td>\n      <td>1.0</td>\n      <td>154e8438-46f5-4e5f-9872-15cc95e85eed</td>\n      <td>lyft</td>\n      <td>Lyft</td>\n      <td>moderate</td>\n      <td>2018-12-16</td>\n    </tr>\n    <tr>\n      <td>3</td>\n      <td>3.98</td>\n      <td>Lyft</td>\n      <td>1.543620e+12</td>\n      <td>Financial District</td>\n      <td>Northeastern University</td>\n      <td>1.0</td>\n      <td>6bdc30a6-9a80-487b-914e-8d9b82ee4acb</td>\n      <td>lyft_plus</td>\n      <td>Lyft XL</td>\n      <td>expensive</td>\n      <td>2018-11-30</td>\n    </tr>\n    <tr>\n      <td>4</td>\n      <td>1.49</td>\n      <td>Lyft</td>\n      <td>1.543580e+12</td>\n      <td>Back Bay</td>\n      <td>Northeastern University</td>\n      <td>1.0</td>\n      <td>0cb12fe9-cd72-4feb-b341-4a566b2e6643</td>\n      <td>lyft</td>\n      <td>Lyft</td>\n      <td>cheap</td>\n      <td>2018-11-30</td>\n    </tr>\n  </tbody>\n</table>\n</div>"
     },
     "execution_count": 24,
     "metadata": {},
     "output_type": "execute_result"
    }
   ],
   "source": [
    "taxiRides.head()"
   ],
   "metadata": {
    "collapsed": false,
    "pycharm": {
     "name": "#%%\n"
    }
   }
  },
  {
   "cell_type": "code",
   "execution_count": 25,
   "outputs": [],
   "source": [
    "preProcessing = PreProcessing()"
   ],
   "metadata": {
    "collapsed": false,
    "pycharm": {
     "name": "#%%\n"
    }
   }
  },
  {
   "cell_type": "code",
   "execution_count": 26,
   "outputs": [],
   "source": [
    "columnsToDrop = ['time_stamp', 'id', 'date', 'product_id']"
   ],
   "metadata": {
    "collapsed": false,
    "pycharm": {
     "name": "#%%\n"
    }
   }
  },
  {
   "cell_type": "code",
   "execution_count": 27,
   "outputs": [],
   "source": [
    "features = taxiRides.drop(columnsToDrop,axis = 1)"
   ],
   "metadata": {
    "collapsed": false,
    "pycharm": {
     "name": "#%%\n"
    }
   }
  },
  {
   "cell_type": "code",
   "execution_count": 28,
   "outputs": [
    {
     "data": {
      "text/plain": "   distance cab_type         destination                   source  \\\n0      0.62     Uber            West End         Haymarket Square   \n1      2.27     Uber   Boston University              Beacon Hill   \n2      2.00     Lyft            Back Bay         Haymarket Square   \n3      3.98     Lyft  Financial District  Northeastern University   \n4      1.49     Lyft            Back Bay  Northeastern University   \n\n   surge_multiplier      name RideCategory  \n0               1.0      Taxi      unknown  \n1               1.0  UberPool        cheap  \n2               1.0      Lyft     moderate  \n3               1.0   Lyft XL    expensive  \n4               1.0      Lyft        cheap  ",
      "text/html": "<div>\n<style scoped>\n    .dataframe tbody tr th:only-of-type {\n        vertical-align: middle;\n    }\n\n    .dataframe tbody tr th {\n        vertical-align: top;\n    }\n\n    .dataframe thead th {\n        text-align: right;\n    }\n</style>\n<table border=\"1\" class=\"dataframe\">\n  <thead>\n    <tr style=\"text-align: right;\">\n      <th></th>\n      <th>distance</th>\n      <th>cab_type</th>\n      <th>destination</th>\n      <th>source</th>\n      <th>surge_multiplier</th>\n      <th>name</th>\n      <th>RideCategory</th>\n    </tr>\n  </thead>\n  <tbody>\n    <tr>\n      <td>0</td>\n      <td>0.62</td>\n      <td>Uber</td>\n      <td>West End</td>\n      <td>Haymarket Square</td>\n      <td>1.0</td>\n      <td>Taxi</td>\n      <td>unknown</td>\n    </tr>\n    <tr>\n      <td>1</td>\n      <td>2.27</td>\n      <td>Uber</td>\n      <td>Boston University</td>\n      <td>Beacon Hill</td>\n      <td>1.0</td>\n      <td>UberPool</td>\n      <td>cheap</td>\n    </tr>\n    <tr>\n      <td>2</td>\n      <td>2.00</td>\n      <td>Lyft</td>\n      <td>Back Bay</td>\n      <td>Haymarket Square</td>\n      <td>1.0</td>\n      <td>Lyft</td>\n      <td>moderate</td>\n    </tr>\n    <tr>\n      <td>3</td>\n      <td>3.98</td>\n      <td>Lyft</td>\n      <td>Financial District</td>\n      <td>Northeastern University</td>\n      <td>1.0</td>\n      <td>Lyft XL</td>\n      <td>expensive</td>\n    </tr>\n    <tr>\n      <td>4</td>\n      <td>1.49</td>\n      <td>Lyft</td>\n      <td>Back Bay</td>\n      <td>Northeastern University</td>\n      <td>1.0</td>\n      <td>Lyft</td>\n      <td>cheap</td>\n    </tr>\n  </tbody>\n</table>\n</div>"
     },
     "execution_count": 28,
     "metadata": {},
     "output_type": "execute_result"
    }
   ],
   "source": [
    "features.head()"
   ],
   "metadata": {
    "collapsed": false,
    "pycharm": {
     "name": "#%%\n"
    }
   }
  },
  {
   "cell_type": "markdown",
   "source": [
    "## Encoding"
   ],
   "metadata": {
    "collapsed": false,
    "pycharm": {
     "name": "#%% md\n"
    }
   }
  },
  {
   "cell_type": "markdown",
   "metadata": {
    "id": "dt9elEh8BtMQ",
    "pycharm": {
     "name": "#%% md\n"
    }
   },
   "source": [
    "###  <i>name</i> Feature"
   ]
  },
  {
   "cell_type": "code",
   "execution_count": 29,
   "outputs": [],
   "source": [
    "preProcessing.encode_name(features['name'])"
   ],
   "metadata": {
    "collapsed": false,
    "pycharm": {
     "name": "#%%\n"
    }
   }
  },
  {
   "cell_type": "markdown",
   "metadata": {
    "id": "-zGtznqLBu4O",
    "pycharm": {
     "name": "#%% md\n"
    }
   },
   "source": [
    "### Other Features"
   ]
  },
  {
   "cell_type": "code",
   "execution_count": 30,
   "metadata": {
    "colab": {
     "base_uri": "https://localhost:8080/"
    },
    "id": "3ptzS3nbyao5",
    "outputId": "e53833e0-07ce-42d2-b219-5b9e88abc781",
    "pycharm": {
     "name": "#%%\n"
    }
   },
   "outputs": [
    {
     "name": "stdout",
     "output_type": "stream",
     "text": [
      "Non Integer Columns : ['cab_type', 'destination', 'source', 'RideCategory']\n"
     ]
    }
   ],
   "source": [
    "nonIntegerColumns = [col for col in features.columns if features[col].dtypes == object]\n",
    "print(f\"Non Integer Columns : {nonIntegerColumns}\")"
   ]
  },
  {
   "cell_type": "code",
   "execution_count": 31,
   "metadata": {
    "id": "OAnwv46Ryao6",
    "pycharm": {
     "name": "#%%\n"
    }
   },
   "outputs": [],
   "source": [
    "preProcessing.encode(features,nonIntegerColumns)"
   ]
  },
  {
   "cell_type": "code",
   "execution_count": 32,
   "metadata": {
    "pycharm": {
     "name": "#%%\n"
    }
   },
   "outputs": [
    {
     "data": {
      "text/plain": "   distance  cab_type  destination  source  surge_multiplier  name  \\\n0      0.62         1           11       5               1.0     1   \n1      2.27         1            2       1               1.0     1   \n2      2.00         0            0       5               1.0     1   \n3      3.98         0            4       8               1.0     2   \n4      1.49         0            0       8               1.0     1   \n\n   RideCategory  \n0             3  \n1             0  \n2             2  \n3             1  \n4             0  ",
      "text/html": "<div>\n<style scoped>\n    .dataframe tbody tr th:only-of-type {\n        vertical-align: middle;\n    }\n\n    .dataframe tbody tr th {\n        vertical-align: top;\n    }\n\n    .dataframe thead th {\n        text-align: right;\n    }\n</style>\n<table border=\"1\" class=\"dataframe\">\n  <thead>\n    <tr style=\"text-align: right;\">\n      <th></th>\n      <th>distance</th>\n      <th>cab_type</th>\n      <th>destination</th>\n      <th>source</th>\n      <th>surge_multiplier</th>\n      <th>name</th>\n      <th>RideCategory</th>\n    </tr>\n  </thead>\n  <tbody>\n    <tr>\n      <td>0</td>\n      <td>0.62</td>\n      <td>1</td>\n      <td>11</td>\n      <td>5</td>\n      <td>1.0</td>\n      <td>1</td>\n      <td>3</td>\n    </tr>\n    <tr>\n      <td>1</td>\n      <td>2.27</td>\n      <td>1</td>\n      <td>2</td>\n      <td>1</td>\n      <td>1.0</td>\n      <td>1</td>\n      <td>0</td>\n    </tr>\n    <tr>\n      <td>2</td>\n      <td>2.00</td>\n      <td>0</td>\n      <td>0</td>\n      <td>5</td>\n      <td>1.0</td>\n      <td>1</td>\n      <td>2</td>\n    </tr>\n    <tr>\n      <td>3</td>\n      <td>3.98</td>\n      <td>0</td>\n      <td>4</td>\n      <td>8</td>\n      <td>1.0</td>\n      <td>2</td>\n      <td>1</td>\n    </tr>\n    <tr>\n      <td>4</td>\n      <td>1.49</td>\n      <td>0</td>\n      <td>0</td>\n      <td>8</td>\n      <td>1.0</td>\n      <td>1</td>\n      <td>0</td>\n    </tr>\n  </tbody>\n</table>\n</div>"
     },
     "execution_count": 32,
     "metadata": {},
     "output_type": "execute_result"
    }
   ],
   "source": [
    "features.head()"
   ]
  },
  {
   "cell_type": "code",
   "execution_count": 33,
   "metadata": {
    "colab": {
     "base_uri": "https://localhost:8080/",
     "height": 824
    },
    "id": "be7RJmiPl_JM",
    "outputId": "939c14cb-4047-4f6b-bc6a-64007a6d3619",
    "pycharm": {
     "name": "#%%\n"
    }
   },
   "outputs": [
    {
     "data": {
      "text/plain": "<Figure size 720x720 with 2 Axes>",
      "image/png": "[encoded data removed]"
     },
     "metadata": {
      "needs_background": "light"
     },
     "output_type": "display_data"
    }
   ],
   "source": [
    "plt.figure(figsize = (10, 10))\n",
    "\n",
    "ax = sns.heatmap(features.corr(), annot = True)\n",
    "ax.tick_params(axis = 'x', rotation = 60)\n",
    "ax.tick_params(axis = 'y', rotation = 0)\n",
    "# these two lines are meant to fix a bug in matplotlib's current version\n",
    "# where the graph top and bot rows are cut in half (I copied them from stackoverflow)\n",
    "bottom, top = ax.get_ylim()\n",
    "ax.set_ylim(bottom + 0.5, top - 0.5)\n",
    "\n",
    "plt.show()"
   ]
  },
  {
   "cell_type": "markdown",
   "metadata": {
    "id": "GXsfljQJ1StU",
    "pycharm": {
     "name": "#%% md\n"
    }
   },
   "source": [
    "# Model"
   ]
  },
  {
   "cell_type": "code",
   "execution_count": 34,
   "metadata": {
    "id": "J0QCwmna1StV",
    "pycharm": {
     "name": "#%%\n"
    }
   },
   "outputs": [],
   "source": [
    "dataFeatures = features.drop(['RideCategory'],axis=1)\n",
    "dataLabel = features['RideCategory']"
   ]
  },
  {
   "cell_type": "code",
   "execution_count": 35,
   "metadata": {
    "colab": {
     "base_uri": "https://localhost:8080/",
     "height": 206
    },
    "id": "TFEdJEQ6AmeG",
    "outputId": "dac5373e-c6e1-47bd-fd45-58376d2d075f",
    "pycharm": {
     "name": "#%%\n"
    }
   },
   "outputs": [
    {
     "data": {
      "text/plain": "   distance  cab_type  destination  source  surge_multiplier  name\n0      0.62         1           11       5               1.0     1\n1      2.27         1            2       1               1.0     1\n2      2.00         0            0       5               1.0     1\n3      3.98         0            4       8               1.0     2\n4      1.49         0            0       8               1.0     1",
      "text/html": "<div>\n<style scoped>\n    .dataframe tbody tr th:only-of-type {\n        vertical-align: middle;\n    }\n\n    .dataframe tbody tr th {\n        vertical-align: top;\n    }\n\n    .dataframe thead th {\n        text-align: right;\n    }\n</style>\n<table border=\"1\" class=\"dataframe\">\n  <thead>\n    <tr style=\"text-align: right;\">\n      <th></th>\n      <th>distance</th>\n      <th>cab_type</th>\n      <th>destination</th>\n      <th>source</th>\n      <th>surge_multiplier</th>\n      <th>name</th>\n    </tr>\n  </thead>\n  <tbody>\n    <tr>\n      <td>0</td>\n      <td>0.62</td>\n      <td>1</td>\n      <td>11</td>\n      <td>5</td>\n      <td>1.0</td>\n      <td>1</td>\n    </tr>\n    <tr>\n      <td>1</td>\n      <td>2.27</td>\n      <td>1</td>\n      <td>2</td>\n      <td>1</td>\n      <td>1.0</td>\n      <td>1</td>\n    </tr>\n    <tr>\n      <td>2</td>\n      <td>2.00</td>\n      <td>0</td>\n      <td>0</td>\n      <td>5</td>\n      <td>1.0</td>\n      <td>1</td>\n    </tr>\n    <tr>\n      <td>3</td>\n      <td>3.98</td>\n      <td>0</td>\n      <td>4</td>\n      <td>8</td>\n      <td>1.0</td>\n      <td>2</td>\n    </tr>\n    <tr>\n      <td>4</td>\n      <td>1.49</td>\n      <td>0</td>\n      <td>0</td>\n      <td>8</td>\n      <td>1.0</td>\n      <td>1</td>\n    </tr>\n  </tbody>\n</table>\n</div>"
     },
     "execution_count": 35,
     "metadata": {},
     "output_type": "execute_result"
    }
   ],
   "source": [
    "dataFeatures.head()"
   ]
  },
  {
   "cell_type": "code",
   "execution_count": 36,
   "metadata": {
    "id": "3BW0W_UOMVmT",
    "pycharm": {
     "name": "#%%\n"
    }
   },
   "outputs": [],
   "source": [
    "model = Model()"
   ]
  },
  {
   "cell_type": "code",
   "execution_count": 37,
   "metadata": {
    "id": "G4udYlgCNMC1",
    "pycharm": {
     "name": "#%%\n"
    }
   },
   "outputs": [],
   "source": [
    "splitData = model.splitData(dataFeatures,dataLabel)"
   ]
  },
  {
   "cell_type": "markdown",
   "source": [
    "### Linear Logistic"
   ],
   "metadata": {
    "collapsed": false,
    "pycharm": {
     "name": "#%% md\n"
    }
   }
  },
  {
   "cell_type": "code",
   "execution_count": 38,
   "metadata": {
    "pycharm": {
     "name": "#%%\n"
    }
   },
   "outputs": [],
   "source": [
    "# lr = linear_model.LogisticRegression(solver = 'lbfgs', multi_class = 'multinomial', random_state=RANDOM_STATE)\n",
    "# lr.fit(splitData['trainFeatures'], splitData['trainLabel'])\n",
    "# print(lr.score(splitData['trainFeatures'], splitData['trainLabel']))\n",
    "# metrics.f1_score(splitData['testLabel'], lr.predict(splitData['testFeatures']),average='micro')"
   ]
  },
  {
   "cell_type": "markdown",
   "source": [
    "### Polynomial Logistic"
   ],
   "metadata": {
    "collapsed": false,
    "pycharm": {
     "name": "#%% md\n"
    }
   }
  },
  {
   "cell_type": "code",
   "execution_count": 39,
   "outputs": [],
   "source": [
    "# polyDegree = 4"
   ],
   "metadata": {
    "collapsed": false,
    "pycharm": {
     "name": "#%%\n"
    }
   }
  },
  {
   "cell_type": "code",
   "execution_count": 40,
   "outputs": [],
   "source": [
    "# polyFeaturesTrain  = model.changeDegreeOf(splitData['trainFeatures'], polyDegree)\n",
    "# polyFeaturesValidation = model.changeDegreeOf(splitData['testFeatures'], polyDegree)"
   ],
   "metadata": {
    "collapsed": false,
    "pycharm": {
     "name": "#%%\n"
    }
   }
  },
  {
   "cell_type": "code",
   "execution_count": 41,
   "outputs": [],
   "source": [
    "# lr = linear_model.LogisticRegression(solver = 'lbfgs', multi_class = 'multinomial', random_state=RANDOM_STATE)\n",
    "# lr.fit(polyFeaturesTrain, splitData['trainLabel'])"
   ],
   "metadata": {
    "collapsed": false,
    "pycharm": {
     "name": "#%%\n"
    }
   }
  },
  {
   "cell_type": "code",
   "execution_count": 42,
   "outputs": [],
   "source": [
    "# print(lr.score(polyFeaturesTrain, splitData['trainLabel']))\n",
    "# metrics.f1_score(splitData['testLabel'], lr.predict(polyFeaturesValidation),average='micro')"
   ],
   "metadata": {
    "collapsed": false,
    "pycharm": {
     "name": "#%%\n"
    }
   }
  },
  {
   "cell_type": "markdown",
   "source": [
    "### Decision Tree"
   ],
   "metadata": {
    "collapsed": false,
    "pycharm": {
     "name": "#%% md\n"
    }
   }
  },
  {
   "cell_type": "code",
   "execution_count": 43,
   "metadata": {
    "pycharm": {
     "name": "#%%\n"
    }
   },
   "outputs": [],
   "source": [
    "# tree = DecisionTreeClassifier(criterion='entropy', random_state=RANDOM_STATE)\n",
    "# tree.fit(splitData['trainFeatures'], splitData['trainLabel'])\n",
    "# print(tree.score(splitData['trainFeatures'], splitData['trainLabel']))\n",
    "# metrics.f1_score(splitData['testLabel'], tree.predict(splitData['testFeatures']),average='micro')"
   ]
  },
  {
   "cell_type": "markdown",
   "source": [
    "### Random Forest"
   ],
   "metadata": {
    "collapsed": false,
    "pycharm": {
     "name": "#%% md\n"
    }
   }
  },
  {
   "cell_type": "code",
   "execution_count": 44,
   "metadata": {
    "pycharm": {
     "name": "#%%\n"
    }
   },
   "outputs": [],
   "source": [
    "# forest = RandomForestClassifier(n_estimators=100, random_state=RANDOM_STATE)\n",
    "# forest.fit(splitData['trainFeatures'], splitData['trainLabel'])\n",
    "# print(forest.score(splitData['trainFeatures'], splitData['trainLabel']))\n",
    "# metrics.f1_score(splitData['testLabel'], forest.predict(splitData['testFeatures']),average='micro')"
   ]
  },
  {
   "cell_type": "markdown",
   "source": [
    "### SVM"
   ],
   "metadata": {
    "collapsed": false,
    "pycharm": {
     "name": "#%% md\n"
    }
   }
  },
  {
   "cell_type": "code",
   "execution_count": 45,
   "outputs": [],
   "source": [
    "# svm = SVC()\n",
    "# svm.fit(splitData['trainFeatures'], splitData['trainLabel'], random_state=RANDOM_STATE)\n",
    "# print(svm.score(splitData['trainFeatures'], splitData['trainLabel']))\n",
    "# metrics.f1_score(splitData['testLabel'], svm.predict(splitData['testFeatures']),average='micro')"
   ],
   "metadata": {
    "collapsed": false,
    "pycharm": {
     "name": "#%%\n"
    }
   }
  },
  {
   "cell_type": "code",
   "execution_count": 45,
   "metadata": {
    "pycharm": {
     "name": "#%%\n"
    }
   },
   "outputs": [],
   "source": []
  }
 ],
 "metadata": {
  "colab": {
   "collapsed_sections": [
    "FxAg-M9rgEwS",
    "b5cZp83vgEwh",
    "BCkljrZhgEwm",
    "b1_DvW9dgEwv",
    "vXWmLCUdgExD",
    "bX0qzKlkgExH"
   ],
   "name": "ML Project.ipynb",
   "provenance": []
  },
  "interpreter": {
   "hash": "916dbcbb3f70747c44a77c7bcd40155683ae19c65e1c03b4aa3499c5328201f1"
  },
  "kernelspec": {
   "display_name": "Python 3",
   "language": "python",
   "name": "python3"
  },
  "language_info": {
   "codemirror_mode": {
    "name": "ipython",
    "version": 3
   },
   "file_extension": ".py",
   "mimetype": "text/x-python",
   "name": "python",
   "nbconvert_exporter": "python",
   "pygments_lexer": "ipython3",
   "version": "3.7.4"
  }
 },
 "nbformat": 4,
 "nbformat_minor": 1
}