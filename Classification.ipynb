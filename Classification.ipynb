{
  "cells": [
    {
      "cell_type": "code",
      "execution_count": 1,
      "metadata": {
        "colab": {
          "base_uri": "https://localhost:8080/"
        },
        "id": "arWAAuiomMkG",
        "outputId": "38327308-e399-4375-8b54-6fea7c849111",
        "pycharm": {
          "name": "#%%\n"
        },
        "scrolled": true
      },
      "outputs": [
        {
          "output_type": "stream",
          "name": "stderr",
          "text": [
            "Retrieving folder list\n"
          ]
        },
        {
          "output_type": "stream",
          "name": "stdout",
          "text": [
            "Processing file 1-Dde_F8ttW9Z02W1o_sBipRlFjNCGAiR taxi-rides-classification.csv\n",
            "Processing file 1-GOIgH2uvntppatU59m8U0pwHF8v4HFC weather.csv\n",
            "Building directory structure completed\n"
          ]
        },
        {
          "output_type": "stream",
          "name": "stderr",
          "text": [
            "Retrieving folder list completed\n",
            "Building directory structure\n",
            "Downloading...\n",
            "From: https://drive.google.com/uc?id=1-Dde_F8ttW9Z02W1o_sBipRlFjNCGAiR\n",
            "To: /content/classification/taxi-rides-classification.csv\n",
            "100%|██████████| 72.8M/72.8M [00:00<00:00, 135MB/s]\n",
            "Downloading...\n",
            "From: https://drive.google.com/uc?id=1-GOIgH2uvntppatU59m8U0pwHF8v4HFC\n",
            "To: /content/classification/weather.csv\n",
            "100%|██████████| 350k/350k [00:00<00:00, 74.4MB/s]\n",
            "Download completed\n"
          ]
        },
        {
          "output_type": "execute_result",
          "data": {
            "text/plain": [
              "['/content/classification/taxi-rides-classification.csv',\n",
              " '/content/classification/weather.csv']"
            ]
          },
          "metadata": {},
          "execution_count": 1
        }
      ],
      "source": [
        "import gdown\n",
        "gdown.download_folder('https://drive.google.com/drive/folders/1fBs3klrABIbNxvReGZ96lLdOnLTRYEZ5?usp=sharing')"
      ]
    },
    {
      "cell_type": "code",
      "execution_count": 2,
      "outputs": [
        {
          "output_type": "stream",
          "name": "stdout",
          "text": [
            "  % Total    % Received % Xferd  Average Speed   Time    Time     Time  Current\n",
            "                                 Dload  Upload   Total   Spent    Left  Speed\n",
            "\r  0     0    0     0    0     0      0      0 --:--:-- --:--:-- --:--:--     0\r100  6275  100  6275    0     0  99603      0 --:--:-- --:--:-- --:--:-- 99603\n"
          ]
        }
      ],
      "source": [
        "!curl --remote-name https://raw.githubusercontent.com/aymanmostafa11/Taxi-Ride-Fare-Prediction/main/helpers.py"
      ],
      "metadata": {
        "pycharm": {
          "name": "#%%\n"
        },
        "id": "ponGR808OSkk",
        "outputId": "7645fbe4-1a2b-49fb-8da4-b65ab9afb9c2",
        "colab": {
          "base_uri": "https://localhost:8080/"
        }
      }
    },
    {
      "cell_type": "code",
      "execution_count": 3,
      "outputs": [],
      "source": [
        "import numpy as np\n",
        "import pandas as pd\n",
        "import matplotlib.pyplot as plt\n",
        "import seaborn as sns\n",
        "\n",
        "from sklearn import linear_model\n",
        "from sklearn import metrics\n",
        "from sklearn.tree import DecisionTreeClassifier\n",
        "from sklearn.ensemble import RandomForestClassifier\n",
        "from sklearn.svm import SVC\n",
        "\n",
        "from helpers import Model , PreProcessing"
      ],
      "metadata": {
        "pycharm": {
          "name": "#%%\n"
        },
        "id": "O5IwkRy_OSkk"
      }
    },
    {
      "cell_type": "code",
      "execution_count": 4,
      "outputs": [],
      "source": [
        "RANDOM_STATE = 42"
      ],
      "metadata": {
        "pycharm": {
          "name": "#%%\n"
        },
        "id": "5OUqJiCtOSkl"
      }
    },
    {
      "cell_type": "code",
      "execution_count": 5,
      "metadata": {
        "pycharm": {
          "name": "#%%\n"
        },
        "id": "yFnLMcGTOSkm"
      },
      "outputs": [],
      "source": [
        "dataPath = '/content/classification'"
      ]
    },
    {
      "cell_type": "code",
      "execution_count": 6,
      "metadata": {
        "id": "JFAJcYPpgEv5",
        "pycharm": {
          "name": "#%%\n"
        },
        "scrolled": true
      },
      "outputs": [],
      "source": [
        "taxiRides = pd.read_csv(dataPath + '/taxi-rides-classification.csv')\n",
        "weather = pd.read_csv(dataPath + '/weather.csv')"
      ]
    },
    {
      "cell_type": "code",
      "execution_count": 7,
      "metadata": {
        "colab": {
          "base_uri": "https://localhost:8080/",
          "height": 354
        },
        "id": "3vvtqdwOgEv_",
        "outputId": "f35b6759-049b-46fb-a579-b4b11b3110b1",
        "pycharm": {
          "name": "#%%\n"
        }
      },
      "outputs": [
        {
          "output_type": "stream",
          "name": "stdout",
          "text": [
            "Taxi Rides has 554456 Rows and 10 Columns\n"
          ]
        },
        {
          "output_type": "execute_result",
          "data": {
            "text/plain": [
              "   distance cab_type    time_stamp         destination  \\\n",
              "0      0.62     Uber  1.544770e+12            West End   \n",
              "1      2.27     Uber  1.543400e+12   Boston University   \n",
              "2      2.00     Lyft  1.544920e+12            Back Bay   \n",
              "3      3.98     Lyft  1.543620e+12  Financial District   \n",
              "4      1.49     Lyft  1.543580e+12            Back Bay   \n",
              "\n",
              "                    source  surge_multiplier  \\\n",
              "0         Haymarket Square               1.0   \n",
              "1              Beacon Hill               1.0   \n",
              "2         Haymarket Square               1.0   \n",
              "3  Northeastern University               1.0   \n",
              "4  Northeastern University               1.0   \n",
              "\n",
              "                                     id                            product_id  \\\n",
              "0  c1b4a572-24b2-484d-aac5-b4f97b790480  8cf7e821-f0d3-49c6-8eba-e679c0ebcf6a   \n",
              "1  f9e7e7e6-b309-479b-9f90-bf26a1870c81  997acbb5-e102-41e1-b155-9df7de0a73f2   \n",
              "2  154e8438-46f5-4e5f-9872-15cc95e85eed                                  lyft   \n",
              "3  6bdc30a6-9a80-487b-914e-8d9b82ee4acb                             lyft_plus   \n",
              "4  0cb12fe9-cd72-4feb-b341-4a566b2e6643                                  lyft   \n",
              "\n",
              "       name RideCategory  \n",
              "0      Taxi      unknown  \n",
              "1  UberPool        cheap  \n",
              "2      Lyft     moderate  \n",
              "3   Lyft XL    expensive  \n",
              "4      Lyft        cheap  "
            ],
            "text/html": [
              "\n",
              "  <div id=\"df-b8e56079-f686-4ee5-a68b-59cfe077a871\">\n",
              "    <div class=\"colab-df-container\">\n",
              "      <div>\n",
              "<style scoped>\n",
              "    .dataframe tbody tr th:only-of-type {\n",
              "        vertical-align: middle;\n",
              "    }\n",
              "\n",
              "    .dataframe tbody tr th {\n",
              "        vertical-align: top;\n",
              "    }\n",
              "\n",
              "    .dataframe thead th {\n",
              "        text-align: right;\n",
              "    }\n",
              "</style>\n",
              "<table border=\"1\" class=\"dataframe\">\n",
              "  <thead>\n",
              "    <tr style=\"text-align: right;\">\n",
              "      <th></th>\n",
              "      <th>distance</th>\n",
              "      <th>cab_type</th>\n",
              "      <th>time_stamp</th>\n",
              "      <th>destination</th>\n",
              "      <th>source</th>\n",
              "      <th>surge_multiplier</th>\n",
              "      <th>id</th>\n",
              "      <th>product_id</th>\n",
              "      <th>name</th>\n",
              "      <th>RideCategory</th>\n",
              "    </tr>\n",
              "  </thead>\n",
              "  <tbody>\n",
              "    <tr>\n",
              "      <th>0</th>\n",
              "      <td>0.62</td>\n",
              "      <td>Uber</td>\n",
              "      <td>1.544770e+12</td>\n",
              "      <td>West End</td>\n",
              "      <td>Haymarket Square</td>\n",
              "      <td>1.0</td>\n",
              "      <td>c1b4a572-24b2-484d-aac5-b4f97b790480</td>\n",
              "      <td>8cf7e821-f0d3-49c6-8eba-e679c0ebcf6a</td>\n",
              "      <td>Taxi</td>\n",
              "      <td>unknown</td>\n",
              "    </tr>\n",
              "    <tr>\n",
              "      <th>1</th>\n",
              "      <td>2.27</td>\n",
              "      <td>Uber</td>\n",
              "      <td>1.543400e+12</td>\n",
              "      <td>Boston University</td>\n",
              "      <td>Beacon Hill</td>\n",
              "      <td>1.0</td>\n",
              "      <td>f9e7e7e6-b309-479b-9f90-bf26a1870c81</td>\n",
              "      <td>997acbb5-e102-41e1-b155-9df7de0a73f2</td>\n",
              "      <td>UberPool</td>\n",
              "      <td>cheap</td>\n",
              "    </tr>\n",
              "    <tr>\n",
              "      <th>2</th>\n",
              "      <td>2.00</td>\n",
              "      <td>Lyft</td>\n",
              "      <td>1.544920e+12</td>\n",
              "      <td>Back Bay</td>\n",
              "      <td>Haymarket Square</td>\n",
              "      <td>1.0</td>\n",
              "      <td>154e8438-46f5-4e5f-9872-15cc95e85eed</td>\n",
              "      <td>lyft</td>\n",
              "      <td>Lyft</td>\n",
              "      <td>moderate</td>\n",
              "    </tr>\n",
              "    <tr>\n",
              "      <th>3</th>\n",
              "      <td>3.98</td>\n",
              "      <td>Lyft</td>\n",
              "      <td>1.543620e+12</td>\n",
              "      <td>Financial District</td>\n",
              "      <td>Northeastern University</td>\n",
              "      <td>1.0</td>\n",
              "      <td>6bdc30a6-9a80-487b-914e-8d9b82ee4acb</td>\n",
              "      <td>lyft_plus</td>\n",
              "      <td>Lyft XL</td>\n",
              "      <td>expensive</td>\n",
              "    </tr>\n",
              "    <tr>\n",
              "      <th>4</th>\n",
              "      <td>1.49</td>\n",
              "      <td>Lyft</td>\n",
              "      <td>1.543580e+12</td>\n",
              "      <td>Back Bay</td>\n",
              "      <td>Northeastern University</td>\n",
              "      <td>1.0</td>\n",
              "      <td>0cb12fe9-cd72-4feb-b341-4a566b2e6643</td>\n",
              "      <td>lyft</td>\n",
              "      <td>Lyft</td>\n",
              "      <td>cheap</td>\n",
              "    </tr>\n",
              "  </tbody>\n",
              "</table>\n",
              "</div>\n",
              "      <button class=\"colab-df-convert\" onclick=\"convertToInteractive('df-b8e56079-f686-4ee5-a68b-59cfe077a871')\"\n",
              "              title=\"Convert this dataframe to an interactive table.\"\n",
              "              style=\"display:none;\">\n",
              "        \n",
              "  <svg xmlns=\"http://www.w3.org/2000/svg\" height=\"24px\"viewBox=\"0 0 24 24\"\n",
              "       width=\"24px\">\n",
              "    <path d=\"M0 0h24v24H0V0z\" fill=\"none\"/>\n",
              "    <path d=\"M18.56 5.44l.94 2.06.94-2.06 2.06-.94-2.06-.94-.94-2.06-.94 2.06-2.06.94zm-11 1L8.5 8.5l.94-2.06 2.06-.94-2.06-.94L8.5 2.5l-.94 2.06-2.06.94zm10 10l.94 2.06.94-2.06 2.06-.94-2.06-.94-.94-2.06-.94 2.06-2.06.94z\"/><path d=\"M17.41 7.96l-1.37-1.37c-.4-.4-.92-.59-1.43-.59-.52 0-1.04.2-1.43.59L10.3 9.45l-7.72 7.72c-.78.78-.78 2.05 0 2.83L4 21.41c.39.39.9.59 1.41.59.51 0 1.02-.2 1.41-.59l7.78-7.78 2.81-2.81c.8-.78.8-2.07 0-2.86zM5.41 20L4 18.59l7.72-7.72 1.47 1.35L5.41 20z\"/>\n",
              "  </svg>\n",
              "      </button>\n",
              "      \n",
              "  <style>\n",
              "    .colab-df-container {\n",
              "      display:flex;\n",
              "      flex-wrap:wrap;\n",
              "      gap: 12px;\n",
              "    }\n",
              "\n",
              "    .colab-df-convert {\n",
              "      background-color: #E8F0FE;\n",
              "      border: none;\n",
              "      border-radius: 50%;\n",
              "      cursor: pointer;\n",
              "      display: none;\n",
              "      fill: #1967D2;\n",
              "      height: 32px;\n",
              "      padding: 0 0 0 0;\n",
              "      width: 32px;\n",
              "    }\n",
              "\n",
              "    .colab-df-convert:hover {\n",
              "      background-color: #E2EBFA;\n",
              "      box-shadow: 0px 1px 2px rgba(60, 64, 67, 0.3), 0px 1px 3px 1px rgba(60, 64, 67, 0.15);\n",
              "      fill: #174EA6;\n",
              "    }\n",
              "\n",
              "    [theme=dark] .colab-df-convert {\n",
              "      background-color: #3B4455;\n",
              "      fill: #D2E3FC;\n",
              "    }\n",
              "\n",
              "    [theme=dark] .colab-df-convert:hover {\n",
              "      background-color: #434B5C;\n",
              "      box-shadow: 0px 1px 3px 1px rgba(0, 0, 0, 0.15);\n",
              "      filter: drop-shadow(0px 1px 2px rgba(0, 0, 0, 0.3));\n",
              "      fill: #FFFFFF;\n",
              "    }\n",
              "  </style>\n",
              "\n",
              "      <script>\n",
              "        const buttonEl =\n",
              "          document.querySelector('#df-b8e56079-f686-4ee5-a68b-59cfe077a871 button.colab-df-convert');\n",
              "        buttonEl.style.display =\n",
              "          google.colab.kernel.accessAllowed ? 'block' : 'none';\n",
              "\n",
              "        async function convertToInteractive(key) {\n",
              "          const element = document.querySelector('#df-b8e56079-f686-4ee5-a68b-59cfe077a871');\n",
              "          const dataTable =\n",
              "            await google.colab.kernel.invokeFunction('convertToInteractive',\n",
              "                                                     [key], {});\n",
              "          if (!dataTable) return;\n",
              "\n",
              "          const docLinkHtml = 'Like what you see? Visit the ' +\n",
              "            '<a target=\"_blank\" href=https://colab.research.google.com/notebooks/data_table.ipynb>data table notebook</a>'\n",
              "            + ' to learn more about interactive tables.';\n",
              "          element.innerHTML = '';\n",
              "          dataTable['output_type'] = 'display_data';\n",
              "          await google.colab.output.renderOutput(dataTable, element);\n",
              "          const docLink = document.createElement('div');\n",
              "          docLink.innerHTML = docLinkHtml;\n",
              "          element.appendChild(docLink);\n",
              "        }\n",
              "      </script>\n",
              "    </div>\n",
              "  </div>\n",
              "  "
            ]
          },
          "metadata": {},
          "execution_count": 7
        }
      ],
      "source": [
        "print(f\"Taxi Rides has {taxiRides.shape[0]} Rows and {taxiRides.shape[1]} Columns\")\n",
        "taxiRides.head()"
      ]
    },
    {
      "cell_type": "code",
      "execution_count": 8,
      "metadata": {
        "colab": {
          "base_uri": "https://localhost:8080/",
          "height": 223
        },
        "id": "iYKr_Fp5gEwF",
        "outputId": "7c13941f-96dc-4c1e-dd69-ecfa1ac4f372",
        "pycharm": {
          "name": "#%%\n"
        },
        "scrolled": false
      },
      "outputs": [
        {
          "output_type": "stream",
          "name": "stdout",
          "text": [
            "Weather has 6276 Rows and 8 Columns\n"
          ]
        },
        {
          "output_type": "execute_result",
          "data": {
            "text/plain": [
              "    temp            location  clouds  pressure    rain  time_stamp  humidity  \\\n",
              "0  42.42            Back Bay     1.0   1012.14  0.1228  1545003901      0.77   \n",
              "1  42.43         Beacon Hill     1.0   1012.15  0.1846  1545003901      0.76   \n",
              "2  42.50   Boston University     1.0   1012.15  0.1089  1545003901      0.76   \n",
              "3  42.11              Fenway     1.0   1012.13  0.0969  1545003901      0.77   \n",
              "4  43.13  Financial District     1.0   1012.14  0.1786  1545003901      0.75   \n",
              "\n",
              "    wind  \n",
              "0  11.25  \n",
              "1  11.32  \n",
              "2  11.07  \n",
              "3  11.09  \n",
              "4  11.49  "
            ],
            "text/html": [
              "\n",
              "  <div id=\"df-8f00cd66-32f3-4a87-80d6-38aae90aa0d6\">\n",
              "    <div class=\"colab-df-container\">\n",
              "      <div>\n",
              "<style scoped>\n",
              "    .dataframe tbody tr th:only-of-type {\n",
              "        vertical-align: middle;\n",
              "    }\n",
              "\n",
              "    .dataframe tbody tr th {\n",
              "        vertical-align: top;\n",
              "    }\n",
              "\n",
              "    .dataframe thead th {\n",
              "        text-align: right;\n",
              "    }\n",
              "</style>\n",
              "<table border=\"1\" class=\"dataframe\">\n",
              "  <thead>\n",
              "    <tr style=\"text-align: right;\">\n",
              "      <th></th>\n",
              "      <th>temp</th>\n",
              "      <th>location</th>\n",
              "      <th>clouds</th>\n",
              "      <th>pressure</th>\n",
              "      <th>rain</th>\n",
              "      <th>time_stamp</th>\n",
              "      <th>humidity</th>\n",
              "      <th>wind</th>\n",
              "    </tr>\n",
              "  </thead>\n",
              "  <tbody>\n",
              "    <tr>\n",
              "      <th>0</th>\n",
              "      <td>42.42</td>\n",
              "      <td>Back Bay</td>\n",
              "      <td>1.0</td>\n",
              "      <td>1012.14</td>\n",
              "      <td>0.1228</td>\n",
              "      <td>1545003901</td>\n",
              "      <td>0.77</td>\n",
              "      <td>11.25</td>\n",
              "    </tr>\n",
              "    <tr>\n",
              "      <th>1</th>\n",
              "      <td>42.43</td>\n",
              "      <td>Beacon Hill</td>\n",
              "      <td>1.0</td>\n",
              "      <td>1012.15</td>\n",
              "      <td>0.1846</td>\n",
              "      <td>1545003901</td>\n",
              "      <td>0.76</td>\n",
              "      <td>11.32</td>\n",
              "    </tr>\n",
              "    <tr>\n",
              "      <th>2</th>\n",
              "      <td>42.50</td>\n",
              "      <td>Boston University</td>\n",
              "      <td>1.0</td>\n",
              "      <td>1012.15</td>\n",
              "      <td>0.1089</td>\n",
              "      <td>1545003901</td>\n",
              "      <td>0.76</td>\n",
              "      <td>11.07</td>\n",
              "    </tr>\n",
              "    <tr>\n",
              "      <th>3</th>\n",
              "      <td>42.11</td>\n",
              "      <td>Fenway</td>\n",
              "      <td>1.0</td>\n",
              "      <td>1012.13</td>\n",
              "      <td>0.0969</td>\n",
              "      <td>1545003901</td>\n",
              "      <td>0.77</td>\n",
              "      <td>11.09</td>\n",
              "    </tr>\n",
              "    <tr>\n",
              "      <th>4</th>\n",
              "      <td>43.13</td>\n",
              "      <td>Financial District</td>\n",
              "      <td>1.0</td>\n",
              "      <td>1012.14</td>\n",
              "      <td>0.1786</td>\n",
              "      <td>1545003901</td>\n",
              "      <td>0.75</td>\n",
              "      <td>11.49</td>\n",
              "    </tr>\n",
              "  </tbody>\n",
              "</table>\n",
              "</div>\n",
              "      <button class=\"colab-df-convert\" onclick=\"convertToInteractive('df-8f00cd66-32f3-4a87-80d6-38aae90aa0d6')\"\n",
              "              title=\"Convert this dataframe to an interactive table.\"\n",
              "              style=\"display:none;\">\n",
              "        \n",
              "  <svg xmlns=\"http://www.w3.org/2000/svg\" height=\"24px\"viewBox=\"0 0 24 24\"\n",
              "       width=\"24px\">\n",
              "    <path d=\"M0 0h24v24H0V0z\" fill=\"none\"/>\n",
              "    <path d=\"M18.56 5.44l.94 2.06.94-2.06 2.06-.94-2.06-.94-.94-2.06-.94 2.06-2.06.94zm-11 1L8.5 8.5l.94-2.06 2.06-.94-2.06-.94L8.5 2.5l-.94 2.06-2.06.94zm10 10l.94 2.06.94-2.06 2.06-.94-2.06-.94-.94-2.06-.94 2.06-2.06.94z\"/><path d=\"M17.41 7.96l-1.37-1.37c-.4-.4-.92-.59-1.43-.59-.52 0-1.04.2-1.43.59L10.3 9.45l-7.72 7.72c-.78.78-.78 2.05 0 2.83L4 21.41c.39.39.9.59 1.41.59.51 0 1.02-.2 1.41-.59l7.78-7.78 2.81-2.81c.8-.78.8-2.07 0-2.86zM5.41 20L4 18.59l7.72-7.72 1.47 1.35L5.41 20z\"/>\n",
              "  </svg>\n",
              "      </button>\n",
              "      \n",
              "  <style>\n",
              "    .colab-df-container {\n",
              "      display:flex;\n",
              "      flex-wrap:wrap;\n",
              "      gap: 12px;\n",
              "    }\n",
              "\n",
              "    .colab-df-convert {\n",
              "      background-color: #E8F0FE;\n",
              "      border: none;\n",
              "      border-radius: 50%;\n",
              "      cursor: pointer;\n",
              "      display: none;\n",
              "      fill: #1967D2;\n",
              "      height: 32px;\n",
              "      padding: 0 0 0 0;\n",
              "      width: 32px;\n",
              "    }\n",
              "\n",
              "    .colab-df-convert:hover {\n",
              "      background-color: #E2EBFA;\n",
              "      box-shadow: 0px 1px 2px rgba(60, 64, 67, 0.3), 0px 1px 3px 1px rgba(60, 64, 67, 0.15);\n",
              "      fill: #174EA6;\n",
              "    }\n",
              "\n",
              "    [theme=dark] .colab-df-convert {\n",
              "      background-color: #3B4455;\n",
              "      fill: #D2E3FC;\n",
              "    }\n",
              "\n",
              "    [theme=dark] .colab-df-convert:hover {\n",
              "      background-color: #434B5C;\n",
              "      box-shadow: 0px 1px 3px 1px rgba(0, 0, 0, 0.15);\n",
              "      filter: drop-shadow(0px 1px 2px rgba(0, 0, 0, 0.3));\n",
              "      fill: #FFFFFF;\n",
              "    }\n",
              "  </style>\n",
              "\n",
              "      <script>\n",
              "        const buttonEl =\n",
              "          document.querySelector('#df-8f00cd66-32f3-4a87-80d6-38aae90aa0d6 button.colab-df-convert');\n",
              "        buttonEl.style.display =\n",
              "          google.colab.kernel.accessAllowed ? 'block' : 'none';\n",
              "\n",
              "        async function convertToInteractive(key) {\n",
              "          const element = document.querySelector('#df-8f00cd66-32f3-4a87-80d6-38aae90aa0d6');\n",
              "          const dataTable =\n",
              "            await google.colab.kernel.invokeFunction('convertToInteractive',\n",
              "                                                     [key], {});\n",
              "          if (!dataTable) return;\n",
              "\n",
              "          const docLinkHtml = 'Like what you see? Visit the ' +\n",
              "            '<a target=\"_blank\" href=https://colab.research.google.com/notebooks/data_table.ipynb>data table notebook</a>'\n",
              "            + ' to learn more about interactive tables.';\n",
              "          element.innerHTML = '';\n",
              "          dataTable['output_type'] = 'display_data';\n",
              "          await google.colab.output.renderOutput(dataTable, element);\n",
              "          const docLink = document.createElement('div');\n",
              "          docLink.innerHTML = docLinkHtml;\n",
              "          element.appendChild(docLink);\n",
              "        }\n",
              "      </script>\n",
              "    </div>\n",
              "  </div>\n",
              "  "
            ]
          },
          "metadata": {},
          "execution_count": 8
        }
      ],
      "source": [
        "print(f\"Weather has {weather.shape[0]} Rows and {weather.shape[1]} Columns\")\n",
        "weather.head()"
      ]
    },
    {
      "cell_type": "markdown",
      "metadata": {
        "id": "g9hWHOakgEwJ",
        "pycharm": {
          "name": "#%% md\n"
        }
      },
      "source": [
        "# Data Cleaning"
      ]
    },
    {
      "cell_type": "markdown",
      "metadata": {
        "id": "FxAg-M9rgEwS",
        "pycharm": {
          "name": "#%% md\n"
        }
      },
      "source": [
        "## Taxi Rides"
      ]
    },
    {
      "cell_type": "code",
      "execution_count": 9,
      "metadata": {
        "colab": {
          "base_uri": "https://localhost:8080/"
        },
        "id": "D8L2oFhegEwY",
        "outputId": "8a595642-53e0-417f-dbdb-6060ec39bf52",
        "pycharm": {
          "name": "#%%\n"
        },
        "scrolled": true
      },
      "outputs": [
        {
          "output_type": "stream",
          "name": "stdout",
          "text": [
            "<class 'pandas.core.frame.DataFrame'>\n",
            "RangeIndex: 554456 entries, 0 to 554455\n",
            "Data columns (total 10 columns):\n",
            " #   Column            Non-Null Count   Dtype  \n",
            "---  ------            --------------   -----  \n",
            " 0   distance          554456 non-null  float64\n",
            " 1   cab_type          554456 non-null  object \n",
            " 2   time_stamp        554456 non-null  float64\n",
            " 3   destination       554456 non-null  object \n",
            " 4   source            554456 non-null  object \n",
            " 5   surge_multiplier  554456 non-null  float64\n",
            " 6   id                554456 non-null  object \n",
            " 7   product_id        554456 non-null  object \n",
            " 8   name              554456 non-null  object \n",
            " 9   RideCategory      554456 non-null  object \n",
            "dtypes: float64(3), object(7)\n",
            "memory usage: 42.3+ MB\n"
          ]
        }
      ],
      "source": [
        "taxiRides.info()"
      ]
    },
    {
      "cell_type": "markdown",
      "metadata": {
        "id": "b5cZp83vgEwh",
        "pycharm": {
          "name": "#%% md\n"
        }
      },
      "source": [
        "## Null"
      ]
    },
    {
      "cell_type": "code",
      "execution_count": 10,
      "metadata": {
        "colab": {
          "base_uri": "https://localhost:8080/"
        },
        "id": "yeQWF9iLgEwk",
        "outputId": "914fcd27-cb83-4614-884b-45f8e638b6b8",
        "pycharm": {
          "name": "#%%\n"
        },
        "scrolled": true
      },
      "outputs": [
        {
          "output_type": "stream",
          "name": "stdout",
          "text": [
            "Null Values in columns\n"
          ]
        },
        {
          "output_type": "execute_result",
          "data": {
            "text/plain": [
              "distance            0\n",
              "cab_type            0\n",
              "time_stamp          0\n",
              "destination         0\n",
              "source              0\n",
              "surge_multiplier    0\n",
              "id                  0\n",
              "product_id          0\n",
              "name                0\n",
              "RideCategory        0\n",
              "dtype: int64"
            ]
          },
          "metadata": {},
          "execution_count": 10
        }
      ],
      "source": [
        "print(\"Null Values in columns\")\n",
        "taxiRides.isnull().sum()"
      ]
    },
    {
      "cell_type": "code",
      "source": [
        "weather['rain'].fillna(0,inplace=True)"
      ],
      "metadata": {
        "id": "wdx2ByrCcV7f"
      },
      "execution_count": 11,
      "outputs": []
    },
    {
      "cell_type": "markdown",
      "metadata": {
        "id": "BCkljrZhgEwm",
        "pycharm": {
          "name": "#%% md\n"
        }
      },
      "source": [
        "## product_id and name"
      ]
    },
    {
      "cell_type": "code",
      "execution_count": 12,
      "metadata": {
        "colab": {
          "base_uri": "https://localhost:8080/"
        },
        "id": "TVOrLS2qgEwo",
        "outputId": "96b840d4-cf8d-41c0-a5d2-07040cc6e653",
        "pycharm": {
          "name": "#%%\n"
        },
        "scrolled": true
      },
      "outputs": [
        {
          "output_type": "stream",
          "name": "stdout",
          "text": [
            "Value counts of 'product_id' feature\n",
            "\n"
          ]
        },
        {
          "output_type": "execute_result",
          "data": {
            "text/plain": [
              "55c66225-fbe7-4fd5-9072-eab1ece5e23e    44204\n",
              "8cf7e821-f0d3-49c6-8eba-e679c0ebcf6a    44135\n",
              "997acbb5-e102-41e1-b155-9df7de0a73f2    44108\n",
              "6d318bcc-22a3-4af6-bddd-b409bfce1546    44038\n",
              "9a0e7b09-b92b-4c41-9779-2ad22b4d779d    44024\n",
              "6f72dfc5-27f1-42e8-84db-ccc7a75f6969    43983\n",
              "6c84fd89-3f11-4782-9b50-97c468b19529    43977\n",
              "lyft_plus                               41142\n",
              "lyft_lux                                41041\n",
              "lyft                                    41015\n",
              "lyft_luxsuv                             40979\n",
              "lyft_premier                            40969\n",
              "lyft_line                               40841\n",
              "Name: product_id, dtype: int64"
            ]
          },
          "metadata": {},
          "execution_count": 12
        }
      ],
      "source": [
        "print(f\"Value counts of 'product_id' feature\\n\")\n",
        "taxiRides['product_id'].value_counts()"
      ]
    },
    {
      "cell_type": "code",
      "execution_count": 13,
      "metadata": {
        "colab": {
          "base_uri": "https://localhost:8080/"
        },
        "id": "P_AEN5VigEws",
        "outputId": "72b7ed3e-23ab-4e76-a56e-c6686c62ebac",
        "pycharm": {
          "name": "#%%\n"
        }
      },
      "outputs": [
        {
          "output_type": "stream",
          "name": "stdout",
          "text": [
            "Value counts of 'name' feature\n",
            "\n"
          ]
        },
        {
          "output_type": "execute_result",
          "data": {
            "text/plain": [
              "UberX           44204\n",
              "Taxi            44135\n",
              "UberPool        44108\n",
              "Black SUV       44038\n",
              "WAV             44024\n",
              "UberXL          43983\n",
              "Black           43977\n",
              "Lyft XL         41142\n",
              "Lux Black       41041\n",
              "Lyft            41015\n",
              "Lux Black XL    40979\n",
              "Lux             40969\n",
              "Shared          40841\n",
              "Name: name, dtype: int64"
            ]
          },
          "metadata": {},
          "execution_count": 13
        }
      ],
      "source": [
        "print(f\"Value counts of 'name' feature\\n\")\n",
        "taxiRides['name'].value_counts()"
      ]
    },
    {
      "cell_type": "markdown",
      "metadata": {
        "id": "EOcX1qLUgEwu",
        "pycharm": {
          "name": "#%% md\n"
        }
      },
      "source": [
        "product_id and name represent the same feature so we can drop one of them"
      ]
    },
    {
      "cell_type": "markdown",
      "metadata": {
        "id": "b1_DvW9dgEwv",
        "pycharm": {
          "name": "#%% md\n"
        }
      },
      "source": [
        "## Encoding Timestamps to date"
      ]
    },
    {
      "cell_type": "code",
      "execution_count": 14,
      "metadata": {
        "id": "1YHUXXUcgEwx",
        "pycharm": {
          "name": "#%%\n"
        }
      },
      "outputs": [],
      "source": [
        "weatherDate = pd.to_datetime(weather['time_stamp'], unit='s').apply(lambda x: x.strftime(('%Y-%m-%d')))\n",
        "taxiRidesDate = pd.to_datetime(taxiRides['time_stamp'], unit='ms').apply(lambda x: x.strftime(('%Y-%m-%d')))\n",
        "weather['date'] = weatherDate\n",
        "taxiRides['date'] = taxiRidesDate"
      ]
    },
    {
      "cell_type": "code",
      "execution_count": 15,
      "metadata": {
        "colab": {
          "base_uri": "https://localhost:8080/",
          "height": 389
        },
        "id": "7ZzmOFpugEw9",
        "outputId": "0e358461-361c-40a2-dc44-95decf6515d5",
        "pycharm": {
          "name": "#%%\n"
        },
        "scrolled": false
      },
      "outputs": [
        {
          "output_type": "execute_result",
          "data": {
            "text/plain": [
              "   distance cab_type    time_stamp         destination  \\\n",
              "0      0.62     Uber  1.544770e+12            West End   \n",
              "1      2.27     Uber  1.543400e+12   Boston University   \n",
              "2      2.00     Lyft  1.544920e+12            Back Bay   \n",
              "3      3.98     Lyft  1.543620e+12  Financial District   \n",
              "4      1.49     Lyft  1.543580e+12            Back Bay   \n",
              "\n",
              "                    source  surge_multiplier  \\\n",
              "0         Haymarket Square               1.0   \n",
              "1              Beacon Hill               1.0   \n",
              "2         Haymarket Square               1.0   \n",
              "3  Northeastern University               1.0   \n",
              "4  Northeastern University               1.0   \n",
              "\n",
              "                                     id                            product_id  \\\n",
              "0  c1b4a572-24b2-484d-aac5-b4f97b790480  8cf7e821-f0d3-49c6-8eba-e679c0ebcf6a   \n",
              "1  f9e7e7e6-b309-479b-9f90-bf26a1870c81  997acbb5-e102-41e1-b155-9df7de0a73f2   \n",
              "2  154e8438-46f5-4e5f-9872-15cc95e85eed                                  lyft   \n",
              "3  6bdc30a6-9a80-487b-914e-8d9b82ee4acb                             lyft_plus   \n",
              "4  0cb12fe9-cd72-4feb-b341-4a566b2e6643                                  lyft   \n",
              "\n",
              "       name RideCategory        date  \n",
              "0      Taxi      unknown  2018-12-14  \n",
              "1  UberPool        cheap  2018-11-28  \n",
              "2      Lyft     moderate  2018-12-16  \n",
              "3   Lyft XL    expensive  2018-11-30  \n",
              "4      Lyft        cheap  2018-11-30  "
            ],
            "text/html": [
              "\n",
              "  <div id=\"df-d3fcc5d1-ffae-4cf3-87f1-ad1b4cfaa7f8\">\n",
              "    <div class=\"colab-df-container\">\n",
              "      <div>\n",
              "<style scoped>\n",
              "    .dataframe tbody tr th:only-of-type {\n",
              "        vertical-align: middle;\n",
              "    }\n",
              "\n",
              "    .dataframe tbody tr th {\n",
              "        vertical-align: top;\n",
              "    }\n",
              "\n",
              "    .dataframe thead th {\n",
              "        text-align: right;\n",
              "    }\n",
              "</style>\n",
              "<table border=\"1\" class=\"dataframe\">\n",
              "  <thead>\n",
              "    <tr style=\"text-align: right;\">\n",
              "      <th></th>\n",
              "      <th>distance</th>\n",
              "      <th>cab_type</th>\n",
              "      <th>time_stamp</th>\n",
              "      <th>destination</th>\n",
              "      <th>source</th>\n",
              "      <th>surge_multiplier</th>\n",
              "      <th>id</th>\n",
              "      <th>product_id</th>\n",
              "      <th>name</th>\n",
              "      <th>RideCategory</th>\n",
              "      <th>date</th>\n",
              "    </tr>\n",
              "  </thead>\n",
              "  <tbody>\n",
              "    <tr>\n",
              "      <th>0</th>\n",
              "      <td>0.62</td>\n",
              "      <td>Uber</td>\n",
              "      <td>1.544770e+12</td>\n",
              "      <td>West End</td>\n",
              "      <td>Haymarket Square</td>\n",
              "      <td>1.0</td>\n",
              "      <td>c1b4a572-24b2-484d-aac5-b4f97b790480</td>\n",
              "      <td>8cf7e821-f0d3-49c6-8eba-e679c0ebcf6a</td>\n",
              "      <td>Taxi</td>\n",
              "      <td>unknown</td>\n",
              "      <td>2018-12-14</td>\n",
              "    </tr>\n",
              "    <tr>\n",
              "      <th>1</th>\n",
              "      <td>2.27</td>\n",
              "      <td>Uber</td>\n",
              "      <td>1.543400e+12</td>\n",
              "      <td>Boston University</td>\n",
              "      <td>Beacon Hill</td>\n",
              "      <td>1.0</td>\n",
              "      <td>f9e7e7e6-b309-479b-9f90-bf26a1870c81</td>\n",
              "      <td>997acbb5-e102-41e1-b155-9df7de0a73f2</td>\n",
              "      <td>UberPool</td>\n",
              "      <td>cheap</td>\n",
              "      <td>2018-11-28</td>\n",
              "    </tr>\n",
              "    <tr>\n",
              "      <th>2</th>\n",
              "      <td>2.00</td>\n",
              "      <td>Lyft</td>\n",
              "      <td>1.544920e+12</td>\n",
              "      <td>Back Bay</td>\n",
              "      <td>Haymarket Square</td>\n",
              "      <td>1.0</td>\n",
              "      <td>154e8438-46f5-4e5f-9872-15cc95e85eed</td>\n",
              "      <td>lyft</td>\n",
              "      <td>Lyft</td>\n",
              "      <td>moderate</td>\n",
              "      <td>2018-12-16</td>\n",
              "    </tr>\n",
              "    <tr>\n",
              "      <th>3</th>\n",
              "      <td>3.98</td>\n",
              "      <td>Lyft</td>\n",
              "      <td>1.543620e+12</td>\n",
              "      <td>Financial District</td>\n",
              "      <td>Northeastern University</td>\n",
              "      <td>1.0</td>\n",
              "      <td>6bdc30a6-9a80-487b-914e-8d9b82ee4acb</td>\n",
              "      <td>lyft_plus</td>\n",
              "      <td>Lyft XL</td>\n",
              "      <td>expensive</td>\n",
              "      <td>2018-11-30</td>\n",
              "    </tr>\n",
              "    <tr>\n",
              "      <th>4</th>\n",
              "      <td>1.49</td>\n",
              "      <td>Lyft</td>\n",
              "      <td>1.543580e+12</td>\n",
              "      <td>Back Bay</td>\n",
              "      <td>Northeastern University</td>\n",
              "      <td>1.0</td>\n",
              "      <td>0cb12fe9-cd72-4feb-b341-4a566b2e6643</td>\n",
              "      <td>lyft</td>\n",
              "      <td>Lyft</td>\n",
              "      <td>cheap</td>\n",
              "      <td>2018-11-30</td>\n",
              "    </tr>\n",
              "  </tbody>\n",
              "</table>\n",
              "</div>\n",
              "      <button class=\"colab-df-convert\" onclick=\"convertToInteractive('df-d3fcc5d1-ffae-4cf3-87f1-ad1b4cfaa7f8')\"\n",
              "              title=\"Convert this dataframe to an interactive table.\"\n",
              "              style=\"display:none;\">\n",
              "        \n",
              "  <svg xmlns=\"http://www.w3.org/2000/svg\" height=\"24px\"viewBox=\"0 0 24 24\"\n",
              "       width=\"24px\">\n",
              "    <path d=\"M0 0h24v24H0V0z\" fill=\"none\"/>\n",
              "    <path d=\"M18.56 5.44l.94 2.06.94-2.06 2.06-.94-2.06-.94-.94-2.06-.94 2.06-2.06.94zm-11 1L8.5 8.5l.94-2.06 2.06-.94-2.06-.94L8.5 2.5l-.94 2.06-2.06.94zm10 10l.94 2.06.94-2.06 2.06-.94-2.06-.94-.94-2.06-.94 2.06-2.06.94z\"/><path d=\"M17.41 7.96l-1.37-1.37c-.4-.4-.92-.59-1.43-.59-.52 0-1.04.2-1.43.59L10.3 9.45l-7.72 7.72c-.78.78-.78 2.05 0 2.83L4 21.41c.39.39.9.59 1.41.59.51 0 1.02-.2 1.41-.59l7.78-7.78 2.81-2.81c.8-.78.8-2.07 0-2.86zM5.41 20L4 18.59l7.72-7.72 1.47 1.35L5.41 20z\"/>\n",
              "  </svg>\n",
              "      </button>\n",
              "      \n",
              "  <style>\n",
              "    .colab-df-container {\n",
              "      display:flex;\n",
              "      flex-wrap:wrap;\n",
              "      gap: 12px;\n",
              "    }\n",
              "\n",
              "    .colab-df-convert {\n",
              "      background-color: #E8F0FE;\n",
              "      border: none;\n",
              "      border-radius: 50%;\n",
              "      cursor: pointer;\n",
              "      display: none;\n",
              "      fill: #1967D2;\n",
              "      height: 32px;\n",
              "      padding: 0 0 0 0;\n",
              "      width: 32px;\n",
              "    }\n",
              "\n",
              "    .colab-df-convert:hover {\n",
              "      background-color: #E2EBFA;\n",
              "      box-shadow: 0px 1px 2px rgba(60, 64, 67, 0.3), 0px 1px 3px 1px rgba(60, 64, 67, 0.15);\n",
              "      fill: #174EA6;\n",
              "    }\n",
              "\n",
              "    [theme=dark] .colab-df-convert {\n",
              "      background-color: #3B4455;\n",
              "      fill: #D2E3FC;\n",
              "    }\n",
              "\n",
              "    [theme=dark] .colab-df-convert:hover {\n",
              "      background-color: #434B5C;\n",
              "      box-shadow: 0px 1px 3px 1px rgba(0, 0, 0, 0.15);\n",
              "      filter: drop-shadow(0px 1px 2px rgba(0, 0, 0, 0.3));\n",
              "      fill: #FFFFFF;\n",
              "    }\n",
              "  </style>\n",
              "\n",
              "      <script>\n",
              "        const buttonEl =\n",
              "          document.querySelector('#df-d3fcc5d1-ffae-4cf3-87f1-ad1b4cfaa7f8 button.colab-df-convert');\n",
              "        buttonEl.style.display =\n",
              "          google.colab.kernel.accessAllowed ? 'block' : 'none';\n",
              "\n",
              "        async function convertToInteractive(key) {\n",
              "          const element = document.querySelector('#df-d3fcc5d1-ffae-4cf3-87f1-ad1b4cfaa7f8');\n",
              "          const dataTable =\n",
              "            await google.colab.kernel.invokeFunction('convertToInteractive',\n",
              "                                                     [key], {});\n",
              "          if (!dataTable) return;\n",
              "\n",
              "          const docLinkHtml = 'Like what you see? Visit the ' +\n",
              "            '<a target=\"_blank\" href=https://colab.research.google.com/notebooks/data_table.ipynb>data table notebook</a>'\n",
              "            + ' to learn more about interactive tables.';\n",
              "          element.innerHTML = '';\n",
              "          dataTable['output_type'] = 'display_data';\n",
              "          await google.colab.output.renderOutput(dataTable, element);\n",
              "          const docLink = document.createElement('div');\n",
              "          docLink.innerHTML = docLinkHtml;\n",
              "          element.appendChild(docLink);\n",
              "        }\n",
              "      </script>\n",
              "    </div>\n",
              "  </div>\n",
              "  "
            ]
          },
          "metadata": {},
          "execution_count": 15
        }
      ],
      "source": [
        "taxiRides.head()"
      ]
    },
    {
      "cell_type": "code",
      "execution_count": 16,
      "metadata": {
        "pycharm": {
          "name": "#%%\n"
        },
        "id": "rrmKpc-mOSkw",
        "outputId": "8ef65f02-2293-4ecd-8268-b324526bd90d",
        "colab": {
          "base_uri": "https://localhost:8080/",
          "height": 206
        }
      },
      "outputs": [
        {
          "output_type": "execute_result",
          "data": {
            "text/plain": [
              "    temp            location  clouds  pressure    rain  time_stamp  humidity  \\\n",
              "0  42.42            Back Bay     1.0   1012.14  0.1228  1545003901      0.77   \n",
              "1  42.43         Beacon Hill     1.0   1012.15  0.1846  1545003901      0.76   \n",
              "2  42.50   Boston University     1.0   1012.15  0.1089  1545003901      0.76   \n",
              "3  42.11              Fenway     1.0   1012.13  0.0969  1545003901      0.77   \n",
              "4  43.13  Financial District     1.0   1012.14  0.1786  1545003901      0.75   \n",
              "\n",
              "    wind        date  \n",
              "0  11.25  2018-12-16  \n",
              "1  11.32  2018-12-16  \n",
              "2  11.07  2018-12-16  \n",
              "3  11.09  2018-12-16  \n",
              "4  11.49  2018-12-16  "
            ],
            "text/html": [
              "\n",
              "  <div id=\"df-4c96501f-adc0-4d66-a18d-9511e4d2bf5f\">\n",
              "    <div class=\"colab-df-container\">\n",
              "      <div>\n",
              "<style scoped>\n",
              "    .dataframe tbody tr th:only-of-type {\n",
              "        vertical-align: middle;\n",
              "    }\n",
              "\n",
              "    .dataframe tbody tr th {\n",
              "        vertical-align: top;\n",
              "    }\n",
              "\n",
              "    .dataframe thead th {\n",
              "        text-align: right;\n",
              "    }\n",
              "</style>\n",
              "<table border=\"1\" class=\"dataframe\">\n",
              "  <thead>\n",
              "    <tr style=\"text-align: right;\">\n",
              "      <th></th>\n",
              "      <th>temp</th>\n",
              "      <th>location</th>\n",
              "      <th>clouds</th>\n",
              "      <th>pressure</th>\n",
              "      <th>rain</th>\n",
              "      <th>time_stamp</th>\n",
              "      <th>humidity</th>\n",
              "      <th>wind</th>\n",
              "      <th>date</th>\n",
              "    </tr>\n",
              "  </thead>\n",
              "  <tbody>\n",
              "    <tr>\n",
              "      <th>0</th>\n",
              "      <td>42.42</td>\n",
              "      <td>Back Bay</td>\n",
              "      <td>1.0</td>\n",
              "      <td>1012.14</td>\n",
              "      <td>0.1228</td>\n",
              "      <td>1545003901</td>\n",
              "      <td>0.77</td>\n",
              "      <td>11.25</td>\n",
              "      <td>2018-12-16</td>\n",
              "    </tr>\n",
              "    <tr>\n",
              "      <th>1</th>\n",
              "      <td>42.43</td>\n",
              "      <td>Beacon Hill</td>\n",
              "      <td>1.0</td>\n",
              "      <td>1012.15</td>\n",
              "      <td>0.1846</td>\n",
              "      <td>1545003901</td>\n",
              "      <td>0.76</td>\n",
              "      <td>11.32</td>\n",
              "      <td>2018-12-16</td>\n",
              "    </tr>\n",
              "    <tr>\n",
              "      <th>2</th>\n",
              "      <td>42.50</td>\n",
              "      <td>Boston University</td>\n",
              "      <td>1.0</td>\n",
              "      <td>1012.15</td>\n",
              "      <td>0.1089</td>\n",
              "      <td>1545003901</td>\n",
              "      <td>0.76</td>\n",
              "      <td>11.07</td>\n",
              "      <td>2018-12-16</td>\n",
              "    </tr>\n",
              "    <tr>\n",
              "      <th>3</th>\n",
              "      <td>42.11</td>\n",
              "      <td>Fenway</td>\n",
              "      <td>1.0</td>\n",
              "      <td>1012.13</td>\n",
              "      <td>0.0969</td>\n",
              "      <td>1545003901</td>\n",
              "      <td>0.77</td>\n",
              "      <td>11.09</td>\n",
              "      <td>2018-12-16</td>\n",
              "    </tr>\n",
              "    <tr>\n",
              "      <th>4</th>\n",
              "      <td>43.13</td>\n",
              "      <td>Financial District</td>\n",
              "      <td>1.0</td>\n",
              "      <td>1012.14</td>\n",
              "      <td>0.1786</td>\n",
              "      <td>1545003901</td>\n",
              "      <td>0.75</td>\n",
              "      <td>11.49</td>\n",
              "      <td>2018-12-16</td>\n",
              "    </tr>\n",
              "  </tbody>\n",
              "</table>\n",
              "</div>\n",
              "      <button class=\"colab-df-convert\" onclick=\"convertToInteractive('df-4c96501f-adc0-4d66-a18d-9511e4d2bf5f')\"\n",
              "              title=\"Convert this dataframe to an interactive table.\"\n",
              "              style=\"display:none;\">\n",
              "        \n",
              "  <svg xmlns=\"http://www.w3.org/2000/svg\" height=\"24px\"viewBox=\"0 0 24 24\"\n",
              "       width=\"24px\">\n",
              "    <path d=\"M0 0h24v24H0V0z\" fill=\"none\"/>\n",
              "    <path d=\"M18.56 5.44l.94 2.06.94-2.06 2.06-.94-2.06-.94-.94-2.06-.94 2.06-2.06.94zm-11 1L8.5 8.5l.94-2.06 2.06-.94-2.06-.94L8.5 2.5l-.94 2.06-2.06.94zm10 10l.94 2.06.94-2.06 2.06-.94-2.06-.94-.94-2.06-.94 2.06-2.06.94z\"/><path d=\"M17.41 7.96l-1.37-1.37c-.4-.4-.92-.59-1.43-.59-.52 0-1.04.2-1.43.59L10.3 9.45l-7.72 7.72c-.78.78-.78 2.05 0 2.83L4 21.41c.39.39.9.59 1.41.59.51 0 1.02-.2 1.41-.59l7.78-7.78 2.81-2.81c.8-.78.8-2.07 0-2.86zM5.41 20L4 18.59l7.72-7.72 1.47 1.35L5.41 20z\"/>\n",
              "  </svg>\n",
              "      </button>\n",
              "      \n",
              "  <style>\n",
              "    .colab-df-container {\n",
              "      display:flex;\n",
              "      flex-wrap:wrap;\n",
              "      gap: 12px;\n",
              "    }\n",
              "\n",
              "    .colab-df-convert {\n",
              "      background-color: #E8F0FE;\n",
              "      border: none;\n",
              "      border-radius: 50%;\n",
              "      cursor: pointer;\n",
              "      display: none;\n",
              "      fill: #1967D2;\n",
              "      height: 32px;\n",
              "      padding: 0 0 0 0;\n",
              "      width: 32px;\n",
              "    }\n",
              "\n",
              "    .colab-df-convert:hover {\n",
              "      background-color: #E2EBFA;\n",
              "      box-shadow: 0px 1px 2px rgba(60, 64, 67, 0.3), 0px 1px 3px 1px rgba(60, 64, 67, 0.15);\n",
              "      fill: #174EA6;\n",
              "    }\n",
              "\n",
              "    [theme=dark] .colab-df-convert {\n",
              "      background-color: #3B4455;\n",
              "      fill: #D2E3FC;\n",
              "    }\n",
              "\n",
              "    [theme=dark] .colab-df-convert:hover {\n",
              "      background-color: #434B5C;\n",
              "      box-shadow: 0px 1px 3px 1px rgba(0, 0, 0, 0.15);\n",
              "      filter: drop-shadow(0px 1px 2px rgba(0, 0, 0, 0.3));\n",
              "      fill: #FFFFFF;\n",
              "    }\n",
              "  </style>\n",
              "\n",
              "      <script>\n",
              "        const buttonEl =\n",
              "          document.querySelector('#df-4c96501f-adc0-4d66-a18d-9511e4d2bf5f button.colab-df-convert');\n",
              "        buttonEl.style.display =\n",
              "          google.colab.kernel.accessAllowed ? 'block' : 'none';\n",
              "\n",
              "        async function convertToInteractive(key) {\n",
              "          const element = document.querySelector('#df-4c96501f-adc0-4d66-a18d-9511e4d2bf5f');\n",
              "          const dataTable =\n",
              "            await google.colab.kernel.invokeFunction('convertToInteractive',\n",
              "                                                     [key], {});\n",
              "          if (!dataTable) return;\n",
              "\n",
              "          const docLinkHtml = 'Like what you see? Visit the ' +\n",
              "            '<a target=\"_blank\" href=https://colab.research.google.com/notebooks/data_table.ipynb>data table notebook</a>'\n",
              "            + ' to learn more about interactive tables.';\n",
              "          element.innerHTML = '';\n",
              "          dataTable['output_type'] = 'display_data';\n",
              "          await google.colab.output.renderOutput(dataTable, element);\n",
              "          const docLink = document.createElement('div');\n",
              "          docLink.innerHTML = docLinkHtml;\n",
              "          element.appendChild(docLink);\n",
              "        }\n",
              "      </script>\n",
              "    </div>\n",
              "  </div>\n",
              "  "
            ]
          },
          "metadata": {},
          "execution_count": 16
        }
      ],
      "source": [
        "weather.head()"
      ]
    },
    {
      "cell_type": "code",
      "execution_count": 17,
      "metadata": {
        "pycharm": {
          "name": "#%%\n"
        },
        "scrolled": true,
        "id": "J34gi0gsOSkx",
        "outputId": "bae28b63-c114-4985-acfd-9be8dad167c4",
        "colab": {
          "base_uri": "https://localhost:8080/"
        }
      },
      "outputs": [
        {
          "output_type": "execute_result",
          "data": {
            "text/plain": [
              "2018-11-27    63256\n",
              "2018-11-29    53128\n",
              "2018-11-28    52087\n",
              "2018-12-14    37608\n",
              "2018-11-30    37608\n",
              "2018-12-02    37547\n",
              "2018-12-17    37540\n",
              "2018-12-16    37423\n",
              "2018-12-03    37409\n",
              "2018-12-01    33387\n",
              "2018-12-15    33255\n",
              "2018-12-13    30590\n",
              "2018-12-18    27281\n",
              "2018-11-26    24021\n",
              "2018-12-04     8750\n",
              "2018-12-10     3566\n",
              "Name: date, dtype: int64"
            ]
          },
          "metadata": {},
          "execution_count": 17
        }
      ],
      "source": [
        "taxiRides['date'].value_counts()"
      ]
    },
    {
      "cell_type": "code",
      "execution_count": 18,
      "metadata": {
        "pycharm": {
          "name": "#%%\n"
        },
        "scrolled": true,
        "id": "Sq7zyMNSOSkx",
        "outputId": "8892763c-fd80-4617-ee93-5b11a5507070",
        "colab": {
          "base_uri": "https://localhost:8080/"
        }
      },
      "outputs": [
        {
          "output_type": "execute_result",
          "data": {
            "text/plain": [
              "2018-11-28    948\n",
              "2018-11-26    852\n",
              "2018-11-29    768\n",
              "2018-11-27    684\n",
              "2018-12-01    324\n",
              "2018-11-30    300\n",
              "2018-12-16    288\n",
              "2018-12-14    288\n",
              "2018-12-03    288\n",
              "2018-12-15    288\n",
              "2018-12-17    288\n",
              "2018-12-02    288\n",
              "2018-12-13    276\n",
              "2018-12-18    228\n",
              "2018-12-10     72\n",
              "2018-12-04     72\n",
              "2018-12-09     24\n",
              "Name: date, dtype: int64"
            ]
          },
          "metadata": {},
          "execution_count": 18
        }
      ],
      "source": [
        "weather['date'].value_counts()"
      ]
    },
    {
      "cell_type": "markdown",
      "source": [
        "## Joining Dataframes based on date"
      ],
      "metadata": {
        "id": "dOPndLYiF7yX"
      }
    },
    {
      "cell_type": "code",
      "execution_count": 19,
      "metadata": {
        "id": "hOZECS-kgExA",
        "pycharm": {
          "name": "#%%\n"
        }
      },
      "outputs": [],
      "source": [
        "taxiRides.drop(['time_stamp'],axis = 1, inplace = True)\n",
        "weather.drop(['time_stamp'],axis = 1, inplace = True)\n",
        "\n",
        "mergedData = pd.merge(taxiRides,weather.drop_duplicates(subset=['date', 'location']), how = 'left', left_on=['date', 'source'], right_on=['date', 'location'])"
      ]
    },
    {
      "cell_type": "code",
      "execution_count": 20,
      "metadata": {
        "pycharm": {
          "name": "#%%\n"
        },
        "id": "Lh4YXSU7OSky",
        "colab": {
          "base_uri": "https://localhost:8080/"
        },
        "outputId": "a8a01d76-2460-484b-f598-bc84afc2dd28"
      },
      "outputs": [
        {
          "output_type": "execute_result",
          "data": {
            "text/plain": [
              "distance            0\n",
              "cab_type            0\n",
              "destination         0\n",
              "source              0\n",
              "surge_multiplier    0\n",
              "id                  0\n",
              "product_id          0\n",
              "name                0\n",
              "RideCategory        0\n",
              "date                0\n",
              "temp                0\n",
              "location            0\n",
              "clouds              0\n",
              "pressure            0\n",
              "rain                0\n",
              "humidity            0\n",
              "wind                0\n",
              "dtype: int64"
            ]
          },
          "metadata": {},
          "execution_count": 20
        }
      ],
      "source": [
        "mergedData.isnull().sum()"
      ]
    },
    {
      "cell_type": "markdown",
      "metadata": {
        "id": "bX0qzKlkgExH",
        "pycharm": {
          "name": "#%% md\n"
        }
      },
      "source": [
        "## Rain Feature"
      ]
    },
    {
      "cell_type": "code",
      "execution_count": 21,
      "metadata": {
        "colab": {
          "base_uri": "https://localhost:8080/",
          "height": 317
        },
        "id": "VwHJPyByNV6b",
        "outputId": "001a6fcb-4a05-4700-887f-228cce95a833",
        "pycharm": {
          "name": "#%%\n"
        }
      },
      "outputs": [
        {
          "output_type": "stream",
          "name": "stdout",
          "text": [
            "Rows with null rain value statistics\n",
            "Rows with non-null rain value statistics\n",
            "Values of 0 in the rain feature 5382\n"
          ]
        },
        {
          "output_type": "display_data",
          "data": {
            "text/plain": [
              "<Figure size 432x288 with 1 Axes>"
            ],
            "image/png": "[encoded data removed]"
          },
          "metadata": {
            "needs_background": "light"
          }
        }
      ],
      "source": [
        "weather['rain'].isnull().sum() / weather['rain'].shape[0]\n",
        "weather['rain'].hist()\n",
        "#Does null values of rain revolve around certain values?\n",
        "print(\"Rows with null rain value statistics\")\n",
        "weather[weather['rain'].isnull()].describe()\n",
        "\n",
        "print(\"Rows with non-null rain value statistics\")\n",
        "weather[weather['rain'].notna()].describe()\n",
        "\n",
        "weather['rain'].value_counts()\n",
        "\n",
        "print(f\"Values of 0 in the rain feature {(weather['rain'] == 0).sum()}\")\n",
        "#Rain feature nulls could indicate no rain\n"
      ]
    },
    {
      "cell_type": "markdown",
      "metadata": {
        "id": "E-HNbEFTgExX",
        "pycharm": {
          "name": "#%% md\n"
        }
      },
      "source": [
        "# Data Visualization"
      ]
    },
    {
      "cell_type": "code",
      "execution_count": 22,
      "metadata": {
        "id": "cMz-JSTxu0GO",
        "pycharm": {
          "name": "#%%\n"
        }
      },
      "outputs": [],
      "source": [
        "# plt.figure(figsize = (8, 8))\n",
        "# plt.xticks(rotation = 60)\n",
        "# plt.yticks(rotation = 60)\n",
        "# plt.title('Correlation of data features')\n",
        "# sns.heatmap(taxiRides.corr(), annot = True)\n",
        "# plt.show()"
      ]
    },
    {
      "cell_type": "code",
      "execution_count": 23,
      "metadata": {
        "colab": {
          "base_uri": "https://localhost:8080/",
          "height": 265
        },
        "id": "3aQdxYxjgExn",
        "outputId": "dac90ec9-8c52-40de-d5dd-c0f8e02017db",
        "pycharm": {
          "name": "#%%\n"
        }
      },
      "outputs": [
        {
          "output_type": "display_data",
          "data": {
            "text/plain": [
              "<Figure size 432x288 with 1 Axes>"
            ],
            "image/png": "[encoded data removed]"
          },
          "metadata": {
            "needs_background": "light"
          }
        }
      ],
      "source": [
        "taxiRides['cab_type'].hist()\n",
        "plt.show()"
      ]
    },
    {
      "cell_type": "code",
      "execution_count": 24,
      "metadata": {
        "colab": {
          "base_uri": "https://localhost:8080/",
          "height": 282
        },
        "id": "k90TNYI_gExp",
        "outputId": "580ba889-dc1a-4610-9b10-f8e573b99a28",
        "pycharm": {
          "name": "#%%\n"
        }
      },
      "outputs": [
        {
          "output_type": "execute_result",
          "data": {
            "text/plain": [
              "<matplotlib.axes._subplots.AxesSubplot at 0x7f25600ade90>"
            ]
          },
          "metadata": {},
          "execution_count": 24
        },
        {
          "output_type": "display_data",
          "data": {
            "text/plain": [
              "<Figure size 432x288 with 1 Axes>"
            ],
            "image/png": "[encoded data removed]"
          },
          "metadata": {
            "needs_background": "light"
          }
        }
      ],
      "source": [
        "taxiRides['surge_multiplier'].hist()"
      ]
    },
    {
      "cell_type": "markdown",
      "metadata": {
        "id": "9je9fxUDgTiZ",
        "pycharm": {
          "name": "#%% md\n"
        }
      },
      "source": [
        "# Preprocessing"
      ]
    },
    {
      "cell_type": "code",
      "execution_count": 25,
      "outputs": [
        {
          "output_type": "execute_result",
          "data": {
            "text/plain": [
              "   distance cab_type         destination                   source  \\\n",
              "0      0.62     Uber            West End         Haymarket Square   \n",
              "1      2.27     Uber   Boston University              Beacon Hill   \n",
              "2      2.00     Lyft            Back Bay         Haymarket Square   \n",
              "3      3.98     Lyft  Financial District  Northeastern University   \n",
              "4      1.49     Lyft            Back Bay  Northeastern University   \n",
              "\n",
              "   surge_multiplier                                    id  \\\n",
              "0               1.0  c1b4a572-24b2-484d-aac5-b4f97b790480   \n",
              "1               1.0  f9e7e7e6-b309-479b-9f90-bf26a1870c81   \n",
              "2               1.0  154e8438-46f5-4e5f-9872-15cc95e85eed   \n",
              "3               1.0  6bdc30a6-9a80-487b-914e-8d9b82ee4acb   \n",
              "4               1.0  0cb12fe9-cd72-4feb-b341-4a566b2e6643   \n",
              "\n",
              "                             product_id      name RideCategory        date  \\\n",
              "0  8cf7e821-f0d3-49c6-8eba-e679c0ebcf6a      Taxi      unknown  2018-12-14   \n",
              "1  997acbb5-e102-41e1-b155-9df7de0a73f2  UberPool        cheap  2018-11-28   \n",
              "2                                  lyft      Lyft     moderate  2018-12-16   \n",
              "3                             lyft_plus   Lyft XL    expensive  2018-11-30   \n",
              "4                                  lyft      Lyft        cheap  2018-11-30   \n",
              "\n",
              "    temp                 location  clouds  pressure    rain  humidity   wind  \n",
              "0  27.34         Haymarket Square    0.15   1033.40  0.0000      0.81   3.04  \n",
              "1  33.67              Beacon Hill    0.12    991.20  0.0000      0.82   5.37  \n",
              "2  42.34         Haymarket Square    1.00   1012.15  0.2068      0.77  11.49  \n",
              "3  38.46  Northeastern University    0.96   1017.24  0.0000      0.66   3.31  \n",
              "4  38.46  Northeastern University    0.96   1017.24  0.0000      0.66   3.31  "
            ],
            "text/html": [
              "\n",
              "  <div id=\"df-045f0071-96c0-4336-aecd-a19a842e1004\">\n",
              "    <div class=\"colab-df-container\">\n",
              "      <div>\n",
              "<style scoped>\n",
              "    .dataframe tbody tr th:only-of-type {\n",
              "        vertical-align: middle;\n",
              "    }\n",
              "\n",
              "    .dataframe tbody tr th {\n",
              "        vertical-align: top;\n",
              "    }\n",
              "\n",
              "    .dataframe thead th {\n",
              "        text-align: right;\n",
              "    }\n",
              "</style>\n",
              "<table border=\"1\" class=\"dataframe\">\n",
              "  <thead>\n",
              "    <tr style=\"text-align: right;\">\n",
              "      <th></th>\n",
              "      <th>distance</th>\n",
              "      <th>cab_type</th>\n",
              "      <th>destination</th>\n",
              "      <th>source</th>\n",
              "      <th>surge_multiplier</th>\n",
              "      <th>id</th>\n",
              "      <th>product_id</th>\n",
              "      <th>name</th>\n",
              "      <th>RideCategory</th>\n",
              "      <th>date</th>\n",
              "      <th>temp</th>\n",
              "      <th>location</th>\n",
              "      <th>clouds</th>\n",
              "      <th>pressure</th>\n",
              "      <th>rain</th>\n",
              "      <th>humidity</th>\n",
              "      <th>wind</th>\n",
              "    </tr>\n",
              "  </thead>\n",
              "  <tbody>\n",
              "    <tr>\n",
              "      <th>0</th>\n",
              "      <td>0.62</td>\n",
              "      <td>Uber</td>\n",
              "      <td>West End</td>\n",
              "      <td>Haymarket Square</td>\n",
              "      <td>1.0</td>\n",
              "      <td>c1b4a572-24b2-484d-aac5-b4f97b790480</td>\n",
              "      <td>8cf7e821-f0d3-49c6-8eba-e679c0ebcf6a</td>\n",
              "      <td>Taxi</td>\n",
              "      <td>unknown</td>\n",
              "      <td>2018-12-14</td>\n",
              "      <td>27.34</td>\n",
              "      <td>Haymarket Square</td>\n",
              "      <td>0.15</td>\n",
              "      <td>1033.40</td>\n",
              "      <td>0.0000</td>\n",
              "      <td>0.81</td>\n",
              "      <td>3.04</td>\n",
              "    </tr>\n",
              "    <tr>\n",
              "      <th>1</th>\n",
              "      <td>2.27</td>\n",
              "      <td>Uber</td>\n",
              "      <td>Boston University</td>\n",
              "      <td>Beacon Hill</td>\n",
              "      <td>1.0</td>\n",
              "      <td>f9e7e7e6-b309-479b-9f90-bf26a1870c81</td>\n",
              "      <td>997acbb5-e102-41e1-b155-9df7de0a73f2</td>\n",
              "      <td>UberPool</td>\n",
              "      <td>cheap</td>\n",
              "      <td>2018-11-28</td>\n",
              "      <td>33.67</td>\n",
              "      <td>Beacon Hill</td>\n",
              "      <td>0.12</td>\n",
              "      <td>991.20</td>\n",
              "      <td>0.0000</td>\n",
              "      <td>0.82</td>\n",
              "      <td>5.37</td>\n",
              "    </tr>\n",
              "    <tr>\n",
              "      <th>2</th>\n",
              "      <td>2.00</td>\n",
              "      <td>Lyft</td>\n",
              "      <td>Back Bay</td>\n",
              "      <td>Haymarket Square</td>\n",
              "      <td>1.0</td>\n",
              "      <td>154e8438-46f5-4e5f-9872-15cc95e85eed</td>\n",
              "      <td>lyft</td>\n",
              "      <td>Lyft</td>\n",
              "      <td>moderate</td>\n",
              "      <td>2018-12-16</td>\n",
              "      <td>42.34</td>\n",
              "      <td>Haymarket Square</td>\n",
              "      <td>1.00</td>\n",
              "      <td>1012.15</td>\n",
              "      <td>0.2068</td>\n",
              "      <td>0.77</td>\n",
              "      <td>11.49</td>\n",
              "    </tr>\n",
              "    <tr>\n",
              "      <th>3</th>\n",
              "      <td>3.98</td>\n",
              "      <td>Lyft</td>\n",
              "      <td>Financial District</td>\n",
              "      <td>Northeastern University</td>\n",
              "      <td>1.0</td>\n",
              "      <td>6bdc30a6-9a80-487b-914e-8d9b82ee4acb</td>\n",
              "      <td>lyft_plus</td>\n",
              "      <td>Lyft XL</td>\n",
              "      <td>expensive</td>\n",
              "      <td>2018-11-30</td>\n",
              "      <td>38.46</td>\n",
              "      <td>Northeastern University</td>\n",
              "      <td>0.96</td>\n",
              "      <td>1017.24</td>\n",
              "      <td>0.0000</td>\n",
              "      <td>0.66</td>\n",
              "      <td>3.31</td>\n",
              "    </tr>\n",
              "    <tr>\n",
              "      <th>4</th>\n",
              "      <td>1.49</td>\n",
              "      <td>Lyft</td>\n",
              "      <td>Back Bay</td>\n",
              "      <td>Northeastern University</td>\n",
              "      <td>1.0</td>\n",
              "      <td>0cb12fe9-cd72-4feb-b341-4a566b2e6643</td>\n",
              "      <td>lyft</td>\n",
              "      <td>Lyft</td>\n",
              "      <td>cheap</td>\n",
              "      <td>2018-11-30</td>\n",
              "      <td>38.46</td>\n",
              "      <td>Northeastern University</td>\n",
              "      <td>0.96</td>\n",
              "      <td>1017.24</td>\n",
              "      <td>0.0000</td>\n",
              "      <td>0.66</td>\n",
              "      <td>3.31</td>\n",
              "    </tr>\n",
              "  </tbody>\n",
              "</table>\n",
              "</div>\n",
              "      <button class=\"colab-df-convert\" onclick=\"convertToInteractive('df-045f0071-96c0-4336-aecd-a19a842e1004')\"\n",
              "              title=\"Convert this dataframe to an interactive table.\"\n",
              "              style=\"display:none;\">\n",
              "        \n",
              "  <svg xmlns=\"http://www.w3.org/2000/svg\" height=\"24px\"viewBox=\"0 0 24 24\"\n",
              "       width=\"24px\">\n",
              "    <path d=\"M0 0h24v24H0V0z\" fill=\"none\"/>\n",
              "    <path d=\"M18.56 5.44l.94 2.06.94-2.06 2.06-.94-2.06-.94-.94-2.06-.94 2.06-2.06.94zm-11 1L8.5 8.5l.94-2.06 2.06-.94-2.06-.94L8.5 2.5l-.94 2.06-2.06.94zm10 10l.94 2.06.94-2.06 2.06-.94-2.06-.94-.94-2.06-.94 2.06-2.06.94z\"/><path d=\"M17.41 7.96l-1.37-1.37c-.4-.4-.92-.59-1.43-.59-.52 0-1.04.2-1.43.59L10.3 9.45l-7.72 7.72c-.78.78-.78 2.05 0 2.83L4 21.41c.39.39.9.59 1.41.59.51 0 1.02-.2 1.41-.59l7.78-7.78 2.81-2.81c.8-.78.8-2.07 0-2.86zM5.41 20L4 18.59l7.72-7.72 1.47 1.35L5.41 20z\"/>\n",
              "  </svg>\n",
              "      </button>\n",
              "      \n",
              "  <style>\n",
              "    .colab-df-container {\n",
              "      display:flex;\n",
              "      flex-wrap:wrap;\n",
              "      gap: 12px;\n",
              "    }\n",
              "\n",
              "    .colab-df-convert {\n",
              "      background-color: #E8F0FE;\n",
              "      border: none;\n",
              "      border-radius: 50%;\n",
              "      cursor: pointer;\n",
              "      display: none;\n",
              "      fill: #1967D2;\n",
              "      height: 32px;\n",
              "      padding: 0 0 0 0;\n",
              "      width: 32px;\n",
              "    }\n",
              "\n",
              "    .colab-df-convert:hover {\n",
              "      background-color: #E2EBFA;\n",
              "      box-shadow: 0px 1px 2px rgba(60, 64, 67, 0.3), 0px 1px 3px 1px rgba(60, 64, 67, 0.15);\n",
              "      fill: #174EA6;\n",
              "    }\n",
              "\n",
              "    [theme=dark] .colab-df-convert {\n",
              "      background-color: #3B4455;\n",
              "      fill: #D2E3FC;\n",
              "    }\n",
              "\n",
              "    [theme=dark] .colab-df-convert:hover {\n",
              "      background-color: #434B5C;\n",
              "      box-shadow: 0px 1px 3px 1px rgba(0, 0, 0, 0.15);\n",
              "      filter: drop-shadow(0px 1px 2px rgba(0, 0, 0, 0.3));\n",
              "      fill: #FFFFFF;\n",
              "    }\n",
              "  </style>\n",
              "\n",
              "      <script>\n",
              "        const buttonEl =\n",
              "          document.querySelector('#df-045f0071-96c0-4336-aecd-a19a842e1004 button.colab-df-convert');\n",
              "        buttonEl.style.display =\n",
              "          google.colab.kernel.accessAllowed ? 'block' : 'none';\n",
              "\n",
              "        async function convertToInteractive(key) {\n",
              "          const element = document.querySelector('#df-045f0071-96c0-4336-aecd-a19a842e1004');\n",
              "          const dataTable =\n",
              "            await google.colab.kernel.invokeFunction('convertToInteractive',\n",
              "                                                     [key], {});\n",
              "          if (!dataTable) return;\n",
              "\n",
              "          const docLinkHtml = 'Like what you see? Visit the ' +\n",
              "            '<a target=\"_blank\" href=https://colab.research.google.com/notebooks/data_table.ipynb>data table notebook</a>'\n",
              "            + ' to learn more about interactive tables.';\n",
              "          element.innerHTML = '';\n",
              "          dataTable['output_type'] = 'display_data';\n",
              "          await google.colab.output.renderOutput(dataTable, element);\n",
              "          const docLink = document.createElement('div');\n",
              "          docLink.innerHTML = docLinkHtml;\n",
              "          element.appendChild(docLink);\n",
              "        }\n",
              "      </script>\n",
              "    </div>\n",
              "  </div>\n",
              "  "
            ]
          },
          "metadata": {},
          "execution_count": 25
        }
      ],
      "source": [
        "mergedData.head()"
      ],
      "metadata": {
        "pycharm": {
          "name": "#%%\n"
        },
        "id": "lxmKL5TgOSk0",
        "outputId": "8d9d2c9f-da4d-4d8b-8b09-63f13d334827",
        "colab": {
          "base_uri": "https://localhost:8080/",
          "height": 530
        }
      }
    },
    {
      "cell_type": "code",
      "execution_count": 26,
      "outputs": [],
      "source": [
        "preProcessing = PreProcessing()"
      ],
      "metadata": {
        "pycharm": {
          "name": "#%%\n"
        },
        "id": "JrhoeF6UOSk0"
      }
    },
    {
      "cell_type": "code",
      "execution_count": 27,
      "outputs": [],
      "source": [
        "columnsToDrop = ['id', 'date', 'product_id', 'location']"
      ],
      "metadata": {
        "pycharm": {
          "name": "#%%\n"
        },
        "id": "2B-YUnUzOSk0"
      }
    },
    {
      "cell_type": "code",
      "execution_count": 28,
      "outputs": [],
      "source": [
        "mergedData.drop(columnsToDrop,axis = 1,inplace=True)"
      ],
      "metadata": {
        "pycharm": {
          "name": "#%%\n"
        },
        "id": "-axo4r5MOSk1"
      }
    },
    {
      "cell_type": "code",
      "execution_count": 29,
      "outputs": [
        {
          "output_type": "execute_result",
          "data": {
            "text/plain": [
              "   distance cab_type         destination                   source  \\\n",
              "0      0.62     Uber            West End         Haymarket Square   \n",
              "1      2.27     Uber   Boston University              Beacon Hill   \n",
              "2      2.00     Lyft            Back Bay         Haymarket Square   \n",
              "3      3.98     Lyft  Financial District  Northeastern University   \n",
              "4      1.49     Lyft            Back Bay  Northeastern University   \n",
              "\n",
              "   surge_multiplier      name RideCategory   temp  clouds  pressure    rain  \\\n",
              "0               1.0      Taxi      unknown  27.34    0.15   1033.40  0.0000   \n",
              "1               1.0  UberPool        cheap  33.67    0.12    991.20  0.0000   \n",
              "2               1.0      Lyft     moderate  42.34    1.00   1012.15  0.2068   \n",
              "3               1.0   Lyft XL    expensive  38.46    0.96   1017.24  0.0000   \n",
              "4               1.0      Lyft        cheap  38.46    0.96   1017.24  0.0000   \n",
              "\n",
              "   humidity   wind  \n",
              "0      0.81   3.04  \n",
              "1      0.82   5.37  \n",
              "2      0.77  11.49  \n",
              "3      0.66   3.31  \n",
              "4      0.66   3.31  "
            ],
            "text/html": [
              "\n",
              "  <div id=\"df-a2bdc99a-1d72-48a4-afa0-ba6cc5d20c26\">\n",
              "    <div class=\"colab-df-container\">\n",
              "      <div>\n",
              "<style scoped>\n",
              "    .dataframe tbody tr th:only-of-type {\n",
              "        vertical-align: middle;\n",
              "    }\n",
              "\n",
              "    .dataframe tbody tr th {\n",
              "        vertical-align: top;\n",
              "    }\n",
              "\n",
              "    .dataframe thead th {\n",
              "        text-align: right;\n",
              "    }\n",
              "</style>\n",
              "<table border=\"1\" class=\"dataframe\">\n",
              "  <thead>\n",
              "    <tr style=\"text-align: right;\">\n",
              "      <th></th>\n",
              "      <th>distance</th>\n",
              "      <th>cab_type</th>\n",
              "      <th>destination</th>\n",
              "      <th>source</th>\n",
              "      <th>surge_multiplier</th>\n",
              "      <th>name</th>\n",
              "      <th>RideCategory</th>\n",
              "      <th>temp</th>\n",
              "      <th>clouds</th>\n",
              "      <th>pressure</th>\n",
              "      <th>rain</th>\n",
              "      <th>humidity</th>\n",
              "      <th>wind</th>\n",
              "    </tr>\n",
              "  </thead>\n",
              "  <tbody>\n",
              "    <tr>\n",
              "      <th>0</th>\n",
              "      <td>0.62</td>\n",
              "      <td>Uber</td>\n",
              "      <td>West End</td>\n",
              "      <td>Haymarket Square</td>\n",
              "      <td>1.0</td>\n",
              "      <td>Taxi</td>\n",
              "      <td>unknown</td>\n",
              "      <td>27.34</td>\n",
              "      <td>0.15</td>\n",
              "      <td>1033.40</td>\n",
              "      <td>0.0000</td>\n",
              "      <td>0.81</td>\n",
              "      <td>3.04</td>\n",
              "    </tr>\n",
              "    <tr>\n",
              "      <th>1</th>\n",
              "      <td>2.27</td>\n",
              "      <td>Uber</td>\n",
              "      <td>Boston University</td>\n",
              "      <td>Beacon Hill</td>\n",
              "      <td>1.0</td>\n",
              "      <td>UberPool</td>\n",
              "      <td>cheap</td>\n",
              "      <td>33.67</td>\n",
              "      <td>0.12</td>\n",
              "      <td>991.20</td>\n",
              "      <td>0.0000</td>\n",
              "      <td>0.82</td>\n",
              "      <td>5.37</td>\n",
              "    </tr>\n",
              "    <tr>\n",
              "      <th>2</th>\n",
              "      <td>2.00</td>\n",
              "      <td>Lyft</td>\n",
              "      <td>Back Bay</td>\n",
              "      <td>Haymarket Square</td>\n",
              "      <td>1.0</td>\n",
              "      <td>Lyft</td>\n",
              "      <td>moderate</td>\n",
              "      <td>42.34</td>\n",
              "      <td>1.00</td>\n",
              "      <td>1012.15</td>\n",
              "      <td>0.2068</td>\n",
              "      <td>0.77</td>\n",
              "      <td>11.49</td>\n",
              "    </tr>\n",
              "    <tr>\n",
              "      <th>3</th>\n",
              "      <td>3.98</td>\n",
              "      <td>Lyft</td>\n",
              "      <td>Financial District</td>\n",
              "      <td>Northeastern University</td>\n",
              "      <td>1.0</td>\n",
              "      <td>Lyft XL</td>\n",
              "      <td>expensive</td>\n",
              "      <td>38.46</td>\n",
              "      <td>0.96</td>\n",
              "      <td>1017.24</td>\n",
              "      <td>0.0000</td>\n",
              "      <td>0.66</td>\n",
              "      <td>3.31</td>\n",
              "    </tr>\n",
              "    <tr>\n",
              "      <th>4</th>\n",
              "      <td>1.49</td>\n",
              "      <td>Lyft</td>\n",
              "      <td>Back Bay</td>\n",
              "      <td>Northeastern University</td>\n",
              "      <td>1.0</td>\n",
              "      <td>Lyft</td>\n",
              "      <td>cheap</td>\n",
              "      <td>38.46</td>\n",
              "      <td>0.96</td>\n",
              "      <td>1017.24</td>\n",
              "      <td>0.0000</td>\n",
              "      <td>0.66</td>\n",
              "      <td>3.31</td>\n",
              "    </tr>\n",
              "  </tbody>\n",
              "</table>\n",
              "</div>\n",
              "      <button class=\"colab-df-convert\" onclick=\"convertToInteractive('df-a2bdc99a-1d72-48a4-afa0-ba6cc5d20c26')\"\n",
              "              title=\"Convert this dataframe to an interactive table.\"\n",
              "              style=\"display:none;\">\n",
              "        \n",
              "  <svg xmlns=\"http://www.w3.org/2000/svg\" height=\"24px\"viewBox=\"0 0 24 24\"\n",
              "       width=\"24px\">\n",
              "    <path d=\"M0 0h24v24H0V0z\" fill=\"none\"/>\n",
              "    <path d=\"M18.56 5.44l.94 2.06.94-2.06 2.06-.94-2.06-.94-.94-2.06-.94 2.06-2.06.94zm-11 1L8.5 8.5l.94-2.06 2.06-.94-2.06-.94L8.5 2.5l-.94 2.06-2.06.94zm10 10l.94 2.06.94-2.06 2.06-.94-2.06-.94-.94-2.06-.94 2.06-2.06.94z\"/><path d=\"M17.41 7.96l-1.37-1.37c-.4-.4-.92-.59-1.43-.59-.52 0-1.04.2-1.43.59L10.3 9.45l-7.72 7.72c-.78.78-.78 2.05 0 2.83L4 21.41c.39.39.9.59 1.41.59.51 0 1.02-.2 1.41-.59l7.78-7.78 2.81-2.81c.8-.78.8-2.07 0-2.86zM5.41 20L4 18.59l7.72-7.72 1.47 1.35L5.41 20z\"/>\n",
              "  </svg>\n",
              "      </button>\n",
              "      \n",
              "  <style>\n",
              "    .colab-df-container {\n",
              "      display:flex;\n",
              "      flex-wrap:wrap;\n",
              "      gap: 12px;\n",
              "    }\n",
              "\n",
              "    .colab-df-convert {\n",
              "      background-color: #E8F0FE;\n",
              "      border: none;\n",
              "      border-radius: 50%;\n",
              "      cursor: pointer;\n",
              "      display: none;\n",
              "      fill: #1967D2;\n",
              "      height: 32px;\n",
              "      padding: 0 0 0 0;\n",
              "      width: 32px;\n",
              "    }\n",
              "\n",
              "    .colab-df-convert:hover {\n",
              "      background-color: #E2EBFA;\n",
              "      box-shadow: 0px 1px 2px rgba(60, 64, 67, 0.3), 0px 1px 3px 1px rgba(60, 64, 67, 0.15);\n",
              "      fill: #174EA6;\n",
              "    }\n",
              "\n",
              "    [theme=dark] .colab-df-convert {\n",
              "      background-color: #3B4455;\n",
              "      fill: #D2E3FC;\n",
              "    }\n",
              "\n",
              "    [theme=dark] .colab-df-convert:hover {\n",
              "      background-color: #434B5C;\n",
              "      box-shadow: 0px 1px 3px 1px rgba(0, 0, 0, 0.15);\n",
              "      filter: drop-shadow(0px 1px 2px rgba(0, 0, 0, 0.3));\n",
              "      fill: #FFFFFF;\n",
              "    }\n",
              "  </style>\n",
              "\n",
              "      <script>\n",
              "        const buttonEl =\n",
              "          document.querySelector('#df-a2bdc99a-1d72-48a4-afa0-ba6cc5d20c26 button.colab-df-convert');\n",
              "        buttonEl.style.display =\n",
              "          google.colab.kernel.accessAllowed ? 'block' : 'none';\n",
              "\n",
              "        async function convertToInteractive(key) {\n",
              "          const element = document.querySelector('#df-a2bdc99a-1d72-48a4-afa0-ba6cc5d20c26');\n",
              "          const dataTable =\n",
              "            await google.colab.kernel.invokeFunction('convertToInteractive',\n",
              "                                                     [key], {});\n",
              "          if (!dataTable) return;\n",
              "\n",
              "          const docLinkHtml = 'Like what you see? Visit the ' +\n",
              "            '<a target=\"_blank\" href=https://colab.research.google.com/notebooks/data_table.ipynb>data table notebook</a>'\n",
              "            + ' to learn more about interactive tables.';\n",
              "          element.innerHTML = '';\n",
              "          dataTable['output_type'] = 'display_data';\n",
              "          await google.colab.output.renderOutput(dataTable, element);\n",
              "          const docLink = document.createElement('div');\n",
              "          docLink.innerHTML = docLinkHtml;\n",
              "          element.appendChild(docLink);\n",
              "        }\n",
              "      </script>\n",
              "    </div>\n",
              "  </div>\n",
              "  "
            ]
          },
          "metadata": {},
          "execution_count": 29
        }
      ],
      "source": [
        "mergedData.head()"
      ],
      "metadata": {
        "pycharm": {
          "name": "#%%\n"
        },
        "id": "E7OamKdnOSk1",
        "outputId": "22abd0f7-f553-403c-ea84-6f51df108b15",
        "colab": {
          "base_uri": "https://localhost:8080/",
          "height": 250
        }
      }
    },
    {
      "cell_type": "code",
      "source": [
        "mergedData.isnull().sum()"
      ],
      "metadata": {
        "colab": {
          "base_uri": "https://localhost:8080/"
        },
        "id": "ny6Pb1246lKX",
        "outputId": "4d676266-b39c-465c-c3fe-9a9aa2baa63d"
      },
      "execution_count": 30,
      "outputs": [
        {
          "output_type": "execute_result",
          "data": {
            "text/plain": [
              "distance            0\n",
              "cab_type            0\n",
              "destination         0\n",
              "source              0\n",
              "surge_multiplier    0\n",
              "name                0\n",
              "RideCategory        0\n",
              "temp                0\n",
              "clouds              0\n",
              "pressure            0\n",
              "rain                0\n",
              "humidity            0\n",
              "wind                0\n",
              "dtype: int64"
            ]
          },
          "metadata": {},
          "execution_count": 30
        }
      ]
    },
    {
      "cell_type": "markdown",
      "source": [
        "## Encoding"
      ],
      "metadata": {
        "collapsed": false,
        "pycharm": {
          "name": "#%% md\n"
        },
        "id": "AsmjhgxtOSk1"
      }
    },
    {
      "cell_type": "markdown",
      "metadata": {
        "id": "dt9elEh8BtMQ",
        "pycharm": {
          "name": "#%% md\n"
        }
      },
      "source": [
        "###  <i>name</i> Feature"
      ]
    },
    {
      "cell_type": "code",
      "execution_count": 31,
      "outputs": [],
      "source": [
        "preProcessing.encode_name(mergedData['name'])"
      ],
      "metadata": {
        "pycharm": {
          "name": "#%%\n"
        },
        "id": "lVzmYHKVOSk2"
      }
    },
    {
      "cell_type": "markdown",
      "metadata": {
        "id": "-zGtznqLBu4O",
        "pycharm": {
          "name": "#%% md\n"
        }
      },
      "source": [
        "### Other Features"
      ]
    },
    {
      "cell_type": "code",
      "execution_count": 32,
      "metadata": {
        "colab": {
          "base_uri": "https://localhost:8080/"
        },
        "id": "3ptzS3nbyao5",
        "outputId": "cacaac3c-79f4-46e9-f0b6-265539660f0f",
        "pycharm": {
          "name": "#%%\n"
        }
      },
      "outputs": [
        {
          "output_type": "stream",
          "name": "stdout",
          "text": [
            "Non Integer Columns : ['cab_type', 'destination', 'source', 'RideCategory']\n"
          ]
        }
      ],
      "source": [
        "nonIntegerColumns = [col for col in mergedData.columns if mergedData[col].dtypes == object]\n",
        "print(f\"Non Integer Columns : {nonIntegerColumns}\")"
      ]
    },
    {
      "cell_type": "code",
      "execution_count": 33,
      "metadata": {
        "id": "OAnwv46Ryao6",
        "pycharm": {
          "name": "#%%\n"
        }
      },
      "outputs": [],
      "source": [
        "preProcessing.encode(mergedData,nonIntegerColumns)"
      ]
    },
    {
      "cell_type": "code",
      "execution_count": 34,
      "metadata": {
        "pycharm": {
          "name": "#%%\n"
        },
        "id": "5yYnML0-OSk2",
        "outputId": "ac569951-cdd4-43e6-d25f-adc36e280b30",
        "colab": {
          "base_uri": "https://localhost:8080/",
          "height": 206
        }
      },
      "outputs": [
        {
          "output_type": "execute_result",
          "data": {
            "text/plain": [
              "   distance  cab_type  destination  source  surge_multiplier  name  \\\n",
              "0      0.62         1           11       5               1.0     1   \n",
              "1      2.27         1            2       1               1.0     1   \n",
              "2      2.00         0            0       5               1.0     1   \n",
              "3      3.98         0            4       8               1.0     2   \n",
              "4      1.49         0            0       8               1.0     1   \n",
              "\n",
              "   RideCategory   temp  clouds  pressure    rain  humidity   wind  \n",
              "0             3  27.34    0.15   1033.40  0.0000      0.81   3.04  \n",
              "1             0  33.67    0.12    991.20  0.0000      0.82   5.37  \n",
              "2             2  42.34    1.00   1012.15  0.2068      0.77  11.49  \n",
              "3             1  38.46    0.96   1017.24  0.0000      0.66   3.31  \n",
              "4             0  38.46    0.96   1017.24  0.0000      0.66   3.31  "
            ],
            "text/html": [
              "\n",
              "  <div id=\"df-7c0173a4-b2bb-49c2-a904-e4129578cd15\">\n",
              "    <div class=\"colab-df-container\">\n",
              "      <div>\n",
              "<style scoped>\n",
              "    .dataframe tbody tr th:only-of-type {\n",
              "        vertical-align: middle;\n",
              "    }\n",
              "\n",
              "    .dataframe tbody tr th {\n",
              "        vertical-align: top;\n",
              "    }\n",
              "\n",
              "    .dataframe thead th {\n",
              "        text-align: right;\n",
              "    }\n",
              "</style>\n",
              "<table border=\"1\" class=\"dataframe\">\n",
              "  <thead>\n",
              "    <tr style=\"text-align: right;\">\n",
              "      <th></th>\n",
              "      <th>distance</th>\n",
              "      <th>cab_type</th>\n",
              "      <th>destination</th>\n",
              "      <th>source</th>\n",
              "      <th>surge_multiplier</th>\n",
              "      <th>name</th>\n",
              "      <th>RideCategory</th>\n",
              "      <th>temp</th>\n",
              "      <th>clouds</th>\n",
              "      <th>pressure</th>\n",
              "      <th>rain</th>\n",
              "      <th>humidity</th>\n",
              "      <th>wind</th>\n",
              "    </tr>\n",
              "  </thead>\n",
              "  <tbody>\n",
              "    <tr>\n",
              "      <th>0</th>\n",
              "      <td>0.62</td>\n",
              "      <td>1</td>\n",
              "      <td>11</td>\n",
              "      <td>5</td>\n",
              "      <td>1.0</td>\n",
              "      <td>1</td>\n",
              "      <td>3</td>\n",
              "      <td>27.34</td>\n",
              "      <td>0.15</td>\n",
              "      <td>1033.40</td>\n",
              "      <td>0.0000</td>\n",
              "      <td>0.81</td>\n",
              "      <td>3.04</td>\n",
              "    </tr>\n",
              "    <tr>\n",
              "      <th>1</th>\n",
              "      <td>2.27</td>\n",
              "      <td>1</td>\n",
              "      <td>2</td>\n",
              "      <td>1</td>\n",
              "      <td>1.0</td>\n",
              "      <td>1</td>\n",
              "      <td>0</td>\n",
              "      <td>33.67</td>\n",
              "      <td>0.12</td>\n",
              "      <td>991.20</td>\n",
              "      <td>0.0000</td>\n",
              "      <td>0.82</td>\n",
              "      <td>5.37</td>\n",
              "    </tr>\n",
              "    <tr>\n",
              "      <th>2</th>\n",
              "      <td>2.00</td>\n",
              "      <td>0</td>\n",
              "      <td>0</td>\n",
              "      <td>5</td>\n",
              "      <td>1.0</td>\n",
              "      <td>1</td>\n",
              "      <td>2</td>\n",
              "      <td>42.34</td>\n",
              "      <td>1.00</td>\n",
              "      <td>1012.15</td>\n",
              "      <td>0.2068</td>\n",
              "      <td>0.77</td>\n",
              "      <td>11.49</td>\n",
              "    </tr>\n",
              "    <tr>\n",
              "      <th>3</th>\n",
              "      <td>3.98</td>\n",
              "      <td>0</td>\n",
              "      <td>4</td>\n",
              "      <td>8</td>\n",
              "      <td>1.0</td>\n",
              "      <td>2</td>\n",
              "      <td>1</td>\n",
              "      <td>38.46</td>\n",
              "      <td>0.96</td>\n",
              "      <td>1017.24</td>\n",
              "      <td>0.0000</td>\n",
              "      <td>0.66</td>\n",
              "      <td>3.31</td>\n",
              "    </tr>\n",
              "    <tr>\n",
              "      <th>4</th>\n",
              "      <td>1.49</td>\n",
              "      <td>0</td>\n",
              "      <td>0</td>\n",
              "      <td>8</td>\n",
              "      <td>1.0</td>\n",
              "      <td>1</td>\n",
              "      <td>0</td>\n",
              "      <td>38.46</td>\n",
              "      <td>0.96</td>\n",
              "      <td>1017.24</td>\n",
              "      <td>0.0000</td>\n",
              "      <td>0.66</td>\n",
              "      <td>3.31</td>\n",
              "    </tr>\n",
              "  </tbody>\n",
              "</table>\n",
              "</div>\n",
              "      <button class=\"colab-df-convert\" onclick=\"convertToInteractive('df-7c0173a4-b2bb-49c2-a904-e4129578cd15')\"\n",
              "              title=\"Convert this dataframe to an interactive table.\"\n",
              "              style=\"display:none;\">\n",
              "        \n",
              "  <svg xmlns=\"http://www.w3.org/2000/svg\" height=\"24px\"viewBox=\"0 0 24 24\"\n",
              "       width=\"24px\">\n",
              "    <path d=\"M0 0h24v24H0V0z\" fill=\"none\"/>\n",
              "    <path d=\"M18.56 5.44l.94 2.06.94-2.06 2.06-.94-2.06-.94-.94-2.06-.94 2.06-2.06.94zm-11 1L8.5 8.5l.94-2.06 2.06-.94-2.06-.94L8.5 2.5l-.94 2.06-2.06.94zm10 10l.94 2.06.94-2.06 2.06-.94-2.06-.94-.94-2.06-.94 2.06-2.06.94z\"/><path d=\"M17.41 7.96l-1.37-1.37c-.4-.4-.92-.59-1.43-.59-.52 0-1.04.2-1.43.59L10.3 9.45l-7.72 7.72c-.78.78-.78 2.05 0 2.83L4 21.41c.39.39.9.59 1.41.59.51 0 1.02-.2 1.41-.59l7.78-7.78 2.81-2.81c.8-.78.8-2.07 0-2.86zM5.41 20L4 18.59l7.72-7.72 1.47 1.35L5.41 20z\"/>\n",
              "  </svg>\n",
              "      </button>\n",
              "      \n",
              "  <style>\n",
              "    .colab-df-container {\n",
              "      display:flex;\n",
              "      flex-wrap:wrap;\n",
              "      gap: 12px;\n",
              "    }\n",
              "\n",
              "    .colab-df-convert {\n",
              "      background-color: #E8F0FE;\n",
              "      border: none;\n",
              "      border-radius: 50%;\n",
              "      cursor: pointer;\n",
              "      display: none;\n",
              "      fill: #1967D2;\n",
              "      height: 32px;\n",
              "      padding: 0 0 0 0;\n",
              "      width: 32px;\n",
              "    }\n",
              "\n",
              "    .colab-df-convert:hover {\n",
              "      background-color: #E2EBFA;\n",
              "      box-shadow: 0px 1px 2px rgba(60, 64, 67, 0.3), 0px 1px 3px 1px rgba(60, 64, 67, 0.15);\n",
              "      fill: #174EA6;\n",
              "    }\n",
              "\n",
              "    [theme=dark] .colab-df-convert {\n",
              "      background-color: #3B4455;\n",
              "      fill: #D2E3FC;\n",
              "    }\n",
              "\n",
              "    [theme=dark] .colab-df-convert:hover {\n",
              "      background-color: #434B5C;\n",
              "      box-shadow: 0px 1px 3px 1px rgba(0, 0, 0, 0.15);\n",
              "      filter: drop-shadow(0px 1px 2px rgba(0, 0, 0, 0.3));\n",
              "      fill: #FFFFFF;\n",
              "    }\n",
              "  </style>\n",
              "\n",
              "      <script>\n",
              "        const buttonEl =\n",
              "          document.querySelector('#df-7c0173a4-b2bb-49c2-a904-e4129578cd15 button.colab-df-convert');\n",
              "        buttonEl.style.display =\n",
              "          google.colab.kernel.accessAllowed ? 'block' : 'none';\n",
              "\n",
              "        async function convertToInteractive(key) {\n",
              "          const element = document.querySelector('#df-7c0173a4-b2bb-49c2-a904-e4129578cd15');\n",
              "          const dataTable =\n",
              "            await google.colab.kernel.invokeFunction('convertToInteractive',\n",
              "                                                     [key], {});\n",
              "          if (!dataTable) return;\n",
              "\n",
              "          const docLinkHtml = 'Like what you see? Visit the ' +\n",
              "            '<a target=\"_blank\" href=https://colab.research.google.com/notebooks/data_table.ipynb>data table notebook</a>'\n",
              "            + ' to learn more about interactive tables.';\n",
              "          element.innerHTML = '';\n",
              "          dataTable['output_type'] = 'display_data';\n",
              "          await google.colab.output.renderOutput(dataTable, element);\n",
              "          const docLink = document.createElement('div');\n",
              "          docLink.innerHTML = docLinkHtml;\n",
              "          element.appendChild(docLink);\n",
              "        }\n",
              "      </script>\n",
              "    </div>\n",
              "  </div>\n",
              "  "
            ]
          },
          "metadata": {},
          "execution_count": 34
        }
      ],
      "source": [
        "mergedData.head()"
      ]
    },
    {
      "cell_type": "markdown",
      "source": [
        "### Rain Feature Engineering"
      ],
      "metadata": {
        "id": "BHfC8jXmdsKL"
      }
    },
    {
      "cell_type": "code",
      "source": [
        "mergedData['rain'].describe()"
      ],
      "metadata": {
        "colab": {
          "base_uri": "https://localhost:8080/"
        },
        "id": "3T-gx6Pydr3b",
        "outputId": "26931ceb-e0c0-44df-af08-adfddb9d07c3"
      },
      "execution_count": 35,
      "outputs": [
        {
          "output_type": "execute_result",
          "data": {
            "text/plain": [
              "count    554456.000000\n",
              "mean          0.011511\n",
              "std           0.039021\n",
              "min           0.000000\n",
              "25%           0.000000\n",
              "50%           0.000000\n",
              "75%           0.000000\n",
              "max           0.208800\n",
              "Name: rain, dtype: float64"
            ]
          },
          "metadata": {},
          "execution_count": 35
        }
      ]
    },
    {
      "cell_type": "markdown",
      "source": [
        "Referring to google:\n",
        "<blockquote>Light rainfall is considered <b>less than 0.10 inches</b> of rain per hour. Moderate rainfall measures <b>0.10 to 0.30 inches</b> of rain per hour. Heavy rainfall is more than <b>0.30 inches</b>\n",
        " of rain per hour.</blockquote>\n",
        "0 : no rain <br>\n",
        "1 : light rain <br>\n",
        "2 : mid rain <br>\n",
        "3 : heavy rain (doesn't exist in the data)"
      ],
      "metadata": {
        "id": "gua4ZLlYePKD"
      }
    },
    {
      "cell_type": "code",
      "source": [
        "mergedData['rainType'] = 0"
      ],
      "metadata": {
        "id": "ybH9AqjKeNC_"
      },
      "execution_count": 36,
      "outputs": []
    },
    {
      "cell_type": "code",
      "source": [
        "mergedData['rainType'][(mergedData['rain'] > 0) & (mergedData['rain'] < 0.1)] = 1"
      ],
      "metadata": {
        "colab": {
          "base_uri": "https://localhost:8080/"
        },
        "id": "26J3AZwdehE1",
        "outputId": "30146db9-84bd-4514-d86d-e39b480ce61e"
      },
      "execution_count": 37,
      "outputs": [
        {
          "output_type": "stream",
          "name": "stderr",
          "text": [
            "/usr/local/lib/python3.7/dist-packages/ipykernel_launcher.py:1: SettingWithCopyWarning: \n",
            "A value is trying to be set on a copy of a slice from a DataFrame\n",
            "\n",
            "See the caveats in the documentation: https://pandas.pydata.org/pandas-docs/stable/user_guide/indexing.html#returning-a-view-versus-a-copy\n",
            "  \"\"\"Entry point for launching an IPython kernel.\n"
          ]
        }
      ]
    },
    {
      "cell_type": "code",
      "source": [
        "mergedData['rainType'][(mergedData['rain'] > 0.1) & (mergedData['rain'] < 0.3)] = 2"
      ],
      "metadata": {
        "colab": {
          "base_uri": "https://localhost:8080/"
        },
        "id": "TlSvJ_R0eogx",
        "outputId": "57bc5243-fb67-4ee4-f47a-5448e7999b60"
      },
      "execution_count": 38,
      "outputs": [
        {
          "output_type": "stream",
          "name": "stderr",
          "text": [
            "/usr/local/lib/python3.7/dist-packages/ipykernel_launcher.py:1: SettingWithCopyWarning: \n",
            "A value is trying to be set on a copy of a slice from a DataFrame\n",
            "\n",
            "See the caveats in the documentation: https://pandas.pydata.org/pandas-docs/stable/user_guide/indexing.html#returning-a-view-versus-a-copy\n",
            "  \"\"\"Entry point for launching an IPython kernel.\n"
          ]
        }
      ]
    },
    {
      "cell_type": "code",
      "source": [
        "mergedData['rainType'].value_counts()"
      ],
      "metadata": {
        "colab": {
          "base_uri": "https://localhost:8080/"
        },
        "id": "7Tujg2ZTeqJR",
        "outputId": "735ee0a2-acdd-4637-c606-a460eef4f897"
      },
      "execution_count": 39,
      "outputs": [
        {
          "output_type": "execute_result",
          "data": {
            "text/plain": [
              "0    480515\n",
              "1     42966\n",
              "2     30975\n",
              "Name: rainType, dtype: int64"
            ]
          },
          "metadata": {},
          "execution_count": 39
        }
      ]
    },
    {
      "cell_type": "markdown",
      "source": [
        "## Clouds engineering\n",
        "making the assumption that clouds are on normalized [Okta Scale](https://polarpedia.eu/en/okta-scale/) that means values less than 0.1 are sunny days"
      ],
      "metadata": {
        "id": "ZNrwQZofexPC"
      }
    },
    {
      "cell_type": "code",
      "source": [
        "mergedData['sunnyDay'] = 0"
      ],
      "metadata": {
        "id": "dHQ49lGie2cc"
      },
      "execution_count": 40,
      "outputs": []
    },
    {
      "cell_type": "code",
      "source": [
        "mergedData['sunnyDay'][mergedData['clouds'] <= 0.1] = 1"
      ],
      "metadata": {
        "colab": {
          "base_uri": "https://localhost:8080/"
        },
        "id": "yulfUg2Oe5-g",
        "outputId": "a82cef37-4dca-4e73-f8d2-da7db785865c"
      },
      "execution_count": 41,
      "outputs": [
        {
          "output_type": "stream",
          "name": "stderr",
          "text": [
            "/usr/local/lib/python3.7/dist-packages/ipykernel_launcher.py:1: SettingWithCopyWarning: \n",
            "A value is trying to be set on a copy of a slice from a DataFrame\n",
            "\n",
            "See the caveats in the documentation: https://pandas.pydata.org/pandas-docs/stable/user_guide/indexing.html#returning-a-view-versus-a-copy\n",
            "  \"\"\"Entry point for launching an IPython kernel.\n"
          ]
        }
      ]
    },
    {
      "cell_type": "code",
      "source": [
        "mergedData['sunnyDay'].value_counts()"
      ],
      "metadata": {
        "colab": {
          "base_uri": "https://localhost:8080/"
        },
        "id": "Ss5uGDkde-Yr",
        "outputId": "82225bbf-96d5-4de3-f9bb-09187b43776b"
      },
      "execution_count": 42,
      "outputs": [
        {
          "output_type": "execute_result",
          "data": {
            "text/plain": [
              "0    546501\n",
              "1      7955\n",
              "Name: sunnyDay, dtype: int64"
            ]
          },
          "metadata": {},
          "execution_count": 42
        }
      ]
    },
    {
      "cell_type": "markdown",
      "source": [
        "### Correlation Before PCA"
      ],
      "metadata": {
        "id": "likCYA1cg_tk"
      }
    },
    {
      "cell_type": "code",
      "source": [
        "plt.figure(figsize = (16, 10))\n",
        "\n",
        "ax = sns.heatmap(mergedData.corr(), annot = True)\n",
        "ax.tick_params(axis = 'x', rotation = 60)\n",
        "ax.tick_params(axis = 'y', rotation = 0)\n",
        "# these two lines are meant to fix a bug in matplotlib's current version\n",
        "# where the graph top and bot rows are cut in half (I copied them from stackoverflow)\n",
        "bottom, top = ax.get_ylim()\n",
        "ax.set_ylim(bottom + 0.5, top - 0.5)\n",
        "\n",
        "plt.show()"
      ],
      "metadata": {
        "colab": {
          "base_uri": "https://localhost:8080/",
          "height": 661
        },
        "id": "RKjqdA_bg_bf",
        "outputId": "7b5c349b-3a7c-43cd-c270-9a2397e2cb43"
      },
      "execution_count": 43,
      "outputs": [
        {
          "output_type": "display_data",
          "data": {
            "text/plain": [
              "<Figure size 1152x720 with 2 Axes>"
            ],
            "image/png": "[encoded data removed]"
          },
          "metadata": {
            "needs_background": "light"
          }
        }
      ]
    },
    {
      "cell_type": "markdown",
      "source": [
        "### Dimentionality Reduction"
      ],
      "metadata": {
        "id": "-zeU_X0eEQBh"
      }
    },
    {
      "cell_type": "code",
      "source": [
        "subsetOfData = mergedData[['temp','sunnyDay','rainType','wind','pressure','humidity']]\n",
        "mergedData.drop(['temp','clouds','sunnyDay','rainType','rain','wind','pressure','humidity'],axis=1,inplace=True)"
      ],
      "metadata": {
        "id": "_2gLxNVhEOcD"
      },
      "execution_count": 44,
      "outputs": []
    },
    {
      "cell_type": "code",
      "source": [
        "lowerDimensionWeatherData =preProcessing.reduceDimentionsOf(subsetOfData)\n",
        "mergedData['weatherState'] = lowerDimensionWeatherData"
      ],
      "metadata": {
        "id": "tdax-VDuEfVs"
      },
      "execution_count": 45,
      "outputs": []
    },
    {
      "cell_type": "markdown",
      "source": [
        "### Correlation Before PCA"
      ],
      "metadata": {
        "id": "f97s53RYbRxK"
      }
    },
    {
      "cell_type": "code",
      "source": [
        "plt.figure(figsize = (10, 10))\n",
        "\n",
        "ax = sns.heatmap(mergedData.corr(), annot = True)\n",
        "ax.tick_params(axis = 'x', rotation = 60)\n",
        "ax.tick_params(axis = 'y', rotation = 0)\n",
        "# these two lines are meant to fix a bug in matplotlib's current version\n",
        "# where the graph top and bot rows are cut in half (I copied them from stackoverflow)\n",
        "bottom, top = ax.get_ylim()\n",
        "ax.set_ylim(bottom + 0.5, top - 0.5)\n",
        "\n",
        "plt.show()"
      ],
      "metadata": {
        "colab": {
          "base_uri": "https://localhost:8080/",
          "height": 661
        },
        "id": "oPPGZWK7bRI_",
        "outputId": "03fa5cab-b8d7-4d24-b9ad-f05f71c9320c"
      },
      "execution_count": 46,
      "outputs": [
        {
          "output_type": "display_data",
          "data": {
            "text/plain": [
              "<Figure size 720x720 with 2 Axes>"
            ],
            "image/png": "[encoded data removed]"
          },
          "metadata": {
            "needs_background": "light"
          }
        }
      ]
    },
    {
      "cell_type": "markdown",
      "metadata": {
        "id": "GXsfljQJ1StU",
        "pycharm": {
          "name": "#%% md\n"
        }
      },
      "source": [
        "# Model"
      ]
    },
    {
      "cell_type": "code",
      "execution_count": 47,
      "metadata": {
        "id": "J0QCwmna1StV",
        "pycharm": {
          "name": "#%%\n"
        }
      },
      "outputs": [],
      "source": [
        "dataFeatures = mergedData.drop(['RideCategory'],axis=1)\n",
        "dataLabel = mergedData['RideCategory']"
      ]
    },
    {
      "cell_type": "code",
      "execution_count": 48,
      "metadata": {
        "colab": {
          "base_uri": "https://localhost:8080/",
          "height": 206
        },
        "id": "TFEdJEQ6AmeG",
        "outputId": "2185ac45-a13c-4544-c3d0-13b1cd69e4bd",
        "pycharm": {
          "name": "#%%\n"
        }
      },
      "outputs": [
        {
          "output_type": "execute_result",
          "data": {
            "text/plain": [
              "   distance  cab_type  destination  source  surge_multiplier  name  \\\n",
              "0      0.62         1           11       5               1.0     1   \n",
              "1      2.27         1            2       1               1.0     1   \n",
              "2      2.00         0            0       5               1.0     1   \n",
              "3      3.98         0            4       8               1.0     2   \n",
              "4      1.49         0            0       8               1.0     1   \n",
              "\n",
              "   weatherState  \n",
              "0     26.134730  \n",
              "1    -16.492402  \n",
              "2      2.092880  \n",
              "3      8.657758  \n",
              "4      8.657758  "
            ],
            "text/html": [
              "\n",
              "  <div id=\"df-a967c85e-de31-4a56-8996-d9b5a50c77a0\">\n",
              "    <div class=\"colab-df-container\">\n",
              "      <div>\n",
              "<style scoped>\n",
              "    .dataframe tbody tr th:only-of-type {\n",
              "        vertical-align: middle;\n",
              "    }\n",
              "\n",
              "    .dataframe tbody tr th {\n",
              "        vertical-align: top;\n",
              "    }\n",
              "\n",
              "    .dataframe thead th {\n",
              "        text-align: right;\n",
              "    }\n",
              "</style>\n",
              "<table border=\"1\" class=\"dataframe\">\n",
              "  <thead>\n",
              "    <tr style=\"text-align: right;\">\n",
              "      <th></th>\n",
              "      <th>distance</th>\n",
              "      <th>cab_type</th>\n",
              "      <th>destination</th>\n",
              "      <th>source</th>\n",
              "      <th>surge_multiplier</th>\n",
              "      <th>name</th>\n",
              "      <th>weatherState</th>\n",
              "    </tr>\n",
              "  </thead>\n",
              "  <tbody>\n",
              "    <tr>\n",
              "      <th>0</th>\n",
              "      <td>0.62</td>\n",
              "      <td>1</td>\n",
              "      <td>11</td>\n",
              "      <td>5</td>\n",
              "      <td>1.0</td>\n",
              "      <td>1</td>\n",
              "      <td>26.134730</td>\n",
              "    </tr>\n",
              "    <tr>\n",
              "      <th>1</th>\n",
              "      <td>2.27</td>\n",
              "      <td>1</td>\n",
              "      <td>2</td>\n",
              "      <td>1</td>\n",
              "      <td>1.0</td>\n",
              "      <td>1</td>\n",
              "      <td>-16.492402</td>\n",
              "    </tr>\n",
              "    <tr>\n",
              "      <th>2</th>\n",
              "      <td>2.00</td>\n",
              "      <td>0</td>\n",
              "      <td>0</td>\n",
              "      <td>5</td>\n",
              "      <td>1.0</td>\n",
              "      <td>1</td>\n",
              "      <td>2.092880</td>\n",
              "    </tr>\n",
              "    <tr>\n",
              "      <th>3</th>\n",
              "      <td>3.98</td>\n",
              "      <td>0</td>\n",
              "      <td>4</td>\n",
              "      <td>8</td>\n",
              "      <td>1.0</td>\n",
              "      <td>2</td>\n",
              "      <td>8.657758</td>\n",
              "    </tr>\n",
              "    <tr>\n",
              "      <th>4</th>\n",
              "      <td>1.49</td>\n",
              "      <td>0</td>\n",
              "      <td>0</td>\n",
              "      <td>8</td>\n",
              "      <td>1.0</td>\n",
              "      <td>1</td>\n",
              "      <td>8.657758</td>\n",
              "    </tr>\n",
              "  </tbody>\n",
              "</table>\n",
              "</div>\n",
              "      <button class=\"colab-df-convert\" onclick=\"convertToInteractive('df-a967c85e-de31-4a56-8996-d9b5a50c77a0')\"\n",
              "              title=\"Convert this dataframe to an interactive table.\"\n",
              "              style=\"display:none;\">\n",
              "        \n",
              "  <svg xmlns=\"http://www.w3.org/2000/svg\" height=\"24px\"viewBox=\"0 0 24 24\"\n",
              "       width=\"24px\">\n",
              "    <path d=\"M0 0h24v24H0V0z\" fill=\"none\"/>\n",
              "    <path d=\"M18.56 5.44l.94 2.06.94-2.06 2.06-.94-2.06-.94-.94-2.06-.94 2.06-2.06.94zm-11 1L8.5 8.5l.94-2.06 2.06-.94-2.06-.94L8.5 2.5l-.94 2.06-2.06.94zm10 10l.94 2.06.94-2.06 2.06-.94-2.06-.94-.94-2.06-.94 2.06-2.06.94z\"/><path d=\"M17.41 7.96l-1.37-1.37c-.4-.4-.92-.59-1.43-.59-.52 0-1.04.2-1.43.59L10.3 9.45l-7.72 7.72c-.78.78-.78 2.05 0 2.83L4 21.41c.39.39.9.59 1.41.59.51 0 1.02-.2 1.41-.59l7.78-7.78 2.81-2.81c.8-.78.8-2.07 0-2.86zM5.41 20L4 18.59l7.72-7.72 1.47 1.35L5.41 20z\"/>\n",
              "  </svg>\n",
              "      </button>\n",
              "      \n",
              "  <style>\n",
              "    .colab-df-container {\n",
              "      display:flex;\n",
              "      flex-wrap:wrap;\n",
              "      gap: 12px;\n",
              "    }\n",
              "\n",
              "    .colab-df-convert {\n",
              "      background-color: #E8F0FE;\n",
              "      border: none;\n",
              "      border-radius: 50%;\n",
              "      cursor: pointer;\n",
              "      display: none;\n",
              "      fill: #1967D2;\n",
              "      height: 32px;\n",
              "      padding: 0 0 0 0;\n",
              "      width: 32px;\n",
              "    }\n",
              "\n",
              "    .colab-df-convert:hover {\n",
              "      background-color: #E2EBFA;\n",
              "      box-shadow: 0px 1px 2px rgba(60, 64, 67, 0.3), 0px 1px 3px 1px rgba(60, 64, 67, 0.15);\n",
              "      fill: #174EA6;\n",
              "    }\n",
              "\n",
              "    [theme=dark] .colab-df-convert {\n",
              "      background-color: #3B4455;\n",
              "      fill: #D2E3FC;\n",
              "    }\n",
              "\n",
              "    [theme=dark] .colab-df-convert:hover {\n",
              "      background-color: #434B5C;\n",
              "      box-shadow: 0px 1px 3px 1px rgba(0, 0, 0, 0.15);\n",
              "      filter: drop-shadow(0px 1px 2px rgba(0, 0, 0, 0.3));\n",
              "      fill: #FFFFFF;\n",
              "    }\n",
              "  </style>\n",
              "\n",
              "      <script>\n",
              "        const buttonEl =\n",
              "          document.querySelector('#df-a967c85e-de31-4a56-8996-d9b5a50c77a0 button.colab-df-convert');\n",
              "        buttonEl.style.display =\n",
              "          google.colab.kernel.accessAllowed ? 'block' : 'none';\n",
              "\n",
              "        async function convertToInteractive(key) {\n",
              "          const element = document.querySelector('#df-a967c85e-de31-4a56-8996-d9b5a50c77a0');\n",
              "          const dataTable =\n",
              "            await google.colab.kernel.invokeFunction('convertToInteractive',\n",
              "                                                     [key], {});\n",
              "          if (!dataTable) return;\n",
              "\n",
              "          const docLinkHtml = 'Like what you see? Visit the ' +\n",
              "            '<a target=\"_blank\" href=https://colab.research.google.com/notebooks/data_table.ipynb>data table notebook</a>'\n",
              "            + ' to learn more about interactive tables.';\n",
              "          element.innerHTML = '';\n",
              "          dataTable['output_type'] = 'display_data';\n",
              "          await google.colab.output.renderOutput(dataTable, element);\n",
              "          const docLink = document.createElement('div');\n",
              "          docLink.innerHTML = docLinkHtml;\n",
              "          element.appendChild(docLink);\n",
              "        }\n",
              "      </script>\n",
              "    </div>\n",
              "  </div>\n",
              "  "
            ]
          },
          "metadata": {},
          "execution_count": 48
        }
      ],
      "source": [
        "dataFeatures.head()"
      ]
    },
    {
      "cell_type": "code",
      "execution_count": 49,
      "metadata": {
        "id": "3BW0W_UOMVmT",
        "pycharm": {
          "name": "#%%\n"
        }
      },
      "outputs": [],
      "source": [
        "model = Model()"
      ]
    },
    {
      "cell_type": "code",
      "execution_count": 50,
      "metadata": {
        "id": "G4udYlgCNMC1",
        "pycharm": {
          "name": "#%%\n"
        }
      },
      "outputs": [],
      "source": [
        "splitData = model.splitData(dataFeatures,dataLabel)"
      ]
    },
    {
      "cell_type": "markdown",
      "source": [
        "### Linear Logistic"
      ],
      "metadata": {
        "collapsed": false,
        "pycharm": {
          "name": "#%% md\n"
        },
        "id": "wzxVJsLhOSk4"
      }
    },
    {
      "cell_type": "code",
      "execution_count": 51,
      "metadata": {
        "pycharm": {
          "name": "#%%\n"
        },
        "id": "VKA3-_DPOSk4",
        "colab": {
          "base_uri": "https://localhost:8080/"
        },
        "outputId": "e17d0546-605b-4c71-ee26-e5c3d45fc70c"
      },
      "outputs": [
        {
          "output_type": "stream",
          "name": "stdout",
          "text": [
            "0.7298653632846669\n"
          ]
        },
        {
          "output_type": "stream",
          "name": "stderr",
          "text": [
            "/usr/local/lib/python3.7/dist-packages/sklearn/linear_model/_logistic.py:818: ConvergenceWarning: lbfgs failed to converge (status=1):\n",
            "STOP: TOTAL NO. of ITERATIONS REACHED LIMIT.\n",
            "\n",
            "Increase the number of iterations (max_iter) or scale the data as shown in:\n",
            "    https://scikit-learn.org/stable/modules/preprocessing.html\n",
            "Please also refer to the documentation for alternative solver options:\n",
            "    https://scikit-learn.org/stable/modules/linear_model.html#logistic-regression\n",
            "  extra_warning_msg=_LOGISTIC_SOLVER_CONVERGENCE_MSG,\n"
          ]
        },
        {
          "output_type": "execute_result",
          "data": {
            "text/plain": [
              "0.7296919525303899"
            ]
          },
          "metadata": {},
          "execution_count": 51
        }
      ],
      "source": [
        "lr = linear_model.LogisticRegression(solver = 'lbfgs', multi_class = 'multinomial', random_state=RANDOM_STATE)\n",
        "lr.fit(splitData['trainFeatures'], splitData['trainLabel'])\n",
        "print(lr.score(splitData['trainFeatures'], splitData['trainLabel']))\n",
        "metrics.f1_score(splitData['testLabel'], lr.predict(splitData['testFeatures']),average='micro')"
      ]
    },
    {
      "cell_type": "markdown",
      "source": [
        "### Polynomial Logistic"
      ],
      "metadata": {
        "collapsed": false,
        "pycharm": {
          "name": "#%% md\n"
        },
        "id": "DjKeLSpbOSk4"
      }
    },
    {
      "cell_type": "code",
      "execution_count": 52,
      "outputs": [],
      "source": [
        "#polyDegree = 2"
      ],
      "metadata": {
        "pycharm": {
          "name": "#%%\n"
        },
        "id": "wFQwM4HlOSk4"
      }
    },
    {
      "cell_type": "code",
      "execution_count": 53,
      "outputs": [],
      "source": [
        "#polyFeaturesTrain  = model.changeDegreeOf(splitData['trainFeatures'], polyDegree)\n",
        "#polyFeaturesValidation = model.changeDegreeOf(splitData['testFeatures'], polyDegree)"
      ],
      "metadata": {
        "pycharm": {
          "name": "#%%\n"
        },
        "id": "Y4PETQoSOSk5"
      }
    },
    {
      "cell_type": "code",
      "execution_count": 54,
      "outputs": [],
      "source": [
        "#lr = linear_model.LogisticRegression(solver = 'lbfgs', multi_class = 'multinomial', random_state=RANDOM_STATE)\n",
        "#lr.fit(polyFeaturesTrain, splitData['trainLabel'])"
      ],
      "metadata": {
        "pycharm": {
          "name": "#%%\n"
        },
        "id": "C7OKhsXJOSk5"
      }
    },
    {
      "cell_type": "code",
      "execution_count": 55,
      "outputs": [],
      "source": [
        "#print(lr.score(polyFeaturesTrain, splitData['trainLabel']))\n",
        "#metrics.f1_score(splitData['testLabel'], lr.predict(polyFeaturesValidation),average='micro')"
      ],
      "metadata": {
        "pycharm": {
          "name": "#%%\n"
        },
        "id": "UpGMISXiOSk5"
      }
    },
    {
      "cell_type": "markdown",
      "source": [
        "### Decision Tree"
      ],
      "metadata": {
        "collapsed": false,
        "pycharm": {
          "name": "#%% md\n"
        },
        "id": "9gumsml5OSk5"
      }
    },
    {
      "cell_type": "code",
      "execution_count": 56,
      "metadata": {
        "pycharm": {
          "name": "#%%\n"
        },
        "id": "KFP80Bz4OSk6",
        "colab": {
          "base_uri": "https://localhost:8080/"
        },
        "outputId": "45dc6640-29a7-41f6-d01e-1cc4601dd35d"
      },
      "outputs": [
        {
          "output_type": "stream",
          "name": "stdout",
          "text": [
            "0.8332889955000856\n"
          ]
        },
        {
          "output_type": "execute_result",
          "data": {
            "text/plain": [
              "0.7896151210186487"
            ]
          },
          "metadata": {},
          "execution_count": 56
        }
      ],
      "source": [
        "tree = DecisionTreeClassifier(criterion='entropy', random_state=RANDOM_STATE)\n",
        "tree.fit(splitData['trainFeatures'], splitData['trainLabel'])\n",
        "print(tree.score(splitData['trainFeatures'], splitData['trainLabel']))\n",
        "metrics.f1_score(splitData['testLabel'], tree.predict(splitData['testFeatures']),average='micro')"
      ]
    },
    {
      "cell_type": "markdown",
      "source": [
        "### Random Forest"
      ],
      "metadata": {
        "collapsed": false,
        "pycharm": {
          "name": "#%% md\n"
        },
        "id": "b-vwuzKDOSk6"
      }
    },
    {
      "cell_type": "code",
      "execution_count": 57,
      "metadata": {
        "pycharm": {
          "name": "#%%\n"
        },
        "id": "97S13pBOOSk6",
        "colab": {
          "base_uri": "https://localhost:8080/"
        },
        "outputId": "4db13978-4594-4e7c-8819-dafe624ed2ba"
      },
      "outputs": [
        {
          "output_type": "stream",
          "name": "stdout",
          "text": [
            "0.8332754687035017\n"
          ]
        },
        {
          "output_type": "execute_result",
          "data": {
            "text/plain": [
              "0.7921491180608159"
            ]
          },
          "metadata": {},
          "execution_count": 57
        }
      ],
      "source": [
        "forest = RandomForestClassifier(n_estimators=100, random_state=RANDOM_STATE)\n",
        "forest.fit(splitData['trainFeatures'], splitData['trainLabel'])\n",
        "print(forest.score(splitData['trainFeatures'], splitData['trainLabel']))\n",
        "metrics.f1_score(splitData['testLabel'], forest.predict(splitData['testFeatures']),average='micro')"
      ]
    },
    {
      "cell_type": "markdown",
      "source": [
        "### SVM"
      ],
      "metadata": {
        "collapsed": false,
        "pycharm": {
          "name": "#%% md\n"
        },
        "id": "8QZ-8iCoOSk6"
      }
    },
    {
      "cell_type": "code",
      "execution_count": 58,
      "outputs": [],
      "source": [
        "#svm = SVC( C = 10,random_state = RANDOM_STATE)\n",
        "#svm.fit(splitData['trainFeatures'], splitData['trainLabel'])\n",
        "#print(svm.score(splitData['trainFeatures'], splitData['trainLabel']))\n",
        "#metrics.f1_score(splitData['testLabel'], svm.predict(splitData['testFeatures']),average='micro')"
      ],
      "metadata": {
        "pycharm": {
          "name": "#%%\n"
        },
        "id": "LTH_C6RnOSk6"
      }
    },
    {
      "cell_type": "markdown",
      "source": [
        "### Saving Preprocessing and Models"
      ],
      "metadata": {
        "id": "GlS81vjNnAlY"
      }
    },
    {
      "cell_type": "code",
      "source": [
        "from pickle import dump\n",
        "\n",
        "filename = 'saved_preprocessing'\n",
        "dump(preProcessing, open(filename, 'wb'))"
      ],
      "metadata": {
        "id": "QrlDIzHGnHOS"
      },
      "execution_count": 59,
      "outputs": []
    },
    {
      "cell_type": "code",
      "source": [
        "models = {\n",
        "    'LogisticRegression':lr,\n",
        "    'DecisionTree': tree,\n",
        "    'RandomForest': forest\n",
        "}\n",
        "\n",
        "filename = 'saved_models'\n",
        "dump(models, open(filename, 'wb'))"
      ],
      "metadata": {
        "id": "YoNTXdKynC5s"
      },
      "execution_count": 60,
      "outputs": []
    }
  ],
  "metadata": {
    "colab": {
      "collapsed_sections": [],
      "name": "Classification.ipynb",
      "provenance": []
    },
    "interpreter": {
      "hash": "916dbcbb3f70747c44a77c7bcd40155683ae19c65e1c03b4aa3499c5328201f1"
    },
    "kernelspec": {
      "display_name": "Python 3",
      "language": "python",
      "name": "python3"
    },
    "language_info": {
      "codemirror_mode": {
        "name": "ipython",
        "version": 3
      },
      "file_extension": ".py",
      "mimetype": "text/x-python",
      "name": "python",
      "nbconvert_exporter": "python",
      "pygments_lexer": "ipython3",
      "version": "3.7.4"
    }
  },
  "nbformat": 4,
  "nbformat_minor": 0
}