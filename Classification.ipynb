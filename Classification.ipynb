{
 "cells": [
  {
   "cell_type": "code",
   "execution_count": 12,
   "outputs": [],
   "source": [
    "# import gdown\n",
    "# gdown.download_folder('https://drive.google.com/drive/folders/1fBs3klrABIbNxvReGZ96lLdOnLTRYEZ5?usp=sharing')"
   ],
   "metadata": {
    "collapsed": false,
    "pycharm": {
     "name": "#%%\n"
    }
   }
  },
  {
   "cell_type": "code",
   "execution_count": 13,
   "outputs": [],
   "source": [
    "# !curl --remote-name https://raw.githubusercontent.com/aymanmostafa11/Taxi-Ride-Fare-Prediction/main/helpers.py"
   ],
   "metadata": {
    "collapsed": false,
    "pycharm": {
     "name": "#%%\n"
    }
   }
  },
  {
   "cell_type": "code",
   "execution_count": 14,
   "outputs": [],
   "source": [
    "import sys\n",
    "\n",
    "import numpy as np\n",
    "import pandas as pd\n",
    "import matplotlib.pyplot as plt\n",
    "import seaborn as sns\n",
    "\n",
    "from sklearn import linear_model\n",
    "from sklearn import metrics\n",
    "from sklearn.tree import DecisionTreeClassifier\n",
    "from sklearn.ensemble import RandomForestClassifier\n",
    "from sklearn.impute import SimpleImputer\n",
    "from sklearn.svm import SVC\n",
    "\n",
    "from helpers import Model , PreProcessing\n",
    "\n",
    "import warnings\n",
    "warnings.filterwarnings(\"ignore\")"
   ],
   "metadata": {
    "collapsed": false,
    "pycharm": {
     "name": "#%%\n"
    }
   }
  },
  {
   "cell_type": "code",
   "execution_count": 15,
   "outputs": [],
   "source": [
    "RANDOM_STATE = 42"
   ],
   "metadata": {
    "collapsed": false,
    "pycharm": {
     "name": "#%%\n"
    }
   }
  },
  {
   "cell_type": "code",
   "execution_count": 16,
   "outputs": [],
   "source": [
    "dataPath = 'taxi'"
   ],
   "metadata": {
    "collapsed": false,
    "pycharm": {
     "name": "#%%\n"
    }
   }
  },
  {
   "cell_type": "code",
   "execution_count": 17,
   "outputs": [],
   "source": [
    "taxiRides = pd.read_csv(dataPath + '/taxi-rides-classification.csv')\n",
    "weather = pd.read_csv(dataPath + '/weather.csv')\n",
    "\n",
    "# taxiRides = pd.read_csv('taxi/taxi-rides-classification.csv')\n",
    "# weather = pd.read_csv('taxi/weather.csv')"
   ],
   "metadata": {
    "collapsed": false,
    "pycharm": {
     "name": "#%%\n"
    }
   }
  },
  {
   "cell_type": "code",
   "execution_count": 18,
   "outputs": [
    {
     "name": "stdout",
     "output_type": "stream",
     "text": [
      "Taxi Rides has 554456 Rows and 10 Columns\n"
     ]
    },
    {
     "data": {
      "text/plain": "   distance cab_type    time_stamp         destination  \\\n0      0.62     Uber  1.544770e+12            West End   \n1      2.27     Uber  1.543400e+12   Boston University   \n2      2.00     Lyft  1.544920e+12            Back Bay   \n3      3.98     Lyft  1.543620e+12  Financial District   \n4      1.49     Lyft  1.543580e+12            Back Bay   \n\n                    source  surge_multiplier  \\\n0         Haymarket Square               1.0   \n1              Beacon Hill               1.0   \n2         Haymarket Square               1.0   \n3  Northeastern University               1.0   \n4  Northeastern University               1.0   \n\n                                     id                            product_id  \\\n0  c1b4a572-24b2-484d-aac5-b4f97b790480  8cf7e821-f0d3-49c6-8eba-e679c0ebcf6a   \n1  f9e7e7e6-b309-479b-9f90-bf26a1870c81  997acbb5-e102-41e1-b155-9df7de0a73f2   \n2  154e8438-46f5-4e5f-9872-15cc95e85eed                                  lyft   \n3  6bdc30a6-9a80-487b-914e-8d9b82ee4acb                             lyft_plus   \n4  0cb12fe9-cd72-4feb-b341-4a566b2e6643                                  lyft   \n\n       name RideCategory  \n0      Taxi      unknown  \n1  UberPool        cheap  \n2      Lyft     moderate  \n3   Lyft XL    expensive  \n4      Lyft        cheap  ",
      "text/html": "<div>\n<style scoped>\n    .dataframe tbody tr th:only-of-type {\n        vertical-align: middle;\n    }\n\n    .dataframe tbody tr th {\n        vertical-align: top;\n    }\n\n    .dataframe thead th {\n        text-align: right;\n    }\n</style>\n<table border=\"1\" class=\"dataframe\">\n  <thead>\n    <tr style=\"text-align: right;\">\n      <th></th>\n      <th>distance</th>\n      <th>cab_type</th>\n      <th>time_stamp</th>\n      <th>destination</th>\n      <th>source</th>\n      <th>surge_multiplier</th>\n      <th>id</th>\n      <th>product_id</th>\n      <th>name</th>\n      <th>RideCategory</th>\n    </tr>\n  </thead>\n  <tbody>\n    <tr>\n      <td>0</td>\n      <td>0.62</td>\n      <td>Uber</td>\n      <td>1.544770e+12</td>\n      <td>West End</td>\n      <td>Haymarket Square</td>\n      <td>1.0</td>\n      <td>c1b4a572-24b2-484d-aac5-b4f97b790480</td>\n      <td>8cf7e821-f0d3-49c6-8eba-e679c0ebcf6a</td>\n      <td>Taxi</td>\n      <td>unknown</td>\n    </tr>\n    <tr>\n      <td>1</td>\n      <td>2.27</td>\n      <td>Uber</td>\n      <td>1.543400e+12</td>\n      <td>Boston University</td>\n      <td>Beacon Hill</td>\n      <td>1.0</td>\n      <td>f9e7e7e6-b309-479b-9f90-bf26a1870c81</td>\n      <td>997acbb5-e102-41e1-b155-9df7de0a73f2</td>\n      <td>UberPool</td>\n      <td>cheap</td>\n    </tr>\n    <tr>\n      <td>2</td>\n      <td>2.00</td>\n      <td>Lyft</td>\n      <td>1.544920e+12</td>\n      <td>Back Bay</td>\n      <td>Haymarket Square</td>\n      <td>1.0</td>\n      <td>154e8438-46f5-4e5f-9872-15cc95e85eed</td>\n      <td>lyft</td>\n      <td>Lyft</td>\n      <td>moderate</td>\n    </tr>\n    <tr>\n      <td>3</td>\n      <td>3.98</td>\n      <td>Lyft</td>\n      <td>1.543620e+12</td>\n      <td>Financial District</td>\n      <td>Northeastern University</td>\n      <td>1.0</td>\n      <td>6bdc30a6-9a80-487b-914e-8d9b82ee4acb</td>\n      <td>lyft_plus</td>\n      <td>Lyft XL</td>\n      <td>expensive</td>\n    </tr>\n    <tr>\n      <td>4</td>\n      <td>1.49</td>\n      <td>Lyft</td>\n      <td>1.543580e+12</td>\n      <td>Back Bay</td>\n      <td>Northeastern University</td>\n      <td>1.0</td>\n      <td>0cb12fe9-cd72-4feb-b341-4a566b2e6643</td>\n      <td>lyft</td>\n      <td>Lyft</td>\n      <td>cheap</td>\n    </tr>\n  </tbody>\n</table>\n</div>"
     },
     "execution_count": 18,
     "metadata": {},
     "output_type": "execute_result"
    }
   ],
   "source": [
    "print(f\"Taxi Rides has {taxiRides.shape[0]} Rows and {taxiRides.shape[1]} Columns\")\n",
    "taxiRides.head()"
   ],
   "metadata": {
    "collapsed": false,
    "pycharm": {
     "name": "#%%\n"
    }
   }
  },
  {
   "cell_type": "code",
   "execution_count": 19,
   "outputs": [
    {
     "name": "stdout",
     "output_type": "stream",
     "text": [
      "Weather has 6276 Rows and 8 Columns\n"
     ]
    },
    {
     "data": {
      "text/plain": "    temp            location  clouds  pressure    rain  time_stamp  humidity  \\\n0  42.42            Back Bay     1.0   1012.14  0.1228  1545003901      0.77   \n1  42.43         Beacon Hill     1.0   1012.15  0.1846  1545003901      0.76   \n2  42.50   Boston University     1.0   1012.15  0.1089  1545003901      0.76   \n3  42.11              Fenway     1.0   1012.13  0.0969  1545003901      0.77   \n4  43.13  Financial District     1.0   1012.14  0.1786  1545003901      0.75   \n\n    wind  \n0  11.25  \n1  11.32  \n2  11.07  \n3  11.09  \n4  11.49  ",
      "text/html": "<div>\n<style scoped>\n    .dataframe tbody tr th:only-of-type {\n        vertical-align: middle;\n    }\n\n    .dataframe tbody tr th {\n        vertical-align: top;\n    }\n\n    .dataframe thead th {\n        text-align: right;\n    }\n</style>\n<table border=\"1\" class=\"dataframe\">\n  <thead>\n    <tr style=\"text-align: right;\">\n      <th></th>\n      <th>temp</th>\n      <th>location</th>\n      <th>clouds</th>\n      <th>pressure</th>\n      <th>rain</th>\n      <th>time_stamp</th>\n      <th>humidity</th>\n      <th>wind</th>\n    </tr>\n  </thead>\n  <tbody>\n    <tr>\n      <td>0</td>\n      <td>42.42</td>\n      <td>Back Bay</td>\n      <td>1.0</td>\n      <td>1012.14</td>\n      <td>0.1228</td>\n      <td>1545003901</td>\n      <td>0.77</td>\n      <td>11.25</td>\n    </tr>\n    <tr>\n      <td>1</td>\n      <td>42.43</td>\n      <td>Beacon Hill</td>\n      <td>1.0</td>\n      <td>1012.15</td>\n      <td>0.1846</td>\n      <td>1545003901</td>\n      <td>0.76</td>\n      <td>11.32</td>\n    </tr>\n    <tr>\n      <td>2</td>\n      <td>42.50</td>\n      <td>Boston University</td>\n      <td>1.0</td>\n      <td>1012.15</td>\n      <td>0.1089</td>\n      <td>1545003901</td>\n      <td>0.76</td>\n      <td>11.07</td>\n    </tr>\n    <tr>\n      <td>3</td>\n      <td>42.11</td>\n      <td>Fenway</td>\n      <td>1.0</td>\n      <td>1012.13</td>\n      <td>0.0969</td>\n      <td>1545003901</td>\n      <td>0.77</td>\n      <td>11.09</td>\n    </tr>\n    <tr>\n      <td>4</td>\n      <td>43.13</td>\n      <td>Financial District</td>\n      <td>1.0</td>\n      <td>1012.14</td>\n      <td>0.1786</td>\n      <td>1545003901</td>\n      <td>0.75</td>\n      <td>11.49</td>\n    </tr>\n  </tbody>\n</table>\n</div>"
     },
     "execution_count": 19,
     "metadata": {},
     "output_type": "execute_result"
    }
   ],
   "source": [
    "print(f\"Weather has {weather.shape[0]} Rows and {weather.shape[1]} Columns\")\n",
    "weather.head()"
   ],
   "metadata": {
    "collapsed": false,
    "pycharm": {
     "name": "#%%\n"
    }
   }
  },
  {
   "cell_type": "markdown",
   "source": [
    "# Data Cleaning"
   ],
   "metadata": {
    "collapsed": false,
    "pycharm": {
     "name": "#%% md\n"
    }
   }
  },
  {
   "cell_type": "markdown",
   "source": [
    "## Taxi Rides"
   ],
   "metadata": {
    "collapsed": false,
    "pycharm": {
     "name": "#%% md\n"
    }
   }
  },
  {
   "cell_type": "code",
   "execution_count": 20,
   "outputs": [
    {
     "name": "stdout",
     "output_type": "stream",
     "text": [
      "<class 'pandas.core.frame.DataFrame'>\n",
      "RangeIndex: 554456 entries, 0 to 554455\n",
      "Data columns (total 10 columns):\n",
      "distance            554456 non-null float64\n",
      "cab_type            554456 non-null object\n",
      "time_stamp          554456 non-null float64\n",
      "destination         554456 non-null object\n",
      "source              554456 non-null object\n",
      "surge_multiplier    554456 non-null float64\n",
      "id                  554456 non-null object\n",
      "product_id          554456 non-null object\n",
      "name                554456 non-null object\n",
      "RideCategory        554456 non-null object\n",
      "dtypes: float64(3), object(7)\n",
      "memory usage: 42.3+ MB\n"
     ]
    }
   ],
   "source": [
    "taxiRides.info()"
   ],
   "metadata": {
    "collapsed": false,
    "pycharm": {
     "name": "#%%\n"
    }
   }
  },
  {
   "cell_type": "markdown",
   "source": [
    "## Null"
   ],
   "metadata": {
    "collapsed": false,
    "pycharm": {
     "name": "#%% md\n"
    }
   }
  },
  {
   "cell_type": "code",
   "execution_count": 21,
   "outputs": [
    {
     "name": "stdout",
     "output_type": "stream",
     "text": [
      "Null Values in columns\n"
     ]
    },
    {
     "data": {
      "text/plain": "distance            0\ncab_type            0\ntime_stamp          0\ndestination         0\nsource              0\nsurge_multiplier    0\nid                  0\nproduct_id          0\nname                0\nRideCategory        0\ndtype: int64"
     },
     "execution_count": 21,
     "metadata": {},
     "output_type": "execute_result"
    }
   ],
   "source": [
    "print(\"Null Values in columns\")\n",
    "taxiRides.isnull().sum()"
   ],
   "metadata": {
    "collapsed": false,
    "pycharm": {
     "name": "#%%\n"
    }
   }
  },
  {
   "cell_type": "markdown",
   "source": [
    "## product_id and name"
   ],
   "metadata": {
    "collapsed": false,
    "pycharm": {
     "name": "#%% md\n"
    }
   }
  },
  {
   "cell_type": "code",
   "execution_count": 22,
   "outputs": [
    {
     "name": "stdout",
     "output_type": "stream",
     "text": [
      "Value counts of 'product_id' feature\n",
      "\n"
     ]
    },
    {
     "data": {
      "text/plain": "55c66225-fbe7-4fd5-9072-eab1ece5e23e    44204\n8cf7e821-f0d3-49c6-8eba-e679c0ebcf6a    44135\n997acbb5-e102-41e1-b155-9df7de0a73f2    44108\n6d318bcc-22a3-4af6-bddd-b409bfce1546    44038\n9a0e7b09-b92b-4c41-9779-2ad22b4d779d    44024\n6f72dfc5-27f1-42e8-84db-ccc7a75f6969    43983\n6c84fd89-3f11-4782-9b50-97c468b19529    43977\nlyft_plus                               41142\nlyft_lux                                41041\nlyft                                    41015\nlyft_luxsuv                             40979\nlyft_premier                            40969\nlyft_line                               40841\nName: product_id, dtype: int64"
     },
     "execution_count": 22,
     "metadata": {},
     "output_type": "execute_result"
    }
   ],
   "source": [
    "print(f\"Value counts of 'product_id' feature\\n\")\n",
    "taxiRides['product_id'].value_counts()"
   ],
   "metadata": {
    "collapsed": false,
    "pycharm": {
     "name": "#%%\n"
    }
   }
  },
  {
   "cell_type": "code",
   "execution_count": 23,
   "outputs": [
    {
     "name": "stdout",
     "output_type": "stream",
     "text": [
      "Value counts of 'name' feature\n",
      "\n"
     ]
    },
    {
     "data": {
      "text/plain": "UberX           44204\nTaxi            44135\nUberPool        44108\nBlack SUV       44038\nWAV             44024\nUberXL          43983\nBlack           43977\nLyft XL         41142\nLux Black       41041\nLyft            41015\nLux Black XL    40979\nLux             40969\nShared          40841\nName: name, dtype: int64"
     },
     "execution_count": 23,
     "metadata": {},
     "output_type": "execute_result"
    }
   ],
   "source": [
    "print(f\"Value counts of 'name' feature\\n\")\n",
    "taxiRides['name'].value_counts()"
   ],
   "metadata": {
    "collapsed": false,
    "pycharm": {
     "name": "#%%\n"
    }
   }
  },
  {
   "cell_type": "code",
   "execution_count": 24,
   "outputs": [
    {
     "data": {
      "text/plain": "   distance cab_type    time_stamp         destination  \\\n0      0.62     Uber  1.544770e+12            West End   \n1      2.27     Uber  1.543400e+12   Boston University   \n2      2.00     Lyft  1.544920e+12            Back Bay   \n3      3.98     Lyft  1.543620e+12  Financial District   \n4      1.49     Lyft  1.543580e+12            Back Bay   \n\n                    source  surge_multiplier  \\\n0         Haymarket Square               1.0   \n1              Beacon Hill               1.0   \n2         Haymarket Square               1.0   \n3  Northeastern University               1.0   \n4  Northeastern University               1.0   \n\n                                     id                            product_id  \\\n0  c1b4a572-24b2-484d-aac5-b4f97b790480  8cf7e821-f0d3-49c6-8eba-e679c0ebcf6a   \n1  f9e7e7e6-b309-479b-9f90-bf26a1870c81  997acbb5-e102-41e1-b155-9df7de0a73f2   \n2  154e8438-46f5-4e5f-9872-15cc95e85eed                                  lyft   \n3  6bdc30a6-9a80-487b-914e-8d9b82ee4acb                             lyft_plus   \n4  0cb12fe9-cd72-4feb-b341-4a566b2e6643                                  lyft   \n\n       name RideCategory  \n0      Taxi      unknown  \n1  UberPool        cheap  \n2      Lyft     moderate  \n3   Lyft XL    expensive  \n4      Lyft        cheap  ",
      "text/html": "<div>\n<style scoped>\n    .dataframe tbody tr th:only-of-type {\n        vertical-align: middle;\n    }\n\n    .dataframe tbody tr th {\n        vertical-align: top;\n    }\n\n    .dataframe thead th {\n        text-align: right;\n    }\n</style>\n<table border=\"1\" class=\"dataframe\">\n  <thead>\n    <tr style=\"text-align: right;\">\n      <th></th>\n      <th>distance</th>\n      <th>cab_type</th>\n      <th>time_stamp</th>\n      <th>destination</th>\n      <th>source</th>\n      <th>surge_multiplier</th>\n      <th>id</th>\n      <th>product_id</th>\n      <th>name</th>\n      <th>RideCategory</th>\n    </tr>\n  </thead>\n  <tbody>\n    <tr>\n      <td>0</td>\n      <td>0.62</td>\n      <td>Uber</td>\n      <td>1.544770e+12</td>\n      <td>West End</td>\n      <td>Haymarket Square</td>\n      <td>1.0</td>\n      <td>c1b4a572-24b2-484d-aac5-b4f97b790480</td>\n      <td>8cf7e821-f0d3-49c6-8eba-e679c0ebcf6a</td>\n      <td>Taxi</td>\n      <td>unknown</td>\n    </tr>\n    <tr>\n      <td>1</td>\n      <td>2.27</td>\n      <td>Uber</td>\n      <td>1.543400e+12</td>\n      <td>Boston University</td>\n      <td>Beacon Hill</td>\n      <td>1.0</td>\n      <td>f9e7e7e6-b309-479b-9f90-bf26a1870c81</td>\n      <td>997acbb5-e102-41e1-b155-9df7de0a73f2</td>\n      <td>UberPool</td>\n      <td>cheap</td>\n    </tr>\n    <tr>\n      <td>2</td>\n      <td>2.00</td>\n      <td>Lyft</td>\n      <td>1.544920e+12</td>\n      <td>Back Bay</td>\n      <td>Haymarket Square</td>\n      <td>1.0</td>\n      <td>154e8438-46f5-4e5f-9872-15cc95e85eed</td>\n      <td>lyft</td>\n      <td>Lyft</td>\n      <td>moderate</td>\n    </tr>\n    <tr>\n      <td>3</td>\n      <td>3.98</td>\n      <td>Lyft</td>\n      <td>1.543620e+12</td>\n      <td>Financial District</td>\n      <td>Northeastern University</td>\n      <td>1.0</td>\n      <td>6bdc30a6-9a80-487b-914e-8d9b82ee4acb</td>\n      <td>lyft_plus</td>\n      <td>Lyft XL</td>\n      <td>expensive</td>\n    </tr>\n    <tr>\n      <td>4</td>\n      <td>1.49</td>\n      <td>Lyft</td>\n      <td>1.543580e+12</td>\n      <td>Back Bay</td>\n      <td>Northeastern University</td>\n      <td>1.0</td>\n      <td>0cb12fe9-cd72-4feb-b341-4a566b2e6643</td>\n      <td>lyft</td>\n      <td>Lyft</td>\n      <td>cheap</td>\n    </tr>\n  </tbody>\n</table>\n</div>"
     },
     "execution_count": 24,
     "metadata": {},
     "output_type": "execute_result"
    }
   ],
   "source": [
    "taxiRides.head()"
   ],
   "metadata": {
    "collapsed": false,
    "pycharm": {
     "name": "#%%\n"
    }
   }
  },
  {
   "cell_type": "markdown",
   "source": [
    "product_id and name represent the same feature so we can drop one of them"
   ],
   "metadata": {
    "collapsed": false,
    "pycharm": {
     "name": "#%% md\n"
    }
   }
  },
  {
   "cell_type": "markdown",
   "source": [
    "## Encoding Timestamps to date"
   ],
   "metadata": {
    "collapsed": false,
    "pycharm": {
     "name": "#%% md\n"
    }
   }
  },
  {
   "cell_type": "code",
   "execution_count": 25,
   "outputs": [],
   "source": [
    "weatherDate = pd.to_datetime(weather['time_stamp'], unit='s').apply(lambda x: x.strftime(('%Y-%m-%d')))\n",
    "taxiRidesDate = pd.to_datetime(taxiRides['time_stamp'], unit='ms').apply(lambda x: x.strftime(('%Y-%m-%d')))\n",
    "weather['date'] = weatherDate\n",
    "taxiRides['date'] = taxiRidesDate"
   ],
   "metadata": {
    "collapsed": false,
    "pycharm": {
     "name": "#%%\n"
    }
   }
  },
  {
   "cell_type": "code",
   "execution_count": 26,
   "outputs": [
    {
     "data": {
      "text/plain": "    temp            location  clouds  pressure    rain  time_stamp  humidity  \\\n0  42.42            Back Bay     1.0   1012.14  0.1228  1545003901      0.77   \n1  42.43         Beacon Hill     1.0   1012.15  0.1846  1545003901      0.76   \n2  42.50   Boston University     1.0   1012.15  0.1089  1545003901      0.76   \n3  42.11              Fenway     1.0   1012.13  0.0969  1545003901      0.77   \n4  43.13  Financial District     1.0   1012.14  0.1786  1545003901      0.75   \n\n    wind        date  \n0  11.25  2018-12-16  \n1  11.32  2018-12-16  \n2  11.07  2018-12-16  \n3  11.09  2018-12-16  \n4  11.49  2018-12-16  ",
      "text/html": "<div>\n<style scoped>\n    .dataframe tbody tr th:only-of-type {\n        vertical-align: middle;\n    }\n\n    .dataframe tbody tr th {\n        vertical-align: top;\n    }\n\n    .dataframe thead th {\n        text-align: right;\n    }\n</style>\n<table border=\"1\" class=\"dataframe\">\n  <thead>\n    <tr style=\"text-align: right;\">\n      <th></th>\n      <th>temp</th>\n      <th>location</th>\n      <th>clouds</th>\n      <th>pressure</th>\n      <th>rain</th>\n      <th>time_stamp</th>\n      <th>humidity</th>\n      <th>wind</th>\n      <th>date</th>\n    </tr>\n  </thead>\n  <tbody>\n    <tr>\n      <td>0</td>\n      <td>42.42</td>\n      <td>Back Bay</td>\n      <td>1.0</td>\n      <td>1012.14</td>\n      <td>0.1228</td>\n      <td>1545003901</td>\n      <td>0.77</td>\n      <td>11.25</td>\n      <td>2018-12-16</td>\n    </tr>\n    <tr>\n      <td>1</td>\n      <td>42.43</td>\n      <td>Beacon Hill</td>\n      <td>1.0</td>\n      <td>1012.15</td>\n      <td>0.1846</td>\n      <td>1545003901</td>\n      <td>0.76</td>\n      <td>11.32</td>\n      <td>2018-12-16</td>\n    </tr>\n    <tr>\n      <td>2</td>\n      <td>42.50</td>\n      <td>Boston University</td>\n      <td>1.0</td>\n      <td>1012.15</td>\n      <td>0.1089</td>\n      <td>1545003901</td>\n      <td>0.76</td>\n      <td>11.07</td>\n      <td>2018-12-16</td>\n    </tr>\n    <tr>\n      <td>3</td>\n      <td>42.11</td>\n      <td>Fenway</td>\n      <td>1.0</td>\n      <td>1012.13</td>\n      <td>0.0969</td>\n      <td>1545003901</td>\n      <td>0.77</td>\n      <td>11.09</td>\n      <td>2018-12-16</td>\n    </tr>\n    <tr>\n      <td>4</td>\n      <td>43.13</td>\n      <td>Financial District</td>\n      <td>1.0</td>\n      <td>1012.14</td>\n      <td>0.1786</td>\n      <td>1545003901</td>\n      <td>0.75</td>\n      <td>11.49</td>\n      <td>2018-12-16</td>\n    </tr>\n  </tbody>\n</table>\n</div>"
     },
     "execution_count": 26,
     "metadata": {},
     "output_type": "execute_result"
    }
   ],
   "source": [
    "weather.head()"
   ],
   "metadata": {
    "collapsed": false,
    "pycharm": {
     "name": "#%%\n"
    }
   }
  },
  {
   "cell_type": "markdown",
   "source": [
    "## Joining Dataframes based on date"
   ],
   "metadata": {
    "collapsed": false,
    "pycharm": {
     "name": "#%% md\n"
    }
   }
  },
  {
   "cell_type": "code",
   "execution_count": 27,
   "outputs": [],
   "source": [
    "taxiRides.drop(['time_stamp'],axis = 1, inplace = True)\n",
    "weather.drop(['time_stamp'],axis = 1, inplace = True)\n",
    "\n",
    "mergedData = pd.merge(taxiRides,weather.drop_duplicates(subset=['date', 'location']), how = 'left', left_on=['date', 'source'], right_on=['date', 'location'])"
   ],
   "metadata": {
    "collapsed": false,
    "pycharm": {
     "name": "#%%\n"
    }
   }
  },
  {
   "cell_type": "code",
   "execution_count": 28,
   "outputs": [
    {
     "data": {
      "text/plain": "distance                 0\ncab_type                 0\ndestination              0\nsource                   0\nsurge_multiplier         0\nid                       0\nproduct_id               0\nname                     0\nRideCategory             0\ndate                     0\ntemp                     0\nlocation                 0\nclouds                   0\npressure                 0\nrain                480515\nhumidity                 0\nwind                     0\ndtype: int64"
     },
     "execution_count": 28,
     "metadata": {},
     "output_type": "execute_result"
    }
   ],
   "source": [
    "mergedData.isnull().sum()"
   ],
   "metadata": {
    "collapsed": false,
    "pycharm": {
     "name": "#%%\n"
    }
   }
  },
  {
   "cell_type": "markdown",
   "source": [
    "## Rain Feature"
   ],
   "metadata": {
    "collapsed": false,
    "pycharm": {
     "name": "#%% md\n"
    }
   }
  },
  {
   "cell_type": "code",
   "execution_count": 29,
   "outputs": [
    {
     "name": "stdout",
     "output_type": "stream",
     "text": [
      "Rows with null rain value statistics\n"
     ]
    },
    {
     "data": {
      "text/plain": "              temp       clouds    pressure  rain     humidity         wind\ncount  5382.000000  5382.000000  5382.00000   0.0  5382.000000  5382.000000\nmean     38.461557     0.633618  1008.92490   NaN     0.747293     6.375199\nstd       6.169892     0.312919    13.46695   NaN     0.124451     3.542713\nmin      19.620000     0.000000   988.25000   NaN     0.450000     0.290000\n25%      35.022500     0.400000   997.39000   NaN     0.660000     3.190000\n50%      39.360000     0.680000  1009.56000   NaN     0.730000     6.210000\n75%      41.470000     0.930000  1020.95000   NaN     0.850000     9.627500\nmax      55.410000     1.000000  1035.12000   NaN     0.990000    18.180000",
      "text/html": "<div>\n<style scoped>\n    .dataframe tbody tr th:only-of-type {\n        vertical-align: middle;\n    }\n\n    .dataframe tbody tr th {\n        vertical-align: top;\n    }\n\n    .dataframe thead th {\n        text-align: right;\n    }\n</style>\n<table border=\"1\" class=\"dataframe\">\n  <thead>\n    <tr style=\"text-align: right;\">\n      <th></th>\n      <th>temp</th>\n      <th>clouds</th>\n      <th>pressure</th>\n      <th>rain</th>\n      <th>humidity</th>\n      <th>wind</th>\n    </tr>\n  </thead>\n  <tbody>\n    <tr>\n      <td>count</td>\n      <td>5382.000000</td>\n      <td>5382.000000</td>\n      <td>5382.00000</td>\n      <td>0.0</td>\n      <td>5382.000000</td>\n      <td>5382.000000</td>\n    </tr>\n    <tr>\n      <td>mean</td>\n      <td>38.461557</td>\n      <td>0.633618</td>\n      <td>1008.92490</td>\n      <td>NaN</td>\n      <td>0.747293</td>\n      <td>6.375199</td>\n    </tr>\n    <tr>\n      <td>std</td>\n      <td>6.169892</td>\n      <td>0.312919</td>\n      <td>13.46695</td>\n      <td>NaN</td>\n      <td>0.124451</td>\n      <td>3.542713</td>\n    </tr>\n    <tr>\n      <td>min</td>\n      <td>19.620000</td>\n      <td>0.000000</td>\n      <td>988.25000</td>\n      <td>NaN</td>\n      <td>0.450000</td>\n      <td>0.290000</td>\n    </tr>\n    <tr>\n      <td>25%</td>\n      <td>35.022500</td>\n      <td>0.400000</td>\n      <td>997.39000</td>\n      <td>NaN</td>\n      <td>0.660000</td>\n      <td>3.190000</td>\n    </tr>\n    <tr>\n      <td>50%</td>\n      <td>39.360000</td>\n      <td>0.680000</td>\n      <td>1009.56000</td>\n      <td>NaN</td>\n      <td>0.730000</td>\n      <td>6.210000</td>\n    </tr>\n    <tr>\n      <td>75%</td>\n      <td>41.470000</td>\n      <td>0.930000</td>\n      <td>1020.95000</td>\n      <td>NaN</td>\n      <td>0.850000</td>\n      <td>9.627500</td>\n    </tr>\n    <tr>\n      <td>max</td>\n      <td>55.410000</td>\n      <td>1.000000</td>\n      <td>1035.12000</td>\n      <td>NaN</td>\n      <td>0.990000</td>\n      <td>18.180000</td>\n    </tr>\n  </tbody>\n</table>\n</div>"
     },
     "execution_count": 29,
     "metadata": {},
     "output_type": "execute_result"
    },
    {
     "data": {
      "text/plain": "<Figure size 432x288 with 1 Axes>",
      "image/png": "[encoded data removed]"
     },
     "metadata": {
      "needs_background": "light"
     },
     "output_type": "display_data"
    }
   ],
   "source": [
    "weather['rain'].isnull().sum() / weather['rain'].shape[0]\n",
    "weather['rain'].hist()\n",
    "#Does null values of rain revolve around certain values?\n",
    "print(\"Rows with null rain value statistics\")\n",
    "weather[weather['rain'].isnull()].describe()\n",
    "\n"
   ],
   "metadata": {
    "collapsed": false,
    "pycharm": {
     "name": "#%%\n"
    }
   }
  },
  {
   "cell_type": "code",
   "execution_count": 30,
   "outputs": [
    {
     "name": "stdout",
     "output_type": "stream",
     "text": [
      "Rows with non-null rain value statistics\n"
     ]
    },
    {
     "data": {
      "text/plain": "             temp      clouds     pressure        rain    humidity        wind\ncount  894.000000  894.000000   894.000000  894.000000  894.000000  894.000000\nmean    42.876644    0.943624  1005.557405    0.057652    0.864474    9.377103\nstd      2.951239    0.146752     7.841618    0.100758    0.093957    3.066719\nmin     34.100000    0.100000   988.910000    0.000200    0.520000    1.740000\n25%     41.482500    0.970000   999.750000    0.004900    0.860000    7.660000\n50%     43.820000    1.000000  1005.945000    0.014850    0.900000    9.890000\n75%     44.510000    1.000000  1011.237500    0.060925    0.920000   11.187500\nmax     51.240000    1.000000  1021.790000    0.780700    0.980000   17.160000",
      "text/html": "<div>\n<style scoped>\n    .dataframe tbody tr th:only-of-type {\n        vertical-align: middle;\n    }\n\n    .dataframe tbody tr th {\n        vertical-align: top;\n    }\n\n    .dataframe thead th {\n        text-align: right;\n    }\n</style>\n<table border=\"1\" class=\"dataframe\">\n  <thead>\n    <tr style=\"text-align: right;\">\n      <th></th>\n      <th>temp</th>\n      <th>clouds</th>\n      <th>pressure</th>\n      <th>rain</th>\n      <th>humidity</th>\n      <th>wind</th>\n    </tr>\n  </thead>\n  <tbody>\n    <tr>\n      <td>count</td>\n      <td>894.000000</td>\n      <td>894.000000</td>\n      <td>894.000000</td>\n      <td>894.000000</td>\n      <td>894.000000</td>\n      <td>894.000000</td>\n    </tr>\n    <tr>\n      <td>mean</td>\n      <td>42.876644</td>\n      <td>0.943624</td>\n      <td>1005.557405</td>\n      <td>0.057652</td>\n      <td>0.864474</td>\n      <td>9.377103</td>\n    </tr>\n    <tr>\n      <td>std</td>\n      <td>2.951239</td>\n      <td>0.146752</td>\n      <td>7.841618</td>\n      <td>0.100758</td>\n      <td>0.093957</td>\n      <td>3.066719</td>\n    </tr>\n    <tr>\n      <td>min</td>\n      <td>34.100000</td>\n      <td>0.100000</td>\n      <td>988.910000</td>\n      <td>0.000200</td>\n      <td>0.520000</td>\n      <td>1.740000</td>\n    </tr>\n    <tr>\n      <td>25%</td>\n      <td>41.482500</td>\n      <td>0.970000</td>\n      <td>999.750000</td>\n      <td>0.004900</td>\n      <td>0.860000</td>\n      <td>7.660000</td>\n    </tr>\n    <tr>\n      <td>50%</td>\n      <td>43.820000</td>\n      <td>1.000000</td>\n      <td>1005.945000</td>\n      <td>0.014850</td>\n      <td>0.900000</td>\n      <td>9.890000</td>\n    </tr>\n    <tr>\n      <td>75%</td>\n      <td>44.510000</td>\n      <td>1.000000</td>\n      <td>1011.237500</td>\n      <td>0.060925</td>\n      <td>0.920000</td>\n      <td>11.187500</td>\n    </tr>\n    <tr>\n      <td>max</td>\n      <td>51.240000</td>\n      <td>1.000000</td>\n      <td>1021.790000</td>\n      <td>0.780700</td>\n      <td>0.980000</td>\n      <td>17.160000</td>\n    </tr>\n  </tbody>\n</table>\n</div>"
     },
     "execution_count": 30,
     "metadata": {},
     "output_type": "execute_result"
    }
   ],
   "source": [
    "print(\"Rows with non-null rain value statistics\")\n",
    "weather[weather['rain'].notna()].describe()"
   ],
   "metadata": {
    "collapsed": false,
    "pycharm": {
     "name": "#%%\n"
    }
   }
  },
  {
   "cell_type": "code",
   "execution_count": 31,
   "outputs": [
    {
     "data": {
      "text/plain": "0.0030    85\n0.0020    51\n0.0040    23\n0.0060    17\n0.0050    15\n          ..\n0.1370     1\n0.0664     1\n0.7222     1\n0.0223     1\n0.1561     1\nName: rain, Length: 437, dtype: int64"
     },
     "execution_count": 31,
     "metadata": {},
     "output_type": "execute_result"
    }
   ],
   "source": [
    "weather['rain'].value_counts()"
   ],
   "metadata": {
    "collapsed": false,
    "pycharm": {
     "name": "#%%\n"
    }
   }
  },
  {
   "cell_type": "code",
   "execution_count": 32,
   "outputs": [
    {
     "name": "stdout",
     "output_type": "stream",
     "text": [
      "Values of 0 in the rain feature :0\n"
     ]
    }
   ],
   "source": [
    "print(f\"Values of 0 in the rain feature :{(weather['rain'] == 0).sum()}\")\n",
    "#Rain feature nulls could indicate no rain"
   ],
   "metadata": {
    "collapsed": false,
    "pycharm": {
     "name": "#%%\n"
    }
   }
  },
  {
   "cell_type": "code",
   "execution_count": 33,
   "outputs": [],
   "source": [
    "weather['rain'].fillna(0,inplace=True)"
   ],
   "metadata": {
    "collapsed": false,
    "pycharm": {
     "name": "#%%\n"
    }
   }
  },
  {
   "cell_type": "markdown",
   "source": [
    "# Data Visualization"
   ],
   "metadata": {
    "collapsed": false,
    "pycharm": {
     "name": "#%% md\n"
    }
   }
  },
  {
   "cell_type": "code",
   "execution_count": 34,
   "outputs": [
    {
     "data": {
      "text/plain": "<Figure size 432x288 with 1 Axes>",
      "image/png": "[encoded data removed]"
     },
     "metadata": {
      "needs_background": "light"
     },
     "output_type": "display_data"
    }
   ],
   "source": [
    "taxiRides['cab_type'].hist()\n",
    "plt.show()"
   ],
   "metadata": {
    "collapsed": false,
    "pycharm": {
     "name": "#%%\n"
    }
   }
  },
  {
   "cell_type": "code",
   "execution_count": 35,
   "outputs": [
    {
     "data": {
      "text/plain": "<matplotlib.axes._subplots.AxesSubplot at 0x1c0c7a79cc8>"
     },
     "execution_count": 35,
     "metadata": {},
     "output_type": "execute_result"
    },
    {
     "data": {
      "text/plain": "<Figure size 432x288 with 1 Axes>",
      "image/png": "[encoded data removed]"
     },
     "metadata": {
      "needs_background": "light"
     },
     "output_type": "display_data"
    }
   ],
   "source": [
    "taxiRides['surge_multiplier'].hist()"
   ],
   "metadata": {
    "collapsed": false,
    "pycharm": {
     "name": "#%%\n"
    }
   }
  },
  {
   "cell_type": "markdown",
   "source": [
    "# Preprocessing"
   ],
   "metadata": {
    "collapsed": false,
    "pycharm": {
     "name": "#%% md\n"
    }
   }
  },
  {
   "cell_type": "code",
   "execution_count": 36,
   "outputs": [
    {
     "data": {
      "text/plain": "   distance cab_type         destination                   source  \\\n0      0.62     Uber            West End         Haymarket Square   \n1      2.27     Uber   Boston University              Beacon Hill   \n2      2.00     Lyft            Back Bay         Haymarket Square   \n3      3.98     Lyft  Financial District  Northeastern University   \n4      1.49     Lyft            Back Bay  Northeastern University   \n\n   surge_multiplier                                    id  \\\n0               1.0  c1b4a572-24b2-484d-aac5-b4f97b790480   \n1               1.0  f9e7e7e6-b309-479b-9f90-bf26a1870c81   \n2               1.0  154e8438-46f5-4e5f-9872-15cc95e85eed   \n3               1.0  6bdc30a6-9a80-487b-914e-8d9b82ee4acb   \n4               1.0  0cb12fe9-cd72-4feb-b341-4a566b2e6643   \n\n                             product_id      name RideCategory        date  \\\n0  8cf7e821-f0d3-49c6-8eba-e679c0ebcf6a      Taxi      unknown  2018-12-14   \n1  997acbb5-e102-41e1-b155-9df7de0a73f2  UberPool        cheap  2018-11-28   \n2                                  lyft      Lyft     moderate  2018-12-16   \n3                             lyft_plus   Lyft XL    expensive  2018-11-30   \n4                                  lyft      Lyft        cheap  2018-11-30   \n\n    temp                 location  clouds  pressure    rain  humidity   wind  \n0  27.34         Haymarket Square    0.15   1033.40     NaN      0.81   3.04  \n1  33.67              Beacon Hill    0.12    991.20     NaN      0.82   5.37  \n2  42.34         Haymarket Square    1.00   1012.15  0.2068      0.77  11.49  \n3  38.46  Northeastern University    0.96   1017.24     NaN      0.66   3.31  \n4  38.46  Northeastern University    0.96   1017.24     NaN      0.66   3.31  ",
      "text/html": "<div>\n<style scoped>\n    .dataframe tbody tr th:only-of-type {\n        vertical-align: middle;\n    }\n\n    .dataframe tbody tr th {\n        vertical-align: top;\n    }\n\n    .dataframe thead th {\n        text-align: right;\n    }\n</style>\n<table border=\"1\" class=\"dataframe\">\n  <thead>\n    <tr style=\"text-align: right;\">\n      <th></th>\n      <th>distance</th>\n      <th>cab_type</th>\n      <th>destination</th>\n      <th>source</th>\n      <th>surge_multiplier</th>\n      <th>id</th>\n      <th>product_id</th>\n      <th>name</th>\n      <th>RideCategory</th>\n      <th>date</th>\n      <th>temp</th>\n      <th>location</th>\n      <th>clouds</th>\n      <th>pressure</th>\n      <th>rain</th>\n      <th>humidity</th>\n      <th>wind</th>\n    </tr>\n  </thead>\n  <tbody>\n    <tr>\n      <td>0</td>\n      <td>0.62</td>\n      <td>Uber</td>\n      <td>West End</td>\n      <td>Haymarket Square</td>\n      <td>1.0</td>\n      <td>c1b4a572-24b2-484d-aac5-b4f97b790480</td>\n      <td>8cf7e821-f0d3-49c6-8eba-e679c0ebcf6a</td>\n      <td>Taxi</td>\n      <td>unknown</td>\n      <td>2018-12-14</td>\n      <td>27.34</td>\n      <td>Haymarket Square</td>\n      <td>0.15</td>\n      <td>1033.40</td>\n      <td>NaN</td>\n      <td>0.81</td>\n      <td>3.04</td>\n    </tr>\n    <tr>\n      <td>1</td>\n      <td>2.27</td>\n      <td>Uber</td>\n      <td>Boston University</td>\n      <td>Beacon Hill</td>\n      <td>1.0</td>\n      <td>f9e7e7e6-b309-479b-9f90-bf26a1870c81</td>\n      <td>997acbb5-e102-41e1-b155-9df7de0a73f2</td>\n      <td>UberPool</td>\n      <td>cheap</td>\n      <td>2018-11-28</td>\n      <td>33.67</td>\n      <td>Beacon Hill</td>\n      <td>0.12</td>\n      <td>991.20</td>\n      <td>NaN</td>\n      <td>0.82</td>\n      <td>5.37</td>\n    </tr>\n    <tr>\n      <td>2</td>\n      <td>2.00</td>\n      <td>Lyft</td>\n      <td>Back Bay</td>\n      <td>Haymarket Square</td>\n      <td>1.0</td>\n      <td>154e8438-46f5-4e5f-9872-15cc95e85eed</td>\n      <td>lyft</td>\n      <td>Lyft</td>\n      <td>moderate</td>\n      <td>2018-12-16</td>\n      <td>42.34</td>\n      <td>Haymarket Square</td>\n      <td>1.00</td>\n      <td>1012.15</td>\n      <td>0.2068</td>\n      <td>0.77</td>\n      <td>11.49</td>\n    </tr>\n    <tr>\n      <td>3</td>\n      <td>3.98</td>\n      <td>Lyft</td>\n      <td>Financial District</td>\n      <td>Northeastern University</td>\n      <td>1.0</td>\n      <td>6bdc30a6-9a80-487b-914e-8d9b82ee4acb</td>\n      <td>lyft_plus</td>\n      <td>Lyft XL</td>\n      <td>expensive</td>\n      <td>2018-11-30</td>\n      <td>38.46</td>\n      <td>Northeastern University</td>\n      <td>0.96</td>\n      <td>1017.24</td>\n      <td>NaN</td>\n      <td>0.66</td>\n      <td>3.31</td>\n    </tr>\n    <tr>\n      <td>4</td>\n      <td>1.49</td>\n      <td>Lyft</td>\n      <td>Back Bay</td>\n      <td>Northeastern University</td>\n      <td>1.0</td>\n      <td>0cb12fe9-cd72-4feb-b341-4a566b2e6643</td>\n      <td>lyft</td>\n      <td>Lyft</td>\n      <td>cheap</td>\n      <td>2018-11-30</td>\n      <td>38.46</td>\n      <td>Northeastern University</td>\n      <td>0.96</td>\n      <td>1017.24</td>\n      <td>NaN</td>\n      <td>0.66</td>\n      <td>3.31</td>\n    </tr>\n  </tbody>\n</table>\n</div>"
     },
     "execution_count": 36,
     "metadata": {},
     "output_type": "execute_result"
    }
   ],
   "source": [
    "mergedData.head()"
   ],
   "metadata": {
    "collapsed": false,
    "pycharm": {
     "name": "#%%\n"
    }
   }
  },
  {
   "cell_type": "code",
   "execution_count": 37,
   "outputs": [],
   "source": [
    "preProcessing = PreProcessing()"
   ],
   "metadata": {
    "collapsed": false,
    "pycharm": {
     "name": "#%%\n"
    }
   }
  },
  {
   "cell_type": "code",
   "execution_count": 38,
   "outputs": [],
   "source": [
    "columnsToDrop = ['id', 'date', 'product_id', 'location']"
   ],
   "metadata": {
    "collapsed": false,
    "pycharm": {
     "name": "#%%\n"
    }
   }
  },
  {
   "cell_type": "code",
   "execution_count": 39,
   "outputs": [],
   "source": [
    "mergedData.drop(columnsToDrop,axis = 1,inplace=True)"
   ],
   "metadata": {
    "collapsed": false,
    "pycharm": {
     "name": "#%%\n"
    }
   }
  },
  {
   "cell_type": "code",
   "execution_count": 40,
   "outputs": [
    {
     "data": {
      "text/plain": "   distance cab_type         destination                   source  \\\n0      0.62     Uber            West End         Haymarket Square   \n1      2.27     Uber   Boston University              Beacon Hill   \n2      2.00     Lyft            Back Bay         Haymarket Square   \n3      3.98     Lyft  Financial District  Northeastern University   \n4      1.49     Lyft            Back Bay  Northeastern University   \n\n   surge_multiplier      name RideCategory   temp  clouds  pressure    rain  \\\n0               1.0      Taxi      unknown  27.34    0.15   1033.40     NaN   \n1               1.0  UberPool        cheap  33.67    0.12    991.20     NaN   \n2               1.0      Lyft     moderate  42.34    1.00   1012.15  0.2068   \n3               1.0   Lyft XL    expensive  38.46    0.96   1017.24     NaN   \n4               1.0      Lyft        cheap  38.46    0.96   1017.24     NaN   \n\n   humidity   wind  \n0      0.81   3.04  \n1      0.82   5.37  \n2      0.77  11.49  \n3      0.66   3.31  \n4      0.66   3.31  ",
      "text/html": "<div>\n<style scoped>\n    .dataframe tbody tr th:only-of-type {\n        vertical-align: middle;\n    }\n\n    .dataframe tbody tr th {\n        vertical-align: top;\n    }\n\n    .dataframe thead th {\n        text-align: right;\n    }\n</style>\n<table border=\"1\" class=\"dataframe\">\n  <thead>\n    <tr style=\"text-align: right;\">\n      <th></th>\n      <th>distance</th>\n      <th>cab_type</th>\n      <th>destination</th>\n      <th>source</th>\n      <th>surge_multiplier</th>\n      <th>name</th>\n      <th>RideCategory</th>\n      <th>temp</th>\n      <th>clouds</th>\n      <th>pressure</th>\n      <th>rain</th>\n      <th>humidity</th>\n      <th>wind</th>\n    </tr>\n  </thead>\n  <tbody>\n    <tr>\n      <td>0</td>\n      <td>0.62</td>\n      <td>Uber</td>\n      <td>West End</td>\n      <td>Haymarket Square</td>\n      <td>1.0</td>\n      <td>Taxi</td>\n      <td>unknown</td>\n      <td>27.34</td>\n      <td>0.15</td>\n      <td>1033.40</td>\n      <td>NaN</td>\n      <td>0.81</td>\n      <td>3.04</td>\n    </tr>\n    <tr>\n      <td>1</td>\n      <td>2.27</td>\n      <td>Uber</td>\n      <td>Boston University</td>\n      <td>Beacon Hill</td>\n      <td>1.0</td>\n      <td>UberPool</td>\n      <td>cheap</td>\n      <td>33.67</td>\n      <td>0.12</td>\n      <td>991.20</td>\n      <td>NaN</td>\n      <td>0.82</td>\n      <td>5.37</td>\n    </tr>\n    <tr>\n      <td>2</td>\n      <td>2.00</td>\n      <td>Lyft</td>\n      <td>Back Bay</td>\n      <td>Haymarket Square</td>\n      <td>1.0</td>\n      <td>Lyft</td>\n      <td>moderate</td>\n      <td>42.34</td>\n      <td>1.00</td>\n      <td>1012.15</td>\n      <td>0.2068</td>\n      <td>0.77</td>\n      <td>11.49</td>\n    </tr>\n    <tr>\n      <td>3</td>\n      <td>3.98</td>\n      <td>Lyft</td>\n      <td>Financial District</td>\n      <td>Northeastern University</td>\n      <td>1.0</td>\n      <td>Lyft XL</td>\n      <td>expensive</td>\n      <td>38.46</td>\n      <td>0.96</td>\n      <td>1017.24</td>\n      <td>NaN</td>\n      <td>0.66</td>\n      <td>3.31</td>\n    </tr>\n    <tr>\n      <td>4</td>\n      <td>1.49</td>\n      <td>Lyft</td>\n      <td>Back Bay</td>\n      <td>Northeastern University</td>\n      <td>1.0</td>\n      <td>Lyft</td>\n      <td>cheap</td>\n      <td>38.46</td>\n      <td>0.96</td>\n      <td>1017.24</td>\n      <td>NaN</td>\n      <td>0.66</td>\n      <td>3.31</td>\n    </tr>\n  </tbody>\n</table>\n</div>"
     },
     "execution_count": 40,
     "metadata": {},
     "output_type": "execute_result"
    }
   ],
   "source": [
    "mergedData.head()"
   ],
   "metadata": {
    "collapsed": false,
    "pycharm": {
     "name": "#%%\n"
    }
   }
  },
  {
   "cell_type": "code",
   "execution_count": 41,
   "outputs": [
    {
     "data": {
      "text/plain": "distance                 0\ncab_type                 0\ndestination              0\nsource                   0\nsurge_multiplier         0\nname                     0\nRideCategory             0\ntemp                     0\nclouds                   0\npressure                 0\nrain                480515\nhumidity                 0\nwind                     0\ndtype: int64"
     },
     "execution_count": 41,
     "metadata": {},
     "output_type": "execute_result"
    }
   ],
   "source": [
    "mergedData.isnull().sum()"
   ],
   "metadata": {
    "collapsed": false,
    "pycharm": {
     "name": "#%%\n"
    }
   }
  },
  {
   "cell_type": "markdown",
   "source": [
    "## Encoding"
   ],
   "metadata": {
    "collapsed": false,
    "pycharm": {
     "name": "#%% md\n"
    }
   }
  },
  {
   "cell_type": "markdown",
   "source": [
    "###  <i>name</i> Feature"
   ],
   "metadata": {
    "collapsed": false,
    "pycharm": {
     "name": "#%% md\n"
    }
   }
  },
  {
   "cell_type": "code",
   "execution_count": 42,
   "outputs": [],
   "source": [
    "preProcessing.encodeManually(mergedData['name'], PreProcessing.nameFeatureMap)"
   ],
   "metadata": {
    "collapsed": false,
    "pycharm": {
     "name": "#%%\n"
    }
   }
  },
  {
   "cell_type": "code",
   "execution_count": 43,
   "outputs": [],
   "source": [
    "preProcessing.encodeManually(mergedData['RideCategory'], PreProcessing.labelFeatureMap)"
   ],
   "metadata": {
    "collapsed": false,
    "pycharm": {
     "name": "#%%\n"
    }
   }
  },
  {
   "cell_type": "markdown",
   "source": [
    "### Other Features"
   ],
   "metadata": {
    "collapsed": false,
    "pycharm": {
     "name": "#%% md\n"
    }
   }
  },
  {
   "cell_type": "code",
   "execution_count": 44,
   "outputs": [
    {
     "name": "stdout",
     "output_type": "stream",
     "text": [
      "Non Integer Columns : ['cab_type', 'destination', 'source']\n"
     ]
    }
   ],
   "source": [
    "nonIntegerColumns = [col for col in mergedData.columns if mergedData[col].dtypes == object]\n",
    "print(f\"Non Integer Columns : {nonIntegerColumns}\")"
   ],
   "metadata": {
    "collapsed": false,
    "pycharm": {
     "name": "#%%\n"
    }
   }
  },
  {
   "cell_type": "code",
   "execution_count": 45,
   "outputs": [],
   "source": [
    "preProcessing.encode(mergedData,nonIntegerColumns)"
   ],
   "metadata": {
    "collapsed": false,
    "pycharm": {
     "name": "#%%\n"
    }
   }
  },
  {
   "cell_type": "markdown",
   "source": [
    "### Rain Feature Engineering"
   ],
   "metadata": {
    "collapsed": false,
    "pycharm": {
     "name": "#%% md\n"
    }
   }
  },
  {
   "cell_type": "code",
   "execution_count": 46,
   "outputs": [
    {
     "data": {
      "text/plain": "count    73941.00000\nmean         0.08632\nstd          0.07043\nmin          0.00230\n25%          0.02990\n50%          0.03250\n75%          0.14280\nmax          0.20880\nName: rain, dtype: float64"
     },
     "execution_count": 46,
     "metadata": {},
     "output_type": "execute_result"
    }
   ],
   "source": [
    "mergedData['rain'].describe()"
   ],
   "metadata": {
    "collapsed": false,
    "pycharm": {
     "name": "#%%\n"
    }
   }
  },
  {
   "cell_type": "markdown",
   "source": [
    "Referring to google:\n",
    "<blockquote>Light rainfall is considered <b>less than 0.10 inches</b> of rain per hour. Moderate rainfall measures <b>0.10 to 0.30 inches</b> of rain per hour. Heavy rainfall is more than <b>0.30 inches</b>\n",
    " of rain per hour.</blockquote>\n",
    "0 : no rain <br>\n",
    "1 : light rain <br>\n",
    "2 : mid rain <br>\n",
    "3 : heavy rain (doesn't exist in the data)"
   ],
   "metadata": {
    "collapsed": false,
    "pycharm": {
     "name": "#%% md\n"
    }
   }
  },
  {
   "cell_type": "code",
   "execution_count": 47,
   "outputs": [],
   "source": [
    "mergedData['rainType'] = 0"
   ],
   "metadata": {
    "collapsed": false,
    "pycharm": {
     "name": "#%%\n"
    }
   }
  },
  {
   "cell_type": "code",
   "execution_count": 48,
   "outputs": [],
   "source": [
    "mergedData['rainType'][(mergedData['rain'] > 0) & (mergedData['rain'] < 0.1)] = 1"
   ],
   "metadata": {
    "collapsed": false,
    "pycharm": {
     "name": "#%%\n"
    }
   }
  },
  {
   "cell_type": "code",
   "execution_count": 49,
   "outputs": [],
   "source": [
    "mergedData['rainType'][(mergedData['rain'] > 0.1) & (mergedData['rain'] < 0.3)] = 2"
   ],
   "metadata": {
    "collapsed": false,
    "pycharm": {
     "name": "#%%\n"
    }
   }
  },
  {
   "cell_type": "code",
   "execution_count": 50,
   "outputs": [
    {
     "data": {
      "text/plain": "0    480515\n1     42966\n2     30975\nName: rainType, dtype: int64"
     },
     "execution_count": 50,
     "metadata": {},
     "output_type": "execute_result"
    }
   ],
   "source": [
    "mergedData['rainType'].value_counts()"
   ],
   "metadata": {
    "collapsed": false,
    "pycharm": {
     "name": "#%%\n"
    }
   }
  },
  {
   "cell_type": "markdown",
   "source": [
    "## Clouds engineering\n",
    "making the assumption that clouds are on normalized [Okta Scale](https://polarpedia.eu/en/okta-scale/) that means values less than 0.1 are sunny days"
   ],
   "metadata": {
    "collapsed": false,
    "pycharm": {
     "name": "#%% md\n"
    }
   }
  },
  {
   "cell_type": "code",
   "execution_count": 51,
   "outputs": [],
   "source": [
    "mergedData['sunnyDay'] = 0"
   ],
   "metadata": {
    "collapsed": false,
    "pycharm": {
     "name": "#%%\n"
    }
   }
  },
  {
   "cell_type": "code",
   "execution_count": 52,
   "outputs": [],
   "source": [
    "mergedData['sunnyDay'][mergedData['clouds'] <= 0.1] = 1"
   ],
   "metadata": {
    "collapsed": false,
    "pycharm": {
     "name": "#%%\n"
    }
   }
  },
  {
   "cell_type": "code",
   "execution_count": 53,
   "outputs": [
    {
     "data": {
      "text/plain": "0    546501\n1      7955\nName: sunnyDay, dtype: int64"
     },
     "execution_count": 53,
     "metadata": {},
     "output_type": "execute_result"
    }
   ],
   "source": [
    "mergedData['sunnyDay'].value_counts()"
   ],
   "metadata": {
    "collapsed": false,
    "pycharm": {
     "name": "#%%\n"
    }
   }
  },
  {
   "cell_type": "markdown",
   "source": [
    "### Correlation Before PCA"
   ],
   "metadata": {
    "collapsed": false,
    "pycharm": {
     "name": "#%% md\n"
    }
   }
  },
  {
   "cell_type": "code",
   "execution_count": 54,
   "outputs": [
    {
     "data": {
      "text/plain": "<Figure size 1152x720 with 2 Axes>",
      "image/png": "[encoded data removed]"
     },
     "metadata": {
      "needs_background": "light"
     },
     "output_type": "display_data"
    }
   ],
   "source": [
    "plt.figure(figsize = (16, 10))\n",
    "\n",
    "ax = sns.heatmap(mergedData.corr(), annot = True)\n",
    "ax.tick_params(axis = 'x', rotation = 60)\n",
    "ax.tick_params(axis = 'y', rotation = 0)\n",
    "# these two lines are meant to fix a bug in matplotlib's current version\n",
    "# where the graph top and bot rows are cut in half (I copied them from stackoverflow)\n",
    "bottom, top = ax.get_ylim()\n",
    "ax.set_ylim(bottom + 0.5, top - 0.5)\n",
    "\n",
    "plt.show()"
   ],
   "metadata": {
    "collapsed": false,
    "pycharm": {
     "name": "#%%\n"
    }
   }
  },
  {
   "cell_type": "markdown",
   "source": [
    "### Dimentionality Reduction"
   ],
   "metadata": {
    "collapsed": false,
    "pycharm": {
     "name": "#%% md\n"
    }
   }
  },
  {
   "cell_type": "code",
   "execution_count": 55,
   "outputs": [],
   "source": [
    "subsetOfData = mergedData[['temp','sunnyDay','rainType','wind','pressure','humidity']]\n",
    "mergedData.drop(['temp','clouds','sunnyDay','rainType','rain','wind','pressure','humidity'],axis=1,inplace=True)"
   ],
   "metadata": {
    "collapsed": false,
    "pycharm": {
     "name": "#%%\n"
    }
   }
  },
  {
   "cell_type": "code",
   "execution_count": 56,
   "outputs": [],
   "source": [
    "lowerDimensionWeatherData =preProcessing.reduceDimentionsOf(subsetOfData)\n",
    "mergedData['weatherState'] = lowerDimensionWeatherData"
   ],
   "metadata": {
    "collapsed": false,
    "pycharm": {
     "name": "#%%\n"
    }
   }
  },
  {
   "cell_type": "markdown",
   "source": [
    "### Correlation Before PCA"
   ],
   "metadata": {
    "collapsed": false,
    "pycharm": {
     "name": "#%% md\n"
    }
   }
  },
  {
   "cell_type": "code",
   "execution_count": 57,
   "outputs": [
    {
     "data": {
      "text/plain": "<Figure size 720x720 with 2 Axes>",
      "image/png": "[encoded data removed]"
     },
     "metadata": {
      "needs_background": "light"
     },
     "output_type": "display_data"
    }
   ],
   "source": [
    "plt.figure(figsize = (10, 10))\n",
    "\n",
    "ax = sns.heatmap(mergedData.corr(), annot = True)\n",
    "ax.tick_params(axis = 'x', rotation = 60)\n",
    "ax.tick_params(axis = 'y', rotation = 0)\n",
    "# these two lines are meant to fix a bug in matplotlib's current version\n",
    "# where the graph top and bot rows are cut in half (I copied them from stackoverflow)\n",
    "bottom, top = ax.get_ylim()\n",
    "ax.set_ylim(bottom + 0.5, top - 0.5)\n",
    "\n",
    "plt.show()"
   ],
   "metadata": {
    "collapsed": false,
    "pycharm": {
     "name": "#%%\n"
    }
   }
  },
  {
   "cell_type": "markdown",
   "source": [
    "# Model"
   ],
   "metadata": {
    "collapsed": false,
    "pycharm": {
     "name": "#%% md\n"
    }
   }
  },
  {
   "cell_type": "code",
   "execution_count": 58,
   "outputs": [],
   "source": [
    "from sklearn.model_selection import RandomizedSearchCV, GridSearchCV\n",
    "from scipy.stats import uniform"
   ],
   "metadata": {
    "collapsed": false,
    "pycharm": {
     "name": "#%%\n"
    }
   }
  },
  {
   "cell_type": "code",
   "execution_count": 59,
   "outputs": [],
   "source": [
    "dataFeatures = mergedData.drop(['RideCategory'],axis=1)\n",
    "dataLabel = mergedData['RideCategory']"
   ],
   "metadata": {
    "collapsed": false,
    "pycharm": {
     "name": "#%%\n"
    }
   }
  },
  {
   "cell_type": "code",
   "execution_count": 60,
   "outputs": [
    {
     "data": {
      "text/plain": "   distance  cab_type  destination  source  surge_multiplier  name  \\\n0      0.62         1           12       5               1.0     0   \n1      2.27         1            2       1               1.0     1   \n2      2.00         0            0       5               1.0     1   \n3      3.98         0            4       8               1.0     2   \n4      1.49         0            0       8               1.0     1   \n\n   weatherState  \n0     26.134730  \n1    -16.492402  \n2      2.092880  \n3      8.657758  \n4      8.657758  ",
      "text/html": "<div>\n<style scoped>\n    .dataframe tbody tr th:only-of-type {\n        vertical-align: middle;\n    }\n\n    .dataframe tbody tr th {\n        vertical-align: top;\n    }\n\n    .dataframe thead th {\n        text-align: right;\n    }\n</style>\n<table border=\"1\" class=\"dataframe\">\n  <thead>\n    <tr style=\"text-align: right;\">\n      <th></th>\n      <th>distance</th>\n      <th>cab_type</th>\n      <th>destination</th>\n      <th>source</th>\n      <th>surge_multiplier</th>\n      <th>name</th>\n      <th>weatherState</th>\n    </tr>\n  </thead>\n  <tbody>\n    <tr>\n      <td>0</td>\n      <td>0.62</td>\n      <td>1</td>\n      <td>12</td>\n      <td>5</td>\n      <td>1.0</td>\n      <td>0</td>\n      <td>26.134730</td>\n    </tr>\n    <tr>\n      <td>1</td>\n      <td>2.27</td>\n      <td>1</td>\n      <td>2</td>\n      <td>1</td>\n      <td>1.0</td>\n      <td>1</td>\n      <td>-16.492402</td>\n    </tr>\n    <tr>\n      <td>2</td>\n      <td>2.00</td>\n      <td>0</td>\n      <td>0</td>\n      <td>5</td>\n      <td>1.0</td>\n      <td>1</td>\n      <td>2.092880</td>\n    </tr>\n    <tr>\n      <td>3</td>\n      <td>3.98</td>\n      <td>0</td>\n      <td>4</td>\n      <td>8</td>\n      <td>1.0</td>\n      <td>2</td>\n      <td>8.657758</td>\n    </tr>\n    <tr>\n      <td>4</td>\n      <td>1.49</td>\n      <td>0</td>\n      <td>0</td>\n      <td>8</td>\n      <td>1.0</td>\n      <td>1</td>\n      <td>8.657758</td>\n    </tr>\n  </tbody>\n</table>\n</div>"
     },
     "execution_count": 60,
     "metadata": {},
     "output_type": "execute_result"
    }
   ],
   "source": [
    "dataFeatures.head()"
   ],
   "metadata": {
    "collapsed": false,
    "pycharm": {
     "name": "#%%\n"
    }
   }
  },
  {
   "cell_type": "code",
   "execution_count": 61,
   "outputs": [],
   "source": [
    "model = Model()"
   ],
   "metadata": {
    "collapsed": false,
    "pycharm": {
     "name": "#%%\n"
    }
   }
  },
  {
   "cell_type": "code",
   "execution_count": 62,
   "outputs": [],
   "source": [
    "splitData = model.splitData(dataFeatures,dataLabel)\n",
    "preProcessing.scale(splitData['trainFeatures'],'minMax',splitData['testFeatures'])"
   ],
   "metadata": {
    "collapsed": false,
    "pycharm": {
     "name": "#%%\n"
    }
   }
  },
  {
   "cell_type": "markdown",
   "source": [
    "### Linear Logistic"
   ],
   "metadata": {
    "collapsed": false,
    "pycharm": {
     "name": "#%% md\n"
    }
   }
  },
  {
   "cell_type": "code",
   "execution_count": 63,
   "outputs": [],
   "source": [
    "# searchParameters = {'solver' : ['lbfgs', 'sag'],\n",
    "#                     'penalty': ['l2', 'none'],\n",
    "#                     'C' : uniform(loc=0, scale=10)}\n",
    "# logisticParamSearch = RandomizedSearchCV(linear_model.LogisticRegression(), searchParameters, n_iter = 2)"
   ],
   "metadata": {
    "collapsed": false,
    "pycharm": {
     "name": "#%%\n"
    }
   }
  },
  {
   "cell_type": "code",
   "execution_count": 64,
   "outputs": [],
   "source": [
    "# logisticParamSearch.fit(splitData['trainFeatures'], splitData['trainLabel'])\n",
    "# logisticParamSearch.best_params_"
   ],
   "metadata": {
    "collapsed": false,
    "pycharm": {
     "name": "#%%\n"
    }
   }
  },
  {
   "cell_type": "code",
   "execution_count": 65,
   "outputs": [
    {
     "name": "stdout",
     "output_type": "stream",
     "text": [
      "Training Accuracy : 0.8348603583699309\n",
      "Training f1_score : 0.834860358369931\n",
      "\n",
      "Test Accuracy : 0.8341539515925405\n",
      "Test f1_score : 0.8341539515925404\n"
     ]
    }
   ],
   "source": [
    "params = {'solver' : 'lbfgs',\n",
    "          'multi_class' : 'multinomial', \n",
    "          'C' : 0.47469656914931324,\n",
    "          'penalty' : 'none' ,\n",
    "          'random_state':RANDOM_STATE}\n",
    "logisticRegression = model.fitClassificationModel(linear_model.LogisticRegression,\n",
    "                                                 params,\n",
    "                                                 evaluationFunction= metrics.f1_score,\n",
    "                                                 dataDictionary= splitData)"
   ],
   "metadata": {
    "collapsed": false,
    "pycharm": {
     "name": "#%%\n"
    }
   }
  },
  {
   "cell_type": "markdown",
   "source": [
    "### Polynomial Logistic"
   ],
   "metadata": {
    "collapsed": false,
    "pycharm": {
     "name": "#%% md\n"
    }
   }
  },
  {
   "cell_type": "code",
   "execution_count": 66,
   "outputs": [],
   "source": [
    "polyDegree = 3"
   ],
   "metadata": {
    "collapsed": false,
    "pycharm": {
     "name": "#%%\n"
    }
   }
  },
  {
   "cell_type": "code",
   "execution_count": 67,
   "outputs": [],
   "source": [
    "polyFeaturesTrain  = model.changeDegreeOf(splitData['trainFeatures'], polyDegree)\n",
    "polyFeaturesValidation = model.changeDegreeOf(splitData['testFeatures'], polyDegree)\n",
    "\n",
    "polyData = splitData.copy()\n",
    "polyData['trainFeatures'] = polyFeaturesTrain\n",
    "polyData['testFeatures']  = polyFeaturesValidation"
   ],
   "metadata": {
    "collapsed": false,
    "pycharm": {
     "name": "#%%\n"
    }
   }
  },
  {
   "cell_type": "code",
   "execution_count": 68,
   "outputs": [
    {
     "name": "stdout",
     "output_type": "stream",
     "text": [
      "Training Accuracy : 0.8533695250290826\n",
      "Training f1_score : 0.8533695250290825\n",
      "\n",
      "Test Accuracy : 0.8521624643797568\n",
      "Test f1_score : 0.8521624643797568\n"
     ]
    }
   ],
   "source": [
    "params = {'solver' : 'lbfgs',\n",
    "          'multi_class' : 'multinomial', \n",
    "          'C' : 0.47469656914931324,\n",
    "          'penalty' : 'none' ,\n",
    "          'random_state':RANDOM_STATE}\n",
    "polyModel = model.fitClassificationModel(linear_model.LogisticRegression,\n",
    "                                         params,\n",
    "                                         evaluationFunction= metrics.f1_score,\n",
    "                                         dataDictionary=polyData)"
   ],
   "metadata": {
    "collapsed": false,
    "pycharm": {
     "name": "#%%\n"
    }
   }
  },
  {
   "cell_type": "markdown",
   "source": [
    "### Decision Tree"
   ],
   "metadata": {
    "collapsed": false,
    "pycharm": {
     "name": "#%% md\n"
    }
   }
  },
  {
   "cell_type": "code",
   "execution_count": 69,
   "outputs": [],
   "source": [
    "# searchParameters = {'criterion' : ['gini', 'entropy'],\n",
    "#                     'min_samples_split': [i for i in range(1, 1001, 100)],\n",
    "#                     'max_depth' : [i for i in range(10, 50, 5)]}\n",
    "# treeParamSearch = RandomizedSearchCV(DecisionTreeClassifier(), searchParameters, n_iter = 10)"
   ],
   "metadata": {
    "collapsed": false,
    "pycharm": {
     "name": "#%%\n"
    }
   }
  },
  {
   "cell_type": "code",
   "execution_count": 70,
   "outputs": [],
   "source": [
    "# treeParamSearch.fit(dataFeatures, dataLabel)\n",
    "# treeParamSearch.best_params"
   ],
   "metadata": {
    "collapsed": false,
    "pycharm": {
     "name": "#%%\n"
    }
   }
  },
  {
   "cell_type": "code",
   "execution_count": 71,
   "outputs": [
    {
     "name": "stdout",
     "output_type": "stream",
     "text": [
      "Training Accuracy : 0.8682151842800588\n",
      "Training f1_score : 0.8682151842800588\n",
      "\n",
      "Test Accuracy : 0.864417631569455\n",
      "Test f1_score : 0.864417631569455\n"
     ]
    }
   ],
   "source": [
    "params = {'criterion' : 'entropy', 'max_depth' : 30 ,'random_state' : RANDOM_STATE, 'min_samples_split' : 501}\n",
    "tree = model.fitClassificationModel(DecisionTreeClassifier,\n",
    "                                     params,\n",
    "                                     evaluationFunction= metrics.f1_score,\n",
    "                                     dataDictionary=splitData)"
   ],
   "metadata": {
    "collapsed": false,
    "pycharm": {
     "name": "#%%\n"
    }
   }
  },
  {
   "cell_type": "markdown",
   "source": [
    "### Random Forest"
   ],
   "metadata": {
    "collapsed": false,
    "pycharm": {
     "name": "#%% md\n"
    }
   }
  },
  {
   "cell_type": "code",
   "execution_count": 72,
   "outputs": [],
   "source": [
    "searchParameters = {'criterion' : ['gini', 'entropy'],\n",
    "                    'min_samples_split': [i for i in range(1, 1001, 100)],\n",
    "                    'max_depth' : [i for i in range(10, 50, 5)],\n",
    "                    'n_estimators' : [i for i in range(10, 101, 10)]}\n",
    "forestParamSearch = RandomizedSearchCV(RandomForestClassifier(), searchParameters, n_iter = 2)"
   ],
   "metadata": {
    "collapsed": false,
    "pycharm": {
     "name": "#%%\n"
    }
   }
  },
  {
   "cell_type": "code",
   "execution_count": null,
   "outputs": [],
   "source": [
    "# forestParamSearch.fit(dataFeatures, dataLabel)\n",
    "# forestParamSearch.best_params_"
   ],
   "metadata": {
    "collapsed": false,
    "pycharm": {
     "name": "#%%\n",
     "is_executing": true
    }
   }
  },
  {
   "cell_type": "code",
   "execution_count": 74,
   "outputs": [
    {
     "name": "stdout",
     "output_type": "stream",
     "text": [
      "Training Accuracy : 0.8683527067119965\n",
      "Training f1_score : 0.8683527067119965\n",
      "\n",
      "Test Accuracy : 0.8646250405800238\n",
      "Test f1_score : 0.8646250405800238\n"
     ]
    }
   ],
   "source": [
    "params = {'criterion'  : 'entropy' , \n",
    "          'max_depth' : 30,\n",
    "          'min_samples_split' : 500,\n",
    "          'n_estimators' : 50, \n",
    "          'random_state' : RANDOM_STATE,}\n",
    "forest = model.fitClassificationModel(RandomForestClassifier,\n",
    "                                     params,\n",
    "                                     evaluationFunction= metrics.f1_score,\n",
    "                                     dataDictionary=splitData)"
   ],
   "metadata": {
    "collapsed": false,
    "pycharm": {
     "name": "#%%\n"
    }
   }
  },
  {
   "cell_type": "markdown",
   "source": [
    "### SVM"
   ],
   "metadata": {
    "collapsed": false,
    "pycharm": {
     "name": "#%% md\n"
    }
   }
  },
  {
   "cell_type": "code",
   "execution_count": 75,
   "outputs": [],
   "source": [
    "# params = {'C' : 10, 'random_state' : RANDOM_STATE}\n",
    "# svm = model.fitClassificationModel(SVC,\n",
    "#                                     params,\n",
    "#                                     evaluationFunction= metrics.f1_score,\n",
    "#                                     dataDictionary=splitScaledData)"
   ],
   "metadata": {
    "collapsed": false,
    "pycharm": {
     "name": "#%%\n"
    }
   }
  },
  {
   "cell_type": "markdown",
   "source": [
    "### Saving Encoders and Models"
   ],
   "metadata": {
    "collapsed": false,
    "pycharm": {
     "name": "#%% md\n"
    }
   }
  },
  {
   "cell_type": "code",
   "execution_count": 76,
   "outputs": [],
   "source": [
    "models = {\n",
    "    'LogisticRegression':logisticRegression,\n",
    "    'PolynomialLogistic':polyModel,\n",
    "    'DecisionTree': tree,\n",
    "    'RandomForest': forest,\n",
    "    # 'SVM': svm\n",
    "}"
   ],
   "metadata": {
    "collapsed": false,
    "pycharm": {
     "name": "#%%\n"
    }
   }
  },
  {
   "cell_type": "code",
   "execution_count": 77,
   "outputs": [],
   "source": [
    "imputers = {}\n",
    "for feature in taxiRides.columns:\n",
    "    if taxiRides[feature].dtype == object:\n",
    "        imputers[feature]=taxiRides[feature].mode()[0]\n",
    "    else:\n",
    "        imputers[feature]=taxiRides[feature].mean()"
   ],
   "metadata": {
    "collapsed": false,
    "pycharm": {
     "name": "#%%\n"
    }
   }
  },
  {
   "cell_type": "code",
   "execution_count": 78,
   "outputs": [],
   "source": [
    "classification_cache ={\n",
    "    'models': models,\n",
    "    'encoders': preProcessing.encoders,\n",
    "    'scalers': preProcessing.scalingCache,\n",
    "    'imputers': imputers,\n",
    "    'categoricalFeaturesValues': preProcessing.featuresUniqueValues\n",
    "}"
   ],
   "metadata": {
    "collapsed": false,
    "pycharm": {
     "name": "#%%\n"
    }
   }
  },
  {
   "cell_type": "code",
   "execution_count": 79,
   "outputs": [],
   "source": [
    "from pickle import dump\n",
    "filename = 'classification_cache'\n",
    "dump(classification_cache, open('classification_cache', 'wb'))"
   ],
   "metadata": {
    "collapsed": false,
    "pycharm": {
     "name": "#%%\n"
    }
   }
  },
  {
   "cell_type": "markdown",
   "source": [
    "### SVM"
   ],
   "metadata": {
    "collapsed": false,
    "pycharm": {
     "name": "#%% md\n"
    },
    "id": "iwOIMmGzfpX2"
   }
  },
  {
   "cell_type": "code",
   "execution_count": null,
   "source": [
    "# params = {'C' : 10, 'random_state' : RANDOM_STATE}\n",
    "# svm = model.fitClassificationModel(SVC,\n",
    "#                                     params,\n",
    "#                                     evaluationFunction= metrics.f1_score,\n",
    "#                                     dataDictionary=splitScaledData)"
   ],
   "outputs": [],
   "metadata": {
    "pycharm": {
     "name": "#%%\n"
    },
    "id": "4CEP5vhcfpX2"
   }
  },
  {
   "cell_type": "markdown",
   "source": [
    "### Saving Encoders and Models"
   ],
   "metadata": {
    "collapsed": false,
    "pycharm": {
     "name": "#%% md\n"
    },
    "id": "TCWueuoSfpX2"
   }
  },
  {
   "cell_type": "code",
   "execution_count": null,
   "source": [
    "models = {\n",
    "    'LogisticRegression':logisticRegression,\n",
    "    'PolynomialLogistic':polyModel,\n",
    "    'DecisionTree': tree,\n",
    "    'RandomForest': forest,\n",
    "    # 'SVM': svm\n",
    "}"
   ],
   "outputs": [],
   "metadata": {
    "pycharm": {
     "name": "#%%\n"
    },
    "id": "BEEH6Yb2fpX2"
   }
  },
  {
   "cell_type": "code",
   "execution_count": null,
   "source": [
    "imputers = {}\n",
    "for feature in taxiRides.columns:\n",
    "    if taxiRides[feature].dtype == object:\n",
    "        imputers[feature]=taxiRides[feature].mode()[0]\n",
    "    else:\n",
    "        imputers[feature]=taxiRides[feature].mean()"
   ],
   "outputs": [],
   "metadata": {
    "pycharm": {
     "name": "#%%\n"
    },
    "id": "b5MaeV9xfpX3"
   }
  },
  {
   "cell_type": "code",
   "execution_count": null,
   "source": [
    "classification_cache ={\n",
    "    'models': models,\n",
    "    'encoders': preProcessing.encoders,\n",
    "    'scalers': preProcessing.scalingCache,\n",
    "    'imputers': imputers,\n",
    "    'categoricalFeaturesValues': preProcessing.featuresUniqueValues\n",
    "}"
   ],
   "outputs": [],
   "metadata": {
    "pycharm": {
     "name": "#%%\n"
    },
    "id": "apiPf5hWfpX3"
   }
  },
  {
   "cell_type": "code",
   "execution_count": null,
   "source": [
    "from pickle import dump\n",
    "filename = 'classification_cache'\n",
    "dump(classification_cache, open('classification_cache', 'wb'))"
   ],
   "outputs": [],
   "metadata": {
    "pycharm": {
     "name": "#%%\n"
    },
    "id": "zBJElBR1fpX3"
   }
  }
 ],
 "metadata": {
  "colab": {
   "collapsed_sections": [],
   "name": "Classification.ipynb",
   "provenance": []
  },
  "interpreter": {
   "hash": "916dbcbb3f70747c44a77c7bcd40155683ae19c65e1c03b4aa3499c5328201f1"
  },
  "kernelspec": {
   "name": "python3",
   "display_name": "Python 3.9.5 64-bit"
  },
  "language_info": {
   "codemirror_mode": {
    "name": "ipython",
    "version": 3
   },
   "file_extension": ".py",
   "mimetype": "text/x-python",
   "name": "python",
   "nbconvert_exporter": "python",
   "pygments_lexer": "ipython3",
   "version": "3.9.5"
  }
 },
 "nbformat": 4,
 "nbformat_minor": 0
}