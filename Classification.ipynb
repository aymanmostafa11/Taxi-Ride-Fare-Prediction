{
  "cells": [
    {
      "cell_type": "code",
      "execution_count": 1,
      "source": [
        "#import gdown\n",
        "#gdown.download_folder('https://drive.google.com/drive/folders/1fBs3klrABIbNxvReGZ96lLdOnLTRYEZ5?usp=sharing')"
      ],
      "outputs": [],
      "metadata": {
        "pycharm": {
          "name": "#%%\n"
        },
        "id": "yYugvSNG9Bmd",
        "outputId": "b3f44a02-a5e3-49da-892d-1815090dc995",
        "colab": {
          "base_uri": "https://localhost:8080/"
        }
      }
    },
    {
      "cell_type": "code",
      "execution_count": 2,
      "source": [
        "#!curl --remote-name https://raw.githubusercontent.com/aymanmostafa11/Taxi-Ride-Fare-Prediction/main/helpers.py"
      ],
      "outputs": [],
      "metadata": {
        "pycharm": {
          "name": "#%%\n"
        },
        "id": "g3ire2De9Bmh",
        "outputId": "455ff434-211c-44da-98d0-c4ca60f2f1e1",
        "colab": {
          "base_uri": "https://localhost:8080/"
        }
      }
    },
    {
      "cell_type": "code",
      "execution_count": 3,
      "source": [
        "import sys\n",
        "\n",
        "import numpy as np\n",
        "import pandas as pd\n",
        "import matplotlib.pyplot as plt\n",
        "import seaborn as sns\n",
        "\n",
        "from sklearn import linear_model\n",
        "from sklearn import metrics\n",
        "from sklearn.tree import DecisionTreeClassifier\n",
        "from sklearn.ensemble import RandomForestClassifier\n",
        "from sklearn.svm import SVC\n",
        "\n",
        "from helpers import Model , PreProcessing\n",
        "\n",
        "import warnings\n",
        "warnings.filterwarnings(\"ignore\")"
      ],
      "outputs": [],
      "metadata": {
        "pycharm": {
          "name": "#%%\n"
        },
        "id": "zAn-iosa9Bmi"
      }
    },
    {
      "cell_type": "code",
      "execution_count": 4,
      "source": [
        "RANDOM_STATE = 42"
      ],
      "outputs": [],
      "metadata": {
        "pycharm": {
          "name": "#%%\n"
        },
        "id": "stKOPNFu9Bmj"
      }
    },
    {
      "cell_type": "code",
      "execution_count": 5,
      "source": [
        "dataPath = 'classification'"
      ],
      "outputs": [],
      "metadata": {
        "pycharm": {
          "name": "#%%\n"
        },
        "id": "TMScdNPj9Bmk"
      }
    },
    {
      "cell_type": "code",
      "execution_count": 6,
      "source": [
        "taxiRides = pd.read_csv('taxi/taxi-rides-classification.csv')\n",
        "weather = pd.read_csv('taxi/weather.csv')\n",
        "\n",
        "#taxiRides = pd.read_csv(dataPath+'/taxi-rides-classification.csv')\n",
        "#weather = pd.read_csv(dataPath + '/weather.csv')\n",
        "\n",
        "# taxiRides = pd.read_csv('‪classification‬‏/taxi-rides-classification.csv')\n",
        "# weather = pd.read_csv('‪classification‬‏/weather.csv')"
      ],
      "outputs": [],
      "metadata": {
        "pycharm": {
          "name": "#%%\n"
        },
        "id": "oZeXO4ey9Bmk"
      }
    },
    {
      "cell_type": "code",
      "execution_count": 7,
      "source": [
        "print(f\"Taxi Rides has {taxiRides.shape[0]} Rows and {taxiRides.shape[1]} Columns\")\n",
        "taxiRides.head()"
      ],
      "outputs": [
        {
          "output_type": "stream",
          "name": "stdout",
          "text": [
            "Taxi Rides has 554456 Rows and 10 Columns\n"
          ]
        },
        {
          "output_type": "execute_result",
          "data": {
            "text/html": [
              "<div>\n",
              "<style scoped>\n",
              "    .dataframe tbody tr th:only-of-type {\n",
              "        vertical-align: middle;\n",
              "    }\n",
              "\n",
              "    .dataframe tbody tr th {\n",
              "        vertical-align: top;\n",
              "    }\n",
              "\n",
              "    .dataframe thead th {\n",
              "        text-align: right;\n",
              "    }\n",
              "</style>\n",
              "<table border=\"1\" class=\"dataframe\">\n",
              "  <thead>\n",
              "    <tr style=\"text-align: right;\">\n",
              "      <th></th>\n",
              "      <th>distance</th>\n",
              "      <th>cab_type</th>\n",
              "      <th>time_stamp</th>\n",
              "      <th>destination</th>\n",
              "      <th>source</th>\n",
              "      <th>surge_multiplier</th>\n",
              "      <th>id</th>\n",
              "      <th>product_id</th>\n",
              "      <th>name</th>\n",
              "      <th>RideCategory</th>\n",
              "    </tr>\n",
              "  </thead>\n",
              "  <tbody>\n",
              "    <tr>\n",
              "      <th>0</th>\n",
              "      <td>0.62</td>\n",
              "      <td>Uber</td>\n",
              "      <td>1.544770e+12</td>\n",
              "      <td>West End</td>\n",
              "      <td>Haymarket Square</td>\n",
              "      <td>1.0</td>\n",
              "      <td>c1b4a572-24b2-484d-aac5-b4f97b790480</td>\n",
              "      <td>8cf7e821-f0d3-49c6-8eba-e679c0ebcf6a</td>\n",
              "      <td>Taxi</td>\n",
              "      <td>unknown</td>\n",
              "    </tr>\n",
              "    <tr>\n",
              "      <th>1</th>\n",
              "      <td>2.27</td>\n",
              "      <td>Uber</td>\n",
              "      <td>1.543400e+12</td>\n",
              "      <td>Boston University</td>\n",
              "      <td>Beacon Hill</td>\n",
              "      <td>1.0</td>\n",
              "      <td>f9e7e7e6-b309-479b-9f90-bf26a1870c81</td>\n",
              "      <td>997acbb5-e102-41e1-b155-9df7de0a73f2</td>\n",
              "      <td>UberPool</td>\n",
              "      <td>cheap</td>\n",
              "    </tr>\n",
              "    <tr>\n",
              "      <th>2</th>\n",
              "      <td>2.00</td>\n",
              "      <td>Lyft</td>\n",
              "      <td>1.544920e+12</td>\n",
              "      <td>Back Bay</td>\n",
              "      <td>Haymarket Square</td>\n",
              "      <td>1.0</td>\n",
              "      <td>154e8438-46f5-4e5f-9872-15cc95e85eed</td>\n",
              "      <td>lyft</td>\n",
              "      <td>Lyft</td>\n",
              "      <td>moderate</td>\n",
              "    </tr>\n",
              "    <tr>\n",
              "      <th>3</th>\n",
              "      <td>3.98</td>\n",
              "      <td>Lyft</td>\n",
              "      <td>1.543620e+12</td>\n",
              "      <td>Financial District</td>\n",
              "      <td>Northeastern University</td>\n",
              "      <td>1.0</td>\n",
              "      <td>6bdc30a6-9a80-487b-914e-8d9b82ee4acb</td>\n",
              "      <td>lyft_plus</td>\n",
              "      <td>Lyft XL</td>\n",
              "      <td>expensive</td>\n",
              "    </tr>\n",
              "    <tr>\n",
              "      <th>4</th>\n",
              "      <td>1.49</td>\n",
              "      <td>Lyft</td>\n",
              "      <td>1.543580e+12</td>\n",
              "      <td>Back Bay</td>\n",
              "      <td>Northeastern University</td>\n",
              "      <td>1.0</td>\n",
              "      <td>0cb12fe9-cd72-4feb-b341-4a566b2e6643</td>\n",
              "      <td>lyft</td>\n",
              "      <td>Lyft</td>\n",
              "      <td>cheap</td>\n",
              "    </tr>\n",
              "  </tbody>\n",
              "</table>\n",
              "</div>"
            ],
            "text/plain": [
              "   distance cab_type    time_stamp         destination  \\\n",
              "0      0.62     Uber  1.544770e+12            West End   \n",
              "1      2.27     Uber  1.543400e+12   Boston University   \n",
              "2      2.00     Lyft  1.544920e+12            Back Bay   \n",
              "3      3.98     Lyft  1.543620e+12  Financial District   \n",
              "4      1.49     Lyft  1.543580e+12            Back Bay   \n",
              "\n",
              "                    source  surge_multiplier  \\\n",
              "0         Haymarket Square               1.0   \n",
              "1              Beacon Hill               1.0   \n",
              "2         Haymarket Square               1.0   \n",
              "3  Northeastern University               1.0   \n",
              "4  Northeastern University               1.0   \n",
              "\n",
              "                                     id                            product_id  \\\n",
              "0  c1b4a572-24b2-484d-aac5-b4f97b790480  8cf7e821-f0d3-49c6-8eba-e679c0ebcf6a   \n",
              "1  f9e7e7e6-b309-479b-9f90-bf26a1870c81  997acbb5-e102-41e1-b155-9df7de0a73f2   \n",
              "2  154e8438-46f5-4e5f-9872-15cc95e85eed                                  lyft   \n",
              "3  6bdc30a6-9a80-487b-914e-8d9b82ee4acb                             lyft_plus   \n",
              "4  0cb12fe9-cd72-4feb-b341-4a566b2e6643                                  lyft   \n",
              "\n",
              "       name RideCategory  \n",
              "0      Taxi      unknown  \n",
              "1  UberPool        cheap  \n",
              "2      Lyft     moderate  \n",
              "3   Lyft XL    expensive  \n",
              "4      Lyft        cheap  "
            ]
          },
          "metadata": {},
          "execution_count": 7
        }
      ],
      "metadata": {
        "pycharm": {
          "name": "#%%\n"
        },
        "id": "bUZTiJja9Bml",
        "outputId": "93631f21-dc71-4ed9-cc84-22c2b09eb816",
        "colab": {
          "base_uri": "https://localhost:8080/",
          "height": 355
        }
      }
    },
    {
      "cell_type": "code",
      "execution_count": 8,
      "source": [
        "print(f\"Weather has {weather.shape[0]} Rows and {weather.shape[1]} Columns\")\n",
        "weather.head()"
      ],
      "outputs": [
        {
          "output_type": "stream",
          "name": "stdout",
          "text": [
            "Weather has 6276 Rows and 8 Columns\n"
          ]
        },
        {
          "output_type": "execute_result",
          "data": {
            "text/html": [
              "<div>\n",
              "<style scoped>\n",
              "    .dataframe tbody tr th:only-of-type {\n",
              "        vertical-align: middle;\n",
              "    }\n",
              "\n",
              "    .dataframe tbody tr th {\n",
              "        vertical-align: top;\n",
              "    }\n",
              "\n",
              "    .dataframe thead th {\n",
              "        text-align: right;\n",
              "    }\n",
              "</style>\n",
              "<table border=\"1\" class=\"dataframe\">\n",
              "  <thead>\n",
              "    <tr style=\"text-align: right;\">\n",
              "      <th></th>\n",
              "      <th>temp</th>\n",
              "      <th>location</th>\n",
              "      <th>clouds</th>\n",
              "      <th>pressure</th>\n",
              "      <th>rain</th>\n",
              "      <th>time_stamp</th>\n",
              "      <th>humidity</th>\n",
              "      <th>wind</th>\n",
              "    </tr>\n",
              "  </thead>\n",
              "  <tbody>\n",
              "    <tr>\n",
              "      <th>0</th>\n",
              "      <td>42.42</td>\n",
              "      <td>Back Bay</td>\n",
              "      <td>1.0</td>\n",
              "      <td>1012.14</td>\n",
              "      <td>0.1228</td>\n",
              "      <td>1545003901</td>\n",
              "      <td>0.77</td>\n",
              "      <td>11.25</td>\n",
              "    </tr>\n",
              "    <tr>\n",
              "      <th>1</th>\n",
              "      <td>42.43</td>\n",
              "      <td>Beacon Hill</td>\n",
              "      <td>1.0</td>\n",
              "      <td>1012.15</td>\n",
              "      <td>0.1846</td>\n",
              "      <td>1545003901</td>\n",
              "      <td>0.76</td>\n",
              "      <td>11.32</td>\n",
              "    </tr>\n",
              "    <tr>\n",
              "      <th>2</th>\n",
              "      <td>42.50</td>\n",
              "      <td>Boston University</td>\n",
              "      <td>1.0</td>\n",
              "      <td>1012.15</td>\n",
              "      <td>0.1089</td>\n",
              "      <td>1545003901</td>\n",
              "      <td>0.76</td>\n",
              "      <td>11.07</td>\n",
              "    </tr>\n",
              "    <tr>\n",
              "      <th>3</th>\n",
              "      <td>42.11</td>\n",
              "      <td>Fenway</td>\n",
              "      <td>1.0</td>\n",
              "      <td>1012.13</td>\n",
              "      <td>0.0969</td>\n",
              "      <td>1545003901</td>\n",
              "      <td>0.77</td>\n",
              "      <td>11.09</td>\n",
              "    </tr>\n",
              "    <tr>\n",
              "      <th>4</th>\n",
              "      <td>43.13</td>\n",
              "      <td>Financial District</td>\n",
              "      <td>1.0</td>\n",
              "      <td>1012.14</td>\n",
              "      <td>0.1786</td>\n",
              "      <td>1545003901</td>\n",
              "      <td>0.75</td>\n",
              "      <td>11.49</td>\n",
              "    </tr>\n",
              "  </tbody>\n",
              "</table>\n",
              "</div>"
            ],
            "text/plain": [
              "    temp            location  clouds  pressure    rain  time_stamp  humidity  \\\n",
              "0  42.42            Back Bay     1.0   1012.14  0.1228  1545003901      0.77   \n",
              "1  42.43         Beacon Hill     1.0   1012.15  0.1846  1545003901      0.76   \n",
              "2  42.50   Boston University     1.0   1012.15  0.1089  1545003901      0.76   \n",
              "3  42.11              Fenway     1.0   1012.13  0.0969  1545003901      0.77   \n",
              "4  43.13  Financial District     1.0   1012.14  0.1786  1545003901      0.75   \n",
              "\n",
              "    wind  \n",
              "0  11.25  \n",
              "1  11.32  \n",
              "2  11.07  \n",
              "3  11.09  \n",
              "4  11.49  "
            ]
          },
          "metadata": {},
          "execution_count": 8
        }
      ],
      "metadata": {
        "pycharm": {
          "name": "#%%\n"
        },
        "id": "Sc1CrP2h9Bmm",
        "outputId": "bcebf05b-9e33-45d0-d8cb-f7fa322d2035",
        "colab": {
          "base_uri": "https://localhost:8080/",
          "height": 224
        }
      }
    },
    {
      "cell_type": "markdown",
      "source": [
        "# Data Cleaning"
      ],
      "metadata": {
        "collapsed": false,
        "pycharm": {
          "name": "#%% md\n"
        },
        "id": "cWoAqORF9Bmn"
      }
    },
    {
      "cell_type": "markdown",
      "source": [
        "## Taxi Rides"
      ],
      "metadata": {
        "collapsed": false,
        "pycharm": {
          "name": "#%% md\n"
        },
        "id": "F9LwaK6e9Bmp"
      }
    },
    {
      "cell_type": "code",
      "execution_count": 9,
      "source": [
        "taxiRides.info()"
      ],
      "outputs": [
        {
          "output_type": "stream",
          "name": "stdout",
          "text": [
            "<class 'pandas.core.frame.DataFrame'>\n",
            "RangeIndex: 554456 entries, 0 to 554455\n",
            "Data columns (total 10 columns):\n",
            " #   Column            Non-Null Count   Dtype  \n",
            "---  ------            --------------   -----  \n",
            " 0   distance          554456 non-null  float64\n",
            " 1   cab_type          554456 non-null  object \n",
            " 2   time_stamp        554456 non-null  float64\n",
            " 3   destination       554456 non-null  object \n",
            " 4   source            554456 non-null  object \n",
            " 5   surge_multiplier  554456 non-null  float64\n",
            " 6   id                554456 non-null  object \n",
            " 7   product_id        554456 non-null  object \n",
            " 8   name              554456 non-null  object \n",
            " 9   RideCategory      554456 non-null  object \n",
            "dtypes: float64(3), object(7)\n",
            "memory usage: 42.3+ MB\n"
          ]
        }
      ],
      "metadata": {
        "pycharm": {
          "name": "#%%\n"
        },
        "id": "FDiWu4Un9Bmp",
        "outputId": "29824a5d-d72c-447e-e9b2-76efbe746879",
        "colab": {
          "base_uri": "https://localhost:8080/"
        }
      }
    },
    {
      "cell_type": "markdown",
      "source": [
        "## Null"
      ],
      "metadata": {
        "collapsed": false,
        "pycharm": {
          "name": "#%% md\n"
        },
        "id": "F-NOkoK29Bmq"
      }
    },
    {
      "cell_type": "code",
      "execution_count": 10,
      "source": [
        "print(\"Null Values in columns\")\n",
        "taxiRides.isnull().sum()"
      ],
      "outputs": [
        {
          "output_type": "stream",
          "name": "stdout",
          "text": [
            "Null Values in columns\n"
          ]
        },
        {
          "output_type": "execute_result",
          "data": {
            "text/plain": [
              "distance            0\n",
              "cab_type            0\n",
              "time_stamp          0\n",
              "destination         0\n",
              "source              0\n",
              "surge_multiplier    0\n",
              "id                  0\n",
              "product_id          0\n",
              "name                0\n",
              "RideCategory        0\n",
              "dtype: int64"
            ]
          },
          "metadata": {},
          "execution_count": 10
        }
      ],
      "metadata": {
        "pycharm": {
          "name": "#%%\n"
        },
        "id": "Ov5opDeI9Bmq",
        "outputId": "c91ce7e7-c875-4259-eb84-9f35b9deecd7",
        "colab": {
          "base_uri": "https://localhost:8080/"
        }
      }
    },
    {
      "cell_type": "markdown",
      "source": [
        "## product_id and name"
      ],
      "metadata": {
        "collapsed": false,
        "pycharm": {
          "name": "#%% md\n"
        },
        "id": "p4f7VLw19Bmr"
      }
    },
    {
      "cell_type": "code",
      "execution_count": 11,
      "source": [
        "print(f\"Value counts of 'product_id' feature\\n\")\n",
        "taxiRides['product_id'].value_counts()"
      ],
      "outputs": [
        {
          "output_type": "stream",
          "name": "stdout",
          "text": [
            "Value counts of 'product_id' feature\n",
            "\n"
          ]
        },
        {
          "output_type": "execute_result",
          "data": {
            "text/plain": [
              "55c66225-fbe7-4fd5-9072-eab1ece5e23e    44204\n",
              "8cf7e821-f0d3-49c6-8eba-e679c0ebcf6a    44135\n",
              "997acbb5-e102-41e1-b155-9df7de0a73f2    44108\n",
              "6d318bcc-22a3-4af6-bddd-b409bfce1546    44038\n",
              "9a0e7b09-b92b-4c41-9779-2ad22b4d779d    44024\n",
              "6f72dfc5-27f1-42e8-84db-ccc7a75f6969    43983\n",
              "6c84fd89-3f11-4782-9b50-97c468b19529    43977\n",
              "lyft_plus                               41142\n",
              "lyft_lux                                41041\n",
              "lyft                                    41015\n",
              "lyft_luxsuv                             40979\n",
              "lyft_premier                            40969\n",
              "lyft_line                               40841\n",
              "Name: product_id, dtype: int64"
            ]
          },
          "metadata": {},
          "execution_count": 11
        }
      ],
      "metadata": {
        "pycharm": {
          "name": "#%%\n"
        },
        "id": "vIiiqj6X9Bmr",
        "outputId": "f160dbf6-dee8-4f60-ef3d-bc462aaa746f",
        "colab": {
          "base_uri": "https://localhost:8080/"
        }
      }
    },
    {
      "cell_type": "code",
      "execution_count": 12,
      "source": [
        "print(f\"Value counts of 'name' feature\\n\")\n",
        "taxiRides['name'].value_counts()"
      ],
      "outputs": [
        {
          "output_type": "stream",
          "name": "stdout",
          "text": [
            "Value counts of 'name' feature\n",
            "\n"
          ]
        },
        {
          "output_type": "execute_result",
          "data": {
            "text/plain": [
              "UberX           44204\n",
              "Taxi            44135\n",
              "UberPool        44108\n",
              "Black SUV       44038\n",
              "WAV             44024\n",
              "UberXL          43983\n",
              "Black           43977\n",
              "Lyft XL         41142\n",
              "Lux Black       41041\n",
              "Lyft            41015\n",
              "Lux Black XL    40979\n",
              "Lux             40969\n",
              "Shared          40841\n",
              "Name: name, dtype: int64"
            ]
          },
          "metadata": {},
          "execution_count": 12
        }
      ],
      "metadata": {
        "pycharm": {
          "name": "#%%\n"
        },
        "id": "kEpbIwfg9Bms",
        "outputId": "4eb866d1-1587-4fc4-b130-cc82ef12a117",
        "colab": {
          "base_uri": "https://localhost:8080/"
        }
      }
    },
    {
      "cell_type": "markdown",
      "source": [
        "product_id and name represent the same feature so we can drop one of them"
      ],
      "metadata": {
        "collapsed": false,
        "pycharm": {
          "name": "#%% md\n"
        },
        "id": "T7pxLh-j9Bms"
      }
    },
    {
      "cell_type": "markdown",
      "source": [
        "## Encoding Timestamps to date"
      ],
      "metadata": {
        "collapsed": false,
        "pycharm": {
          "name": "#%% md\n"
        },
        "id": "WNNbf_dP9Bms"
      }
    },
    {
      "cell_type": "code",
      "execution_count": 13,
      "source": [
        "weatherDate = pd.to_datetime(weather['time_stamp'], unit='s').apply(lambda x: x.strftime(('%Y-%m-%d')))\n",
        "taxiRidesDate = pd.to_datetime(taxiRides['time_stamp'], unit='ms').apply(lambda x: x.strftime(('%Y-%m-%d')))\n",
        "weather['date'] = weatherDate\n",
        "taxiRides['date'] = taxiRidesDate"
      ],
      "outputs": [],
      "metadata": {
        "pycharm": {
          "name": "#%%\n"
        },
        "id": "N-7yxOLI9Bmt"
      }
    },
    {
      "cell_type": "code",
      "execution_count": 14,
      "source": [
        "taxiRides.head()"
      ],
      "outputs": [
        {
          "output_type": "execute_result",
          "data": {
            "text/html": [
              "<div>\n",
              "<style scoped>\n",
              "    .dataframe tbody tr th:only-of-type {\n",
              "        vertical-align: middle;\n",
              "    }\n",
              "\n",
              "    .dataframe tbody tr th {\n",
              "        vertical-align: top;\n",
              "    }\n",
              "\n",
              "    .dataframe thead th {\n",
              "        text-align: right;\n",
              "    }\n",
              "</style>\n",
              "<table border=\"1\" class=\"dataframe\">\n",
              "  <thead>\n",
              "    <tr style=\"text-align: right;\">\n",
              "      <th></th>\n",
              "      <th>distance</th>\n",
              "      <th>cab_type</th>\n",
              "      <th>time_stamp</th>\n",
              "      <th>destination</th>\n",
              "      <th>source</th>\n",
              "      <th>surge_multiplier</th>\n",
              "      <th>id</th>\n",
              "      <th>product_id</th>\n",
              "      <th>name</th>\n",
              "      <th>RideCategory</th>\n",
              "      <th>date</th>\n",
              "    </tr>\n",
              "  </thead>\n",
              "  <tbody>\n",
              "    <tr>\n",
              "      <th>0</th>\n",
              "      <td>0.62</td>\n",
              "      <td>Uber</td>\n",
              "      <td>1.544770e+12</td>\n",
              "      <td>West End</td>\n",
              "      <td>Haymarket Square</td>\n",
              "      <td>1.0</td>\n",
              "      <td>c1b4a572-24b2-484d-aac5-b4f97b790480</td>\n",
              "      <td>8cf7e821-f0d3-49c6-8eba-e679c0ebcf6a</td>\n",
              "      <td>Taxi</td>\n",
              "      <td>unknown</td>\n",
              "      <td>2018-12-14</td>\n",
              "    </tr>\n",
              "    <tr>\n",
              "      <th>1</th>\n",
              "      <td>2.27</td>\n",
              "      <td>Uber</td>\n",
              "      <td>1.543400e+12</td>\n",
              "      <td>Boston University</td>\n",
              "      <td>Beacon Hill</td>\n",
              "      <td>1.0</td>\n",
              "      <td>f9e7e7e6-b309-479b-9f90-bf26a1870c81</td>\n",
              "      <td>997acbb5-e102-41e1-b155-9df7de0a73f2</td>\n",
              "      <td>UberPool</td>\n",
              "      <td>cheap</td>\n",
              "      <td>2018-11-28</td>\n",
              "    </tr>\n",
              "    <tr>\n",
              "      <th>2</th>\n",
              "      <td>2.00</td>\n",
              "      <td>Lyft</td>\n",
              "      <td>1.544920e+12</td>\n",
              "      <td>Back Bay</td>\n",
              "      <td>Haymarket Square</td>\n",
              "      <td>1.0</td>\n",
              "      <td>154e8438-46f5-4e5f-9872-15cc95e85eed</td>\n",
              "      <td>lyft</td>\n",
              "      <td>Lyft</td>\n",
              "      <td>moderate</td>\n",
              "      <td>2018-12-16</td>\n",
              "    </tr>\n",
              "    <tr>\n",
              "      <th>3</th>\n",
              "      <td>3.98</td>\n",
              "      <td>Lyft</td>\n",
              "      <td>1.543620e+12</td>\n",
              "      <td>Financial District</td>\n",
              "      <td>Northeastern University</td>\n",
              "      <td>1.0</td>\n",
              "      <td>6bdc30a6-9a80-487b-914e-8d9b82ee4acb</td>\n",
              "      <td>lyft_plus</td>\n",
              "      <td>Lyft XL</td>\n",
              "      <td>expensive</td>\n",
              "      <td>2018-11-30</td>\n",
              "    </tr>\n",
              "    <tr>\n",
              "      <th>4</th>\n",
              "      <td>1.49</td>\n",
              "      <td>Lyft</td>\n",
              "      <td>1.543580e+12</td>\n",
              "      <td>Back Bay</td>\n",
              "      <td>Northeastern University</td>\n",
              "      <td>1.0</td>\n",
              "      <td>0cb12fe9-cd72-4feb-b341-4a566b2e6643</td>\n",
              "      <td>lyft</td>\n",
              "      <td>Lyft</td>\n",
              "      <td>cheap</td>\n",
              "      <td>2018-11-30</td>\n",
              "    </tr>\n",
              "  </tbody>\n",
              "</table>\n",
              "</div>"
            ],
            "text/plain": [
              "   distance cab_type    time_stamp         destination  \\\n",
              "0      0.62     Uber  1.544770e+12            West End   \n",
              "1      2.27     Uber  1.543400e+12   Boston University   \n",
              "2      2.00     Lyft  1.544920e+12            Back Bay   \n",
              "3      3.98     Lyft  1.543620e+12  Financial District   \n",
              "4      1.49     Lyft  1.543580e+12            Back Bay   \n",
              "\n",
              "                    source  surge_multiplier  \\\n",
              "0         Haymarket Square               1.0   \n",
              "1              Beacon Hill               1.0   \n",
              "2         Haymarket Square               1.0   \n",
              "3  Northeastern University               1.0   \n",
              "4  Northeastern University               1.0   \n",
              "\n",
              "                                     id                            product_id  \\\n",
              "0  c1b4a572-24b2-484d-aac5-b4f97b790480  8cf7e821-f0d3-49c6-8eba-e679c0ebcf6a   \n",
              "1  f9e7e7e6-b309-479b-9f90-bf26a1870c81  997acbb5-e102-41e1-b155-9df7de0a73f2   \n",
              "2  154e8438-46f5-4e5f-9872-15cc95e85eed                                  lyft   \n",
              "3  6bdc30a6-9a80-487b-914e-8d9b82ee4acb                             lyft_plus   \n",
              "4  0cb12fe9-cd72-4feb-b341-4a566b2e6643                                  lyft   \n",
              "\n",
              "       name RideCategory        date  \n",
              "0      Taxi      unknown  2018-12-14  \n",
              "1  UberPool        cheap  2018-11-28  \n",
              "2      Lyft     moderate  2018-12-16  \n",
              "3   Lyft XL    expensive  2018-11-30  \n",
              "4      Lyft        cheap  2018-11-30  "
            ]
          },
          "metadata": {},
          "execution_count": 14
        }
      ],
      "metadata": {
        "pycharm": {
          "name": "#%%\n"
        },
        "id": "PriTMwv-9Bmt",
        "outputId": "9c86e51c-1cb5-4e94-befe-82777f5e6303",
        "colab": {
          "base_uri": "https://localhost:8080/",
          "height": 0
        }
      }
    },
    {
      "cell_type": "code",
      "execution_count": 15,
      "source": [
        "weather.head()"
      ],
      "outputs": [
        {
          "output_type": "execute_result",
          "data": {
            "text/html": [
              "<div>\n",
              "<style scoped>\n",
              "    .dataframe tbody tr th:only-of-type {\n",
              "        vertical-align: middle;\n",
              "    }\n",
              "\n",
              "    .dataframe tbody tr th {\n",
              "        vertical-align: top;\n",
              "    }\n",
              "\n",
              "    .dataframe thead th {\n",
              "        text-align: right;\n",
              "    }\n",
              "</style>\n",
              "<table border=\"1\" class=\"dataframe\">\n",
              "  <thead>\n",
              "    <tr style=\"text-align: right;\">\n",
              "      <th></th>\n",
              "      <th>temp</th>\n",
              "      <th>location</th>\n",
              "      <th>clouds</th>\n",
              "      <th>pressure</th>\n",
              "      <th>rain</th>\n",
              "      <th>time_stamp</th>\n",
              "      <th>humidity</th>\n",
              "      <th>wind</th>\n",
              "      <th>date</th>\n",
              "    </tr>\n",
              "  </thead>\n",
              "  <tbody>\n",
              "    <tr>\n",
              "      <th>0</th>\n",
              "      <td>42.42</td>\n",
              "      <td>Back Bay</td>\n",
              "      <td>1.0</td>\n",
              "      <td>1012.14</td>\n",
              "      <td>0.1228</td>\n",
              "      <td>1545003901</td>\n",
              "      <td>0.77</td>\n",
              "      <td>11.25</td>\n",
              "      <td>2018-12-16</td>\n",
              "    </tr>\n",
              "    <tr>\n",
              "      <th>1</th>\n",
              "      <td>42.43</td>\n",
              "      <td>Beacon Hill</td>\n",
              "      <td>1.0</td>\n",
              "      <td>1012.15</td>\n",
              "      <td>0.1846</td>\n",
              "      <td>1545003901</td>\n",
              "      <td>0.76</td>\n",
              "      <td>11.32</td>\n",
              "      <td>2018-12-16</td>\n",
              "    </tr>\n",
              "    <tr>\n",
              "      <th>2</th>\n",
              "      <td>42.50</td>\n",
              "      <td>Boston University</td>\n",
              "      <td>1.0</td>\n",
              "      <td>1012.15</td>\n",
              "      <td>0.1089</td>\n",
              "      <td>1545003901</td>\n",
              "      <td>0.76</td>\n",
              "      <td>11.07</td>\n",
              "      <td>2018-12-16</td>\n",
              "    </tr>\n",
              "    <tr>\n",
              "      <th>3</th>\n",
              "      <td>42.11</td>\n",
              "      <td>Fenway</td>\n",
              "      <td>1.0</td>\n",
              "      <td>1012.13</td>\n",
              "      <td>0.0969</td>\n",
              "      <td>1545003901</td>\n",
              "      <td>0.77</td>\n",
              "      <td>11.09</td>\n",
              "      <td>2018-12-16</td>\n",
              "    </tr>\n",
              "    <tr>\n",
              "      <th>4</th>\n",
              "      <td>43.13</td>\n",
              "      <td>Financial District</td>\n",
              "      <td>1.0</td>\n",
              "      <td>1012.14</td>\n",
              "      <td>0.1786</td>\n",
              "      <td>1545003901</td>\n",
              "      <td>0.75</td>\n",
              "      <td>11.49</td>\n",
              "      <td>2018-12-16</td>\n",
              "    </tr>\n",
              "  </tbody>\n",
              "</table>\n",
              "</div>"
            ],
            "text/plain": [
              "    temp            location  clouds  pressure    rain  time_stamp  humidity  \\\n",
              "0  42.42            Back Bay     1.0   1012.14  0.1228  1545003901      0.77   \n",
              "1  42.43         Beacon Hill     1.0   1012.15  0.1846  1545003901      0.76   \n",
              "2  42.50   Boston University     1.0   1012.15  0.1089  1545003901      0.76   \n",
              "3  42.11              Fenway     1.0   1012.13  0.0969  1545003901      0.77   \n",
              "4  43.13  Financial District     1.0   1012.14  0.1786  1545003901      0.75   \n",
              "\n",
              "    wind        date  \n",
              "0  11.25  2018-12-16  \n",
              "1  11.32  2018-12-16  \n",
              "2  11.07  2018-12-16  \n",
              "3  11.09  2018-12-16  \n",
              "4  11.49  2018-12-16  "
            ]
          },
          "metadata": {},
          "execution_count": 15
        }
      ],
      "metadata": {
        "pycharm": {
          "name": "#%%\n"
        },
        "id": "MHU0Ex9o9Bmu",
        "outputId": "a8bd1ba1-5887-4845-b3e2-09067d1e0e94",
        "colab": {
          "base_uri": "https://localhost:8080/",
          "height": 0
        }
      }
    },
    {
      "cell_type": "markdown",
      "source": [
        "## Joining Dataframes based on date"
      ],
      "metadata": {
        "collapsed": false,
        "pycharm": {
          "name": "#%% md\n"
        },
        "id": "C92x_MDA9Bmv"
      }
    },
    {
      "cell_type": "code",
      "execution_count": 16,
      "source": [
        "taxiRides.drop(['time_stamp'],axis = 1, inplace = True)\n",
        "weather.drop(['time_stamp'],axis = 1, inplace = True)\n",
        "\n",
        "mergedData = pd.merge(taxiRides,weather.drop_duplicates(subset=['date', 'location']), how = 'left', left_on=['date', 'source'], right_on=['date', 'location'])"
      ],
      "outputs": [],
      "metadata": {
        "pycharm": {
          "name": "#%%\n"
        },
        "id": "-uNuJEYc9Bmv"
      }
    },
    {
      "cell_type": "code",
      "execution_count": 17,
      "source": [
        "mergedData.isnull().sum()"
      ],
      "outputs": [
        {
          "output_type": "execute_result",
          "data": {
            "text/plain": [
              "distance                 0\n",
              "cab_type                 0\n",
              "destination              0\n",
              "source                   0\n",
              "surge_multiplier         0\n",
              "id                       0\n",
              "product_id               0\n",
              "name                     0\n",
              "RideCategory             0\n",
              "date                     0\n",
              "temp                     0\n",
              "location                 0\n",
              "clouds                   0\n",
              "pressure                 0\n",
              "rain                480515\n",
              "humidity                 0\n",
              "wind                     0\n",
              "dtype: int64"
            ]
          },
          "metadata": {},
          "execution_count": 17
        }
      ],
      "metadata": {
        "pycharm": {
          "name": "#%%\n"
        },
        "id": "WoKQvfwm9Bmv",
        "outputId": "086dc3f1-2197-46bb-aca9-68f9eb92f5a6",
        "colab": {
          "base_uri": "https://localhost:8080/"
        }
      }
    },
    {
      "cell_type": "markdown",
      "source": [
        "## Rain Feature"
      ],
      "metadata": {
        "collapsed": false,
        "pycharm": {
          "name": "#%% md\n"
        },
        "id": "3kiXIdOD9Bmv"
      }
    },
    {
      "cell_type": "code",
      "execution_count": 18,
      "source": [
        "weather['rain'].isnull().sum() / weather['rain'].shape[0]\n",
        "weather['rain'].hist()\n",
        "#Does null values of rain revolve around certain values?\n",
        "print(\"Rows with null rain value statistics\")\n",
        "weather[weather['rain'].isnull()].describe()\n",
        "\n"
      ],
      "outputs": [
        {
          "output_type": "stream",
          "name": "stdout",
          "text": [
            "Rows with null rain value statistics\n"
          ]
        },
        {
          "output_type": "execute_result",
          "data": {
            "text/html": [
              "<div>\n",
              "<style scoped>\n",
              "    .dataframe tbody tr th:only-of-type {\n",
              "        vertical-align: middle;\n",
              "    }\n",
              "\n",
              "    .dataframe tbody tr th {\n",
              "        vertical-align: top;\n",
              "    }\n",
              "\n",
              "    .dataframe thead th {\n",
              "        text-align: right;\n",
              "    }\n",
              "</style>\n",
              "<table border=\"1\" class=\"dataframe\">\n",
              "  <thead>\n",
              "    <tr style=\"text-align: right;\">\n",
              "      <th></th>\n",
              "      <th>temp</th>\n",
              "      <th>clouds</th>\n",
              "      <th>pressure</th>\n",
              "      <th>rain</th>\n",
              "      <th>humidity</th>\n",
              "      <th>wind</th>\n",
              "    </tr>\n",
              "  </thead>\n",
              "  <tbody>\n",
              "    <tr>\n",
              "      <th>count</th>\n",
              "      <td>5382.000000</td>\n",
              "      <td>5382.000000</td>\n",
              "      <td>5382.00000</td>\n",
              "      <td>0.0</td>\n",
              "      <td>5382.000000</td>\n",
              "      <td>5382.000000</td>\n",
              "    </tr>\n",
              "    <tr>\n",
              "      <th>mean</th>\n",
              "      <td>38.461557</td>\n",
              "      <td>0.633618</td>\n",
              "      <td>1008.92490</td>\n",
              "      <td>NaN</td>\n",
              "      <td>0.747293</td>\n",
              "      <td>6.375199</td>\n",
              "    </tr>\n",
              "    <tr>\n",
              "      <th>std</th>\n",
              "      <td>6.169892</td>\n",
              "      <td>0.312919</td>\n",
              "      <td>13.46695</td>\n",
              "      <td>NaN</td>\n",
              "      <td>0.124451</td>\n",
              "      <td>3.542713</td>\n",
              "    </tr>\n",
              "    <tr>\n",
              "      <th>min</th>\n",
              "      <td>19.620000</td>\n",
              "      <td>0.000000</td>\n",
              "      <td>988.25000</td>\n",
              "      <td>NaN</td>\n",
              "      <td>0.450000</td>\n",
              "      <td>0.290000</td>\n",
              "    </tr>\n",
              "    <tr>\n",
              "      <th>25%</th>\n",
              "      <td>35.022500</td>\n",
              "      <td>0.400000</td>\n",
              "      <td>997.39000</td>\n",
              "      <td>NaN</td>\n",
              "      <td>0.660000</td>\n",
              "      <td>3.190000</td>\n",
              "    </tr>\n",
              "    <tr>\n",
              "      <th>50%</th>\n",
              "      <td>39.360000</td>\n",
              "      <td>0.680000</td>\n",
              "      <td>1009.56000</td>\n",
              "      <td>NaN</td>\n",
              "      <td>0.730000</td>\n",
              "      <td>6.210000</td>\n",
              "    </tr>\n",
              "    <tr>\n",
              "      <th>75%</th>\n",
              "      <td>41.470000</td>\n",
              "      <td>0.930000</td>\n",
              "      <td>1020.95000</td>\n",
              "      <td>NaN</td>\n",
              "      <td>0.850000</td>\n",
              "      <td>9.627500</td>\n",
              "    </tr>\n",
              "    <tr>\n",
              "      <th>max</th>\n",
              "      <td>55.410000</td>\n",
              "      <td>1.000000</td>\n",
              "      <td>1035.12000</td>\n",
              "      <td>NaN</td>\n",
              "      <td>0.990000</td>\n",
              "      <td>18.180000</td>\n",
              "    </tr>\n",
              "  </tbody>\n",
              "</table>\n",
              "</div>"
            ],
            "text/plain": [
              "              temp       clouds    pressure  rain     humidity         wind\n",
              "count  5382.000000  5382.000000  5382.00000   0.0  5382.000000  5382.000000\n",
              "mean     38.461557     0.633618  1008.92490   NaN     0.747293     6.375199\n",
              "std       6.169892     0.312919    13.46695   NaN     0.124451     3.542713\n",
              "min      19.620000     0.000000   988.25000   NaN     0.450000     0.290000\n",
              "25%      35.022500     0.400000   997.39000   NaN     0.660000     3.190000\n",
              "50%      39.360000     0.680000  1009.56000   NaN     0.730000     6.210000\n",
              "75%      41.470000     0.930000  1020.95000   NaN     0.850000     9.627500\n",
              "max      55.410000     1.000000  1035.12000   NaN     0.990000    18.180000"
            ]
          },
          "metadata": {},
          "execution_count": 18
        },
        {
          "output_type": "display_data",
          "data": {
            "image/png": "[encoded data removed]",
            "text/plain": [
              "<Figure size 432x288 with 1 Axes>"
            ]
          },
          "metadata": {
            "needs_background": "light"
          }
        }
      ],
      "metadata": {
        "pycharm": {
          "name": "#%%\n"
        },
        "id": "9AzI310v9Bmw",
        "outputId": "76e59a98-342e-48ab-d8d3-3887258cfdcb",
        "colab": {
          "base_uri": "https://localhost:8080/",
          "height": 0
        }
      }
    },
    {
      "cell_type": "code",
      "execution_count": 19,
      "source": [
        "print(\"Rows with non-null rain value statistics\")\n",
        "weather[weather['rain'].notna()].describe()"
      ],
      "outputs": [
        {
          "output_type": "stream",
          "name": "stdout",
          "text": [
            "Rows with non-null rain value statistics\n"
          ]
        },
        {
          "output_type": "execute_result",
          "data": {
            "text/html": [
              "<div>\n",
              "<style scoped>\n",
              "    .dataframe tbody tr th:only-of-type {\n",
              "        vertical-align: middle;\n",
              "    }\n",
              "\n",
              "    .dataframe tbody tr th {\n",
              "        vertical-align: top;\n",
              "    }\n",
              "\n",
              "    .dataframe thead th {\n",
              "        text-align: right;\n",
              "    }\n",
              "</style>\n",
              "<table border=\"1\" class=\"dataframe\">\n",
              "  <thead>\n",
              "    <tr style=\"text-align: right;\">\n",
              "      <th></th>\n",
              "      <th>temp</th>\n",
              "      <th>clouds</th>\n",
              "      <th>pressure</th>\n",
              "      <th>rain</th>\n",
              "      <th>humidity</th>\n",
              "      <th>wind</th>\n",
              "    </tr>\n",
              "  </thead>\n",
              "  <tbody>\n",
              "    <tr>\n",
              "      <th>count</th>\n",
              "      <td>894.000000</td>\n",
              "      <td>894.000000</td>\n",
              "      <td>894.000000</td>\n",
              "      <td>894.000000</td>\n",
              "      <td>894.000000</td>\n",
              "      <td>894.000000</td>\n",
              "    </tr>\n",
              "    <tr>\n",
              "      <th>mean</th>\n",
              "      <td>42.876644</td>\n",
              "      <td>0.943624</td>\n",
              "      <td>1005.557405</td>\n",
              "      <td>0.057652</td>\n",
              "      <td>0.864474</td>\n",
              "      <td>9.377103</td>\n",
              "    </tr>\n",
              "    <tr>\n",
              "      <th>std</th>\n",
              "      <td>2.951239</td>\n",
              "      <td>0.146752</td>\n",
              "      <td>7.841618</td>\n",
              "      <td>0.100758</td>\n",
              "      <td>0.093957</td>\n",
              "      <td>3.066719</td>\n",
              "    </tr>\n",
              "    <tr>\n",
              "      <th>min</th>\n",
              "      <td>34.100000</td>\n",
              "      <td>0.100000</td>\n",
              "      <td>988.910000</td>\n",
              "      <td>0.000200</td>\n",
              "      <td>0.520000</td>\n",
              "      <td>1.740000</td>\n",
              "    </tr>\n",
              "    <tr>\n",
              "      <th>25%</th>\n",
              "      <td>41.482500</td>\n",
              "      <td>0.970000</td>\n",
              "      <td>999.750000</td>\n",
              "      <td>0.004900</td>\n",
              "      <td>0.860000</td>\n",
              "      <td>7.660000</td>\n",
              "    </tr>\n",
              "    <tr>\n",
              "      <th>50%</th>\n",
              "      <td>43.820000</td>\n",
              "      <td>1.000000</td>\n",
              "      <td>1005.945000</td>\n",
              "      <td>0.014850</td>\n",
              "      <td>0.900000</td>\n",
              "      <td>9.890000</td>\n",
              "    </tr>\n",
              "    <tr>\n",
              "      <th>75%</th>\n",
              "      <td>44.510000</td>\n",
              "      <td>1.000000</td>\n",
              "      <td>1011.237500</td>\n",
              "      <td>0.060925</td>\n",
              "      <td>0.920000</td>\n",
              "      <td>11.187500</td>\n",
              "    </tr>\n",
              "    <tr>\n",
              "      <th>max</th>\n",
              "      <td>51.240000</td>\n",
              "      <td>1.000000</td>\n",
              "      <td>1021.790000</td>\n",
              "      <td>0.780700</td>\n",
              "      <td>0.980000</td>\n",
              "      <td>17.160000</td>\n",
              "    </tr>\n",
              "  </tbody>\n",
              "</table>\n",
              "</div>"
            ],
            "text/plain": [
              "             temp      clouds     pressure        rain    humidity        wind\n",
              "count  894.000000  894.000000   894.000000  894.000000  894.000000  894.000000\n",
              "mean    42.876644    0.943624  1005.557405    0.057652    0.864474    9.377103\n",
              "std      2.951239    0.146752     7.841618    0.100758    0.093957    3.066719\n",
              "min     34.100000    0.100000   988.910000    0.000200    0.520000    1.740000\n",
              "25%     41.482500    0.970000   999.750000    0.004900    0.860000    7.660000\n",
              "50%     43.820000    1.000000  1005.945000    0.014850    0.900000    9.890000\n",
              "75%     44.510000    1.000000  1011.237500    0.060925    0.920000   11.187500\n",
              "max     51.240000    1.000000  1021.790000    0.780700    0.980000   17.160000"
            ]
          },
          "metadata": {},
          "execution_count": 19
        }
      ],
      "metadata": {
        "id": "b3tD2Ir0Hs6m",
        "outputId": "0e26a8c4-b715-4953-a3f8-75376da4c0b0",
        "colab": {
          "base_uri": "https://localhost:8080/",
          "height": 0
        }
      }
    },
    {
      "cell_type": "code",
      "execution_count": 20,
      "source": [
        "weather['rain'].value_counts()"
      ],
      "outputs": [
        {
          "output_type": "execute_result",
          "data": {
            "text/plain": [
              "0.0030    85\n",
              "0.0020    51\n",
              "0.0040    23\n",
              "0.0060    17\n",
              "0.0050    15\n",
              "          ..\n",
              "0.0337     1\n",
              "0.0243     1\n",
              "0.0367     1\n",
              "0.0347     1\n",
              "0.0281     1\n",
              "Name: rain, Length: 437, dtype: int64"
            ]
          },
          "metadata": {},
          "execution_count": 20
        }
      ],
      "metadata": {
        "id": "h5PMFe7jHulG",
        "outputId": "2c43dd24-37e6-4490-c44a-b088e82d9e96",
        "colab": {
          "base_uri": "https://localhost:8080/"
        }
      }
    },
    {
      "cell_type": "code",
      "execution_count": 21,
      "source": [
        "print(f\"Values of 0 in the rain feature :{(weather['rain'] == 0).sum()}\")\n",
        "#Rain feature nulls could indicate no rain"
      ],
      "outputs": [
        {
          "output_type": "stream",
          "name": "stdout",
          "text": [
            "Values of 0 in the rain feature :0\n"
          ]
        }
      ],
      "metadata": {
        "id": "hyoIiGu0Hw7P",
        "outputId": "2a03fbc1-a7f0-47df-9085-b364e10feba7",
        "colab": {
          "base_uri": "https://localhost:8080/"
        }
      }
    },
    {
      "cell_type": "code",
      "execution_count": 22,
      "source": [
        "weather['rain'].fillna(0,inplace=True)"
      ],
      "outputs": [],
      "metadata": {
        "id": "935eL43PHGG2"
      }
    },
    {
      "cell_type": "markdown",
      "source": [
        "# Data Visualization"
      ],
      "metadata": {
        "collapsed": false,
        "pycharm": {
          "name": "#%% md\n"
        },
        "id": "QzMU8gnZ9Bmw"
      }
    },
    {
      "cell_type": "code",
      "execution_count": 23,
      "source": [
        "taxiRides['cab_type'].hist()\n",
        "plt.show()"
      ],
      "outputs": [
        {
          "output_type": "display_data",
          "data": {
            "image/png": "[encoded data removed]",
            "text/plain": [
              "<Figure size 432x288 with 1 Axes>"
            ]
          },
          "metadata": {
            "needs_background": "light"
          }
        }
      ],
      "metadata": {
        "pycharm": {
          "name": "#%%\n"
        },
        "id": "dnKq3o9a9Bmw",
        "outputId": "1dbc6b80-1ef4-4dfc-db38-a3adb00c22a3",
        "colab": {
          "base_uri": "https://localhost:8080/",
          "height": 0
        }
      }
    },
    {
      "cell_type": "code",
      "execution_count": 24,
      "source": [
        "taxiRides['surge_multiplier'].hist()"
      ],
      "outputs": [
        {
          "output_type": "execute_result",
          "data": {
            "text/plain": [
              "<AxesSubplot:>"
            ]
          },
          "metadata": {},
          "execution_count": 24
        },
        {
          "output_type": "display_data",
          "data": {
            "image/png": "[encoded data removed]",
            "text/plain": [
              "<Figure size 432x288 with 1 Axes>"
            ]
          },
          "metadata": {
            "needs_background": "light"
          }
        }
      ],
      "metadata": {
        "pycharm": {
          "name": "#%%\n"
        },
        "id": "Gn2zbusQ9Bmx",
        "outputId": "207b55ee-8892-496c-e241-aa7b977a3e81",
        "colab": {
          "base_uri": "https://localhost:8080/",
          "height": 0
        }
      }
    },
    {
      "cell_type": "markdown",
      "source": [
        "# Preprocessing"
      ],
      "metadata": {
        "collapsed": false,
        "pycharm": {
          "name": "#%% md\n"
        },
        "id": "lixkH1NA9Bmx"
      }
    },
    {
      "cell_type": "code",
      "execution_count": 25,
      "source": [
        "mergedData.head()"
      ],
      "outputs": [
        {
          "output_type": "execute_result",
          "data": {
            "text/html": [
              "<div>\n",
              "<style scoped>\n",
              "    .dataframe tbody tr th:only-of-type {\n",
              "        vertical-align: middle;\n",
              "    }\n",
              "\n",
              "    .dataframe tbody tr th {\n",
              "        vertical-align: top;\n",
              "    }\n",
              "\n",
              "    .dataframe thead th {\n",
              "        text-align: right;\n",
              "    }\n",
              "</style>\n",
              "<table border=\"1\" class=\"dataframe\">\n",
              "  <thead>\n",
              "    <tr style=\"text-align: right;\">\n",
              "      <th></th>\n",
              "      <th>distance</th>\n",
              "      <th>cab_type</th>\n",
              "      <th>destination</th>\n",
              "      <th>source</th>\n",
              "      <th>surge_multiplier</th>\n",
              "      <th>id</th>\n",
              "      <th>product_id</th>\n",
              "      <th>name</th>\n",
              "      <th>RideCategory</th>\n",
              "      <th>date</th>\n",
              "      <th>temp</th>\n",
              "      <th>location</th>\n",
              "      <th>clouds</th>\n",
              "      <th>pressure</th>\n",
              "      <th>rain</th>\n",
              "      <th>humidity</th>\n",
              "      <th>wind</th>\n",
              "    </tr>\n",
              "  </thead>\n",
              "  <tbody>\n",
              "    <tr>\n",
              "      <th>0</th>\n",
              "      <td>0.62</td>\n",
              "      <td>Uber</td>\n",
              "      <td>West End</td>\n",
              "      <td>Haymarket Square</td>\n",
              "      <td>1.0</td>\n",
              "      <td>c1b4a572-24b2-484d-aac5-b4f97b790480</td>\n",
              "      <td>8cf7e821-f0d3-49c6-8eba-e679c0ebcf6a</td>\n",
              "      <td>Taxi</td>\n",
              "      <td>unknown</td>\n",
              "      <td>2018-12-14</td>\n",
              "      <td>27.34</td>\n",
              "      <td>Haymarket Square</td>\n",
              "      <td>0.15</td>\n",
              "      <td>1033.40</td>\n",
              "      <td>NaN</td>\n",
              "      <td>0.81</td>\n",
              "      <td>3.04</td>\n",
              "    </tr>\n",
              "    <tr>\n",
              "      <th>1</th>\n",
              "      <td>2.27</td>\n",
              "      <td>Uber</td>\n",
              "      <td>Boston University</td>\n",
              "      <td>Beacon Hill</td>\n",
              "      <td>1.0</td>\n",
              "      <td>f9e7e7e6-b309-479b-9f90-bf26a1870c81</td>\n",
              "      <td>997acbb5-e102-41e1-b155-9df7de0a73f2</td>\n",
              "      <td>UberPool</td>\n",
              "      <td>cheap</td>\n",
              "      <td>2018-11-28</td>\n",
              "      <td>33.67</td>\n",
              "      <td>Beacon Hill</td>\n",
              "      <td>0.12</td>\n",
              "      <td>991.20</td>\n",
              "      <td>NaN</td>\n",
              "      <td>0.82</td>\n",
              "      <td>5.37</td>\n",
              "    </tr>\n",
              "    <tr>\n",
              "      <th>2</th>\n",
              "      <td>2.00</td>\n",
              "      <td>Lyft</td>\n",
              "      <td>Back Bay</td>\n",
              "      <td>Haymarket Square</td>\n",
              "      <td>1.0</td>\n",
              "      <td>154e8438-46f5-4e5f-9872-15cc95e85eed</td>\n",
              "      <td>lyft</td>\n",
              "      <td>Lyft</td>\n",
              "      <td>moderate</td>\n",
              "      <td>2018-12-16</td>\n",
              "      <td>42.34</td>\n",
              "      <td>Haymarket Square</td>\n",
              "      <td>1.00</td>\n",
              "      <td>1012.15</td>\n",
              "      <td>0.2068</td>\n",
              "      <td>0.77</td>\n",
              "      <td>11.49</td>\n",
              "    </tr>\n",
              "    <tr>\n",
              "      <th>3</th>\n",
              "      <td>3.98</td>\n",
              "      <td>Lyft</td>\n",
              "      <td>Financial District</td>\n",
              "      <td>Northeastern University</td>\n",
              "      <td>1.0</td>\n",
              "      <td>6bdc30a6-9a80-487b-914e-8d9b82ee4acb</td>\n",
              "      <td>lyft_plus</td>\n",
              "      <td>Lyft XL</td>\n",
              "      <td>expensive</td>\n",
              "      <td>2018-11-30</td>\n",
              "      <td>38.46</td>\n",
              "      <td>Northeastern University</td>\n",
              "      <td>0.96</td>\n",
              "      <td>1017.24</td>\n",
              "      <td>NaN</td>\n",
              "      <td>0.66</td>\n",
              "      <td>3.31</td>\n",
              "    </tr>\n",
              "    <tr>\n",
              "      <th>4</th>\n",
              "      <td>1.49</td>\n",
              "      <td>Lyft</td>\n",
              "      <td>Back Bay</td>\n",
              "      <td>Northeastern University</td>\n",
              "      <td>1.0</td>\n",
              "      <td>0cb12fe9-cd72-4feb-b341-4a566b2e6643</td>\n",
              "      <td>lyft</td>\n",
              "      <td>Lyft</td>\n",
              "      <td>cheap</td>\n",
              "      <td>2018-11-30</td>\n",
              "      <td>38.46</td>\n",
              "      <td>Northeastern University</td>\n",
              "      <td>0.96</td>\n",
              "      <td>1017.24</td>\n",
              "      <td>NaN</td>\n",
              "      <td>0.66</td>\n",
              "      <td>3.31</td>\n",
              "    </tr>\n",
              "  </tbody>\n",
              "</table>\n",
              "</div>"
            ],
            "text/plain": [
              "   distance cab_type         destination                   source  \\\n",
              "0      0.62     Uber            West End         Haymarket Square   \n",
              "1      2.27     Uber   Boston University              Beacon Hill   \n",
              "2      2.00     Lyft            Back Bay         Haymarket Square   \n",
              "3      3.98     Lyft  Financial District  Northeastern University   \n",
              "4      1.49     Lyft            Back Bay  Northeastern University   \n",
              "\n",
              "   surge_multiplier                                    id  \\\n",
              "0               1.0  c1b4a572-24b2-484d-aac5-b4f97b790480   \n",
              "1               1.0  f9e7e7e6-b309-479b-9f90-bf26a1870c81   \n",
              "2               1.0  154e8438-46f5-4e5f-9872-15cc95e85eed   \n",
              "3               1.0  6bdc30a6-9a80-487b-914e-8d9b82ee4acb   \n",
              "4               1.0  0cb12fe9-cd72-4feb-b341-4a566b2e6643   \n",
              "\n",
              "                             product_id      name RideCategory        date  \\\n",
              "0  8cf7e821-f0d3-49c6-8eba-e679c0ebcf6a      Taxi      unknown  2018-12-14   \n",
              "1  997acbb5-e102-41e1-b155-9df7de0a73f2  UberPool        cheap  2018-11-28   \n",
              "2                                  lyft      Lyft     moderate  2018-12-16   \n",
              "3                             lyft_plus   Lyft XL    expensive  2018-11-30   \n",
              "4                                  lyft      Lyft        cheap  2018-11-30   \n",
              "\n",
              "    temp                 location  clouds  pressure    rain  humidity   wind  \n",
              "0  27.34         Haymarket Square    0.15   1033.40     NaN      0.81   3.04  \n",
              "1  33.67              Beacon Hill    0.12    991.20     NaN      0.82   5.37  \n",
              "2  42.34         Haymarket Square    1.00   1012.15  0.2068      0.77  11.49  \n",
              "3  38.46  Northeastern University    0.96   1017.24     NaN      0.66   3.31  \n",
              "4  38.46  Northeastern University    0.96   1017.24     NaN      0.66   3.31  "
            ]
          },
          "metadata": {},
          "execution_count": 25
        }
      ],
      "metadata": {
        "pycharm": {
          "name": "#%%\n"
        },
        "id": "0nzClcRB9Bmx",
        "outputId": "9471bf0c-3e5a-485c-c6d6-e6f61c77b047",
        "colab": {
          "base_uri": "https://localhost:8080/",
          "height": 530
        }
      }
    },
    {
      "cell_type": "code",
      "execution_count": 26,
      "source": [
        "preProcessing = PreProcessing()"
      ],
      "outputs": [],
      "metadata": {
        "pycharm": {
          "name": "#%%\n"
        },
        "id": "HQREWd5u9Bmx"
      }
    },
    {
      "cell_type": "code",
      "execution_count": 27,
      "source": [
        "columnsToDrop = ['id', 'date', 'product_id', 'location']"
      ],
      "outputs": [],
      "metadata": {
        "pycharm": {
          "name": "#%%\n"
        },
        "id": "docOW5aC9Bmy"
      }
    },
    {
      "cell_type": "code",
      "execution_count": 28,
      "source": [
        "mergedData.drop(columnsToDrop,axis = 1,inplace=True)"
      ],
      "outputs": [],
      "metadata": {
        "pycharm": {
          "name": "#%%\n"
        },
        "id": "7YpGmlOs9Bmy"
      }
    },
    {
      "cell_type": "code",
      "execution_count": 29,
      "source": [
        "mergedData.head()"
      ],
      "outputs": [
        {
          "output_type": "execute_result",
          "data": {
            "text/html": [
              "<div>\n",
              "<style scoped>\n",
              "    .dataframe tbody tr th:only-of-type {\n",
              "        vertical-align: middle;\n",
              "    }\n",
              "\n",
              "    .dataframe tbody tr th {\n",
              "        vertical-align: top;\n",
              "    }\n",
              "\n",
              "    .dataframe thead th {\n",
              "        text-align: right;\n",
              "    }\n",
              "</style>\n",
              "<table border=\"1\" class=\"dataframe\">\n",
              "  <thead>\n",
              "    <tr style=\"text-align: right;\">\n",
              "      <th></th>\n",
              "      <th>distance</th>\n",
              "      <th>cab_type</th>\n",
              "      <th>destination</th>\n",
              "      <th>source</th>\n",
              "      <th>surge_multiplier</th>\n",
              "      <th>name</th>\n",
              "      <th>RideCategory</th>\n",
              "      <th>temp</th>\n",
              "      <th>clouds</th>\n",
              "      <th>pressure</th>\n",
              "      <th>rain</th>\n",
              "      <th>humidity</th>\n",
              "      <th>wind</th>\n",
              "    </tr>\n",
              "  </thead>\n",
              "  <tbody>\n",
              "    <tr>\n",
              "      <th>0</th>\n",
              "      <td>0.62</td>\n",
              "      <td>Uber</td>\n",
              "      <td>West End</td>\n",
              "      <td>Haymarket Square</td>\n",
              "      <td>1.0</td>\n",
              "      <td>Taxi</td>\n",
              "      <td>unknown</td>\n",
              "      <td>27.34</td>\n",
              "      <td>0.15</td>\n",
              "      <td>1033.40</td>\n",
              "      <td>NaN</td>\n",
              "      <td>0.81</td>\n",
              "      <td>3.04</td>\n",
              "    </tr>\n",
              "    <tr>\n",
              "      <th>1</th>\n",
              "      <td>2.27</td>\n",
              "      <td>Uber</td>\n",
              "      <td>Boston University</td>\n",
              "      <td>Beacon Hill</td>\n",
              "      <td>1.0</td>\n",
              "      <td>UberPool</td>\n",
              "      <td>cheap</td>\n",
              "      <td>33.67</td>\n",
              "      <td>0.12</td>\n",
              "      <td>991.20</td>\n",
              "      <td>NaN</td>\n",
              "      <td>0.82</td>\n",
              "      <td>5.37</td>\n",
              "    </tr>\n",
              "    <tr>\n",
              "      <th>2</th>\n",
              "      <td>2.00</td>\n",
              "      <td>Lyft</td>\n",
              "      <td>Back Bay</td>\n",
              "      <td>Haymarket Square</td>\n",
              "      <td>1.0</td>\n",
              "      <td>Lyft</td>\n",
              "      <td>moderate</td>\n",
              "      <td>42.34</td>\n",
              "      <td>1.00</td>\n",
              "      <td>1012.15</td>\n",
              "      <td>0.2068</td>\n",
              "      <td>0.77</td>\n",
              "      <td>11.49</td>\n",
              "    </tr>\n",
              "    <tr>\n",
              "      <th>3</th>\n",
              "      <td>3.98</td>\n",
              "      <td>Lyft</td>\n",
              "      <td>Financial District</td>\n",
              "      <td>Northeastern University</td>\n",
              "      <td>1.0</td>\n",
              "      <td>Lyft XL</td>\n",
              "      <td>expensive</td>\n",
              "      <td>38.46</td>\n",
              "      <td>0.96</td>\n",
              "      <td>1017.24</td>\n",
              "      <td>NaN</td>\n",
              "      <td>0.66</td>\n",
              "      <td>3.31</td>\n",
              "    </tr>\n",
              "    <tr>\n",
              "      <th>4</th>\n",
              "      <td>1.49</td>\n",
              "      <td>Lyft</td>\n",
              "      <td>Back Bay</td>\n",
              "      <td>Northeastern University</td>\n",
              "      <td>1.0</td>\n",
              "      <td>Lyft</td>\n",
              "      <td>cheap</td>\n",
              "      <td>38.46</td>\n",
              "      <td>0.96</td>\n",
              "      <td>1017.24</td>\n",
              "      <td>NaN</td>\n",
              "      <td>0.66</td>\n",
              "      <td>3.31</td>\n",
              "    </tr>\n",
              "  </tbody>\n",
              "</table>\n",
              "</div>"
            ],
            "text/plain": [
              "   distance cab_type         destination                   source  \\\n",
              "0      0.62     Uber            West End         Haymarket Square   \n",
              "1      2.27     Uber   Boston University              Beacon Hill   \n",
              "2      2.00     Lyft            Back Bay         Haymarket Square   \n",
              "3      3.98     Lyft  Financial District  Northeastern University   \n",
              "4      1.49     Lyft            Back Bay  Northeastern University   \n",
              "\n",
              "   surge_multiplier      name RideCategory   temp  clouds  pressure    rain  \\\n",
              "0               1.0      Taxi      unknown  27.34    0.15   1033.40     NaN   \n",
              "1               1.0  UberPool        cheap  33.67    0.12    991.20     NaN   \n",
              "2               1.0      Lyft     moderate  42.34    1.00   1012.15  0.2068   \n",
              "3               1.0   Lyft XL    expensive  38.46    0.96   1017.24     NaN   \n",
              "4               1.0      Lyft        cheap  38.46    0.96   1017.24     NaN   \n",
              "\n",
              "   humidity   wind  \n",
              "0      0.81   3.04  \n",
              "1      0.82   5.37  \n",
              "2      0.77  11.49  \n",
              "3      0.66   3.31  \n",
              "4      0.66   3.31  "
            ]
          },
          "metadata": {},
          "execution_count": 29
        }
      ],
      "metadata": {
        "pycharm": {
          "name": "#%%\n"
        },
        "id": "HhIJGjsN9Bmy",
        "outputId": "3bbf9552-2ddb-4142-ba59-7ca5b37028fc",
        "colab": {
          "base_uri": "https://localhost:8080/",
          "height": 206
        }
      }
    },
    {
      "cell_type": "code",
      "execution_count": 30,
      "source": [
        "mergedData.isnull().sum()"
      ],
      "outputs": [
        {
          "output_type": "execute_result",
          "data": {
            "text/plain": [
              "distance                 0\n",
              "cab_type                 0\n",
              "destination              0\n",
              "source                   0\n",
              "surge_multiplier         0\n",
              "name                     0\n",
              "RideCategory             0\n",
              "temp                     0\n",
              "clouds                   0\n",
              "pressure                 0\n",
              "rain                480515\n",
              "humidity                 0\n",
              "wind                     0\n",
              "dtype: int64"
            ]
          },
          "metadata": {},
          "execution_count": 30
        }
      ],
      "metadata": {
        "pycharm": {
          "name": "#%%\n"
        },
        "id": "vljiNruu9Bmy",
        "outputId": "3b8cb855-02b9-426e-8f04-62da84abbfaf",
        "colab": {
          "base_uri": "https://localhost:8080/"
        }
      }
    },
    {
      "cell_type": "markdown",
      "source": [
        "## Encoding"
      ],
      "metadata": {
        "collapsed": false,
        "pycharm": {
          "name": "#%% md\n"
        },
        "id": "VvK75R-M9Bmy"
      }
    },
    {
      "cell_type": "markdown",
      "source": [
        "###  <i>name</i> Feature"
      ],
      "metadata": {
        "collapsed": false,
        "pycharm": {
          "name": "#%% md\n"
        },
        "id": "v2OrPs9r9Bmy"
      }
    },
    {
      "cell_type": "code",
      "execution_count": 31,
      "source": [
        "preProcessing.encodeManually(mergedData['name'], PreProcessing.nameFeatureMap)"
      ],
      "outputs": [],
      "metadata": {
        "pycharm": {
          "name": "#%%\n"
        },
        "id": "svKAIREb9Bmz"
      }
    },
    {
      "cell_type": "code",
      "execution_count": 32,
      "source": [
        "preProcessing.encodeManually(mergedData['RideCategory'], PreProcessing.labelFeatureMap)"
      ],
      "outputs": [],
      "metadata": {
        "id": "uLub8rjAOBBH"
      }
    },
    {
      "cell_type": "markdown",
      "source": [
        "### Other Features"
      ],
      "metadata": {
        "collapsed": false,
        "pycharm": {
          "name": "#%% md\n"
        },
        "id": "ZqZWlnQd9Bmz"
      }
    },
    {
      "cell_type": "code",
      "execution_count": 33,
      "source": [
        "nonIntegerColumns = [col for col in mergedData.columns if mergedData[col].dtypes == object]\n",
        "print(f\"Non Integer Columns : {nonIntegerColumns}\")"
      ],
      "outputs": [
        {
          "output_type": "stream",
          "name": "stdout",
          "text": [
            "Non Integer Columns : ['cab_type', 'destination', 'source']\n"
          ]
        }
      ],
      "metadata": {
        "pycharm": {
          "name": "#%%\n"
        },
        "id": "S0PV2ePC9Bmz",
        "outputId": "40cb30b1-8254-45a4-d437-4610a47c23d1",
        "colab": {
          "base_uri": "https://localhost:8080/"
        }
      }
    },
    {
      "cell_type": "code",
      "execution_count": 34,
      "source": [
        "preProcessing.encode(mergedData,nonIntegerColumns)"
      ],
      "outputs": [],
      "metadata": {
        "pycharm": {
          "name": "#%%\n"
        },
        "id": "eHU04ZI_9Bmz"
      }
    },
    {
      "cell_type": "code",
      "execution_count": null,
      "source": [],
      "outputs": [],
      "metadata": {
        "id": "prrpXv7k9w0F"
      }
    },
    {
      "cell_type": "markdown",
      "source": [
        "### Rain Feature Engineering"
      ],
      "metadata": {
        "collapsed": false,
        "pycharm": {
          "name": "#%% md\n"
        },
        "id": "Df0c4B3Z9Bm0"
      }
    },
    {
      "cell_type": "code",
      "execution_count": 35,
      "source": [
        "mergedData['rain'].describe()"
      ],
      "outputs": [
        {
          "output_type": "execute_result",
          "data": {
            "text/plain": [
              "count    73941.00000\n",
              "mean         0.08632\n",
              "std          0.07043\n",
              "min          0.00230\n",
              "25%          0.02990\n",
              "50%          0.03250\n",
              "75%          0.14280\n",
              "max          0.20880\n",
              "Name: rain, dtype: float64"
            ]
          },
          "metadata": {},
          "execution_count": 35
        }
      ],
      "metadata": {
        "pycharm": {
          "name": "#%%\n"
        },
        "id": "OMRbMas_9Bm0",
        "outputId": "5c60b6c8-bd46-40e0-98f2-b934a20eb8b7",
        "colab": {
          "base_uri": "https://localhost:8080/"
        }
      }
    },
    {
      "cell_type": "markdown",
      "source": [
        "Referring to google:\n",
        "<blockquote>Light rainfall is considered <b>less than 0.10 inches</b> of rain per hour. Moderate rainfall measures <b>0.10 to 0.30 inches</b> of rain per hour. Heavy rainfall is more than <b>0.30 inches</b>\n",
        " of rain per hour.</blockquote>\n",
        "0 : no rain <br>\n",
        "1 : light rain <br>\n",
        "2 : mid rain <br>\n",
        "3 : heavy rain (doesn't exist in the data)"
      ],
      "metadata": {
        "collapsed": false,
        "pycharm": {
          "name": "#%% md\n"
        },
        "id": "F4oyTcPD9Bm0"
      }
    },
    {
      "cell_type": "code",
      "execution_count": 36,
      "source": [
        "mergedData['rainType'] = 0"
      ],
      "outputs": [],
      "metadata": {
        "pycharm": {
          "name": "#%%\n"
        },
        "id": "Qd22qH9P9Bm0"
      }
    },
    {
      "cell_type": "code",
      "execution_count": 37,
      "source": [
        "mergedData['rainType'][(mergedData['rain'] > 0) & (mergedData['rain'] < 0.1)] = 1"
      ],
      "outputs": [],
      "metadata": {
        "pycharm": {
          "name": "#%%\n"
        },
        "id": "vOHQiXic9Bm0"
      }
    },
    {
      "cell_type": "code",
      "execution_count": 38,
      "source": [
        "mergedData['rainType'][(mergedData['rain'] > 0.1) & (mergedData['rain'] < 0.3)] = 2"
      ],
      "outputs": [],
      "metadata": {
        "pycharm": {
          "name": "#%%\n"
        },
        "id": "-I23KJk99Bm0"
      }
    },
    {
      "cell_type": "code",
      "execution_count": 39,
      "source": [
        "mergedData['rainType'].value_counts()"
      ],
      "outputs": [
        {
          "output_type": "execute_result",
          "data": {
            "text/plain": [
              "0    480515\n",
              "1     42966\n",
              "2     30975\n",
              "Name: rainType, dtype: int64"
            ]
          },
          "metadata": {},
          "execution_count": 39
        }
      ],
      "metadata": {
        "pycharm": {
          "name": "#%%\n"
        },
        "id": "W9vupLD59Bm1",
        "outputId": "50ff9dcb-31f2-4451-a8b4-2737db851f22",
        "colab": {
          "base_uri": "https://localhost:8080/"
        }
      }
    },
    {
      "cell_type": "markdown",
      "source": [
        "## Clouds engineering\n",
        "making the assumption that clouds are on normalized [Okta Scale](https://polarpedia.eu/en/okta-scale/) that means values less than 0.1 are sunny days"
      ],
      "metadata": {
        "collapsed": false,
        "pycharm": {
          "name": "#%% md\n"
        },
        "id": "zxunGWPC9Bm1"
      }
    },
    {
      "cell_type": "code",
      "execution_count": 40,
      "source": [
        "mergedData['sunnyDay'] = 0"
      ],
      "outputs": [],
      "metadata": {
        "pycharm": {
          "name": "#%%\n"
        },
        "id": "Z9I9UMX_9Bm1"
      }
    },
    {
      "cell_type": "code",
      "execution_count": 41,
      "source": [
        "mergedData['sunnyDay'][mergedData['clouds'] <= 0.1] = 1"
      ],
      "outputs": [],
      "metadata": {
        "pycharm": {
          "name": "#%%\n"
        },
        "id": "ZQM1Vipd9Bm1"
      }
    },
    {
      "cell_type": "code",
      "execution_count": 42,
      "source": [
        "mergedData['sunnyDay'].value_counts()"
      ],
      "outputs": [
        {
          "output_type": "execute_result",
          "data": {
            "text/plain": [
              "0    546501\n",
              "1      7955\n",
              "Name: sunnyDay, dtype: int64"
            ]
          },
          "metadata": {},
          "execution_count": 42
        }
      ],
      "metadata": {
        "pycharm": {
          "name": "#%%\n"
        },
        "id": "U4BA8O249Bm2",
        "outputId": "0d6f26e6-9eca-4f82-cc4e-1cfb4cf2b070",
        "colab": {
          "base_uri": "https://localhost:8080/"
        }
      }
    },
    {
      "cell_type": "markdown",
      "source": [
        "### Correlation Before PCA"
      ],
      "metadata": {
        "collapsed": false,
        "pycharm": {
          "name": "#%% md\n"
        },
        "id": "JB_-kdD89Bm2"
      }
    },
    {
      "cell_type": "code",
      "execution_count": 43,
      "source": [
        "plt.figure(figsize = (16, 10))\n",
        "\n",
        "ax = sns.heatmap(mergedData.corr(), annot = True)\n",
        "ax.tick_params(axis = 'x', rotation = 60)\n",
        "ax.tick_params(axis = 'y', rotation = 0)\n",
        "# these two lines are meant to fix a bug in matplotlib's current version\n",
        "# where the graph top and bot rows are cut in half (I copied them from stackoverflow)\n",
        "bottom, top = ax.get_ylim()\n",
        "ax.set_ylim(bottom + 0.5, top - 0.5)\n",
        "\n",
        "plt.show()"
      ],
      "outputs": [
        {
          "output_type": "display_data",
          "data": {
            "image/png": "[encoded data removed]",
            "text/plain": [
              "<Figure size 1152x720 with 2 Axes>"
            ]
          },
          "metadata": {
            "needs_background": "light"
          }
        }
      ],
      "metadata": {
        "pycharm": {
          "name": "#%%\n"
        },
        "id": "vFAQR9FD9Bm2",
        "outputId": "275cb9ad-aad5-4e3d-af04-792af1444e4c",
        "colab": {
          "base_uri": "https://localhost:8080/",
          "height": 0
        }
      }
    },
    {
      "cell_type": "markdown",
      "source": [
        "### Dimentionality Reduction"
      ],
      "metadata": {
        "collapsed": false,
        "pycharm": {
          "name": "#%% md\n"
        },
        "id": "ieEGDg0I9Bm2"
      }
    },
    {
      "cell_type": "code",
      "execution_count": 44,
      "source": [
        "subsetOfData = mergedData[['temp','sunnyDay','rainType','wind','pressure','humidity']]\n",
        "mergedData.drop(['temp','clouds','sunnyDay','rainType','rain','wind','pressure','humidity'],axis=1,inplace=True)"
      ],
      "outputs": [],
      "metadata": {
        "pycharm": {
          "name": "#%%\n"
        },
        "id": "vNPIscXQ9Bm2"
      }
    },
    {
      "cell_type": "code",
      "execution_count": 45,
      "source": [
        "lowerDimensionWeatherData =preProcessing.reduceDimentionsOf(subsetOfData)\n",
        "mergedData['weatherState'] = lowerDimensionWeatherData"
      ],
      "outputs": [],
      "metadata": {
        "pycharm": {
          "name": "#%%\n"
        },
        "id": "UaMGDQFd9Bm2"
      }
    },
    {
      "cell_type": "markdown",
      "source": [
        "### Correlation Before PCA"
      ],
      "metadata": {
        "collapsed": false,
        "pycharm": {
          "name": "#%% md\n"
        },
        "id": "lWedNLKa9Bm3"
      }
    },
    {
      "cell_type": "code",
      "execution_count": 46,
      "source": [
        "plt.figure(figsize = (10, 10))\n",
        "\n",
        "ax = sns.heatmap(mergedData.corr(), annot = True)\n",
        "ax.tick_params(axis = 'x', rotation = 60)\n",
        "ax.tick_params(axis = 'y', rotation = 0)\n",
        "# these two lines are meant to fix a bug in matplotlib's current version\n",
        "# where the graph top and bot rows are cut in half (I copied them from stackoverflow)\n",
        "bottom, top = ax.get_ylim()\n",
        "ax.set_ylim(bottom + 0.5, top - 0.5)\n",
        "\n",
        "plt.show()"
      ],
      "outputs": [
        {
          "output_type": "display_data",
          "data": {
            "image/png": "[encoded data removed]",
            "text/plain": [
              "<Figure size 720x720 with 2 Axes>"
            ]
          },
          "metadata": {
            "needs_background": "light"
          }
        }
      ],
      "metadata": {
        "pycharm": {
          "name": "#%%\n"
        },
        "id": "UcGl5CoV9Bm3",
        "outputId": "c10f68c4-d702-4328-da32-9af7f53f3dbd",
        "colab": {
          "base_uri": "https://localhost:8080/",
          "height": 0
        }
      }
    },
    {
      "cell_type": "markdown",
      "source": [
        "# Model"
      ],
      "metadata": {
        "collapsed": false,
        "pycharm": {
          "name": "#%% md\n"
        },
        "id": "BLEY-sD09Bm3"
      }
    },
    {
      "cell_type": "code",
      "execution_count": 47,
      "source": [
        "dataFeatures = mergedData.drop(['RideCategory'],axis=1)\n",
        "dataLabel = mergedData['RideCategory']"
      ],
      "outputs": [],
      "metadata": {
        "pycharm": {
          "name": "#%%\n"
        },
        "id": "09NLXElb9Bm3"
      }
    },
    {
      "cell_type": "code",
      "execution_count": 48,
      "source": [
        "dataFeatures.head()"
      ],
      "outputs": [
        {
          "output_type": "execute_result",
          "data": {
            "text/html": [
              "<div>\n",
              "<style scoped>\n",
              "    .dataframe tbody tr th:only-of-type {\n",
              "        vertical-align: middle;\n",
              "    }\n",
              "\n",
              "    .dataframe tbody tr th {\n",
              "        vertical-align: top;\n",
              "    }\n",
              "\n",
              "    .dataframe thead th {\n",
              "        text-align: right;\n",
              "    }\n",
              "</style>\n",
              "<table border=\"1\" class=\"dataframe\">\n",
              "  <thead>\n",
              "    <tr style=\"text-align: right;\">\n",
              "      <th></th>\n",
              "      <th>distance</th>\n",
              "      <th>cab_type</th>\n",
              "      <th>destination</th>\n",
              "      <th>source</th>\n",
              "      <th>surge_multiplier</th>\n",
              "      <th>name</th>\n",
              "      <th>weatherState</th>\n",
              "    </tr>\n",
              "  </thead>\n",
              "  <tbody>\n",
              "    <tr>\n",
              "      <th>0</th>\n",
              "      <td>0.62</td>\n",
              "      <td>1</td>\n",
              "      <td>11</td>\n",
              "      <td>5</td>\n",
              "      <td>1.0</td>\n",
              "      <td>0</td>\n",
              "      <td>26.134730</td>\n",
              "    </tr>\n",
              "    <tr>\n",
              "      <th>1</th>\n",
              "      <td>2.27</td>\n",
              "      <td>1</td>\n",
              "      <td>2</td>\n",
              "      <td>1</td>\n",
              "      <td>1.0</td>\n",
              "      <td>1</td>\n",
              "      <td>-16.492402</td>\n",
              "    </tr>\n",
              "    <tr>\n",
              "      <th>2</th>\n",
              "      <td>2.00</td>\n",
              "      <td>0</td>\n",
              "      <td>0</td>\n",
              "      <td>5</td>\n",
              "      <td>1.0</td>\n",
              "      <td>1</td>\n",
              "      <td>2.092880</td>\n",
              "    </tr>\n",
              "    <tr>\n",
              "      <th>3</th>\n",
              "      <td>3.98</td>\n",
              "      <td>0</td>\n",
              "      <td>4</td>\n",
              "      <td>8</td>\n",
              "      <td>1.0</td>\n",
              "      <td>2</td>\n",
              "      <td>8.657758</td>\n",
              "    </tr>\n",
              "    <tr>\n",
              "      <th>4</th>\n",
              "      <td>1.49</td>\n",
              "      <td>0</td>\n",
              "      <td>0</td>\n",
              "      <td>8</td>\n",
              "      <td>1.0</td>\n",
              "      <td>1</td>\n",
              "      <td>8.657758</td>\n",
              "    </tr>\n",
              "  </tbody>\n",
              "</table>\n",
              "</div>"
            ],
            "text/plain": [
              "   distance  cab_type  destination  source  surge_multiplier  name  \\\n",
              "0      0.62         1           11       5               1.0     0   \n",
              "1      2.27         1            2       1               1.0     1   \n",
              "2      2.00         0            0       5               1.0     1   \n",
              "3      3.98         0            4       8               1.0     2   \n",
              "4      1.49         0            0       8               1.0     1   \n",
              "\n",
              "   weatherState  \n",
              "0     26.134730  \n",
              "1    -16.492402  \n",
              "2      2.092880  \n",
              "3      8.657758  \n",
              "4      8.657758  "
            ]
          },
          "metadata": {},
          "execution_count": 48
        }
      ],
      "metadata": {
        "pycharm": {
          "name": "#%%\n"
        },
        "id": "fM5b1dPE9Bm3",
        "outputId": "b3f24070-eb1e-46ce-f58d-181071560843",
        "colab": {
          "base_uri": "https://localhost:8080/",
          "height": 206
        }
      }
    },
    {
      "cell_type": "code",
      "execution_count": 49,
      "source": [
        "model = Model()"
      ],
      "outputs": [],
      "metadata": {
        "pycharm": {
          "name": "#%%\n"
        },
        "id": "tTNfpyzX9Bm3"
      }
    },
    {
      "cell_type": "code",
      "execution_count": 50,
      "source": [
        "preProcessing.scale(dataFeatures)\n",
        "splitScaledData = model.splitData(dataFeatures,dataLabel)"
      ],
      "outputs": [],
      "metadata": {
        "id": "lWTnTFlp9Bm4"
      }
    },
    {
      "cell_type": "markdown",
      "source": [
        "### Linear Logistic"
      ],
      "metadata": {
        "collapsed": false,
        "pycharm": {
          "name": "#%% md\n"
        },
        "id": "FAB80jZF9Bm4"
      }
    },
    {
      "cell_type": "code",
      "execution_count": 51,
      "source": [
        "params = {'solver' : 'lbfgs', 'multi_class' : 'multinomial', 'random_state':RANDOM_STATE}\n",
        "logisticRegression = model.fitClassificationModel(linear_model.LogisticRegression,\n",
        "                                                 params,\n",
        "                                                 evaluationFunction= metrics.f1_score,\n",
        "                                                 dataDictionary= splitScaledData)"
      ],
      "outputs": [
        {
          "output_type": "stream",
          "name": "stdout",
          "text": [
            "Training Accuracy : 0.8351421666320982\n",
            "Training f1_score : 0.8351421666320982\n",
            "\n",
            "Test Accuracy : 0.8340006492803809\n",
            "Test f1_score : 0.8340006492803809\n"
          ]
        }
      ],
      "metadata": {
        "pycharm": {
          "name": "#%%\n"
        },
        "id": "QlEb_1gJ9Bm4",
        "outputId": "d92866a6-d6e0-420f-cf4f-e6febd31b314",
        "colab": {
          "base_uri": "https://localhost:8080/"
        }
      }
    },
    {
      "cell_type": "markdown",
      "source": [
        "### Polynomial Logistic"
      ],
      "metadata": {
        "collapsed": false,
        "pycharm": {
          "name": "#%% md\n"
        },
        "id": "DbrcEOck9Bm4"
      }
    },
    {
      "cell_type": "code",
      "execution_count": 52,
      "source": [
        "polyDegree = 3"
      ],
      "outputs": [],
      "metadata": {
        "pycharm": {
          "name": "#%%\n"
        },
        "id": "xzEdJWql9Bm4"
      }
    },
    {
      "cell_type": "code",
      "execution_count": 53,
      "source": [
        "polyFeaturesTrain  = model.changeDegreeOf(splitScaledData['trainFeatures'], polyDegree)\n",
        "polyFeaturesValidation = model.changeDegreeOf(splitScaledData['testFeatures'], polyDegree)\n",
        "\n",
        "polyData = splitScaledData.copy()\n",
        "polyData['trainFeatures'] = polyFeaturesTrain\n",
        "polyData['testFeatures']  = polyFeaturesValidation"
      ],
      "outputs": [],
      "metadata": {
        "pycharm": {
          "name": "#%%\n"
        },
        "id": "1CtSy83P9Bm4"
      }
    },
    {
      "cell_type": "code",
      "execution_count": 54,
      "source": [
        "params = {'solver': 'lbfgs', 'multi_class' : 'multinomial', 'random_state' : RANDOM_STATE}\n",
        "polyModel = model.fitClassificationModel(linear_model.LogisticRegression,\n",
        "                                         params,\n",
        "                                         evaluationFunction= metrics.f1_score,\n",
        "                                         dataDictionary=polyData)"
      ],
      "outputs": [
        {
          "output_type": "stream",
          "name": "stdout",
          "text": [
            "Training Accuracy : 0.8508693221271338\n",
            "Training f1_score : 0.8508693221271338\n",
            "\n",
            "Test Accuracy : 0.8504851567290698\n",
            "Test f1_score : 0.8504851567290698\n"
          ]
        }
      ],
      "metadata": {
        "pycharm": {
          "name": "#%%\n"
        },
        "id": "vTKEvJPU9Bm5",
        "outputId": "9080550e-7557-4be6-a859-814e48ef3261",
        "colab": {
          "base_uri": "https://localhost:8080/"
        }
      }
    },
    {
      "cell_type": "markdown",
      "source": [
        "### Decision Tree"
      ],
      "metadata": {
        "collapsed": false,
        "pycharm": {
          "name": "#%% md\n"
        },
        "id": "NxJFTHnn9Bm5"
      }
    },
    {
      "cell_type": "code",
      "execution_count": 55,
      "source": [
        "params = {'criterion' : 'entropy', 'random_state' : RANDOM_STATE, 'min_samples_split' : 500}\n",
        "tree = model.fitClassificationModel(DecisionTreeClassifier,\n",
        "                                     params,\n",
        "                                     evaluationFunction= metrics.f1_score,\n",
        "                                     dataDictionary=splitScaledData)"
      ],
      "outputs": [
        {
          "output_type": "stream",
          "name": "stdout",
          "text": [
            "Training Accuracy : 0.8682151842800588\n",
            "Training f1_score : 0.8682151842800588\n",
            "\n",
            "Test Accuracy : 0.864417631569455\n",
            "Test f1_score : 0.864417631569455\n"
          ]
        }
      ],
      "metadata": {
        "pycharm": {
          "name": "#%%\n"
        },
        "id": "bYKGdazX9Bm5",
        "outputId": "98116c01-f289-4017-c51a-41c6ba2d4e0b",
        "colab": {
          "base_uri": "https://localhost:8080/"
        }
      }
    },
    {
      "cell_type": "markdown",
      "source": [
        "### Random Forest"
      ],
      "metadata": {
        "collapsed": false,
        "pycharm": {
          "name": "#%% md\n"
        },
        "id": "-3gqkrp29Bm5"
      }
    },
    {
      "cell_type": "code",
      "execution_count": 56,
      "source": [
        "params = {'n_estimators' : 10, 'random_state' : RANDOM_STATE,'min_samples_split' : 500}\n",
        "forest = model.fitClassificationModel(RandomForestClassifier,\n",
        "                                     params,\n",
        "                                     evaluationFunction= metrics.f1_score,\n",
        "                                     dataDictionary=splitScaledData)"
      ],
      "outputs": [
        {
          "output_type": "stream",
          "name": "stdout",
          "text": [
            "Training Accuracy : 0.8676538222218214\n",
            "Training f1_score : 0.8676538222218214\n",
            "\n",
            "Test Accuracy : 0.8642102225588861\n",
            "Test f1_score : 0.8642102225588861\n"
          ]
        }
      ],
      "metadata": {
        "pycharm": {
          "name": "#%%\n"
        },
        "id": "qpL2TBlE9Bm5",
        "outputId": "6c14f2bf-9841-46b2-cca2-f1b4e1b62398",
        "colab": {
          "base_uri": "https://localhost:8080/"
        }
      }
    },
    {
      "cell_type": "markdown",
      "source": [
        "### SVM"
      ],
      "metadata": {
        "collapsed": false,
        "pycharm": {
          "name": "#%% md\n"
        },
        "id": "3hR6KW9R9Bm6"
      }
    },
    {
      "cell_type": "code",
      "execution_count": 57,
      "source": [
        "# params = {'C' : 10, 'random_state' : RANDOM_STATE}\n",
        "# svm = model.fitClassificationModel(SVC,\n",
        "#                                     params,\n",
        "#                                     evaluationFunction= metrics.f1_score,\n",
        "#                                     dataDictionary=splitScaledData)"
      ],
      "outputs": [],
      "metadata": {
        "pycharm": {
          "name": "#%%\n"
        },
        "id": "wj-AgNQq9Bm6"
      }
    },
    {
      "cell_type": "markdown",
      "source": [
        "### Saving Encoders and Models"
      ],
      "metadata": {
        "collapsed": false,
        "pycharm": {
          "name": "#%% md\n"
        },
        "id": "MVKAK1rY9Bm6"
      }
    },
    {
      "cell_type": "code",
      "execution_count": 58,
      "source": [
        "from pickle import dump\n",
        "\n",
        "filename = 'saved_classificationEncoders'\n",
        "dump(preProcessing.encoders, open(filename, 'wb'))"
      ],
      "outputs": [],
      "metadata": {
        "pycharm": {
          "name": "#%%\n"
        },
        "id": "beIe8ckT9Bm6"
      }
    },
    {
      "cell_type": "code",
      "execution_count": 59,
      "source": [
        "models = {\n",
        "    'LogisticRegression':logisticRegression,\n",
        "    'DecisionTree': tree,\n",
        "    'RandomForest': forest\n",
        "}\n",
        "\n",
        "filename = 'saved_classificationModels'\n",
        "dump(models, open(filename, 'wb'))"
      ],
      "outputs": [],
      "metadata": {
        "pycharm": {
          "name": "#%%\n"
        },
        "id": "6-jWGz6B9Bm6"
      }
    },
    {
      "cell_type": "code",
      "execution_count": 60,
      "source": [
        "filename = 'saved_classificationScalers'\n",
        "dump(preProcessing.scalingCache, open(filename, 'wb'))"
      ],
      "outputs": [],
      "metadata": {
        "id": "6jxQb0AG9Bm6"
      }
    },
    {
      "cell_type": "code",
      "execution_count": null,
      "source": [],
      "outputs": [],
      "metadata": {
        "id": "tcMvmjKX9Bm6"
      }
    }
  ],
  "metadata": {
    "colab": {
      "collapsed_sections": [],
      "name": "Classification.ipynb",
      "provenance": []
    },
    "interpreter": {
      "hash": "916dbcbb3f70747c44a77c7bcd40155683ae19c65e1c03b4aa3499c5328201f1"
    },
    "kernelspec": {
      "name": "python3",
      "display_name": "Python 3.9.5 64-bit"
    },
    "language_info": {
      "codemirror_mode": {
        "name": "ipython",
        "version": 3
      },
      "file_extension": ".py",
      "mimetype": "text/x-python",
      "name": "python",
      "nbconvert_exporter": "python",
      "pygments_lexer": "ipython3",
      "version": "3.9.5"
    }
  },
  "nbformat": 4,
  "nbformat_minor": 2
}