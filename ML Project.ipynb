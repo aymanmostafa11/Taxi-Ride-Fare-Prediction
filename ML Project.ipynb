{
  "cells": [
    {
      "cell_type": "code",
      "execution_count": 1,
      "source": [
        "import gdown\n",
        "gdown.download_folder('https://drive.google.com/drive/folders/1r9BARaPl-5odlOwCPE8LZJ1cFWRZGsYO?usp=sharing')"
      ],
      "outputs": [
        {
          "output_type": "stream",
          "name": "stderr",
          "text": [
            "Retrieving folder list\n"
          ]
        },
        {
          "output_type": "stream",
          "name": "stdout",
          "text": [
            "Processing file 1-4FN7s4gsL_1D8NeeZ3A4IHL5i9qB6X4 taxi-rides.csv\n",
            "Processing file 1-7QHmsGAhPpnwwi9BPhwzpRtTEONi0r6 weather.csv\n",
            "Building directory structure completed\n"
          ]
        },
        {
          "output_type": "stream",
          "name": "stderr",
          "text": [
            "Retrieving folder list completed\n",
            "Building directory structure\n",
            "Downloading...\n",
            "From: https://drive.google.com/uc?id=1-4FN7s4gsL_1D8NeeZ3A4IHL5i9qB6X4\n",
            "To: /content/taxi/taxi-rides.csv\n",
            "100%|██████████| 69.8M/69.8M [00:00<00:00, 216MB/s]\n",
            "Downloading...\n",
            "From: https://drive.google.com/uc?id=1-7QHmsGAhPpnwwi9BPhwzpRtTEONi0r6\n",
            "To: /content/taxi/weather.csv\n",
            "100%|██████████| 350k/350k [00:00<00:00, 67.5MB/s]\n",
            "Download completed\n"
          ]
        },
        {
          "output_type": "execute_result",
          "data": {
            "text/plain": [
              "['/content/taxi/taxi-rides.csv', '/content/taxi/weather.csv']"
            ]
          },
          "metadata": {},
          "execution_count": 1
        }
      ],
      "metadata": {
        "colab": {
          "base_uri": "https://localhost:8080/"
        },
        "id": "arWAAuiomMkG",
        "outputId": "fbb176d7-44c7-4a2b-a49d-c4aacc5ca962"
      }
    },
    {
      "cell_type": "code",
      "execution_count": 2,
      "source": [
        "!wget https://raw.githubusercontent.com/aymanmostafa11/Taxi-Ride-Fare-Prediction/main/helpers.py?token=GHSAT0AAAAAABTL3SPVVTVDXPSZAZZ3LPVWYS4SBLA -O helpers.py"
      ],
      "outputs": [
        {
          "output_type": "stream",
          "name": "stdout",
          "text": [
            "--2022-04-17 21:49:31--  https://raw.githubusercontent.com/aymanmostafa11/Taxi-Ride-Fare-Prediction/main/helpers.py?token=GHSAT0AAAAAABTL3SPVVTVDXPSZAZZ3LPVWYS4SBLA\n",
            "Resolving raw.githubusercontent.com (raw.githubusercontent.com)... 185.199.108.133, 185.199.109.133, 185.199.110.133, ...\n",
            "Connecting to raw.githubusercontent.com (raw.githubusercontent.com)|185.199.108.133|:443... connected.\n",
            "HTTP request sent, awaiting response... 200 OK\n",
            "Length: 3868 (3.8K) [text/plain]\n",
            "Saving to: ‘helpers.py’\n",
            "\n",
            "\rhelpers.py            0%[                    ]       0  --.-KB/s               \rhelpers.py          100%[===================>]   3.78K  --.-KB/s    in 0s      \n",
            "\n",
            "2022-04-17 21:49:31 (23.7 MB/s) - ‘helpers.py’ saved [3868/3868]\n",
            "\n"
          ]
        }
      ],
      "metadata": {
        "id": "5kDoS6NvgJln",
        "outputId": "ed073eec-6306-4e79-df0a-5bd6495252cd",
        "colab": {
          "base_uri": "https://localhost:8080/"
        }
      }
    },
    {
      "cell_type": "code",
      "execution_count": 1,
      "source": [
        "import numpy as np\n",
        "import pandas as pd\n",
        "import matplotlib.pyplot as plt\n",
        "import seaborn as sns\n",
        "from sklearn import linear_model\n",
        "from sklearn import metrics\n",
        "from helpers import Model , preProcessing\n"
      ],
      "outputs": [],
      "metadata": {
        "id": "0Z-TorJZgEvf"
      }
    },
    {
      "cell_type": "code",
      "execution_count": 2,
      "source": [
        "taxiRides = pd.read_csv('taxi-rides.csv')\n",
        "weather = pd.read_csv('weather.csv')"
      ],
      "outputs": [],
      "metadata": {
        "id": "JFAJcYPpgEv5"
      }
    },
    {
      "cell_type": "code",
      "execution_count": 3,
      "source": [
        "print(f\"Taxi Rides has {taxiRides.shape[0]} Rows and {taxiRides.shape[1]} Columns\")\n",
        "taxiRides.head()"
      ],
      "outputs": [
        {
          "output_type": "stream",
          "name": "stdout",
          "text": [
            "Taxi Rides has 554456 Rows and 10 Columns\n"
          ]
        },
        {
          "output_type": "execute_result",
          "data": {
            "text/html": [
              "<div>\n",
              "<style scoped>\n",
              "    .dataframe tbody tr th:only-of-type {\n",
              "        vertical-align: middle;\n",
              "    }\n",
              "\n",
              "    .dataframe tbody tr th {\n",
              "        vertical-align: top;\n",
              "    }\n",
              "\n",
              "    .dataframe thead th {\n",
              "        text-align: right;\n",
              "    }\n",
              "</style>\n",
              "<table border=\"1\" class=\"dataframe\">\n",
              "  <thead>\n",
              "    <tr style=\"text-align: right;\">\n",
              "      <th></th>\n",
              "      <th>distance</th>\n",
              "      <th>cab_type</th>\n",
              "      <th>time_stamp</th>\n",
              "      <th>destination</th>\n",
              "      <th>source</th>\n",
              "      <th>surge_multiplier</th>\n",
              "      <th>id</th>\n",
              "      <th>product_id</th>\n",
              "      <th>name</th>\n",
              "      <th>price</th>\n",
              "    </tr>\n",
              "  </thead>\n",
              "  <tbody>\n",
              "    <tr>\n",
              "      <th>0</th>\n",
              "      <td>0.62</td>\n",
              "      <td>Uber</td>\n",
              "      <td>1.544770e+12</td>\n",
              "      <td>West End</td>\n",
              "      <td>Haymarket Square</td>\n",
              "      <td>1.0</td>\n",
              "      <td>c1b4a572-24b2-484d-aac5-b4f97b790480</td>\n",
              "      <td>8cf7e821-f0d3-49c6-8eba-e679c0ebcf6a</td>\n",
              "      <td>Taxi</td>\n",
              "      <td>NaN</td>\n",
              "    </tr>\n",
              "    <tr>\n",
              "      <th>1</th>\n",
              "      <td>2.27</td>\n",
              "      <td>Uber</td>\n",
              "      <td>1.543400e+12</td>\n",
              "      <td>Boston University</td>\n",
              "      <td>Beacon Hill</td>\n",
              "      <td>1.0</td>\n",
              "      <td>f9e7e7e6-b309-479b-9f90-bf26a1870c81</td>\n",
              "      <td>997acbb5-e102-41e1-b155-9df7de0a73f2</td>\n",
              "      <td>UberPool</td>\n",
              "      <td>8.0</td>\n",
              "    </tr>\n",
              "    <tr>\n",
              "      <th>2</th>\n",
              "      <td>2.00</td>\n",
              "      <td>Lyft</td>\n",
              "      <td>1.544920e+12</td>\n",
              "      <td>Back Bay</td>\n",
              "      <td>Haymarket Square</td>\n",
              "      <td>1.0</td>\n",
              "      <td>154e8438-46f5-4e5f-9872-15cc95e85eed</td>\n",
              "      <td>lyft</td>\n",
              "      <td>Lyft</td>\n",
              "      <td>10.5</td>\n",
              "    </tr>\n",
              "    <tr>\n",
              "      <th>3</th>\n",
              "      <td>3.98</td>\n",
              "      <td>Lyft</td>\n",
              "      <td>1.543620e+12</td>\n",
              "      <td>Financial District</td>\n",
              "      <td>Northeastern University</td>\n",
              "      <td>1.0</td>\n",
              "      <td>6bdc30a6-9a80-487b-914e-8d9b82ee4acb</td>\n",
              "      <td>lyft_plus</td>\n",
              "      <td>Lyft XL</td>\n",
              "      <td>22.5</td>\n",
              "    </tr>\n",
              "    <tr>\n",
              "      <th>4</th>\n",
              "      <td>1.49</td>\n",
              "      <td>Lyft</td>\n",
              "      <td>1.543580e+12</td>\n",
              "      <td>Back Bay</td>\n",
              "      <td>Northeastern University</td>\n",
              "      <td>1.0</td>\n",
              "      <td>0cb12fe9-cd72-4feb-b341-4a566b2e6643</td>\n",
              "      <td>lyft</td>\n",
              "      <td>Lyft</td>\n",
              "      <td>7.0</td>\n",
              "    </tr>\n",
              "  </tbody>\n",
              "</table>\n",
              "</div>"
            ],
            "text/plain": [
              "   distance cab_type    time_stamp         destination  \\\n",
              "0      0.62     Uber  1.544770e+12            West End   \n",
              "1      2.27     Uber  1.543400e+12   Boston University   \n",
              "2      2.00     Lyft  1.544920e+12            Back Bay   \n",
              "3      3.98     Lyft  1.543620e+12  Financial District   \n",
              "4      1.49     Lyft  1.543580e+12            Back Bay   \n",
              "\n",
              "                    source  surge_multiplier  \\\n",
              "0         Haymarket Square               1.0   \n",
              "1              Beacon Hill               1.0   \n",
              "2         Haymarket Square               1.0   \n",
              "3  Northeastern University               1.0   \n",
              "4  Northeastern University               1.0   \n",
              "\n",
              "                                     id                            product_id  \\\n",
              "0  c1b4a572-24b2-484d-aac5-b4f97b790480  8cf7e821-f0d3-49c6-8eba-e679c0ebcf6a   \n",
              "1  f9e7e7e6-b309-479b-9f90-bf26a1870c81  997acbb5-e102-41e1-b155-9df7de0a73f2   \n",
              "2  154e8438-46f5-4e5f-9872-15cc95e85eed                                  lyft   \n",
              "3  6bdc30a6-9a80-487b-914e-8d9b82ee4acb                             lyft_plus   \n",
              "4  0cb12fe9-cd72-4feb-b341-4a566b2e6643                                  lyft   \n",
              "\n",
              "       name  price  \n",
              "0      Taxi    NaN  \n",
              "1  UberPool    8.0  \n",
              "2      Lyft   10.5  \n",
              "3   Lyft XL   22.5  \n",
              "4      Lyft    7.0  "
            ]
          },
          "metadata": {},
          "execution_count": 3
        }
      ],
      "metadata": {
        "colab": {
          "base_uri": "https://localhost:8080/",
          "height": 354
        },
        "id": "3vvtqdwOgEv_",
        "outputId": "3c4f879c-db70-4315-f447-ceb5965d3d01"
      }
    },
    {
      "cell_type": "code",
      "execution_count": 4,
      "source": [
        "print(f\"Weather has {weather.shape[0]} Rows and {weather.shape[1]} Columns\")\n",
        "weather.head()"
      ],
      "outputs": [
        {
          "output_type": "stream",
          "name": "stdout",
          "text": [
            "Weather has 6276 Rows and 8 Columns\n"
          ]
        },
        {
          "output_type": "execute_result",
          "data": {
            "text/html": [
              "<div>\n",
              "<style scoped>\n",
              "    .dataframe tbody tr th:only-of-type {\n",
              "        vertical-align: middle;\n",
              "    }\n",
              "\n",
              "    .dataframe tbody tr th {\n",
              "        vertical-align: top;\n",
              "    }\n",
              "\n",
              "    .dataframe thead th {\n",
              "        text-align: right;\n",
              "    }\n",
              "</style>\n",
              "<table border=\"1\" class=\"dataframe\">\n",
              "  <thead>\n",
              "    <tr style=\"text-align: right;\">\n",
              "      <th></th>\n",
              "      <th>temp</th>\n",
              "      <th>location</th>\n",
              "      <th>clouds</th>\n",
              "      <th>pressure</th>\n",
              "      <th>rain</th>\n",
              "      <th>time_stamp</th>\n",
              "      <th>humidity</th>\n",
              "      <th>wind</th>\n",
              "    </tr>\n",
              "  </thead>\n",
              "  <tbody>\n",
              "    <tr>\n",
              "      <th>0</th>\n",
              "      <td>42.42</td>\n",
              "      <td>Back Bay</td>\n",
              "      <td>1.0</td>\n",
              "      <td>1012.14</td>\n",
              "      <td>0.1228</td>\n",
              "      <td>1545003901</td>\n",
              "      <td>0.77</td>\n",
              "      <td>11.25</td>\n",
              "    </tr>\n",
              "    <tr>\n",
              "      <th>1</th>\n",
              "      <td>42.43</td>\n",
              "      <td>Beacon Hill</td>\n",
              "      <td>1.0</td>\n",
              "      <td>1012.15</td>\n",
              "      <td>0.1846</td>\n",
              "      <td>1545003901</td>\n",
              "      <td>0.76</td>\n",
              "      <td>11.32</td>\n",
              "    </tr>\n",
              "    <tr>\n",
              "      <th>2</th>\n",
              "      <td>42.50</td>\n",
              "      <td>Boston University</td>\n",
              "      <td>1.0</td>\n",
              "      <td>1012.15</td>\n",
              "      <td>0.1089</td>\n",
              "      <td>1545003901</td>\n",
              "      <td>0.76</td>\n",
              "      <td>11.07</td>\n",
              "    </tr>\n",
              "    <tr>\n",
              "      <th>3</th>\n",
              "      <td>42.11</td>\n",
              "      <td>Fenway</td>\n",
              "      <td>1.0</td>\n",
              "      <td>1012.13</td>\n",
              "      <td>0.0969</td>\n",
              "      <td>1545003901</td>\n",
              "      <td>0.77</td>\n",
              "      <td>11.09</td>\n",
              "    </tr>\n",
              "    <tr>\n",
              "      <th>4</th>\n",
              "      <td>43.13</td>\n",
              "      <td>Financial District</td>\n",
              "      <td>1.0</td>\n",
              "      <td>1012.14</td>\n",
              "      <td>0.1786</td>\n",
              "      <td>1545003901</td>\n",
              "      <td>0.75</td>\n",
              "      <td>11.49</td>\n",
              "    </tr>\n",
              "  </tbody>\n",
              "</table>\n",
              "</div>"
            ],
            "text/plain": [
              "    temp            location  clouds  pressure    rain  time_stamp  humidity  \\\n",
              "0  42.42            Back Bay     1.0   1012.14  0.1228  1545003901      0.77   \n",
              "1  42.43         Beacon Hill     1.0   1012.15  0.1846  1545003901      0.76   \n",
              "2  42.50   Boston University     1.0   1012.15  0.1089  1545003901      0.76   \n",
              "3  42.11              Fenway     1.0   1012.13  0.0969  1545003901      0.77   \n",
              "4  43.13  Financial District     1.0   1012.14  0.1786  1545003901      0.75   \n",
              "\n",
              "    wind  \n",
              "0  11.25  \n",
              "1  11.32  \n",
              "2  11.07  \n",
              "3  11.09  \n",
              "4  11.49  "
            ]
          },
          "metadata": {},
          "execution_count": 4
        }
      ],
      "metadata": {
        "colab": {
          "base_uri": "https://localhost:8080/",
          "height": 223
        },
        "id": "iYKr_Fp5gEwF",
        "outputId": "bd7c272f-c62a-4ec6-9bde-252ff3ef916c",
        "scrolled": false
      }
    },
    {
      "cell_type": "markdown",
      "source": [
        "# Data Cleaning"
      ],
      "metadata": {
        "id": "g9hWHOakgEwJ"
      }
    },
    {
      "cell_type": "markdown",
      "source": [
        "## Taxi Rides"
      ],
      "metadata": {
        "id": "FxAg-M9rgEwS"
      }
    },
    {
      "cell_type": "code",
      "execution_count": 5,
      "source": [
        "taxiRides.info()"
      ],
      "outputs": [
        {
          "output_type": "stream",
          "name": "stdout",
          "text": [
            "<class 'pandas.core.frame.DataFrame'>\n",
            "RangeIndex: 554456 entries, 0 to 554455\n",
            "Data columns (total 10 columns):\n",
            " #   Column            Non-Null Count   Dtype  \n",
            "---  ------            --------------   -----  \n",
            " 0   distance          554456 non-null  float64\n",
            " 1   cab_type          554456 non-null  object \n",
            " 2   time_stamp        554456 non-null  float64\n",
            " 3   destination       554456 non-null  object \n",
            " 4   source            554456 non-null  object \n",
            " 5   surge_multiplier  554456 non-null  float64\n",
            " 6   id                554456 non-null  object \n",
            " 7   product_id        554456 non-null  object \n",
            " 8   name              554456 non-null  object \n",
            " 9   price             510321 non-null  float64\n",
            "dtypes: float64(4), object(6)\n",
            "memory usage: 42.3+ MB\n"
          ]
        }
      ],
      "metadata": {
        "colab": {
          "base_uri": "https://localhost:8080/"
        },
        "id": "D8L2oFhegEwY",
        "outputId": "5ed06eec-f80f-4bc1-de2c-3a31d7ce22dd",
        "scrolled": true
      }
    },
    {
      "cell_type": "markdown",
      "source": [
        "## Null"
      ],
      "metadata": {
        "id": "b5cZp83vgEwh"
      }
    },
    {
      "cell_type": "code",
      "execution_count": 6,
      "source": [
        "taxiRides.isnull().sum()"
      ],
      "outputs": [
        {
          "output_type": "execute_result",
          "data": {
            "text/plain": [
              "distance                0\n",
              "cab_type                0\n",
              "time_stamp              0\n",
              "destination             0\n",
              "source                  0\n",
              "surge_multiplier        0\n",
              "id                      0\n",
              "product_id              0\n",
              "name                    0\n",
              "price               44135\n",
              "dtype: int64"
            ]
          },
          "metadata": {},
          "execution_count": 6
        }
      ],
      "metadata": {
        "colab": {
          "base_uri": "https://localhost:8080/"
        },
        "id": "yeQWF9iLgEwk",
        "outputId": "4929656e-c73d-4a55-97fb-2de605d55452",
        "scrolled": true
      }
    },
    {
      "cell_type": "markdown",
      "source": [
        "## product_id and name"
      ],
      "metadata": {
        "id": "BCkljrZhgEwm"
      }
    },
    {
      "cell_type": "code",
      "execution_count": 7,
      "source": [
        "taxiRides['product_id'].value_counts()"
      ],
      "outputs": [
        {
          "output_type": "execute_result",
          "data": {
            "text/plain": [
              "55c66225-fbe7-4fd5-9072-eab1ece5e23e    44204\n",
              "8cf7e821-f0d3-49c6-8eba-e679c0ebcf6a    44135\n",
              "997acbb5-e102-41e1-b155-9df7de0a73f2    44108\n",
              "6d318bcc-22a3-4af6-bddd-b409bfce1546    44038\n",
              "9a0e7b09-b92b-4c41-9779-2ad22b4d779d    44024\n",
              "6f72dfc5-27f1-42e8-84db-ccc7a75f6969    43983\n",
              "6c84fd89-3f11-4782-9b50-97c468b19529    43977\n",
              "lyft_plus                               41142\n",
              "lyft_lux                                41041\n",
              "lyft                                    41015\n",
              "lyft_luxsuv                             40979\n",
              "lyft_premier                            40969\n",
              "lyft_line                               40841\n",
              "Name: product_id, dtype: int64"
            ]
          },
          "metadata": {},
          "execution_count": 7
        }
      ],
      "metadata": {
        "colab": {
          "base_uri": "https://localhost:8080/"
        },
        "id": "TVOrLS2qgEwo",
        "outputId": "c68132d9-a9bc-4ec5-cf27-7dce6a11d25c",
        "scrolled": true
      }
    },
    {
      "cell_type": "code",
      "execution_count": 8,
      "source": [
        "taxiRides['name'].value_counts()"
      ],
      "outputs": [
        {
          "output_type": "execute_result",
          "data": {
            "text/plain": [
              "UberX           44204\n",
              "Taxi            44135\n",
              "UberPool        44108\n",
              "Black SUV       44038\n",
              "WAV             44024\n",
              "UberXL          43983\n",
              "Black           43977\n",
              "Lyft XL         41142\n",
              "Lux Black       41041\n",
              "Lyft            41015\n",
              "Lux Black XL    40979\n",
              "Lux             40969\n",
              "Shared          40841\n",
              "Name: name, dtype: int64"
            ]
          },
          "metadata": {},
          "execution_count": 8
        }
      ],
      "metadata": {
        "colab": {
          "base_uri": "https://localhost:8080/"
        },
        "id": "P_AEN5VigEws",
        "outputId": "45717d79-ac6f-49b0-b04e-d488f12ff83b"
      }
    },
    {
      "cell_type": "markdown",
      "source": [
        "product_id and name represent the same feature so we can drop one of them"
      ],
      "metadata": {
        "id": "EOcX1qLUgEwu"
      }
    },
    {
      "cell_type": "markdown",
      "source": [
        "## Encoding Timestamps to date"
      ],
      "metadata": {
        "id": "b1_DvW9dgEwv"
      }
    },
    {
      "cell_type": "code",
      "execution_count": 9,
      "source": [
        "weatherDate = pd.to_datetime(weather['time_stamp'], unit='s').apply(lambda x: x.strftime(('%Y-%m-%d')))\n",
        "taxiRidesDate = pd.to_datetime(taxiRides['time_stamp'], unit='ms').apply(lambda x: x.strftime(('%Y-%m-%d')))\n",
        "weather['date'] = weatherDate\n",
        "taxiRides['date'] = taxiRidesDate"
      ],
      "outputs": [],
      "metadata": {
        "id": "1YHUXXUcgEwx"
      }
    },
    {
      "cell_type": "code",
      "execution_count": 10,
      "source": [
        "taxiRides.head()"
      ],
      "outputs": [
        {
          "output_type": "execute_result",
          "data": {
            "text/html": [
              "<div>\n",
              "<style scoped>\n",
              "    .dataframe tbody tr th:only-of-type {\n",
              "        vertical-align: middle;\n",
              "    }\n",
              "\n",
              "    .dataframe tbody tr th {\n",
              "        vertical-align: top;\n",
              "    }\n",
              "\n",
              "    .dataframe thead th {\n",
              "        text-align: right;\n",
              "    }\n",
              "</style>\n",
              "<table border=\"1\" class=\"dataframe\">\n",
              "  <thead>\n",
              "    <tr style=\"text-align: right;\">\n",
              "      <th></th>\n",
              "      <th>distance</th>\n",
              "      <th>cab_type</th>\n",
              "      <th>time_stamp</th>\n",
              "      <th>destination</th>\n",
              "      <th>source</th>\n",
              "      <th>surge_multiplier</th>\n",
              "      <th>id</th>\n",
              "      <th>product_id</th>\n",
              "      <th>name</th>\n",
              "      <th>price</th>\n",
              "      <th>date</th>\n",
              "    </tr>\n",
              "  </thead>\n",
              "  <tbody>\n",
              "    <tr>\n",
              "      <th>0</th>\n",
              "      <td>0.62</td>\n",
              "      <td>Uber</td>\n",
              "      <td>1.544770e+12</td>\n",
              "      <td>West End</td>\n",
              "      <td>Haymarket Square</td>\n",
              "      <td>1.0</td>\n",
              "      <td>c1b4a572-24b2-484d-aac5-b4f97b790480</td>\n",
              "      <td>8cf7e821-f0d3-49c6-8eba-e679c0ebcf6a</td>\n",
              "      <td>Taxi</td>\n",
              "      <td>NaN</td>\n",
              "      <td>2018-12-14</td>\n",
              "    </tr>\n",
              "    <tr>\n",
              "      <th>1</th>\n",
              "      <td>2.27</td>\n",
              "      <td>Uber</td>\n",
              "      <td>1.543400e+12</td>\n",
              "      <td>Boston University</td>\n",
              "      <td>Beacon Hill</td>\n",
              "      <td>1.0</td>\n",
              "      <td>f9e7e7e6-b309-479b-9f90-bf26a1870c81</td>\n",
              "      <td>997acbb5-e102-41e1-b155-9df7de0a73f2</td>\n",
              "      <td>UberPool</td>\n",
              "      <td>8.0</td>\n",
              "      <td>2018-11-28</td>\n",
              "    </tr>\n",
              "    <tr>\n",
              "      <th>2</th>\n",
              "      <td>2.00</td>\n",
              "      <td>Lyft</td>\n",
              "      <td>1.544920e+12</td>\n",
              "      <td>Back Bay</td>\n",
              "      <td>Haymarket Square</td>\n",
              "      <td>1.0</td>\n",
              "      <td>154e8438-46f5-4e5f-9872-15cc95e85eed</td>\n",
              "      <td>lyft</td>\n",
              "      <td>Lyft</td>\n",
              "      <td>10.5</td>\n",
              "      <td>2018-12-16</td>\n",
              "    </tr>\n",
              "    <tr>\n",
              "      <th>3</th>\n",
              "      <td>3.98</td>\n",
              "      <td>Lyft</td>\n",
              "      <td>1.543620e+12</td>\n",
              "      <td>Financial District</td>\n",
              "      <td>Northeastern University</td>\n",
              "      <td>1.0</td>\n",
              "      <td>6bdc30a6-9a80-487b-914e-8d9b82ee4acb</td>\n",
              "      <td>lyft_plus</td>\n",
              "      <td>Lyft XL</td>\n",
              "      <td>22.5</td>\n",
              "      <td>2018-11-30</td>\n",
              "    </tr>\n",
              "    <tr>\n",
              "      <th>4</th>\n",
              "      <td>1.49</td>\n",
              "      <td>Lyft</td>\n",
              "      <td>1.543580e+12</td>\n",
              "      <td>Back Bay</td>\n",
              "      <td>Northeastern University</td>\n",
              "      <td>1.0</td>\n",
              "      <td>0cb12fe9-cd72-4feb-b341-4a566b2e6643</td>\n",
              "      <td>lyft</td>\n",
              "      <td>Lyft</td>\n",
              "      <td>7.0</td>\n",
              "      <td>2018-11-30</td>\n",
              "    </tr>\n",
              "  </tbody>\n",
              "</table>\n",
              "</div>"
            ],
            "text/plain": [
              "   distance cab_type    time_stamp         destination  \\\n",
              "0      0.62     Uber  1.544770e+12            West End   \n",
              "1      2.27     Uber  1.543400e+12   Boston University   \n",
              "2      2.00     Lyft  1.544920e+12            Back Bay   \n",
              "3      3.98     Lyft  1.543620e+12  Financial District   \n",
              "4      1.49     Lyft  1.543580e+12            Back Bay   \n",
              "\n",
              "                    source  surge_multiplier  \\\n",
              "0         Haymarket Square               1.0   \n",
              "1              Beacon Hill               1.0   \n",
              "2         Haymarket Square               1.0   \n",
              "3  Northeastern University               1.0   \n",
              "4  Northeastern University               1.0   \n",
              "\n",
              "                                     id                            product_id  \\\n",
              "0  c1b4a572-24b2-484d-aac5-b4f97b790480  8cf7e821-f0d3-49c6-8eba-e679c0ebcf6a   \n",
              "1  f9e7e7e6-b309-479b-9f90-bf26a1870c81  997acbb5-e102-41e1-b155-9df7de0a73f2   \n",
              "2  154e8438-46f5-4e5f-9872-15cc95e85eed                                  lyft   \n",
              "3  6bdc30a6-9a80-487b-914e-8d9b82ee4acb                             lyft_plus   \n",
              "4  0cb12fe9-cd72-4feb-b341-4a566b2e6643                                  lyft   \n",
              "\n",
              "       name  price        date  \n",
              "0      Taxi    NaN  2018-12-14  \n",
              "1  UberPool    8.0  2018-11-28  \n",
              "2      Lyft   10.5  2018-12-16  \n",
              "3   Lyft XL   22.5  2018-11-30  \n",
              "4      Lyft    7.0  2018-11-30  "
            ]
          },
          "metadata": {},
          "execution_count": 10
        }
      ],
      "metadata": {
        "colab": {
          "base_uri": "https://localhost:8080/",
          "height": 0
        },
        "id": "7ZzmOFpugEw9",
        "outputId": "5439d1cb-817a-44c7-f194-7706841c75ea"
      }
    },
    {
      "cell_type": "code",
      "execution_count": 11,
      "source": [
        "weather.head()"
      ],
      "outputs": [
        {
          "output_type": "execute_result",
          "data": {
            "text/html": [
              "<div>\n",
              "<style scoped>\n",
              "    .dataframe tbody tr th:only-of-type {\n",
              "        vertical-align: middle;\n",
              "    }\n",
              "\n",
              "    .dataframe tbody tr th {\n",
              "        vertical-align: top;\n",
              "    }\n",
              "\n",
              "    .dataframe thead th {\n",
              "        text-align: right;\n",
              "    }\n",
              "</style>\n",
              "<table border=\"1\" class=\"dataframe\">\n",
              "  <thead>\n",
              "    <tr style=\"text-align: right;\">\n",
              "      <th></th>\n",
              "      <th>temp</th>\n",
              "      <th>location</th>\n",
              "      <th>clouds</th>\n",
              "      <th>pressure</th>\n",
              "      <th>rain</th>\n",
              "      <th>time_stamp</th>\n",
              "      <th>humidity</th>\n",
              "      <th>wind</th>\n",
              "      <th>date</th>\n",
              "    </tr>\n",
              "  </thead>\n",
              "  <tbody>\n",
              "    <tr>\n",
              "      <th>0</th>\n",
              "      <td>42.42</td>\n",
              "      <td>Back Bay</td>\n",
              "      <td>1.0</td>\n",
              "      <td>1012.14</td>\n",
              "      <td>0.1228</td>\n",
              "      <td>1545003901</td>\n",
              "      <td>0.77</td>\n",
              "      <td>11.25</td>\n",
              "      <td>2018-12-16</td>\n",
              "    </tr>\n",
              "    <tr>\n",
              "      <th>1</th>\n",
              "      <td>42.43</td>\n",
              "      <td>Beacon Hill</td>\n",
              "      <td>1.0</td>\n",
              "      <td>1012.15</td>\n",
              "      <td>0.1846</td>\n",
              "      <td>1545003901</td>\n",
              "      <td>0.76</td>\n",
              "      <td>11.32</td>\n",
              "      <td>2018-12-16</td>\n",
              "    </tr>\n",
              "    <tr>\n",
              "      <th>2</th>\n",
              "      <td>42.50</td>\n",
              "      <td>Boston University</td>\n",
              "      <td>1.0</td>\n",
              "      <td>1012.15</td>\n",
              "      <td>0.1089</td>\n",
              "      <td>1545003901</td>\n",
              "      <td>0.76</td>\n",
              "      <td>11.07</td>\n",
              "      <td>2018-12-16</td>\n",
              "    </tr>\n",
              "    <tr>\n",
              "      <th>3</th>\n",
              "      <td>42.11</td>\n",
              "      <td>Fenway</td>\n",
              "      <td>1.0</td>\n",
              "      <td>1012.13</td>\n",
              "      <td>0.0969</td>\n",
              "      <td>1545003901</td>\n",
              "      <td>0.77</td>\n",
              "      <td>11.09</td>\n",
              "      <td>2018-12-16</td>\n",
              "    </tr>\n",
              "    <tr>\n",
              "      <th>4</th>\n",
              "      <td>43.13</td>\n",
              "      <td>Financial District</td>\n",
              "      <td>1.0</td>\n",
              "      <td>1012.14</td>\n",
              "      <td>0.1786</td>\n",
              "      <td>1545003901</td>\n",
              "      <td>0.75</td>\n",
              "      <td>11.49</td>\n",
              "      <td>2018-12-16</td>\n",
              "    </tr>\n",
              "  </tbody>\n",
              "</table>\n",
              "</div>"
            ],
            "text/plain": [
              "    temp            location  clouds  pressure    rain  time_stamp  humidity  \\\n",
              "0  42.42            Back Bay     1.0   1012.14  0.1228  1545003901      0.77   \n",
              "1  42.43         Beacon Hill     1.0   1012.15  0.1846  1545003901      0.76   \n",
              "2  42.50   Boston University     1.0   1012.15  0.1089  1545003901      0.76   \n",
              "3  42.11              Fenway     1.0   1012.13  0.0969  1545003901      0.77   \n",
              "4  43.13  Financial District     1.0   1012.14  0.1786  1545003901      0.75   \n",
              "\n",
              "    wind        date  \n",
              "0  11.25  2018-12-16  \n",
              "1  11.32  2018-12-16  \n",
              "2  11.07  2018-12-16  \n",
              "3  11.09  2018-12-16  \n",
              "4  11.49  2018-12-16  "
            ]
          },
          "metadata": {},
          "execution_count": 11
        }
      ],
      "metadata": {
        "colab": {
          "base_uri": "https://localhost:8080/",
          "height": 0
        },
        "id": "yMObXFdqgEw-",
        "outputId": "cd50948a-69c7-4cce-fb60-89eeeced4e38",
        "scrolled": false
      }
    },
    {
      "cell_type": "code",
      "execution_count": 12,
      "source": [
        "taxiRides.drop(['time_stamp'],axis = 1, inplace = True)\n",
        "weather.drop(['time_stamp'],axis = 1, inplace = True)"
      ],
      "outputs": [],
      "metadata": {
        "id": "hOZECS-kgExA"
      }
    },
    {
      "cell_type": "markdown",
      "source": [
        "## Joining Dataframes based on date"
      ],
      "metadata": {
        "id": "vXWmLCUdgExD"
      }
    },
    {
      "cell_type": "code",
      "execution_count": 13,
      "source": [
        "mergedData = pd.merge(taxiRides,weather.drop_duplicates(subset=['date', 'location']), how = 'left', left_on=['date', 'source'], right_on=['date', 'location'])"
      ],
      "outputs": [],
      "metadata": {
        "id": "kDsWyOw1gExE"
      }
    },
    {
      "cell_type": "code",
      "execution_count": 14,
      "source": [
        "mergedData.head()"
      ],
      "outputs": [
        {
          "output_type": "execute_result",
          "data": {
            "text/html": [
              "<div>\n",
              "<style scoped>\n",
              "    .dataframe tbody tr th:only-of-type {\n",
              "        vertical-align: middle;\n",
              "    }\n",
              "\n",
              "    .dataframe tbody tr th {\n",
              "        vertical-align: top;\n",
              "    }\n",
              "\n",
              "    .dataframe thead th {\n",
              "        text-align: right;\n",
              "    }\n",
              "</style>\n",
              "<table border=\"1\" class=\"dataframe\">\n",
              "  <thead>\n",
              "    <tr style=\"text-align: right;\">\n",
              "      <th></th>\n",
              "      <th>distance</th>\n",
              "      <th>cab_type</th>\n",
              "      <th>destination</th>\n",
              "      <th>source</th>\n",
              "      <th>surge_multiplier</th>\n",
              "      <th>id</th>\n",
              "      <th>product_id</th>\n",
              "      <th>name</th>\n",
              "      <th>price</th>\n",
              "      <th>date</th>\n",
              "      <th>temp</th>\n",
              "      <th>location</th>\n",
              "      <th>clouds</th>\n",
              "      <th>pressure</th>\n",
              "      <th>rain</th>\n",
              "      <th>humidity</th>\n",
              "      <th>wind</th>\n",
              "    </tr>\n",
              "  </thead>\n",
              "  <tbody>\n",
              "    <tr>\n",
              "      <th>0</th>\n",
              "      <td>0.62</td>\n",
              "      <td>Uber</td>\n",
              "      <td>West End</td>\n",
              "      <td>Haymarket Square</td>\n",
              "      <td>1.0</td>\n",
              "      <td>c1b4a572-24b2-484d-aac5-b4f97b790480</td>\n",
              "      <td>8cf7e821-f0d3-49c6-8eba-e679c0ebcf6a</td>\n",
              "      <td>Taxi</td>\n",
              "      <td>NaN</td>\n",
              "      <td>2018-12-14</td>\n",
              "      <td>27.34</td>\n",
              "      <td>Haymarket Square</td>\n",
              "      <td>0.15</td>\n",
              "      <td>1033.40</td>\n",
              "      <td>NaN</td>\n",
              "      <td>0.81</td>\n",
              "      <td>3.04</td>\n",
              "    </tr>\n",
              "    <tr>\n",
              "      <th>1</th>\n",
              "      <td>2.27</td>\n",
              "      <td>Uber</td>\n",
              "      <td>Boston University</td>\n",
              "      <td>Beacon Hill</td>\n",
              "      <td>1.0</td>\n",
              "      <td>f9e7e7e6-b309-479b-9f90-bf26a1870c81</td>\n",
              "      <td>997acbb5-e102-41e1-b155-9df7de0a73f2</td>\n",
              "      <td>UberPool</td>\n",
              "      <td>8.0</td>\n",
              "      <td>2018-11-28</td>\n",
              "      <td>33.67</td>\n",
              "      <td>Beacon Hill</td>\n",
              "      <td>0.12</td>\n",
              "      <td>991.20</td>\n",
              "      <td>NaN</td>\n",
              "      <td>0.82</td>\n",
              "      <td>5.37</td>\n",
              "    </tr>\n",
              "    <tr>\n",
              "      <th>2</th>\n",
              "      <td>2.00</td>\n",
              "      <td>Lyft</td>\n",
              "      <td>Back Bay</td>\n",
              "      <td>Haymarket Square</td>\n",
              "      <td>1.0</td>\n",
              "      <td>154e8438-46f5-4e5f-9872-15cc95e85eed</td>\n",
              "      <td>lyft</td>\n",
              "      <td>Lyft</td>\n",
              "      <td>10.5</td>\n",
              "      <td>2018-12-16</td>\n",
              "      <td>42.34</td>\n",
              "      <td>Haymarket Square</td>\n",
              "      <td>1.00</td>\n",
              "      <td>1012.15</td>\n",
              "      <td>0.2068</td>\n",
              "      <td>0.77</td>\n",
              "      <td>11.49</td>\n",
              "    </tr>\n",
              "    <tr>\n",
              "      <th>3</th>\n",
              "      <td>3.98</td>\n",
              "      <td>Lyft</td>\n",
              "      <td>Financial District</td>\n",
              "      <td>Northeastern University</td>\n",
              "      <td>1.0</td>\n",
              "      <td>6bdc30a6-9a80-487b-914e-8d9b82ee4acb</td>\n",
              "      <td>lyft_plus</td>\n",
              "      <td>Lyft XL</td>\n",
              "      <td>22.5</td>\n",
              "      <td>2018-11-30</td>\n",
              "      <td>38.46</td>\n",
              "      <td>Northeastern University</td>\n",
              "      <td>0.96</td>\n",
              "      <td>1017.24</td>\n",
              "      <td>NaN</td>\n",
              "      <td>0.66</td>\n",
              "      <td>3.31</td>\n",
              "    </tr>\n",
              "    <tr>\n",
              "      <th>4</th>\n",
              "      <td>1.49</td>\n",
              "      <td>Lyft</td>\n",
              "      <td>Back Bay</td>\n",
              "      <td>Northeastern University</td>\n",
              "      <td>1.0</td>\n",
              "      <td>0cb12fe9-cd72-4feb-b341-4a566b2e6643</td>\n",
              "      <td>lyft</td>\n",
              "      <td>Lyft</td>\n",
              "      <td>7.0</td>\n",
              "      <td>2018-11-30</td>\n",
              "      <td>38.46</td>\n",
              "      <td>Northeastern University</td>\n",
              "      <td>0.96</td>\n",
              "      <td>1017.24</td>\n",
              "      <td>NaN</td>\n",
              "      <td>0.66</td>\n",
              "      <td>3.31</td>\n",
              "    </tr>\n",
              "  </tbody>\n",
              "</table>\n",
              "</div>"
            ],
            "text/plain": [
              "   distance cab_type         destination                   source  \\\n",
              "0      0.62     Uber            West End         Haymarket Square   \n",
              "1      2.27     Uber   Boston University              Beacon Hill   \n",
              "2      2.00     Lyft            Back Bay         Haymarket Square   \n",
              "3      3.98     Lyft  Financial District  Northeastern University   \n",
              "4      1.49     Lyft            Back Bay  Northeastern University   \n",
              "\n",
              "   surge_multiplier                                    id  \\\n",
              "0               1.0  c1b4a572-24b2-484d-aac5-b4f97b790480   \n",
              "1               1.0  f9e7e7e6-b309-479b-9f90-bf26a1870c81   \n",
              "2               1.0  154e8438-46f5-4e5f-9872-15cc95e85eed   \n",
              "3               1.0  6bdc30a6-9a80-487b-914e-8d9b82ee4acb   \n",
              "4               1.0  0cb12fe9-cd72-4feb-b341-4a566b2e6643   \n",
              "\n",
              "                             product_id      name  price        date   temp  \\\n",
              "0  8cf7e821-f0d3-49c6-8eba-e679c0ebcf6a      Taxi    NaN  2018-12-14  27.34   \n",
              "1  997acbb5-e102-41e1-b155-9df7de0a73f2  UberPool    8.0  2018-11-28  33.67   \n",
              "2                                  lyft      Lyft   10.5  2018-12-16  42.34   \n",
              "3                             lyft_plus   Lyft XL   22.5  2018-11-30  38.46   \n",
              "4                                  lyft      Lyft    7.0  2018-11-30  38.46   \n",
              "\n",
              "                  location  clouds  pressure    rain  humidity   wind  \n",
              "0         Haymarket Square    0.15   1033.40     NaN      0.81   3.04  \n",
              "1              Beacon Hill    0.12    991.20     NaN      0.82   5.37  \n",
              "2         Haymarket Square    1.00   1012.15  0.2068      0.77  11.49  \n",
              "3  Northeastern University    0.96   1017.24     NaN      0.66   3.31  \n",
              "4  Northeastern University    0.96   1017.24     NaN      0.66   3.31  "
            ]
          },
          "metadata": {},
          "execution_count": 14
        }
      ],
      "metadata": {
        "colab": {
          "base_uri": "https://localhost:8080/",
          "height": 0
        },
        "id": "a6uxoHApgExG",
        "outputId": "a713fdf1-e8c4-44d1-af69-0bf7fabb504c",
        "scrolled": true
      }
    },
    {
      "cell_type": "markdown",
      "source": [
        "## Rain Feature"
      ],
      "metadata": {
        "id": "bX0qzKlkgExH"
      }
    },
    {
      "cell_type": "code",
      "execution_count": 15,
      "source": [
        "weather['rain'].hist()"
      ],
      "outputs": [
        {
          "output_type": "execute_result",
          "data": {
            "text/plain": [
              "<AxesSubplot:>"
            ]
          },
          "metadata": {},
          "execution_count": 15
        },
        {
          "output_type": "display_data",
          "data": {
            "image/png": "[encoded data removed]",
            "text/plain": [
              "<Figure size 432x288 with 1 Axes>"
            ]
          },
          "metadata": {
            "needs_background": "light"
          }
        }
      ],
      "metadata": {
        "colab": {
          "base_uri": "https://localhost:8080/",
          "height": 0
        },
        "id": "8bwt4tLfgExJ",
        "outputId": "53567be0-a4ba-4ef7-ad09-09ae8280cd98"
      }
    },
    {
      "cell_type": "markdown",
      "source": [
        "Does null values of rain revolve around certain values?"
      ],
      "metadata": {
        "id": "EOePkSJ0sI6t"
      }
    },
    {
      "cell_type": "code",
      "execution_count": 16,
      "source": [
        "weather[weather['rain'].isnull()].describe()"
      ],
      "outputs": [
        {
          "output_type": "execute_result",
          "data": {
            "text/html": [
              "<div>\n",
              "<style scoped>\n",
              "    .dataframe tbody tr th:only-of-type {\n",
              "        vertical-align: middle;\n",
              "    }\n",
              "\n",
              "    .dataframe tbody tr th {\n",
              "        vertical-align: top;\n",
              "    }\n",
              "\n",
              "    .dataframe thead th {\n",
              "        text-align: right;\n",
              "    }\n",
              "</style>\n",
              "<table border=\"1\" class=\"dataframe\">\n",
              "  <thead>\n",
              "    <tr style=\"text-align: right;\">\n",
              "      <th></th>\n",
              "      <th>temp</th>\n",
              "      <th>clouds</th>\n",
              "      <th>pressure</th>\n",
              "      <th>rain</th>\n",
              "      <th>humidity</th>\n",
              "      <th>wind</th>\n",
              "    </tr>\n",
              "  </thead>\n",
              "  <tbody>\n",
              "    <tr>\n",
              "      <th>count</th>\n",
              "      <td>5382.000000</td>\n",
              "      <td>5382.000000</td>\n",
              "      <td>5382.00000</td>\n",
              "      <td>0.0</td>\n",
              "      <td>5382.000000</td>\n",
              "      <td>5382.000000</td>\n",
              "    </tr>\n",
              "    <tr>\n",
              "      <th>mean</th>\n",
              "      <td>38.461557</td>\n",
              "      <td>0.633618</td>\n",
              "      <td>1008.92490</td>\n",
              "      <td>NaN</td>\n",
              "      <td>0.747293</td>\n",
              "      <td>6.375199</td>\n",
              "    </tr>\n",
              "    <tr>\n",
              "      <th>std</th>\n",
              "      <td>6.169892</td>\n",
              "      <td>0.312919</td>\n",
              "      <td>13.46695</td>\n",
              "      <td>NaN</td>\n",
              "      <td>0.124451</td>\n",
              "      <td>3.542713</td>\n",
              "    </tr>\n",
              "    <tr>\n",
              "      <th>min</th>\n",
              "      <td>19.620000</td>\n",
              "      <td>0.000000</td>\n",
              "      <td>988.25000</td>\n",
              "      <td>NaN</td>\n",
              "      <td>0.450000</td>\n",
              "      <td>0.290000</td>\n",
              "    </tr>\n",
              "    <tr>\n",
              "      <th>25%</th>\n",
              "      <td>35.022500</td>\n",
              "      <td>0.400000</td>\n",
              "      <td>997.39000</td>\n",
              "      <td>NaN</td>\n",
              "      <td>0.660000</td>\n",
              "      <td>3.190000</td>\n",
              "    </tr>\n",
              "    <tr>\n",
              "      <th>50%</th>\n",
              "      <td>39.360000</td>\n",
              "      <td>0.680000</td>\n",
              "      <td>1009.56000</td>\n",
              "      <td>NaN</td>\n",
              "      <td>0.730000</td>\n",
              "      <td>6.210000</td>\n",
              "    </tr>\n",
              "    <tr>\n",
              "      <th>75%</th>\n",
              "      <td>41.470000</td>\n",
              "      <td>0.930000</td>\n",
              "      <td>1020.95000</td>\n",
              "      <td>NaN</td>\n",
              "      <td>0.850000</td>\n",
              "      <td>9.627500</td>\n",
              "    </tr>\n",
              "    <tr>\n",
              "      <th>max</th>\n",
              "      <td>55.410000</td>\n",
              "      <td>1.000000</td>\n",
              "      <td>1035.12000</td>\n",
              "      <td>NaN</td>\n",
              "      <td>0.990000</td>\n",
              "      <td>18.180000</td>\n",
              "    </tr>\n",
              "  </tbody>\n",
              "</table>\n",
              "</div>"
            ],
            "text/plain": [
              "              temp       clouds    pressure  rain     humidity         wind\n",
              "count  5382.000000  5382.000000  5382.00000   0.0  5382.000000  5382.000000\n",
              "mean     38.461557     0.633618  1008.92490   NaN     0.747293     6.375199\n",
              "std       6.169892     0.312919    13.46695   NaN     0.124451     3.542713\n",
              "min      19.620000     0.000000   988.25000   NaN     0.450000     0.290000\n",
              "25%      35.022500     0.400000   997.39000   NaN     0.660000     3.190000\n",
              "50%      39.360000     0.680000  1009.56000   NaN     0.730000     6.210000\n",
              "75%      41.470000     0.930000  1020.95000   NaN     0.850000     9.627500\n",
              "max      55.410000     1.000000  1035.12000   NaN     0.990000    18.180000"
            ]
          },
          "metadata": {},
          "execution_count": 16
        }
      ],
      "metadata": {
        "colab": {
          "base_uri": "https://localhost:8080/",
          "height": 0
        },
        "id": "qH-cx29TgExL",
        "outputId": "04823345-ef20-4956-c14b-70d137a8638a"
      }
    },
    {
      "cell_type": "code",
      "execution_count": 17,
      "source": [
        "weather[weather['rain'].notna()].describe()"
      ],
      "outputs": [
        {
          "output_type": "execute_result",
          "data": {
            "text/html": [
              "<div>\n",
              "<style scoped>\n",
              "    .dataframe tbody tr th:only-of-type {\n",
              "        vertical-align: middle;\n",
              "    }\n",
              "\n",
              "    .dataframe tbody tr th {\n",
              "        vertical-align: top;\n",
              "    }\n",
              "\n",
              "    .dataframe thead th {\n",
              "        text-align: right;\n",
              "    }\n",
              "</style>\n",
              "<table border=\"1\" class=\"dataframe\">\n",
              "  <thead>\n",
              "    <tr style=\"text-align: right;\">\n",
              "      <th></th>\n",
              "      <th>temp</th>\n",
              "      <th>clouds</th>\n",
              "      <th>pressure</th>\n",
              "      <th>rain</th>\n",
              "      <th>humidity</th>\n",
              "      <th>wind</th>\n",
              "    </tr>\n",
              "  </thead>\n",
              "  <tbody>\n",
              "    <tr>\n",
              "      <th>count</th>\n",
              "      <td>894.000000</td>\n",
              "      <td>894.000000</td>\n",
              "      <td>894.000000</td>\n",
              "      <td>894.000000</td>\n",
              "      <td>894.000000</td>\n",
              "      <td>894.000000</td>\n",
              "    </tr>\n",
              "    <tr>\n",
              "      <th>mean</th>\n",
              "      <td>42.876644</td>\n",
              "      <td>0.943624</td>\n",
              "      <td>1005.557405</td>\n",
              "      <td>0.057652</td>\n",
              "      <td>0.864474</td>\n",
              "      <td>9.377103</td>\n",
              "    </tr>\n",
              "    <tr>\n",
              "      <th>std</th>\n",
              "      <td>2.951239</td>\n",
              "      <td>0.146752</td>\n",
              "      <td>7.841618</td>\n",
              "      <td>0.100758</td>\n",
              "      <td>0.093957</td>\n",
              "      <td>3.066719</td>\n",
              "    </tr>\n",
              "    <tr>\n",
              "      <th>min</th>\n",
              "      <td>34.100000</td>\n",
              "      <td>0.100000</td>\n",
              "      <td>988.910000</td>\n",
              "      <td>0.000200</td>\n",
              "      <td>0.520000</td>\n",
              "      <td>1.740000</td>\n",
              "    </tr>\n",
              "    <tr>\n",
              "      <th>25%</th>\n",
              "      <td>41.482500</td>\n",
              "      <td>0.970000</td>\n",
              "      <td>999.750000</td>\n",
              "      <td>0.004900</td>\n",
              "      <td>0.860000</td>\n",
              "      <td>7.660000</td>\n",
              "    </tr>\n",
              "    <tr>\n",
              "      <th>50%</th>\n",
              "      <td>43.820000</td>\n",
              "      <td>1.000000</td>\n",
              "      <td>1005.945000</td>\n",
              "      <td>0.014850</td>\n",
              "      <td>0.900000</td>\n",
              "      <td>9.890000</td>\n",
              "    </tr>\n",
              "    <tr>\n",
              "      <th>75%</th>\n",
              "      <td>44.510000</td>\n",
              "      <td>1.000000</td>\n",
              "      <td>1011.237500</td>\n",
              "      <td>0.060925</td>\n",
              "      <td>0.920000</td>\n",
              "      <td>11.187500</td>\n",
              "    </tr>\n",
              "    <tr>\n",
              "      <th>max</th>\n",
              "      <td>51.240000</td>\n",
              "      <td>1.000000</td>\n",
              "      <td>1021.790000</td>\n",
              "      <td>0.780700</td>\n",
              "      <td>0.980000</td>\n",
              "      <td>17.160000</td>\n",
              "    </tr>\n",
              "  </tbody>\n",
              "</table>\n",
              "</div>"
            ],
            "text/plain": [
              "             temp      clouds     pressure        rain    humidity        wind\n",
              "count  894.000000  894.000000   894.000000  894.000000  894.000000  894.000000\n",
              "mean    42.876644    0.943624  1005.557405    0.057652    0.864474    9.377103\n",
              "std      2.951239    0.146752     7.841618    0.100758    0.093957    3.066719\n",
              "min     34.100000    0.100000   988.910000    0.000200    0.520000    1.740000\n",
              "25%     41.482500    0.970000   999.750000    0.004900    0.860000    7.660000\n",
              "50%     43.820000    1.000000  1005.945000    0.014850    0.900000    9.890000\n",
              "75%     44.510000    1.000000  1011.237500    0.060925    0.920000   11.187500\n",
              "max     51.240000    1.000000  1021.790000    0.780700    0.980000   17.160000"
            ]
          },
          "metadata": {},
          "execution_count": 17
        }
      ],
      "metadata": {
        "colab": {
          "base_uri": "https://localhost:8080/",
          "height": 0
        },
        "id": "wTUDgw0RgExM",
        "outputId": "4390f843-068e-4d25-e285-ae37954b94a3"
      }
    },
    {
      "cell_type": "code",
      "execution_count": 18,
      "source": [
        "weather['rain'].value_counts()"
      ],
      "outputs": [
        {
          "output_type": "execute_result",
          "data": {
            "text/plain": [
              "0.0030    85\n",
              "0.0020    51\n",
              "0.0040    23\n",
              "0.0060    17\n",
              "0.0050    15\n",
              "          ..\n",
              "0.0337     1\n",
              "0.0243     1\n",
              "0.0367     1\n",
              "0.0347     1\n",
              "0.0281     1\n",
              "Name: rain, Length: 437, dtype: int64"
            ]
          },
          "metadata": {},
          "execution_count": 18
        }
      ],
      "metadata": {
        "colab": {
          "base_uri": "https://localhost:8080/"
        },
        "id": "Lhc1TbDkgExO",
        "outputId": "e8344f68-4c09-4315-c6d0-41cc200c484c",
        "scrolled": true
      }
    },
    {
      "cell_type": "markdown",
      "source": [
        "Rain feature nulls could indicate no rain"
      ],
      "metadata": {
        "id": "8zrw4OIKgExP"
      }
    },
    {
      "cell_type": "code",
      "execution_count": 19,
      "source": [
        "mergedData.shape"
      ],
      "outputs": [
        {
          "output_type": "execute_result",
          "data": {
            "text/plain": [
              "(554456, 17)"
            ]
          },
          "metadata": {},
          "execution_count": 19
        }
      ],
      "metadata": {
        "colab": {
          "base_uri": "https://localhost:8080/"
        },
        "id": "OwwdJRzmgExQ",
        "outputId": "2a71a49d-1d00-4466-9d25-0907e8cbb48f"
      }
    },
    {
      "cell_type": "code",
      "execution_count": 20,
      "source": [
        "mergedData.isnull().sum()"
      ],
      "outputs": [
        {
          "output_type": "execute_result",
          "data": {
            "text/plain": [
              "distance                 0\n",
              "cab_type                 0\n",
              "destination              0\n",
              "source                   0\n",
              "surge_multiplier         0\n",
              "id                       0\n",
              "product_id               0\n",
              "name                     0\n",
              "price                44135\n",
              "date                     0\n",
              "temp                     0\n",
              "location                 0\n",
              "clouds                   0\n",
              "pressure                 0\n",
              "rain                480515\n",
              "humidity                 0\n",
              "wind                     0\n",
              "dtype: int64"
            ]
          },
          "metadata": {},
          "execution_count": 20
        }
      ],
      "metadata": {
        "colab": {
          "base_uri": "https://localhost:8080/"
        },
        "id": "kSHPRE5ngExR",
        "outputId": "e3359e1a-2881-4b48-ea5f-95572d62cf49"
      }
    },
    {
      "cell_type": "code",
      "execution_count": 21,
      "source": [
        "mergedData.corr()"
      ],
      "outputs": [
        {
          "output_type": "execute_result",
          "data": {
            "text/html": [
              "<div>\n",
              "<style scoped>\n",
              "    .dataframe tbody tr th:only-of-type {\n",
              "        vertical-align: middle;\n",
              "    }\n",
              "\n",
              "    .dataframe tbody tr th {\n",
              "        vertical-align: top;\n",
              "    }\n",
              "\n",
              "    .dataframe thead th {\n",
              "        text-align: right;\n",
              "    }\n",
              "</style>\n",
              "<table border=\"1\" class=\"dataframe\">\n",
              "  <thead>\n",
              "    <tr style=\"text-align: right;\">\n",
              "      <th></th>\n",
              "      <th>distance</th>\n",
              "      <th>surge_multiplier</th>\n",
              "      <th>price</th>\n",
              "      <th>temp</th>\n",
              "      <th>clouds</th>\n",
              "      <th>pressure</th>\n",
              "      <th>rain</th>\n",
              "      <th>humidity</th>\n",
              "      <th>wind</th>\n",
              "    </tr>\n",
              "  </thead>\n",
              "  <tbody>\n",
              "    <tr>\n",
              "      <th>distance</th>\n",
              "      <td>1.000000</td>\n",
              "      <td>0.024511</td>\n",
              "      <td>0.345093</td>\n",
              "      <td>0.010890</td>\n",
              "      <td>-0.002783</td>\n",
              "      <td>-0.002353</td>\n",
              "      <td>-0.039473</td>\n",
              "      <td>0.002052</td>\n",
              "      <td>-0.000790</td>\n",
              "    </tr>\n",
              "    <tr>\n",
              "      <th>surge_multiplier</th>\n",
              "      <td>0.024511</td>\n",
              "      <td>1.000000</td>\n",
              "      <td>0.239984</td>\n",
              "      <td>-0.000994</td>\n",
              "      <td>-0.000788</td>\n",
              "      <td>-0.003530</td>\n",
              "      <td>-0.008458</td>\n",
              "      <td>-0.000201</td>\n",
              "      <td>0.001716</td>\n",
              "    </tr>\n",
              "    <tr>\n",
              "      <th>price</th>\n",
              "      <td>0.345093</td>\n",
              "      <td>0.239984</td>\n",
              "      <td>1.000000</td>\n",
              "      <td>0.003128</td>\n",
              "      <td>-0.001234</td>\n",
              "      <td>-0.001214</td>\n",
              "      <td>-0.011989</td>\n",
              "      <td>-0.001571</td>\n",
              "      <td>0.001184</td>\n",
              "    </tr>\n",
              "    <tr>\n",
              "      <th>temp</th>\n",
              "      <td>0.010890</td>\n",
              "      <td>-0.000994</td>\n",
              "      <td>0.003128</td>\n",
              "      <td>1.000000</td>\n",
              "      <td>0.565023</td>\n",
              "      <td>-0.292254</td>\n",
              "      <td>0.670202</td>\n",
              "      <td>0.370357</td>\n",
              "      <td>-0.026835</td>\n",
              "    </tr>\n",
              "    <tr>\n",
              "      <th>clouds</th>\n",
              "      <td>-0.002783</td>\n",
              "      <td>-0.000788</td>\n",
              "      <td>-0.001234</td>\n",
              "      <td>0.565023</td>\n",
              "      <td>1.000000</td>\n",
              "      <td>0.001757</td>\n",
              "      <td>0.328214</td>\n",
              "      <td>0.052333</td>\n",
              "      <td>0.194617</td>\n",
              "    </tr>\n",
              "    <tr>\n",
              "      <th>pressure</th>\n",
              "      <td>-0.002353</td>\n",
              "      <td>-0.003530</td>\n",
              "      <td>-0.001214</td>\n",
              "      <td>-0.292254</td>\n",
              "      <td>0.001757</td>\n",
              "      <td>1.000000</td>\n",
              "      <td>-0.127533</td>\n",
              "      <td>-0.068084</td>\n",
              "      <td>-0.477728</td>\n",
              "    </tr>\n",
              "    <tr>\n",
              "      <th>rain</th>\n",
              "      <td>-0.039473</td>\n",
              "      <td>-0.008458</td>\n",
              "      <td>-0.011989</td>\n",
              "      <td>0.670202</td>\n",
              "      <td>0.328214</td>\n",
              "      <td>-0.127533</td>\n",
              "      <td>1.000000</td>\n",
              "      <td>-0.580101</td>\n",
              "      <td>0.844514</td>\n",
              "    </tr>\n",
              "    <tr>\n",
              "      <th>humidity</th>\n",
              "      <td>0.002052</td>\n",
              "      <td>-0.000201</td>\n",
              "      <td>-0.001571</td>\n",
              "      <td>0.370357</td>\n",
              "      <td>0.052333</td>\n",
              "      <td>-0.068084</td>\n",
              "      <td>-0.580101</td>\n",
              "      <td>1.000000</td>\n",
              "      <td>-0.400076</td>\n",
              "    </tr>\n",
              "    <tr>\n",
              "      <th>wind</th>\n",
              "      <td>-0.000790</td>\n",
              "      <td>0.001716</td>\n",
              "      <td>0.001184</td>\n",
              "      <td>-0.026835</td>\n",
              "      <td>0.194617</td>\n",
              "      <td>-0.477728</td>\n",
              "      <td>0.844514</td>\n",
              "      <td>-0.400076</td>\n",
              "      <td>1.000000</td>\n",
              "    </tr>\n",
              "  </tbody>\n",
              "</table>\n",
              "</div>"
            ],
            "text/plain": [
              "                  distance  surge_multiplier     price      temp    clouds  \\\n",
              "distance          1.000000          0.024511  0.345093  0.010890 -0.002783   \n",
              "surge_multiplier  0.024511          1.000000  0.239984 -0.000994 -0.000788   \n",
              "price             0.345093          0.239984  1.000000  0.003128 -0.001234   \n",
              "temp              0.010890         -0.000994  0.003128  1.000000  0.565023   \n",
              "clouds           -0.002783         -0.000788 -0.001234  0.565023  1.000000   \n",
              "pressure         -0.002353         -0.003530 -0.001214 -0.292254  0.001757   \n",
              "rain             -0.039473         -0.008458 -0.011989  0.670202  0.328214   \n",
              "humidity          0.002052         -0.000201 -0.001571  0.370357  0.052333   \n",
              "wind             -0.000790          0.001716  0.001184 -0.026835  0.194617   \n",
              "\n",
              "                  pressure      rain  humidity      wind  \n",
              "distance         -0.002353 -0.039473  0.002052 -0.000790  \n",
              "surge_multiplier -0.003530 -0.008458 -0.000201  0.001716  \n",
              "price            -0.001214 -0.011989 -0.001571  0.001184  \n",
              "temp             -0.292254  0.670202  0.370357 -0.026835  \n",
              "clouds            0.001757  0.328214  0.052333  0.194617  \n",
              "pressure          1.000000 -0.127533 -0.068084 -0.477728  \n",
              "rain             -0.127533  1.000000 -0.580101  0.844514  \n",
              "humidity         -0.068084 -0.580101  1.000000 -0.400076  \n",
              "wind             -0.477728  0.844514 -0.400076  1.000000  "
            ]
          },
          "metadata": {},
          "execution_count": 21
        }
      ],
      "metadata": {
        "colab": {
          "base_uri": "https://localhost:8080/",
          "height": 0
        },
        "id": "WOtp8VqegExT",
        "outputId": "ec72628e-f0cf-444d-f31c-a604f7f1843d"
      }
    },
    {
      "cell_type": "code",
      "execution_count": 22,
      "source": [
        "mergedData.drop('location',axis=1,inplace=True)"
      ],
      "outputs": [],
      "metadata": {
        "id": "YfC744oTgExV"
      }
    },
    {
      "cell_type": "markdown",
      "source": [
        "# Data Visualization"
      ],
      "metadata": {
        "id": "E-HNbEFTgExX"
      }
    },
    {
      "cell_type": "code",
      "execution_count": 23,
      "source": [
        "# to make the bars sorted\n",
        "mergedData.sort_values('price', inplace=True)\n",
        "\n",
        "plt.figure(figsize =(16,6))\n",
        "sns.barplot(data=mergedData,x='name',y='price',hue='cab_type')\n",
        "plt.show()"
      ],
      "outputs": [
        {
          "output_type": "display_data",
          "data": {
            "image/png": "[encoded data removed]",
            "text/plain": [
              "<Figure size 1152x432 with 1 Axes>"
            ]
          },
          "metadata": {
            "needs_background": "light"
          }
        }
      ],
      "metadata": {
        "colab": {
          "base_uri": "https://localhost:8080/",
          "height": 388
        },
        "id": "qoIxn6orgExY",
        "outputId": "9ef3ec4e-0f84-48fb-cdcd-6faa0d3ea03d"
      }
    },
    {
      "cell_type": "markdown",
      "source": [
        "Apparently all *price* values of *Taxi* are missing, could all the missing values from *price* be from the *taxi* cab type? we need to verify this"
      ],
      "metadata": {
        "id": "NuMQ3wOhu2XE"
      }
    },
    {
      "cell_type": "code",
      "execution_count": 24,
      "source": [
        "taxiNullValues = mergedData[mergedData['price'].isnull()]['name'].value_counts()['Taxi']\n",
        "totalNullValues = mergedData.isnull().sum()['price']\n",
        "print(f\"There are {taxiNullValues} price null values with Taxi as cab_type from a total of {totalNullValues} \\\n",
        ": {taxiNullValues / totalNullValues * 100}%\")"
      ],
      "outputs": [
        {
          "output_type": "stream",
          "name": "stdout",
          "text": [
            "There are 44135 price null values with Taxi as cab_type from a total of 44135 : 100.0%\n"
          ]
        }
      ],
      "metadata": {
        "colab": {
          "base_uri": "https://localhost:8080/"
        },
        "id": "FCm6ZcVRvy_G",
        "outputId": "f04d25c4-556b-4c8b-da50-5cb7bf60e6af"
      }
    },
    {
      "cell_type": "code",
      "execution_count": 25,
      "source": [
        "plt.figure(figsize =(16,6))\n",
        "sns.lineplot(data=mergedData,x='distance',y='price')\n",
        "plt.show()"
      ],
      "outputs": [
        {
          "output_type": "display_data",
          "data": {
            "image/png": "[encoded data removed]",
            "text/plain": [
              "<Figure size 1152x432 with 1 Axes>"
            ]
          },
          "metadata": {
            "needs_background": "light"
          }
        }
      ],
      "metadata": {
        "colab": {
          "base_uri": "https://localhost:8080/",
          "height": 388
        },
        "id": "0CUjxInRgExZ",
        "outputId": "9a311d8c-165b-4b5f-a217-3984473580e2"
      }
    },
    {
      "cell_type": "markdown",
      "source": [
        "Price as expected increases with distance, however there are some spikes that must have other factors contributing in"
      ],
      "metadata": {
        "id": "diSWAs9gyhJn"
      }
    },
    {
      "cell_type": "markdown",
      "source": [
        "## Weather Graphs"
      ],
      "metadata": {
        "id": "76GX5AA0ziDe"
      }
    },
    {
      "cell_type": "code",
      "execution_count": 26,
      "source": [
        "plt.figure(figsize =(16,6))\n",
        "sns.relplot(data=mergedData,x='temp',y='clouds')\n",
        "plt.show()"
      ],
      "outputs": [
        {
          "output_type": "display_data",
          "data": {
            "text/plain": [
              "<Figure size 1152x432 with 0 Axes>"
            ]
          },
          "metadata": {}
        },
        {
          "output_type": "display_data",
          "data": {
            "image/png": "[encoded data removed]",
            "text/plain": [
              "<Figure size 360x360 with 1 Axes>"
            ]
          },
          "metadata": {
            "needs_background": "light"
          }
        }
      ],
      "metadata": {
        "colab": {
          "base_uri": "https://localhost:8080/",
          "height": 386
        },
        "id": "yKVURUOMgExi",
        "outputId": "039ed632-b5f2-4de8-f293-7cff619dbe7c"
      }
    },
    {
      "cell_type": "code",
      "execution_count": 27,
      "source": [
        "plt.figure(figsize =(16,6))\n",
        "sns.relplot(data=mergedData,x='temp',y='humidity')\n",
        "plt.show()"
      ],
      "outputs": [
        {
          "output_type": "display_data",
          "data": {
            "text/plain": [
              "<Figure size 1152x432 with 0 Axes>"
            ]
          },
          "metadata": {}
        },
        {
          "output_type": "display_data",
          "data": {
            "image/png": "[encoded data removed]",
            "text/plain": [
              "<Figure size 360x360 with 1 Axes>"
            ]
          },
          "metadata": {
            "needs_background": "light"
          }
        }
      ],
      "metadata": {
        "colab": {
          "base_uri": "https://localhost:8080/",
          "height": 386
        },
        "id": "OupfXsoigExk",
        "outputId": "2b1ad4cb-36b0-4523-a62c-ec5243e137ad"
      }
    },
    {
      "cell_type": "code",
      "execution_count": 28,
      "source": [
        "plt.figure(figsize =(16,6))\n",
        "sns.lineplot(data=mergedData,x='pressure',y='wind')\n",
        "plt.show()"
      ],
      "outputs": [
        {
          "output_type": "display_data",
          "data": {
            "image/png": "[encoded data removed]",
            "text/plain": [
              "<Figure size 1152x432 with 1 Axes>"
            ]
          },
          "metadata": {
            "needs_background": "light"
          }
        }
      ],
      "metadata": {
        "colab": {
          "base_uri": "https://localhost:8080/",
          "height": 388
        },
        "id": "iRgiUwM7gExl",
        "outputId": "d0ef2876-8822-4ad2-9205-faac2f32a20d"
      }
    },
    {
      "cell_type": "code",
      "execution_count": 29,
      "source": [
        "mergedData['cab_type'].hist()\n",
        "plt.show()"
      ],
      "outputs": [
        {
          "output_type": "display_data",
          "data": {
            "image/png": "[encoded data removed]",
            "text/plain": [
              "<Figure size 432x288 with 1 Axes>"
            ]
          },
          "metadata": {
            "needs_background": "light"
          }
        }
      ],
      "metadata": {
        "colab": {
          "base_uri": "https://localhost:8080/",
          "height": 265
        },
        "id": "3aQdxYxjgExn",
        "outputId": "cb7082df-4a8d-4096-eb70-2062fd9ca348"
      }
    },
    {
      "cell_type": "code",
      "execution_count": 30,
      "source": [
        "mergedData['surge_multiplier'].hist()"
      ],
      "outputs": [
        {
          "output_type": "execute_result",
          "data": {
            "text/plain": [
              "<AxesSubplot:>"
            ]
          },
          "metadata": {},
          "execution_count": 30
        },
        {
          "output_type": "display_data",
          "data": {
            "image/png": "[encoded data removed]",
            "text/plain": [
              "<Figure size 432x288 with 1 Axes>"
            ]
          },
          "metadata": {
            "needs_background": "light"
          }
        }
      ],
      "metadata": {
        "colab": {
          "base_uri": "https://localhost:8080/",
          "height": 282
        },
        "id": "k90TNYI_gExp",
        "outputId": "ac869c9b-d525-4dc8-d446-9c590b6a6594"
      }
    },
    {
      "cell_type": "markdown",
      "source": [
        "# Preprocessing"
      ],
      "metadata": {
        "id": "9je9fxUDgTiZ"
      }
    },
    {
      "cell_type": "code",
      "execution_count": 31,
      "source": [
        "services = ['Shared', 'UberPool', 'Lyft', 'Taxi', 'WAV', 'UberX', 'UberXL', 'Lyft XL', 'Lux', 'Black',\n",
        "            'Lux Black', 'Black SUV', 'Lux Black XL']\n",
        "\n",
        "labels = [0, 1, 1, 1, 1, 1, 2, 2, 2, 3, 3, 4, 4]\n",
        "\n",
        "mergedData['name'].replace(services, labels, inplace=True)"
      ],
      "outputs": [],
      "metadata": {}
    },
    {
      "cell_type": "code",
      "execution_count": 32,
      "source": [
        "mergedData.drop(['date', 'id', 'product_id'], axis=1, inplace=True)\n",
        "mergedData.rename(columns = {'name':'ride_class'}, inplace = True)\n"
      ],
      "outputs": [],
      "metadata": {
        "id": "bqfV_FBH1StT"
      }
    },
    {
      "cell_type": "code",
      "execution_count": 33,
      "source": [
        "nonIntegerColumns = [col for col in mergedData.columns if mergedData[col].dtypes == object]\n",
        "print(f\"Non Integer Columns : {nonIntegerColumns}\")"
      ],
      "outputs": [
        {
          "output_type": "stream",
          "name": "stdout",
          "text": [
            "Non Integer Columns : ['cab_type', 'destination', 'source']\n"
          ]
        }
      ],
      "metadata": {}
    },
    {
      "cell_type": "code",
      "execution_count": 34,
      "source": [
        "preProcessing = preProcessing()\n",
        "preProcessing.encode(mergedData,nonIntegerColumns)"
      ],
      "outputs": [],
      "metadata": {}
    },
    {
      "cell_type": "code",
      "execution_count": 35,
      "source": [
        "mergedData['rain'].fillna(0,inplace=True)"
      ],
      "outputs": [],
      "metadata": {
        "id": "f27SNTSR1StU"
      }
    },
    {
      "cell_type": "code",
      "execution_count": 36,
      "source": [
        "mergedData.dropna(axis=0, subset=['price'], inplace=True)"
      ],
      "outputs": [],
      "metadata": {}
    },
    {
      "cell_type": "code",
      "execution_count": 37,
      "source": [
        "mergedData.isnull().sum()"
      ],
      "outputs": [
        {
          "output_type": "execute_result",
          "data": {
            "text/plain": [
              "distance            0\n",
              "cab_type            0\n",
              "destination         0\n",
              "source              0\n",
              "surge_multiplier    0\n",
              "ride_class          0\n",
              "price               0\n",
              "temp                0\n",
              "clouds              0\n",
              "pressure            0\n",
              "rain                0\n",
              "humidity            0\n",
              "wind                0\n",
              "dtype: int64"
            ]
          },
          "metadata": {},
          "execution_count": 37
        }
      ],
      "metadata": {}
    },
    {
      "cell_type": "markdown",
      "source": [
        "# Model"
      ],
      "metadata": {
        "id": "GXsfljQJ1StU"
      }
    },
    {
      "cell_type": "code",
      "execution_count": 38,
      "source": [
        "dataFeatures = mergedData.drop('price',axis=1)\n",
        "dataLabel = mergedData['price']"
      ],
      "outputs": [],
      "metadata": {
        "id": "J0QCwmna1StV"
      }
    },
    {
      "cell_type": "code",
      "execution_count": 39,
      "source": [
        "model = Model()"
      ],
      "outputs": [],
      "metadata": {
        "id": "3BW0W_UOMVmT"
      }
    },
    {
      "cell_type": "markdown",
      "source": [
        "### First Model"
      ],
      "metadata": {
        "id": "t-WWeYw61StV"
      }
    },
    {
      "cell_type": "code",
      "execution_count": 40,
      "source": [
        "splitData = model.splitData(dataFeatures,dataLabel)"
      ],
      "outputs": [],
      "metadata": {
        "id": "G4udYlgCNMC1"
      }
    },
    {
      "cell_type": "code",
      "execution_count": 41,
      "source": [
        "model.fitLinearModel(splitData[\"trainFeatures\"],\n",
        "                     splitData[\"trainLabel\"],\n",
        "                     metrics.r2_score,\n",
        "                     splitData[\"testFeatures\"],\n",
        "                     splitData[\"testLabel\"])"
      ],
      "outputs": [
        {
          "output_type": "stream",
          "name": "stdout",
          "text": [
            "Final model r2_score on train: 0.9065756324126532\n",
            "Final model r2_score on validation: 0.9078066717403716\n"
          ]
        },
        {
          "output_type": "execute_result",
          "data": {
            "text/plain": [
              "LinearRegression()"
            ]
          },
          "metadata": {},
          "execution_count": 41
        }
      ],
      "metadata": {
        "colab": {
          "base_uri": "https://localhost:8080/"
        },
        "id": "NxMftNFEMa-b",
        "outputId": "125ca9fd-126e-477b-d57d-96ed36ebece7"
      }
    },
    {
      "cell_type": "markdown",
      "source": [
        "### Second Model"
      ],
      "metadata": {
        "id": "6-BqiZIn1StW"
      }
    },
    {
      "cell_type": "code",
      "execution_count": 42,
      "source": [
        "polyDegree = 2\n",
        "model.fitPolyModel(splitData[\"trainFeatures\"],\n",
        "                    splitData[\"trainLabel\"],\n",
        "                    polyDegree,\n",
        "                    metrics.r2_score,\n",
        "                    splitData[\"testFeatures\"],\n",
        "                    splitData[\"testLabel\"])"
      ],
      "outputs": [
        {
          "output_type": "stream",
          "name": "stdout",
          "text": [
            "Final model r2_score on train: 0.9498049344365613\n",
            "Final model r2_score on validation: 0.9503863277125667\n"
          ]
        },
        {
          "output_type": "execute_result",
          "data": {
            "text/plain": [
              "LinearRegression()"
            ]
          },
          "metadata": {},
          "execution_count": 42
        }
      ],
      "metadata": {
        "colab": {
          "base_uri": "https://localhost:8080/"
        },
        "id": "AdRQg_mJNTU7",
        "outputId": "334672ac-d524-4220-9916-e139bee38170"
      }
    },
    {
      "cell_type": "code",
      "execution_count": 43,
      "source": [
        "model.crossValidateOn(linear_model.LinearRegression(),\n",
        "                      dataFeatures,\n",
        "                      dataLabel,\n",
        "                      polyDegree,\n",
        "                      metric = metrics.r2_score)"
      ],
      "outputs": [
        {
          "output_type": "stream",
          "name": "stdout",
          "text": [
            "Average Score : -0.5166274010721266\n"
          ]
        }
      ],
      "metadata": {
        "id": "OfyLbfUffX-R",
        "outputId": "39c77f2c-8da0-4b81-d74d-8c8d1ab37b79",
        "colab": {
          "base_uri": "https://localhost:8080/"
        }
      }
    }
  ],
  "metadata": {
    "colab": {
      "collapsed_sections": [
        "FxAg-M9rgEwS",
        "b5cZp83vgEwh",
        "BCkljrZhgEwm",
        "b1_DvW9dgEwv",
        "vXWmLCUdgExD",
        "bX0qzKlkgExH"
      ],
      "name": "ML Project.ipynb",
      "provenance": [],
      "toc_visible": true
    },
    "interpreter": {
      "hash": "916dbcbb3f70747c44a77c7bcd40155683ae19c65e1c03b4aa3499c5328201f1"
    },
    "kernelspec": {
      "name": "python3",
      "display_name": "Python 3.9.5 64-bit"
    },
    "language_info": {
      "codemirror_mode": {
        "name": "ipython",
        "version": 3
      },
      "file_extension": ".py",
      "mimetype": "text/x-python",
      "name": "python",
      "nbconvert_exporter": "python",
      "pygments_lexer": "ipython3",
      "version": "3.9.5"
    }
  },
  "nbformat": 4,
  "nbformat_minor": 2
}