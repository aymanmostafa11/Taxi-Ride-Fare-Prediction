{
  "cells": [
    {
      "cell_type": "code",
      "execution_count": 98,
      "source": [
        "import gdown\n",
        "gdown.download_folder('https://drive.google.com/drive/folders/1r9BARaPl-5odlOwCPE8LZJ1cFWRZGsYO?usp=sharing')"
      ],
      "outputs": [
        {
          "output_type": "stream",
          "name": "stderr",
          "text": [
            "Retrieving folder list\n"
          ]
        },
        {
          "output_type": "stream",
          "name": "stdout",
          "text": [
            "Processing file 1-4FN7s4gsL_1D8NeeZ3A4IHL5i9qB6X4 taxi-rides.csv\n",
            "Processing file 1-7QHmsGAhPpnwwi9BPhwzpRtTEONi0r6 weather.csv\n",
            "Building directory structure completed\n"
          ]
        },
        {
          "output_type": "stream",
          "name": "stderr",
          "text": [
            "Retrieving folder list completed\n",
            "Building directory structure\n",
            "Downloading...\n",
            "From: https://drive.google.com/uc?id=1-4FN7s4gsL_1D8NeeZ3A4IHL5i9qB6X4\n",
            "To: /content/taxi/taxi-rides.csv\n",
            "100%|██████████| 69.8M/69.8M [00:00<00:00, 116MB/s]\n",
            "Downloading...\n",
            "From: https://drive.google.com/uc?id=1-7QHmsGAhPpnwwi9BPhwzpRtTEONi0r6\n",
            "To: /content/taxi/weather.csv\n",
            "100%|██████████| 350k/350k [00:00<00:00, 13.5MB/s]\n",
            "Download completed\n"
          ]
        },
        {
          "output_type": "execute_result",
          "data": {
            "text/plain": [
              "['/content/taxi/taxi-rides.csv', '/content/taxi/weather.csv']"
            ]
          },
          "metadata": {},
          "execution_count": 98
        }
      ],
      "metadata": {
        "colab": {
          "base_uri": "https://localhost:8080/"
        },
        "id": "arWAAuiomMkG",
        "outputId": "638556bc-f8f6-4b53-c841-75a0f86e15d5"
      }
    },
    {
      "cell_type": "code",
      "execution_count": 99,
      "source": [
        "import numpy as np\n",
        "import pandas as pd\n",
        "import matplotlib.pyplot as plt\n",
        "import seaborn as sns\n",
        "from sklearn import linear_model\n",
        "from sklearn import metrics\n",
        "from helpers import Model , preProcessing\n"
      ],
      "outputs": [],
      "metadata": {
        "id": "0Z-TorJZgEvf"
      }
    },
    {
      "cell_type": "code",
      "execution_count": 100,
      "source": [
        "taxiRides = pd.read_csv('taxi-rides.csv')\n",
        "weather = pd.read_csv('weather.csv')"
      ],
      "outputs": [],
      "metadata": {
        "id": "JFAJcYPpgEv5"
      }
    },
    {
      "cell_type": "code",
      "execution_count": 101,
      "source": [
        "print(f\"Taxi Rides has {taxiRides.shape[0]} Rows and {taxiRides.shape[1]} Columns\")\n",
        "taxiRides.head()"
      ],
      "outputs": [
        {
          "output_type": "stream",
          "name": "stdout",
          "text": [
            "Taxi Rides has 554456 Rows and 10 Columns\n"
          ]
        },
        {
          "output_type": "execute_result",
          "data": {
            "text/plain": [
              "   distance cab_type    time_stamp         destination  \\\n",
              "0      0.62     Uber  1.544770e+12            West End   \n",
              "1      2.27     Uber  1.543400e+12   Boston University   \n",
              "2      2.00     Lyft  1.544920e+12            Back Bay   \n",
              "3      3.98     Lyft  1.543620e+12  Financial District   \n",
              "4      1.49     Lyft  1.543580e+12            Back Bay   \n",
              "\n",
              "                    source  surge_multiplier  \\\n",
              "0         Haymarket Square               1.0   \n",
              "1              Beacon Hill               1.0   \n",
              "2         Haymarket Square               1.0   \n",
              "3  Northeastern University               1.0   \n",
              "4  Northeastern University               1.0   \n",
              "\n",
              "                                     id                            product_id  \\\n",
              "0  c1b4a572-24b2-484d-aac5-b4f97b790480  8cf7e821-f0d3-49c6-8eba-e679c0ebcf6a   \n",
              "1  f9e7e7e6-b309-479b-9f90-bf26a1870c81  997acbb5-e102-41e1-b155-9df7de0a73f2   \n",
              "2  154e8438-46f5-4e5f-9872-15cc95e85eed                                  lyft   \n",
              "3  6bdc30a6-9a80-487b-914e-8d9b82ee4acb                             lyft_plus   \n",
              "4  0cb12fe9-cd72-4feb-b341-4a566b2e6643                                  lyft   \n",
              "\n",
              "       name  price  \n",
              "0      Taxi    NaN  \n",
              "1  UberPool    8.0  \n",
              "2      Lyft   10.5  \n",
              "3   Lyft XL   22.5  \n",
              "4      Lyft    7.0  "
            ],
            "text/html": [
              "\n",
              "  <div id=\"df-f6ab0522-d94e-4afe-9f3c-dcecf6efb256\">\n",
              "    <div class=\"colab-df-container\">\n",
              "      <div>\n",
              "<style scoped>\n",
              "    .dataframe tbody tr th:only-of-type {\n",
              "        vertical-align: middle;\n",
              "    }\n",
              "\n",
              "    .dataframe tbody tr th {\n",
              "        vertical-align: top;\n",
              "    }\n",
              "\n",
              "    .dataframe thead th {\n",
              "        text-align: right;\n",
              "    }\n",
              "</style>\n",
              "<table border=\"1\" class=\"dataframe\">\n",
              "  <thead>\n",
              "    <tr style=\"text-align: right;\">\n",
              "      <th></th>\n",
              "      <th>distance</th>\n",
              "      <th>cab_type</th>\n",
              "      <th>time_stamp</th>\n",
              "      <th>destination</th>\n",
              "      <th>source</th>\n",
              "      <th>surge_multiplier</th>\n",
              "      <th>id</th>\n",
              "      <th>product_id</th>\n",
              "      <th>name</th>\n",
              "      <th>price</th>\n",
              "    </tr>\n",
              "  </thead>\n",
              "  <tbody>\n",
              "    <tr>\n",
              "      <th>0</th>\n",
              "      <td>0.62</td>\n",
              "      <td>Uber</td>\n",
              "      <td>1.544770e+12</td>\n",
              "      <td>West End</td>\n",
              "      <td>Haymarket Square</td>\n",
              "      <td>1.0</td>\n",
              "      <td>c1b4a572-24b2-484d-aac5-b4f97b790480</td>\n",
              "      <td>8cf7e821-f0d3-49c6-8eba-e679c0ebcf6a</td>\n",
              "      <td>Taxi</td>\n",
              "      <td>NaN</td>\n",
              "    </tr>\n",
              "    <tr>\n",
              "      <th>1</th>\n",
              "      <td>2.27</td>\n",
              "      <td>Uber</td>\n",
              "      <td>1.543400e+12</td>\n",
              "      <td>Boston University</td>\n",
              "      <td>Beacon Hill</td>\n",
              "      <td>1.0</td>\n",
              "      <td>f9e7e7e6-b309-479b-9f90-bf26a1870c81</td>\n",
              "      <td>997acbb5-e102-41e1-b155-9df7de0a73f2</td>\n",
              "      <td>UberPool</td>\n",
              "      <td>8.0</td>\n",
              "    </tr>\n",
              "    <tr>\n",
              "      <th>2</th>\n",
              "      <td>2.00</td>\n",
              "      <td>Lyft</td>\n",
              "      <td>1.544920e+12</td>\n",
              "      <td>Back Bay</td>\n",
              "      <td>Haymarket Square</td>\n",
              "      <td>1.0</td>\n",
              "      <td>154e8438-46f5-4e5f-9872-15cc95e85eed</td>\n",
              "      <td>lyft</td>\n",
              "      <td>Lyft</td>\n",
              "      <td>10.5</td>\n",
              "    </tr>\n",
              "    <tr>\n",
              "      <th>3</th>\n",
              "      <td>3.98</td>\n",
              "      <td>Lyft</td>\n",
              "      <td>1.543620e+12</td>\n",
              "      <td>Financial District</td>\n",
              "      <td>Northeastern University</td>\n",
              "      <td>1.0</td>\n",
              "      <td>6bdc30a6-9a80-487b-914e-8d9b82ee4acb</td>\n",
              "      <td>lyft_plus</td>\n",
              "      <td>Lyft XL</td>\n",
              "      <td>22.5</td>\n",
              "    </tr>\n",
              "    <tr>\n",
              "      <th>4</th>\n",
              "      <td>1.49</td>\n",
              "      <td>Lyft</td>\n",
              "      <td>1.543580e+12</td>\n",
              "      <td>Back Bay</td>\n",
              "      <td>Northeastern University</td>\n",
              "      <td>1.0</td>\n",
              "      <td>0cb12fe9-cd72-4feb-b341-4a566b2e6643</td>\n",
              "      <td>lyft</td>\n",
              "      <td>Lyft</td>\n",
              "      <td>7.0</td>\n",
              "    </tr>\n",
              "  </tbody>\n",
              "</table>\n",
              "</div>\n",
              "      <button class=\"colab-df-convert\" onclick=\"convertToInteractive('df-f6ab0522-d94e-4afe-9f3c-dcecf6efb256')\"\n",
              "              title=\"Convert this dataframe to an interactive table.\"\n",
              "              style=\"display:none;\">\n",
              "        \n",
              "  <svg xmlns=\"http://www.w3.org/2000/svg\" height=\"24px\"viewBox=\"0 0 24 24\"\n",
              "       width=\"24px\">\n",
              "    <path d=\"M0 0h24v24H0V0z\" fill=\"none\"/>\n",
              "    <path d=\"M18.56 5.44l.94 2.06.94-2.06 2.06-.94-2.06-.94-.94-2.06-.94 2.06-2.06.94zm-11 1L8.5 8.5l.94-2.06 2.06-.94-2.06-.94L8.5 2.5l-.94 2.06-2.06.94zm10 10l.94 2.06.94-2.06 2.06-.94-2.06-.94-.94-2.06-.94 2.06-2.06.94z\"/><path d=\"M17.41 7.96l-1.37-1.37c-.4-.4-.92-.59-1.43-.59-.52 0-1.04.2-1.43.59L10.3 9.45l-7.72 7.72c-.78.78-.78 2.05 0 2.83L4 21.41c.39.39.9.59 1.41.59.51 0 1.02-.2 1.41-.59l7.78-7.78 2.81-2.81c.8-.78.8-2.07 0-2.86zM5.41 20L4 18.59l7.72-7.72 1.47 1.35L5.41 20z\"/>\n",
              "  </svg>\n",
              "      </button>\n",
              "      \n",
              "  <style>\n",
              "    .colab-df-container {\n",
              "      display:flex;\n",
              "      flex-wrap:wrap;\n",
              "      gap: 12px;\n",
              "    }\n",
              "\n",
              "    .colab-df-convert {\n",
              "      background-color: #E8F0FE;\n",
              "      border: none;\n",
              "      border-radius: 50%;\n",
              "      cursor: pointer;\n",
              "      display: none;\n",
              "      fill: #1967D2;\n",
              "      height: 32px;\n",
              "      padding: 0 0 0 0;\n",
              "      width: 32px;\n",
              "    }\n",
              "\n",
              "    .colab-df-convert:hover {\n",
              "      background-color: #E2EBFA;\n",
              "      box-shadow: 0px 1px 2px rgba(60, 64, 67, 0.3), 0px 1px 3px 1px rgba(60, 64, 67, 0.15);\n",
              "      fill: #174EA6;\n",
              "    }\n",
              "\n",
              "    [theme=dark] .colab-df-convert {\n",
              "      background-color: #3B4455;\n",
              "      fill: #D2E3FC;\n",
              "    }\n",
              "\n",
              "    [theme=dark] .colab-df-convert:hover {\n",
              "      background-color: #434B5C;\n",
              "      box-shadow: 0px 1px 3px 1px rgba(0, 0, 0, 0.15);\n",
              "      filter: drop-shadow(0px 1px 2px rgba(0, 0, 0, 0.3));\n",
              "      fill: #FFFFFF;\n",
              "    }\n",
              "  </style>\n",
              "\n",
              "      <script>\n",
              "        const buttonEl =\n",
              "          document.querySelector('#df-f6ab0522-d94e-4afe-9f3c-dcecf6efb256 button.colab-df-convert');\n",
              "        buttonEl.style.display =\n",
              "          google.colab.kernel.accessAllowed ? 'block' : 'none';\n",
              "\n",
              "        async function convertToInteractive(key) {\n",
              "          const element = document.querySelector('#df-f6ab0522-d94e-4afe-9f3c-dcecf6efb256');\n",
              "          const dataTable =\n",
              "            await google.colab.kernel.invokeFunction('convertToInteractive',\n",
              "                                                     [key], {});\n",
              "          if (!dataTable) return;\n",
              "\n",
              "          const docLinkHtml = 'Like what you see? Visit the ' +\n",
              "            '<a target=\"_blank\" href=https://colab.research.google.com/notebooks/data_table.ipynb>data table notebook</a>'\n",
              "            + ' to learn more about interactive tables.';\n",
              "          element.innerHTML = '';\n",
              "          dataTable['output_type'] = 'display_data';\n",
              "          await google.colab.output.renderOutput(dataTable, element);\n",
              "          const docLink = document.createElement('div');\n",
              "          docLink.innerHTML = docLinkHtml;\n",
              "          element.appendChild(docLink);\n",
              "        }\n",
              "      </script>\n",
              "    </div>\n",
              "  </div>\n",
              "  "
            ]
          },
          "metadata": {},
          "execution_count": 101
        }
      ],
      "metadata": {
        "colab": {
          "base_uri": "https://localhost:8080/",
          "height": 354
        },
        "id": "3vvtqdwOgEv_",
        "outputId": "3bc9a47e-ebf1-4596-8df4-0034048fab78"
      }
    },
    {
      "cell_type": "code",
      "execution_count": 102,
      "source": [
        "print(f\"Weather has {weather.shape[0]} Rows and {weather.shape[1]} Columns\")\n",
        "weather.head()"
      ],
      "outputs": [
        {
          "output_type": "stream",
          "name": "stdout",
          "text": [
            "Weather has 6276 Rows and 8 Columns\n"
          ]
        },
        {
          "output_type": "execute_result",
          "data": {
            "text/plain": [
              "    temp            location  clouds  pressure    rain  time_stamp  humidity  \\\n",
              "0  42.42            Back Bay     1.0   1012.14  0.1228  1545003901      0.77   \n",
              "1  42.43         Beacon Hill     1.0   1012.15  0.1846  1545003901      0.76   \n",
              "2  42.50   Boston University     1.0   1012.15  0.1089  1545003901      0.76   \n",
              "3  42.11              Fenway     1.0   1012.13  0.0969  1545003901      0.77   \n",
              "4  43.13  Financial District     1.0   1012.14  0.1786  1545003901      0.75   \n",
              "\n",
              "    wind  \n",
              "0  11.25  \n",
              "1  11.32  \n",
              "2  11.07  \n",
              "3  11.09  \n",
              "4  11.49  "
            ],
            "text/html": [
              "\n",
              "  <div id=\"df-4881a682-7e18-489b-a955-544cc0f541da\">\n",
              "    <div class=\"colab-df-container\">\n",
              "      <div>\n",
              "<style scoped>\n",
              "    .dataframe tbody tr th:only-of-type {\n",
              "        vertical-align: middle;\n",
              "    }\n",
              "\n",
              "    .dataframe tbody tr th {\n",
              "        vertical-align: top;\n",
              "    }\n",
              "\n",
              "    .dataframe thead th {\n",
              "        text-align: right;\n",
              "    }\n",
              "</style>\n",
              "<table border=\"1\" class=\"dataframe\">\n",
              "  <thead>\n",
              "    <tr style=\"text-align: right;\">\n",
              "      <th></th>\n",
              "      <th>temp</th>\n",
              "      <th>location</th>\n",
              "      <th>clouds</th>\n",
              "      <th>pressure</th>\n",
              "      <th>rain</th>\n",
              "      <th>time_stamp</th>\n",
              "      <th>humidity</th>\n",
              "      <th>wind</th>\n",
              "    </tr>\n",
              "  </thead>\n",
              "  <tbody>\n",
              "    <tr>\n",
              "      <th>0</th>\n",
              "      <td>42.42</td>\n",
              "      <td>Back Bay</td>\n",
              "      <td>1.0</td>\n",
              "      <td>1012.14</td>\n",
              "      <td>0.1228</td>\n",
              "      <td>1545003901</td>\n",
              "      <td>0.77</td>\n",
              "      <td>11.25</td>\n",
              "    </tr>\n",
              "    <tr>\n",
              "      <th>1</th>\n",
              "      <td>42.43</td>\n",
              "      <td>Beacon Hill</td>\n",
              "      <td>1.0</td>\n",
              "      <td>1012.15</td>\n",
              "      <td>0.1846</td>\n",
              "      <td>1545003901</td>\n",
              "      <td>0.76</td>\n",
              "      <td>11.32</td>\n",
              "    </tr>\n",
              "    <tr>\n",
              "      <th>2</th>\n",
              "      <td>42.50</td>\n",
              "      <td>Boston University</td>\n",
              "      <td>1.0</td>\n",
              "      <td>1012.15</td>\n",
              "      <td>0.1089</td>\n",
              "      <td>1545003901</td>\n",
              "      <td>0.76</td>\n",
              "      <td>11.07</td>\n",
              "    </tr>\n",
              "    <tr>\n",
              "      <th>3</th>\n",
              "      <td>42.11</td>\n",
              "      <td>Fenway</td>\n",
              "      <td>1.0</td>\n",
              "      <td>1012.13</td>\n",
              "      <td>0.0969</td>\n",
              "      <td>1545003901</td>\n",
              "      <td>0.77</td>\n",
              "      <td>11.09</td>\n",
              "    </tr>\n",
              "    <tr>\n",
              "      <th>4</th>\n",
              "      <td>43.13</td>\n",
              "      <td>Financial District</td>\n",
              "      <td>1.0</td>\n",
              "      <td>1012.14</td>\n",
              "      <td>0.1786</td>\n",
              "      <td>1545003901</td>\n",
              "      <td>0.75</td>\n",
              "      <td>11.49</td>\n",
              "    </tr>\n",
              "  </tbody>\n",
              "</table>\n",
              "</div>\n",
              "      <button class=\"colab-df-convert\" onclick=\"convertToInteractive('df-4881a682-7e18-489b-a955-544cc0f541da')\"\n",
              "              title=\"Convert this dataframe to an interactive table.\"\n",
              "              style=\"display:none;\">\n",
              "        \n",
              "  <svg xmlns=\"http://www.w3.org/2000/svg\" height=\"24px\"viewBox=\"0 0 24 24\"\n",
              "       width=\"24px\">\n",
              "    <path d=\"M0 0h24v24H0V0z\" fill=\"none\"/>\n",
              "    <path d=\"M18.56 5.44l.94 2.06.94-2.06 2.06-.94-2.06-.94-.94-2.06-.94 2.06-2.06.94zm-11 1L8.5 8.5l.94-2.06 2.06-.94-2.06-.94L8.5 2.5l-.94 2.06-2.06.94zm10 10l.94 2.06.94-2.06 2.06-.94-2.06-.94-.94-2.06-.94 2.06-2.06.94z\"/><path d=\"M17.41 7.96l-1.37-1.37c-.4-.4-.92-.59-1.43-.59-.52 0-1.04.2-1.43.59L10.3 9.45l-7.72 7.72c-.78.78-.78 2.05 0 2.83L4 21.41c.39.39.9.59 1.41.59.51 0 1.02-.2 1.41-.59l7.78-7.78 2.81-2.81c.8-.78.8-2.07 0-2.86zM5.41 20L4 18.59l7.72-7.72 1.47 1.35L5.41 20z\"/>\n",
              "  </svg>\n",
              "      </button>\n",
              "      \n",
              "  <style>\n",
              "    .colab-df-container {\n",
              "      display:flex;\n",
              "      flex-wrap:wrap;\n",
              "      gap: 12px;\n",
              "    }\n",
              "\n",
              "    .colab-df-convert {\n",
              "      background-color: #E8F0FE;\n",
              "      border: none;\n",
              "      border-radius: 50%;\n",
              "      cursor: pointer;\n",
              "      display: none;\n",
              "      fill: #1967D2;\n",
              "      height: 32px;\n",
              "      padding: 0 0 0 0;\n",
              "      width: 32px;\n",
              "    }\n",
              "\n",
              "    .colab-df-convert:hover {\n",
              "      background-color: #E2EBFA;\n",
              "      box-shadow: 0px 1px 2px rgba(60, 64, 67, 0.3), 0px 1px 3px 1px rgba(60, 64, 67, 0.15);\n",
              "      fill: #174EA6;\n",
              "    }\n",
              "\n",
              "    [theme=dark] .colab-df-convert {\n",
              "      background-color: #3B4455;\n",
              "      fill: #D2E3FC;\n",
              "    }\n",
              "\n",
              "    [theme=dark] .colab-df-convert:hover {\n",
              "      background-color: #434B5C;\n",
              "      box-shadow: 0px 1px 3px 1px rgba(0, 0, 0, 0.15);\n",
              "      filter: drop-shadow(0px 1px 2px rgba(0, 0, 0, 0.3));\n",
              "      fill: #FFFFFF;\n",
              "    }\n",
              "  </style>\n",
              "\n",
              "      <script>\n",
              "        const buttonEl =\n",
              "          document.querySelector('#df-4881a682-7e18-489b-a955-544cc0f541da button.colab-df-convert');\n",
              "        buttonEl.style.display =\n",
              "          google.colab.kernel.accessAllowed ? 'block' : 'none';\n",
              "\n",
              "        async function convertToInteractive(key) {\n",
              "          const element = document.querySelector('#df-4881a682-7e18-489b-a955-544cc0f541da');\n",
              "          const dataTable =\n",
              "            await google.colab.kernel.invokeFunction('convertToInteractive',\n",
              "                                                     [key], {});\n",
              "          if (!dataTable) return;\n",
              "\n",
              "          const docLinkHtml = 'Like what you see? Visit the ' +\n",
              "            '<a target=\"_blank\" href=https://colab.research.google.com/notebooks/data_table.ipynb>data table notebook</a>'\n",
              "            + ' to learn more about interactive tables.';\n",
              "          element.innerHTML = '';\n",
              "          dataTable['output_type'] = 'display_data';\n",
              "          await google.colab.output.renderOutput(dataTable, element);\n",
              "          const docLink = document.createElement('div');\n",
              "          docLink.innerHTML = docLinkHtml;\n",
              "          element.appendChild(docLink);\n",
              "        }\n",
              "      </script>\n",
              "    </div>\n",
              "  </div>\n",
              "  "
            ]
          },
          "metadata": {},
          "execution_count": 102
        }
      ],
      "metadata": {
        "colab": {
          "base_uri": "https://localhost:8080/",
          "height": 223
        },
        "id": "iYKr_Fp5gEwF",
        "outputId": "9f70dc18-4c04-43ec-c38d-04c2a9922394",
        "scrolled": false
      }
    },
    {
      "cell_type": "markdown",
      "source": [
        "# Data Cleaning"
      ],
      "metadata": {
        "id": "g9hWHOakgEwJ"
      }
    },
    {
      "cell_type": "markdown",
      "source": [
        "## Taxi Rides"
      ],
      "metadata": {
        "id": "FxAg-M9rgEwS"
      }
    },
    {
      "cell_type": "code",
      "execution_count": 103,
      "source": [
        "taxiRides.info()"
      ],
      "outputs": [
        {
          "output_type": "stream",
          "name": "stdout",
          "text": [
            "<class 'pandas.core.frame.DataFrame'>\n",
            "RangeIndex: 554456 entries, 0 to 554455\n",
            "Data columns (total 10 columns):\n",
            " #   Column            Non-Null Count   Dtype  \n",
            "---  ------            --------------   -----  \n",
            " 0   distance          554456 non-null  float64\n",
            " 1   cab_type          554456 non-null  object \n",
            " 2   time_stamp        554456 non-null  float64\n",
            " 3   destination       554456 non-null  object \n",
            " 4   source            554456 non-null  object \n",
            " 5   surge_multiplier  554456 non-null  float64\n",
            " 6   id                554456 non-null  object \n",
            " 7   product_id        554456 non-null  object \n",
            " 8   name              554456 non-null  object \n",
            " 9   price             510321 non-null  float64\n",
            "dtypes: float64(4), object(6)\n",
            "memory usage: 42.3+ MB\n"
          ]
        }
      ],
      "metadata": {
        "colab": {
          "base_uri": "https://localhost:8080/"
        },
        "id": "D8L2oFhegEwY",
        "outputId": "d8962cec-fe3a-4f8f-e695-131a9f71bbc4",
        "scrolled": true
      }
    },
    {
      "cell_type": "markdown",
      "source": [
        "## Null"
      ],
      "metadata": {
        "id": "b5cZp83vgEwh"
      }
    },
    {
      "cell_type": "code",
      "execution_count": 104,
      "source": [
        "taxiRides.isnull().sum()"
      ],
      "outputs": [
        {
          "output_type": "execute_result",
          "data": {
            "text/plain": [
              "distance                0\n",
              "cab_type                0\n",
              "time_stamp              0\n",
              "destination             0\n",
              "source                  0\n",
              "surge_multiplier        0\n",
              "id                      0\n",
              "product_id              0\n",
              "name                    0\n",
              "price               44135\n",
              "dtype: int64"
            ]
          },
          "metadata": {},
          "execution_count": 104
        }
      ],
      "metadata": {
        "colab": {
          "base_uri": "https://localhost:8080/"
        },
        "id": "yeQWF9iLgEwk",
        "outputId": "e8139b2f-1d64-4fe5-b173-da78c06b45e9",
        "scrolled": true
      }
    },
    {
      "cell_type": "markdown",
      "source": [
        "## product_id and name"
      ],
      "metadata": {
        "id": "BCkljrZhgEwm"
      }
    },
    {
      "cell_type": "code",
      "execution_count": 105,
      "source": [
        "taxiRides['product_id'].value_counts()"
      ],
      "outputs": [
        {
          "output_type": "execute_result",
          "data": {
            "text/plain": [
              "55c66225-fbe7-4fd5-9072-eab1ece5e23e    44204\n",
              "8cf7e821-f0d3-49c6-8eba-e679c0ebcf6a    44135\n",
              "997acbb5-e102-41e1-b155-9df7de0a73f2    44108\n",
              "6d318bcc-22a3-4af6-bddd-b409bfce1546    44038\n",
              "9a0e7b09-b92b-4c41-9779-2ad22b4d779d    44024\n",
              "6f72dfc5-27f1-42e8-84db-ccc7a75f6969    43983\n",
              "6c84fd89-3f11-4782-9b50-97c468b19529    43977\n",
              "lyft_plus                               41142\n",
              "lyft_lux                                41041\n",
              "lyft                                    41015\n",
              "lyft_luxsuv                             40979\n",
              "lyft_premier                            40969\n",
              "lyft_line                               40841\n",
              "Name: product_id, dtype: int64"
            ]
          },
          "metadata": {},
          "execution_count": 105
        }
      ],
      "metadata": {
        "colab": {
          "base_uri": "https://localhost:8080/"
        },
        "id": "TVOrLS2qgEwo",
        "outputId": "905797fe-74c0-44b2-80b1-421fe41400b5",
        "scrolled": true
      }
    },
    {
      "cell_type": "code",
      "execution_count": 106,
      "source": [
        "taxiRides['name'].value_counts()"
      ],
      "outputs": [
        {
          "output_type": "execute_result",
          "data": {
            "text/plain": [
              "UberX           44204\n",
              "Taxi            44135\n",
              "UberPool        44108\n",
              "Black SUV       44038\n",
              "WAV             44024\n",
              "UberXL          43983\n",
              "Black           43977\n",
              "Lyft XL         41142\n",
              "Lux Black       41041\n",
              "Lyft            41015\n",
              "Lux Black XL    40979\n",
              "Lux             40969\n",
              "Shared          40841\n",
              "Name: name, dtype: int64"
            ]
          },
          "metadata": {},
          "execution_count": 106
        }
      ],
      "metadata": {
        "colab": {
          "base_uri": "https://localhost:8080/"
        },
        "id": "P_AEN5VigEws",
        "outputId": "8e0f330e-8a7d-4426-8d03-e8a90caa9df1"
      }
    },
    {
      "cell_type": "markdown",
      "source": [
        "product_id and name represent the same feature so we can drop one of them"
      ],
      "metadata": {
        "id": "EOcX1qLUgEwu"
      }
    },
    {
      "cell_type": "markdown",
      "source": [
        "## Encoding Timestamps to date"
      ],
      "metadata": {
        "id": "b1_DvW9dgEwv"
      }
    },
    {
      "cell_type": "code",
      "execution_count": 107,
      "source": [
        "weatherDate = pd.to_datetime(weather['time_stamp'], unit='s').apply(lambda x: x.strftime(('%Y-%m-%d')))\n",
        "taxiRidesDate = pd.to_datetime(taxiRides['time_stamp'], unit='ms').apply(lambda x: x.strftime(('%Y-%m-%d')))\n",
        "weather['date'] = weatherDate\n",
        "taxiRides['date'] = taxiRidesDate"
      ],
      "outputs": [],
      "metadata": {
        "id": "1YHUXXUcgEwx"
      }
    },
    {
      "cell_type": "code",
      "execution_count": 108,
      "source": [
        "taxiRides.head()"
      ],
      "outputs": [
        {
          "output_type": "execute_result",
          "data": {
            "text/plain": [
              "   distance cab_type    time_stamp         destination  \\\n",
              "0      0.62     Uber  1.544770e+12            West End   \n",
              "1      2.27     Uber  1.543400e+12   Boston University   \n",
              "2      2.00     Lyft  1.544920e+12            Back Bay   \n",
              "3      3.98     Lyft  1.543620e+12  Financial District   \n",
              "4      1.49     Lyft  1.543580e+12            Back Bay   \n",
              "\n",
              "                    source  surge_multiplier  \\\n",
              "0         Haymarket Square               1.0   \n",
              "1              Beacon Hill               1.0   \n",
              "2         Haymarket Square               1.0   \n",
              "3  Northeastern University               1.0   \n",
              "4  Northeastern University               1.0   \n",
              "\n",
              "                                     id                            product_id  \\\n",
              "0  c1b4a572-24b2-484d-aac5-b4f97b790480  8cf7e821-f0d3-49c6-8eba-e679c0ebcf6a   \n",
              "1  f9e7e7e6-b309-479b-9f90-bf26a1870c81  997acbb5-e102-41e1-b155-9df7de0a73f2   \n",
              "2  154e8438-46f5-4e5f-9872-15cc95e85eed                                  lyft   \n",
              "3  6bdc30a6-9a80-487b-914e-8d9b82ee4acb                             lyft_plus   \n",
              "4  0cb12fe9-cd72-4feb-b341-4a566b2e6643                                  lyft   \n",
              "\n",
              "       name  price        date  \n",
              "0      Taxi    NaN  2018-12-14  \n",
              "1  UberPool    8.0  2018-11-28  \n",
              "2      Lyft   10.5  2018-12-16  \n",
              "3   Lyft XL   22.5  2018-11-30  \n",
              "4      Lyft    7.0  2018-11-30  "
            ],
            "text/html": [
              "\n",
              "  <div id=\"df-203632ae-5aa8-4883-b76e-c2e5e934d487\">\n",
              "    <div class=\"colab-df-container\">\n",
              "      <div>\n",
              "<style scoped>\n",
              "    .dataframe tbody tr th:only-of-type {\n",
              "        vertical-align: middle;\n",
              "    }\n",
              "\n",
              "    .dataframe tbody tr th {\n",
              "        vertical-align: top;\n",
              "    }\n",
              "\n",
              "    .dataframe thead th {\n",
              "        text-align: right;\n",
              "    }\n",
              "</style>\n",
              "<table border=\"1\" class=\"dataframe\">\n",
              "  <thead>\n",
              "    <tr style=\"text-align: right;\">\n",
              "      <th></th>\n",
              "      <th>distance</th>\n",
              "      <th>cab_type</th>\n",
              "      <th>time_stamp</th>\n",
              "      <th>destination</th>\n",
              "      <th>source</th>\n",
              "      <th>surge_multiplier</th>\n",
              "      <th>id</th>\n",
              "      <th>product_id</th>\n",
              "      <th>name</th>\n",
              "      <th>price</th>\n",
              "      <th>date</th>\n",
              "    </tr>\n",
              "  </thead>\n",
              "  <tbody>\n",
              "    <tr>\n",
              "      <th>0</th>\n",
              "      <td>0.62</td>\n",
              "      <td>Uber</td>\n",
              "      <td>1.544770e+12</td>\n",
              "      <td>West End</td>\n",
              "      <td>Haymarket Square</td>\n",
              "      <td>1.0</td>\n",
              "      <td>c1b4a572-24b2-484d-aac5-b4f97b790480</td>\n",
              "      <td>8cf7e821-f0d3-49c6-8eba-e679c0ebcf6a</td>\n",
              "      <td>Taxi</td>\n",
              "      <td>NaN</td>\n",
              "      <td>2018-12-14</td>\n",
              "    </tr>\n",
              "    <tr>\n",
              "      <th>1</th>\n",
              "      <td>2.27</td>\n",
              "      <td>Uber</td>\n",
              "      <td>1.543400e+12</td>\n",
              "      <td>Boston University</td>\n",
              "      <td>Beacon Hill</td>\n",
              "      <td>1.0</td>\n",
              "      <td>f9e7e7e6-b309-479b-9f90-bf26a1870c81</td>\n",
              "      <td>997acbb5-e102-41e1-b155-9df7de0a73f2</td>\n",
              "      <td>UberPool</td>\n",
              "      <td>8.0</td>\n",
              "      <td>2018-11-28</td>\n",
              "    </tr>\n",
              "    <tr>\n",
              "      <th>2</th>\n",
              "      <td>2.00</td>\n",
              "      <td>Lyft</td>\n",
              "      <td>1.544920e+12</td>\n",
              "      <td>Back Bay</td>\n",
              "      <td>Haymarket Square</td>\n",
              "      <td>1.0</td>\n",
              "      <td>154e8438-46f5-4e5f-9872-15cc95e85eed</td>\n",
              "      <td>lyft</td>\n",
              "      <td>Lyft</td>\n",
              "      <td>10.5</td>\n",
              "      <td>2018-12-16</td>\n",
              "    </tr>\n",
              "    <tr>\n",
              "      <th>3</th>\n",
              "      <td>3.98</td>\n",
              "      <td>Lyft</td>\n",
              "      <td>1.543620e+12</td>\n",
              "      <td>Financial District</td>\n",
              "      <td>Northeastern University</td>\n",
              "      <td>1.0</td>\n",
              "      <td>6bdc30a6-9a80-487b-914e-8d9b82ee4acb</td>\n",
              "      <td>lyft_plus</td>\n",
              "      <td>Lyft XL</td>\n",
              "      <td>22.5</td>\n",
              "      <td>2018-11-30</td>\n",
              "    </tr>\n",
              "    <tr>\n",
              "      <th>4</th>\n",
              "      <td>1.49</td>\n",
              "      <td>Lyft</td>\n",
              "      <td>1.543580e+12</td>\n",
              "      <td>Back Bay</td>\n",
              "      <td>Northeastern University</td>\n",
              "      <td>1.0</td>\n",
              "      <td>0cb12fe9-cd72-4feb-b341-4a566b2e6643</td>\n",
              "      <td>lyft</td>\n",
              "      <td>Lyft</td>\n",
              "      <td>7.0</td>\n",
              "      <td>2018-11-30</td>\n",
              "    </tr>\n",
              "  </tbody>\n",
              "</table>\n",
              "</div>\n",
              "      <button class=\"colab-df-convert\" onclick=\"convertToInteractive('df-203632ae-5aa8-4883-b76e-c2e5e934d487')\"\n",
              "              title=\"Convert this dataframe to an interactive table.\"\n",
              "              style=\"display:none;\">\n",
              "        \n",
              "  <svg xmlns=\"http://www.w3.org/2000/svg\" height=\"24px\"viewBox=\"0 0 24 24\"\n",
              "       width=\"24px\">\n",
              "    <path d=\"M0 0h24v24H0V0z\" fill=\"none\"/>\n",
              "    <path d=\"M18.56 5.44l.94 2.06.94-2.06 2.06-.94-2.06-.94-.94-2.06-.94 2.06-2.06.94zm-11 1L8.5 8.5l.94-2.06 2.06-.94-2.06-.94L8.5 2.5l-.94 2.06-2.06.94zm10 10l.94 2.06.94-2.06 2.06-.94-2.06-.94-.94-2.06-.94 2.06-2.06.94z\"/><path d=\"M17.41 7.96l-1.37-1.37c-.4-.4-.92-.59-1.43-.59-.52 0-1.04.2-1.43.59L10.3 9.45l-7.72 7.72c-.78.78-.78 2.05 0 2.83L4 21.41c.39.39.9.59 1.41.59.51 0 1.02-.2 1.41-.59l7.78-7.78 2.81-2.81c.8-.78.8-2.07 0-2.86zM5.41 20L4 18.59l7.72-7.72 1.47 1.35L5.41 20z\"/>\n",
              "  </svg>\n",
              "      </button>\n",
              "      \n",
              "  <style>\n",
              "    .colab-df-container {\n",
              "      display:flex;\n",
              "      flex-wrap:wrap;\n",
              "      gap: 12px;\n",
              "    }\n",
              "\n",
              "    .colab-df-convert {\n",
              "      background-color: #E8F0FE;\n",
              "      border: none;\n",
              "      border-radius: 50%;\n",
              "      cursor: pointer;\n",
              "      display: none;\n",
              "      fill: #1967D2;\n",
              "      height: 32px;\n",
              "      padding: 0 0 0 0;\n",
              "      width: 32px;\n",
              "    }\n",
              "\n",
              "    .colab-df-convert:hover {\n",
              "      background-color: #E2EBFA;\n",
              "      box-shadow: 0px 1px 2px rgba(60, 64, 67, 0.3), 0px 1px 3px 1px rgba(60, 64, 67, 0.15);\n",
              "      fill: #174EA6;\n",
              "    }\n",
              "\n",
              "    [theme=dark] .colab-df-convert {\n",
              "      background-color: #3B4455;\n",
              "      fill: #D2E3FC;\n",
              "    }\n",
              "\n",
              "    [theme=dark] .colab-df-convert:hover {\n",
              "      background-color: #434B5C;\n",
              "      box-shadow: 0px 1px 3px 1px rgba(0, 0, 0, 0.15);\n",
              "      filter: drop-shadow(0px 1px 2px rgba(0, 0, 0, 0.3));\n",
              "      fill: #FFFFFF;\n",
              "    }\n",
              "  </style>\n",
              "\n",
              "      <script>\n",
              "        const buttonEl =\n",
              "          document.querySelector('#df-203632ae-5aa8-4883-b76e-c2e5e934d487 button.colab-df-convert');\n",
              "        buttonEl.style.display =\n",
              "          google.colab.kernel.accessAllowed ? 'block' : 'none';\n",
              "\n",
              "        async function convertToInteractive(key) {\n",
              "          const element = document.querySelector('#df-203632ae-5aa8-4883-b76e-c2e5e934d487');\n",
              "          const dataTable =\n",
              "            await google.colab.kernel.invokeFunction('convertToInteractive',\n",
              "                                                     [key], {});\n",
              "          if (!dataTable) return;\n",
              "\n",
              "          const docLinkHtml = 'Like what you see? Visit the ' +\n",
              "            '<a target=\"_blank\" href=https://colab.research.google.com/notebooks/data_table.ipynb>data table notebook</a>'\n",
              "            + ' to learn more about interactive tables.';\n",
              "          element.innerHTML = '';\n",
              "          dataTable['output_type'] = 'display_data';\n",
              "          await google.colab.output.renderOutput(dataTable, element);\n",
              "          const docLink = document.createElement('div');\n",
              "          docLink.innerHTML = docLinkHtml;\n",
              "          element.appendChild(docLink);\n",
              "        }\n",
              "      </script>\n",
              "    </div>\n",
              "  </div>\n",
              "  "
            ]
          },
          "metadata": {},
          "execution_count": 108
        }
      ],
      "metadata": {
        "colab": {
          "base_uri": "https://localhost:8080/",
          "height": 0
        },
        "id": "7ZzmOFpugEw9",
        "outputId": "3f4119ac-2800-4226-b917-6e61a9541ba2"
      }
    },
    {
      "cell_type": "code",
      "execution_count": 109,
      "source": [
        "weather.head()"
      ],
      "outputs": [
        {
          "output_type": "execute_result",
          "data": {
            "text/plain": [
              "    temp            location  clouds  pressure    rain  time_stamp  humidity  \\\n",
              "0  42.42            Back Bay     1.0   1012.14  0.1228  1545003901      0.77   \n",
              "1  42.43         Beacon Hill     1.0   1012.15  0.1846  1545003901      0.76   \n",
              "2  42.50   Boston University     1.0   1012.15  0.1089  1545003901      0.76   \n",
              "3  42.11              Fenway     1.0   1012.13  0.0969  1545003901      0.77   \n",
              "4  43.13  Financial District     1.0   1012.14  0.1786  1545003901      0.75   \n",
              "\n",
              "    wind        date  \n",
              "0  11.25  2018-12-16  \n",
              "1  11.32  2018-12-16  \n",
              "2  11.07  2018-12-16  \n",
              "3  11.09  2018-12-16  \n",
              "4  11.49  2018-12-16  "
            ],
            "text/html": [
              "\n",
              "  <div id=\"df-8223f806-e912-469b-a5c4-682957ac75a2\">\n",
              "    <div class=\"colab-df-container\">\n",
              "      <div>\n",
              "<style scoped>\n",
              "    .dataframe tbody tr th:only-of-type {\n",
              "        vertical-align: middle;\n",
              "    }\n",
              "\n",
              "    .dataframe tbody tr th {\n",
              "        vertical-align: top;\n",
              "    }\n",
              "\n",
              "    .dataframe thead th {\n",
              "        text-align: right;\n",
              "    }\n",
              "</style>\n",
              "<table border=\"1\" class=\"dataframe\">\n",
              "  <thead>\n",
              "    <tr style=\"text-align: right;\">\n",
              "      <th></th>\n",
              "      <th>temp</th>\n",
              "      <th>location</th>\n",
              "      <th>clouds</th>\n",
              "      <th>pressure</th>\n",
              "      <th>rain</th>\n",
              "      <th>time_stamp</th>\n",
              "      <th>humidity</th>\n",
              "      <th>wind</th>\n",
              "      <th>date</th>\n",
              "    </tr>\n",
              "  </thead>\n",
              "  <tbody>\n",
              "    <tr>\n",
              "      <th>0</th>\n",
              "      <td>42.42</td>\n",
              "      <td>Back Bay</td>\n",
              "      <td>1.0</td>\n",
              "      <td>1012.14</td>\n",
              "      <td>0.1228</td>\n",
              "      <td>1545003901</td>\n",
              "      <td>0.77</td>\n",
              "      <td>11.25</td>\n",
              "      <td>2018-12-16</td>\n",
              "    </tr>\n",
              "    <tr>\n",
              "      <th>1</th>\n",
              "      <td>42.43</td>\n",
              "      <td>Beacon Hill</td>\n",
              "      <td>1.0</td>\n",
              "      <td>1012.15</td>\n",
              "      <td>0.1846</td>\n",
              "      <td>1545003901</td>\n",
              "      <td>0.76</td>\n",
              "      <td>11.32</td>\n",
              "      <td>2018-12-16</td>\n",
              "    </tr>\n",
              "    <tr>\n",
              "      <th>2</th>\n",
              "      <td>42.50</td>\n",
              "      <td>Boston University</td>\n",
              "      <td>1.0</td>\n",
              "      <td>1012.15</td>\n",
              "      <td>0.1089</td>\n",
              "      <td>1545003901</td>\n",
              "      <td>0.76</td>\n",
              "      <td>11.07</td>\n",
              "      <td>2018-12-16</td>\n",
              "    </tr>\n",
              "    <tr>\n",
              "      <th>3</th>\n",
              "      <td>42.11</td>\n",
              "      <td>Fenway</td>\n",
              "      <td>1.0</td>\n",
              "      <td>1012.13</td>\n",
              "      <td>0.0969</td>\n",
              "      <td>1545003901</td>\n",
              "      <td>0.77</td>\n",
              "      <td>11.09</td>\n",
              "      <td>2018-12-16</td>\n",
              "    </tr>\n",
              "    <tr>\n",
              "      <th>4</th>\n",
              "      <td>43.13</td>\n",
              "      <td>Financial District</td>\n",
              "      <td>1.0</td>\n",
              "      <td>1012.14</td>\n",
              "      <td>0.1786</td>\n",
              "      <td>1545003901</td>\n",
              "      <td>0.75</td>\n",
              "      <td>11.49</td>\n",
              "      <td>2018-12-16</td>\n",
              "    </tr>\n",
              "  </tbody>\n",
              "</table>\n",
              "</div>\n",
              "      <button class=\"colab-df-convert\" onclick=\"convertToInteractive('df-8223f806-e912-469b-a5c4-682957ac75a2')\"\n",
              "              title=\"Convert this dataframe to an interactive table.\"\n",
              "              style=\"display:none;\">\n",
              "        \n",
              "  <svg xmlns=\"http://www.w3.org/2000/svg\" height=\"24px\"viewBox=\"0 0 24 24\"\n",
              "       width=\"24px\">\n",
              "    <path d=\"M0 0h24v24H0V0z\" fill=\"none\"/>\n",
              "    <path d=\"M18.56 5.44l.94 2.06.94-2.06 2.06-.94-2.06-.94-.94-2.06-.94 2.06-2.06.94zm-11 1L8.5 8.5l.94-2.06 2.06-.94-2.06-.94L8.5 2.5l-.94 2.06-2.06.94zm10 10l.94 2.06.94-2.06 2.06-.94-2.06-.94-.94-2.06-.94 2.06-2.06.94z\"/><path d=\"M17.41 7.96l-1.37-1.37c-.4-.4-.92-.59-1.43-.59-.52 0-1.04.2-1.43.59L10.3 9.45l-7.72 7.72c-.78.78-.78 2.05 0 2.83L4 21.41c.39.39.9.59 1.41.59.51 0 1.02-.2 1.41-.59l7.78-7.78 2.81-2.81c.8-.78.8-2.07 0-2.86zM5.41 20L4 18.59l7.72-7.72 1.47 1.35L5.41 20z\"/>\n",
              "  </svg>\n",
              "      </button>\n",
              "      \n",
              "  <style>\n",
              "    .colab-df-container {\n",
              "      display:flex;\n",
              "      flex-wrap:wrap;\n",
              "      gap: 12px;\n",
              "    }\n",
              "\n",
              "    .colab-df-convert {\n",
              "      background-color: #E8F0FE;\n",
              "      border: none;\n",
              "      border-radius: 50%;\n",
              "      cursor: pointer;\n",
              "      display: none;\n",
              "      fill: #1967D2;\n",
              "      height: 32px;\n",
              "      padding: 0 0 0 0;\n",
              "      width: 32px;\n",
              "    }\n",
              "\n",
              "    .colab-df-convert:hover {\n",
              "      background-color: #E2EBFA;\n",
              "      box-shadow: 0px 1px 2px rgba(60, 64, 67, 0.3), 0px 1px 3px 1px rgba(60, 64, 67, 0.15);\n",
              "      fill: #174EA6;\n",
              "    }\n",
              "\n",
              "    [theme=dark] .colab-df-convert {\n",
              "      background-color: #3B4455;\n",
              "      fill: #D2E3FC;\n",
              "    }\n",
              "\n",
              "    [theme=dark] .colab-df-convert:hover {\n",
              "      background-color: #434B5C;\n",
              "      box-shadow: 0px 1px 3px 1px rgba(0, 0, 0, 0.15);\n",
              "      filter: drop-shadow(0px 1px 2px rgba(0, 0, 0, 0.3));\n",
              "      fill: #FFFFFF;\n",
              "    }\n",
              "  </style>\n",
              "\n",
              "      <script>\n",
              "        const buttonEl =\n",
              "          document.querySelector('#df-8223f806-e912-469b-a5c4-682957ac75a2 button.colab-df-convert');\n",
              "        buttonEl.style.display =\n",
              "          google.colab.kernel.accessAllowed ? 'block' : 'none';\n",
              "\n",
              "        async function convertToInteractive(key) {\n",
              "          const element = document.querySelector('#df-8223f806-e912-469b-a5c4-682957ac75a2');\n",
              "          const dataTable =\n",
              "            await google.colab.kernel.invokeFunction('convertToInteractive',\n",
              "                                                     [key], {});\n",
              "          if (!dataTable) return;\n",
              "\n",
              "          const docLinkHtml = 'Like what you see? Visit the ' +\n",
              "            '<a target=\"_blank\" href=https://colab.research.google.com/notebooks/data_table.ipynb>data table notebook</a>'\n",
              "            + ' to learn more about interactive tables.';\n",
              "          element.innerHTML = '';\n",
              "          dataTable['output_type'] = 'display_data';\n",
              "          await google.colab.output.renderOutput(dataTable, element);\n",
              "          const docLink = document.createElement('div');\n",
              "          docLink.innerHTML = docLinkHtml;\n",
              "          element.appendChild(docLink);\n",
              "        }\n",
              "      </script>\n",
              "    </div>\n",
              "  </div>\n",
              "  "
            ]
          },
          "metadata": {},
          "execution_count": 109
        }
      ],
      "metadata": {
        "colab": {
          "base_uri": "https://localhost:8080/",
          "height": 0
        },
        "id": "yMObXFdqgEw-",
        "outputId": "b873ac19-93d6-465a-d232-08463ace081d",
        "scrolled": false
      }
    },
    {
      "cell_type": "code",
      "execution_count": 110,
      "source": [
        "taxiRides.drop(['time_stamp'],axis = 1, inplace = True)\n",
        "weather.drop(['time_stamp'],axis = 1, inplace = True)"
      ],
      "outputs": [],
      "metadata": {
        "id": "hOZECS-kgExA"
      }
    },
    {
      "cell_type": "markdown",
      "source": [
        "## Joining Dataframes based on date"
      ],
      "metadata": {
        "id": "vXWmLCUdgExD"
      }
    },
    {
      "cell_type": "code",
      "execution_count": 111,
      "source": [
        "mergedData = pd.merge(taxiRides,weather.drop_duplicates(subset=['date', 'location']), how = 'left', left_on=['date', 'source'], right_on=['date', 'location'])"
      ],
      "outputs": [],
      "metadata": {
        "id": "kDsWyOw1gExE"
      }
    },
    {
      "cell_type": "code",
      "execution_count": 112,
      "source": [
        "mergedData.head()"
      ],
      "outputs": [
        {
          "output_type": "execute_result",
          "data": {
            "text/plain": [
              "   distance cab_type         destination                   source  \\\n",
              "0      0.62     Uber            West End         Haymarket Square   \n",
              "1      2.27     Uber   Boston University              Beacon Hill   \n",
              "2      2.00     Lyft            Back Bay         Haymarket Square   \n",
              "3      3.98     Lyft  Financial District  Northeastern University   \n",
              "4      1.49     Lyft            Back Bay  Northeastern University   \n",
              "\n",
              "   surge_multiplier                                    id  \\\n",
              "0               1.0  c1b4a572-24b2-484d-aac5-b4f97b790480   \n",
              "1               1.0  f9e7e7e6-b309-479b-9f90-bf26a1870c81   \n",
              "2               1.0  154e8438-46f5-4e5f-9872-15cc95e85eed   \n",
              "3               1.0  6bdc30a6-9a80-487b-914e-8d9b82ee4acb   \n",
              "4               1.0  0cb12fe9-cd72-4feb-b341-4a566b2e6643   \n",
              "\n",
              "                             product_id      name  price        date   temp  \\\n",
              "0  8cf7e821-f0d3-49c6-8eba-e679c0ebcf6a      Taxi    NaN  2018-12-14  27.34   \n",
              "1  997acbb5-e102-41e1-b155-9df7de0a73f2  UberPool    8.0  2018-11-28  33.67   \n",
              "2                                  lyft      Lyft   10.5  2018-12-16  42.34   \n",
              "3                             lyft_plus   Lyft XL   22.5  2018-11-30  38.46   \n",
              "4                                  lyft      Lyft    7.0  2018-11-30  38.46   \n",
              "\n",
              "                  location  clouds  pressure    rain  humidity   wind  \n",
              "0         Haymarket Square    0.15   1033.40     NaN      0.81   3.04  \n",
              "1              Beacon Hill    0.12    991.20     NaN      0.82   5.37  \n",
              "2         Haymarket Square    1.00   1012.15  0.2068      0.77  11.49  \n",
              "3  Northeastern University    0.96   1017.24     NaN      0.66   3.31  \n",
              "4  Northeastern University    0.96   1017.24     NaN      0.66   3.31  "
            ],
            "text/html": [
              "\n",
              "  <div id=\"df-b4324cf0-ecdb-4d49-a866-5f992f7df39f\">\n",
              "    <div class=\"colab-df-container\">\n",
              "      <div>\n",
              "<style scoped>\n",
              "    .dataframe tbody tr th:only-of-type {\n",
              "        vertical-align: middle;\n",
              "    }\n",
              "\n",
              "    .dataframe tbody tr th {\n",
              "        vertical-align: top;\n",
              "    }\n",
              "\n",
              "    .dataframe thead th {\n",
              "        text-align: right;\n",
              "    }\n",
              "</style>\n",
              "<table border=\"1\" class=\"dataframe\">\n",
              "  <thead>\n",
              "    <tr style=\"text-align: right;\">\n",
              "      <th></th>\n",
              "      <th>distance</th>\n",
              "      <th>cab_type</th>\n",
              "      <th>destination</th>\n",
              "      <th>source</th>\n",
              "      <th>surge_multiplier</th>\n",
              "      <th>id</th>\n",
              "      <th>product_id</th>\n",
              "      <th>name</th>\n",
              "      <th>price</th>\n",
              "      <th>date</th>\n",
              "      <th>temp</th>\n",
              "      <th>location</th>\n",
              "      <th>clouds</th>\n",
              "      <th>pressure</th>\n",
              "      <th>rain</th>\n",
              "      <th>humidity</th>\n",
              "      <th>wind</th>\n",
              "    </tr>\n",
              "  </thead>\n",
              "  <tbody>\n",
              "    <tr>\n",
              "      <th>0</th>\n",
              "      <td>0.62</td>\n",
              "      <td>Uber</td>\n",
              "      <td>West End</td>\n",
              "      <td>Haymarket Square</td>\n",
              "      <td>1.0</td>\n",
              "      <td>c1b4a572-24b2-484d-aac5-b4f97b790480</td>\n",
              "      <td>8cf7e821-f0d3-49c6-8eba-e679c0ebcf6a</td>\n",
              "      <td>Taxi</td>\n",
              "      <td>NaN</td>\n",
              "      <td>2018-12-14</td>\n",
              "      <td>27.34</td>\n",
              "      <td>Haymarket Square</td>\n",
              "      <td>0.15</td>\n",
              "      <td>1033.40</td>\n",
              "      <td>NaN</td>\n",
              "      <td>0.81</td>\n",
              "      <td>3.04</td>\n",
              "    </tr>\n",
              "    <tr>\n",
              "      <th>1</th>\n",
              "      <td>2.27</td>\n",
              "      <td>Uber</td>\n",
              "      <td>Boston University</td>\n",
              "      <td>Beacon Hill</td>\n",
              "      <td>1.0</td>\n",
              "      <td>f9e7e7e6-b309-479b-9f90-bf26a1870c81</td>\n",
              "      <td>997acbb5-e102-41e1-b155-9df7de0a73f2</td>\n",
              "      <td>UberPool</td>\n",
              "      <td>8.0</td>\n",
              "      <td>2018-11-28</td>\n",
              "      <td>33.67</td>\n",
              "      <td>Beacon Hill</td>\n",
              "      <td>0.12</td>\n",
              "      <td>991.20</td>\n",
              "      <td>NaN</td>\n",
              "      <td>0.82</td>\n",
              "      <td>5.37</td>\n",
              "    </tr>\n",
              "    <tr>\n",
              "      <th>2</th>\n",
              "      <td>2.00</td>\n",
              "      <td>Lyft</td>\n",
              "      <td>Back Bay</td>\n",
              "      <td>Haymarket Square</td>\n",
              "      <td>1.0</td>\n",
              "      <td>154e8438-46f5-4e5f-9872-15cc95e85eed</td>\n",
              "      <td>lyft</td>\n",
              "      <td>Lyft</td>\n",
              "      <td>10.5</td>\n",
              "      <td>2018-12-16</td>\n",
              "      <td>42.34</td>\n",
              "      <td>Haymarket Square</td>\n",
              "      <td>1.00</td>\n",
              "      <td>1012.15</td>\n",
              "      <td>0.2068</td>\n",
              "      <td>0.77</td>\n",
              "      <td>11.49</td>\n",
              "    </tr>\n",
              "    <tr>\n",
              "      <th>3</th>\n",
              "      <td>3.98</td>\n",
              "      <td>Lyft</td>\n",
              "      <td>Financial District</td>\n",
              "      <td>Northeastern University</td>\n",
              "      <td>1.0</td>\n",
              "      <td>6bdc30a6-9a80-487b-914e-8d9b82ee4acb</td>\n",
              "      <td>lyft_plus</td>\n",
              "      <td>Lyft XL</td>\n",
              "      <td>22.5</td>\n",
              "      <td>2018-11-30</td>\n",
              "      <td>38.46</td>\n",
              "      <td>Northeastern University</td>\n",
              "      <td>0.96</td>\n",
              "      <td>1017.24</td>\n",
              "      <td>NaN</td>\n",
              "      <td>0.66</td>\n",
              "      <td>3.31</td>\n",
              "    </tr>\n",
              "    <tr>\n",
              "      <th>4</th>\n",
              "      <td>1.49</td>\n",
              "      <td>Lyft</td>\n",
              "      <td>Back Bay</td>\n",
              "      <td>Northeastern University</td>\n",
              "      <td>1.0</td>\n",
              "      <td>0cb12fe9-cd72-4feb-b341-4a566b2e6643</td>\n",
              "      <td>lyft</td>\n",
              "      <td>Lyft</td>\n",
              "      <td>7.0</td>\n",
              "      <td>2018-11-30</td>\n",
              "      <td>38.46</td>\n",
              "      <td>Northeastern University</td>\n",
              "      <td>0.96</td>\n",
              "      <td>1017.24</td>\n",
              "      <td>NaN</td>\n",
              "      <td>0.66</td>\n",
              "      <td>3.31</td>\n",
              "    </tr>\n",
              "  </tbody>\n",
              "</table>\n",
              "</div>\n",
              "      <button class=\"colab-df-convert\" onclick=\"convertToInteractive('df-b4324cf0-ecdb-4d49-a866-5f992f7df39f')\"\n",
              "              title=\"Convert this dataframe to an interactive table.\"\n",
              "              style=\"display:none;\">\n",
              "        \n",
              "  <svg xmlns=\"http://www.w3.org/2000/svg\" height=\"24px\"viewBox=\"0 0 24 24\"\n",
              "       width=\"24px\">\n",
              "    <path d=\"M0 0h24v24H0V0z\" fill=\"none\"/>\n",
              "    <path d=\"M18.56 5.44l.94 2.06.94-2.06 2.06-.94-2.06-.94-.94-2.06-.94 2.06-2.06.94zm-11 1L8.5 8.5l.94-2.06 2.06-.94-2.06-.94L8.5 2.5l-.94 2.06-2.06.94zm10 10l.94 2.06.94-2.06 2.06-.94-2.06-.94-.94-2.06-.94 2.06-2.06.94z\"/><path d=\"M17.41 7.96l-1.37-1.37c-.4-.4-.92-.59-1.43-.59-.52 0-1.04.2-1.43.59L10.3 9.45l-7.72 7.72c-.78.78-.78 2.05 0 2.83L4 21.41c.39.39.9.59 1.41.59.51 0 1.02-.2 1.41-.59l7.78-7.78 2.81-2.81c.8-.78.8-2.07 0-2.86zM5.41 20L4 18.59l7.72-7.72 1.47 1.35L5.41 20z\"/>\n",
              "  </svg>\n",
              "      </button>\n",
              "      \n",
              "  <style>\n",
              "    .colab-df-container {\n",
              "      display:flex;\n",
              "      flex-wrap:wrap;\n",
              "      gap: 12px;\n",
              "    }\n",
              "\n",
              "    .colab-df-convert {\n",
              "      background-color: #E8F0FE;\n",
              "      border: none;\n",
              "      border-radius: 50%;\n",
              "      cursor: pointer;\n",
              "      display: none;\n",
              "      fill: #1967D2;\n",
              "      height: 32px;\n",
              "      padding: 0 0 0 0;\n",
              "      width: 32px;\n",
              "    }\n",
              "\n",
              "    .colab-df-convert:hover {\n",
              "      background-color: #E2EBFA;\n",
              "      box-shadow: 0px 1px 2px rgba(60, 64, 67, 0.3), 0px 1px 3px 1px rgba(60, 64, 67, 0.15);\n",
              "      fill: #174EA6;\n",
              "    }\n",
              "\n",
              "    [theme=dark] .colab-df-convert {\n",
              "      background-color: #3B4455;\n",
              "      fill: #D2E3FC;\n",
              "    }\n",
              "\n",
              "    [theme=dark] .colab-df-convert:hover {\n",
              "      background-color: #434B5C;\n",
              "      box-shadow: 0px 1px 3px 1px rgba(0, 0, 0, 0.15);\n",
              "      filter: drop-shadow(0px 1px 2px rgba(0, 0, 0, 0.3));\n",
              "      fill: #FFFFFF;\n",
              "    }\n",
              "  </style>\n",
              "\n",
              "      <script>\n",
              "        const buttonEl =\n",
              "          document.querySelector('#df-b4324cf0-ecdb-4d49-a866-5f992f7df39f button.colab-df-convert');\n",
              "        buttonEl.style.display =\n",
              "          google.colab.kernel.accessAllowed ? 'block' : 'none';\n",
              "\n",
              "        async function convertToInteractive(key) {\n",
              "          const element = document.querySelector('#df-b4324cf0-ecdb-4d49-a866-5f992f7df39f');\n",
              "          const dataTable =\n",
              "            await google.colab.kernel.invokeFunction('convertToInteractive',\n",
              "                                                     [key], {});\n",
              "          if (!dataTable) return;\n",
              "\n",
              "          const docLinkHtml = 'Like what you see? Visit the ' +\n",
              "            '<a target=\"_blank\" href=https://colab.research.google.com/notebooks/data_table.ipynb>data table notebook</a>'\n",
              "            + ' to learn more about interactive tables.';\n",
              "          element.innerHTML = '';\n",
              "          dataTable['output_type'] = 'display_data';\n",
              "          await google.colab.output.renderOutput(dataTable, element);\n",
              "          const docLink = document.createElement('div');\n",
              "          docLink.innerHTML = docLinkHtml;\n",
              "          element.appendChild(docLink);\n",
              "        }\n",
              "      </script>\n",
              "    </div>\n",
              "  </div>\n",
              "  "
            ]
          },
          "metadata": {},
          "execution_count": 112
        }
      ],
      "metadata": {
        "colab": {
          "base_uri": "https://localhost:8080/",
          "height": 0
        },
        "id": "a6uxoHApgExG",
        "outputId": "0ed65b43-d805-4358-cff0-3efcce877923",
        "scrolled": true
      }
    },
    {
      "cell_type": "markdown",
      "source": [
        "## Rain Feature"
      ],
      "metadata": {
        "id": "bX0qzKlkgExH"
      }
    },
    {
      "cell_type": "code",
      "execution_count": 113,
      "source": [
        "weather['rain'].hist()"
      ],
      "outputs": [
        {
          "output_type": "execute_result",
          "data": {
            "text/plain": [
              "<matplotlib.axes._subplots.AxesSubplot at 0x7f6998abafd0>"
            ]
          },
          "metadata": {},
          "execution_count": 113
        },
        {
          "output_type": "display_data",
          "data": {
            "text/plain": [
              "<Figure size 432x288 with 1 Axes>"
            ],
            "image/png": "[encoded data removed]"
          },
          "metadata": {
            "needs_background": "light"
          }
        }
      ],
      "metadata": {
        "colab": {
          "base_uri": "https://localhost:8080/",
          "height": 0
        },
        "id": "8bwt4tLfgExJ",
        "outputId": "1e87f3dd-17cc-4fc3-f808-8e69aa8e84d6"
      }
    },
    {
      "cell_type": "markdown",
      "source": [
        "Does null values of rain revolve around certain values?"
      ],
      "metadata": {
        "id": "EOePkSJ0sI6t"
      }
    },
    {
      "cell_type": "code",
      "execution_count": 114,
      "source": [
        "weather[weather['rain'].isnull()].describe()"
      ],
      "outputs": [
        {
          "output_type": "execute_result",
          "data": {
            "text/plain": [
              "              temp       clouds    pressure  rain     humidity         wind\n",
              "count  5382.000000  5382.000000  5382.00000   0.0  5382.000000  5382.000000\n",
              "mean     38.461557     0.633618  1008.92490   NaN     0.747293     6.375199\n",
              "std       6.169892     0.312919    13.46695   NaN     0.124451     3.542713\n",
              "min      19.620000     0.000000   988.25000   NaN     0.450000     0.290000\n",
              "25%      35.022500     0.400000   997.39000   NaN     0.660000     3.190000\n",
              "50%      39.360000     0.680000  1009.56000   NaN     0.730000     6.210000\n",
              "75%      41.470000     0.930000  1020.95000   NaN     0.850000     9.627500\n",
              "max      55.410000     1.000000  1035.12000   NaN     0.990000    18.180000"
            ],
            "text/html": [
              "\n",
              "  <div id=\"df-acbca6b5-880f-42c6-82d9-299b3a4da85f\">\n",
              "    <div class=\"colab-df-container\">\n",
              "      <div>\n",
              "<style scoped>\n",
              "    .dataframe tbody tr th:only-of-type {\n",
              "        vertical-align: middle;\n",
              "    }\n",
              "\n",
              "    .dataframe tbody tr th {\n",
              "        vertical-align: top;\n",
              "    }\n",
              "\n",
              "    .dataframe thead th {\n",
              "        text-align: right;\n",
              "    }\n",
              "</style>\n",
              "<table border=\"1\" class=\"dataframe\">\n",
              "  <thead>\n",
              "    <tr style=\"text-align: right;\">\n",
              "      <th></th>\n",
              "      <th>temp</th>\n",
              "      <th>clouds</th>\n",
              "      <th>pressure</th>\n",
              "      <th>rain</th>\n",
              "      <th>humidity</th>\n",
              "      <th>wind</th>\n",
              "    </tr>\n",
              "  </thead>\n",
              "  <tbody>\n",
              "    <tr>\n",
              "      <th>count</th>\n",
              "      <td>5382.000000</td>\n",
              "      <td>5382.000000</td>\n",
              "      <td>5382.00000</td>\n",
              "      <td>0.0</td>\n",
              "      <td>5382.000000</td>\n",
              "      <td>5382.000000</td>\n",
              "    </tr>\n",
              "    <tr>\n",
              "      <th>mean</th>\n",
              "      <td>38.461557</td>\n",
              "      <td>0.633618</td>\n",
              "      <td>1008.92490</td>\n",
              "      <td>NaN</td>\n",
              "      <td>0.747293</td>\n",
              "      <td>6.375199</td>\n",
              "    </tr>\n",
              "    <tr>\n",
              "      <th>std</th>\n",
              "      <td>6.169892</td>\n",
              "      <td>0.312919</td>\n",
              "      <td>13.46695</td>\n",
              "      <td>NaN</td>\n",
              "      <td>0.124451</td>\n",
              "      <td>3.542713</td>\n",
              "    </tr>\n",
              "    <tr>\n",
              "      <th>min</th>\n",
              "      <td>19.620000</td>\n",
              "      <td>0.000000</td>\n",
              "      <td>988.25000</td>\n",
              "      <td>NaN</td>\n",
              "      <td>0.450000</td>\n",
              "      <td>0.290000</td>\n",
              "    </tr>\n",
              "    <tr>\n",
              "      <th>25%</th>\n",
              "      <td>35.022500</td>\n",
              "      <td>0.400000</td>\n",
              "      <td>997.39000</td>\n",
              "      <td>NaN</td>\n",
              "      <td>0.660000</td>\n",
              "      <td>3.190000</td>\n",
              "    </tr>\n",
              "    <tr>\n",
              "      <th>50%</th>\n",
              "      <td>39.360000</td>\n",
              "      <td>0.680000</td>\n",
              "      <td>1009.56000</td>\n",
              "      <td>NaN</td>\n",
              "      <td>0.730000</td>\n",
              "      <td>6.210000</td>\n",
              "    </tr>\n",
              "    <tr>\n",
              "      <th>75%</th>\n",
              "      <td>41.470000</td>\n",
              "      <td>0.930000</td>\n",
              "      <td>1020.95000</td>\n",
              "      <td>NaN</td>\n",
              "      <td>0.850000</td>\n",
              "      <td>9.627500</td>\n",
              "    </tr>\n",
              "    <tr>\n",
              "      <th>max</th>\n",
              "      <td>55.410000</td>\n",
              "      <td>1.000000</td>\n",
              "      <td>1035.12000</td>\n",
              "      <td>NaN</td>\n",
              "      <td>0.990000</td>\n",
              "      <td>18.180000</td>\n",
              "    </tr>\n",
              "  </tbody>\n",
              "</table>\n",
              "</div>\n",
              "      <button class=\"colab-df-convert\" onclick=\"convertToInteractive('df-acbca6b5-880f-42c6-82d9-299b3a4da85f')\"\n",
              "              title=\"Convert this dataframe to an interactive table.\"\n",
              "              style=\"display:none;\">\n",
              "        \n",
              "  <svg xmlns=\"http://www.w3.org/2000/svg\" height=\"24px\"viewBox=\"0 0 24 24\"\n",
              "       width=\"24px\">\n",
              "    <path d=\"M0 0h24v24H0V0z\" fill=\"none\"/>\n",
              "    <path d=\"M18.56 5.44l.94 2.06.94-2.06 2.06-.94-2.06-.94-.94-2.06-.94 2.06-2.06.94zm-11 1L8.5 8.5l.94-2.06 2.06-.94-2.06-.94L8.5 2.5l-.94 2.06-2.06.94zm10 10l.94 2.06.94-2.06 2.06-.94-2.06-.94-.94-2.06-.94 2.06-2.06.94z\"/><path d=\"M17.41 7.96l-1.37-1.37c-.4-.4-.92-.59-1.43-.59-.52 0-1.04.2-1.43.59L10.3 9.45l-7.72 7.72c-.78.78-.78 2.05 0 2.83L4 21.41c.39.39.9.59 1.41.59.51 0 1.02-.2 1.41-.59l7.78-7.78 2.81-2.81c.8-.78.8-2.07 0-2.86zM5.41 20L4 18.59l7.72-7.72 1.47 1.35L5.41 20z\"/>\n",
              "  </svg>\n",
              "      </button>\n",
              "      \n",
              "  <style>\n",
              "    .colab-df-container {\n",
              "      display:flex;\n",
              "      flex-wrap:wrap;\n",
              "      gap: 12px;\n",
              "    }\n",
              "\n",
              "    .colab-df-convert {\n",
              "      background-color: #E8F0FE;\n",
              "      border: none;\n",
              "      border-radius: 50%;\n",
              "      cursor: pointer;\n",
              "      display: none;\n",
              "      fill: #1967D2;\n",
              "      height: 32px;\n",
              "      padding: 0 0 0 0;\n",
              "      width: 32px;\n",
              "    }\n",
              "\n",
              "    .colab-df-convert:hover {\n",
              "      background-color: #E2EBFA;\n",
              "      box-shadow: 0px 1px 2px rgba(60, 64, 67, 0.3), 0px 1px 3px 1px rgba(60, 64, 67, 0.15);\n",
              "      fill: #174EA6;\n",
              "    }\n",
              "\n",
              "    [theme=dark] .colab-df-convert {\n",
              "      background-color: #3B4455;\n",
              "      fill: #D2E3FC;\n",
              "    }\n",
              "\n",
              "    [theme=dark] .colab-df-convert:hover {\n",
              "      background-color: #434B5C;\n",
              "      box-shadow: 0px 1px 3px 1px rgba(0, 0, 0, 0.15);\n",
              "      filter: drop-shadow(0px 1px 2px rgba(0, 0, 0, 0.3));\n",
              "      fill: #FFFFFF;\n",
              "    }\n",
              "  </style>\n",
              "\n",
              "      <script>\n",
              "        const buttonEl =\n",
              "          document.querySelector('#df-acbca6b5-880f-42c6-82d9-299b3a4da85f button.colab-df-convert');\n",
              "        buttonEl.style.display =\n",
              "          google.colab.kernel.accessAllowed ? 'block' : 'none';\n",
              "\n",
              "        async function convertToInteractive(key) {\n",
              "          const element = document.querySelector('#df-acbca6b5-880f-42c6-82d9-299b3a4da85f');\n",
              "          const dataTable =\n",
              "            await google.colab.kernel.invokeFunction('convertToInteractive',\n",
              "                                                     [key], {});\n",
              "          if (!dataTable) return;\n",
              "\n",
              "          const docLinkHtml = 'Like what you see? Visit the ' +\n",
              "            '<a target=\"_blank\" href=https://colab.research.google.com/notebooks/data_table.ipynb>data table notebook</a>'\n",
              "            + ' to learn more about interactive tables.';\n",
              "          element.innerHTML = '';\n",
              "          dataTable['output_type'] = 'display_data';\n",
              "          await google.colab.output.renderOutput(dataTable, element);\n",
              "          const docLink = document.createElement('div');\n",
              "          docLink.innerHTML = docLinkHtml;\n",
              "          element.appendChild(docLink);\n",
              "        }\n",
              "      </script>\n",
              "    </div>\n",
              "  </div>\n",
              "  "
            ]
          },
          "metadata": {},
          "execution_count": 114
        }
      ],
      "metadata": {
        "colab": {
          "base_uri": "https://localhost:8080/",
          "height": 0
        },
        "id": "qH-cx29TgExL",
        "outputId": "4f0fdc76-a505-44e7-f017-ede527ba5b8a"
      }
    },
    {
      "cell_type": "code",
      "execution_count": 115,
      "source": [
        "weather[weather['rain'].notna()].describe()"
      ],
      "outputs": [
        {
          "output_type": "execute_result",
          "data": {
            "text/plain": [
              "             temp      clouds     pressure        rain    humidity        wind\n",
              "count  894.000000  894.000000   894.000000  894.000000  894.000000  894.000000\n",
              "mean    42.876644    0.943624  1005.557405    0.057652    0.864474    9.377103\n",
              "std      2.951239    0.146752     7.841618    0.100758    0.093957    3.066719\n",
              "min     34.100000    0.100000   988.910000    0.000200    0.520000    1.740000\n",
              "25%     41.482500    0.970000   999.750000    0.004900    0.860000    7.660000\n",
              "50%     43.820000    1.000000  1005.945000    0.014850    0.900000    9.890000\n",
              "75%     44.510000    1.000000  1011.237500    0.060925    0.920000   11.187500\n",
              "max     51.240000    1.000000  1021.790000    0.780700    0.980000   17.160000"
            ],
            "text/html": [
              "\n",
              "  <div id=\"df-c228f34f-5b8f-4730-b3c5-069be2e22154\">\n",
              "    <div class=\"colab-df-container\">\n",
              "      <div>\n",
              "<style scoped>\n",
              "    .dataframe tbody tr th:only-of-type {\n",
              "        vertical-align: middle;\n",
              "    }\n",
              "\n",
              "    .dataframe tbody tr th {\n",
              "        vertical-align: top;\n",
              "    }\n",
              "\n",
              "    .dataframe thead th {\n",
              "        text-align: right;\n",
              "    }\n",
              "</style>\n",
              "<table border=\"1\" class=\"dataframe\">\n",
              "  <thead>\n",
              "    <tr style=\"text-align: right;\">\n",
              "      <th></th>\n",
              "      <th>temp</th>\n",
              "      <th>clouds</th>\n",
              "      <th>pressure</th>\n",
              "      <th>rain</th>\n",
              "      <th>humidity</th>\n",
              "      <th>wind</th>\n",
              "    </tr>\n",
              "  </thead>\n",
              "  <tbody>\n",
              "    <tr>\n",
              "      <th>count</th>\n",
              "      <td>894.000000</td>\n",
              "      <td>894.000000</td>\n",
              "      <td>894.000000</td>\n",
              "      <td>894.000000</td>\n",
              "      <td>894.000000</td>\n",
              "      <td>894.000000</td>\n",
              "    </tr>\n",
              "    <tr>\n",
              "      <th>mean</th>\n",
              "      <td>42.876644</td>\n",
              "      <td>0.943624</td>\n",
              "      <td>1005.557405</td>\n",
              "      <td>0.057652</td>\n",
              "      <td>0.864474</td>\n",
              "      <td>9.377103</td>\n",
              "    </tr>\n",
              "    <tr>\n",
              "      <th>std</th>\n",
              "      <td>2.951239</td>\n",
              "      <td>0.146752</td>\n",
              "      <td>7.841618</td>\n",
              "      <td>0.100758</td>\n",
              "      <td>0.093957</td>\n",
              "      <td>3.066719</td>\n",
              "    </tr>\n",
              "    <tr>\n",
              "      <th>min</th>\n",
              "      <td>34.100000</td>\n",
              "      <td>0.100000</td>\n",
              "      <td>988.910000</td>\n",
              "      <td>0.000200</td>\n",
              "      <td>0.520000</td>\n",
              "      <td>1.740000</td>\n",
              "    </tr>\n",
              "    <tr>\n",
              "      <th>25%</th>\n",
              "      <td>41.482500</td>\n",
              "      <td>0.970000</td>\n",
              "      <td>999.750000</td>\n",
              "      <td>0.004900</td>\n",
              "      <td>0.860000</td>\n",
              "      <td>7.660000</td>\n",
              "    </tr>\n",
              "    <tr>\n",
              "      <th>50%</th>\n",
              "      <td>43.820000</td>\n",
              "      <td>1.000000</td>\n",
              "      <td>1005.945000</td>\n",
              "      <td>0.014850</td>\n",
              "      <td>0.900000</td>\n",
              "      <td>9.890000</td>\n",
              "    </tr>\n",
              "    <tr>\n",
              "      <th>75%</th>\n",
              "      <td>44.510000</td>\n",
              "      <td>1.000000</td>\n",
              "      <td>1011.237500</td>\n",
              "      <td>0.060925</td>\n",
              "      <td>0.920000</td>\n",
              "      <td>11.187500</td>\n",
              "    </tr>\n",
              "    <tr>\n",
              "      <th>max</th>\n",
              "      <td>51.240000</td>\n",
              "      <td>1.000000</td>\n",
              "      <td>1021.790000</td>\n",
              "      <td>0.780700</td>\n",
              "      <td>0.980000</td>\n",
              "      <td>17.160000</td>\n",
              "    </tr>\n",
              "  </tbody>\n",
              "</table>\n",
              "</div>\n",
              "      <button class=\"colab-df-convert\" onclick=\"convertToInteractive('df-c228f34f-5b8f-4730-b3c5-069be2e22154')\"\n",
              "              title=\"Convert this dataframe to an interactive table.\"\n",
              "              style=\"display:none;\">\n",
              "        \n",
              "  <svg xmlns=\"http://www.w3.org/2000/svg\" height=\"24px\"viewBox=\"0 0 24 24\"\n",
              "       width=\"24px\">\n",
              "    <path d=\"M0 0h24v24H0V0z\" fill=\"none\"/>\n",
              "    <path d=\"M18.56 5.44l.94 2.06.94-2.06 2.06-.94-2.06-.94-.94-2.06-.94 2.06-2.06.94zm-11 1L8.5 8.5l.94-2.06 2.06-.94-2.06-.94L8.5 2.5l-.94 2.06-2.06.94zm10 10l.94 2.06.94-2.06 2.06-.94-2.06-.94-.94-2.06-.94 2.06-2.06.94z\"/><path d=\"M17.41 7.96l-1.37-1.37c-.4-.4-.92-.59-1.43-.59-.52 0-1.04.2-1.43.59L10.3 9.45l-7.72 7.72c-.78.78-.78 2.05 0 2.83L4 21.41c.39.39.9.59 1.41.59.51 0 1.02-.2 1.41-.59l7.78-7.78 2.81-2.81c.8-.78.8-2.07 0-2.86zM5.41 20L4 18.59l7.72-7.72 1.47 1.35L5.41 20z\"/>\n",
              "  </svg>\n",
              "      </button>\n",
              "      \n",
              "  <style>\n",
              "    .colab-df-container {\n",
              "      display:flex;\n",
              "      flex-wrap:wrap;\n",
              "      gap: 12px;\n",
              "    }\n",
              "\n",
              "    .colab-df-convert {\n",
              "      background-color: #E8F0FE;\n",
              "      border: none;\n",
              "      border-radius: 50%;\n",
              "      cursor: pointer;\n",
              "      display: none;\n",
              "      fill: #1967D2;\n",
              "      height: 32px;\n",
              "      padding: 0 0 0 0;\n",
              "      width: 32px;\n",
              "    }\n",
              "\n",
              "    .colab-df-convert:hover {\n",
              "      background-color: #E2EBFA;\n",
              "      box-shadow: 0px 1px 2px rgba(60, 64, 67, 0.3), 0px 1px 3px 1px rgba(60, 64, 67, 0.15);\n",
              "      fill: #174EA6;\n",
              "    }\n",
              "\n",
              "    [theme=dark] .colab-df-convert {\n",
              "      background-color: #3B4455;\n",
              "      fill: #D2E3FC;\n",
              "    }\n",
              "\n",
              "    [theme=dark] .colab-df-convert:hover {\n",
              "      background-color: #434B5C;\n",
              "      box-shadow: 0px 1px 3px 1px rgba(0, 0, 0, 0.15);\n",
              "      filter: drop-shadow(0px 1px 2px rgba(0, 0, 0, 0.3));\n",
              "      fill: #FFFFFF;\n",
              "    }\n",
              "  </style>\n",
              "\n",
              "      <script>\n",
              "        const buttonEl =\n",
              "          document.querySelector('#df-c228f34f-5b8f-4730-b3c5-069be2e22154 button.colab-df-convert');\n",
              "        buttonEl.style.display =\n",
              "          google.colab.kernel.accessAllowed ? 'block' : 'none';\n",
              "\n",
              "        async function convertToInteractive(key) {\n",
              "          const element = document.querySelector('#df-c228f34f-5b8f-4730-b3c5-069be2e22154');\n",
              "          const dataTable =\n",
              "            await google.colab.kernel.invokeFunction('convertToInteractive',\n",
              "                                                     [key], {});\n",
              "          if (!dataTable) return;\n",
              "\n",
              "          const docLinkHtml = 'Like what you see? Visit the ' +\n",
              "            '<a target=\"_blank\" href=https://colab.research.google.com/notebooks/data_table.ipynb>data table notebook</a>'\n",
              "            + ' to learn more about interactive tables.';\n",
              "          element.innerHTML = '';\n",
              "          dataTable['output_type'] = 'display_data';\n",
              "          await google.colab.output.renderOutput(dataTable, element);\n",
              "          const docLink = document.createElement('div');\n",
              "          docLink.innerHTML = docLinkHtml;\n",
              "          element.appendChild(docLink);\n",
              "        }\n",
              "      </script>\n",
              "    </div>\n",
              "  </div>\n",
              "  "
            ]
          },
          "metadata": {},
          "execution_count": 115
        }
      ],
      "metadata": {
        "colab": {
          "base_uri": "https://localhost:8080/",
          "height": 0
        },
        "id": "wTUDgw0RgExM",
        "outputId": "86c015e6-34ff-469d-a813-c543d985556c"
      }
    },
    {
      "cell_type": "code",
      "execution_count": 116,
      "source": [
        "weather['rain'].value_counts()"
      ],
      "outputs": [
        {
          "output_type": "execute_result",
          "data": {
            "text/plain": [
              "0.0030    85\n",
              "0.0020    51\n",
              "0.0040    23\n",
              "0.0060    17\n",
              "0.0050    15\n",
              "          ..\n",
              "0.0337     1\n",
              "0.0243     1\n",
              "0.0367     1\n",
              "0.0347     1\n",
              "0.0281     1\n",
              "Name: rain, Length: 437, dtype: int64"
            ]
          },
          "metadata": {},
          "execution_count": 116
        }
      ],
      "metadata": {
        "colab": {
          "base_uri": "https://localhost:8080/"
        },
        "id": "Lhc1TbDkgExO",
        "outputId": "f0f588b0-59e8-40d5-c61b-64ea26e00138",
        "scrolled": true
      }
    },
    {
      "cell_type": "markdown",
      "source": [
        "Rain feature nulls could indicate no rain"
      ],
      "metadata": {
        "id": "8zrw4OIKgExP"
      }
    },
    {
      "cell_type": "code",
      "execution_count": 117,
      "source": [
        "mergedData.shape"
      ],
      "outputs": [
        {
          "output_type": "execute_result",
          "data": {
            "text/plain": [
              "(554456, 17)"
            ]
          },
          "metadata": {},
          "execution_count": 117
        }
      ],
      "metadata": {
        "colab": {
          "base_uri": "https://localhost:8080/"
        },
        "id": "OwwdJRzmgExQ",
        "outputId": "0459618e-6b47-4c08-f3e6-2ea610b817a3"
      }
    },
    {
      "cell_type": "code",
      "execution_count": 118,
      "source": [
        "mergedData.isnull().sum()"
      ],
      "outputs": [
        {
          "output_type": "execute_result",
          "data": {
            "text/plain": [
              "distance                 0\n",
              "cab_type                 0\n",
              "destination              0\n",
              "source                   0\n",
              "surge_multiplier         0\n",
              "id                       0\n",
              "product_id               0\n",
              "name                     0\n",
              "price                44135\n",
              "date                     0\n",
              "temp                     0\n",
              "location                 0\n",
              "clouds                   0\n",
              "pressure                 0\n",
              "rain                480515\n",
              "humidity                 0\n",
              "wind                     0\n",
              "dtype: int64"
            ]
          },
          "metadata": {},
          "execution_count": 118
        }
      ],
      "metadata": {
        "colab": {
          "base_uri": "https://localhost:8080/"
        },
        "id": "kSHPRE5ngExR",
        "outputId": "099e1b00-578f-4154-e269-cff7f56428de"
      }
    },
    {
      "cell_type": "code",
      "execution_count": 119,
      "source": [
        "mergedData.corr()"
      ],
      "outputs": [
        {
          "output_type": "execute_result",
          "data": {
            "text/plain": [
              "                  distance  surge_multiplier     price      temp    clouds  \\\n",
              "distance          1.000000          0.024511  0.345093  0.010890 -0.002783   \n",
              "surge_multiplier  0.024511          1.000000  0.239984 -0.000994 -0.000788   \n",
              "price             0.345093          0.239984  1.000000  0.003128 -0.001234   \n",
              "temp              0.010890         -0.000994  0.003128  1.000000  0.565023   \n",
              "clouds           -0.002783         -0.000788 -0.001234  0.565023  1.000000   \n",
              "pressure         -0.002353         -0.003530 -0.001214 -0.292254  0.001757   \n",
              "rain             -0.039473         -0.008458 -0.011989  0.670202  0.328214   \n",
              "humidity          0.002052         -0.000201 -0.001571  0.370357  0.052333   \n",
              "wind             -0.000790          0.001716  0.001184 -0.026835  0.194617   \n",
              "\n",
              "                  pressure      rain  humidity      wind  \n",
              "distance         -0.002353 -0.039473  0.002052 -0.000790  \n",
              "surge_multiplier -0.003530 -0.008458 -0.000201  0.001716  \n",
              "price            -0.001214 -0.011989 -0.001571  0.001184  \n",
              "temp             -0.292254  0.670202  0.370357 -0.026835  \n",
              "clouds            0.001757  0.328214  0.052333  0.194617  \n",
              "pressure          1.000000 -0.127533 -0.068084 -0.477728  \n",
              "rain             -0.127533  1.000000 -0.580101  0.844514  \n",
              "humidity         -0.068084 -0.580101  1.000000 -0.400076  \n",
              "wind             -0.477728  0.844514 -0.400076  1.000000  "
            ],
            "text/html": [
              "\n",
              "  <div id=\"df-17c415c7-c55f-4b67-9b84-f7752baeb650\">\n",
              "    <div class=\"colab-df-container\">\n",
              "      <div>\n",
              "<style scoped>\n",
              "    .dataframe tbody tr th:only-of-type {\n",
              "        vertical-align: middle;\n",
              "    }\n",
              "\n",
              "    .dataframe tbody tr th {\n",
              "        vertical-align: top;\n",
              "    }\n",
              "\n",
              "    .dataframe thead th {\n",
              "        text-align: right;\n",
              "    }\n",
              "</style>\n",
              "<table border=\"1\" class=\"dataframe\">\n",
              "  <thead>\n",
              "    <tr style=\"text-align: right;\">\n",
              "      <th></th>\n",
              "      <th>distance</th>\n",
              "      <th>surge_multiplier</th>\n",
              "      <th>price</th>\n",
              "      <th>temp</th>\n",
              "      <th>clouds</th>\n",
              "      <th>pressure</th>\n",
              "      <th>rain</th>\n",
              "      <th>humidity</th>\n",
              "      <th>wind</th>\n",
              "    </tr>\n",
              "  </thead>\n",
              "  <tbody>\n",
              "    <tr>\n",
              "      <th>distance</th>\n",
              "      <td>1.000000</td>\n",
              "      <td>0.024511</td>\n",
              "      <td>0.345093</td>\n",
              "      <td>0.010890</td>\n",
              "      <td>-0.002783</td>\n",
              "      <td>-0.002353</td>\n",
              "      <td>-0.039473</td>\n",
              "      <td>0.002052</td>\n",
              "      <td>-0.000790</td>\n",
              "    </tr>\n",
              "    <tr>\n",
              "      <th>surge_multiplier</th>\n",
              "      <td>0.024511</td>\n",
              "      <td>1.000000</td>\n",
              "      <td>0.239984</td>\n",
              "      <td>-0.000994</td>\n",
              "      <td>-0.000788</td>\n",
              "      <td>-0.003530</td>\n",
              "      <td>-0.008458</td>\n",
              "      <td>-0.000201</td>\n",
              "      <td>0.001716</td>\n",
              "    </tr>\n",
              "    <tr>\n",
              "      <th>price</th>\n",
              "      <td>0.345093</td>\n",
              "      <td>0.239984</td>\n",
              "      <td>1.000000</td>\n",
              "      <td>0.003128</td>\n",
              "      <td>-0.001234</td>\n",
              "      <td>-0.001214</td>\n",
              "      <td>-0.011989</td>\n",
              "      <td>-0.001571</td>\n",
              "      <td>0.001184</td>\n",
              "    </tr>\n",
              "    <tr>\n",
              "      <th>temp</th>\n",
              "      <td>0.010890</td>\n",
              "      <td>-0.000994</td>\n",
              "      <td>0.003128</td>\n",
              "      <td>1.000000</td>\n",
              "      <td>0.565023</td>\n",
              "      <td>-0.292254</td>\n",
              "      <td>0.670202</td>\n",
              "      <td>0.370357</td>\n",
              "      <td>-0.026835</td>\n",
              "    </tr>\n",
              "    <tr>\n",
              "      <th>clouds</th>\n",
              "      <td>-0.002783</td>\n",
              "      <td>-0.000788</td>\n",
              "      <td>-0.001234</td>\n",
              "      <td>0.565023</td>\n",
              "      <td>1.000000</td>\n",
              "      <td>0.001757</td>\n",
              "      <td>0.328214</td>\n",
              "      <td>0.052333</td>\n",
              "      <td>0.194617</td>\n",
              "    </tr>\n",
              "    <tr>\n",
              "      <th>pressure</th>\n",
              "      <td>-0.002353</td>\n",
              "      <td>-0.003530</td>\n",
              "      <td>-0.001214</td>\n",
              "      <td>-0.292254</td>\n",
              "      <td>0.001757</td>\n",
              "      <td>1.000000</td>\n",
              "      <td>-0.127533</td>\n",
              "      <td>-0.068084</td>\n",
              "      <td>-0.477728</td>\n",
              "    </tr>\n",
              "    <tr>\n",
              "      <th>rain</th>\n",
              "      <td>-0.039473</td>\n",
              "      <td>-0.008458</td>\n",
              "      <td>-0.011989</td>\n",
              "      <td>0.670202</td>\n",
              "      <td>0.328214</td>\n",
              "      <td>-0.127533</td>\n",
              "      <td>1.000000</td>\n",
              "      <td>-0.580101</td>\n",
              "      <td>0.844514</td>\n",
              "    </tr>\n",
              "    <tr>\n",
              "      <th>humidity</th>\n",
              "      <td>0.002052</td>\n",
              "      <td>-0.000201</td>\n",
              "      <td>-0.001571</td>\n",
              "      <td>0.370357</td>\n",
              "      <td>0.052333</td>\n",
              "      <td>-0.068084</td>\n",
              "      <td>-0.580101</td>\n",
              "      <td>1.000000</td>\n",
              "      <td>-0.400076</td>\n",
              "    </tr>\n",
              "    <tr>\n",
              "      <th>wind</th>\n",
              "      <td>-0.000790</td>\n",
              "      <td>0.001716</td>\n",
              "      <td>0.001184</td>\n",
              "      <td>-0.026835</td>\n",
              "      <td>0.194617</td>\n",
              "      <td>-0.477728</td>\n",
              "      <td>0.844514</td>\n",
              "      <td>-0.400076</td>\n",
              "      <td>1.000000</td>\n",
              "    </tr>\n",
              "  </tbody>\n",
              "</table>\n",
              "</div>\n",
              "      <button class=\"colab-df-convert\" onclick=\"convertToInteractive('df-17c415c7-c55f-4b67-9b84-f7752baeb650')\"\n",
              "              title=\"Convert this dataframe to an interactive table.\"\n",
              "              style=\"display:none;\">\n",
              "        \n",
              "  <svg xmlns=\"http://www.w3.org/2000/svg\" height=\"24px\"viewBox=\"0 0 24 24\"\n",
              "       width=\"24px\">\n",
              "    <path d=\"M0 0h24v24H0V0z\" fill=\"none\"/>\n",
              "    <path d=\"M18.56 5.44l.94 2.06.94-2.06 2.06-.94-2.06-.94-.94-2.06-.94 2.06-2.06.94zm-11 1L8.5 8.5l.94-2.06 2.06-.94-2.06-.94L8.5 2.5l-.94 2.06-2.06.94zm10 10l.94 2.06.94-2.06 2.06-.94-2.06-.94-.94-2.06-.94 2.06-2.06.94z\"/><path d=\"M17.41 7.96l-1.37-1.37c-.4-.4-.92-.59-1.43-.59-.52 0-1.04.2-1.43.59L10.3 9.45l-7.72 7.72c-.78.78-.78 2.05 0 2.83L4 21.41c.39.39.9.59 1.41.59.51 0 1.02-.2 1.41-.59l7.78-7.78 2.81-2.81c.8-.78.8-2.07 0-2.86zM5.41 20L4 18.59l7.72-7.72 1.47 1.35L5.41 20z\"/>\n",
              "  </svg>\n",
              "      </button>\n",
              "      \n",
              "  <style>\n",
              "    .colab-df-container {\n",
              "      display:flex;\n",
              "      flex-wrap:wrap;\n",
              "      gap: 12px;\n",
              "    }\n",
              "\n",
              "    .colab-df-convert {\n",
              "      background-color: #E8F0FE;\n",
              "      border: none;\n",
              "      border-radius: 50%;\n",
              "      cursor: pointer;\n",
              "      display: none;\n",
              "      fill: #1967D2;\n",
              "      height: 32px;\n",
              "      padding: 0 0 0 0;\n",
              "      width: 32px;\n",
              "    }\n",
              "\n",
              "    .colab-df-convert:hover {\n",
              "      background-color: #E2EBFA;\n",
              "      box-shadow: 0px 1px 2px rgba(60, 64, 67, 0.3), 0px 1px 3px 1px rgba(60, 64, 67, 0.15);\n",
              "      fill: #174EA6;\n",
              "    }\n",
              "\n",
              "    [theme=dark] .colab-df-convert {\n",
              "      background-color: #3B4455;\n",
              "      fill: #D2E3FC;\n",
              "    }\n",
              "\n",
              "    [theme=dark] .colab-df-convert:hover {\n",
              "      background-color: #434B5C;\n",
              "      box-shadow: 0px 1px 3px 1px rgba(0, 0, 0, 0.15);\n",
              "      filter: drop-shadow(0px 1px 2px rgba(0, 0, 0, 0.3));\n",
              "      fill: #FFFFFF;\n",
              "    }\n",
              "  </style>\n",
              "\n",
              "      <script>\n",
              "        const buttonEl =\n",
              "          document.querySelector('#df-17c415c7-c55f-4b67-9b84-f7752baeb650 button.colab-df-convert');\n",
              "        buttonEl.style.display =\n",
              "          google.colab.kernel.accessAllowed ? 'block' : 'none';\n",
              "\n",
              "        async function convertToInteractive(key) {\n",
              "          const element = document.querySelector('#df-17c415c7-c55f-4b67-9b84-f7752baeb650');\n",
              "          const dataTable =\n",
              "            await google.colab.kernel.invokeFunction('convertToInteractive',\n",
              "                                                     [key], {});\n",
              "          if (!dataTable) return;\n",
              "\n",
              "          const docLinkHtml = 'Like what you see? Visit the ' +\n",
              "            '<a target=\"_blank\" href=https://colab.research.google.com/notebooks/data_table.ipynb>data table notebook</a>'\n",
              "            + ' to learn more about interactive tables.';\n",
              "          element.innerHTML = '';\n",
              "          dataTable['output_type'] = 'display_data';\n",
              "          await google.colab.output.renderOutput(dataTable, element);\n",
              "          const docLink = document.createElement('div');\n",
              "          docLink.innerHTML = docLinkHtml;\n",
              "          element.appendChild(docLink);\n",
              "        }\n",
              "      </script>\n",
              "    </div>\n",
              "  </div>\n",
              "  "
            ]
          },
          "metadata": {},
          "execution_count": 119
        }
      ],
      "metadata": {
        "colab": {
          "base_uri": "https://localhost:8080/",
          "height": 0
        },
        "id": "WOtp8VqegExT",
        "outputId": "e17f6fbd-e4c8-4fc0-c03d-c93b08ffee5d"
      }
    },
    {
      "cell_type": "markdown",
      "source": [
        "# Data Visualization"
      ],
      "metadata": {
        "id": "E-HNbEFTgExX"
      }
    },
    {
      "cell_type": "code",
      "execution_count": 120,
      "source": [
        "# to make the bars sorted\n",
        "mergedData.sort_values('price', inplace=True)\n",
        "\n",
        "plt.figure(figsize =(16,6))\n",
        "sns.barplot(data=mergedData,x='name',y='price',hue='cab_type')\n",
        "plt.show()"
      ],
      "outputs": [
        {
          "output_type": "display_data",
          "data": {
            "text/plain": [
              "<Figure size 1152x432 with 1 Axes>"
            ],
            "image/png": "[encoded data removed]"
          },
          "metadata": {
            "needs_background": "light"
          }
        }
      ],
      "metadata": {
        "colab": {
          "base_uri": "https://localhost:8080/",
          "height": 388
        },
        "id": "qoIxn6orgExY",
        "outputId": "ffe09f59-c7a7-48ce-c663-e9f4a32ca15c"
      }
    },
    {
      "cell_type": "markdown",
      "source": [
        "Apparently all *price* values of *Taxi* are missing, could all the missing values from *price* be from the *taxi* cab type? we need to verify this"
      ],
      "metadata": {
        "id": "NuMQ3wOhu2XE"
      }
    },
    {
      "cell_type": "code",
      "execution_count": 121,
      "source": [
        "taxiNullValues = mergedData[mergedData['price'].isnull()]['name'].value_counts()['Taxi']\n",
        "totalNullValues = mergedData.isnull().sum()['price']\n",
        "print(f\"There are {taxiNullValues} price null values with Taxi as cab_type from a total of {totalNullValues} \\\n",
        ": {taxiNullValues / totalNullValues * 100}%\")"
      ],
      "outputs": [
        {
          "output_type": "stream",
          "name": "stdout",
          "text": [
            "There are 44135 price null values with Taxi as cab_type from a total of 44135 : 100.0%\n"
          ]
        }
      ],
      "metadata": {
        "colab": {
          "base_uri": "https://localhost:8080/"
        },
        "id": "FCm6ZcVRvy_G",
        "outputId": "20cdfd59-75a5-4a41-8e9e-1bc6b9188eab"
      }
    },
    {
      "cell_type": "code",
      "execution_count": 122,
      "source": [
        "plt.figure(figsize =(16,6))\n",
        "sns.lineplot(data=mergedData,x='distance',y='price')\n",
        "plt.show()"
      ],
      "outputs": [
        {
          "output_type": "display_data",
          "data": {
            "text/plain": [
              "<Figure size 1152x432 with 1 Axes>"
            ],
            "image/png": "[encoded data removed]"
          },
          "metadata": {
            "needs_background": "light"
          }
        }
      ],
      "metadata": {
        "colab": {
          "base_uri": "https://localhost:8080/",
          "height": 388
        },
        "id": "0CUjxInRgExZ",
        "outputId": "139e7043-7138-4ab6-ae65-990fbfaf6913"
      }
    },
    {
      "cell_type": "markdown",
      "source": [
        "Price as expected increases with distance, however there are some spikes that must have other factors contributing in"
      ],
      "metadata": {
        "id": "diSWAs9gyhJn"
      }
    },
    {
      "cell_type": "markdown",
      "source": [
        "## Weather Graphs"
      ],
      "metadata": {
        "id": "76GX5AA0ziDe"
      }
    },
    {
      "cell_type": "code",
      "execution_count": 123,
      "source": [
        "plt.figure(figsize =(16,6))\n",
        "sns.relplot(data=mergedData,x='temp',y='clouds')\n",
        "plt.show()"
      ],
      "outputs": [
        {
          "output_type": "display_data",
          "data": {
            "text/plain": [
              "<Figure size 1152x432 with 0 Axes>"
            ]
          },
          "metadata": {}
        },
        {
          "output_type": "display_data",
          "data": {
            "text/plain": [
              "<Figure size 360x360 with 1 Axes>"
            ],
            "image/png": "[encoded data removed]"
          },
          "metadata": {
            "needs_background": "light"
          }
        }
      ],
      "metadata": {
        "colab": {
          "base_uri": "https://localhost:8080/",
          "height": 386
        },
        "id": "yKVURUOMgExi",
        "outputId": "3934191e-11bc-49e0-b7f8-6114003f7334"
      }
    },
    {
      "cell_type": "code",
      "execution_count": 124,
      "source": [
        "plt.figure(figsize =(16,6))\n",
        "sns.relplot(data=mergedData,x='temp',y='humidity')\n",
        "plt.show()"
      ],
      "outputs": [
        {
          "output_type": "display_data",
          "data": {
            "text/plain": [
              "<Figure size 1152x432 with 0 Axes>"
            ]
          },
          "metadata": {}
        },
        {
          "output_type": "display_data",
          "data": {
            "text/plain": [
              "<Figure size 360x360 with 1 Axes>"
            ],
            "image/png": "[encoded data removed]"
          },
          "metadata": {
            "needs_background": "light"
          }
        }
      ],
      "metadata": {
        "colab": {
          "base_uri": "https://localhost:8080/",
          "height": 386
        },
        "id": "OupfXsoigExk",
        "outputId": "9a1a8833-4e32-4385-ba9a-a18c38b1fc2b"
      }
    },
    {
      "cell_type": "code",
      "execution_count": 125,
      "source": [
        "plt.figure(figsize =(16,6))\n",
        "sns.lineplot(data=mergedData,x='pressure',y='wind')\n",
        "plt.show()"
      ],
      "outputs": [
        {
          "output_type": "display_data",
          "data": {
            "text/plain": [
              "<Figure size 1152x432 with 1 Axes>"
            ],
            "image/png": "[encoded data removed]"
          },
          "metadata": {
            "needs_background": "light"
          }
        }
      ],
      "metadata": {
        "colab": {
          "base_uri": "https://localhost:8080/",
          "height": 388
        },
        "id": "iRgiUwM7gExl",
        "outputId": "f58ad7fc-bea1-46a9-e648-d6ea93a8192f"
      }
    },
    {
      "cell_type": "code",
      "execution_count": 126,
      "source": [
        "mergedData['cab_type'].hist()\n",
        "plt.show()"
      ],
      "outputs": [
        {
          "output_type": "display_data",
          "data": {
            "text/plain": [
              "<Figure size 432x288 with 1 Axes>"
            ],
            "image/png": "[encoded data removed]"
          },
          "metadata": {
            "needs_background": "light"
          }
        }
      ],
      "metadata": {
        "colab": {
          "base_uri": "https://localhost:8080/",
          "height": 265
        },
        "id": "3aQdxYxjgExn",
        "outputId": "d71c1d8a-a771-460e-b7c3-cabdd90f6deb"
      }
    },
    {
      "cell_type": "code",
      "execution_count": 127,
      "source": [
        "mergedData['surge_multiplier'].hist()"
      ],
      "outputs": [
        {
          "output_type": "execute_result",
          "data": {
            "text/plain": [
              "<matplotlib.axes._subplots.AxesSubplot at 0x7f698bc85a90>"
            ]
          },
          "metadata": {},
          "execution_count": 127
        },
        {
          "output_type": "display_data",
          "data": {
            "text/plain": [
              "<Figure size 432x288 with 1 Axes>"
            ],
            "image/png": "[encoded data removed]"
          },
          "metadata": {
            "needs_background": "light"
          }
        }
      ],
      "metadata": {
        "colab": {
          "base_uri": "https://localhost:8080/",
          "height": 282
        },
        "id": "k90TNYI_gExp",
        "outputId": "7a947f6c-8cb1-4476-f01f-3bfe7e79b057"
      }
    },
    {
      "cell_type": "markdown",
      "source": [
        "# Preprocessing"
      ],
      "metadata": {
        "id": "9je9fxUDgTiZ"
      }
    },
    {
      "cell_type": "markdown",
      "source": [
        "## Encoding"
      ],
      "metadata": {
        "id": "hBXyEWfDBZau"
      }
    },
    {
      "cell_type": "markdown",
      "source": [
        "###  <i>name</i> Feature"
      ],
      "metadata": {
        "id": "dt9elEh8BtMQ"
      }
    },
    {
      "cell_type": "code",
      "execution_count": 128,
      "source": [
        "preProcessing = preProcessing()\n",
        "preProcessing.encode_name(mergedData['name'])"
      ],
      "outputs": [],
      "metadata": {
        "id": "aK2AMfoWyao5"
      }
    },
    {
      "cell_type": "code",
      "execution_count": 129,
      "source": [
        "preProcessing.drop_adjust(mergedData)"
      ],
      "outputs": [],
      "metadata": {
        "id": "bqfV_FBH1StT"
      }
    },
    {
      "cell_type": "markdown",
      "source": [
        "### Other Features"
      ],
      "metadata": {
        "id": "-zGtznqLBu4O"
      }
    },
    {
      "cell_type": "code",
      "execution_count": 130,
      "source": [
        "nonIntegerColumns = [col for col in mergedData.columns if mergedData[col].dtypes == object]\n",
        "print(f\"Non Integer Columns : {nonIntegerColumns}\")"
      ],
      "outputs": [
        {
          "output_type": "stream",
          "name": "stdout",
          "text": [
            "Non Integer Columns : ['cab_type', 'destination', 'source']\n"
          ]
        }
      ],
      "metadata": {
        "id": "3ptzS3nbyao5",
        "outputId": "213f09e5-acbe-4b8c-e14a-0515ceae1858",
        "colab": {
          "base_uri": "https://localhost:8080/"
        }
      }
    },
    {
      "cell_type": "code",
      "execution_count": 131,
      "source": [
        "preProcessing.encode(mergedData,nonIntegerColumns)"
      ],
      "outputs": [],
      "metadata": {
        "id": "OAnwv46Ryao6"
      }
    },
    {
      "cell_type": "code",
      "source": [
        " mergedData.dropna(axis=0, subset=['price'], inplace=True)"
      ],
      "metadata": {
        "id": "e1OdBKnF6goN"
      },
      "execution_count": 132,
      "outputs": []
    },
    {
      "cell_type": "code",
      "execution_count": 133,
      "source": [
        "mergedData.isnull().sum()\n"
      ],
      "outputs": [
        {
          "output_type": "execute_result",
          "data": {
            "text/plain": [
              "distance                 0\n",
              "cab_type                 0\n",
              "destination              0\n",
              "source                   0\n",
              "surge_multiplier         0\n",
              "ride_class               0\n",
              "price                    0\n",
              "temp                     0\n",
              "clouds                   0\n",
              "pressure                 0\n",
              "rain                442311\n",
              "humidity                 0\n",
              "wind                     0\n",
              "dtype: int64"
            ]
          },
          "metadata": {},
          "execution_count": 133
        }
      ],
      "metadata": {
        "id": "PTanbtUayao6",
        "outputId": "f7f1fd53-b2ca-4db4-c531-af63cd76141a",
        "colab": {
          "base_uri": "https://localhost:8080/"
        }
      }
    },
    {
      "cell_type": "markdown",
      "source": [
        "## Rain feature\n"
      ],
      "metadata": {
        "id": "sCROD0uU0DFy"
      }
    },
    {
      "cell_type": "code",
      "execution_count": 134,
      "source": [
        "mergedData['rain'].fillna(0,inplace=True)"
      ],
      "outputs": [],
      "metadata": {
        "id": "f27SNTSR1StU"
      }
    },
    {
      "cell_type": "code",
      "execution_count": 135,
      "source": [
        "mergedData['rain'].describe()"
      ],
      "outputs": [
        {
          "output_type": "execute_result",
          "data": {
            "text/plain": [
              "count    510321.000000\n",
              "mean          0.011510\n",
              "std           0.039019\n",
              "min           0.000000\n",
              "25%           0.000000\n",
              "50%           0.000000\n",
              "75%           0.000000\n",
              "max           0.208800\n",
              "Name: rain, dtype: float64"
            ]
          },
          "metadata": {},
          "execution_count": 135
        }
      ],
      "metadata": {
        "id": "j63FTsE2zj6l",
        "outputId": "a23e7cba-4303-4c9f-d4d6-2565f15f9513",
        "colab": {
          "base_uri": "https://localhost:8080/"
        }
      }
    },
    {
      "cell_type": "markdown",
      "source": [
        "Referring to google:\n",
        "<blockquote>Light rainfall is considered <b>less than 0.10 inches</b> of rain per hour. Moderate rainfall measures <b>0.10 to 0.30 inches</b> of rain per hour. Heavy rainfall is more than <b>0.30 inches</b>\n",
        " of rain per hour.</blockquote>\n",
        "0 : no rain <br>\n",
        "1 : light rain <br>\n",
        "2 : mid rain <br>\n",
        "3 : heavy rain (doesn't exist in the data)"
      ],
      "metadata": {
        "id": "Z1-UzpEh2sNn"
      }
    },
    {
      "cell_type": "code",
      "execution_count": 136,
      "source": [
        "mergedData['rainType'] = 0"
      ],
      "outputs": [],
      "metadata": {
        "id": "xrPk3kw33JmM"
      }
    },
    {
      "cell_type": "code",
      "execution_count": 137,
      "source": [
        "mergedData['rainType'][(mergedData['rain'] > 0) & (mergedData['rain'] < 0.1)] = 1"
      ],
      "outputs": [
        {
          "output_type": "stream",
          "name": "stderr",
          "text": [
            "/usr/local/lib/python3.7/dist-packages/ipykernel_launcher.py:1: SettingWithCopyWarning: \n",
            "A value is trying to be set on a copy of a slice from a DataFrame\n",
            "\n",
            "See the caveats in the documentation: https://pandas.pydata.org/pandas-docs/stable/user_guide/indexing.html#returning-a-view-versus-a-copy\n",
            "  \"\"\"Entry point for launching an IPython kernel.\n"
          ]
        }
      ],
      "metadata": {
        "id": "2RSlb3I149b8",
        "outputId": "dac3d830-6f80-487d-9adb-c83a45e78c1a",
        "colab": {
          "base_uri": "https://localhost:8080/"
        }
      }
    },
    {
      "cell_type": "code",
      "execution_count": 138,
      "source": [
        "mergedData['rainType'][(mergedData['rain'] > 0.1) & (mergedData['rain'] < 0.3)] = 2"
      ],
      "outputs": [
        {
          "output_type": "stream",
          "name": "stderr",
          "text": [
            "/usr/local/lib/python3.7/dist-packages/ipykernel_launcher.py:1: SettingWithCopyWarning: \n",
            "A value is trying to be set on a copy of a slice from a DataFrame\n",
            "\n",
            "See the caveats in the documentation: https://pandas.pydata.org/pandas-docs/stable/user_guide/indexing.html#returning-a-view-versus-a-copy\n",
            "  \"\"\"Entry point for launching an IPython kernel.\n"
          ]
        }
      ],
      "metadata": {
        "id": "us71sL9z3ZRE",
        "outputId": "a5fc1dec-e35f-4085-ed73-6b52a761e2fb",
        "colab": {
          "base_uri": "https://localhost:8080/"
        }
      }
    },
    {
      "cell_type": "code",
      "execution_count": 139,
      "source": [
        "mergedData['rainType'].value_counts()"
      ],
      "outputs": [
        {
          "output_type": "execute_result",
          "data": {
            "text/plain": [
              "0    442311\n",
              "1     39496\n",
              "2     28514\n",
              "Name: rainType, dtype: int64"
            ]
          },
          "metadata": {},
          "execution_count": 139
        }
      ],
      "metadata": {
        "id": "5AtkvMSaAvNe",
        "outputId": "179a857b-2c53-45b5-80ad-baffc90061ca",
        "colab": {
          "base_uri": "https://localhost:8080/"
        }
      }
    },
    {
      "cell_type": "markdown",
      "source": [
        "## Clouds engineering\n",
        "making the assumption that clouds are on normalized [Okta Scale](https://polarpedia.eu/en/okta-scale/) that means values less than 0.1 are sunny days"
      ],
      "metadata": {
        "id": "XZAlWZSK6_4s"
      }
    },
    {
      "cell_type": "code",
      "execution_count": 140,
      "source": [
        "mergedData['sunnyDay'] = 0"
      ],
      "outputs": [],
      "metadata": {
        "id": "_Tihpd4K7DJs"
      }
    },
    {
      "cell_type": "code",
      "execution_count": 141,
      "source": [
        "mergedData['sunnyDay'][mergedData['clouds'] <= 0.1] = 1"
      ],
      "outputs": [
        {
          "output_type": "stream",
          "name": "stderr",
          "text": [
            "/usr/local/lib/python3.7/dist-packages/ipykernel_launcher.py:1: SettingWithCopyWarning: \n",
            "A value is trying to be set on a copy of a slice from a DataFrame\n",
            "\n",
            "See the caveats in the documentation: https://pandas.pydata.org/pandas-docs/stable/user_guide/indexing.html#returning-a-view-versus-a-copy\n",
            "  \"\"\"Entry point for launching an IPython kernel.\n"
          ]
        }
      ],
      "metadata": {
        "id": "Lh3Vo-qb7eUx",
        "outputId": "6d19c52e-b04b-4c64-8519-bd753e1f7606",
        "colab": {
          "base_uri": "https://localhost:8080/"
        }
      }
    },
    {
      "cell_type": "code",
      "execution_count": 142,
      "source": [
        "mergedData['sunnyDay'].value_counts()"
      ],
      "outputs": [
        {
          "output_type": "execute_result",
          "data": {
            "text/plain": [
              "0    502981\n",
              "1      7340\n",
              "Name: sunnyDay, dtype: int64"
            ]
          },
          "metadata": {},
          "execution_count": 142
        }
      ],
      "metadata": {
        "id": "AysyRJRpAqu-",
        "outputId": "f937b0ee-c07e-47d0-90cc-59cd4dfd2b8f",
        "colab": {
          "base_uri": "https://localhost:8080/"
        }
      }
    },
    {
      "cell_type": "markdown",
      "source": [
        "## Outliers"
      ],
      "metadata": {
        "id": "4FzmczpC-yYv"
      }
    },
    {
      "cell_type": "code",
      "execution_count": 143,
      "source": [
        "standardPrice = (mergedData['price'] - mergedData['price'].mean()) / mergedData['price'].std()"
      ],
      "outputs": [],
      "metadata": {
        "id": "l8iYRVBP-zxJ"
      }
    },
    {
      "cell_type": "code",
      "execution_count": 144,
      "source": [
        "priceOutliers = mergedData[((standardPrice > 3.5) | (standardPrice < -3.5))]\n",
        "print(len(priceOutliers))"
      ],
      "outputs": [
        {
          "output_type": "stream",
          "name": "stdout",
          "text": [
            "1670\n"
          ]
        }
      ],
      "metadata": {
        "id": "kDH_EJvm_Fct",
        "outputId": "04045c29-f72b-4e4a-ec65-60c2843dced6",
        "colab": {
          "base_uri": "https://localhost:8080/"
        }
      }
    },
    {
      "cell_type": "markdown",
      "source": [
        "### Dimentionality Reduction"
      ],
      "metadata": {
        "id": "Yf90ixWd1nGm"
      }
    },
    {
      "cell_type": "code",
      "execution_count": 145,
      "source": [
        "subsetOfData = mergedData[['temp','clouds','rain','wind','pressure','humidity']]\n",
        "mergedData.drop(['temp','clouds','rain','wind','pressure','humidity'],axis=1,inplace=True)"
      ],
      "outputs": [],
      "metadata": {
        "id": "pFL_kY-l1nGm"
      }
    },
    {
      "cell_type": "code",
      "execution_count": 146,
      "source": [
        "lowerDimentionWeatherData =preProcessing.reduceDimentionsOf(subsetOfData)\n",
        "mergedData['weatherState'] = lowerDimentionWeatherData"
      ],
      "outputs": [],
      "metadata": {
        "id": "enVJUbEC1nGm"
      }
    },
    {
      "cell_type": "markdown",
      "source": [
        "# Model"
      ],
      "metadata": {
        "id": "GXsfljQJ1StU"
      }
    },
    {
      "cell_type": "code",
      "execution_count": 147,
      "source": [
        "dataFeatures = mergedData.drop(['price'],axis=1)\n",
        "dataLabel = mergedData['price']"
      ],
      "outputs": [],
      "metadata": {
        "id": "J0QCwmna1StV"
      }
    },
    {
      "cell_type": "code",
      "execution_count": 148,
      "source": [
        "dataFeatures.head()"
      ],
      "outputs": [
        {
          "output_type": "execute_result",
          "data": {
            "text/plain": [
              "        distance  cab_type  destination  source  surge_multiplier  ride_class  \\\n",
              "538883      2.33         0            2       1               1.0           0   \n",
              "346062      0.98         0            7       6               1.0           0   \n",
              "270683      1.73         0            5      10               1.0           0   \n",
              "171673      1.52         0            2       0               1.0           0   \n",
              "401607      0.73         0            5       7               1.0           0   \n",
              "\n",
              "        rainType  sunnyDay  weatherState  \n",
              "538883         0         0     -7.068304  \n",
              "346062         0         0    -13.164268  \n",
              "270683         0         0     26.185753  \n",
              "171673         2         0      2.097735  \n",
              "401607         0         0     -2.178539  "
            ],
            "text/html": [
              "\n",
              "  <div id=\"df-2964af43-168d-4535-a835-55bf10729ce6\">\n",
              "    <div class=\"colab-df-container\">\n",
              "      <div>\n",
              "<style scoped>\n",
              "    .dataframe tbody tr th:only-of-type {\n",
              "        vertical-align: middle;\n",
              "    }\n",
              "\n",
              "    .dataframe tbody tr th {\n",
              "        vertical-align: top;\n",
              "    }\n",
              "\n",
              "    .dataframe thead th {\n",
              "        text-align: right;\n",
              "    }\n",
              "</style>\n",
              "<table border=\"1\" class=\"dataframe\">\n",
              "  <thead>\n",
              "    <tr style=\"text-align: right;\">\n",
              "      <th></th>\n",
              "      <th>distance</th>\n",
              "      <th>cab_type</th>\n",
              "      <th>destination</th>\n",
              "      <th>source</th>\n",
              "      <th>surge_multiplier</th>\n",
              "      <th>ride_class</th>\n",
              "      <th>rainType</th>\n",
              "      <th>sunnyDay</th>\n",
              "      <th>weatherState</th>\n",
              "    </tr>\n",
              "  </thead>\n",
              "  <tbody>\n",
              "    <tr>\n",
              "      <th>538883</th>\n",
              "      <td>2.33</td>\n",
              "      <td>0</td>\n",
              "      <td>2</td>\n",
              "      <td>1</td>\n",
              "      <td>1.0</td>\n",
              "      <td>0</td>\n",
              "      <td>0</td>\n",
              "      <td>0</td>\n",
              "      <td>-7.068304</td>\n",
              "    </tr>\n",
              "    <tr>\n",
              "      <th>346062</th>\n",
              "      <td>0.98</td>\n",
              "      <td>0</td>\n",
              "      <td>7</td>\n",
              "      <td>6</td>\n",
              "      <td>1.0</td>\n",
              "      <td>0</td>\n",
              "      <td>0</td>\n",
              "      <td>0</td>\n",
              "      <td>-13.164268</td>\n",
              "    </tr>\n",
              "    <tr>\n",
              "      <th>270683</th>\n",
              "      <td>1.73</td>\n",
              "      <td>0</td>\n",
              "      <td>5</td>\n",
              "      <td>10</td>\n",
              "      <td>1.0</td>\n",
              "      <td>0</td>\n",
              "      <td>0</td>\n",
              "      <td>0</td>\n",
              "      <td>26.185753</td>\n",
              "    </tr>\n",
              "    <tr>\n",
              "      <th>171673</th>\n",
              "      <td>1.52</td>\n",
              "      <td>0</td>\n",
              "      <td>2</td>\n",
              "      <td>0</td>\n",
              "      <td>1.0</td>\n",
              "      <td>0</td>\n",
              "      <td>2</td>\n",
              "      <td>0</td>\n",
              "      <td>2.097735</td>\n",
              "    </tr>\n",
              "    <tr>\n",
              "      <th>401607</th>\n",
              "      <td>0.73</td>\n",
              "      <td>0</td>\n",
              "      <td>5</td>\n",
              "      <td>7</td>\n",
              "      <td>1.0</td>\n",
              "      <td>0</td>\n",
              "      <td>0</td>\n",
              "      <td>0</td>\n",
              "      <td>-2.178539</td>\n",
              "    </tr>\n",
              "  </tbody>\n",
              "</table>\n",
              "</div>\n",
              "      <button class=\"colab-df-convert\" onclick=\"convertToInteractive('df-2964af43-168d-4535-a835-55bf10729ce6')\"\n",
              "              title=\"Convert this dataframe to an interactive table.\"\n",
              "              style=\"display:none;\">\n",
              "        \n",
              "  <svg xmlns=\"http://www.w3.org/2000/svg\" height=\"24px\"viewBox=\"0 0 24 24\"\n",
              "       width=\"24px\">\n",
              "    <path d=\"M0 0h24v24H0V0z\" fill=\"none\"/>\n",
              "    <path d=\"M18.56 5.44l.94 2.06.94-2.06 2.06-.94-2.06-.94-.94-2.06-.94 2.06-2.06.94zm-11 1L8.5 8.5l.94-2.06 2.06-.94-2.06-.94L8.5 2.5l-.94 2.06-2.06.94zm10 10l.94 2.06.94-2.06 2.06-.94-2.06-.94-.94-2.06-.94 2.06-2.06.94z\"/><path d=\"M17.41 7.96l-1.37-1.37c-.4-.4-.92-.59-1.43-.59-.52 0-1.04.2-1.43.59L10.3 9.45l-7.72 7.72c-.78.78-.78 2.05 0 2.83L4 21.41c.39.39.9.59 1.41.59.51 0 1.02-.2 1.41-.59l7.78-7.78 2.81-2.81c.8-.78.8-2.07 0-2.86zM5.41 20L4 18.59l7.72-7.72 1.47 1.35L5.41 20z\"/>\n",
              "  </svg>\n",
              "      </button>\n",
              "      \n",
              "  <style>\n",
              "    .colab-df-container {\n",
              "      display:flex;\n",
              "      flex-wrap:wrap;\n",
              "      gap: 12px;\n",
              "    }\n",
              "\n",
              "    .colab-df-convert {\n",
              "      background-color: #E8F0FE;\n",
              "      border: none;\n",
              "      border-radius: 50%;\n",
              "      cursor: pointer;\n",
              "      display: none;\n",
              "      fill: #1967D2;\n",
              "      height: 32px;\n",
              "      padding: 0 0 0 0;\n",
              "      width: 32px;\n",
              "    }\n",
              "\n",
              "    .colab-df-convert:hover {\n",
              "      background-color: #E2EBFA;\n",
              "      box-shadow: 0px 1px 2px rgba(60, 64, 67, 0.3), 0px 1px 3px 1px rgba(60, 64, 67, 0.15);\n",
              "      fill: #174EA6;\n",
              "    }\n",
              "\n",
              "    [theme=dark] .colab-df-convert {\n",
              "      background-color: #3B4455;\n",
              "      fill: #D2E3FC;\n",
              "    }\n",
              "\n",
              "    [theme=dark] .colab-df-convert:hover {\n",
              "      background-color: #434B5C;\n",
              "      box-shadow: 0px 1px 3px 1px rgba(0, 0, 0, 0.15);\n",
              "      filter: drop-shadow(0px 1px 2px rgba(0, 0, 0, 0.3));\n",
              "      fill: #FFFFFF;\n",
              "    }\n",
              "  </style>\n",
              "\n",
              "      <script>\n",
              "        const buttonEl =\n",
              "          document.querySelector('#df-2964af43-168d-4535-a835-55bf10729ce6 button.colab-df-convert');\n",
              "        buttonEl.style.display =\n",
              "          google.colab.kernel.accessAllowed ? 'block' : 'none';\n",
              "\n",
              "        async function convertToInteractive(key) {\n",
              "          const element = document.querySelector('#df-2964af43-168d-4535-a835-55bf10729ce6');\n",
              "          const dataTable =\n",
              "            await google.colab.kernel.invokeFunction('convertToInteractive',\n",
              "                                                     [key], {});\n",
              "          if (!dataTable) return;\n",
              "\n",
              "          const docLinkHtml = 'Like what you see? Visit the ' +\n",
              "            '<a target=\"_blank\" href=https://colab.research.google.com/notebooks/data_table.ipynb>data table notebook</a>'\n",
              "            + ' to learn more about interactive tables.';\n",
              "          element.innerHTML = '';\n",
              "          dataTable['output_type'] = 'display_data';\n",
              "          await google.colab.output.renderOutput(dataTable, element);\n",
              "          const docLink = document.createElement('div');\n",
              "          docLink.innerHTML = docLinkHtml;\n",
              "          element.appendChild(docLink);\n",
              "        }\n",
              "      </script>\n",
              "    </div>\n",
              "  </div>\n",
              "  "
            ]
          },
          "metadata": {},
          "execution_count": 148
        }
      ],
      "metadata": {
        "id": "TFEdJEQ6AmeG",
        "outputId": "2afe932d-aab4-41c9-a40a-c5b4c04e8262",
        "colab": {
          "base_uri": "https://localhost:8080/",
          "height": 206
        }
      }
    },
    {
      "cell_type": "code",
      "execution_count": 149,
      "source": [
        "model = Model()"
      ],
      "outputs": [],
      "metadata": {
        "id": "3BW0W_UOMVmT"
      }
    },
    {
      "cell_type": "markdown",
      "source": [
        "### First Model"
      ],
      "metadata": {
        "id": "t-WWeYw61StV"
      }
    },
    {
      "cell_type": "code",
      "execution_count": 150,
      "source": [
        "splitData = model.splitData(dataFeatures,dataLabel)"
      ],
      "outputs": [],
      "metadata": {
        "id": "G4udYlgCNMC1"
      }
    },
    {
      "cell_type": "code",
      "execution_count": 151,
      "source": [
        "model.fitLinearModel(splitData[\"trainFeatures\"],\n",
        "                     splitData[\"trainLabel\"],\n",
        "                     metrics.r2_score,\n",
        "                     splitData[\"testFeatures\"],\n",
        "                     splitData[\"testLabel\"])"
      ],
      "outputs": [
        {
          "output_type": "stream",
          "name": "stdout",
          "text": [
            "Final model r2_score on train: 0.9065725903584152\n",
            "Final model r2_score on validation: 0.9078013263730424\n"
          ]
        },
        {
          "output_type": "execute_result",
          "data": {
            "text/plain": [
              "LinearRegression()"
            ]
          },
          "metadata": {},
          "execution_count": 151
        }
      ],
      "metadata": {
        "colab": {
          "base_uri": "https://localhost:8080/"
        },
        "id": "NxMftNFEMa-b",
        "outputId": "e4373cc4-87b7-4288-d89c-ed726cf55526"
      }
    },
    {
      "cell_type": "markdown",
      "source": [
        "### Second Model"
      ],
      "metadata": {
        "id": "6-BqiZIn1StW"
      }
    },
    {
      "cell_type": "code",
      "execution_count": 152,
      "source": [
        "polyDegree = 3\n",
        "model.fitPolyModel(splitData[\"trainFeatures\"],\n",
        "                    splitData[\"trainLabel\"],\n",
        "                    polyDegree,\n",
        "                    metrics.r2_score,\n",
        "                    splitData[\"testFeatures\"],\n",
        "                    splitData[\"testLabel\"])"
      ],
      "outputs": [
        {
          "output_type": "stream",
          "name": "stdout",
          "text": [
            "Final model r2_score on train: 0.9533172653094901\n",
            "Final model r2_score on validation: 0.953883447568607\n"
          ]
        },
        {
          "output_type": "execute_result",
          "data": {
            "text/plain": [
              "LinearRegression()"
            ]
          },
          "metadata": {},
          "execution_count": 152
        }
      ],
      "metadata": {
        "colab": {
          "base_uri": "https://localhost:8080/"
        },
        "id": "AdRQg_mJNTU7",
        "outputId": "447c6c54-af6d-4ea4-915f-d72412160cfc"
      }
    },
    {
      "cell_type": "code",
      "execution_count": 153,
      "source": [
        "model.crossValidateOn(linear_model.LinearRegression(),\n",
        "                      dataFeatures,\n",
        "                      dataLabel,\n",
        "                      polyDegree,\n",
        "                      metric = metrics.r2_score)"
      ],
      "outputs": [
        {
          "output_type": "stream",
          "name": "stdout",
          "text": [
            "Average Score : -1.5423752054627977\n"
          ]
        }
      ],
      "metadata": {
        "id": "OfyLbfUffX-R",
        "outputId": "fcc4e72d-32ba-4d5c-f31b-5e34c673765a",
        "colab": {
          "base_uri": "https://localhost:8080/"
        }
      }
    }
  ],
  "metadata": {
    "colab": {
      "collapsed_sections": [
        "FxAg-M9rgEwS",
        "b5cZp83vgEwh",
        "BCkljrZhgEwm",
        "b1_DvW9dgEwv",
        "vXWmLCUdgExD",
        "bX0qzKlkgExH"
      ],
      "name": "ML Project.ipynb",
      "provenance": []
    },
    "interpreter": {
      "hash": "916dbcbb3f70747c44a77c7bcd40155683ae19c65e1c03b4aa3499c5328201f1"
    },
    "kernelspec": {
      "name": "python3",
      "display_name": "Python 3.9.5 64-bit"
    },
    "language_info": {
      "codemirror_mode": {
        "name": "ipython",
        "version": 3
      },
      "file_extension": ".py",
      "mimetype": "text/x-python",
      "name": "python",
      "nbconvert_exporter": "python",
      "pygments_lexer": "ipython3",
      "version": "3.9.5"
    }
  },
  "nbformat": 4,
  "nbformat_minor": 0
}