{
 "cells": [
  {
   "cell_type": "code",
   "execution_count": 1,
   "metadata": {},
   "outputs": [],
   "source": [
    "import numpy as np\n",
    "import pandas as pd\n",
    "import matplotlib as plt\n",
    "import seaborn as sns"
   ]
  },
  {
   "cell_type": "code",
   "execution_count": 2,
   "metadata": {},
   "outputs": [],
   "source": [
    "dataPath = r'E:\\Edu\\Academic\\Year 3\\Second Term\\ML\\Project\\Milestone 1\\Milestone 1\\Datasets\\taxi-price-prediction\\taxi'"
   ]
  },
  {
   "cell_type": "code",
   "execution_count": 98,
   "metadata": {},
   "outputs": [],
   "source": [
    "taxiRides = pd.read_csv(dataPath + '\\\\taxi-rides.csv')\n",
    "weather = pd.read_csv(dataPath + '\\\\weather.csv')"
   ]
  },
  {
   "cell_type": "code",
   "execution_count": 99,
   "metadata": {},
   "outputs": [
    {
     "name": "stdout",
     "output_type": "stream",
     "text": [
      "Taxi Rides has 554456 Rows and 10 \n"
     ]
    },
    {
     "data": {
      "text/html": [
       "<div>\n",
       "<style scoped>\n",
       "    .dataframe tbody tr th:only-of-type {\n",
       "        vertical-align: middle;\n",
       "    }\n",
       "\n",
       "    .dataframe tbody tr th {\n",
       "        vertical-align: top;\n",
       "    }\n",
       "\n",
       "    .dataframe thead th {\n",
       "        text-align: right;\n",
       "    }\n",
       "</style>\n",
       "<table border=\"1\" class=\"dataframe\">\n",
       "  <thead>\n",
       "    <tr style=\"text-align: right;\">\n",
       "      <th></th>\n",
       "      <th>distance</th>\n",
       "      <th>cab_type</th>\n",
       "      <th>time_stamp</th>\n",
       "      <th>destination</th>\n",
       "      <th>source</th>\n",
       "      <th>surge_multiplier</th>\n",
       "      <th>id</th>\n",
       "      <th>product_id</th>\n",
       "      <th>name</th>\n",
       "      <th>price</th>\n",
       "    </tr>\n",
       "  </thead>\n",
       "  <tbody>\n",
       "    <tr>\n",
       "      <td>0</td>\n",
       "      <td>0.62</td>\n",
       "      <td>Uber</td>\n",
       "      <td>1.544770e+12</td>\n",
       "      <td>West End</td>\n",
       "      <td>Haymarket Square</td>\n",
       "      <td>1.0</td>\n",
       "      <td>c1b4a572-24b2-484d-aac5-b4f97b790480</td>\n",
       "      <td>8cf7e821-f0d3-49c6-8eba-e679c0ebcf6a</td>\n",
       "      <td>Taxi</td>\n",
       "      <td>NaN</td>\n",
       "    </tr>\n",
       "    <tr>\n",
       "      <td>1</td>\n",
       "      <td>2.27</td>\n",
       "      <td>Uber</td>\n",
       "      <td>1.543400e+12</td>\n",
       "      <td>Boston University</td>\n",
       "      <td>Beacon Hill</td>\n",
       "      <td>1.0</td>\n",
       "      <td>f9e7e7e6-b309-479b-9f90-bf26a1870c81</td>\n",
       "      <td>997acbb5-e102-41e1-b155-9df7de0a73f2</td>\n",
       "      <td>UberPool</td>\n",
       "      <td>8.0</td>\n",
       "    </tr>\n",
       "    <tr>\n",
       "      <td>2</td>\n",
       "      <td>2.00</td>\n",
       "      <td>Lyft</td>\n",
       "      <td>1.544920e+12</td>\n",
       "      <td>Back Bay</td>\n",
       "      <td>Haymarket Square</td>\n",
       "      <td>1.0</td>\n",
       "      <td>154e8438-46f5-4e5f-9872-15cc95e85eed</td>\n",
       "      <td>lyft</td>\n",
       "      <td>Lyft</td>\n",
       "      <td>10.5</td>\n",
       "    </tr>\n",
       "    <tr>\n",
       "      <td>3</td>\n",
       "      <td>3.98</td>\n",
       "      <td>Lyft</td>\n",
       "      <td>1.543620e+12</td>\n",
       "      <td>Financial District</td>\n",
       "      <td>Northeastern University</td>\n",
       "      <td>1.0</td>\n",
       "      <td>6bdc30a6-9a80-487b-914e-8d9b82ee4acb</td>\n",
       "      <td>lyft_plus</td>\n",
       "      <td>Lyft XL</td>\n",
       "      <td>22.5</td>\n",
       "    </tr>\n",
       "    <tr>\n",
       "      <td>4</td>\n",
       "      <td>1.49</td>\n",
       "      <td>Lyft</td>\n",
       "      <td>1.543580e+12</td>\n",
       "      <td>Back Bay</td>\n",
       "      <td>Northeastern University</td>\n",
       "      <td>1.0</td>\n",
       "      <td>0cb12fe9-cd72-4feb-b341-4a566b2e6643</td>\n",
       "      <td>lyft</td>\n",
       "      <td>Lyft</td>\n",
       "      <td>7.0</td>\n",
       "    </tr>\n",
       "  </tbody>\n",
       "</table>\n",
       "</div>"
      ],
      "text/plain": [
       "   distance cab_type    time_stamp         destination  \\\n",
       "0      0.62     Uber  1.544770e+12            West End   \n",
       "1      2.27     Uber  1.543400e+12   Boston University   \n",
       "2      2.00     Lyft  1.544920e+12            Back Bay   \n",
       "3      3.98     Lyft  1.543620e+12  Financial District   \n",
       "4      1.49     Lyft  1.543580e+12            Back Bay   \n",
       "\n",
       "                    source  surge_multiplier  \\\n",
       "0         Haymarket Square               1.0   \n",
       "1              Beacon Hill               1.0   \n",
       "2         Haymarket Square               1.0   \n",
       "3  Northeastern University               1.0   \n",
       "4  Northeastern University               1.0   \n",
       "\n",
       "                                     id                            product_id  \\\n",
       "0  c1b4a572-24b2-484d-aac5-b4f97b790480  8cf7e821-f0d3-49c6-8eba-e679c0ebcf6a   \n",
       "1  f9e7e7e6-b309-479b-9f90-bf26a1870c81  997acbb5-e102-41e1-b155-9df7de0a73f2   \n",
       "2  154e8438-46f5-4e5f-9872-15cc95e85eed                                  lyft   \n",
       "3  6bdc30a6-9a80-487b-914e-8d9b82ee4acb                             lyft_plus   \n",
       "4  0cb12fe9-cd72-4feb-b341-4a566b2e6643                                  lyft   \n",
       "\n",
       "       name  price  \n",
       "0      Taxi    NaN  \n",
       "1  UberPool    8.0  \n",
       "2      Lyft   10.5  \n",
       "3   Lyft XL   22.5  \n",
       "4      Lyft    7.0  "
      ]
     },
     "execution_count": 99,
     "metadata": {},
     "output_type": "execute_result"
    }
   ],
   "source": [
    "print(f\"Taxi Rides has {taxiRides.shape[0]} Rows and {taxiRides.shape[1]} \")\n",
    "taxiRides.head()"
   ]
  },
  {
   "cell_type": "code",
   "execution_count": 5,
   "metadata": {
    "scrolled": false
   },
   "outputs": [
    {
     "name": "stdout",
     "output_type": "stream",
     "text": [
      "Weather has 6276 Rows and 8 \n"
     ]
    },
    {
     "data": {
      "text/html": [
       "<div>\n",
       "<style scoped>\n",
       "    .dataframe tbody tr th:only-of-type {\n",
       "        vertical-align: middle;\n",
       "    }\n",
       "\n",
       "    .dataframe tbody tr th {\n",
       "        vertical-align: top;\n",
       "    }\n",
       "\n",
       "    .dataframe thead th {\n",
       "        text-align: right;\n",
       "    }\n",
       "</style>\n",
       "<table border=\"1\" class=\"dataframe\">\n",
       "  <thead>\n",
       "    <tr style=\"text-align: right;\">\n",
       "      <th></th>\n",
       "      <th>temp</th>\n",
       "      <th>location</th>\n",
       "      <th>clouds</th>\n",
       "      <th>pressure</th>\n",
       "      <th>rain</th>\n",
       "      <th>time_stamp</th>\n",
       "      <th>humidity</th>\n",
       "      <th>wind</th>\n",
       "    </tr>\n",
       "  </thead>\n",
       "  <tbody>\n",
       "    <tr>\n",
       "      <td>0</td>\n",
       "      <td>42.42</td>\n",
       "      <td>Back Bay</td>\n",
       "      <td>1.0</td>\n",
       "      <td>1012.14</td>\n",
       "      <td>0.1228</td>\n",
       "      <td>1545003901</td>\n",
       "      <td>0.77</td>\n",
       "      <td>11.25</td>\n",
       "    </tr>\n",
       "    <tr>\n",
       "      <td>1</td>\n",
       "      <td>42.43</td>\n",
       "      <td>Beacon Hill</td>\n",
       "      <td>1.0</td>\n",
       "      <td>1012.15</td>\n",
       "      <td>0.1846</td>\n",
       "      <td>1545003901</td>\n",
       "      <td>0.76</td>\n",
       "      <td>11.32</td>\n",
       "    </tr>\n",
       "    <tr>\n",
       "      <td>2</td>\n",
       "      <td>42.50</td>\n",
       "      <td>Boston University</td>\n",
       "      <td>1.0</td>\n",
       "      <td>1012.15</td>\n",
       "      <td>0.1089</td>\n",
       "      <td>1545003901</td>\n",
       "      <td>0.76</td>\n",
       "      <td>11.07</td>\n",
       "    </tr>\n",
       "    <tr>\n",
       "      <td>3</td>\n",
       "      <td>42.11</td>\n",
       "      <td>Fenway</td>\n",
       "      <td>1.0</td>\n",
       "      <td>1012.13</td>\n",
       "      <td>0.0969</td>\n",
       "      <td>1545003901</td>\n",
       "      <td>0.77</td>\n",
       "      <td>11.09</td>\n",
       "    </tr>\n",
       "    <tr>\n",
       "      <td>4</td>\n",
       "      <td>43.13</td>\n",
       "      <td>Financial District</td>\n",
       "      <td>1.0</td>\n",
       "      <td>1012.14</td>\n",
       "      <td>0.1786</td>\n",
       "      <td>1545003901</td>\n",
       "      <td>0.75</td>\n",
       "      <td>11.49</td>\n",
       "    </tr>\n",
       "  </tbody>\n",
       "</table>\n",
       "</div>"
      ],
      "text/plain": [
       "    temp            location  clouds  pressure    rain  time_stamp  humidity  \\\n",
       "0  42.42            Back Bay     1.0   1012.14  0.1228  1545003901      0.77   \n",
       "1  42.43         Beacon Hill     1.0   1012.15  0.1846  1545003901      0.76   \n",
       "2  42.50   Boston University     1.0   1012.15  0.1089  1545003901      0.76   \n",
       "3  42.11              Fenway     1.0   1012.13  0.0969  1545003901      0.77   \n",
       "4  43.13  Financial District     1.0   1012.14  0.1786  1545003901      0.75   \n",
       "\n",
       "    wind  \n",
       "0  11.25  \n",
       "1  11.32  \n",
       "2  11.07  \n",
       "3  11.09  \n",
       "4  11.49  "
      ]
     },
     "execution_count": 5,
     "metadata": {},
     "output_type": "execute_result"
    }
   ],
   "source": [
    "print(f\"Weather has {weather.shape[0]} Rows and {weather.shape[1]} \")\n",
    "weather.head()"
   ]
  },
  {
   "cell_type": "markdown",
   "metadata": {},
   "source": [
    "# Data Cleaning"
   ]
  },
  {
   "cell_type": "markdown",
   "metadata": {},
   "source": [
    "## Taxi Rides"
   ]
  },
  {
   "cell_type": "code",
   "execution_count": 7,
   "metadata": {
    "scrolled": true
   },
   "outputs": [
    {
     "name": "stdout",
     "output_type": "stream",
     "text": [
      "<class 'pandas.core.frame.DataFrame'>\n",
      "RangeIndex: 554456 entries, 0 to 554455\n",
      "Data columns (total 10 columns):\n",
      "distance            554456 non-null float64\n",
      "cab_type            554456 non-null object\n",
      "time_stamp          554456 non-null float64\n",
      "destination         554456 non-null object\n",
      "source              554456 non-null object\n",
      "surge_multiplier    554456 non-null float64\n",
      "id                  554456 non-null object\n",
      "product_id          554456 non-null object\n",
      "name                554456 non-null object\n",
      "price               510321 non-null float64\n",
      "dtypes: float64(4), object(6)\n",
      "memory usage: 42.3+ MB\n"
     ]
    }
   ],
   "source": [
    "taxiRides.info()"
   ]
  },
  {
   "cell_type": "code",
   "execution_count": 8,
   "metadata": {},
   "outputs": [
    {
     "name": "stdout",
     "output_type": "stream",
     "text": [
      "Non Integer Columns : ['cab_type', 'destination', 'source', 'id', 'product_id', 'name']\n"
     ]
    }
   ],
   "source": [
    "nonIntegerColumns = [col for col in taxiRides.columns if taxiRides[col].dtypes == np.object]\n",
    "print(f\"Non Integer Columns : {nonIntegerColumns}\")"
   ]
  },
  {
   "cell_type": "markdown",
   "metadata": {},
   "source": [
    "## Null"
   ]
  },
  {
   "cell_type": "code",
   "execution_count": 9,
   "metadata": {
    "scrolled": true
   },
   "outputs": [
    {
     "data": {
      "text/plain": [
       "distance                0\n",
       "cab_type                0\n",
       "time_stamp              0\n",
       "destination             0\n",
       "source                  0\n",
       "surge_multiplier        0\n",
       "id                      0\n",
       "product_id              0\n",
       "name                    0\n",
       "price               44135\n",
       "dtype: int64"
      ]
     },
     "execution_count": 9,
     "metadata": {},
     "output_type": "execute_result"
    }
   ],
   "source": [
    "taxiRides.isnull().sum()"
   ]
  },
  {
   "cell_type": "markdown",
   "metadata": {},
   "source": [
    "## product_id and name"
   ]
  },
  {
   "cell_type": "code",
   "execution_count": 10,
   "metadata": {
    "scrolled": true
   },
   "outputs": [
    {
     "data": {
      "text/plain": [
       "55c66225-fbe7-4fd5-9072-eab1ece5e23e    44204\n",
       "8cf7e821-f0d3-49c6-8eba-e679c0ebcf6a    44135\n",
       "997acbb5-e102-41e1-b155-9df7de0a73f2    44108\n",
       "6d318bcc-22a3-4af6-bddd-b409bfce1546    44038\n",
       "9a0e7b09-b92b-4c41-9779-2ad22b4d779d    44024\n",
       "6f72dfc5-27f1-42e8-84db-ccc7a75f6969    43983\n",
       "6c84fd89-3f11-4782-9b50-97c468b19529    43977\n",
       "lyft_plus                               41142\n",
       "lyft_lux                                41041\n",
       "lyft                                    41015\n",
       "lyft_luxsuv                             40979\n",
       "lyft_premier                            40969\n",
       "lyft_line                               40841\n",
       "Name: product_id, dtype: int64"
      ]
     },
     "execution_count": 10,
     "metadata": {},
     "output_type": "execute_result"
    }
   ],
   "source": [
    "taxiRides['product_id'].value_counts()"
   ]
  },
  {
   "cell_type": "code",
   "execution_count": 11,
   "metadata": {},
   "outputs": [
    {
     "data": {
      "text/plain": [
       "UberX           44204\n",
       "Taxi            44135\n",
       "UberPool        44108\n",
       "Black SUV       44038\n",
       "WAV             44024\n",
       "UberXL          43983\n",
       "Black           43977\n",
       "Lyft XL         41142\n",
       "Lux Black       41041\n",
       "Lyft            41015\n",
       "Lux Black XL    40979\n",
       "Lux             40969\n",
       "Shared          40841\n",
       "Name: name, dtype: int64"
      ]
     },
     "execution_count": 11,
     "metadata": {},
     "output_type": "execute_result"
    }
   ],
   "source": [
    "taxiRides['name'].value_counts()"
   ]
  },
  {
   "cell_type": "markdown",
   "metadata": {},
   "source": [
    "product_id and name represent the same feature so we can drop one of them"
   ]
  },
  {
   "cell_type": "code",
   "execution_count": null,
   "metadata": {},
   "outputs": [],
   "source": []
  },
  {
   "cell_type": "markdown",
   "metadata": {},
   "source": [
    "## Encoding Timestamps to date"
   ]
  },
  {
   "cell_type": "code",
   "execution_count": 102,
   "metadata": {},
   "outputs": [],
   "source": [
    "weatherDate = pd.to_datetime(weather['time_stamp'], unit='s').apply(lambda x: x.strftime(('%Y-%m-%d')))"
   ]
  },
  {
   "cell_type": "code",
   "execution_count": 103,
   "metadata": {},
   "outputs": [],
   "source": [
    "taxiRidesDate = pd.to_datetime(taxiRides['time_stamp'] / 1000,unit='s').apply(lambda x: x.strftime(('%Y-%m-%d')))"
   ]
  },
  {
   "cell_type": "code",
   "execution_count": 104,
   "metadata": {},
   "outputs": [],
   "source": [
    "weather['date'] = weatherDate"
   ]
  },
  {
   "cell_type": "code",
   "execution_count": 105,
   "metadata": {},
   "outputs": [],
   "source": [
    "taxiRides['date'] = taxiRidesDate"
   ]
  },
  {
   "cell_type": "code",
   "execution_count": 106,
   "metadata": {},
   "outputs": [
    {
     "data": {
      "text/html": [
       "<div>\n",
       "<style scoped>\n",
       "    .dataframe tbody tr th:only-of-type {\n",
       "        vertical-align: middle;\n",
       "    }\n",
       "\n",
       "    .dataframe tbody tr th {\n",
       "        vertical-align: top;\n",
       "    }\n",
       "\n",
       "    .dataframe thead th {\n",
       "        text-align: right;\n",
       "    }\n",
       "</style>\n",
       "<table border=\"1\" class=\"dataframe\">\n",
       "  <thead>\n",
       "    <tr style=\"text-align: right;\">\n",
       "      <th></th>\n",
       "      <th>distance</th>\n",
       "      <th>cab_type</th>\n",
       "      <th>time_stamp</th>\n",
       "      <th>destination</th>\n",
       "      <th>source</th>\n",
       "      <th>surge_multiplier</th>\n",
       "      <th>id</th>\n",
       "      <th>product_id</th>\n",
       "      <th>name</th>\n",
       "      <th>price</th>\n",
       "      <th>date</th>\n",
       "    </tr>\n",
       "  </thead>\n",
       "  <tbody>\n",
       "    <tr>\n",
       "      <td>0</td>\n",
       "      <td>0.62</td>\n",
       "      <td>Uber</td>\n",
       "      <td>1.544770e+12</td>\n",
       "      <td>West End</td>\n",
       "      <td>Haymarket Square</td>\n",
       "      <td>1.0</td>\n",
       "      <td>c1b4a572-24b2-484d-aac5-b4f97b790480</td>\n",
       "      <td>8cf7e821-f0d3-49c6-8eba-e679c0ebcf6a</td>\n",
       "      <td>Taxi</td>\n",
       "      <td>NaN</td>\n",
       "      <td>2018-12-14</td>\n",
       "    </tr>\n",
       "    <tr>\n",
       "      <td>1</td>\n",
       "      <td>2.27</td>\n",
       "      <td>Uber</td>\n",
       "      <td>1.543400e+12</td>\n",
       "      <td>Boston University</td>\n",
       "      <td>Beacon Hill</td>\n",
       "      <td>1.0</td>\n",
       "      <td>f9e7e7e6-b309-479b-9f90-bf26a1870c81</td>\n",
       "      <td>997acbb5-e102-41e1-b155-9df7de0a73f2</td>\n",
       "      <td>UberPool</td>\n",
       "      <td>8.0</td>\n",
       "      <td>2018-11-28</td>\n",
       "    </tr>\n",
       "    <tr>\n",
       "      <td>2</td>\n",
       "      <td>2.00</td>\n",
       "      <td>Lyft</td>\n",
       "      <td>1.544920e+12</td>\n",
       "      <td>Back Bay</td>\n",
       "      <td>Haymarket Square</td>\n",
       "      <td>1.0</td>\n",
       "      <td>154e8438-46f5-4e5f-9872-15cc95e85eed</td>\n",
       "      <td>lyft</td>\n",
       "      <td>Lyft</td>\n",
       "      <td>10.5</td>\n",
       "      <td>2018-12-16</td>\n",
       "    </tr>\n",
       "    <tr>\n",
       "      <td>3</td>\n",
       "      <td>3.98</td>\n",
       "      <td>Lyft</td>\n",
       "      <td>1.543620e+12</td>\n",
       "      <td>Financial District</td>\n",
       "      <td>Northeastern University</td>\n",
       "      <td>1.0</td>\n",
       "      <td>6bdc30a6-9a80-487b-914e-8d9b82ee4acb</td>\n",
       "      <td>lyft_plus</td>\n",
       "      <td>Lyft XL</td>\n",
       "      <td>22.5</td>\n",
       "      <td>2018-11-30</td>\n",
       "    </tr>\n",
       "    <tr>\n",
       "      <td>4</td>\n",
       "      <td>1.49</td>\n",
       "      <td>Lyft</td>\n",
       "      <td>1.543580e+12</td>\n",
       "      <td>Back Bay</td>\n",
       "      <td>Northeastern University</td>\n",
       "      <td>1.0</td>\n",
       "      <td>0cb12fe9-cd72-4feb-b341-4a566b2e6643</td>\n",
       "      <td>lyft</td>\n",
       "      <td>Lyft</td>\n",
       "      <td>7.0</td>\n",
       "      <td>2018-11-30</td>\n",
       "    </tr>\n",
       "  </tbody>\n",
       "</table>\n",
       "</div>"
      ],
      "text/plain": [
       "   distance cab_type    time_stamp         destination  \\\n",
       "0      0.62     Uber  1.544770e+12            West End   \n",
       "1      2.27     Uber  1.543400e+12   Boston University   \n",
       "2      2.00     Lyft  1.544920e+12            Back Bay   \n",
       "3      3.98     Lyft  1.543620e+12  Financial District   \n",
       "4      1.49     Lyft  1.543580e+12            Back Bay   \n",
       "\n",
       "                    source  surge_multiplier  \\\n",
       "0         Haymarket Square               1.0   \n",
       "1              Beacon Hill               1.0   \n",
       "2         Haymarket Square               1.0   \n",
       "3  Northeastern University               1.0   \n",
       "4  Northeastern University               1.0   \n",
       "\n",
       "                                     id                            product_id  \\\n",
       "0  c1b4a572-24b2-484d-aac5-b4f97b790480  8cf7e821-f0d3-49c6-8eba-e679c0ebcf6a   \n",
       "1  f9e7e7e6-b309-479b-9f90-bf26a1870c81  997acbb5-e102-41e1-b155-9df7de0a73f2   \n",
       "2  154e8438-46f5-4e5f-9872-15cc95e85eed                                  lyft   \n",
       "3  6bdc30a6-9a80-487b-914e-8d9b82ee4acb                             lyft_plus   \n",
       "4  0cb12fe9-cd72-4feb-b341-4a566b2e6643                                  lyft   \n",
       "\n",
       "       name  price        date  \n",
       "0      Taxi    NaN  2018-12-14  \n",
       "1  UberPool    8.0  2018-11-28  \n",
       "2      Lyft   10.5  2018-12-16  \n",
       "3   Lyft XL   22.5  2018-11-30  \n",
       "4      Lyft    7.0  2018-11-30  "
      ]
     },
     "execution_count": 106,
     "metadata": {},
     "output_type": "execute_result"
    }
   ],
   "source": [
    "taxiRides.head()"
   ]
  },
  {
   "cell_type": "code",
   "execution_count": 107,
   "metadata": {
    "scrolled": false
   },
   "outputs": [
    {
     "data": {
      "text/html": [
       "<div>\n",
       "<style scoped>\n",
       "    .dataframe tbody tr th:only-of-type {\n",
       "        vertical-align: middle;\n",
       "    }\n",
       "\n",
       "    .dataframe tbody tr th {\n",
       "        vertical-align: top;\n",
       "    }\n",
       "\n",
       "    .dataframe thead th {\n",
       "        text-align: right;\n",
       "    }\n",
       "</style>\n",
       "<table border=\"1\" class=\"dataframe\">\n",
       "  <thead>\n",
       "    <tr style=\"text-align: right;\">\n",
       "      <th></th>\n",
       "      <th>temp</th>\n",
       "      <th>location</th>\n",
       "      <th>clouds</th>\n",
       "      <th>pressure</th>\n",
       "      <th>rain</th>\n",
       "      <th>time_stamp</th>\n",
       "      <th>humidity</th>\n",
       "      <th>wind</th>\n",
       "      <th>date</th>\n",
       "    </tr>\n",
       "  </thead>\n",
       "  <tbody>\n",
       "    <tr>\n",
       "      <td>0</td>\n",
       "      <td>42.42</td>\n",
       "      <td>Back Bay</td>\n",
       "      <td>1.0</td>\n",
       "      <td>1012.14</td>\n",
       "      <td>0.1228</td>\n",
       "      <td>1545003901</td>\n",
       "      <td>0.77</td>\n",
       "      <td>11.25</td>\n",
       "      <td>2018-12-16</td>\n",
       "    </tr>\n",
       "    <tr>\n",
       "      <td>1</td>\n",
       "      <td>42.43</td>\n",
       "      <td>Beacon Hill</td>\n",
       "      <td>1.0</td>\n",
       "      <td>1012.15</td>\n",
       "      <td>0.1846</td>\n",
       "      <td>1545003901</td>\n",
       "      <td>0.76</td>\n",
       "      <td>11.32</td>\n",
       "      <td>2018-12-16</td>\n",
       "    </tr>\n",
       "    <tr>\n",
       "      <td>2</td>\n",
       "      <td>42.50</td>\n",
       "      <td>Boston University</td>\n",
       "      <td>1.0</td>\n",
       "      <td>1012.15</td>\n",
       "      <td>0.1089</td>\n",
       "      <td>1545003901</td>\n",
       "      <td>0.76</td>\n",
       "      <td>11.07</td>\n",
       "      <td>2018-12-16</td>\n",
       "    </tr>\n",
       "    <tr>\n",
       "      <td>3</td>\n",
       "      <td>42.11</td>\n",
       "      <td>Fenway</td>\n",
       "      <td>1.0</td>\n",
       "      <td>1012.13</td>\n",
       "      <td>0.0969</td>\n",
       "      <td>1545003901</td>\n",
       "      <td>0.77</td>\n",
       "      <td>11.09</td>\n",
       "      <td>2018-12-16</td>\n",
       "    </tr>\n",
       "    <tr>\n",
       "      <td>4</td>\n",
       "      <td>43.13</td>\n",
       "      <td>Financial District</td>\n",
       "      <td>1.0</td>\n",
       "      <td>1012.14</td>\n",
       "      <td>0.1786</td>\n",
       "      <td>1545003901</td>\n",
       "      <td>0.75</td>\n",
       "      <td>11.49</td>\n",
       "      <td>2018-12-16</td>\n",
       "    </tr>\n",
       "  </tbody>\n",
       "</table>\n",
       "</div>"
      ],
      "text/plain": [
       "    temp            location  clouds  pressure    rain  time_stamp  humidity  \\\n",
       "0  42.42            Back Bay     1.0   1012.14  0.1228  1545003901      0.77   \n",
       "1  42.43         Beacon Hill     1.0   1012.15  0.1846  1545003901      0.76   \n",
       "2  42.50   Boston University     1.0   1012.15  0.1089  1545003901      0.76   \n",
       "3  42.11              Fenway     1.0   1012.13  0.0969  1545003901      0.77   \n",
       "4  43.13  Financial District     1.0   1012.14  0.1786  1545003901      0.75   \n",
       "\n",
       "    wind        date  \n",
       "0  11.25  2018-12-16  \n",
       "1  11.32  2018-12-16  \n",
       "2  11.07  2018-12-16  \n",
       "3  11.09  2018-12-16  \n",
       "4  11.49  2018-12-16  "
      ]
     },
     "execution_count": 107,
     "metadata": {},
     "output_type": "execute_result"
    }
   ],
   "source": [
    "weather.head()"
   ]
  },
  {
   "cell_type": "code",
   "execution_count": 108,
   "metadata": {},
   "outputs": [],
   "source": [
    "taxiRides.drop(['time_stamp'],axis = 1, inplace = True)\n",
    "weather.drop(['time_stamp'],axis = 1, inplace = True)"
   ]
  },
  {
   "cell_type": "markdown",
   "metadata": {},
   "source": [
    "## Joining Dataframes based on date"
   ]
  },
  {
   "cell_type": "code",
   "execution_count": 109,
   "metadata": {},
   "outputs": [],
   "source": [
    "mergedData = pd.merge(taxiRides,weather.drop_duplicates(subset=['date', 'location']), how = 'left', left_on=['date', 'source'], right_on=['date', 'location'])"
   ]
  },
  {
   "cell_type": "code",
   "execution_count": 110,
   "metadata": {
    "scrolled": true
   },
   "outputs": [
    {
     "data": {
      "text/html": [
       "<div>\n",
       "<style scoped>\n",
       "    .dataframe tbody tr th:only-of-type {\n",
       "        vertical-align: middle;\n",
       "    }\n",
       "\n",
       "    .dataframe tbody tr th {\n",
       "        vertical-align: top;\n",
       "    }\n",
       "\n",
       "    .dataframe thead th {\n",
       "        text-align: right;\n",
       "    }\n",
       "</style>\n",
       "<table border=\"1\" class=\"dataframe\">\n",
       "  <thead>\n",
       "    <tr style=\"text-align: right;\">\n",
       "      <th></th>\n",
       "      <th>distance</th>\n",
       "      <th>cab_type</th>\n",
       "      <th>destination</th>\n",
       "      <th>source</th>\n",
       "      <th>surge_multiplier</th>\n",
       "      <th>id</th>\n",
       "      <th>product_id</th>\n",
       "      <th>name</th>\n",
       "      <th>price</th>\n",
       "      <th>date</th>\n",
       "      <th>temp</th>\n",
       "      <th>location</th>\n",
       "      <th>clouds</th>\n",
       "      <th>pressure</th>\n",
       "      <th>rain</th>\n",
       "      <th>humidity</th>\n",
       "      <th>wind</th>\n",
       "    </tr>\n",
       "  </thead>\n",
       "  <tbody>\n",
       "    <tr>\n",
       "      <td>0</td>\n",
       "      <td>0.62</td>\n",
       "      <td>Uber</td>\n",
       "      <td>West End</td>\n",
       "      <td>Haymarket Square</td>\n",
       "      <td>1.0</td>\n",
       "      <td>c1b4a572-24b2-484d-aac5-b4f97b790480</td>\n",
       "      <td>8cf7e821-f0d3-49c6-8eba-e679c0ebcf6a</td>\n",
       "      <td>Taxi</td>\n",
       "      <td>NaN</td>\n",
       "      <td>2018-12-14</td>\n",
       "      <td>27.34</td>\n",
       "      <td>Haymarket Square</td>\n",
       "      <td>0.15</td>\n",
       "      <td>1033.40</td>\n",
       "      <td>NaN</td>\n",
       "      <td>0.81</td>\n",
       "      <td>3.04</td>\n",
       "    </tr>\n",
       "    <tr>\n",
       "      <td>1</td>\n",
       "      <td>2.27</td>\n",
       "      <td>Uber</td>\n",
       "      <td>Boston University</td>\n",
       "      <td>Beacon Hill</td>\n",
       "      <td>1.0</td>\n",
       "      <td>f9e7e7e6-b309-479b-9f90-bf26a1870c81</td>\n",
       "      <td>997acbb5-e102-41e1-b155-9df7de0a73f2</td>\n",
       "      <td>UberPool</td>\n",
       "      <td>8.0</td>\n",
       "      <td>2018-11-28</td>\n",
       "      <td>33.67</td>\n",
       "      <td>Beacon Hill</td>\n",
       "      <td>0.12</td>\n",
       "      <td>991.20</td>\n",
       "      <td>NaN</td>\n",
       "      <td>0.82</td>\n",
       "      <td>5.37</td>\n",
       "    </tr>\n",
       "    <tr>\n",
       "      <td>2</td>\n",
       "      <td>2.00</td>\n",
       "      <td>Lyft</td>\n",
       "      <td>Back Bay</td>\n",
       "      <td>Haymarket Square</td>\n",
       "      <td>1.0</td>\n",
       "      <td>154e8438-46f5-4e5f-9872-15cc95e85eed</td>\n",
       "      <td>lyft</td>\n",
       "      <td>Lyft</td>\n",
       "      <td>10.5</td>\n",
       "      <td>2018-12-16</td>\n",
       "      <td>42.34</td>\n",
       "      <td>Haymarket Square</td>\n",
       "      <td>1.00</td>\n",
       "      <td>1012.15</td>\n",
       "      <td>0.2068</td>\n",
       "      <td>0.77</td>\n",
       "      <td>11.49</td>\n",
       "    </tr>\n",
       "    <tr>\n",
       "      <td>3</td>\n",
       "      <td>3.98</td>\n",
       "      <td>Lyft</td>\n",
       "      <td>Financial District</td>\n",
       "      <td>Northeastern University</td>\n",
       "      <td>1.0</td>\n",
       "      <td>6bdc30a6-9a80-487b-914e-8d9b82ee4acb</td>\n",
       "      <td>lyft_plus</td>\n",
       "      <td>Lyft XL</td>\n",
       "      <td>22.5</td>\n",
       "      <td>2018-11-30</td>\n",
       "      <td>38.46</td>\n",
       "      <td>Northeastern University</td>\n",
       "      <td>0.96</td>\n",
       "      <td>1017.24</td>\n",
       "      <td>NaN</td>\n",
       "      <td>0.66</td>\n",
       "      <td>3.31</td>\n",
       "    </tr>\n",
       "    <tr>\n",
       "      <td>4</td>\n",
       "      <td>1.49</td>\n",
       "      <td>Lyft</td>\n",
       "      <td>Back Bay</td>\n",
       "      <td>Northeastern University</td>\n",
       "      <td>1.0</td>\n",
       "      <td>0cb12fe9-cd72-4feb-b341-4a566b2e6643</td>\n",
       "      <td>lyft</td>\n",
       "      <td>Lyft</td>\n",
       "      <td>7.0</td>\n",
       "      <td>2018-11-30</td>\n",
       "      <td>38.46</td>\n",
       "      <td>Northeastern University</td>\n",
       "      <td>0.96</td>\n",
       "      <td>1017.24</td>\n",
       "      <td>NaN</td>\n",
       "      <td>0.66</td>\n",
       "      <td>3.31</td>\n",
       "    </tr>\n",
       "  </tbody>\n",
       "</table>\n",
       "</div>"
      ],
      "text/plain": [
       "   distance cab_type         destination                   source  \\\n",
       "0      0.62     Uber            West End         Haymarket Square   \n",
       "1      2.27     Uber   Boston University              Beacon Hill   \n",
       "2      2.00     Lyft            Back Bay         Haymarket Square   \n",
       "3      3.98     Lyft  Financial District  Northeastern University   \n",
       "4      1.49     Lyft            Back Bay  Northeastern University   \n",
       "\n",
       "   surge_multiplier                                    id  \\\n",
       "0               1.0  c1b4a572-24b2-484d-aac5-b4f97b790480   \n",
       "1               1.0  f9e7e7e6-b309-479b-9f90-bf26a1870c81   \n",
       "2               1.0  154e8438-46f5-4e5f-9872-15cc95e85eed   \n",
       "3               1.0  6bdc30a6-9a80-487b-914e-8d9b82ee4acb   \n",
       "4               1.0  0cb12fe9-cd72-4feb-b341-4a566b2e6643   \n",
       "\n",
       "                             product_id      name  price        date   temp  \\\n",
       "0  8cf7e821-f0d3-49c6-8eba-e679c0ebcf6a      Taxi    NaN  2018-12-14  27.34   \n",
       "1  997acbb5-e102-41e1-b155-9df7de0a73f2  UberPool    8.0  2018-11-28  33.67   \n",
       "2                                  lyft      Lyft   10.5  2018-12-16  42.34   \n",
       "3                             lyft_plus   Lyft XL   22.5  2018-11-30  38.46   \n",
       "4                                  lyft      Lyft    7.0  2018-11-30  38.46   \n",
       "\n",
       "                  location  clouds  pressure    rain  humidity   wind  \n",
       "0         Haymarket Square    0.15   1033.40     NaN      0.81   3.04  \n",
       "1              Beacon Hill    0.12    991.20     NaN      0.82   5.37  \n",
       "2         Haymarket Square    1.00   1012.15  0.2068      0.77  11.49  \n",
       "3  Northeastern University    0.96   1017.24     NaN      0.66   3.31  \n",
       "4  Northeastern University    0.96   1017.24     NaN      0.66   3.31  "
      ]
     },
     "execution_count": 110,
     "metadata": {},
     "output_type": "execute_result"
    }
   ],
   "source": [
    "mergedData.head()"
   ]
  },
  {
   "cell_type": "markdown",
   "metadata": {},
   "source": [
    "## Rain Feature"
   ]
  },
  {
   "cell_type": "code",
   "execution_count": 111,
   "metadata": {},
   "outputs": [
    {
     "data": {
      "text/plain": [
       "<matplotlib.axes._subplots.AxesSubplot at 0x1ba00131b88>"
      ]
     },
     "execution_count": 111,
     "metadata": {},
     "output_type": "execute_result"
    },
    {
     "data": {
      "image/png": "[encoded data removed]",
      "text/plain": [
       "<Figure size 432x288 with 1 Axes>"
      ]
     },
     "metadata": {
      "needs_background": "light"
     },
     "output_type": "display_data"
    }
   ],
   "source": [
    "weather['rain'].hist()"
   ]
  },
  {
   "cell_type": "code",
   "execution_count": 112,
   "metadata": {},
   "outputs": [
    {
     "data": {
      "text/html": [
       "<div>\n",
       "<style scoped>\n",
       "    .dataframe tbody tr th:only-of-type {\n",
       "        vertical-align: middle;\n",
       "    }\n",
       "\n",
       "    .dataframe tbody tr th {\n",
       "        vertical-align: top;\n",
       "    }\n",
       "\n",
       "    .dataframe thead th {\n",
       "        text-align: right;\n",
       "    }\n",
       "</style>\n",
       "<table border=\"1\" class=\"dataframe\">\n",
       "  <thead>\n",
       "    <tr style=\"text-align: right;\">\n",
       "      <th></th>\n",
       "      <th>temp</th>\n",
       "      <th>location</th>\n",
       "      <th>clouds</th>\n",
       "      <th>pressure</th>\n",
       "      <th>rain</th>\n",
       "      <th>humidity</th>\n",
       "      <th>wind</th>\n",
       "      <th>date</th>\n",
       "    </tr>\n",
       "  </thead>\n",
       "  <tbody>\n",
       "    <tr>\n",
       "      <td>11</td>\n",
       "      <td>43.28</td>\n",
       "      <td>Back Bay</td>\n",
       "      <td>0.81</td>\n",
       "      <td>990.81</td>\n",
       "      <td>NaN</td>\n",
       "      <td>0.71</td>\n",
       "      <td>8.30</td>\n",
       "      <td>2018-11-27</td>\n",
       "    </tr>\n",
       "    <tr>\n",
       "      <td>12</td>\n",
       "      <td>43.27</td>\n",
       "      <td>Beacon Hill</td>\n",
       "      <td>0.80</td>\n",
       "      <td>990.80</td>\n",
       "      <td>NaN</td>\n",
       "      <td>0.71</td>\n",
       "      <td>8.30</td>\n",
       "      <td>2018-11-27</td>\n",
       "    </tr>\n",
       "    <tr>\n",
       "      <td>13</td>\n",
       "      <td>43.35</td>\n",
       "      <td>Boston University</td>\n",
       "      <td>0.82</td>\n",
       "      <td>990.82</td>\n",
       "      <td>NaN</td>\n",
       "      <td>0.71</td>\n",
       "      <td>8.24</td>\n",
       "      <td>2018-11-27</td>\n",
       "    </tr>\n",
       "    <tr>\n",
       "      <td>14</td>\n",
       "      <td>43.07</td>\n",
       "      <td>Fenway</td>\n",
       "      <td>0.82</td>\n",
       "      <td>990.82</td>\n",
       "      <td>NaN</td>\n",
       "      <td>0.72</td>\n",
       "      <td>8.28</td>\n",
       "      <td>2018-11-27</td>\n",
       "    </tr>\n",
       "    <tr>\n",
       "      <td>15</td>\n",
       "      <td>43.35</td>\n",
       "      <td>Financial District</td>\n",
       "      <td>0.80</td>\n",
       "      <td>990.80</td>\n",
       "      <td>NaN</td>\n",
       "      <td>0.71</td>\n",
       "      <td>8.35</td>\n",
       "      <td>2018-11-27</td>\n",
       "    </tr>\n",
       "    <tr>\n",
       "      <td>...</td>\n",
       "      <td>...</td>\n",
       "      <td>...</td>\n",
       "      <td>...</td>\n",
       "      <td>...</td>\n",
       "      <td>...</td>\n",
       "      <td>...</td>\n",
       "      <td>...</td>\n",
       "      <td>...</td>\n",
       "    </tr>\n",
       "    <tr>\n",
       "      <td>6271</td>\n",
       "      <td>44.72</td>\n",
       "      <td>North Station</td>\n",
       "      <td>0.89</td>\n",
       "      <td>1000.69</td>\n",
       "      <td>NaN</td>\n",
       "      <td>0.96</td>\n",
       "      <td>1.52</td>\n",
       "      <td>2018-12-03</td>\n",
       "    </tr>\n",
       "    <tr>\n",
       "      <td>6272</td>\n",
       "      <td>44.85</td>\n",
       "      <td>Northeastern University</td>\n",
       "      <td>0.88</td>\n",
       "      <td>1000.71</td>\n",
       "      <td>NaN</td>\n",
       "      <td>0.96</td>\n",
       "      <td>1.54</td>\n",
       "      <td>2018-12-03</td>\n",
       "    </tr>\n",
       "    <tr>\n",
       "      <td>6273</td>\n",
       "      <td>44.82</td>\n",
       "      <td>South Station</td>\n",
       "      <td>0.89</td>\n",
       "      <td>1000.70</td>\n",
       "      <td>NaN</td>\n",
       "      <td>0.96</td>\n",
       "      <td>1.54</td>\n",
       "      <td>2018-12-03</td>\n",
       "    </tr>\n",
       "    <tr>\n",
       "      <td>6274</td>\n",
       "      <td>44.78</td>\n",
       "      <td>Theatre District</td>\n",
       "      <td>0.89</td>\n",
       "      <td>1000.70</td>\n",
       "      <td>NaN</td>\n",
       "      <td>0.96</td>\n",
       "      <td>1.54</td>\n",
       "      <td>2018-12-03</td>\n",
       "    </tr>\n",
       "    <tr>\n",
       "      <td>6275</td>\n",
       "      <td>44.69</td>\n",
       "      <td>West End</td>\n",
       "      <td>0.89</td>\n",
       "      <td>1000.70</td>\n",
       "      <td>NaN</td>\n",
       "      <td>0.96</td>\n",
       "      <td>1.52</td>\n",
       "      <td>2018-12-03</td>\n",
       "    </tr>\n",
       "  </tbody>\n",
       "</table>\n",
       "<p>5382 rows × 8 columns</p>\n",
       "</div>"
      ],
      "text/plain": [
       "       temp                 location  clouds  pressure  rain  humidity  wind  \\\n",
       "11    43.28                 Back Bay    0.81    990.81   NaN      0.71  8.30   \n",
       "12    43.27              Beacon Hill    0.80    990.80   NaN      0.71  8.30   \n",
       "13    43.35        Boston University    0.82    990.82   NaN      0.71  8.24   \n",
       "14    43.07                   Fenway    0.82    990.82   NaN      0.72  8.28   \n",
       "15    43.35       Financial District    0.80    990.80   NaN      0.71  8.35   \n",
       "...     ...                      ...     ...       ...   ...       ...   ...   \n",
       "6271  44.72            North Station    0.89   1000.69   NaN      0.96  1.52   \n",
       "6272  44.85  Northeastern University    0.88   1000.71   NaN      0.96  1.54   \n",
       "6273  44.82            South Station    0.89   1000.70   NaN      0.96  1.54   \n",
       "6274  44.78         Theatre District    0.89   1000.70   NaN      0.96  1.54   \n",
       "6275  44.69                 West End    0.89   1000.70   NaN      0.96  1.52   \n",
       "\n",
       "            date  \n",
       "11    2018-11-27  \n",
       "12    2018-11-27  \n",
       "13    2018-11-27  \n",
       "14    2018-11-27  \n",
       "15    2018-11-27  \n",
       "...          ...  \n",
       "6271  2018-12-03  \n",
       "6272  2018-12-03  \n",
       "6273  2018-12-03  \n",
       "6274  2018-12-03  \n",
       "6275  2018-12-03  \n",
       "\n",
       "[5382 rows x 8 columns]"
      ]
     },
     "execution_count": 112,
     "metadata": {},
     "output_type": "execute_result"
    }
   ],
   "source": [
    "weather[weather['rain'].isnull()]"
   ]
  },
  {
   "cell_type": "code",
   "execution_count": 113,
   "metadata": {},
   "outputs": [
    {
     "data": {
      "text/html": [
       "<div>\n",
       "<style scoped>\n",
       "    .dataframe tbody tr th:only-of-type {\n",
       "        vertical-align: middle;\n",
       "    }\n",
       "\n",
       "    .dataframe tbody tr th {\n",
       "        vertical-align: top;\n",
       "    }\n",
       "\n",
       "    .dataframe thead th {\n",
       "        text-align: right;\n",
       "    }\n",
       "</style>\n",
       "<table border=\"1\" class=\"dataframe\">\n",
       "  <thead>\n",
       "    <tr style=\"text-align: right;\">\n",
       "      <th></th>\n",
       "      <th>temp</th>\n",
       "      <th>location</th>\n",
       "      <th>clouds</th>\n",
       "      <th>pressure</th>\n",
       "      <th>rain</th>\n",
       "      <th>humidity</th>\n",
       "      <th>wind</th>\n",
       "      <th>date</th>\n",
       "    </tr>\n",
       "  </thead>\n",
       "  <tbody>\n",
       "    <tr>\n",
       "      <td>0</td>\n",
       "      <td>42.42</td>\n",
       "      <td>Back Bay</td>\n",
       "      <td>1.0</td>\n",
       "      <td>1012.14</td>\n",
       "      <td>0.1228</td>\n",
       "      <td>0.77</td>\n",
       "      <td>11.25</td>\n",
       "      <td>2018-12-16</td>\n",
       "    </tr>\n",
       "    <tr>\n",
       "      <td>1</td>\n",
       "      <td>42.43</td>\n",
       "      <td>Beacon Hill</td>\n",
       "      <td>1.0</td>\n",
       "      <td>1012.15</td>\n",
       "      <td>0.1846</td>\n",
       "      <td>0.76</td>\n",
       "      <td>11.32</td>\n",
       "      <td>2018-12-16</td>\n",
       "    </tr>\n",
       "    <tr>\n",
       "      <td>2</td>\n",
       "      <td>42.50</td>\n",
       "      <td>Boston University</td>\n",
       "      <td>1.0</td>\n",
       "      <td>1012.15</td>\n",
       "      <td>0.1089</td>\n",
       "      <td>0.76</td>\n",
       "      <td>11.07</td>\n",
       "      <td>2018-12-16</td>\n",
       "    </tr>\n",
       "    <tr>\n",
       "      <td>3</td>\n",
       "      <td>42.11</td>\n",
       "      <td>Fenway</td>\n",
       "      <td>1.0</td>\n",
       "      <td>1012.13</td>\n",
       "      <td>0.0969</td>\n",
       "      <td>0.77</td>\n",
       "      <td>11.09</td>\n",
       "      <td>2018-12-16</td>\n",
       "    </tr>\n",
       "    <tr>\n",
       "      <td>4</td>\n",
       "      <td>43.13</td>\n",
       "      <td>Financial District</td>\n",
       "      <td>1.0</td>\n",
       "      <td>1012.14</td>\n",
       "      <td>0.1786</td>\n",
       "      <td>0.75</td>\n",
       "      <td>11.49</td>\n",
       "      <td>2018-12-16</td>\n",
       "    </tr>\n",
       "    <tr>\n",
       "      <td>...</td>\n",
       "      <td>...</td>\n",
       "      <td>...</td>\n",
       "      <td>...</td>\n",
       "      <td>...</td>\n",
       "      <td>...</td>\n",
       "      <td>...</td>\n",
       "      <td>...</td>\n",
       "      <td>...</td>\n",
       "    </tr>\n",
       "    <tr>\n",
       "      <td>6258</td>\n",
       "      <td>39.51</td>\n",
       "      <td>North Station</td>\n",
       "      <td>1.0</td>\n",
       "      <td>1018.09</td>\n",
       "      <td>0.0280</td>\n",
       "      <td>0.92</td>\n",
       "      <td>5.41</td>\n",
       "      <td>2018-12-02</td>\n",
       "    </tr>\n",
       "    <tr>\n",
       "      <td>6259</td>\n",
       "      <td>39.41</td>\n",
       "      <td>Northeastern University</td>\n",
       "      <td>1.0</td>\n",
       "      <td>1018.06</td>\n",
       "      <td>0.0331</td>\n",
       "      <td>0.92</td>\n",
       "      <td>5.37</td>\n",
       "      <td>2018-12-02</td>\n",
       "    </tr>\n",
       "    <tr>\n",
       "      <td>6260</td>\n",
       "      <td>39.62</td>\n",
       "      <td>South Station</td>\n",
       "      <td>1.0</td>\n",
       "      <td>1018.08</td>\n",
       "      <td>0.0376</td>\n",
       "      <td>0.92</td>\n",
       "      <td>5.47</td>\n",
       "      <td>2018-12-02</td>\n",
       "    </tr>\n",
       "    <tr>\n",
       "      <td>6261</td>\n",
       "      <td>39.47</td>\n",
       "      <td>Theatre District</td>\n",
       "      <td>1.0</td>\n",
       "      <td>1018.08</td>\n",
       "      <td>0.0333</td>\n",
       "      <td>0.92</td>\n",
       "      <td>5.43</td>\n",
       "      <td>2018-12-02</td>\n",
       "    </tr>\n",
       "    <tr>\n",
       "      <td>6262</td>\n",
       "      <td>39.46</td>\n",
       "      <td>West End</td>\n",
       "      <td>1.0</td>\n",
       "      <td>1018.09</td>\n",
       "      <td>0.0281</td>\n",
       "      <td>0.92</td>\n",
       "      <td>5.41</td>\n",
       "      <td>2018-12-02</td>\n",
       "    </tr>\n",
       "  </tbody>\n",
       "</table>\n",
       "<p>894 rows × 8 columns</p>\n",
       "</div>"
      ],
      "text/plain": [
       "       temp                 location  clouds  pressure    rain  humidity  \\\n",
       "0     42.42                 Back Bay     1.0   1012.14  0.1228      0.77   \n",
       "1     42.43              Beacon Hill     1.0   1012.15  0.1846      0.76   \n",
       "2     42.50        Boston University     1.0   1012.15  0.1089      0.76   \n",
       "3     42.11                   Fenway     1.0   1012.13  0.0969      0.77   \n",
       "4     43.13       Financial District     1.0   1012.14  0.1786      0.75   \n",
       "...     ...                      ...     ...       ...     ...       ...   \n",
       "6258  39.51            North Station     1.0   1018.09  0.0280      0.92   \n",
       "6259  39.41  Northeastern University     1.0   1018.06  0.0331      0.92   \n",
       "6260  39.62            South Station     1.0   1018.08  0.0376      0.92   \n",
       "6261  39.47         Theatre District     1.0   1018.08  0.0333      0.92   \n",
       "6262  39.46                 West End     1.0   1018.09  0.0281      0.92   \n",
       "\n",
       "       wind        date  \n",
       "0     11.25  2018-12-16  \n",
       "1     11.32  2018-12-16  \n",
       "2     11.07  2018-12-16  \n",
       "3     11.09  2018-12-16  \n",
       "4     11.49  2018-12-16  \n",
       "...     ...         ...  \n",
       "6258   5.41  2018-12-02  \n",
       "6259   5.37  2018-12-02  \n",
       "6260   5.47  2018-12-02  \n",
       "6261   5.43  2018-12-02  \n",
       "6262   5.41  2018-12-02  \n",
       "\n",
       "[894 rows x 8 columns]"
      ]
     },
     "execution_count": 113,
     "metadata": {},
     "output_type": "execute_result"
    }
   ],
   "source": [
    "weather[weather['rain'].notna()]"
   ]
  },
  {
   "cell_type": "code",
   "execution_count": 114,
   "metadata": {
    "scrolled": true
   },
   "outputs": [
    {
     "data": {
      "text/plain": [
       "0.0030    85\n",
       "0.0020    51\n",
       "0.0040    23\n",
       "0.0060    17\n",
       "0.0050    15\n",
       "          ..\n",
       "0.1370     1\n",
       "0.0664     1\n",
       "0.7222     1\n",
       "0.0223     1\n",
       "0.1561     1\n",
       "Name: rain, Length: 437, dtype: int64"
      ]
     },
     "execution_count": 114,
     "metadata": {},
     "output_type": "execute_result"
    }
   ],
   "source": [
    "weather['rain'].value_counts()"
   ]
  },
  {
   "cell_type": "markdown",
   "metadata": {},
   "source": [
    "Rain feature nulls could indicate no rain"
   ]
  },
  {
   "cell_type": "code",
   "execution_count": 115,
   "metadata": {},
   "outputs": [
    {
     "data": {
      "text/plain": [
       "(554456, 17)"
      ]
     },
     "execution_count": 115,
     "metadata": {},
     "output_type": "execute_result"
    }
   ],
   "source": [
    "mergedData.shape"
   ]
  },
  {
   "cell_type": "code",
   "execution_count": 116,
   "metadata": {},
   "outputs": [
    {
     "data": {
      "text/plain": [
       "distance                 0\n",
       "cab_type                 0\n",
       "destination              0\n",
       "source                   0\n",
       "surge_multiplier         0\n",
       "id                       0\n",
       "product_id               0\n",
       "name                     0\n",
       "price                44135\n",
       "date                     0\n",
       "temp                     0\n",
       "location                 0\n",
       "clouds                   0\n",
       "pressure                 0\n",
       "rain                480515\n",
       "humidity                 0\n",
       "wind                     0\n",
       "dtype: int64"
      ]
     },
     "execution_count": 116,
     "metadata": {},
     "output_type": "execute_result"
    }
   ],
   "source": [
    "mergedData.isnull().sum()"
   ]
  },
  {
   "cell_type": "code",
   "execution_count": 117,
   "metadata": {},
   "outputs": [
    {
     "ename": "TypeError",
     "evalue": "dropna() got multiple values for argument 'axis'",
     "output_type": "error",
     "traceback": [
      "\u001b[1;31m---------------------------------------------------------------------------\u001b[0m",
      "\u001b[1;31mTypeError\u001b[0m                                 Traceback (most recent call last)",
      "\u001b[1;32m<ipython-input-117-ee2464ed099f>\u001b[0m in \u001b[0;36m<module>\u001b[1;34m\u001b[0m\n\u001b[1;32m----> 1\u001b[1;33m \u001b[0mmergedData\u001b[0m\u001b[1;33m.\u001b[0m\u001b[0mdropna\u001b[0m\u001b[1;33m(\u001b[0m\u001b[1;34m'price'\u001b[0m\u001b[1;33m,\u001b[0m\u001b[0maxis\u001b[0m\u001b[1;33m=\u001b[0m\u001b[1;36m1\u001b[0m\u001b[1;33m)\u001b[0m\u001b[1;33m\u001b[0m\u001b[1;33m\u001b[0m\u001b[0m\n\u001b[0m",
      "\u001b[1;31mTypeError\u001b[0m: dropna() got multiple values for argument 'axis'"
     ]
    }
   ],
   "source": [
    "mergedData"
   ]
  },
  {
   "cell_type": "code",
   "execution_count": null,
   "metadata": {},
   "outputs": [],
   "source": []
  }
 ],
 "metadata": {
  "kernelspec": {
   "display_name": "Python 3",
   "language": "python",
   "name": "python3"
  },
  "language_info": {
   "codemirror_mode": {
    "name": "ipython",
    "version": 3
   },
   "file_extension": ".py",
   "mimetype": "text/x-python",
   "name": "python",
   "nbconvert_exporter": "python",
   "pygments_lexer": "ipython3",
   "version": "3.7.4"
  }
 },
 "nbformat": 4,
 "nbformat_minor": 2
}
