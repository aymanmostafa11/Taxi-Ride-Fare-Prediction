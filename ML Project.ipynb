{
  "cells": [
    {
      "cell_type": "code",
      "execution_count": 217,
      "source": [
        "import gdown\n",
        "gdown.download_folder('https://drive.google.com/drive/folders/1r9BARaPl-5odlOwCPE8LZJ1cFWRZGsYO?usp=sharing')"
      ],
      "outputs": [
        {
          "output_type": "stream",
          "name": "stderr",
          "text": [
            "Retrieving folder list\n"
          ]
        },
        {
          "output_type": "stream",
          "name": "stdout",
          "text": [
            "Processing file 1-4FN7s4gsL_1D8NeeZ3A4IHL5i9qB6X4 taxi-rides.csv\n",
            "Processing file 1-7QHmsGAhPpnwwi9BPhwzpRtTEONi0r6 weather.csv\n",
            "Building directory structure completed\n"
          ]
        },
        {
          "output_type": "stream",
          "name": "stderr",
          "text": [
            "Retrieving folder list completed\n",
            "Building directory structure\n",
            "Downloading...\n",
            "From: https://drive.google.com/uc?id=1-4FN7s4gsL_1D8NeeZ3A4IHL5i9qB6X4\n",
            "To: /content/taxi/taxi-rides.csv\n",
            "100%|██████████| 69.8M/69.8M [00:00<00:00, 210MB/s]\n",
            "Downloading...\n",
            "From: https://drive.google.com/uc?id=1-7QHmsGAhPpnwwi9BPhwzpRtTEONi0r6\n",
            "To: /content/taxi/weather.csv\n",
            "100%|██████████| 350k/350k [00:00<00:00, 51.4MB/s]\n",
            "Download completed\n"
          ]
        },
        {
          "output_type": "execute_result",
          "data": {
            "text/plain": [
              "['/content/taxi/taxi-rides.csv', '/content/taxi/weather.csv']"
            ]
          },
          "metadata": {},
          "execution_count": 217
        }
      ],
      "metadata": {
        "colab": {
          "base_uri": "https://localhost:8080/"
        },
        "id": "arWAAuiomMkG",
        "outputId": "47042e78-c3f9-4861-ea71-9c7589cf3f07"
      }
    },
    {
      "cell_type": "code",
      "execution_count": 218,
      "source": [
        "import numpy as np\n",
        "import pandas as pd\n",
        "import matplotlib.pyplot as plt\n",
        "import seaborn as sns\n",
        "from sklearn.preprocessing import LabelEncoder, PolynomialFeatures\n",
        "from sklearn import linear_model\n",
        "from sklearn import metrics\n",
        "from sklearn.model_selection import train_test_split"
      ],
      "outputs": [],
      "metadata": {
        "id": "0Z-TorJZgEvf"
      }
    },
    {
      "cell_type": "code",
      "execution_count": 219,
      "source": [
        "taxiRides = pd.read_csv('taxi/taxi-rides.csv')\n",
        "weather = pd.read_csv('taxi/weather.csv')"
      ],
      "outputs": [],
      "metadata": {
        "id": "JFAJcYPpgEv5"
      }
    },
    {
      "cell_type": "code",
      "execution_count": 220,
      "source": [
        "print(f\"Taxi Rides has {taxiRides.shape[0]} Rows and {taxiRides.shape[1]} Columns\")\n",
        "taxiRides.head()"
      ],
      "outputs": [
        {
          "output_type": "stream",
          "name": "stdout",
          "text": [
            "Taxi Rides has 554456 Rows and 10 Columns\n"
          ]
        },
        {
          "output_type": "execute_result",
          "data": {
            "text/plain": [
              "   distance cab_type    time_stamp         destination  \\\n",
              "0      0.62     Uber  1.544770e+12            West End   \n",
              "1      2.27     Uber  1.543400e+12   Boston University   \n",
              "2      2.00     Lyft  1.544920e+12            Back Bay   \n",
              "3      3.98     Lyft  1.543620e+12  Financial District   \n",
              "4      1.49     Lyft  1.543580e+12            Back Bay   \n",
              "\n",
              "                    source  surge_multiplier  \\\n",
              "0         Haymarket Square               1.0   \n",
              "1              Beacon Hill               1.0   \n",
              "2         Haymarket Square               1.0   \n",
              "3  Northeastern University               1.0   \n",
              "4  Northeastern University               1.0   \n",
              "\n",
              "                                     id                            product_id  \\\n",
              "0  c1b4a572-24b2-484d-aac5-b4f97b790480  8cf7e821-f0d3-49c6-8eba-e679c0ebcf6a   \n",
              "1  f9e7e7e6-b309-479b-9f90-bf26a1870c81  997acbb5-e102-41e1-b155-9df7de0a73f2   \n",
              "2  154e8438-46f5-4e5f-9872-15cc95e85eed                                  lyft   \n",
              "3  6bdc30a6-9a80-487b-914e-8d9b82ee4acb                             lyft_plus   \n",
              "4  0cb12fe9-cd72-4feb-b341-4a566b2e6643                                  lyft   \n",
              "\n",
              "       name  price  \n",
              "0      Taxi    NaN  \n",
              "1  UberPool    8.0  \n",
              "2      Lyft   10.5  \n",
              "3   Lyft XL   22.5  \n",
              "4      Lyft    7.0  "
            ],
            "text/html": [
              "\n",
              "  <div id=\"df-34d339bb-b1fe-4fc6-aa1f-89d8ba3d10de\">\n",
              "    <div class=\"colab-df-container\">\n",
              "      <div>\n",
              "<style scoped>\n",
              "    .dataframe tbody tr th:only-of-type {\n",
              "        vertical-align: middle;\n",
              "    }\n",
              "\n",
              "    .dataframe tbody tr th {\n",
              "        vertical-align: top;\n",
              "    }\n",
              "\n",
              "    .dataframe thead th {\n",
              "        text-align: right;\n",
              "    }\n",
              "</style>\n",
              "<table border=\"1\" class=\"dataframe\">\n",
              "  <thead>\n",
              "    <tr style=\"text-align: right;\">\n",
              "      <th></th>\n",
              "      <th>distance</th>\n",
              "      <th>cab_type</th>\n",
              "      <th>time_stamp</th>\n",
              "      <th>destination</th>\n",
              "      <th>source</th>\n",
              "      <th>surge_multiplier</th>\n",
              "      <th>id</th>\n",
              "      <th>product_id</th>\n",
              "      <th>name</th>\n",
              "      <th>price</th>\n",
              "    </tr>\n",
              "  </thead>\n",
              "  <tbody>\n",
              "    <tr>\n",
              "      <th>0</th>\n",
              "      <td>0.62</td>\n",
              "      <td>Uber</td>\n",
              "      <td>1.544770e+12</td>\n",
              "      <td>West End</td>\n",
              "      <td>Haymarket Square</td>\n",
              "      <td>1.0</td>\n",
              "      <td>c1b4a572-24b2-484d-aac5-b4f97b790480</td>\n",
              "      <td>8cf7e821-f0d3-49c6-8eba-e679c0ebcf6a</td>\n",
              "      <td>Taxi</td>\n",
              "      <td>NaN</td>\n",
              "    </tr>\n",
              "    <tr>\n",
              "      <th>1</th>\n",
              "      <td>2.27</td>\n",
              "      <td>Uber</td>\n",
              "      <td>1.543400e+12</td>\n",
              "      <td>Boston University</td>\n",
              "      <td>Beacon Hill</td>\n",
              "      <td>1.0</td>\n",
              "      <td>f9e7e7e6-b309-479b-9f90-bf26a1870c81</td>\n",
              "      <td>997acbb5-e102-41e1-b155-9df7de0a73f2</td>\n",
              "      <td>UberPool</td>\n",
              "      <td>8.0</td>\n",
              "    </tr>\n",
              "    <tr>\n",
              "      <th>2</th>\n",
              "      <td>2.00</td>\n",
              "      <td>Lyft</td>\n",
              "      <td>1.544920e+12</td>\n",
              "      <td>Back Bay</td>\n",
              "      <td>Haymarket Square</td>\n",
              "      <td>1.0</td>\n",
              "      <td>154e8438-46f5-4e5f-9872-15cc95e85eed</td>\n",
              "      <td>lyft</td>\n",
              "      <td>Lyft</td>\n",
              "      <td>10.5</td>\n",
              "    </tr>\n",
              "    <tr>\n",
              "      <th>3</th>\n",
              "      <td>3.98</td>\n",
              "      <td>Lyft</td>\n",
              "      <td>1.543620e+12</td>\n",
              "      <td>Financial District</td>\n",
              "      <td>Northeastern University</td>\n",
              "      <td>1.0</td>\n",
              "      <td>6bdc30a6-9a80-487b-914e-8d9b82ee4acb</td>\n",
              "      <td>lyft_plus</td>\n",
              "      <td>Lyft XL</td>\n",
              "      <td>22.5</td>\n",
              "    </tr>\n",
              "    <tr>\n",
              "      <th>4</th>\n",
              "      <td>1.49</td>\n",
              "      <td>Lyft</td>\n",
              "      <td>1.543580e+12</td>\n",
              "      <td>Back Bay</td>\n",
              "      <td>Northeastern University</td>\n",
              "      <td>1.0</td>\n",
              "      <td>0cb12fe9-cd72-4feb-b341-4a566b2e6643</td>\n",
              "      <td>lyft</td>\n",
              "      <td>Lyft</td>\n",
              "      <td>7.0</td>\n",
              "    </tr>\n",
              "  </tbody>\n",
              "</table>\n",
              "</div>\n",
              "      <button class=\"colab-df-convert\" onclick=\"convertToInteractive('df-34d339bb-b1fe-4fc6-aa1f-89d8ba3d10de')\"\n",
              "              title=\"Convert this dataframe to an interactive table.\"\n",
              "              style=\"display:none;\">\n",
              "        \n",
              "  <svg xmlns=\"http://www.w3.org/2000/svg\" height=\"24px\"viewBox=\"0 0 24 24\"\n",
              "       width=\"24px\">\n",
              "    <path d=\"M0 0h24v24H0V0z\" fill=\"none\"/>\n",
              "    <path d=\"M18.56 5.44l.94 2.06.94-2.06 2.06-.94-2.06-.94-.94-2.06-.94 2.06-2.06.94zm-11 1L8.5 8.5l.94-2.06 2.06-.94-2.06-.94L8.5 2.5l-.94 2.06-2.06.94zm10 10l.94 2.06.94-2.06 2.06-.94-2.06-.94-.94-2.06-.94 2.06-2.06.94z\"/><path d=\"M17.41 7.96l-1.37-1.37c-.4-.4-.92-.59-1.43-.59-.52 0-1.04.2-1.43.59L10.3 9.45l-7.72 7.72c-.78.78-.78 2.05 0 2.83L4 21.41c.39.39.9.59 1.41.59.51 0 1.02-.2 1.41-.59l7.78-7.78 2.81-2.81c.8-.78.8-2.07 0-2.86zM5.41 20L4 18.59l7.72-7.72 1.47 1.35L5.41 20z\"/>\n",
              "  </svg>\n",
              "      </button>\n",
              "      \n",
              "  <style>\n",
              "    .colab-df-container {\n",
              "      display:flex;\n",
              "      flex-wrap:wrap;\n",
              "      gap: 12px;\n",
              "    }\n",
              "\n",
              "    .colab-df-convert {\n",
              "      background-color: #E8F0FE;\n",
              "      border: none;\n",
              "      border-radius: 50%;\n",
              "      cursor: pointer;\n",
              "      display: none;\n",
              "      fill: #1967D2;\n",
              "      height: 32px;\n",
              "      padding: 0 0 0 0;\n",
              "      width: 32px;\n",
              "    }\n",
              "\n",
              "    .colab-df-convert:hover {\n",
              "      background-color: #E2EBFA;\n",
              "      box-shadow: 0px 1px 2px rgba(60, 64, 67, 0.3), 0px 1px 3px 1px rgba(60, 64, 67, 0.15);\n",
              "      fill: #174EA6;\n",
              "    }\n",
              "\n",
              "    [theme=dark] .colab-df-convert {\n",
              "      background-color: #3B4455;\n",
              "      fill: #D2E3FC;\n",
              "    }\n",
              "\n",
              "    [theme=dark] .colab-df-convert:hover {\n",
              "      background-color: #434B5C;\n",
              "      box-shadow: 0px 1px 3px 1px rgba(0, 0, 0, 0.15);\n",
              "      filter: drop-shadow(0px 1px 2px rgba(0, 0, 0, 0.3));\n",
              "      fill: #FFFFFF;\n",
              "    }\n",
              "  </style>\n",
              "\n",
              "      <script>\n",
              "        const buttonEl =\n",
              "          document.querySelector('#df-34d339bb-b1fe-4fc6-aa1f-89d8ba3d10de button.colab-df-convert');\n",
              "        buttonEl.style.display =\n",
              "          google.colab.kernel.accessAllowed ? 'block' : 'none';\n",
              "\n",
              "        async function convertToInteractive(key) {\n",
              "          const element = document.querySelector('#df-34d339bb-b1fe-4fc6-aa1f-89d8ba3d10de');\n",
              "          const dataTable =\n",
              "            await google.colab.kernel.invokeFunction('convertToInteractive',\n",
              "                                                     [key], {});\n",
              "          if (!dataTable) return;\n",
              "\n",
              "          const docLinkHtml = 'Like what you see? Visit the ' +\n",
              "            '<a target=\"_blank\" href=https://colab.research.google.com/notebooks/data_table.ipynb>data table notebook</a>'\n",
              "            + ' to learn more about interactive tables.';\n",
              "          element.innerHTML = '';\n",
              "          dataTable['output_type'] = 'display_data';\n",
              "          await google.colab.output.renderOutput(dataTable, element);\n",
              "          const docLink = document.createElement('div');\n",
              "          docLink.innerHTML = docLinkHtml;\n",
              "          element.appendChild(docLink);\n",
              "        }\n",
              "      </script>\n",
              "    </div>\n",
              "  </div>\n",
              "  "
            ]
          },
          "metadata": {},
          "execution_count": 220
        }
      ],
      "metadata": {
        "colab": {
          "base_uri": "https://localhost:8080/",
          "height": 354
        },
        "id": "3vvtqdwOgEv_",
        "outputId": "85c8ffc5-3af4-46fa-8955-bb3ce92f1ded"
      }
    },
    {
      "cell_type": "code",
      "execution_count": 221,
      "source": [
        "print(f\"Weather has {weather.shape[0]} Rows and {weather.shape[1]} Columns\")\n",
        "weather.head()"
      ],
      "outputs": [
        {
          "output_type": "stream",
          "name": "stdout",
          "text": [
            "Weather has 6276 Rows and 8 Columns\n"
          ]
        },
        {
          "output_type": "execute_result",
          "data": {
            "text/plain": [
              "    temp            location  clouds  pressure    rain  time_stamp  humidity  \\\n",
              "0  42.42            Back Bay     1.0   1012.14  0.1228  1545003901      0.77   \n",
              "1  42.43         Beacon Hill     1.0   1012.15  0.1846  1545003901      0.76   \n",
              "2  42.50   Boston University     1.0   1012.15  0.1089  1545003901      0.76   \n",
              "3  42.11              Fenway     1.0   1012.13  0.0969  1545003901      0.77   \n",
              "4  43.13  Financial District     1.0   1012.14  0.1786  1545003901      0.75   \n",
              "\n",
              "    wind  \n",
              "0  11.25  \n",
              "1  11.32  \n",
              "2  11.07  \n",
              "3  11.09  \n",
              "4  11.49  "
            ],
            "text/html": [
              "\n",
              "  <div id=\"df-5c2e3dcb-5ee0-413a-99cc-cedc17915969\">\n",
              "    <div class=\"colab-df-container\">\n",
              "      <div>\n",
              "<style scoped>\n",
              "    .dataframe tbody tr th:only-of-type {\n",
              "        vertical-align: middle;\n",
              "    }\n",
              "\n",
              "    .dataframe tbody tr th {\n",
              "        vertical-align: top;\n",
              "    }\n",
              "\n",
              "    .dataframe thead th {\n",
              "        text-align: right;\n",
              "    }\n",
              "</style>\n",
              "<table border=\"1\" class=\"dataframe\">\n",
              "  <thead>\n",
              "    <tr style=\"text-align: right;\">\n",
              "      <th></th>\n",
              "      <th>temp</th>\n",
              "      <th>location</th>\n",
              "      <th>clouds</th>\n",
              "      <th>pressure</th>\n",
              "      <th>rain</th>\n",
              "      <th>time_stamp</th>\n",
              "      <th>humidity</th>\n",
              "      <th>wind</th>\n",
              "    </tr>\n",
              "  </thead>\n",
              "  <tbody>\n",
              "    <tr>\n",
              "      <th>0</th>\n",
              "      <td>42.42</td>\n",
              "      <td>Back Bay</td>\n",
              "      <td>1.0</td>\n",
              "      <td>1012.14</td>\n",
              "      <td>0.1228</td>\n",
              "      <td>1545003901</td>\n",
              "      <td>0.77</td>\n",
              "      <td>11.25</td>\n",
              "    </tr>\n",
              "    <tr>\n",
              "      <th>1</th>\n",
              "      <td>42.43</td>\n",
              "      <td>Beacon Hill</td>\n",
              "      <td>1.0</td>\n",
              "      <td>1012.15</td>\n",
              "      <td>0.1846</td>\n",
              "      <td>1545003901</td>\n",
              "      <td>0.76</td>\n",
              "      <td>11.32</td>\n",
              "    </tr>\n",
              "    <tr>\n",
              "      <th>2</th>\n",
              "      <td>42.50</td>\n",
              "      <td>Boston University</td>\n",
              "      <td>1.0</td>\n",
              "      <td>1012.15</td>\n",
              "      <td>0.1089</td>\n",
              "      <td>1545003901</td>\n",
              "      <td>0.76</td>\n",
              "      <td>11.07</td>\n",
              "    </tr>\n",
              "    <tr>\n",
              "      <th>3</th>\n",
              "      <td>42.11</td>\n",
              "      <td>Fenway</td>\n",
              "      <td>1.0</td>\n",
              "      <td>1012.13</td>\n",
              "      <td>0.0969</td>\n",
              "      <td>1545003901</td>\n",
              "      <td>0.77</td>\n",
              "      <td>11.09</td>\n",
              "    </tr>\n",
              "    <tr>\n",
              "      <th>4</th>\n",
              "      <td>43.13</td>\n",
              "      <td>Financial District</td>\n",
              "      <td>1.0</td>\n",
              "      <td>1012.14</td>\n",
              "      <td>0.1786</td>\n",
              "      <td>1545003901</td>\n",
              "      <td>0.75</td>\n",
              "      <td>11.49</td>\n",
              "    </tr>\n",
              "  </tbody>\n",
              "</table>\n",
              "</div>\n",
              "      <button class=\"colab-df-convert\" onclick=\"convertToInteractive('df-5c2e3dcb-5ee0-413a-99cc-cedc17915969')\"\n",
              "              title=\"Convert this dataframe to an interactive table.\"\n",
              "              style=\"display:none;\">\n",
              "        \n",
              "  <svg xmlns=\"http://www.w3.org/2000/svg\" height=\"24px\"viewBox=\"0 0 24 24\"\n",
              "       width=\"24px\">\n",
              "    <path d=\"M0 0h24v24H0V0z\" fill=\"none\"/>\n",
              "    <path d=\"M18.56 5.44l.94 2.06.94-2.06 2.06-.94-2.06-.94-.94-2.06-.94 2.06-2.06.94zm-11 1L8.5 8.5l.94-2.06 2.06-.94-2.06-.94L8.5 2.5l-.94 2.06-2.06.94zm10 10l.94 2.06.94-2.06 2.06-.94-2.06-.94-.94-2.06-.94 2.06-2.06.94z\"/><path d=\"M17.41 7.96l-1.37-1.37c-.4-.4-.92-.59-1.43-.59-.52 0-1.04.2-1.43.59L10.3 9.45l-7.72 7.72c-.78.78-.78 2.05 0 2.83L4 21.41c.39.39.9.59 1.41.59.51 0 1.02-.2 1.41-.59l7.78-7.78 2.81-2.81c.8-.78.8-2.07 0-2.86zM5.41 20L4 18.59l7.72-7.72 1.47 1.35L5.41 20z\"/>\n",
              "  </svg>\n",
              "      </button>\n",
              "      \n",
              "  <style>\n",
              "    .colab-df-container {\n",
              "      display:flex;\n",
              "      flex-wrap:wrap;\n",
              "      gap: 12px;\n",
              "    }\n",
              "\n",
              "    .colab-df-convert {\n",
              "      background-color: #E8F0FE;\n",
              "      border: none;\n",
              "      border-radius: 50%;\n",
              "      cursor: pointer;\n",
              "      display: none;\n",
              "      fill: #1967D2;\n",
              "      height: 32px;\n",
              "      padding: 0 0 0 0;\n",
              "      width: 32px;\n",
              "    }\n",
              "\n",
              "    .colab-df-convert:hover {\n",
              "      background-color: #E2EBFA;\n",
              "      box-shadow: 0px 1px 2px rgba(60, 64, 67, 0.3), 0px 1px 3px 1px rgba(60, 64, 67, 0.15);\n",
              "      fill: #174EA6;\n",
              "    }\n",
              "\n",
              "    [theme=dark] .colab-df-convert {\n",
              "      background-color: #3B4455;\n",
              "      fill: #D2E3FC;\n",
              "    }\n",
              "\n",
              "    [theme=dark] .colab-df-convert:hover {\n",
              "      background-color: #434B5C;\n",
              "      box-shadow: 0px 1px 3px 1px rgba(0, 0, 0, 0.15);\n",
              "      filter: drop-shadow(0px 1px 2px rgba(0, 0, 0, 0.3));\n",
              "      fill: #FFFFFF;\n",
              "    }\n",
              "  </style>\n",
              "\n",
              "      <script>\n",
              "        const buttonEl =\n",
              "          document.querySelector('#df-5c2e3dcb-5ee0-413a-99cc-cedc17915969 button.colab-df-convert');\n",
              "        buttonEl.style.display =\n",
              "          google.colab.kernel.accessAllowed ? 'block' : 'none';\n",
              "\n",
              "        async function convertToInteractive(key) {\n",
              "          const element = document.querySelector('#df-5c2e3dcb-5ee0-413a-99cc-cedc17915969');\n",
              "          const dataTable =\n",
              "            await google.colab.kernel.invokeFunction('convertToInteractive',\n",
              "                                                     [key], {});\n",
              "          if (!dataTable) return;\n",
              "\n",
              "          const docLinkHtml = 'Like what you see? Visit the ' +\n",
              "            '<a target=\"_blank\" href=https://colab.research.google.com/notebooks/data_table.ipynb>data table notebook</a>'\n",
              "            + ' to learn more about interactive tables.';\n",
              "          element.innerHTML = '';\n",
              "          dataTable['output_type'] = 'display_data';\n",
              "          await google.colab.output.renderOutput(dataTable, element);\n",
              "          const docLink = document.createElement('div');\n",
              "          docLink.innerHTML = docLinkHtml;\n",
              "          element.appendChild(docLink);\n",
              "        }\n",
              "      </script>\n",
              "    </div>\n",
              "  </div>\n",
              "  "
            ]
          },
          "metadata": {},
          "execution_count": 221
        }
      ],
      "metadata": {
        "colab": {
          "base_uri": "https://localhost:8080/",
          "height": 223
        },
        "id": "iYKr_Fp5gEwF",
        "outputId": "ae9eeaef-3d2d-4318-b9dd-b79688fcf05d",
        "scrolled": false
      }
    },
    {
      "cell_type": "markdown",
      "source": [
        "# Data Cleaning"
      ],
      "metadata": {
        "id": "g9hWHOakgEwJ"
      }
    },
    {
      "cell_type": "markdown",
      "source": [
        "## Taxi Rides"
      ],
      "metadata": {
        "id": "FxAg-M9rgEwS"
      }
    },
    {
      "cell_type": "code",
      "execution_count": 222,
      "source": [
        "taxiRides.info()"
      ],
      "outputs": [
        {
          "output_type": "stream",
          "name": "stdout",
          "text": [
            "<class 'pandas.core.frame.DataFrame'>\n",
            "RangeIndex: 554456 entries, 0 to 554455\n",
            "Data columns (total 10 columns):\n",
            " #   Column            Non-Null Count   Dtype  \n",
            "---  ------            --------------   -----  \n",
            " 0   distance          554456 non-null  float64\n",
            " 1   cab_type          554456 non-null  object \n",
            " 2   time_stamp        554456 non-null  float64\n",
            " 3   destination       554456 non-null  object \n",
            " 4   source            554456 non-null  object \n",
            " 5   surge_multiplier  554456 non-null  float64\n",
            " 6   id                554456 non-null  object \n",
            " 7   product_id        554456 non-null  object \n",
            " 8   name              554456 non-null  object \n",
            " 9   price             510321 non-null  float64\n",
            "dtypes: float64(4), object(6)\n",
            "memory usage: 42.3+ MB\n"
          ]
        }
      ],
      "metadata": {
        "colab": {
          "base_uri": "https://localhost:8080/"
        },
        "id": "D8L2oFhegEwY",
        "outputId": "00935c5c-07c7-42e5-b8c2-19916419160e",
        "scrolled": true
      }
    },
    {
      "cell_type": "code",
      "execution_count": 223,
      "source": [
        "nonIntegerColumns = [col for col in taxiRides.columns if taxiRides[col].dtypes == object]\n",
        "print(f\"Non Integer Columns : {nonIntegerColumns}\")"
      ],
      "outputs": [
        {
          "output_type": "stream",
          "name": "stdout",
          "text": [
            "Non Integer Columns : ['cab_type', 'destination', 'source', 'id', 'product_id', 'name']\n"
          ]
        }
      ],
      "metadata": {
        "colab": {
          "base_uri": "https://localhost:8080/"
        },
        "id": "XnB1O88XgEwc",
        "outputId": "c9ea6190-c4bc-476e-b7e1-05232c10df31"
      }
    },
    {
      "cell_type": "markdown",
      "source": [
        "## Null"
      ],
      "metadata": {
        "id": "b5cZp83vgEwh"
      }
    },
    {
      "cell_type": "code",
      "execution_count": 224,
      "source": [
        "taxiRides.isnull().sum()"
      ],
      "outputs": [
        {
          "output_type": "execute_result",
          "data": {
            "text/plain": [
              "distance                0\n",
              "cab_type                0\n",
              "time_stamp              0\n",
              "destination             0\n",
              "source                  0\n",
              "surge_multiplier        0\n",
              "id                      0\n",
              "product_id              0\n",
              "name                    0\n",
              "price               44135\n",
              "dtype: int64"
            ]
          },
          "metadata": {},
          "execution_count": 224
        }
      ],
      "metadata": {
        "colab": {
          "base_uri": "https://localhost:8080/"
        },
        "id": "yeQWF9iLgEwk",
        "outputId": "3e90f629-704a-4cf9-aa49-4cccecd61989",
        "scrolled": true
      }
    },
    {
      "cell_type": "markdown",
      "source": [
        "## product_id and name"
      ],
      "metadata": {
        "id": "BCkljrZhgEwm"
      }
    },
    {
      "cell_type": "code",
      "execution_count": 225,
      "source": [
        "taxiRides['product_id'].value_counts()"
      ],
      "outputs": [
        {
          "output_type": "execute_result",
          "data": {
            "text/plain": [
              "55c66225-fbe7-4fd5-9072-eab1ece5e23e    44204\n",
              "8cf7e821-f0d3-49c6-8eba-e679c0ebcf6a    44135\n",
              "997acbb5-e102-41e1-b155-9df7de0a73f2    44108\n",
              "6d318bcc-22a3-4af6-bddd-b409bfce1546    44038\n",
              "9a0e7b09-b92b-4c41-9779-2ad22b4d779d    44024\n",
              "6f72dfc5-27f1-42e8-84db-ccc7a75f6969    43983\n",
              "6c84fd89-3f11-4782-9b50-97c468b19529    43977\n",
              "lyft_plus                               41142\n",
              "lyft_lux                                41041\n",
              "lyft                                    41015\n",
              "lyft_luxsuv                             40979\n",
              "lyft_premier                            40969\n",
              "lyft_line                               40841\n",
              "Name: product_id, dtype: int64"
            ]
          },
          "metadata": {},
          "execution_count": 225
        }
      ],
      "metadata": {
        "colab": {
          "base_uri": "https://localhost:8080/"
        },
        "id": "TVOrLS2qgEwo",
        "outputId": "452331fd-b9c9-4455-a79d-305af0ab839f",
        "scrolled": true
      }
    },
    {
      "cell_type": "code",
      "execution_count": 226,
      "source": [
        "taxiRides['name'].value_counts()"
      ],
      "outputs": [
        {
          "output_type": "execute_result",
          "data": {
            "text/plain": [
              "UberX           44204\n",
              "Taxi            44135\n",
              "UberPool        44108\n",
              "Black SUV       44038\n",
              "WAV             44024\n",
              "UberXL          43983\n",
              "Black           43977\n",
              "Lyft XL         41142\n",
              "Lux Black       41041\n",
              "Lyft            41015\n",
              "Lux Black XL    40979\n",
              "Lux             40969\n",
              "Shared          40841\n",
              "Name: name, dtype: int64"
            ]
          },
          "metadata": {},
          "execution_count": 226
        }
      ],
      "metadata": {
        "colab": {
          "base_uri": "https://localhost:8080/"
        },
        "id": "P_AEN5VigEws",
        "outputId": "d17783a3-dc70-44fc-bf53-ae4b106dd02a"
      }
    },
    {
      "cell_type": "markdown",
      "source": [
        "product_id and name represent the same feature so we can drop one of them"
      ],
      "metadata": {
        "id": "EOcX1qLUgEwu"
      }
    },
    {
      "cell_type": "markdown",
      "source": [
        "## Encoding Timestamps to date"
      ],
      "metadata": {
        "id": "b1_DvW9dgEwv"
      }
    },
    {
      "cell_type": "code",
      "execution_count": 227,
      "source": [
        "weatherDate = pd.to_datetime(weather['time_stamp'], unit='s').apply(lambda x: x.strftime(('%Y-%m-%d')))"
      ],
      "outputs": [],
      "metadata": {
        "id": "1YHUXXUcgEwx"
      }
    },
    {
      "cell_type": "code",
      "execution_count": 228,
      "source": [
        "taxiRidesDate = pd.to_datetime(taxiRides['time_stamp'], unit='ms').apply(lambda x: x.strftime(('%Y-%m-%d')))"
      ],
      "outputs": [],
      "metadata": {
        "id": "kUfdYnKCgEw3"
      }
    },
    {
      "cell_type": "code",
      "execution_count": 229,
      "source": [
        "weather['date'] = weatherDate"
      ],
      "outputs": [],
      "metadata": {
        "id": "R79XFS8CgEw4"
      }
    },
    {
      "cell_type": "code",
      "execution_count": 230,
      "source": [
        "taxiRides['date'] = taxiRidesDate"
      ],
      "outputs": [],
      "metadata": {
        "id": "ncORHZUzgEw6"
      }
    },
    {
      "cell_type": "code",
      "execution_count": 231,
      "source": [
        "taxiRides.head()"
      ],
      "outputs": [
        {
          "output_type": "execute_result",
          "data": {
            "text/plain": [
              "   distance cab_type    time_stamp         destination  \\\n",
              "0      0.62     Uber  1.544770e+12            West End   \n",
              "1      2.27     Uber  1.543400e+12   Boston University   \n",
              "2      2.00     Lyft  1.544920e+12            Back Bay   \n",
              "3      3.98     Lyft  1.543620e+12  Financial District   \n",
              "4      1.49     Lyft  1.543580e+12            Back Bay   \n",
              "\n",
              "                    source  surge_multiplier  \\\n",
              "0         Haymarket Square               1.0   \n",
              "1              Beacon Hill               1.0   \n",
              "2         Haymarket Square               1.0   \n",
              "3  Northeastern University               1.0   \n",
              "4  Northeastern University               1.0   \n",
              "\n",
              "                                     id                            product_id  \\\n",
              "0  c1b4a572-24b2-484d-aac5-b4f97b790480  8cf7e821-f0d3-49c6-8eba-e679c0ebcf6a   \n",
              "1  f9e7e7e6-b309-479b-9f90-bf26a1870c81  997acbb5-e102-41e1-b155-9df7de0a73f2   \n",
              "2  154e8438-46f5-4e5f-9872-15cc95e85eed                                  lyft   \n",
              "3  6bdc30a6-9a80-487b-914e-8d9b82ee4acb                             lyft_plus   \n",
              "4  0cb12fe9-cd72-4feb-b341-4a566b2e6643                                  lyft   \n",
              "\n",
              "       name  price        date  \n",
              "0      Taxi    NaN  2018-12-14  \n",
              "1  UberPool    8.0  2018-11-28  \n",
              "2      Lyft   10.5  2018-12-16  \n",
              "3   Lyft XL   22.5  2018-11-30  \n",
              "4      Lyft    7.0  2018-11-30  "
            ],
            "text/html": [
              "\n",
              "  <div id=\"df-0d7734c2-8aa7-4159-b8cb-12df2d552303\">\n",
              "    <div class=\"colab-df-container\">\n",
              "      <div>\n",
              "<style scoped>\n",
              "    .dataframe tbody tr th:only-of-type {\n",
              "        vertical-align: middle;\n",
              "    }\n",
              "\n",
              "    .dataframe tbody tr th {\n",
              "        vertical-align: top;\n",
              "    }\n",
              "\n",
              "    .dataframe thead th {\n",
              "        text-align: right;\n",
              "    }\n",
              "</style>\n",
              "<table border=\"1\" class=\"dataframe\">\n",
              "  <thead>\n",
              "    <tr style=\"text-align: right;\">\n",
              "      <th></th>\n",
              "      <th>distance</th>\n",
              "      <th>cab_type</th>\n",
              "      <th>time_stamp</th>\n",
              "      <th>destination</th>\n",
              "      <th>source</th>\n",
              "      <th>surge_multiplier</th>\n",
              "      <th>id</th>\n",
              "      <th>product_id</th>\n",
              "      <th>name</th>\n",
              "      <th>price</th>\n",
              "      <th>date</th>\n",
              "    </tr>\n",
              "  </thead>\n",
              "  <tbody>\n",
              "    <tr>\n",
              "      <th>0</th>\n",
              "      <td>0.62</td>\n",
              "      <td>Uber</td>\n",
              "      <td>1.544770e+12</td>\n",
              "      <td>West End</td>\n",
              "      <td>Haymarket Square</td>\n",
              "      <td>1.0</td>\n",
              "      <td>c1b4a572-24b2-484d-aac5-b4f97b790480</td>\n",
              "      <td>8cf7e821-f0d3-49c6-8eba-e679c0ebcf6a</td>\n",
              "      <td>Taxi</td>\n",
              "      <td>NaN</td>\n",
              "      <td>2018-12-14</td>\n",
              "    </tr>\n",
              "    <tr>\n",
              "      <th>1</th>\n",
              "      <td>2.27</td>\n",
              "      <td>Uber</td>\n",
              "      <td>1.543400e+12</td>\n",
              "      <td>Boston University</td>\n",
              "      <td>Beacon Hill</td>\n",
              "      <td>1.0</td>\n",
              "      <td>f9e7e7e6-b309-479b-9f90-bf26a1870c81</td>\n",
              "      <td>997acbb5-e102-41e1-b155-9df7de0a73f2</td>\n",
              "      <td>UberPool</td>\n",
              "      <td>8.0</td>\n",
              "      <td>2018-11-28</td>\n",
              "    </tr>\n",
              "    <tr>\n",
              "      <th>2</th>\n",
              "      <td>2.00</td>\n",
              "      <td>Lyft</td>\n",
              "      <td>1.544920e+12</td>\n",
              "      <td>Back Bay</td>\n",
              "      <td>Haymarket Square</td>\n",
              "      <td>1.0</td>\n",
              "      <td>154e8438-46f5-4e5f-9872-15cc95e85eed</td>\n",
              "      <td>lyft</td>\n",
              "      <td>Lyft</td>\n",
              "      <td>10.5</td>\n",
              "      <td>2018-12-16</td>\n",
              "    </tr>\n",
              "    <tr>\n",
              "      <th>3</th>\n",
              "      <td>3.98</td>\n",
              "      <td>Lyft</td>\n",
              "      <td>1.543620e+12</td>\n",
              "      <td>Financial District</td>\n",
              "      <td>Northeastern University</td>\n",
              "      <td>1.0</td>\n",
              "      <td>6bdc30a6-9a80-487b-914e-8d9b82ee4acb</td>\n",
              "      <td>lyft_plus</td>\n",
              "      <td>Lyft XL</td>\n",
              "      <td>22.5</td>\n",
              "      <td>2018-11-30</td>\n",
              "    </tr>\n",
              "    <tr>\n",
              "      <th>4</th>\n",
              "      <td>1.49</td>\n",
              "      <td>Lyft</td>\n",
              "      <td>1.543580e+12</td>\n",
              "      <td>Back Bay</td>\n",
              "      <td>Northeastern University</td>\n",
              "      <td>1.0</td>\n",
              "      <td>0cb12fe9-cd72-4feb-b341-4a566b2e6643</td>\n",
              "      <td>lyft</td>\n",
              "      <td>Lyft</td>\n",
              "      <td>7.0</td>\n",
              "      <td>2018-11-30</td>\n",
              "    </tr>\n",
              "  </tbody>\n",
              "</table>\n",
              "</div>\n",
              "      <button class=\"colab-df-convert\" onclick=\"convertToInteractive('df-0d7734c2-8aa7-4159-b8cb-12df2d552303')\"\n",
              "              title=\"Convert this dataframe to an interactive table.\"\n",
              "              style=\"display:none;\">\n",
              "        \n",
              "  <svg xmlns=\"http://www.w3.org/2000/svg\" height=\"24px\"viewBox=\"0 0 24 24\"\n",
              "       width=\"24px\">\n",
              "    <path d=\"M0 0h24v24H0V0z\" fill=\"none\"/>\n",
              "    <path d=\"M18.56 5.44l.94 2.06.94-2.06 2.06-.94-2.06-.94-.94-2.06-.94 2.06-2.06.94zm-11 1L8.5 8.5l.94-2.06 2.06-.94-2.06-.94L8.5 2.5l-.94 2.06-2.06.94zm10 10l.94 2.06.94-2.06 2.06-.94-2.06-.94-.94-2.06-.94 2.06-2.06.94z\"/><path d=\"M17.41 7.96l-1.37-1.37c-.4-.4-.92-.59-1.43-.59-.52 0-1.04.2-1.43.59L10.3 9.45l-7.72 7.72c-.78.78-.78 2.05 0 2.83L4 21.41c.39.39.9.59 1.41.59.51 0 1.02-.2 1.41-.59l7.78-7.78 2.81-2.81c.8-.78.8-2.07 0-2.86zM5.41 20L4 18.59l7.72-7.72 1.47 1.35L5.41 20z\"/>\n",
              "  </svg>\n",
              "      </button>\n",
              "      \n",
              "  <style>\n",
              "    .colab-df-container {\n",
              "      display:flex;\n",
              "      flex-wrap:wrap;\n",
              "      gap: 12px;\n",
              "    }\n",
              "\n",
              "    .colab-df-convert {\n",
              "      background-color: #E8F0FE;\n",
              "      border: none;\n",
              "      border-radius: 50%;\n",
              "      cursor: pointer;\n",
              "      display: none;\n",
              "      fill: #1967D2;\n",
              "      height: 32px;\n",
              "      padding: 0 0 0 0;\n",
              "      width: 32px;\n",
              "    }\n",
              "\n",
              "    .colab-df-convert:hover {\n",
              "      background-color: #E2EBFA;\n",
              "      box-shadow: 0px 1px 2px rgba(60, 64, 67, 0.3), 0px 1px 3px 1px rgba(60, 64, 67, 0.15);\n",
              "      fill: #174EA6;\n",
              "    }\n",
              "\n",
              "    [theme=dark] .colab-df-convert {\n",
              "      background-color: #3B4455;\n",
              "      fill: #D2E3FC;\n",
              "    }\n",
              "\n",
              "    [theme=dark] .colab-df-convert:hover {\n",
              "      background-color: #434B5C;\n",
              "      box-shadow: 0px 1px 3px 1px rgba(0, 0, 0, 0.15);\n",
              "      filter: drop-shadow(0px 1px 2px rgba(0, 0, 0, 0.3));\n",
              "      fill: #FFFFFF;\n",
              "    }\n",
              "  </style>\n",
              "\n",
              "      <script>\n",
              "        const buttonEl =\n",
              "          document.querySelector('#df-0d7734c2-8aa7-4159-b8cb-12df2d552303 button.colab-df-convert');\n",
              "        buttonEl.style.display =\n",
              "          google.colab.kernel.accessAllowed ? 'block' : 'none';\n",
              "\n",
              "        async function convertToInteractive(key) {\n",
              "          const element = document.querySelector('#df-0d7734c2-8aa7-4159-b8cb-12df2d552303');\n",
              "          const dataTable =\n",
              "            await google.colab.kernel.invokeFunction('convertToInteractive',\n",
              "                                                     [key], {});\n",
              "          if (!dataTable) return;\n",
              "\n",
              "          const docLinkHtml = 'Like what you see? Visit the ' +\n",
              "            '<a target=\"_blank\" href=https://colab.research.google.com/notebooks/data_table.ipynb>data table notebook</a>'\n",
              "            + ' to learn more about interactive tables.';\n",
              "          element.innerHTML = '';\n",
              "          dataTable['output_type'] = 'display_data';\n",
              "          await google.colab.output.renderOutput(dataTable, element);\n",
              "          const docLink = document.createElement('div');\n",
              "          docLink.innerHTML = docLinkHtml;\n",
              "          element.appendChild(docLink);\n",
              "        }\n",
              "      </script>\n",
              "    </div>\n",
              "  </div>\n",
              "  "
            ]
          },
          "metadata": {},
          "execution_count": 231
        }
      ],
      "metadata": {
        "colab": {
          "base_uri": "https://localhost:8080/",
          "height": 0
        },
        "id": "7ZzmOFpugEw9",
        "outputId": "99f69371-fc6f-4085-e1eb-6383925a1d97"
      }
    },
    {
      "cell_type": "code",
      "execution_count": 232,
      "source": [
        "weather.head()"
      ],
      "outputs": [
        {
          "output_type": "execute_result",
          "data": {
            "text/plain": [
              "    temp            location  clouds  pressure    rain  time_stamp  humidity  \\\n",
              "0  42.42            Back Bay     1.0   1012.14  0.1228  1545003901      0.77   \n",
              "1  42.43         Beacon Hill     1.0   1012.15  0.1846  1545003901      0.76   \n",
              "2  42.50   Boston University     1.0   1012.15  0.1089  1545003901      0.76   \n",
              "3  42.11              Fenway     1.0   1012.13  0.0969  1545003901      0.77   \n",
              "4  43.13  Financial District     1.0   1012.14  0.1786  1545003901      0.75   \n",
              "\n",
              "    wind        date  \n",
              "0  11.25  2018-12-16  \n",
              "1  11.32  2018-12-16  \n",
              "2  11.07  2018-12-16  \n",
              "3  11.09  2018-12-16  \n",
              "4  11.49  2018-12-16  "
            ],
            "text/html": [
              "\n",
              "  <div id=\"df-af99f3ca-ce4b-4b95-8e31-455e82c23ff2\">\n",
              "    <div class=\"colab-df-container\">\n",
              "      <div>\n",
              "<style scoped>\n",
              "    .dataframe tbody tr th:only-of-type {\n",
              "        vertical-align: middle;\n",
              "    }\n",
              "\n",
              "    .dataframe tbody tr th {\n",
              "        vertical-align: top;\n",
              "    }\n",
              "\n",
              "    .dataframe thead th {\n",
              "        text-align: right;\n",
              "    }\n",
              "</style>\n",
              "<table border=\"1\" class=\"dataframe\">\n",
              "  <thead>\n",
              "    <tr style=\"text-align: right;\">\n",
              "      <th></th>\n",
              "      <th>temp</th>\n",
              "      <th>location</th>\n",
              "      <th>clouds</th>\n",
              "      <th>pressure</th>\n",
              "      <th>rain</th>\n",
              "      <th>time_stamp</th>\n",
              "      <th>humidity</th>\n",
              "      <th>wind</th>\n",
              "      <th>date</th>\n",
              "    </tr>\n",
              "  </thead>\n",
              "  <tbody>\n",
              "    <tr>\n",
              "      <th>0</th>\n",
              "      <td>42.42</td>\n",
              "      <td>Back Bay</td>\n",
              "      <td>1.0</td>\n",
              "      <td>1012.14</td>\n",
              "      <td>0.1228</td>\n",
              "      <td>1545003901</td>\n",
              "      <td>0.77</td>\n",
              "      <td>11.25</td>\n",
              "      <td>2018-12-16</td>\n",
              "    </tr>\n",
              "    <tr>\n",
              "      <th>1</th>\n",
              "      <td>42.43</td>\n",
              "      <td>Beacon Hill</td>\n",
              "      <td>1.0</td>\n",
              "      <td>1012.15</td>\n",
              "      <td>0.1846</td>\n",
              "      <td>1545003901</td>\n",
              "      <td>0.76</td>\n",
              "      <td>11.32</td>\n",
              "      <td>2018-12-16</td>\n",
              "    </tr>\n",
              "    <tr>\n",
              "      <th>2</th>\n",
              "      <td>42.50</td>\n",
              "      <td>Boston University</td>\n",
              "      <td>1.0</td>\n",
              "      <td>1012.15</td>\n",
              "      <td>0.1089</td>\n",
              "      <td>1545003901</td>\n",
              "      <td>0.76</td>\n",
              "      <td>11.07</td>\n",
              "      <td>2018-12-16</td>\n",
              "    </tr>\n",
              "    <tr>\n",
              "      <th>3</th>\n",
              "      <td>42.11</td>\n",
              "      <td>Fenway</td>\n",
              "      <td>1.0</td>\n",
              "      <td>1012.13</td>\n",
              "      <td>0.0969</td>\n",
              "      <td>1545003901</td>\n",
              "      <td>0.77</td>\n",
              "      <td>11.09</td>\n",
              "      <td>2018-12-16</td>\n",
              "    </tr>\n",
              "    <tr>\n",
              "      <th>4</th>\n",
              "      <td>43.13</td>\n",
              "      <td>Financial District</td>\n",
              "      <td>1.0</td>\n",
              "      <td>1012.14</td>\n",
              "      <td>0.1786</td>\n",
              "      <td>1545003901</td>\n",
              "      <td>0.75</td>\n",
              "      <td>11.49</td>\n",
              "      <td>2018-12-16</td>\n",
              "    </tr>\n",
              "  </tbody>\n",
              "</table>\n",
              "</div>\n",
              "      <button class=\"colab-df-convert\" onclick=\"convertToInteractive('df-af99f3ca-ce4b-4b95-8e31-455e82c23ff2')\"\n",
              "              title=\"Convert this dataframe to an interactive table.\"\n",
              "              style=\"display:none;\">\n",
              "        \n",
              "  <svg xmlns=\"http://www.w3.org/2000/svg\" height=\"24px\"viewBox=\"0 0 24 24\"\n",
              "       width=\"24px\">\n",
              "    <path d=\"M0 0h24v24H0V0z\" fill=\"none\"/>\n",
              "    <path d=\"M18.56 5.44l.94 2.06.94-2.06 2.06-.94-2.06-.94-.94-2.06-.94 2.06-2.06.94zm-11 1L8.5 8.5l.94-2.06 2.06-.94-2.06-.94L8.5 2.5l-.94 2.06-2.06.94zm10 10l.94 2.06.94-2.06 2.06-.94-2.06-.94-.94-2.06-.94 2.06-2.06.94z\"/><path d=\"M17.41 7.96l-1.37-1.37c-.4-.4-.92-.59-1.43-.59-.52 0-1.04.2-1.43.59L10.3 9.45l-7.72 7.72c-.78.78-.78 2.05 0 2.83L4 21.41c.39.39.9.59 1.41.59.51 0 1.02-.2 1.41-.59l7.78-7.78 2.81-2.81c.8-.78.8-2.07 0-2.86zM5.41 20L4 18.59l7.72-7.72 1.47 1.35L5.41 20z\"/>\n",
              "  </svg>\n",
              "      </button>\n",
              "      \n",
              "  <style>\n",
              "    .colab-df-container {\n",
              "      display:flex;\n",
              "      flex-wrap:wrap;\n",
              "      gap: 12px;\n",
              "    }\n",
              "\n",
              "    .colab-df-convert {\n",
              "      background-color: #E8F0FE;\n",
              "      border: none;\n",
              "      border-radius: 50%;\n",
              "      cursor: pointer;\n",
              "      display: none;\n",
              "      fill: #1967D2;\n",
              "      height: 32px;\n",
              "      padding: 0 0 0 0;\n",
              "      width: 32px;\n",
              "    }\n",
              "\n",
              "    .colab-df-convert:hover {\n",
              "      background-color: #E2EBFA;\n",
              "      box-shadow: 0px 1px 2px rgba(60, 64, 67, 0.3), 0px 1px 3px 1px rgba(60, 64, 67, 0.15);\n",
              "      fill: #174EA6;\n",
              "    }\n",
              "\n",
              "    [theme=dark] .colab-df-convert {\n",
              "      background-color: #3B4455;\n",
              "      fill: #D2E3FC;\n",
              "    }\n",
              "\n",
              "    [theme=dark] .colab-df-convert:hover {\n",
              "      background-color: #434B5C;\n",
              "      box-shadow: 0px 1px 3px 1px rgba(0, 0, 0, 0.15);\n",
              "      filter: drop-shadow(0px 1px 2px rgba(0, 0, 0, 0.3));\n",
              "      fill: #FFFFFF;\n",
              "    }\n",
              "  </style>\n",
              "\n",
              "      <script>\n",
              "        const buttonEl =\n",
              "          document.querySelector('#df-af99f3ca-ce4b-4b95-8e31-455e82c23ff2 button.colab-df-convert');\n",
              "        buttonEl.style.display =\n",
              "          google.colab.kernel.accessAllowed ? 'block' : 'none';\n",
              "\n",
              "        async function convertToInteractive(key) {\n",
              "          const element = document.querySelector('#df-af99f3ca-ce4b-4b95-8e31-455e82c23ff2');\n",
              "          const dataTable =\n",
              "            await google.colab.kernel.invokeFunction('convertToInteractive',\n",
              "                                                     [key], {});\n",
              "          if (!dataTable) return;\n",
              "\n",
              "          const docLinkHtml = 'Like what you see? Visit the ' +\n",
              "            '<a target=\"_blank\" href=https://colab.research.google.com/notebooks/data_table.ipynb>data table notebook</a>'\n",
              "            + ' to learn more about interactive tables.';\n",
              "          element.innerHTML = '';\n",
              "          dataTable['output_type'] = 'display_data';\n",
              "          await google.colab.output.renderOutput(dataTable, element);\n",
              "          const docLink = document.createElement('div');\n",
              "          docLink.innerHTML = docLinkHtml;\n",
              "          element.appendChild(docLink);\n",
              "        }\n",
              "      </script>\n",
              "    </div>\n",
              "  </div>\n",
              "  "
            ]
          },
          "metadata": {},
          "execution_count": 232
        }
      ],
      "metadata": {
        "colab": {
          "base_uri": "https://localhost:8080/",
          "height": 0
        },
        "id": "yMObXFdqgEw-",
        "outputId": "531a817f-4a06-4724-d2db-3e2757bf2393",
        "scrolled": false
      }
    },
    {
      "cell_type": "code",
      "execution_count": 233,
      "source": [
        "taxiRides.drop(['time_stamp'],axis = 1, inplace = True)\n",
        "weather.drop(['time_stamp'],axis = 1, inplace = True)"
      ],
      "outputs": [],
      "metadata": {
        "id": "hOZECS-kgExA"
      }
    },
    {
      "cell_type": "markdown",
      "source": [
        "## Joining Dataframes based on date"
      ],
      "metadata": {
        "id": "vXWmLCUdgExD"
      }
    },
    {
      "cell_type": "code",
      "execution_count": 234,
      "source": [
        "mergedData = pd.merge(taxiRides,weather.drop_duplicates(subset=['date', 'location']), how = 'left', left_on=['date', 'source'], right_on=['date', 'location'])"
      ],
      "outputs": [],
      "metadata": {
        "id": "kDsWyOw1gExE"
      }
    },
    {
      "cell_type": "code",
      "execution_count": 235,
      "source": [
        "mergedData.head()"
      ],
      "outputs": [
        {
          "output_type": "execute_result",
          "data": {
            "text/plain": [
              "   distance cab_type         destination                   source  \\\n",
              "0      0.62     Uber            West End         Haymarket Square   \n",
              "1      2.27     Uber   Boston University              Beacon Hill   \n",
              "2      2.00     Lyft            Back Bay         Haymarket Square   \n",
              "3      3.98     Lyft  Financial District  Northeastern University   \n",
              "4      1.49     Lyft            Back Bay  Northeastern University   \n",
              "\n",
              "   surge_multiplier                                    id  \\\n",
              "0               1.0  c1b4a572-24b2-484d-aac5-b4f97b790480   \n",
              "1               1.0  f9e7e7e6-b309-479b-9f90-bf26a1870c81   \n",
              "2               1.0  154e8438-46f5-4e5f-9872-15cc95e85eed   \n",
              "3               1.0  6bdc30a6-9a80-487b-914e-8d9b82ee4acb   \n",
              "4               1.0  0cb12fe9-cd72-4feb-b341-4a566b2e6643   \n",
              "\n",
              "                             product_id      name  price        date   temp  \\\n",
              "0  8cf7e821-f0d3-49c6-8eba-e679c0ebcf6a      Taxi    NaN  2018-12-14  27.34   \n",
              "1  997acbb5-e102-41e1-b155-9df7de0a73f2  UberPool    8.0  2018-11-28  33.67   \n",
              "2                                  lyft      Lyft   10.5  2018-12-16  42.34   \n",
              "3                             lyft_plus   Lyft XL   22.5  2018-11-30  38.46   \n",
              "4                                  lyft      Lyft    7.0  2018-11-30  38.46   \n",
              "\n",
              "                  location  clouds  pressure    rain  humidity   wind  \n",
              "0         Haymarket Square    0.15   1033.40     NaN      0.81   3.04  \n",
              "1              Beacon Hill    0.12    991.20     NaN      0.82   5.37  \n",
              "2         Haymarket Square    1.00   1012.15  0.2068      0.77  11.49  \n",
              "3  Northeastern University    0.96   1017.24     NaN      0.66   3.31  \n",
              "4  Northeastern University    0.96   1017.24     NaN      0.66   3.31  "
            ],
            "text/html": [
              "\n",
              "  <div id=\"df-31703c09-21b7-4e72-b74b-7f01cdccbe30\">\n",
              "    <div class=\"colab-df-container\">\n",
              "      <div>\n",
              "<style scoped>\n",
              "    .dataframe tbody tr th:only-of-type {\n",
              "        vertical-align: middle;\n",
              "    }\n",
              "\n",
              "    .dataframe tbody tr th {\n",
              "        vertical-align: top;\n",
              "    }\n",
              "\n",
              "    .dataframe thead th {\n",
              "        text-align: right;\n",
              "    }\n",
              "</style>\n",
              "<table border=\"1\" class=\"dataframe\">\n",
              "  <thead>\n",
              "    <tr style=\"text-align: right;\">\n",
              "      <th></th>\n",
              "      <th>distance</th>\n",
              "      <th>cab_type</th>\n",
              "      <th>destination</th>\n",
              "      <th>source</th>\n",
              "      <th>surge_multiplier</th>\n",
              "      <th>id</th>\n",
              "      <th>product_id</th>\n",
              "      <th>name</th>\n",
              "      <th>price</th>\n",
              "      <th>date</th>\n",
              "      <th>temp</th>\n",
              "      <th>location</th>\n",
              "      <th>clouds</th>\n",
              "      <th>pressure</th>\n",
              "      <th>rain</th>\n",
              "      <th>humidity</th>\n",
              "      <th>wind</th>\n",
              "    </tr>\n",
              "  </thead>\n",
              "  <tbody>\n",
              "    <tr>\n",
              "      <th>0</th>\n",
              "      <td>0.62</td>\n",
              "      <td>Uber</td>\n",
              "      <td>West End</td>\n",
              "      <td>Haymarket Square</td>\n",
              "      <td>1.0</td>\n",
              "      <td>c1b4a572-24b2-484d-aac5-b4f97b790480</td>\n",
              "      <td>8cf7e821-f0d3-49c6-8eba-e679c0ebcf6a</td>\n",
              "      <td>Taxi</td>\n",
              "      <td>NaN</td>\n",
              "      <td>2018-12-14</td>\n",
              "      <td>27.34</td>\n",
              "      <td>Haymarket Square</td>\n",
              "      <td>0.15</td>\n",
              "      <td>1033.40</td>\n",
              "      <td>NaN</td>\n",
              "      <td>0.81</td>\n",
              "      <td>3.04</td>\n",
              "    </tr>\n",
              "    <tr>\n",
              "      <th>1</th>\n",
              "      <td>2.27</td>\n",
              "      <td>Uber</td>\n",
              "      <td>Boston University</td>\n",
              "      <td>Beacon Hill</td>\n",
              "      <td>1.0</td>\n",
              "      <td>f9e7e7e6-b309-479b-9f90-bf26a1870c81</td>\n",
              "      <td>997acbb5-e102-41e1-b155-9df7de0a73f2</td>\n",
              "      <td>UberPool</td>\n",
              "      <td>8.0</td>\n",
              "      <td>2018-11-28</td>\n",
              "      <td>33.67</td>\n",
              "      <td>Beacon Hill</td>\n",
              "      <td>0.12</td>\n",
              "      <td>991.20</td>\n",
              "      <td>NaN</td>\n",
              "      <td>0.82</td>\n",
              "      <td>5.37</td>\n",
              "    </tr>\n",
              "    <tr>\n",
              "      <th>2</th>\n",
              "      <td>2.00</td>\n",
              "      <td>Lyft</td>\n",
              "      <td>Back Bay</td>\n",
              "      <td>Haymarket Square</td>\n",
              "      <td>1.0</td>\n",
              "      <td>154e8438-46f5-4e5f-9872-15cc95e85eed</td>\n",
              "      <td>lyft</td>\n",
              "      <td>Lyft</td>\n",
              "      <td>10.5</td>\n",
              "      <td>2018-12-16</td>\n",
              "      <td>42.34</td>\n",
              "      <td>Haymarket Square</td>\n",
              "      <td>1.00</td>\n",
              "      <td>1012.15</td>\n",
              "      <td>0.2068</td>\n",
              "      <td>0.77</td>\n",
              "      <td>11.49</td>\n",
              "    </tr>\n",
              "    <tr>\n",
              "      <th>3</th>\n",
              "      <td>3.98</td>\n",
              "      <td>Lyft</td>\n",
              "      <td>Financial District</td>\n",
              "      <td>Northeastern University</td>\n",
              "      <td>1.0</td>\n",
              "      <td>6bdc30a6-9a80-487b-914e-8d9b82ee4acb</td>\n",
              "      <td>lyft_plus</td>\n",
              "      <td>Lyft XL</td>\n",
              "      <td>22.5</td>\n",
              "      <td>2018-11-30</td>\n",
              "      <td>38.46</td>\n",
              "      <td>Northeastern University</td>\n",
              "      <td>0.96</td>\n",
              "      <td>1017.24</td>\n",
              "      <td>NaN</td>\n",
              "      <td>0.66</td>\n",
              "      <td>3.31</td>\n",
              "    </tr>\n",
              "    <tr>\n",
              "      <th>4</th>\n",
              "      <td>1.49</td>\n",
              "      <td>Lyft</td>\n",
              "      <td>Back Bay</td>\n",
              "      <td>Northeastern University</td>\n",
              "      <td>1.0</td>\n",
              "      <td>0cb12fe9-cd72-4feb-b341-4a566b2e6643</td>\n",
              "      <td>lyft</td>\n",
              "      <td>Lyft</td>\n",
              "      <td>7.0</td>\n",
              "      <td>2018-11-30</td>\n",
              "      <td>38.46</td>\n",
              "      <td>Northeastern University</td>\n",
              "      <td>0.96</td>\n",
              "      <td>1017.24</td>\n",
              "      <td>NaN</td>\n",
              "      <td>0.66</td>\n",
              "      <td>3.31</td>\n",
              "    </tr>\n",
              "  </tbody>\n",
              "</table>\n",
              "</div>\n",
              "      <button class=\"colab-df-convert\" onclick=\"convertToInteractive('df-31703c09-21b7-4e72-b74b-7f01cdccbe30')\"\n",
              "              title=\"Convert this dataframe to an interactive table.\"\n",
              "              style=\"display:none;\">\n",
              "        \n",
              "  <svg xmlns=\"http://www.w3.org/2000/svg\" height=\"24px\"viewBox=\"0 0 24 24\"\n",
              "       width=\"24px\">\n",
              "    <path d=\"M0 0h24v24H0V0z\" fill=\"none\"/>\n",
              "    <path d=\"M18.56 5.44l.94 2.06.94-2.06 2.06-.94-2.06-.94-.94-2.06-.94 2.06-2.06.94zm-11 1L8.5 8.5l.94-2.06 2.06-.94-2.06-.94L8.5 2.5l-.94 2.06-2.06.94zm10 10l.94 2.06.94-2.06 2.06-.94-2.06-.94-.94-2.06-.94 2.06-2.06.94z\"/><path d=\"M17.41 7.96l-1.37-1.37c-.4-.4-.92-.59-1.43-.59-.52 0-1.04.2-1.43.59L10.3 9.45l-7.72 7.72c-.78.78-.78 2.05 0 2.83L4 21.41c.39.39.9.59 1.41.59.51 0 1.02-.2 1.41-.59l7.78-7.78 2.81-2.81c.8-.78.8-2.07 0-2.86zM5.41 20L4 18.59l7.72-7.72 1.47 1.35L5.41 20z\"/>\n",
              "  </svg>\n",
              "      </button>\n",
              "      \n",
              "  <style>\n",
              "    .colab-df-container {\n",
              "      display:flex;\n",
              "      flex-wrap:wrap;\n",
              "      gap: 12px;\n",
              "    }\n",
              "\n",
              "    .colab-df-convert {\n",
              "      background-color: #E8F0FE;\n",
              "      border: none;\n",
              "      border-radius: 50%;\n",
              "      cursor: pointer;\n",
              "      display: none;\n",
              "      fill: #1967D2;\n",
              "      height: 32px;\n",
              "      padding: 0 0 0 0;\n",
              "      width: 32px;\n",
              "    }\n",
              "\n",
              "    .colab-df-convert:hover {\n",
              "      background-color: #E2EBFA;\n",
              "      box-shadow: 0px 1px 2px rgba(60, 64, 67, 0.3), 0px 1px 3px 1px rgba(60, 64, 67, 0.15);\n",
              "      fill: #174EA6;\n",
              "    }\n",
              "\n",
              "    [theme=dark] .colab-df-convert {\n",
              "      background-color: #3B4455;\n",
              "      fill: #D2E3FC;\n",
              "    }\n",
              "\n",
              "    [theme=dark] .colab-df-convert:hover {\n",
              "      background-color: #434B5C;\n",
              "      box-shadow: 0px 1px 3px 1px rgba(0, 0, 0, 0.15);\n",
              "      filter: drop-shadow(0px 1px 2px rgba(0, 0, 0, 0.3));\n",
              "      fill: #FFFFFF;\n",
              "    }\n",
              "  </style>\n",
              "\n",
              "      <script>\n",
              "        const buttonEl =\n",
              "          document.querySelector('#df-31703c09-21b7-4e72-b74b-7f01cdccbe30 button.colab-df-convert');\n",
              "        buttonEl.style.display =\n",
              "          google.colab.kernel.accessAllowed ? 'block' : 'none';\n",
              "\n",
              "        async function convertToInteractive(key) {\n",
              "          const element = document.querySelector('#df-31703c09-21b7-4e72-b74b-7f01cdccbe30');\n",
              "          const dataTable =\n",
              "            await google.colab.kernel.invokeFunction('convertToInteractive',\n",
              "                                                     [key], {});\n",
              "          if (!dataTable) return;\n",
              "\n",
              "          const docLinkHtml = 'Like what you see? Visit the ' +\n",
              "            '<a target=\"_blank\" href=https://colab.research.google.com/notebooks/data_table.ipynb>data table notebook</a>'\n",
              "            + ' to learn more about interactive tables.';\n",
              "          element.innerHTML = '';\n",
              "          dataTable['output_type'] = 'display_data';\n",
              "          await google.colab.output.renderOutput(dataTable, element);\n",
              "          const docLink = document.createElement('div');\n",
              "          docLink.innerHTML = docLinkHtml;\n",
              "          element.appendChild(docLink);\n",
              "        }\n",
              "      </script>\n",
              "    </div>\n",
              "  </div>\n",
              "  "
            ]
          },
          "metadata": {},
          "execution_count": 235
        }
      ],
      "metadata": {
        "colab": {
          "base_uri": "https://localhost:8080/",
          "height": 0
        },
        "id": "a6uxoHApgExG",
        "outputId": "55f7ef77-a0d6-4a0d-ee2c-764ef794db7a",
        "scrolled": true
      }
    },
    {
      "cell_type": "markdown",
      "source": [
        "## Rain Feature"
      ],
      "metadata": {
        "id": "bX0qzKlkgExH"
      }
    },
    {
      "cell_type": "code",
      "execution_count": 236,
      "source": [
        "weather['rain'].hist()"
      ],
      "outputs": [
        {
          "output_type": "execute_result",
          "data": {
            "text/plain": [
              "<matplotlib.axes._subplots.AxesSubplot at 0x7fe75e7fe8d0>"
            ]
          },
          "metadata": {},
          "execution_count": 236
        },
        {
          "output_type": "display_data",
          "data": {
            "text/plain": [
              "<Figure size 432x288 with 1 Axes>"
            ],
            "image/png": "[encoded data removed]"
          },
          "metadata": {
            "needs_background": "light"
          }
        }
      ],
      "metadata": {
        "colab": {
          "base_uri": "https://localhost:8080/",
          "height": 0
        },
        "id": "8bwt4tLfgExJ",
        "outputId": "a4b25255-8fe3-4b55-f9f8-61ca2dc10a2f"
      }
    },
    {
      "cell_type": "markdown",
      "source": [
        "Does null values of rain revolve around certain values?"
      ],
      "metadata": {
        "id": "EOePkSJ0sI6t"
      }
    },
    {
      "cell_type": "code",
      "execution_count": 237,
      "source": [
        "weather[weather['rain'].isnull()].describe()"
      ],
      "outputs": [
        {
          "output_type": "execute_result",
          "data": {
            "text/plain": [
              "              temp       clouds    pressure  rain     humidity         wind\n",
              "count  5382.000000  5382.000000  5382.00000   0.0  5382.000000  5382.000000\n",
              "mean     38.461557     0.633618  1008.92490   NaN     0.747293     6.375199\n",
              "std       6.169892     0.312919    13.46695   NaN     0.124451     3.542713\n",
              "min      19.620000     0.000000   988.25000   NaN     0.450000     0.290000\n",
              "25%      35.022500     0.400000   997.39000   NaN     0.660000     3.190000\n",
              "50%      39.360000     0.680000  1009.56000   NaN     0.730000     6.210000\n",
              "75%      41.470000     0.930000  1020.95000   NaN     0.850000     9.627500\n",
              "max      55.410000     1.000000  1035.12000   NaN     0.990000    18.180000"
            ],
            "text/html": [
              "\n",
              "  <div id=\"df-158a1322-e049-4f11-9f7d-65057bb4115e\">\n",
              "    <div class=\"colab-df-container\">\n",
              "      <div>\n",
              "<style scoped>\n",
              "    .dataframe tbody tr th:only-of-type {\n",
              "        vertical-align: middle;\n",
              "    }\n",
              "\n",
              "    .dataframe tbody tr th {\n",
              "        vertical-align: top;\n",
              "    }\n",
              "\n",
              "    .dataframe thead th {\n",
              "        text-align: right;\n",
              "    }\n",
              "</style>\n",
              "<table border=\"1\" class=\"dataframe\">\n",
              "  <thead>\n",
              "    <tr style=\"text-align: right;\">\n",
              "      <th></th>\n",
              "      <th>temp</th>\n",
              "      <th>clouds</th>\n",
              "      <th>pressure</th>\n",
              "      <th>rain</th>\n",
              "      <th>humidity</th>\n",
              "      <th>wind</th>\n",
              "    </tr>\n",
              "  </thead>\n",
              "  <tbody>\n",
              "    <tr>\n",
              "      <th>count</th>\n",
              "      <td>5382.000000</td>\n",
              "      <td>5382.000000</td>\n",
              "      <td>5382.00000</td>\n",
              "      <td>0.0</td>\n",
              "      <td>5382.000000</td>\n",
              "      <td>5382.000000</td>\n",
              "    </tr>\n",
              "    <tr>\n",
              "      <th>mean</th>\n",
              "      <td>38.461557</td>\n",
              "      <td>0.633618</td>\n",
              "      <td>1008.92490</td>\n",
              "      <td>NaN</td>\n",
              "      <td>0.747293</td>\n",
              "      <td>6.375199</td>\n",
              "    </tr>\n",
              "    <tr>\n",
              "      <th>std</th>\n",
              "      <td>6.169892</td>\n",
              "      <td>0.312919</td>\n",
              "      <td>13.46695</td>\n",
              "      <td>NaN</td>\n",
              "      <td>0.124451</td>\n",
              "      <td>3.542713</td>\n",
              "    </tr>\n",
              "    <tr>\n",
              "      <th>min</th>\n",
              "      <td>19.620000</td>\n",
              "      <td>0.000000</td>\n",
              "      <td>988.25000</td>\n",
              "      <td>NaN</td>\n",
              "      <td>0.450000</td>\n",
              "      <td>0.290000</td>\n",
              "    </tr>\n",
              "    <tr>\n",
              "      <th>25%</th>\n",
              "      <td>35.022500</td>\n",
              "      <td>0.400000</td>\n",
              "      <td>997.39000</td>\n",
              "      <td>NaN</td>\n",
              "      <td>0.660000</td>\n",
              "      <td>3.190000</td>\n",
              "    </tr>\n",
              "    <tr>\n",
              "      <th>50%</th>\n",
              "      <td>39.360000</td>\n",
              "      <td>0.680000</td>\n",
              "      <td>1009.56000</td>\n",
              "      <td>NaN</td>\n",
              "      <td>0.730000</td>\n",
              "      <td>6.210000</td>\n",
              "    </tr>\n",
              "    <tr>\n",
              "      <th>75%</th>\n",
              "      <td>41.470000</td>\n",
              "      <td>0.930000</td>\n",
              "      <td>1020.95000</td>\n",
              "      <td>NaN</td>\n",
              "      <td>0.850000</td>\n",
              "      <td>9.627500</td>\n",
              "    </tr>\n",
              "    <tr>\n",
              "      <th>max</th>\n",
              "      <td>55.410000</td>\n",
              "      <td>1.000000</td>\n",
              "      <td>1035.12000</td>\n",
              "      <td>NaN</td>\n",
              "      <td>0.990000</td>\n",
              "      <td>18.180000</td>\n",
              "    </tr>\n",
              "  </tbody>\n",
              "</table>\n",
              "</div>\n",
              "      <button class=\"colab-df-convert\" onclick=\"convertToInteractive('df-158a1322-e049-4f11-9f7d-65057bb4115e')\"\n",
              "              title=\"Convert this dataframe to an interactive table.\"\n",
              "              style=\"display:none;\">\n",
              "        \n",
              "  <svg xmlns=\"http://www.w3.org/2000/svg\" height=\"24px\"viewBox=\"0 0 24 24\"\n",
              "       width=\"24px\">\n",
              "    <path d=\"M0 0h24v24H0V0z\" fill=\"none\"/>\n",
              "    <path d=\"M18.56 5.44l.94 2.06.94-2.06 2.06-.94-2.06-.94-.94-2.06-.94 2.06-2.06.94zm-11 1L8.5 8.5l.94-2.06 2.06-.94-2.06-.94L8.5 2.5l-.94 2.06-2.06.94zm10 10l.94 2.06.94-2.06 2.06-.94-2.06-.94-.94-2.06-.94 2.06-2.06.94z\"/><path d=\"M17.41 7.96l-1.37-1.37c-.4-.4-.92-.59-1.43-.59-.52 0-1.04.2-1.43.59L10.3 9.45l-7.72 7.72c-.78.78-.78 2.05 0 2.83L4 21.41c.39.39.9.59 1.41.59.51 0 1.02-.2 1.41-.59l7.78-7.78 2.81-2.81c.8-.78.8-2.07 0-2.86zM5.41 20L4 18.59l7.72-7.72 1.47 1.35L5.41 20z\"/>\n",
              "  </svg>\n",
              "      </button>\n",
              "      \n",
              "  <style>\n",
              "    .colab-df-container {\n",
              "      display:flex;\n",
              "      flex-wrap:wrap;\n",
              "      gap: 12px;\n",
              "    }\n",
              "\n",
              "    .colab-df-convert {\n",
              "      background-color: #E8F0FE;\n",
              "      border: none;\n",
              "      border-radius: 50%;\n",
              "      cursor: pointer;\n",
              "      display: none;\n",
              "      fill: #1967D2;\n",
              "      height: 32px;\n",
              "      padding: 0 0 0 0;\n",
              "      width: 32px;\n",
              "    }\n",
              "\n",
              "    .colab-df-convert:hover {\n",
              "      background-color: #E2EBFA;\n",
              "      box-shadow: 0px 1px 2px rgba(60, 64, 67, 0.3), 0px 1px 3px 1px rgba(60, 64, 67, 0.15);\n",
              "      fill: #174EA6;\n",
              "    }\n",
              "\n",
              "    [theme=dark] .colab-df-convert {\n",
              "      background-color: #3B4455;\n",
              "      fill: #D2E3FC;\n",
              "    }\n",
              "\n",
              "    [theme=dark] .colab-df-convert:hover {\n",
              "      background-color: #434B5C;\n",
              "      box-shadow: 0px 1px 3px 1px rgba(0, 0, 0, 0.15);\n",
              "      filter: drop-shadow(0px 1px 2px rgba(0, 0, 0, 0.3));\n",
              "      fill: #FFFFFF;\n",
              "    }\n",
              "  </style>\n",
              "\n",
              "      <script>\n",
              "        const buttonEl =\n",
              "          document.querySelector('#df-158a1322-e049-4f11-9f7d-65057bb4115e button.colab-df-convert');\n",
              "        buttonEl.style.display =\n",
              "          google.colab.kernel.accessAllowed ? 'block' : 'none';\n",
              "\n",
              "        async function convertToInteractive(key) {\n",
              "          const element = document.querySelector('#df-158a1322-e049-4f11-9f7d-65057bb4115e');\n",
              "          const dataTable =\n",
              "            await google.colab.kernel.invokeFunction('convertToInteractive',\n",
              "                                                     [key], {});\n",
              "          if (!dataTable) return;\n",
              "\n",
              "          const docLinkHtml = 'Like what you see? Visit the ' +\n",
              "            '<a target=\"_blank\" href=https://colab.research.google.com/notebooks/data_table.ipynb>data table notebook</a>'\n",
              "            + ' to learn more about interactive tables.';\n",
              "          element.innerHTML = '';\n",
              "          dataTable['output_type'] = 'display_data';\n",
              "          await google.colab.output.renderOutput(dataTable, element);\n",
              "          const docLink = document.createElement('div');\n",
              "          docLink.innerHTML = docLinkHtml;\n",
              "          element.appendChild(docLink);\n",
              "        }\n",
              "      </script>\n",
              "    </div>\n",
              "  </div>\n",
              "  "
            ]
          },
          "metadata": {},
          "execution_count": 237
        }
      ],
      "metadata": {
        "colab": {
          "base_uri": "https://localhost:8080/",
          "height": 0
        },
        "id": "qH-cx29TgExL",
        "outputId": "cc27675b-20c9-4587-b45a-f81671d1f602"
      }
    },
    {
      "cell_type": "code",
      "execution_count": 238,
      "source": [
        "weather[weather['rain'].notna()].describe()"
      ],
      "outputs": [
        {
          "output_type": "execute_result",
          "data": {
            "text/plain": [
              "             temp      clouds     pressure        rain    humidity        wind\n",
              "count  894.000000  894.000000   894.000000  894.000000  894.000000  894.000000\n",
              "mean    42.876644    0.943624  1005.557405    0.057652    0.864474    9.377103\n",
              "std      2.951239    0.146752     7.841618    0.100758    0.093957    3.066719\n",
              "min     34.100000    0.100000   988.910000    0.000200    0.520000    1.740000\n",
              "25%     41.482500    0.970000   999.750000    0.004900    0.860000    7.660000\n",
              "50%     43.820000    1.000000  1005.945000    0.014850    0.900000    9.890000\n",
              "75%     44.510000    1.000000  1011.237500    0.060925    0.920000   11.187500\n",
              "max     51.240000    1.000000  1021.790000    0.780700    0.980000   17.160000"
            ],
            "text/html": [
              "\n",
              "  <div id=\"df-2811d0d1-f394-4576-937d-b2e392e8abbc\">\n",
              "    <div class=\"colab-df-container\">\n",
              "      <div>\n",
              "<style scoped>\n",
              "    .dataframe tbody tr th:only-of-type {\n",
              "        vertical-align: middle;\n",
              "    }\n",
              "\n",
              "    .dataframe tbody tr th {\n",
              "        vertical-align: top;\n",
              "    }\n",
              "\n",
              "    .dataframe thead th {\n",
              "        text-align: right;\n",
              "    }\n",
              "</style>\n",
              "<table border=\"1\" class=\"dataframe\">\n",
              "  <thead>\n",
              "    <tr style=\"text-align: right;\">\n",
              "      <th></th>\n",
              "      <th>temp</th>\n",
              "      <th>clouds</th>\n",
              "      <th>pressure</th>\n",
              "      <th>rain</th>\n",
              "      <th>humidity</th>\n",
              "      <th>wind</th>\n",
              "    </tr>\n",
              "  </thead>\n",
              "  <tbody>\n",
              "    <tr>\n",
              "      <th>count</th>\n",
              "      <td>894.000000</td>\n",
              "      <td>894.000000</td>\n",
              "      <td>894.000000</td>\n",
              "      <td>894.000000</td>\n",
              "      <td>894.000000</td>\n",
              "      <td>894.000000</td>\n",
              "    </tr>\n",
              "    <tr>\n",
              "      <th>mean</th>\n",
              "      <td>42.876644</td>\n",
              "      <td>0.943624</td>\n",
              "      <td>1005.557405</td>\n",
              "      <td>0.057652</td>\n",
              "      <td>0.864474</td>\n",
              "      <td>9.377103</td>\n",
              "    </tr>\n",
              "    <tr>\n",
              "      <th>std</th>\n",
              "      <td>2.951239</td>\n",
              "      <td>0.146752</td>\n",
              "      <td>7.841618</td>\n",
              "      <td>0.100758</td>\n",
              "      <td>0.093957</td>\n",
              "      <td>3.066719</td>\n",
              "    </tr>\n",
              "    <tr>\n",
              "      <th>min</th>\n",
              "      <td>34.100000</td>\n",
              "      <td>0.100000</td>\n",
              "      <td>988.910000</td>\n",
              "      <td>0.000200</td>\n",
              "      <td>0.520000</td>\n",
              "      <td>1.740000</td>\n",
              "    </tr>\n",
              "    <tr>\n",
              "      <th>25%</th>\n",
              "      <td>41.482500</td>\n",
              "      <td>0.970000</td>\n",
              "      <td>999.750000</td>\n",
              "      <td>0.004900</td>\n",
              "      <td>0.860000</td>\n",
              "      <td>7.660000</td>\n",
              "    </tr>\n",
              "    <tr>\n",
              "      <th>50%</th>\n",
              "      <td>43.820000</td>\n",
              "      <td>1.000000</td>\n",
              "      <td>1005.945000</td>\n",
              "      <td>0.014850</td>\n",
              "      <td>0.900000</td>\n",
              "      <td>9.890000</td>\n",
              "    </tr>\n",
              "    <tr>\n",
              "      <th>75%</th>\n",
              "      <td>44.510000</td>\n",
              "      <td>1.000000</td>\n",
              "      <td>1011.237500</td>\n",
              "      <td>0.060925</td>\n",
              "      <td>0.920000</td>\n",
              "      <td>11.187500</td>\n",
              "    </tr>\n",
              "    <tr>\n",
              "      <th>max</th>\n",
              "      <td>51.240000</td>\n",
              "      <td>1.000000</td>\n",
              "      <td>1021.790000</td>\n",
              "      <td>0.780700</td>\n",
              "      <td>0.980000</td>\n",
              "      <td>17.160000</td>\n",
              "    </tr>\n",
              "  </tbody>\n",
              "</table>\n",
              "</div>\n",
              "      <button class=\"colab-df-convert\" onclick=\"convertToInteractive('df-2811d0d1-f394-4576-937d-b2e392e8abbc')\"\n",
              "              title=\"Convert this dataframe to an interactive table.\"\n",
              "              style=\"display:none;\">\n",
              "        \n",
              "  <svg xmlns=\"http://www.w3.org/2000/svg\" height=\"24px\"viewBox=\"0 0 24 24\"\n",
              "       width=\"24px\">\n",
              "    <path d=\"M0 0h24v24H0V0z\" fill=\"none\"/>\n",
              "    <path d=\"M18.56 5.44l.94 2.06.94-2.06 2.06-.94-2.06-.94-.94-2.06-.94 2.06-2.06.94zm-11 1L8.5 8.5l.94-2.06 2.06-.94-2.06-.94L8.5 2.5l-.94 2.06-2.06.94zm10 10l.94 2.06.94-2.06 2.06-.94-2.06-.94-.94-2.06-.94 2.06-2.06.94z\"/><path d=\"M17.41 7.96l-1.37-1.37c-.4-.4-.92-.59-1.43-.59-.52 0-1.04.2-1.43.59L10.3 9.45l-7.72 7.72c-.78.78-.78 2.05 0 2.83L4 21.41c.39.39.9.59 1.41.59.51 0 1.02-.2 1.41-.59l7.78-7.78 2.81-2.81c.8-.78.8-2.07 0-2.86zM5.41 20L4 18.59l7.72-7.72 1.47 1.35L5.41 20z\"/>\n",
              "  </svg>\n",
              "      </button>\n",
              "      \n",
              "  <style>\n",
              "    .colab-df-container {\n",
              "      display:flex;\n",
              "      flex-wrap:wrap;\n",
              "      gap: 12px;\n",
              "    }\n",
              "\n",
              "    .colab-df-convert {\n",
              "      background-color: #E8F0FE;\n",
              "      border: none;\n",
              "      border-radius: 50%;\n",
              "      cursor: pointer;\n",
              "      display: none;\n",
              "      fill: #1967D2;\n",
              "      height: 32px;\n",
              "      padding: 0 0 0 0;\n",
              "      width: 32px;\n",
              "    }\n",
              "\n",
              "    .colab-df-convert:hover {\n",
              "      background-color: #E2EBFA;\n",
              "      box-shadow: 0px 1px 2px rgba(60, 64, 67, 0.3), 0px 1px 3px 1px rgba(60, 64, 67, 0.15);\n",
              "      fill: #174EA6;\n",
              "    }\n",
              "\n",
              "    [theme=dark] .colab-df-convert {\n",
              "      background-color: #3B4455;\n",
              "      fill: #D2E3FC;\n",
              "    }\n",
              "\n",
              "    [theme=dark] .colab-df-convert:hover {\n",
              "      background-color: #434B5C;\n",
              "      box-shadow: 0px 1px 3px 1px rgba(0, 0, 0, 0.15);\n",
              "      filter: drop-shadow(0px 1px 2px rgba(0, 0, 0, 0.3));\n",
              "      fill: #FFFFFF;\n",
              "    }\n",
              "  </style>\n",
              "\n",
              "      <script>\n",
              "        const buttonEl =\n",
              "          document.querySelector('#df-2811d0d1-f394-4576-937d-b2e392e8abbc button.colab-df-convert');\n",
              "        buttonEl.style.display =\n",
              "          google.colab.kernel.accessAllowed ? 'block' : 'none';\n",
              "\n",
              "        async function convertToInteractive(key) {\n",
              "          const element = document.querySelector('#df-2811d0d1-f394-4576-937d-b2e392e8abbc');\n",
              "          const dataTable =\n",
              "            await google.colab.kernel.invokeFunction('convertToInteractive',\n",
              "                                                     [key], {});\n",
              "          if (!dataTable) return;\n",
              "\n",
              "          const docLinkHtml = 'Like what you see? Visit the ' +\n",
              "            '<a target=\"_blank\" href=https://colab.research.google.com/notebooks/data_table.ipynb>data table notebook</a>'\n",
              "            + ' to learn more about interactive tables.';\n",
              "          element.innerHTML = '';\n",
              "          dataTable['output_type'] = 'display_data';\n",
              "          await google.colab.output.renderOutput(dataTable, element);\n",
              "          const docLink = document.createElement('div');\n",
              "          docLink.innerHTML = docLinkHtml;\n",
              "          element.appendChild(docLink);\n",
              "        }\n",
              "      </script>\n",
              "    </div>\n",
              "  </div>\n",
              "  "
            ]
          },
          "metadata": {},
          "execution_count": 238
        }
      ],
      "metadata": {
        "colab": {
          "base_uri": "https://localhost:8080/",
          "height": 0
        },
        "id": "wTUDgw0RgExM",
        "outputId": "a4042266-39bf-4894-bd77-7d3f60b9f12f"
      }
    },
    {
      "cell_type": "code",
      "execution_count": 239,
      "source": [
        "weather['rain'].value_counts()"
      ],
      "outputs": [
        {
          "output_type": "execute_result",
          "data": {
            "text/plain": [
              "0.0030    85\n",
              "0.0020    51\n",
              "0.0040    23\n",
              "0.0060    17\n",
              "0.0050    15\n",
              "          ..\n",
              "0.0337     1\n",
              "0.0243     1\n",
              "0.0367     1\n",
              "0.0347     1\n",
              "0.0281     1\n",
              "Name: rain, Length: 437, dtype: int64"
            ]
          },
          "metadata": {},
          "execution_count": 239
        }
      ],
      "metadata": {
        "colab": {
          "base_uri": "https://localhost:8080/"
        },
        "id": "Lhc1TbDkgExO",
        "outputId": "e60d54b2-4a59-45ac-97da-10049dbbcdc6",
        "scrolled": true
      }
    },
    {
      "cell_type": "markdown",
      "source": [
        "Rain feature nulls could indicate no rain"
      ],
      "metadata": {
        "id": "8zrw4OIKgExP"
      }
    },
    {
      "cell_type": "code",
      "execution_count": 240,
      "source": [
        "mergedData.shape"
      ],
      "outputs": [
        {
          "output_type": "execute_result",
          "data": {
            "text/plain": [
              "(554456, 17)"
            ]
          },
          "metadata": {},
          "execution_count": 240
        }
      ],
      "metadata": {
        "colab": {
          "base_uri": "https://localhost:8080/"
        },
        "id": "OwwdJRzmgExQ",
        "outputId": "38606b31-791f-4deb-9d00-09ba8c43169e"
      }
    },
    {
      "cell_type": "code",
      "execution_count": 241,
      "source": [
        "mergedData.isnull().sum()"
      ],
      "outputs": [
        {
          "output_type": "execute_result",
          "data": {
            "text/plain": [
              "distance                 0\n",
              "cab_type                 0\n",
              "destination              0\n",
              "source                   0\n",
              "surge_multiplier         0\n",
              "id                       0\n",
              "product_id               0\n",
              "name                     0\n",
              "price                44135\n",
              "date                     0\n",
              "temp                     0\n",
              "location                 0\n",
              "clouds                   0\n",
              "pressure                 0\n",
              "rain                480515\n",
              "humidity                 0\n",
              "wind                     0\n",
              "dtype: int64"
            ]
          },
          "metadata": {},
          "execution_count": 241
        }
      ],
      "metadata": {
        "colab": {
          "base_uri": "https://localhost:8080/"
        },
        "id": "kSHPRE5ngExR",
        "outputId": "c6a1d48d-ee97-4df9-8f10-19aad919e627"
      }
    },
    {
      "cell_type": "code",
      "execution_count": 242,
      "source": [
        "mergedData.corr()"
      ],
      "outputs": [
        {
          "output_type": "execute_result",
          "data": {
            "text/plain": [
              "                  distance  surge_multiplier     price      temp    clouds  \\\n",
              "distance          1.000000          0.024511  0.345093  0.010890 -0.002783   \n",
              "surge_multiplier  0.024511          1.000000  0.239984 -0.000994 -0.000788   \n",
              "price             0.345093          0.239984  1.000000  0.003128 -0.001234   \n",
              "temp              0.010890         -0.000994  0.003128  1.000000  0.565023   \n",
              "clouds           -0.002783         -0.000788 -0.001234  0.565023  1.000000   \n",
              "pressure         -0.002353         -0.003530 -0.001214 -0.292254  0.001757   \n",
              "rain             -0.039473         -0.008458 -0.011989  0.670202  0.328214   \n",
              "humidity          0.002052         -0.000201 -0.001571  0.370357  0.052333   \n",
              "wind             -0.000790          0.001716  0.001184 -0.026835  0.194617   \n",
              "\n",
              "                  pressure      rain  humidity      wind  \n",
              "distance         -0.002353 -0.039473  0.002052 -0.000790  \n",
              "surge_multiplier -0.003530 -0.008458 -0.000201  0.001716  \n",
              "price            -0.001214 -0.011989 -0.001571  0.001184  \n",
              "temp             -0.292254  0.670202  0.370357 -0.026835  \n",
              "clouds            0.001757  0.328214  0.052333  0.194617  \n",
              "pressure          1.000000 -0.127533 -0.068084 -0.477728  \n",
              "rain             -0.127533  1.000000 -0.580101  0.844514  \n",
              "humidity         -0.068084 -0.580101  1.000000 -0.400076  \n",
              "wind             -0.477728  0.844514 -0.400076  1.000000  "
            ],
            "text/html": [
              "\n",
              "  <div id=\"df-d9db514b-8d5b-4baa-b471-f332405e4168\">\n",
              "    <div class=\"colab-df-container\">\n",
              "      <div>\n",
              "<style scoped>\n",
              "    .dataframe tbody tr th:only-of-type {\n",
              "        vertical-align: middle;\n",
              "    }\n",
              "\n",
              "    .dataframe tbody tr th {\n",
              "        vertical-align: top;\n",
              "    }\n",
              "\n",
              "    .dataframe thead th {\n",
              "        text-align: right;\n",
              "    }\n",
              "</style>\n",
              "<table border=\"1\" class=\"dataframe\">\n",
              "  <thead>\n",
              "    <tr style=\"text-align: right;\">\n",
              "      <th></th>\n",
              "      <th>distance</th>\n",
              "      <th>surge_multiplier</th>\n",
              "      <th>price</th>\n",
              "      <th>temp</th>\n",
              "      <th>clouds</th>\n",
              "      <th>pressure</th>\n",
              "      <th>rain</th>\n",
              "      <th>humidity</th>\n",
              "      <th>wind</th>\n",
              "    </tr>\n",
              "  </thead>\n",
              "  <tbody>\n",
              "    <tr>\n",
              "      <th>distance</th>\n",
              "      <td>1.000000</td>\n",
              "      <td>0.024511</td>\n",
              "      <td>0.345093</td>\n",
              "      <td>0.010890</td>\n",
              "      <td>-0.002783</td>\n",
              "      <td>-0.002353</td>\n",
              "      <td>-0.039473</td>\n",
              "      <td>0.002052</td>\n",
              "      <td>-0.000790</td>\n",
              "    </tr>\n",
              "    <tr>\n",
              "      <th>surge_multiplier</th>\n",
              "      <td>0.024511</td>\n",
              "      <td>1.000000</td>\n",
              "      <td>0.239984</td>\n",
              "      <td>-0.000994</td>\n",
              "      <td>-0.000788</td>\n",
              "      <td>-0.003530</td>\n",
              "      <td>-0.008458</td>\n",
              "      <td>-0.000201</td>\n",
              "      <td>0.001716</td>\n",
              "    </tr>\n",
              "    <tr>\n",
              "      <th>price</th>\n",
              "      <td>0.345093</td>\n",
              "      <td>0.239984</td>\n",
              "      <td>1.000000</td>\n",
              "      <td>0.003128</td>\n",
              "      <td>-0.001234</td>\n",
              "      <td>-0.001214</td>\n",
              "      <td>-0.011989</td>\n",
              "      <td>-0.001571</td>\n",
              "      <td>0.001184</td>\n",
              "    </tr>\n",
              "    <tr>\n",
              "      <th>temp</th>\n",
              "      <td>0.010890</td>\n",
              "      <td>-0.000994</td>\n",
              "      <td>0.003128</td>\n",
              "      <td>1.000000</td>\n",
              "      <td>0.565023</td>\n",
              "      <td>-0.292254</td>\n",
              "      <td>0.670202</td>\n",
              "      <td>0.370357</td>\n",
              "      <td>-0.026835</td>\n",
              "    </tr>\n",
              "    <tr>\n",
              "      <th>clouds</th>\n",
              "      <td>-0.002783</td>\n",
              "      <td>-0.000788</td>\n",
              "      <td>-0.001234</td>\n",
              "      <td>0.565023</td>\n",
              "      <td>1.000000</td>\n",
              "      <td>0.001757</td>\n",
              "      <td>0.328214</td>\n",
              "      <td>0.052333</td>\n",
              "      <td>0.194617</td>\n",
              "    </tr>\n",
              "    <tr>\n",
              "      <th>pressure</th>\n",
              "      <td>-0.002353</td>\n",
              "      <td>-0.003530</td>\n",
              "      <td>-0.001214</td>\n",
              "      <td>-0.292254</td>\n",
              "      <td>0.001757</td>\n",
              "      <td>1.000000</td>\n",
              "      <td>-0.127533</td>\n",
              "      <td>-0.068084</td>\n",
              "      <td>-0.477728</td>\n",
              "    </tr>\n",
              "    <tr>\n",
              "      <th>rain</th>\n",
              "      <td>-0.039473</td>\n",
              "      <td>-0.008458</td>\n",
              "      <td>-0.011989</td>\n",
              "      <td>0.670202</td>\n",
              "      <td>0.328214</td>\n",
              "      <td>-0.127533</td>\n",
              "      <td>1.000000</td>\n",
              "      <td>-0.580101</td>\n",
              "      <td>0.844514</td>\n",
              "    </tr>\n",
              "    <tr>\n",
              "      <th>humidity</th>\n",
              "      <td>0.002052</td>\n",
              "      <td>-0.000201</td>\n",
              "      <td>-0.001571</td>\n",
              "      <td>0.370357</td>\n",
              "      <td>0.052333</td>\n",
              "      <td>-0.068084</td>\n",
              "      <td>-0.580101</td>\n",
              "      <td>1.000000</td>\n",
              "      <td>-0.400076</td>\n",
              "    </tr>\n",
              "    <tr>\n",
              "      <th>wind</th>\n",
              "      <td>-0.000790</td>\n",
              "      <td>0.001716</td>\n",
              "      <td>0.001184</td>\n",
              "      <td>-0.026835</td>\n",
              "      <td>0.194617</td>\n",
              "      <td>-0.477728</td>\n",
              "      <td>0.844514</td>\n",
              "      <td>-0.400076</td>\n",
              "      <td>1.000000</td>\n",
              "    </tr>\n",
              "  </tbody>\n",
              "</table>\n",
              "</div>\n",
              "      <button class=\"colab-df-convert\" onclick=\"convertToInteractive('df-d9db514b-8d5b-4baa-b471-f332405e4168')\"\n",
              "              title=\"Convert this dataframe to an interactive table.\"\n",
              "              style=\"display:none;\">\n",
              "        \n",
              "  <svg xmlns=\"http://www.w3.org/2000/svg\" height=\"24px\"viewBox=\"0 0 24 24\"\n",
              "       width=\"24px\">\n",
              "    <path d=\"M0 0h24v24H0V0z\" fill=\"none\"/>\n",
              "    <path d=\"M18.56 5.44l.94 2.06.94-2.06 2.06-.94-2.06-.94-.94-2.06-.94 2.06-2.06.94zm-11 1L8.5 8.5l.94-2.06 2.06-.94-2.06-.94L8.5 2.5l-.94 2.06-2.06.94zm10 10l.94 2.06.94-2.06 2.06-.94-2.06-.94-.94-2.06-.94 2.06-2.06.94z\"/><path d=\"M17.41 7.96l-1.37-1.37c-.4-.4-.92-.59-1.43-.59-.52 0-1.04.2-1.43.59L10.3 9.45l-7.72 7.72c-.78.78-.78 2.05 0 2.83L4 21.41c.39.39.9.59 1.41.59.51 0 1.02-.2 1.41-.59l7.78-7.78 2.81-2.81c.8-.78.8-2.07 0-2.86zM5.41 20L4 18.59l7.72-7.72 1.47 1.35L5.41 20z\"/>\n",
              "  </svg>\n",
              "      </button>\n",
              "      \n",
              "  <style>\n",
              "    .colab-df-container {\n",
              "      display:flex;\n",
              "      flex-wrap:wrap;\n",
              "      gap: 12px;\n",
              "    }\n",
              "\n",
              "    .colab-df-convert {\n",
              "      background-color: #E8F0FE;\n",
              "      border: none;\n",
              "      border-radius: 50%;\n",
              "      cursor: pointer;\n",
              "      display: none;\n",
              "      fill: #1967D2;\n",
              "      height: 32px;\n",
              "      padding: 0 0 0 0;\n",
              "      width: 32px;\n",
              "    }\n",
              "\n",
              "    .colab-df-convert:hover {\n",
              "      background-color: #E2EBFA;\n",
              "      box-shadow: 0px 1px 2px rgba(60, 64, 67, 0.3), 0px 1px 3px 1px rgba(60, 64, 67, 0.15);\n",
              "      fill: #174EA6;\n",
              "    }\n",
              "\n",
              "    [theme=dark] .colab-df-convert {\n",
              "      background-color: #3B4455;\n",
              "      fill: #D2E3FC;\n",
              "    }\n",
              "\n",
              "    [theme=dark] .colab-df-convert:hover {\n",
              "      background-color: #434B5C;\n",
              "      box-shadow: 0px 1px 3px 1px rgba(0, 0, 0, 0.15);\n",
              "      filter: drop-shadow(0px 1px 2px rgba(0, 0, 0, 0.3));\n",
              "      fill: #FFFFFF;\n",
              "    }\n",
              "  </style>\n",
              "\n",
              "      <script>\n",
              "        const buttonEl =\n",
              "          document.querySelector('#df-d9db514b-8d5b-4baa-b471-f332405e4168 button.colab-df-convert');\n",
              "        buttonEl.style.display =\n",
              "          google.colab.kernel.accessAllowed ? 'block' : 'none';\n",
              "\n",
              "        async function convertToInteractive(key) {\n",
              "          const element = document.querySelector('#df-d9db514b-8d5b-4baa-b471-f332405e4168');\n",
              "          const dataTable =\n",
              "            await google.colab.kernel.invokeFunction('convertToInteractive',\n",
              "                                                     [key], {});\n",
              "          if (!dataTable) return;\n",
              "\n",
              "          const docLinkHtml = 'Like what you see? Visit the ' +\n",
              "            '<a target=\"_blank\" href=https://colab.research.google.com/notebooks/data_table.ipynb>data table notebook</a>'\n",
              "            + ' to learn more about interactive tables.';\n",
              "          element.innerHTML = '';\n",
              "          dataTable['output_type'] = 'display_data';\n",
              "          await google.colab.output.renderOutput(dataTable, element);\n",
              "          const docLink = document.createElement('div');\n",
              "          docLink.innerHTML = docLinkHtml;\n",
              "          element.appendChild(docLink);\n",
              "        }\n",
              "      </script>\n",
              "    </div>\n",
              "  </div>\n",
              "  "
            ]
          },
          "metadata": {},
          "execution_count": 242
        }
      ],
      "metadata": {
        "colab": {
          "base_uri": "https://localhost:8080/",
          "height": 0
        },
        "id": "WOtp8VqegExT",
        "outputId": "1a3875ec-c0a0-4df3-ed48-821dbedddd31"
      }
    },
    {
      "cell_type": "code",
      "execution_count": 243,
      "source": [
        "mergedData.drop('location',axis=1,inplace=True)"
      ],
      "outputs": [],
      "metadata": {
        "id": "YfC744oTgExV"
      }
    },
    {
      "cell_type": "code",
      "execution_count": 244,
      "source": [
        "def label_encode(feature):\n",
        "    featureEncoder = LabelEncoder()\n",
        "    featureEncoder.fit(feature)\n",
        "    feature = featureEncoder.transform(feature)\n",
        "    return feature"
      ],
      "outputs": [],
      "metadata": {
        "id": "eOh-RSUNgExW"
      }
    },
    {
      "cell_type": "markdown",
      "source": [
        "# Data Visualization"
      ],
      "metadata": {
        "id": "E-HNbEFTgExX"
      }
    },
    {
      "cell_type": "code",
      "execution_count": 245,
      "source": [
        "# to make the bars sorted\n",
        "mergedData.sort_values('price', inplace=True)\n",
        "\n",
        "plt.figure(figsize =(16,6))\n",
        "sns.barplot(data=mergedData,x='name',y='price',hue='cab_type')\n",
        "plt.show()"
      ],
      "outputs": [
        {
          "output_type": "display_data",
          "data": {
            "text/plain": [
              "<Figure size 1152x432 with 1 Axes>"
            ],
            "image/png": "[encoded data removed]"
          },
          "metadata": {
            "needs_background": "light"
          }
        }
      ],
      "metadata": {
        "colab": {
          "base_uri": "https://localhost:8080/",
          "height": 388
        },
        "id": "qoIxn6orgExY",
        "outputId": "01218d2d-5214-45d9-a3dd-d6eb11a23312"
      }
    },
    {
      "cell_type": "markdown",
      "source": [
        "Apparently all *price* values of *Taxi* are missing, could all the missing values from *price* be from the *taxi* cab type? we need to verify this"
      ],
      "metadata": {
        "id": "NuMQ3wOhu2XE"
      }
    },
    {
      "cell_type": "code",
      "execution_count": 246,
      "source": [
        "taxiNullValues = mergedData[mergedData['price'].isnull()]['name'].value_counts()['Taxi']\n",
        "totalNullValues = mergedData.isnull().sum()['price']\n",
        "print(f\"There are {taxiNullValues} price null values with Taxi as cab_type from a total of {totalNullValues} \\\n",
        ": {taxiNullValues / totalNullValues * 100}%\")"
      ],
      "outputs": [
        {
          "output_type": "stream",
          "name": "stdout",
          "text": [
            "There are 44135 price null values with Taxi as cab_type from a total of 44135 : 100.0%\n"
          ]
        }
      ],
      "metadata": {
        "colab": {
          "base_uri": "https://localhost:8080/"
        },
        "id": "FCm6ZcVRvy_G",
        "outputId": "f1fdf942-b89e-4710-a4f9-e52a79c5c629"
      }
    },
    {
      "cell_type": "code",
      "execution_count": 247,
      "source": [
        "plt.figure(figsize =(16,6))\n",
        "sns.lineplot(data=mergedData,x='distance',y='price')\n",
        "plt.show()"
      ],
      "outputs": [
        {
          "output_type": "display_data",
          "data": {
            "text/plain": [
              "<Figure size 1152x432 with 1 Axes>"
            ],
            "image/png": "[encoded data removed]"
          },
          "metadata": {
            "needs_background": "light"
          }
        }
      ],
      "metadata": {
        "colab": {
          "base_uri": "https://localhost:8080/",
          "height": 388
        },
        "id": "0CUjxInRgExZ",
        "outputId": "397817e6-9e64-438a-89bb-29f195bed89b"
      }
    },
    {
      "cell_type": "markdown",
      "source": [
        "Price as expected increases with distance, however there are some spikes that must have other factors contributing in"
      ],
      "metadata": {
        "id": "diSWAs9gyhJn"
      }
    },
    {
      "cell_type": "markdown",
      "source": [
        "## Weather Graphs"
      ],
      "metadata": {
        "id": "76GX5AA0ziDe"
      }
    },
    {
      "cell_type": "code",
      "execution_count": 248,
      "source": [
        "plt.figure(figsize =(16,6))\n",
        "sns.relplot(data=mergedData,x='temp',y='clouds')\n",
        "plt.show()"
      ],
      "outputs": [
        {
          "output_type": "display_data",
          "data": {
            "text/plain": [
              "<Figure size 1152x432 with 0 Axes>"
            ]
          },
          "metadata": {}
        },
        {
          "output_type": "display_data",
          "data": {
            "text/plain": [
              "<Figure size 360x360 with 1 Axes>"
            ],
            "image/png": "[encoded data removed]"
          },
          "metadata": {
            "needs_background": "light"
          }
        }
      ],
      "metadata": {
        "colab": {
          "base_uri": "https://localhost:8080/",
          "height": 386
        },
        "id": "yKVURUOMgExi",
        "outputId": "61ef2a58-1abb-46ad-c005-874e1b168321"
      }
    },
    {
      "cell_type": "code",
      "execution_count": 249,
      "source": [
        "plt.figure(figsize =(16,6))\n",
        "sns.relplot(data=mergedData,x='temp',y='humidity')\n",
        "plt.show()"
      ],
      "outputs": [
        {
          "output_type": "display_data",
          "data": {
            "text/plain": [
              "<Figure size 1152x432 with 0 Axes>"
            ]
          },
          "metadata": {}
        },
        {
          "output_type": "display_data",
          "data": {
            "text/plain": [
              "<Figure size 360x360 with 1 Axes>"
            ],
            "image/png": "[encoded data removed]"
          },
          "metadata": {
            "needs_background": "light"
          }
        }
      ],
      "metadata": {
        "colab": {
          "base_uri": "https://localhost:8080/",
          "height": 386
        },
        "id": "OupfXsoigExk",
        "outputId": "510e221b-4e5a-4bd4-b083-6faa2fe5baa6"
      }
    },
    {
      "cell_type": "code",
      "execution_count": 250,
      "source": [
        "plt.figure(figsize =(16,6))\n",
        "sns.lineplot(data=mergedData,x='pressure',y='wind')\n",
        "plt.show()"
      ],
      "outputs": [
        {
          "output_type": "display_data",
          "data": {
            "text/plain": [
              "<Figure size 1152x432 with 1 Axes>"
            ],
            "image/png": "[encoded data removed]"
          },
          "metadata": {
            "needs_background": "light"
          }
        }
      ],
      "metadata": {
        "colab": {
          "base_uri": "https://localhost:8080/",
          "height": 388
        },
        "id": "iRgiUwM7gExl",
        "outputId": "c71c859a-ab59-43f4-99be-aa6367ef2e53"
      }
    },
    {
      "cell_type": "code",
      "execution_count": 251,
      "source": [
        "mergedData['cab_type'].hist()\n",
        "plt.show()"
      ],
      "outputs": [
        {
          "output_type": "display_data",
          "data": {
            "text/plain": [
              "<Figure size 432x288 with 1 Axes>"
            ],
            "image/png": "[encoded data removed]"
          },
          "metadata": {
            "needs_background": "light"
          }
        }
      ],
      "metadata": {
        "colab": {
          "base_uri": "https://localhost:8080/",
          "height": 265
        },
        "id": "3aQdxYxjgExn",
        "outputId": "9b2b28a2-7c7b-43e3-9949-7a330cb6f131"
      }
    },
    {
      "cell_type": "code",
      "execution_count": 252,
      "source": [
        "mergedData['surge_multiplier'].hist()"
      ],
      "outputs": [
        {
          "output_type": "execute_result",
          "data": {
            "text/plain": [
              "<matplotlib.axes._subplots.AxesSubplot at 0x7fe75b28f710>"
            ]
          },
          "metadata": {},
          "execution_count": 252
        },
        {
          "output_type": "display_data",
          "data": {
            "text/plain": [
              "<Figure size 432x288 with 1 Axes>"
            ],
            "image/png": "[encoded data removed]"
          },
          "metadata": {
            "needs_background": "light"
          }
        }
      ],
      "metadata": {
        "colab": {
          "base_uri": "https://localhost:8080/",
          "height": 282
        },
        "id": "k90TNYI_gExp",
        "outputId": "71a040f6-4e4b-4fc7-cd48-800ebcd47957"
      }
    },
    {
      "cell_type": "code",
      "execution_count": 253,
      "source": [
        "mergedData.dropna(axis=0, subset=['price'], inplace=True)"
      ],
      "outputs": [],
      "metadata": {
        "id": "AWkX1aWKgExq"
      }
    },
    {
      "cell_type": "code",
      "execution_count": 254,
      "source": [
        "mergedData['weekday'] = pd.to_datetime(mergedData['date']).apply(lambda x: int(x.strftime('%w')))\n",
        "mergedData['weekday'] = (mergedData['weekday']<5).astype(int)"
      ],
      "outputs": [],
      "metadata": {
        "id": "TglvXnja1StT"
      }
    },
    {
      "cell_type": "code",
      "execution_count": 255,
      "source": [
        "def encode_features(X, dontEncode):\n",
        "  for feature in nonIntegerColumns:\n",
        "    if feature in dontEncode:\n",
        "      continue\n",
        "    X[feature] = label_encode(X[feature])\n",
        "  return X"
      ],
      "outputs": [],
      "metadata": {
        "id": "oTkYZBGV1StT"
      }
    },
    {
      "cell_type": "code",
      "execution_count": 256,
      "source": [
        "encode_features(mergedData, dontEncode=['name'])\n",
        "\n",
        "services = ['Shared', 'UberPool', 'Lyft', 'Taxi', 'WAV', 'UberX', 'UberXL', 'Lyft XL', 'Lux', 'Black',\n",
        "            'Lux Black', 'Black SUV', 'Lux Black XL']\n",
        "\n",
        "labels = [0, 1, 1, 1, 1, 1, 2, 2, 2, 3, 3, 4, 4]\n",
        "\n",
        "mergedData['name'].replace(services, labels, inplace=True)"
      ],
      "outputs": [],
      "metadata": {
        "id": "T75gNhpN1StT"
      }
    },
    {
      "cell_type": "code",
      "execution_count": 257,
      "source": [
        "mergedData.drop(['date', 'id', 'product_id'], axis=1, inplace=True)\n"
      ],
      "outputs": [],
      "metadata": {
        "id": "bqfV_FBH1StT"
      }
    },
    {
      "cell_type": "code",
      "source": [
        "mergedData.rename(columns = {'name':'ride_class'}, inplace = True)\n"
      ],
      "metadata": {
        "id": "JCesTNMuFiEb"
      },
      "execution_count": 258,
      "outputs": []
    },
    {
      "cell_type": "code",
      "execution_count": 259,
      "source": [
        "mergedData.head()"
      ],
      "outputs": [
        {
          "output_type": "execute_result",
          "data": {
            "text/plain": [
              "        distance  cab_type  destination  source  surge_multiplier  ride_class  \\\n",
              "538883      2.33         0            2       1               1.0           0   \n",
              "346062      0.98         0            7       6               1.0           0   \n",
              "270683      1.73         0            5      10               1.0           0   \n",
              "171673      1.52         0            2       0               1.0           0   \n",
              "401607      0.73         0            5       7               1.0           0   \n",
              "\n",
              "        price   temp  clouds  pressure    rain  humidity   wind  weekday  \n",
              "538883    2.5  36.33    0.29   1001.77     NaN      0.69  10.03        1  \n",
              "346062    2.5  39.21    0.82    996.07     NaN      0.66  10.75        1  \n",
              "270683    2.5  27.03    0.15   1033.40     NaN      0.82   3.03        0  \n",
              "171673    2.5  42.42    1.00   1012.14  0.1228      0.77  11.25        1  \n",
              "401607    2.5  25.40    0.80   1006.20     NaN      0.53  18.09        1  "
            ],
            "text/html": [
              "\n",
              "  <div id=\"df-6a97ce31-d8b3-4635-86eb-ccc385de2c49\">\n",
              "    <div class=\"colab-df-container\">\n",
              "      <div>\n",
              "<style scoped>\n",
              "    .dataframe tbody tr th:only-of-type {\n",
              "        vertical-align: middle;\n",
              "    }\n",
              "\n",
              "    .dataframe tbody tr th {\n",
              "        vertical-align: top;\n",
              "    }\n",
              "\n",
              "    .dataframe thead th {\n",
              "        text-align: right;\n",
              "    }\n",
              "</style>\n",
              "<table border=\"1\" class=\"dataframe\">\n",
              "  <thead>\n",
              "    <tr style=\"text-align: right;\">\n",
              "      <th></th>\n",
              "      <th>distance</th>\n",
              "      <th>cab_type</th>\n",
              "      <th>destination</th>\n",
              "      <th>source</th>\n",
              "      <th>surge_multiplier</th>\n",
              "      <th>ride_class</th>\n",
              "      <th>price</th>\n",
              "      <th>temp</th>\n",
              "      <th>clouds</th>\n",
              "      <th>pressure</th>\n",
              "      <th>rain</th>\n",
              "      <th>humidity</th>\n",
              "      <th>wind</th>\n",
              "      <th>weekday</th>\n",
              "    </tr>\n",
              "  </thead>\n",
              "  <tbody>\n",
              "    <tr>\n",
              "      <th>538883</th>\n",
              "      <td>2.33</td>\n",
              "      <td>0</td>\n",
              "      <td>2</td>\n",
              "      <td>1</td>\n",
              "      <td>1.0</td>\n",
              "      <td>0</td>\n",
              "      <td>2.5</td>\n",
              "      <td>36.33</td>\n",
              "      <td>0.29</td>\n",
              "      <td>1001.77</td>\n",
              "      <td>NaN</td>\n",
              "      <td>0.69</td>\n",
              "      <td>10.03</td>\n",
              "      <td>1</td>\n",
              "    </tr>\n",
              "    <tr>\n",
              "      <th>346062</th>\n",
              "      <td>0.98</td>\n",
              "      <td>0</td>\n",
              "      <td>7</td>\n",
              "      <td>6</td>\n",
              "      <td>1.0</td>\n",
              "      <td>0</td>\n",
              "      <td>2.5</td>\n",
              "      <td>39.21</td>\n",
              "      <td>0.82</td>\n",
              "      <td>996.07</td>\n",
              "      <td>NaN</td>\n",
              "      <td>0.66</td>\n",
              "      <td>10.75</td>\n",
              "      <td>1</td>\n",
              "    </tr>\n",
              "    <tr>\n",
              "      <th>270683</th>\n",
              "      <td>1.73</td>\n",
              "      <td>0</td>\n",
              "      <td>5</td>\n",
              "      <td>10</td>\n",
              "      <td>1.0</td>\n",
              "      <td>0</td>\n",
              "      <td>2.5</td>\n",
              "      <td>27.03</td>\n",
              "      <td>0.15</td>\n",
              "      <td>1033.40</td>\n",
              "      <td>NaN</td>\n",
              "      <td>0.82</td>\n",
              "      <td>3.03</td>\n",
              "      <td>0</td>\n",
              "    </tr>\n",
              "    <tr>\n",
              "      <th>171673</th>\n",
              "      <td>1.52</td>\n",
              "      <td>0</td>\n",
              "      <td>2</td>\n",
              "      <td>0</td>\n",
              "      <td>1.0</td>\n",
              "      <td>0</td>\n",
              "      <td>2.5</td>\n",
              "      <td>42.42</td>\n",
              "      <td>1.00</td>\n",
              "      <td>1012.14</td>\n",
              "      <td>0.1228</td>\n",
              "      <td>0.77</td>\n",
              "      <td>11.25</td>\n",
              "      <td>1</td>\n",
              "    </tr>\n",
              "    <tr>\n",
              "      <th>401607</th>\n",
              "      <td>0.73</td>\n",
              "      <td>0</td>\n",
              "      <td>5</td>\n",
              "      <td>7</td>\n",
              "      <td>1.0</td>\n",
              "      <td>0</td>\n",
              "      <td>2.5</td>\n",
              "      <td>25.40</td>\n",
              "      <td>0.80</td>\n",
              "      <td>1006.20</td>\n",
              "      <td>NaN</td>\n",
              "      <td>0.53</td>\n",
              "      <td>18.09</td>\n",
              "      <td>1</td>\n",
              "    </tr>\n",
              "  </tbody>\n",
              "</table>\n",
              "</div>\n",
              "      <button class=\"colab-df-convert\" onclick=\"convertToInteractive('df-6a97ce31-d8b3-4635-86eb-ccc385de2c49')\"\n",
              "              title=\"Convert this dataframe to an interactive table.\"\n",
              "              style=\"display:none;\">\n",
              "        \n",
              "  <svg xmlns=\"http://www.w3.org/2000/svg\" height=\"24px\"viewBox=\"0 0 24 24\"\n",
              "       width=\"24px\">\n",
              "    <path d=\"M0 0h24v24H0V0z\" fill=\"none\"/>\n",
              "    <path d=\"M18.56 5.44l.94 2.06.94-2.06 2.06-.94-2.06-.94-.94-2.06-.94 2.06-2.06.94zm-11 1L8.5 8.5l.94-2.06 2.06-.94-2.06-.94L8.5 2.5l-.94 2.06-2.06.94zm10 10l.94 2.06.94-2.06 2.06-.94-2.06-.94-.94-2.06-.94 2.06-2.06.94z\"/><path d=\"M17.41 7.96l-1.37-1.37c-.4-.4-.92-.59-1.43-.59-.52 0-1.04.2-1.43.59L10.3 9.45l-7.72 7.72c-.78.78-.78 2.05 0 2.83L4 21.41c.39.39.9.59 1.41.59.51 0 1.02-.2 1.41-.59l7.78-7.78 2.81-2.81c.8-.78.8-2.07 0-2.86zM5.41 20L4 18.59l7.72-7.72 1.47 1.35L5.41 20z\"/>\n",
              "  </svg>\n",
              "      </button>\n",
              "      \n",
              "  <style>\n",
              "    .colab-df-container {\n",
              "      display:flex;\n",
              "      flex-wrap:wrap;\n",
              "      gap: 12px;\n",
              "    }\n",
              "\n",
              "    .colab-df-convert {\n",
              "      background-color: #E8F0FE;\n",
              "      border: none;\n",
              "      border-radius: 50%;\n",
              "      cursor: pointer;\n",
              "      display: none;\n",
              "      fill: #1967D2;\n",
              "      height: 32px;\n",
              "      padding: 0 0 0 0;\n",
              "      width: 32px;\n",
              "    }\n",
              "\n",
              "    .colab-df-convert:hover {\n",
              "      background-color: #E2EBFA;\n",
              "      box-shadow: 0px 1px 2px rgba(60, 64, 67, 0.3), 0px 1px 3px 1px rgba(60, 64, 67, 0.15);\n",
              "      fill: #174EA6;\n",
              "    }\n",
              "\n",
              "    [theme=dark] .colab-df-convert {\n",
              "      background-color: #3B4455;\n",
              "      fill: #D2E3FC;\n",
              "    }\n",
              "\n",
              "    [theme=dark] .colab-df-convert:hover {\n",
              "      background-color: #434B5C;\n",
              "      box-shadow: 0px 1px 3px 1px rgba(0, 0, 0, 0.15);\n",
              "      filter: drop-shadow(0px 1px 2px rgba(0, 0, 0, 0.3));\n",
              "      fill: #FFFFFF;\n",
              "    }\n",
              "  </style>\n",
              "\n",
              "      <script>\n",
              "        const buttonEl =\n",
              "          document.querySelector('#df-6a97ce31-d8b3-4635-86eb-ccc385de2c49 button.colab-df-convert');\n",
              "        buttonEl.style.display =\n",
              "          google.colab.kernel.accessAllowed ? 'block' : 'none';\n",
              "\n",
              "        async function convertToInteractive(key) {\n",
              "          const element = document.querySelector('#df-6a97ce31-d8b3-4635-86eb-ccc385de2c49');\n",
              "          const dataTable =\n",
              "            await google.colab.kernel.invokeFunction('convertToInteractive',\n",
              "                                                     [key], {});\n",
              "          if (!dataTable) return;\n",
              "\n",
              "          const docLinkHtml = 'Like what you see? Visit the ' +\n",
              "            '<a target=\"_blank\" href=https://colab.research.google.com/notebooks/data_table.ipynb>data table notebook</a>'\n",
              "            + ' to learn more about interactive tables.';\n",
              "          element.innerHTML = '';\n",
              "          dataTable['output_type'] = 'display_data';\n",
              "          await google.colab.output.renderOutput(dataTable, element);\n",
              "          const docLink = document.createElement('div');\n",
              "          docLink.innerHTML = docLinkHtml;\n",
              "          element.appendChild(docLink);\n",
              "        }\n",
              "      </script>\n",
              "    </div>\n",
              "  </div>\n",
              "  "
            ]
          },
          "metadata": {},
          "execution_count": 259
        }
      ],
      "metadata": {
        "colab": {
          "base_uri": "https://localhost:8080/",
          "height": 250
        },
        "id": "5VnSgy6M1StU",
        "outputId": "0ca8ba30-fa9a-40ad-a82d-d090cfbcc6e6"
      }
    },
    {
      "cell_type": "code",
      "execution_count": 260,
      "source": [
        "mergedData.shape"
      ],
      "outputs": [
        {
          "output_type": "execute_result",
          "data": {
            "text/plain": [
              "(510321, 14)"
            ]
          },
          "metadata": {},
          "execution_count": 260
        }
      ],
      "metadata": {
        "colab": {
          "base_uri": "https://localhost:8080/"
        },
        "id": "c1m0LG9T1StU",
        "outputId": "56332afa-2893-4193-e410-cc9c288aa185"
      }
    },
    {
      "cell_type": "code",
      "execution_count": 261,
      "source": [
        "mergedData['rain'].fillna(0,inplace=True)"
      ],
      "outputs": [],
      "metadata": {
        "id": "f27SNTSR1StU"
      }
    },
    {
      "cell_type": "markdown",
      "source": [
        "### Model"
      ],
      "metadata": {
        "id": "GXsfljQJ1StU"
      }
    },
    {
      "cell_type": "code",
      "execution_count": 262,
      "source": [
        "def fit(dataFeatures,dataLabel):\n",
        "    linearRegressionModel = linear_model.LinearRegression()\n",
        "    linearRegressionModel.fit(dataFeatures,dataLabel)\n",
        "    return linearRegressionModel"
      ],
      "outputs": [],
      "metadata": {
        "id": "jR1xKgZM1StU"
      }
    },
    {
      "cell_type": "code",
      "execution_count": 263,
      "source": [
        "def predictLabelFor(dataFeatures):\n",
        "    prediction = linearRegressionModel.predict(dataFeatures)\n",
        "    return prediction"
      ],
      "outputs": [],
      "metadata": {
        "id": "b_5iRhO21StV"
      }
    },
    {
      "cell_type": "code",
      "execution_count": 264,
      "source": [
        "def split(dataFeatures,dataLabel):\n",
        "    trainingDataFeatures , testingDataFeatures , trainingDataLabel , testingDataLabel = train_test_split(dataFeatures,dataLabel,shuffle=True,random_state=10,test_size=0.2)\n",
        "    return  trainingDataFeatures , testingDataFeatures , trainingDataLabel , testingDataLabel"
      ],
      "outputs": [],
      "metadata": {
        "id": "6IgOhUjU1StV"
      }
    },
    {
      "cell_type": "code",
      "execution_count": 265,
      "source": [
        "def calculateCostFor(dataLabel,prediction):\n",
        "    return metrics.mean_squared_error(dataLabel,prediction)"
      ],
      "outputs": [],
      "metadata": {
        "id": "TBXXB9j_1StV"
      }
    },
    {
      "cell_type": "code",
      "execution_count": 266,
      "source": [
        "def changeDegreeOf(dataFeatures):\n",
        "     polynomialFunction = PolynomialFeatures(degree=3)\n",
        "     polynomialDataFeatures = polynomialFunction.fit_transform(dataFeatures)\n",
        "     return polynomialDataFeatures"
      ],
      "outputs": [],
      "metadata": {
        "id": "Hw7WA6lr1StV"
      }
    },
    {
      "cell_type": "code",
      "execution_count": 267,
      "source": [
        "dataFeatures = mergedData.drop('price',axis=1)\n",
        "dataLabel = mergedData['price']"
      ],
      "outputs": [],
      "metadata": {
        "id": "J0QCwmna1StV"
      }
    },
    {
      "cell_type": "code",
      "source": [
        ""
      ],
      "metadata": {
        "id": "4J4HqUsq5v_a"
      },
      "execution_count": 267,
      "outputs": []
    },
    {
      "cell_type": "markdown",
      "source": [
        "### First Model"
      ],
      "metadata": {
        "id": "t-WWeYw61StV"
      }
    },
    {
      "cell_type": "code",
      "execution_count": 268,
      "source": [
        "trainingDataFeatures , testingDataFeatures , trainingDataLabel , testingDataLabel = split(dataFeatures,dataLabel)\n",
        "linearRegressionModel = fit(trainingDataFeatures,trainingDataLabel)\n",
        "linearTrainingDataPrediction = predictLabelFor(trainingDataFeatures)\n",
        "costForTraining = calculateCostFor(trainingDataLabel,linearTrainingDataPrediction)\n",
        "print(costForTraining)"
      ],
      "outputs": [
        {
          "output_type": "stream",
          "name": "stdout",
          "text": [
            "8.134621673752063\n"
          ]
        }
      ],
      "metadata": {
        "id": "5qN-9kuH1StW",
        "outputId": "dd3730bd-4e32-4d5d-a501-60ce82c0cf1d",
        "colab": {
          "base_uri": "https://localhost:8080/"
        }
      }
    },
    {
      "cell_type": "code",
      "execution_count": 269,
      "source": [
        "linearTestingDataPrediction = predictLabelFor(testingDataFeatures)\n",
        "costForTesting = calculateCostFor(testingDataLabel,linearTestingDataPrediction)\n",
        "print(costForTesting)"
      ],
      "outputs": [
        {
          "output_type": "stream",
          "name": "stdout",
          "text": [
            "7.948038805588955\n"
          ]
        }
      ],
      "metadata": {
        "id": "1GpYR2F21StW",
        "outputId": "b1708245-5085-49c2-926a-3727998f7b56",
        "colab": {
          "base_uri": "https://localhost:8080/"
        }
      }
    },
    {
      "cell_type": "markdown",
      "source": [
        "### Second Model"
      ],
      "metadata": {
        "id": "6-BqiZIn1StW"
      }
    },
    {
      "cell_type": "code",
      "execution_count": 270,
      "source": [
        "polynomialDataFeatures = changeDegreeOf(dataFeatures)"
      ],
      "outputs": [],
      "metadata": {
        "id": "nLjZ62I91StW"
      }
    },
    {
      "cell_type": "code",
      "execution_count": 271,
      "source": [
        "polynomialDataFeatures.shape"
      ],
      "outputs": [
        {
          "output_type": "execute_result",
          "data": {
            "text/plain": [
              "(510321, 560)"
            ]
          },
          "metadata": {},
          "execution_count": 271
        }
      ],
      "metadata": {
        "id": "mG67wlSU1StW",
        "outputId": "6b44562e-062f-4f78-8a2d-d8a8873d265e",
        "colab": {
          "base_uri": "https://localhost:8080/"
        }
      }
    },
    {
      "cell_type": "code",
      "execution_count": 272,
      "source": [
        "polynomialTrainingDataFeatures , polynomialTestingDataFeatures , trainingDataLabel , testingDataLabel = split(polynomialDataFeatures,dataLabel)\n",
        "linearRegressionModel = fit(polynomialTrainingDataFeatures,trainingDataLabel)\n",
        "polynomialTrainingDataPrediction = predictLabelFor(polynomialTrainingDataFeatures)\n",
        "costForPolynomialTraining = calculateCostFor(trainingDataLabel,polynomialTrainingDataPrediction)\n",
        "print(costForPolynomialTraining)"
      ],
      "outputs": [
        {
          "output_type": "stream",
          "name": "stdout",
          "text": [
            "4.013026441435633\n"
          ]
        }
      ],
      "metadata": {
        "id": "cWo9CJt51StW",
        "outputId": "4a3339fc-658d-40cc-db37-1090c1262da1",
        "colab": {
          "base_uri": "https://localhost:8080/"
        }
      }
    },
    {
      "cell_type": "code",
      "execution_count": 273,
      "source": [
        "polynomialTestingDataPrediction = predictLabelFor(polynomialTestingDataFeatures)\n",
        "costForPolynomialTesting = calculateCostFor(testingDataLabel,polynomialTestingDataPrediction)\n",
        "print(costForPolynomialTesting)"
      ],
      "outputs": [
        {
          "output_type": "stream",
          "name": "stdout",
          "text": [
            "3.936806850307293\n"
          ]
        }
      ],
      "metadata": {
        "id": "x0ni3_AV1StX",
        "outputId": "87b43004-241e-456e-c3a3-a9dd72bcee07",
        "colab": {
          "base_uri": "https://localhost:8080/"
        }
      }
    },
    {
      "cell_type": "code",
      "source": [
        ""
      ],
      "metadata": {
        "id": "CA6HnIhk-GRq"
      },
      "execution_count": 273,
      "outputs": []
    },
    {
      "cell_type": "markdown",
      "source": [
        "#Generate Results Dataframe"
      ],
      "metadata": {
        "id": "B5NMtDzA-mVi"
      }
    },
    {
      "cell_type": "code",
      "execution_count": 274,
      "source": [
        "def createDataFrameFor(data):\n",
        "    if data == 'training':\n",
        "        trainingDataFrame = pd.DataFrame()\n",
        "        trainingDataFrame['trainingDataLabel'] = trainingDataLabel\n",
        "        trainingDataFrame['linearModelTrainingDataPrediction'] = linearTrainingDataPrediction\n",
        "        trainingDataFrame['polynomialTrainingDataPrediction'] = polynomialTrainingDataPrediction\n",
        "        return trainingDataFrame\n",
        "    else:    \n",
        "        testingDataFrame = pd.DataFrame()\n",
        "        testingDataFrame['testingDataLabel'] = testingDataLabel\n",
        "        testingDataFrame['linearModelTestingDataPrediction'] = linearTestingDataPrediction\n",
        "        testingDataFrame['polynomialTestingDataPrediction'] = polynomialTestingDataPrediction\n",
        "        return testingDataFrame"
      ],
      "outputs": [],
      "metadata": {
        "id": "QIbLHNuy1StX"
      }
    },
    {
      "cell_type": "code",
      "execution_count": 275,
      "source": [
        "typeOfData = ['training','testing']\n",
        "trainingLabelDataFrame = createDataFrameFor(typeOfData[0])\n",
        "testingLabelDataFrame = createDataFrameFor(typeOfData[1])"
      ],
      "outputs": [],
      "metadata": {
        "id": "6W9d9pAo1StX"
      }
    },
    {
      "cell_type": "code",
      "execution_count": 276,
      "source": [
        "trainingLabelDataFrame.head()"
      ],
      "outputs": [
        {
          "output_type": "execute_result",
          "data": {
            "text/plain": [
              "        trainingDataLabel  linearModelTrainingDataPrediction  \\\n",
              "540847               14.0                          15.467055   \n",
              "137668               38.5                          32.747004   \n",
              "451210               13.5                          14.849945   \n",
              "434909               11.0                          12.375055   \n",
              "424230               19.5                          17.444873   \n",
              "\n",
              "        polynomialTrainingDataPrediction  \n",
              "540847                         13.694043  \n",
              "137668                         35.815190  \n",
              "451210                         13.124785  \n",
              "434909                         10.169027  \n",
              "424230                         16.944208  "
            ],
            "text/html": [
              "\n",
              "  <div id=\"df-9bc43a5a-d46a-4e63-9c9d-10280dd0e729\">\n",
              "    <div class=\"colab-df-container\">\n",
              "      <div>\n",
              "<style scoped>\n",
              "    .dataframe tbody tr th:only-of-type {\n",
              "        vertical-align: middle;\n",
              "    }\n",
              "\n",
              "    .dataframe tbody tr th {\n",
              "        vertical-align: top;\n",
              "    }\n",
              "\n",
              "    .dataframe thead th {\n",
              "        text-align: right;\n",
              "    }\n",
              "</style>\n",
              "<table border=\"1\" class=\"dataframe\">\n",
              "  <thead>\n",
              "    <tr style=\"text-align: right;\">\n",
              "      <th></th>\n",
              "      <th>trainingDataLabel</th>\n",
              "      <th>linearModelTrainingDataPrediction</th>\n",
              "      <th>polynomialTrainingDataPrediction</th>\n",
              "    </tr>\n",
              "  </thead>\n",
              "  <tbody>\n",
              "    <tr>\n",
              "      <th>540847</th>\n",
              "      <td>14.0</td>\n",
              "      <td>15.467055</td>\n",
              "      <td>13.694043</td>\n",
              "    </tr>\n",
              "    <tr>\n",
              "      <th>137668</th>\n",
              "      <td>38.5</td>\n",
              "      <td>32.747004</td>\n",
              "      <td>35.815190</td>\n",
              "    </tr>\n",
              "    <tr>\n",
              "      <th>451210</th>\n",
              "      <td>13.5</td>\n",
              "      <td>14.849945</td>\n",
              "      <td>13.124785</td>\n",
              "    </tr>\n",
              "    <tr>\n",
              "      <th>434909</th>\n",
              "      <td>11.0</td>\n",
              "      <td>12.375055</td>\n",
              "      <td>10.169027</td>\n",
              "    </tr>\n",
              "    <tr>\n",
              "      <th>424230</th>\n",
              "      <td>19.5</td>\n",
              "      <td>17.444873</td>\n",
              "      <td>16.944208</td>\n",
              "    </tr>\n",
              "  </tbody>\n",
              "</table>\n",
              "</div>\n",
              "      <button class=\"colab-df-convert\" onclick=\"convertToInteractive('df-9bc43a5a-d46a-4e63-9c9d-10280dd0e729')\"\n",
              "              title=\"Convert this dataframe to an interactive table.\"\n",
              "              style=\"display:none;\">\n",
              "        \n",
              "  <svg xmlns=\"http://www.w3.org/2000/svg\" height=\"24px\"viewBox=\"0 0 24 24\"\n",
              "       width=\"24px\">\n",
              "    <path d=\"M0 0h24v24H0V0z\" fill=\"none\"/>\n",
              "    <path d=\"M18.56 5.44l.94 2.06.94-2.06 2.06-.94-2.06-.94-.94-2.06-.94 2.06-2.06.94zm-11 1L8.5 8.5l.94-2.06 2.06-.94-2.06-.94L8.5 2.5l-.94 2.06-2.06.94zm10 10l.94 2.06.94-2.06 2.06-.94-2.06-.94-.94-2.06-.94 2.06-2.06.94z\"/><path d=\"M17.41 7.96l-1.37-1.37c-.4-.4-.92-.59-1.43-.59-.52 0-1.04.2-1.43.59L10.3 9.45l-7.72 7.72c-.78.78-.78 2.05 0 2.83L4 21.41c.39.39.9.59 1.41.59.51 0 1.02-.2 1.41-.59l7.78-7.78 2.81-2.81c.8-.78.8-2.07 0-2.86zM5.41 20L4 18.59l7.72-7.72 1.47 1.35L5.41 20z\"/>\n",
              "  </svg>\n",
              "      </button>\n",
              "      \n",
              "  <style>\n",
              "    .colab-df-container {\n",
              "      display:flex;\n",
              "      flex-wrap:wrap;\n",
              "      gap: 12px;\n",
              "    }\n",
              "\n",
              "    .colab-df-convert {\n",
              "      background-color: #E8F0FE;\n",
              "      border: none;\n",
              "      border-radius: 50%;\n",
              "      cursor: pointer;\n",
              "      display: none;\n",
              "      fill: #1967D2;\n",
              "      height: 32px;\n",
              "      padding: 0 0 0 0;\n",
              "      width: 32px;\n",
              "    }\n",
              "\n",
              "    .colab-df-convert:hover {\n",
              "      background-color: #E2EBFA;\n",
              "      box-shadow: 0px 1px 2px rgba(60, 64, 67, 0.3), 0px 1px 3px 1px rgba(60, 64, 67, 0.15);\n",
              "      fill: #174EA6;\n",
              "    }\n",
              "\n",
              "    [theme=dark] .colab-df-convert {\n",
              "      background-color: #3B4455;\n",
              "      fill: #D2E3FC;\n",
              "    }\n",
              "\n",
              "    [theme=dark] .colab-df-convert:hover {\n",
              "      background-color: #434B5C;\n",
              "      box-shadow: 0px 1px 3px 1px rgba(0, 0, 0, 0.15);\n",
              "      filter: drop-shadow(0px 1px 2px rgba(0, 0, 0, 0.3));\n",
              "      fill: #FFFFFF;\n",
              "    }\n",
              "  </style>\n",
              "\n",
              "      <script>\n",
              "        const buttonEl =\n",
              "          document.querySelector('#df-9bc43a5a-d46a-4e63-9c9d-10280dd0e729 button.colab-df-convert');\n",
              "        buttonEl.style.display =\n",
              "          google.colab.kernel.accessAllowed ? 'block' : 'none';\n",
              "\n",
              "        async function convertToInteractive(key) {\n",
              "          const element = document.querySelector('#df-9bc43a5a-d46a-4e63-9c9d-10280dd0e729');\n",
              "          const dataTable =\n",
              "            await google.colab.kernel.invokeFunction('convertToInteractive',\n",
              "                                                     [key], {});\n",
              "          if (!dataTable) return;\n",
              "\n",
              "          const docLinkHtml = 'Like what you see? Visit the ' +\n",
              "            '<a target=\"_blank\" href=https://colab.research.google.com/notebooks/data_table.ipynb>data table notebook</a>'\n",
              "            + ' to learn more about interactive tables.';\n",
              "          element.innerHTML = '';\n",
              "          dataTable['output_type'] = 'display_data';\n",
              "          await google.colab.output.renderOutput(dataTable, element);\n",
              "          const docLink = document.createElement('div');\n",
              "          docLink.innerHTML = docLinkHtml;\n",
              "          element.appendChild(docLink);\n",
              "        }\n",
              "      </script>\n",
              "    </div>\n",
              "  </div>\n",
              "  "
            ]
          },
          "metadata": {},
          "execution_count": 276
        }
      ],
      "metadata": {
        "colab": {
          "base_uri": "https://localhost:8080/",
          "height": 206
        },
        "id": "SeBG98cy1StX",
        "outputId": "9a6ac606-0a92-4adc-ddc9-8105219470a7"
      }
    },
    {
      "cell_type": "code",
      "execution_count": 277,
      "source": [
        "testingLabelDataFrame.head()"
      ],
      "outputs": [
        {
          "output_type": "execute_result",
          "data": {
            "text/plain": [
              "        testingDataLabel  linearModelTestingDataPrediction  \\\n",
              "342181              13.5                         14.924132   \n",
              "258051              34.0                         29.322706   \n",
              "49557                6.5                          5.758739   \n",
              "452156              14.0                          9.287237   \n",
              "389891              16.5                         20.489344   \n",
              "\n",
              "        polynomialTestingDataPrediction  \n",
              "342181                        12.910435  \n",
              "258051                        31.315349  \n",
              "49557                          7.507133  \n",
              "452156                         9.447709  \n",
              "389891                        18.357814  "
            ],
            "text/html": [
              "\n",
              "  <div id=\"df-1f4e01bb-bd6d-4203-8438-7ff76594118c\">\n",
              "    <div class=\"colab-df-container\">\n",
              "      <div>\n",
              "<style scoped>\n",
              "    .dataframe tbody tr th:only-of-type {\n",
              "        vertical-align: middle;\n",
              "    }\n",
              "\n",
              "    .dataframe tbody tr th {\n",
              "        vertical-align: top;\n",
              "    }\n",
              "\n",
              "    .dataframe thead th {\n",
              "        text-align: right;\n",
              "    }\n",
              "</style>\n",
              "<table border=\"1\" class=\"dataframe\">\n",
              "  <thead>\n",
              "    <tr style=\"text-align: right;\">\n",
              "      <th></th>\n",
              "      <th>testingDataLabel</th>\n",
              "      <th>linearModelTestingDataPrediction</th>\n",
              "      <th>polynomialTestingDataPrediction</th>\n",
              "    </tr>\n",
              "  </thead>\n",
              "  <tbody>\n",
              "    <tr>\n",
              "      <th>342181</th>\n",
              "      <td>13.5</td>\n",
              "      <td>14.924132</td>\n",
              "      <td>12.910435</td>\n",
              "    </tr>\n",
              "    <tr>\n",
              "      <th>258051</th>\n",
              "      <td>34.0</td>\n",
              "      <td>29.322706</td>\n",
              "      <td>31.315349</td>\n",
              "    </tr>\n",
              "    <tr>\n",
              "      <th>49557</th>\n",
              "      <td>6.5</td>\n",
              "      <td>5.758739</td>\n",
              "      <td>7.507133</td>\n",
              "    </tr>\n",
              "    <tr>\n",
              "      <th>452156</th>\n",
              "      <td>14.0</td>\n",
              "      <td>9.287237</td>\n",
              "      <td>9.447709</td>\n",
              "    </tr>\n",
              "    <tr>\n",
              "      <th>389891</th>\n",
              "      <td>16.5</td>\n",
              "      <td>20.489344</td>\n",
              "      <td>18.357814</td>\n",
              "    </tr>\n",
              "  </tbody>\n",
              "</table>\n",
              "</div>\n",
              "      <button class=\"colab-df-convert\" onclick=\"convertToInteractive('df-1f4e01bb-bd6d-4203-8438-7ff76594118c')\"\n",
              "              title=\"Convert this dataframe to an interactive table.\"\n",
              "              style=\"display:none;\">\n",
              "        \n",
              "  <svg xmlns=\"http://www.w3.org/2000/svg\" height=\"24px\"viewBox=\"0 0 24 24\"\n",
              "       width=\"24px\">\n",
              "    <path d=\"M0 0h24v24H0V0z\" fill=\"none\"/>\n",
              "    <path d=\"M18.56 5.44l.94 2.06.94-2.06 2.06-.94-2.06-.94-.94-2.06-.94 2.06-2.06.94zm-11 1L8.5 8.5l.94-2.06 2.06-.94-2.06-.94L8.5 2.5l-.94 2.06-2.06.94zm10 10l.94 2.06.94-2.06 2.06-.94-2.06-.94-.94-2.06-.94 2.06-2.06.94z\"/><path d=\"M17.41 7.96l-1.37-1.37c-.4-.4-.92-.59-1.43-.59-.52 0-1.04.2-1.43.59L10.3 9.45l-7.72 7.72c-.78.78-.78 2.05 0 2.83L4 21.41c.39.39.9.59 1.41.59.51 0 1.02-.2 1.41-.59l7.78-7.78 2.81-2.81c.8-.78.8-2.07 0-2.86zM5.41 20L4 18.59l7.72-7.72 1.47 1.35L5.41 20z\"/>\n",
              "  </svg>\n",
              "      </button>\n",
              "      \n",
              "  <style>\n",
              "    .colab-df-container {\n",
              "      display:flex;\n",
              "      flex-wrap:wrap;\n",
              "      gap: 12px;\n",
              "    }\n",
              "\n",
              "    .colab-df-convert {\n",
              "      background-color: #E8F0FE;\n",
              "      border: none;\n",
              "      border-radius: 50%;\n",
              "      cursor: pointer;\n",
              "      display: none;\n",
              "      fill: #1967D2;\n",
              "      height: 32px;\n",
              "      padding: 0 0 0 0;\n",
              "      width: 32px;\n",
              "    }\n",
              "\n",
              "    .colab-df-convert:hover {\n",
              "      background-color: #E2EBFA;\n",
              "      box-shadow: 0px 1px 2px rgba(60, 64, 67, 0.3), 0px 1px 3px 1px rgba(60, 64, 67, 0.15);\n",
              "      fill: #174EA6;\n",
              "    }\n",
              "\n",
              "    [theme=dark] .colab-df-convert {\n",
              "      background-color: #3B4455;\n",
              "      fill: #D2E3FC;\n",
              "    }\n",
              "\n",
              "    [theme=dark] .colab-df-convert:hover {\n",
              "      background-color: #434B5C;\n",
              "      box-shadow: 0px 1px 3px 1px rgba(0, 0, 0, 0.15);\n",
              "      filter: drop-shadow(0px 1px 2px rgba(0, 0, 0, 0.3));\n",
              "      fill: #FFFFFF;\n",
              "    }\n",
              "  </style>\n",
              "\n",
              "      <script>\n",
              "        const buttonEl =\n",
              "          document.querySelector('#df-1f4e01bb-bd6d-4203-8438-7ff76594118c button.colab-df-convert');\n",
              "        buttonEl.style.display =\n",
              "          google.colab.kernel.accessAllowed ? 'block' : 'none';\n",
              "\n",
              "        async function convertToInteractive(key) {\n",
              "          const element = document.querySelector('#df-1f4e01bb-bd6d-4203-8438-7ff76594118c');\n",
              "          const dataTable =\n",
              "            await google.colab.kernel.invokeFunction('convertToInteractive',\n",
              "                                                     [key], {});\n",
              "          if (!dataTable) return;\n",
              "\n",
              "          const docLinkHtml = 'Like what you see? Visit the ' +\n",
              "            '<a target=\"_blank\" href=https://colab.research.google.com/notebooks/data_table.ipynb>data table notebook</a>'\n",
              "            + ' to learn more about interactive tables.';\n",
              "          element.innerHTML = '';\n",
              "          dataTable['output_type'] = 'display_data';\n",
              "          await google.colab.output.renderOutput(dataTable, element);\n",
              "          const docLink = document.createElement('div');\n",
              "          docLink.innerHTML = docLinkHtml;\n",
              "          element.appendChild(docLink);\n",
              "        }\n",
              "      </script>\n",
              "    </div>\n",
              "  </div>\n",
              "  "
            ]
          },
          "metadata": {},
          "execution_count": 277
        }
      ],
      "metadata": {
        "colab": {
          "base_uri": "https://localhost:8080/",
          "height": 206
        },
        "id": "ueweK4XP1StX",
        "outputId": "2c70f587-1af7-4c93-d5df-532aa8a4b881"
      }
    }
  ],
  "metadata": {
    "colab": {
      "name": "ML Project.ipynb",
      "provenance": [],
      "collapsed_sections": [
        "FxAg-M9rgEwS",
        "b5cZp83vgEwh",
        "BCkljrZhgEwm",
        "b1_DvW9dgEwv",
        "vXWmLCUdgExD",
        "bX0qzKlkgExH"
      ]
    },
    "interpreter": {
      "hash": "916dbcbb3f70747c44a77c7bcd40155683ae19c65e1c03b4aa3499c5328201f1"
    },
    "kernelspec": {
      "name": "python3",
      "display_name": "Python 3.9.5 64-bit"
    },
    "language_info": {
      "codemirror_mode": {
        "name": "ipython",
        "version": 3
      },
      "file_extension": ".py",
      "mimetype": "text/x-python",
      "name": "python",
      "nbconvert_exporter": "python",
      "pygments_lexer": "ipython3",
      "version": "3.9.5"
    }
  },
  "nbformat": 4,
  "nbformat_minor": 0
}